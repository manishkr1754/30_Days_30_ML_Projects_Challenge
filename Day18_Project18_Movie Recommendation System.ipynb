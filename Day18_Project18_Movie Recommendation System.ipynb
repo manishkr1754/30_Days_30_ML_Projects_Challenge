{
 "cells": [
  {
   "cell_type": "markdown",
   "id": "37fec4d1",
   "metadata": {},
   "source": [
    "---\n",
    "<center><h1>Movie Recommendation System</h1></center>\n",
    "<center><h3>Part of 30 Days 30 ML Projects Challenge</h3></center>\n",
    "\n",
    "---"
   ]
  },
  {
   "cell_type": "markdown",
   "id": "d775d05a",
   "metadata": {},
   "source": [
    "## 1) Understanding Problem Statement\n",
    "---\n",
    "\n",
    "In today's era of digital entertainment, the vast array of available movies and TV shows can overwhelm viewers when choosing what to watch. This project aims to tackle this issue through the development of a movie recommendation system, leveraging the power of data science and machine learning.\n",
    "\n",
    "The problem can be classified as a **Recommendation System Machine Learning Problem**. The primary goal is **to construct a predictive model capable of suggesting personalized movie recommendations to users**. This model will analyze historical user preferences, movie ratings, and viewing habits to provide tailored movie suggestions. Additionally, it involves the application of **Collaborative Filtering**, **Content-Based Filtering**, or hybrid approaches to enhance recommendation accuracy.\n",
    "\n",
    "By employing advanced recommendation algorithms and data analysis, this project seeks to simplify the decision-making process for viewers, enriching their entertainment experience while simultaneously demonstrating the practical use of machine learning in content recommendation systems."
   ]
  },
  {
   "cell_type": "markdown",
   "id": "851854e1",
   "metadata": {},
   "source": [
    "## 2) Understanding Data\n",
    "---\n",
    "\n",
    "The project uses **Movies Data** which contains several variables (independent variables) and the outcome variable or dependent variable."
   ]
  },
  {
   "cell_type": "markdown",
   "id": "591aad18",
   "metadata": {},
   "source": [
    "## 3) Getting System Ready\n",
    "---\n",
    "Importing required libraries\n"
   ]
  },
  {
   "cell_type": "code",
   "execution_count": 34,
   "id": "553f6b66",
   "metadata": {},
   "outputs": [],
   "source": [
    "import numpy as np\n",
    "import pandas as pd\n",
    "\n",
    "# for text data preprocessing\n",
    "import re\n",
    "from nltk.corpus import stopwords\n",
    "from nltk.stem.porter import PorterStemmer\n",
    "from sklearn.feature_extraction.text import TfidfVectorizer\n",
    "from sklearn.metrics.pairwise import cosine_similarity\n",
    "import difflib\n",
    "\n",
    "# for model buidling\n",
    "from sklearn.preprocessing import StandardScaler\n",
    "from sklearn.model_selection import train_test_split, RandomizedSearchCV\n",
    "from sklearn.linear_model import LogisticRegression\n",
    "from sklearn.svm import SVC\n",
    "from sklearn.tree import DecisionTreeClassifier\n",
    "from sklearn.ensemble import RandomForestClassifier\n",
    "from sklearn.metrics import accuracy_score, precision_score, recall_score, f1_score, confusion_matrix"
   ]
  },
  {
   "cell_type": "markdown",
   "id": "d146d3a0",
   "metadata": {},
   "source": [
    "### Downloading stop words for text preprocessing"
   ]
  },
  {
   "cell_type": "code",
   "execution_count": 2,
   "id": "3499a881",
   "metadata": {},
   "outputs": [
    {
     "name": "stderr",
     "output_type": "stream",
     "text": [
      "[nltk_data] Downloading package stopwords to\n",
      "[nltk_data]     C:\\Users\\manis\\AppData\\Roaming\\nltk_data...\n",
      "[nltk_data]   Package stopwords is already up-to-date!\n"
     ]
    },
    {
     "data": {
      "text/plain": [
       "True"
      ]
     },
     "execution_count": 2,
     "metadata": {},
     "output_type": "execute_result"
    }
   ],
   "source": [
    "import nltk\n",
    "nltk.download('stopwords')"
   ]
  },
  {
   "cell_type": "code",
   "execution_count": 3,
   "id": "bc31baeb",
   "metadata": {},
   "outputs": [
    {
     "name": "stdout",
     "output_type": "stream",
     "text": [
      "['i', 'me', 'my', 'myself', 'we', 'our', 'ours', 'ourselves', 'you', \"you're\", \"you've\", \"you'll\", \"you'd\", 'your', 'yours', 'yourself', 'yourselves', 'he', 'him', 'his', 'himself', 'she', \"she's\", 'her', 'hers', 'herself', 'it', \"it's\", 'its', 'itself', 'they', 'them', 'their', 'theirs', 'themselves', 'what', 'which', 'who', 'whom', 'this', 'that', \"that'll\", 'these', 'those', 'am', 'is', 'are', 'was', 'were', 'be', 'been', 'being', 'have', 'has', 'had', 'having', 'do', 'does', 'did', 'doing', 'a', 'an', 'the', 'and', 'but', 'if', 'or', 'because', 'as', 'until', 'while', 'of', 'at', 'by', 'for', 'with', 'about', 'against', 'between', 'into', 'through', 'during', 'before', 'after', 'above', 'below', 'to', 'from', 'up', 'down', 'in', 'out', 'on', 'off', 'over', 'under', 'again', 'further', 'then', 'once', 'here', 'there', 'when', 'where', 'why', 'how', 'all', 'any', 'both', 'each', 'few', 'more', 'most', 'other', 'some', 'such', 'no', 'nor', 'not', 'only', 'own', 'same', 'so', 'than', 'too', 'very', 's', 't', 'can', 'will', 'just', 'don', \"don't\", 'should', \"should've\", 'now', 'd', 'll', 'm', 'o', 're', 've', 'y', 'ain', 'aren', \"aren't\", 'couldn', \"couldn't\", 'didn', \"didn't\", 'doesn', \"doesn't\", 'hadn', \"hadn't\", 'hasn', \"hasn't\", 'haven', \"haven't\", 'isn', \"isn't\", 'ma', 'mightn', \"mightn't\", 'mustn', \"mustn't\", 'needn', \"needn't\", 'shan', \"shan't\", 'shouldn', \"shouldn't\", 'wasn', \"wasn't\", 'weren', \"weren't\", 'won', \"won't\", 'wouldn', \"wouldn't\"]\n"
     ]
    }
   ],
   "source": [
    "# printing the stopwords in English\n",
    "print(stopwords.words('english'))"
   ]
  },
  {
   "cell_type": "markdown",
   "id": "71cc7be4",
   "metadata": {},
   "source": [
    "## 4) Data Eyeballing\n",
    "---"
   ]
  },
  {
   "cell_type": "markdown",
   "id": "a808fc24",
   "metadata": {},
   "source": [
    "### Laoding Data"
   ]
  },
  {
   "cell_type": "code",
   "execution_count": 4,
   "id": "3d5b4d9e",
   "metadata": {},
   "outputs": [],
   "source": [
    "movies_data = pd.read_csv('Datasets/Day18_Movies_Data.csv') "
   ]
  },
  {
   "cell_type": "code",
   "execution_count": 5,
   "id": "08888d06",
   "metadata": {},
   "outputs": [
    {
     "data": {
      "text/html": [
       "<div>\n",
       "<style scoped>\n",
       "    .dataframe tbody tr th:only-of-type {\n",
       "        vertical-align: middle;\n",
       "    }\n",
       "\n",
       "    .dataframe tbody tr th {\n",
       "        vertical-align: top;\n",
       "    }\n",
       "\n",
       "    .dataframe thead th {\n",
       "        text-align: right;\n",
       "    }\n",
       "</style>\n",
       "<table border=\"1\" class=\"dataframe\">\n",
       "  <thead>\n",
       "    <tr style=\"text-align: right;\">\n",
       "      <th></th>\n",
       "      <th>index</th>\n",
       "      <th>budget</th>\n",
       "      <th>genres</th>\n",
       "      <th>homepage</th>\n",
       "      <th>id</th>\n",
       "      <th>keywords</th>\n",
       "      <th>original_language</th>\n",
       "      <th>original_title</th>\n",
       "      <th>overview</th>\n",
       "      <th>popularity</th>\n",
       "      <th>...</th>\n",
       "      <th>runtime</th>\n",
       "      <th>spoken_languages</th>\n",
       "      <th>status</th>\n",
       "      <th>tagline</th>\n",
       "      <th>title</th>\n",
       "      <th>vote_average</th>\n",
       "      <th>vote_count</th>\n",
       "      <th>cast</th>\n",
       "      <th>crew</th>\n",
       "      <th>director</th>\n",
       "    </tr>\n",
       "  </thead>\n",
       "  <tbody>\n",
       "    <tr>\n",
       "      <th>0</th>\n",
       "      <td>0</td>\n",
       "      <td>237000000</td>\n",
       "      <td>Action Adventure Fantasy Science Fiction</td>\n",
       "      <td>http://www.avatarmovie.com/</td>\n",
       "      <td>19995</td>\n",
       "      <td>culture clash future space war space colony so...</td>\n",
       "      <td>en</td>\n",
       "      <td>Avatar</td>\n",
       "      <td>In the 22nd century, a paraplegic Marine is di...</td>\n",
       "      <td>150.437577</td>\n",
       "      <td>...</td>\n",
       "      <td>162.0</td>\n",
       "      <td>[{\"iso_639_1\": \"en\", \"name\": \"English\"}, {\"iso...</td>\n",
       "      <td>Released</td>\n",
       "      <td>Enter the World of Pandora.</td>\n",
       "      <td>Avatar</td>\n",
       "      <td>7.2</td>\n",
       "      <td>11800</td>\n",
       "      <td>Sam Worthington Zoe Saldana Sigourney Weaver S...</td>\n",
       "      <td>[{'name': 'Stephen E. Rivkin', 'gender': 0, 'd...</td>\n",
       "      <td>James Cameron</td>\n",
       "    </tr>\n",
       "    <tr>\n",
       "      <th>1</th>\n",
       "      <td>1</td>\n",
       "      <td>300000000</td>\n",
       "      <td>Adventure Fantasy Action</td>\n",
       "      <td>http://disney.go.com/disneypictures/pirates/</td>\n",
       "      <td>285</td>\n",
       "      <td>ocean drug abuse exotic island east india trad...</td>\n",
       "      <td>en</td>\n",
       "      <td>Pirates of the Caribbean: At World's End</td>\n",
       "      <td>Captain Barbossa, long believed to be dead, ha...</td>\n",
       "      <td>139.082615</td>\n",
       "      <td>...</td>\n",
       "      <td>169.0</td>\n",
       "      <td>[{\"iso_639_1\": \"en\", \"name\": \"English\"}]</td>\n",
       "      <td>Released</td>\n",
       "      <td>At the end of the world, the adventure begins.</td>\n",
       "      <td>Pirates of the Caribbean: At World's End</td>\n",
       "      <td>6.9</td>\n",
       "      <td>4500</td>\n",
       "      <td>Johnny Depp Orlando Bloom Keira Knightley Stel...</td>\n",
       "      <td>[{'name': 'Dariusz Wolski', 'gender': 2, 'depa...</td>\n",
       "      <td>Gore Verbinski</td>\n",
       "    </tr>\n",
       "    <tr>\n",
       "      <th>2</th>\n",
       "      <td>2</td>\n",
       "      <td>245000000</td>\n",
       "      <td>Action Adventure Crime</td>\n",
       "      <td>http://www.sonypictures.com/movies/spectre/</td>\n",
       "      <td>206647</td>\n",
       "      <td>spy based on novel secret agent sequel mi6</td>\n",
       "      <td>en</td>\n",
       "      <td>Spectre</td>\n",
       "      <td>A cryptic message from Bond’s past sends him o...</td>\n",
       "      <td>107.376788</td>\n",
       "      <td>...</td>\n",
       "      <td>148.0</td>\n",
       "      <td>[{\"iso_639_1\": \"fr\", \"name\": \"Fran\\u00e7ais\"},...</td>\n",
       "      <td>Released</td>\n",
       "      <td>A Plan No One Escapes</td>\n",
       "      <td>Spectre</td>\n",
       "      <td>6.3</td>\n",
       "      <td>4466</td>\n",
       "      <td>Daniel Craig Christoph Waltz L\\u00e9a Seydoux ...</td>\n",
       "      <td>[{'name': 'Thomas Newman', 'gender': 2, 'depar...</td>\n",
       "      <td>Sam Mendes</td>\n",
       "    </tr>\n",
       "    <tr>\n",
       "      <th>3</th>\n",
       "      <td>3</td>\n",
       "      <td>250000000</td>\n",
       "      <td>Action Crime Drama Thriller</td>\n",
       "      <td>http://www.thedarkknightrises.com/</td>\n",
       "      <td>49026</td>\n",
       "      <td>dc comics crime fighter terrorist secret ident...</td>\n",
       "      <td>en</td>\n",
       "      <td>The Dark Knight Rises</td>\n",
       "      <td>Following the death of District Attorney Harve...</td>\n",
       "      <td>112.312950</td>\n",
       "      <td>...</td>\n",
       "      <td>165.0</td>\n",
       "      <td>[{\"iso_639_1\": \"en\", \"name\": \"English\"}]</td>\n",
       "      <td>Released</td>\n",
       "      <td>The Legend Ends</td>\n",
       "      <td>The Dark Knight Rises</td>\n",
       "      <td>7.6</td>\n",
       "      <td>9106</td>\n",
       "      <td>Christian Bale Michael Caine Gary Oldman Anne ...</td>\n",
       "      <td>[{'name': 'Hans Zimmer', 'gender': 2, 'departm...</td>\n",
       "      <td>Christopher Nolan</td>\n",
       "    </tr>\n",
       "    <tr>\n",
       "      <th>4</th>\n",
       "      <td>4</td>\n",
       "      <td>260000000</td>\n",
       "      <td>Action Adventure Science Fiction</td>\n",
       "      <td>http://movies.disney.com/john-carter</td>\n",
       "      <td>49529</td>\n",
       "      <td>based on novel mars medallion space travel pri...</td>\n",
       "      <td>en</td>\n",
       "      <td>John Carter</td>\n",
       "      <td>John Carter is a war-weary, former military ca...</td>\n",
       "      <td>43.926995</td>\n",
       "      <td>...</td>\n",
       "      <td>132.0</td>\n",
       "      <td>[{\"iso_639_1\": \"en\", \"name\": \"English\"}]</td>\n",
       "      <td>Released</td>\n",
       "      <td>Lost in our world, found in another.</td>\n",
       "      <td>John Carter</td>\n",
       "      <td>6.1</td>\n",
       "      <td>2124</td>\n",
       "      <td>Taylor Kitsch Lynn Collins Samantha Morton Wil...</td>\n",
       "      <td>[{'name': 'Andrew Stanton', 'gender': 2, 'depa...</td>\n",
       "      <td>Andrew Stanton</td>\n",
       "    </tr>\n",
       "    <tr>\n",
       "      <th>...</th>\n",
       "      <td>...</td>\n",
       "      <td>...</td>\n",
       "      <td>...</td>\n",
       "      <td>...</td>\n",
       "      <td>...</td>\n",
       "      <td>...</td>\n",
       "      <td>...</td>\n",
       "      <td>...</td>\n",
       "      <td>...</td>\n",
       "      <td>...</td>\n",
       "      <td>...</td>\n",
       "      <td>...</td>\n",
       "      <td>...</td>\n",
       "      <td>...</td>\n",
       "      <td>...</td>\n",
       "      <td>...</td>\n",
       "      <td>...</td>\n",
       "      <td>...</td>\n",
       "      <td>...</td>\n",
       "      <td>...</td>\n",
       "      <td>...</td>\n",
       "    </tr>\n",
       "    <tr>\n",
       "      <th>4798</th>\n",
       "      <td>4798</td>\n",
       "      <td>220000</td>\n",
       "      <td>Action Crime Thriller</td>\n",
       "      <td>NaN</td>\n",
       "      <td>9367</td>\n",
       "      <td>united states\\u2013mexico barrier legs arms pa...</td>\n",
       "      <td>es</td>\n",
       "      <td>El Mariachi</td>\n",
       "      <td>El Mariachi just wants to play his guitar and ...</td>\n",
       "      <td>14.269792</td>\n",
       "      <td>...</td>\n",
       "      <td>81.0</td>\n",
       "      <td>[{\"iso_639_1\": \"es\", \"name\": \"Espa\\u00f1ol\"}]</td>\n",
       "      <td>Released</td>\n",
       "      <td>He didn't come looking for trouble, but troubl...</td>\n",
       "      <td>El Mariachi</td>\n",
       "      <td>6.6</td>\n",
       "      <td>238</td>\n",
       "      <td>Carlos Gallardo Jaime de Hoyos Peter Marquardt...</td>\n",
       "      <td>[{'name': 'Robert Rodriguez', 'gender': 0, 'de...</td>\n",
       "      <td>Robert Rodriguez</td>\n",
       "    </tr>\n",
       "    <tr>\n",
       "      <th>4799</th>\n",
       "      <td>4799</td>\n",
       "      <td>9000</td>\n",
       "      <td>Comedy Romance</td>\n",
       "      <td>NaN</td>\n",
       "      <td>72766</td>\n",
       "      <td>NaN</td>\n",
       "      <td>en</td>\n",
       "      <td>Newlyweds</td>\n",
       "      <td>A newlywed couple's honeymoon is upended by th...</td>\n",
       "      <td>0.642552</td>\n",
       "      <td>...</td>\n",
       "      <td>85.0</td>\n",
       "      <td>[]</td>\n",
       "      <td>Released</td>\n",
       "      <td>A newlywed couple's honeymoon is upended by th...</td>\n",
       "      <td>Newlyweds</td>\n",
       "      <td>5.9</td>\n",
       "      <td>5</td>\n",
       "      <td>Edward Burns Kerry Bish\\u00e9 Marsha Dietlein ...</td>\n",
       "      <td>[{'name': 'Edward Burns', 'gender': 2, 'depart...</td>\n",
       "      <td>Edward Burns</td>\n",
       "    </tr>\n",
       "    <tr>\n",
       "      <th>4800</th>\n",
       "      <td>4800</td>\n",
       "      <td>0</td>\n",
       "      <td>Comedy Drama Romance TV Movie</td>\n",
       "      <td>http://www.hallmarkchannel.com/signedsealeddel...</td>\n",
       "      <td>231617</td>\n",
       "      <td>date love at first sight narration investigati...</td>\n",
       "      <td>en</td>\n",
       "      <td>Signed, Sealed, Delivered</td>\n",
       "      <td>\"Signed, Sealed, Delivered\" introduces a dedic...</td>\n",
       "      <td>1.444476</td>\n",
       "      <td>...</td>\n",
       "      <td>120.0</td>\n",
       "      <td>[{\"iso_639_1\": \"en\", \"name\": \"English\"}]</td>\n",
       "      <td>Released</td>\n",
       "      <td>NaN</td>\n",
       "      <td>Signed, Sealed, Delivered</td>\n",
       "      <td>7.0</td>\n",
       "      <td>6</td>\n",
       "      <td>Eric Mabius Kristin Booth Crystal Lowe Geoff G...</td>\n",
       "      <td>[{'name': 'Carla Hetland', 'gender': 0, 'depar...</td>\n",
       "      <td>Scott Smith</td>\n",
       "    </tr>\n",
       "    <tr>\n",
       "      <th>4801</th>\n",
       "      <td>4801</td>\n",
       "      <td>0</td>\n",
       "      <td>NaN</td>\n",
       "      <td>http://shanghaicalling.com/</td>\n",
       "      <td>126186</td>\n",
       "      <td>NaN</td>\n",
       "      <td>en</td>\n",
       "      <td>Shanghai Calling</td>\n",
       "      <td>When ambitious New York attorney Sam is sent t...</td>\n",
       "      <td>0.857008</td>\n",
       "      <td>...</td>\n",
       "      <td>98.0</td>\n",
       "      <td>[{\"iso_639_1\": \"en\", \"name\": \"English\"}]</td>\n",
       "      <td>Released</td>\n",
       "      <td>A New Yorker in Shanghai</td>\n",
       "      <td>Shanghai Calling</td>\n",
       "      <td>5.7</td>\n",
       "      <td>7</td>\n",
       "      <td>Daniel Henney Eliza Coupe Bill Paxton Alan Ruc...</td>\n",
       "      <td>[{'name': 'Daniel Hsia', 'gender': 2, 'departm...</td>\n",
       "      <td>Daniel Hsia</td>\n",
       "    </tr>\n",
       "    <tr>\n",
       "      <th>4802</th>\n",
       "      <td>4802</td>\n",
       "      <td>0</td>\n",
       "      <td>Documentary</td>\n",
       "      <td>NaN</td>\n",
       "      <td>25975</td>\n",
       "      <td>obsession camcorder crush dream girl</td>\n",
       "      <td>en</td>\n",
       "      <td>My Date with Drew</td>\n",
       "      <td>Ever since the second grade when he first saw ...</td>\n",
       "      <td>1.929883</td>\n",
       "      <td>...</td>\n",
       "      <td>90.0</td>\n",
       "      <td>[{\"iso_639_1\": \"en\", \"name\": \"English\"}]</td>\n",
       "      <td>Released</td>\n",
       "      <td>NaN</td>\n",
       "      <td>My Date with Drew</td>\n",
       "      <td>6.3</td>\n",
       "      <td>16</td>\n",
       "      <td>Drew Barrymore Brian Herzlinger Corey Feldman ...</td>\n",
       "      <td>[{'name': 'Clark Peterson', 'gender': 2, 'depa...</td>\n",
       "      <td>Brian Herzlinger</td>\n",
       "    </tr>\n",
       "  </tbody>\n",
       "</table>\n",
       "<p>4803 rows × 24 columns</p>\n",
       "</div>"
      ],
      "text/plain": [
       "      index     budget                                    genres   \n",
       "0         0  237000000  Action Adventure Fantasy Science Fiction  \\\n",
       "1         1  300000000                  Adventure Fantasy Action   \n",
       "2         2  245000000                    Action Adventure Crime   \n",
       "3         3  250000000               Action Crime Drama Thriller   \n",
       "4         4  260000000          Action Adventure Science Fiction   \n",
       "...     ...        ...                                       ...   \n",
       "4798   4798     220000                     Action Crime Thriller   \n",
       "4799   4799       9000                            Comedy Romance   \n",
       "4800   4800          0             Comedy Drama Romance TV Movie   \n",
       "4801   4801          0                                       NaN   \n",
       "4802   4802          0                               Documentary   \n",
       "\n",
       "                                               homepage      id   \n",
       "0                           http://www.avatarmovie.com/   19995  \\\n",
       "1          http://disney.go.com/disneypictures/pirates/     285   \n",
       "2           http://www.sonypictures.com/movies/spectre/  206647   \n",
       "3                    http://www.thedarkknightrises.com/   49026   \n",
       "4                  http://movies.disney.com/john-carter   49529   \n",
       "...                                                 ...     ...   \n",
       "4798                                                NaN    9367   \n",
       "4799                                                NaN   72766   \n",
       "4800  http://www.hallmarkchannel.com/signedsealeddel...  231617   \n",
       "4801                        http://shanghaicalling.com/  126186   \n",
       "4802                                                NaN   25975   \n",
       "\n",
       "                                               keywords original_language   \n",
       "0     culture clash future space war space colony so...                en  \\\n",
       "1     ocean drug abuse exotic island east india trad...                en   \n",
       "2            spy based on novel secret agent sequel mi6                en   \n",
       "3     dc comics crime fighter terrorist secret ident...                en   \n",
       "4     based on novel mars medallion space travel pri...                en   \n",
       "...                                                 ...               ...   \n",
       "4798  united states\\u2013mexico barrier legs arms pa...                es   \n",
       "4799                                                NaN                en   \n",
       "4800  date love at first sight narration investigati...                en   \n",
       "4801                                                NaN                en   \n",
       "4802               obsession camcorder crush dream girl                en   \n",
       "\n",
       "                                original_title   \n",
       "0                                       Avatar  \\\n",
       "1     Pirates of the Caribbean: At World's End   \n",
       "2                                      Spectre   \n",
       "3                        The Dark Knight Rises   \n",
       "4                                  John Carter   \n",
       "...                                        ...   \n",
       "4798                               El Mariachi   \n",
       "4799                                 Newlyweds   \n",
       "4800                 Signed, Sealed, Delivered   \n",
       "4801                          Shanghai Calling   \n",
       "4802                         My Date with Drew   \n",
       "\n",
       "                                               overview  popularity  ...   \n",
       "0     In the 22nd century, a paraplegic Marine is di...  150.437577  ...  \\\n",
       "1     Captain Barbossa, long believed to be dead, ha...  139.082615  ...   \n",
       "2     A cryptic message from Bond’s past sends him o...  107.376788  ...   \n",
       "3     Following the death of District Attorney Harve...  112.312950  ...   \n",
       "4     John Carter is a war-weary, former military ca...   43.926995  ...   \n",
       "...                                                 ...         ...  ...   \n",
       "4798  El Mariachi just wants to play his guitar and ...   14.269792  ...   \n",
       "4799  A newlywed couple's honeymoon is upended by th...    0.642552  ...   \n",
       "4800  \"Signed, Sealed, Delivered\" introduces a dedic...    1.444476  ...   \n",
       "4801  When ambitious New York attorney Sam is sent t...    0.857008  ...   \n",
       "4802  Ever since the second grade when he first saw ...    1.929883  ...   \n",
       "\n",
       "     runtime                                   spoken_languages    status   \n",
       "0      162.0  [{\"iso_639_1\": \"en\", \"name\": \"English\"}, {\"iso...  Released  \\\n",
       "1      169.0           [{\"iso_639_1\": \"en\", \"name\": \"English\"}]  Released   \n",
       "2      148.0  [{\"iso_639_1\": \"fr\", \"name\": \"Fran\\u00e7ais\"},...  Released   \n",
       "3      165.0           [{\"iso_639_1\": \"en\", \"name\": \"English\"}]  Released   \n",
       "4      132.0           [{\"iso_639_1\": \"en\", \"name\": \"English\"}]  Released   \n",
       "...      ...                                                ...       ...   \n",
       "4798    81.0      [{\"iso_639_1\": \"es\", \"name\": \"Espa\\u00f1ol\"}]  Released   \n",
       "4799    85.0                                                 []  Released   \n",
       "4800   120.0           [{\"iso_639_1\": \"en\", \"name\": \"English\"}]  Released   \n",
       "4801    98.0           [{\"iso_639_1\": \"en\", \"name\": \"English\"}]  Released   \n",
       "4802    90.0           [{\"iso_639_1\": \"en\", \"name\": \"English\"}]  Released   \n",
       "\n",
       "                                                tagline   \n",
       "0                           Enter the World of Pandora.  \\\n",
       "1        At the end of the world, the adventure begins.   \n",
       "2                                 A Plan No One Escapes   \n",
       "3                                       The Legend Ends   \n",
       "4                  Lost in our world, found in another.   \n",
       "...                                                 ...   \n",
       "4798  He didn't come looking for trouble, but troubl...   \n",
       "4799  A newlywed couple's honeymoon is upended by th...   \n",
       "4800                                                NaN   \n",
       "4801                           A New Yorker in Shanghai   \n",
       "4802                                                NaN   \n",
       "\n",
       "                                         title vote_average vote_count   \n",
       "0                                       Avatar          7.2      11800  \\\n",
       "1     Pirates of the Caribbean: At World's End          6.9       4500   \n",
       "2                                      Spectre          6.3       4466   \n",
       "3                        The Dark Knight Rises          7.6       9106   \n",
       "4                                  John Carter          6.1       2124   \n",
       "...                                        ...          ...        ...   \n",
       "4798                               El Mariachi          6.6        238   \n",
       "4799                                 Newlyweds          5.9          5   \n",
       "4800                 Signed, Sealed, Delivered          7.0          6   \n",
       "4801                          Shanghai Calling          5.7          7   \n",
       "4802                         My Date with Drew          6.3         16   \n",
       "\n",
       "                                                   cast   \n",
       "0     Sam Worthington Zoe Saldana Sigourney Weaver S...  \\\n",
       "1     Johnny Depp Orlando Bloom Keira Knightley Stel...   \n",
       "2     Daniel Craig Christoph Waltz L\\u00e9a Seydoux ...   \n",
       "3     Christian Bale Michael Caine Gary Oldman Anne ...   \n",
       "4     Taylor Kitsch Lynn Collins Samantha Morton Wil...   \n",
       "...                                                 ...   \n",
       "4798  Carlos Gallardo Jaime de Hoyos Peter Marquardt...   \n",
       "4799  Edward Burns Kerry Bish\\u00e9 Marsha Dietlein ...   \n",
       "4800  Eric Mabius Kristin Booth Crystal Lowe Geoff G...   \n",
       "4801  Daniel Henney Eliza Coupe Bill Paxton Alan Ruc...   \n",
       "4802  Drew Barrymore Brian Herzlinger Corey Feldman ...   \n",
       "\n",
       "                                                   crew           director  \n",
       "0     [{'name': 'Stephen E. Rivkin', 'gender': 0, 'd...      James Cameron  \n",
       "1     [{'name': 'Dariusz Wolski', 'gender': 2, 'depa...     Gore Verbinski  \n",
       "2     [{'name': 'Thomas Newman', 'gender': 2, 'depar...         Sam Mendes  \n",
       "3     [{'name': 'Hans Zimmer', 'gender': 2, 'departm...  Christopher Nolan  \n",
       "4     [{'name': 'Andrew Stanton', 'gender': 2, 'depa...     Andrew Stanton  \n",
       "...                                                 ...                ...  \n",
       "4798  [{'name': 'Robert Rodriguez', 'gender': 0, 'de...   Robert Rodriguez  \n",
       "4799  [{'name': 'Edward Burns', 'gender': 2, 'depart...       Edward Burns  \n",
       "4800  [{'name': 'Carla Hetland', 'gender': 0, 'depar...        Scott Smith  \n",
       "4801  [{'name': 'Daniel Hsia', 'gender': 2, 'departm...        Daniel Hsia  \n",
       "4802  [{'name': 'Clark Peterson', 'gender': 2, 'depa...   Brian Herzlinger  \n",
       "\n",
       "[4803 rows x 24 columns]"
      ]
     },
     "execution_count": 5,
     "metadata": {},
     "output_type": "execute_result"
    }
   ],
   "source": [
    "movies_data"
   ]
  },
  {
   "cell_type": "code",
   "execution_count": 6,
   "id": "36448130",
   "metadata": {},
   "outputs": [
    {
     "name": "stdout",
     "output_type": "stream",
     "text": [
      "The size of Dataframe is:  (4803, 24)\n",
      "----------------------------------------------------------------------------------------------------\n",
      "The Column Name, Record Count and Data Types are as follows: \n",
      "<class 'pandas.core.frame.DataFrame'>\n",
      "RangeIndex: 4803 entries, 0 to 4802\n",
      "Data columns (total 24 columns):\n",
      " #   Column                Non-Null Count  Dtype  \n",
      "---  ------                --------------  -----  \n",
      " 0   index                 4803 non-null   int64  \n",
      " 1   budget                4803 non-null   int64  \n",
      " 2   genres                4775 non-null   object \n",
      " 3   homepage              1712 non-null   object \n",
      " 4   id                    4803 non-null   int64  \n",
      " 5   keywords              4391 non-null   object \n",
      " 6   original_language     4803 non-null   object \n",
      " 7   original_title        4803 non-null   object \n",
      " 8   overview              4800 non-null   object \n",
      " 9   popularity            4803 non-null   float64\n",
      " 10  production_companies  4803 non-null   object \n",
      " 11  production_countries  4803 non-null   object \n",
      " 12  release_date          4802 non-null   object \n",
      " 13  revenue               4803 non-null   int64  \n",
      " 14  runtime               4801 non-null   float64\n",
      " 15  spoken_languages      4803 non-null   object \n",
      " 16  status                4803 non-null   object \n",
      " 17  tagline               3959 non-null   object \n",
      " 18  title                 4803 non-null   object \n",
      " 19  vote_average          4803 non-null   float64\n",
      " 20  vote_count            4803 non-null   int64  \n",
      " 21  cast                  4760 non-null   object \n",
      " 22  crew                  4803 non-null   object \n",
      " 23  director              4773 non-null   object \n",
      "dtypes: float64(3), int64(5), object(16)\n",
      "memory usage: 900.7+ KB\n",
      "----------------------------------------------------------------------------------------------------\n"
     ]
    }
   ],
   "source": [
    "print('The size of Dataframe is: ', movies_data.shape)\n",
    "print('-'*100)\n",
    "print('The Column Name, Record Count and Data Types are as follows: ')\n",
    "movies_data.info()\n",
    "print('-'*100)"
   ]
  },
  {
   "cell_type": "code",
   "execution_count": 7,
   "id": "bcb246a9",
   "metadata": {},
   "outputs": [
    {
     "name": "stdout",
     "output_type": "stream",
     "text": [
      "We have 8 numerical features : ['index', 'budget', 'id', 'popularity', 'revenue', 'runtime', 'vote_average', 'vote_count']\n",
      "\n",
      "We have 16 categorical features : ['genres', 'homepage', 'keywords', 'original_language', 'original_title', 'overview', 'production_companies', 'production_countries', 'release_date', 'spoken_languages', 'status', 'tagline', 'title', 'cast', 'crew', 'director']\n"
     ]
    }
   ],
   "source": [
    "# Defining numerical & categorical columns\n",
    "numeric_features = [feature for feature in movies_data.columns if movies_data[feature].dtype != 'O']\n",
    "categorical_features = [feature for feature in movies_data.columns if movies_data[feature].dtype == 'O']\n",
    "\n",
    "# print columns\n",
    "print('We have {} numerical features : {}'.format(len(numeric_features), numeric_features))\n",
    "print('\\nWe have {} categorical features : {}'.format(len(categorical_features), categorical_features))"
   ]
  },
  {
   "cell_type": "code",
   "execution_count": 8,
   "id": "acf59531",
   "metadata": {},
   "outputs": [
    {
     "name": "stdout",
     "output_type": "stream",
     "text": [
      "Missing Value Presence in different columns of DataFrame are as follows : \n",
      "----------------------------------------------------------------------------------------------------\n"
     ]
    },
    {
     "data": {
      "text/html": [
       "<div>\n",
       "<style scoped>\n",
       "    .dataframe tbody tr th:only-of-type {\n",
       "        vertical-align: middle;\n",
       "    }\n",
       "\n",
       "    .dataframe tbody tr th {\n",
       "        vertical-align: top;\n",
       "    }\n",
       "\n",
       "    .dataframe thead th {\n",
       "        text-align: right;\n",
       "    }\n",
       "</style>\n",
       "<table border=\"1\" class=\"dataframe\">\n",
       "  <thead>\n",
       "    <tr style=\"text-align: right;\">\n",
       "      <th></th>\n",
       "      <th>Total</th>\n",
       "      <th>Percent</th>\n",
       "    </tr>\n",
       "  </thead>\n",
       "  <tbody>\n",
       "    <tr>\n",
       "      <th>homepage</th>\n",
       "      <td>3091</td>\n",
       "      <td>64.355611</td>\n",
       "    </tr>\n",
       "    <tr>\n",
       "      <th>tagline</th>\n",
       "      <td>844</td>\n",
       "      <td>17.572351</td>\n",
       "    </tr>\n",
       "    <tr>\n",
       "      <th>keywords</th>\n",
       "      <td>412</td>\n",
       "      <td>8.577972</td>\n",
       "    </tr>\n",
       "    <tr>\n",
       "      <th>cast</th>\n",
       "      <td>43</td>\n",
       "      <td>0.895274</td>\n",
       "    </tr>\n",
       "    <tr>\n",
       "      <th>director</th>\n",
       "      <td>30</td>\n",
       "      <td>0.624610</td>\n",
       "    </tr>\n",
       "    <tr>\n",
       "      <th>genres</th>\n",
       "      <td>28</td>\n",
       "      <td>0.582969</td>\n",
       "    </tr>\n",
       "    <tr>\n",
       "      <th>overview</th>\n",
       "      <td>3</td>\n",
       "      <td>0.062461</td>\n",
       "    </tr>\n",
       "    <tr>\n",
       "      <th>runtime</th>\n",
       "      <td>2</td>\n",
       "      <td>0.041641</td>\n",
       "    </tr>\n",
       "    <tr>\n",
       "      <th>release_date</th>\n",
       "      <td>1</td>\n",
       "      <td>0.020820</td>\n",
       "    </tr>\n",
       "    <tr>\n",
       "      <th>popularity</th>\n",
       "      <td>0</td>\n",
       "      <td>0.000000</td>\n",
       "    </tr>\n",
       "    <tr>\n",
       "      <th>production_companies</th>\n",
       "      <td>0</td>\n",
       "      <td>0.000000</td>\n",
       "    </tr>\n",
       "    <tr>\n",
       "      <th>production_countries</th>\n",
       "      <td>0</td>\n",
       "      <td>0.000000</td>\n",
       "    </tr>\n",
       "    <tr>\n",
       "      <th>budget</th>\n",
       "      <td>0</td>\n",
       "      <td>0.000000</td>\n",
       "    </tr>\n",
       "    <tr>\n",
       "      <th>revenue</th>\n",
       "      <td>0</td>\n",
       "      <td>0.000000</td>\n",
       "    </tr>\n",
       "    <tr>\n",
       "      <th>original_title</th>\n",
       "      <td>0</td>\n",
       "      <td>0.000000</td>\n",
       "    </tr>\n",
       "    <tr>\n",
       "      <th>spoken_languages</th>\n",
       "      <td>0</td>\n",
       "      <td>0.000000</td>\n",
       "    </tr>\n",
       "    <tr>\n",
       "      <th>status</th>\n",
       "      <td>0</td>\n",
       "      <td>0.000000</td>\n",
       "    </tr>\n",
       "    <tr>\n",
       "      <th>original_language</th>\n",
       "      <td>0</td>\n",
       "      <td>0.000000</td>\n",
       "    </tr>\n",
       "    <tr>\n",
       "      <th>title</th>\n",
       "      <td>0</td>\n",
       "      <td>0.000000</td>\n",
       "    </tr>\n",
       "    <tr>\n",
       "      <th>vote_average</th>\n",
       "      <td>0</td>\n",
       "      <td>0.000000</td>\n",
       "    </tr>\n",
       "    <tr>\n",
       "      <th>vote_count</th>\n",
       "      <td>0</td>\n",
       "      <td>0.000000</td>\n",
       "    </tr>\n",
       "    <tr>\n",
       "      <th>id</th>\n",
       "      <td>0</td>\n",
       "      <td>0.000000</td>\n",
       "    </tr>\n",
       "    <tr>\n",
       "      <th>crew</th>\n",
       "      <td>0</td>\n",
       "      <td>0.000000</td>\n",
       "    </tr>\n",
       "    <tr>\n",
       "      <th>index</th>\n",
       "      <td>0</td>\n",
       "      <td>0.000000</td>\n",
       "    </tr>\n",
       "  </tbody>\n",
       "</table>\n",
       "</div>"
      ],
      "text/plain": [
       "                      Total    Percent\n",
       "homepage               3091  64.355611\n",
       "tagline                 844  17.572351\n",
       "keywords                412   8.577972\n",
       "cast                     43   0.895274\n",
       "director                 30   0.624610\n",
       "genres                   28   0.582969\n",
       "overview                  3   0.062461\n",
       "runtime                   2   0.041641\n",
       "release_date              1   0.020820\n",
       "popularity                0   0.000000\n",
       "production_companies      0   0.000000\n",
       "production_countries      0   0.000000\n",
       "budget                    0   0.000000\n",
       "revenue                   0   0.000000\n",
       "original_title            0   0.000000\n",
       "spoken_languages          0   0.000000\n",
       "status                    0   0.000000\n",
       "original_language         0   0.000000\n",
       "title                     0   0.000000\n",
       "vote_average              0   0.000000\n",
       "vote_count                0   0.000000\n",
       "id                        0   0.000000\n",
       "crew                      0   0.000000\n",
       "index                     0   0.000000"
      ]
     },
     "execution_count": 8,
     "metadata": {},
     "output_type": "execute_result"
    }
   ],
   "source": [
    "print('Missing Value Presence in different columns of DataFrame are as follows : ')\n",
    "print('-'*100)\n",
    "total=movies_data.isnull().sum().sort_values(ascending=False)\n",
    "percent=(movies_data.isnull().sum()/movies_data.isnull().count()*100).sort_values(ascending=False)\n",
    "pd.concat([total, percent], axis=1, keys=['Total', 'Percent'])"
   ]
  },
  {
   "cell_type": "code",
   "execution_count": 10,
   "id": "29ac5f9d",
   "metadata": {},
   "outputs": [
    {
     "name": "stdout",
     "output_type": "stream",
     "text": [
      "Summary Statistics of numerical features for DataFrame are as follows:\n",
      "----------------------------------------------------------------------------------------------------\n"
     ]
    },
    {
     "data": {
      "text/html": [
       "<div>\n",
       "<style scoped>\n",
       "    .dataframe tbody tr th:only-of-type {\n",
       "        vertical-align: middle;\n",
       "    }\n",
       "\n",
       "    .dataframe tbody tr th {\n",
       "        vertical-align: top;\n",
       "    }\n",
       "\n",
       "    .dataframe thead th {\n",
       "        text-align: right;\n",
       "    }\n",
       "</style>\n",
       "<table border=\"1\" class=\"dataframe\">\n",
       "  <thead>\n",
       "    <tr style=\"text-align: right;\">\n",
       "      <th></th>\n",
       "      <th>index</th>\n",
       "      <th>budget</th>\n",
       "      <th>id</th>\n",
       "      <th>popularity</th>\n",
       "      <th>revenue</th>\n",
       "      <th>runtime</th>\n",
       "      <th>vote_average</th>\n",
       "      <th>vote_count</th>\n",
       "    </tr>\n",
       "  </thead>\n",
       "  <tbody>\n",
       "    <tr>\n",
       "      <th>count</th>\n",
       "      <td>4803.000000</td>\n",
       "      <td>4.803000e+03</td>\n",
       "      <td>4803.000000</td>\n",
       "      <td>4803.000000</td>\n",
       "      <td>4.803000e+03</td>\n",
       "      <td>4801.000000</td>\n",
       "      <td>4803.000000</td>\n",
       "      <td>4803.000000</td>\n",
       "    </tr>\n",
       "    <tr>\n",
       "      <th>mean</th>\n",
       "      <td>2401.000000</td>\n",
       "      <td>2.904504e+07</td>\n",
       "      <td>57165.484281</td>\n",
       "      <td>21.492301</td>\n",
       "      <td>8.226064e+07</td>\n",
       "      <td>106.875859</td>\n",
       "      <td>6.092172</td>\n",
       "      <td>690.217989</td>\n",
       "    </tr>\n",
       "    <tr>\n",
       "      <th>std</th>\n",
       "      <td>1386.651002</td>\n",
       "      <td>4.072239e+07</td>\n",
       "      <td>88694.614033</td>\n",
       "      <td>31.816650</td>\n",
       "      <td>1.628571e+08</td>\n",
       "      <td>22.611935</td>\n",
       "      <td>1.194612</td>\n",
       "      <td>1234.585891</td>\n",
       "    </tr>\n",
       "    <tr>\n",
       "      <th>min</th>\n",
       "      <td>0.000000</td>\n",
       "      <td>0.000000e+00</td>\n",
       "      <td>5.000000</td>\n",
       "      <td>0.000000</td>\n",
       "      <td>0.000000e+00</td>\n",
       "      <td>0.000000</td>\n",
       "      <td>0.000000</td>\n",
       "      <td>0.000000</td>\n",
       "    </tr>\n",
       "    <tr>\n",
       "      <th>25%</th>\n",
       "      <td>1200.500000</td>\n",
       "      <td>7.900000e+05</td>\n",
       "      <td>9014.500000</td>\n",
       "      <td>4.668070</td>\n",
       "      <td>0.000000e+00</td>\n",
       "      <td>94.000000</td>\n",
       "      <td>5.600000</td>\n",
       "      <td>54.000000</td>\n",
       "    </tr>\n",
       "    <tr>\n",
       "      <th>50%</th>\n",
       "      <td>2401.000000</td>\n",
       "      <td>1.500000e+07</td>\n",
       "      <td>14629.000000</td>\n",
       "      <td>12.921594</td>\n",
       "      <td>1.917000e+07</td>\n",
       "      <td>103.000000</td>\n",
       "      <td>6.200000</td>\n",
       "      <td>235.000000</td>\n",
       "    </tr>\n",
       "    <tr>\n",
       "      <th>75%</th>\n",
       "      <td>3601.500000</td>\n",
       "      <td>4.000000e+07</td>\n",
       "      <td>58610.500000</td>\n",
       "      <td>28.313505</td>\n",
       "      <td>9.291719e+07</td>\n",
       "      <td>118.000000</td>\n",
       "      <td>6.800000</td>\n",
       "      <td>737.000000</td>\n",
       "    </tr>\n",
       "    <tr>\n",
       "      <th>max</th>\n",
       "      <td>4802.000000</td>\n",
       "      <td>3.800000e+08</td>\n",
       "      <td>459488.000000</td>\n",
       "      <td>875.581305</td>\n",
       "      <td>2.787965e+09</td>\n",
       "      <td>338.000000</td>\n",
       "      <td>10.000000</td>\n",
       "      <td>13752.000000</td>\n",
       "    </tr>\n",
       "  </tbody>\n",
       "</table>\n",
       "</div>"
      ],
      "text/plain": [
       "             index        budget             id   popularity       revenue   \n",
       "count  4803.000000  4.803000e+03    4803.000000  4803.000000  4.803000e+03  \\\n",
       "mean   2401.000000  2.904504e+07   57165.484281    21.492301  8.226064e+07   \n",
       "std    1386.651002  4.072239e+07   88694.614033    31.816650  1.628571e+08   \n",
       "min       0.000000  0.000000e+00       5.000000     0.000000  0.000000e+00   \n",
       "25%    1200.500000  7.900000e+05    9014.500000     4.668070  0.000000e+00   \n",
       "50%    2401.000000  1.500000e+07   14629.000000    12.921594  1.917000e+07   \n",
       "75%    3601.500000  4.000000e+07   58610.500000    28.313505  9.291719e+07   \n",
       "max    4802.000000  3.800000e+08  459488.000000   875.581305  2.787965e+09   \n",
       "\n",
       "           runtime  vote_average    vote_count  \n",
       "count  4801.000000   4803.000000   4803.000000  \n",
       "mean    106.875859      6.092172    690.217989  \n",
       "std      22.611935      1.194612   1234.585891  \n",
       "min       0.000000      0.000000      0.000000  \n",
       "25%      94.000000      5.600000     54.000000  \n",
       "50%     103.000000      6.200000    235.000000  \n",
       "75%     118.000000      6.800000    737.000000  \n",
       "max     338.000000     10.000000  13752.000000  "
      ]
     },
     "execution_count": 10,
     "metadata": {},
     "output_type": "execute_result"
    }
   ],
   "source": [
    "print('Summary Statistics of numerical features for DataFrame are as follows:')\n",
    "print('-'*100)\n",
    "movies_data.describe()"
   ]
  },
  {
   "cell_type": "code",
   "execution_count": 9,
   "id": "7c1f989c",
   "metadata": {},
   "outputs": [
    {
     "name": "stdout",
     "output_type": "stream",
     "text": [
      "Summary Statistics of numerical features for DataFrame are as follows:\n",
      "----------------------------------------------------------------------------------------------------\n"
     ]
    },
    {
     "data": {
      "text/html": [
       "<div>\n",
       "<style scoped>\n",
       "    .dataframe tbody tr th:only-of-type {\n",
       "        vertical-align: middle;\n",
       "    }\n",
       "\n",
       "    .dataframe tbody tr th {\n",
       "        vertical-align: top;\n",
       "    }\n",
       "\n",
       "    .dataframe thead th {\n",
       "        text-align: right;\n",
       "    }\n",
       "</style>\n",
       "<table border=\"1\" class=\"dataframe\">\n",
       "  <thead>\n",
       "    <tr style=\"text-align: right;\">\n",
       "      <th></th>\n",
       "      <th>genres</th>\n",
       "      <th>homepage</th>\n",
       "      <th>keywords</th>\n",
       "      <th>original_language</th>\n",
       "      <th>original_title</th>\n",
       "      <th>overview</th>\n",
       "      <th>production_companies</th>\n",
       "      <th>production_countries</th>\n",
       "      <th>release_date</th>\n",
       "      <th>spoken_languages</th>\n",
       "      <th>status</th>\n",
       "      <th>tagline</th>\n",
       "      <th>title</th>\n",
       "      <th>cast</th>\n",
       "      <th>crew</th>\n",
       "      <th>director</th>\n",
       "    </tr>\n",
       "  </thead>\n",
       "  <tbody>\n",
       "    <tr>\n",
       "      <th>count</th>\n",
       "      <td>4775</td>\n",
       "      <td>1712</td>\n",
       "      <td>4391</td>\n",
       "      <td>4803</td>\n",
       "      <td>4803</td>\n",
       "      <td>4800</td>\n",
       "      <td>4803</td>\n",
       "      <td>4803</td>\n",
       "      <td>4802</td>\n",
       "      <td>4803</td>\n",
       "      <td>4803</td>\n",
       "      <td>3959</td>\n",
       "      <td>4803</td>\n",
       "      <td>4760</td>\n",
       "      <td>4803</td>\n",
       "      <td>4773</td>\n",
       "    </tr>\n",
       "    <tr>\n",
       "      <th>unique</th>\n",
       "      <td>1168</td>\n",
       "      <td>1691</td>\n",
       "      <td>4219</td>\n",
       "      <td>37</td>\n",
       "      <td>4801</td>\n",
       "      <td>4800</td>\n",
       "      <td>3697</td>\n",
       "      <td>469</td>\n",
       "      <td>3280</td>\n",
       "      <td>544</td>\n",
       "      <td>3</td>\n",
       "      <td>3944</td>\n",
       "      <td>4800</td>\n",
       "      <td>4741</td>\n",
       "      <td>4776</td>\n",
       "      <td>2349</td>\n",
       "    </tr>\n",
       "    <tr>\n",
       "      <th>top</th>\n",
       "      <td>Drama</td>\n",
       "      <td>http://www.missionimpossible.com/</td>\n",
       "      <td>independent film</td>\n",
       "      <td>en</td>\n",
       "      <td>Out of the Blue</td>\n",
       "      <td>In the 22nd century, a paraplegic Marine is di...</td>\n",
       "      <td>[]</td>\n",
       "      <td>[{\"iso_3166_1\": \"US\", \"name\": \"United States o...</td>\n",
       "      <td>2006-01-01</td>\n",
       "      <td>[{\"iso_639_1\": \"en\", \"name\": \"English\"}]</td>\n",
       "      <td>Released</td>\n",
       "      <td>Based on a true story.</td>\n",
       "      <td>The Host</td>\n",
       "      <td>William Shatner Leonard Nimoy DeForest Kelley ...</td>\n",
       "      <td>[]</td>\n",
       "      <td>Steven Spielberg</td>\n",
       "    </tr>\n",
       "    <tr>\n",
       "      <th>freq</th>\n",
       "      <td>370</td>\n",
       "      <td>4</td>\n",
       "      <td>55</td>\n",
       "      <td>4505</td>\n",
       "      <td>2</td>\n",
       "      <td>1</td>\n",
       "      <td>351</td>\n",
       "      <td>2977</td>\n",
       "      <td>10</td>\n",
       "      <td>3171</td>\n",
       "      <td>4795</td>\n",
       "      <td>3</td>\n",
       "      <td>2</td>\n",
       "      <td>6</td>\n",
       "      <td>28</td>\n",
       "      <td>27</td>\n",
       "    </tr>\n",
       "  </tbody>\n",
       "</table>\n",
       "</div>"
      ],
      "text/plain": [
       "       genres                           homepage          keywords   \n",
       "count    4775                               1712              4391  \\\n",
       "unique   1168                               1691              4219   \n",
       "top     Drama  http://www.missionimpossible.com/  independent film   \n",
       "freq      370                                  4                55   \n",
       "\n",
       "       original_language   original_title   \n",
       "count               4803             4803  \\\n",
       "unique                37             4801   \n",
       "top                   en  Out of the Blue   \n",
       "freq                4505                2   \n",
       "\n",
       "                                                 overview   \n",
       "count                                                4800  \\\n",
       "unique                                               4800   \n",
       "top     In the 22nd century, a paraplegic Marine is di...   \n",
       "freq                                                    1   \n",
       "\n",
       "       production_companies   \n",
       "count                  4803  \\\n",
       "unique                 3697   \n",
       "top                      []   \n",
       "freq                    351   \n",
       "\n",
       "                                     production_countries release_date   \n",
       "count                                                4803         4802  \\\n",
       "unique                                                469         3280   \n",
       "top     [{\"iso_3166_1\": \"US\", \"name\": \"United States o...   2006-01-01   \n",
       "freq                                                 2977           10   \n",
       "\n",
       "                                spoken_languages    status   \n",
       "count                                       4803      4803  \\\n",
       "unique                                       544         3   \n",
       "top     [{\"iso_639_1\": \"en\", \"name\": \"English\"}]  Released   \n",
       "freq                                        3171      4795   \n",
       "\n",
       "                       tagline     title   \n",
       "count                     3959      4803  \\\n",
       "unique                    3944      4800   \n",
       "top     Based on a true story.  The Host   \n",
       "freq                         3         2   \n",
       "\n",
       "                                                     cast  crew   \n",
       "count                                                4760  4803  \\\n",
       "unique                                               4741  4776   \n",
       "top     William Shatner Leonard Nimoy DeForest Kelley ...    []   \n",
       "freq                                                    6    28   \n",
       "\n",
       "                director  \n",
       "count               4773  \n",
       "unique              2349  \n",
       "top     Steven Spielberg  \n",
       "freq                  27  "
      ]
     },
     "execution_count": 9,
     "metadata": {},
     "output_type": "execute_result"
    }
   ],
   "source": [
    "print('Summary Statistics of categorical features for DataFrame are as follows:')\n",
    "print('-'*100)\n",
    "movies_data.describe(include='object')"
   ]
  },
  {
   "cell_type": "markdown",
   "id": "0e65aa97",
   "metadata": {},
   "source": [
    "## 5) Data Cleaning and Preprocessing\n",
    "---"
   ]
  },
  {
   "cell_type": "markdown",
   "id": "1b359f6a",
   "metadata": {},
   "source": [
    "### Selecting the relevant features for recommendation"
   ]
  },
  {
   "cell_type": "code",
   "execution_count": 11,
   "id": "9b3dbbe3",
   "metadata": {},
   "outputs": [
    {
     "data": {
      "text/plain": [
       "['genres', 'keywords', 'tagline', 'cast', 'director']"
      ]
     },
     "execution_count": 11,
     "metadata": {},
     "output_type": "execute_result"
    }
   ],
   "source": [
    "selected_features = ['genres','keywords','tagline','cast','director']\n",
    "selected_features"
   ]
  },
  {
   "cell_type": "markdown",
   "id": "076feaf9",
   "metadata": {},
   "source": [
    "### Replace the null values with a null string in selected features"
   ]
  },
  {
   "cell_type": "code",
   "execution_count": 14,
   "id": "9e4da231",
   "metadata": {},
   "outputs": [],
   "source": [
    "for feature in selected_features:\n",
    "    movies_data[feature] = movies_data[feature].fillna('')"
   ]
  },
  {
   "cell_type": "code",
   "execution_count": 15,
   "id": "e7ccc578",
   "metadata": {},
   "outputs": [
    {
     "name": "stdout",
     "output_type": "stream",
     "text": [
      "Missing Value Presence in different columns of DataFrame are as follows : \n",
      "----------------------------------------------------------------------------------------------------\n"
     ]
    },
    {
     "data": {
      "text/html": [
       "<div>\n",
       "<style scoped>\n",
       "    .dataframe tbody tr th:only-of-type {\n",
       "        vertical-align: middle;\n",
       "    }\n",
       "\n",
       "    .dataframe tbody tr th {\n",
       "        vertical-align: top;\n",
       "    }\n",
       "\n",
       "    .dataframe thead th {\n",
       "        text-align: right;\n",
       "    }\n",
       "</style>\n",
       "<table border=\"1\" class=\"dataframe\">\n",
       "  <thead>\n",
       "    <tr style=\"text-align: right;\">\n",
       "      <th></th>\n",
       "      <th>Total</th>\n",
       "      <th>Percent</th>\n",
       "    </tr>\n",
       "  </thead>\n",
       "  <tbody>\n",
       "    <tr>\n",
       "      <th>homepage</th>\n",
       "      <td>3091</td>\n",
       "      <td>64.355611</td>\n",
       "    </tr>\n",
       "    <tr>\n",
       "      <th>overview</th>\n",
       "      <td>3</td>\n",
       "      <td>0.062461</td>\n",
       "    </tr>\n",
       "    <tr>\n",
       "      <th>runtime</th>\n",
       "      <td>2</td>\n",
       "      <td>0.041641</td>\n",
       "    </tr>\n",
       "    <tr>\n",
       "      <th>release_date</th>\n",
       "      <td>1</td>\n",
       "      <td>0.020820</td>\n",
       "    </tr>\n",
       "    <tr>\n",
       "      <th>revenue</th>\n",
       "      <td>0</td>\n",
       "      <td>0.000000</td>\n",
       "    </tr>\n",
       "    <tr>\n",
       "      <th>crew</th>\n",
       "      <td>0</td>\n",
       "      <td>0.000000</td>\n",
       "    </tr>\n",
       "    <tr>\n",
       "      <th>cast</th>\n",
       "      <td>0</td>\n",
       "      <td>0.000000</td>\n",
       "    </tr>\n",
       "    <tr>\n",
       "      <th>vote_count</th>\n",
       "      <td>0</td>\n",
       "      <td>0.000000</td>\n",
       "    </tr>\n",
       "    <tr>\n",
       "      <th>vote_average</th>\n",
       "      <td>0</td>\n",
       "      <td>0.000000</td>\n",
       "    </tr>\n",
       "    <tr>\n",
       "      <th>title</th>\n",
       "      <td>0</td>\n",
       "      <td>0.000000</td>\n",
       "    </tr>\n",
       "    <tr>\n",
       "      <th>tagline</th>\n",
       "      <td>0</td>\n",
       "      <td>0.000000</td>\n",
       "    </tr>\n",
       "    <tr>\n",
       "      <th>status</th>\n",
       "      <td>0</td>\n",
       "      <td>0.000000</td>\n",
       "    </tr>\n",
       "    <tr>\n",
       "      <th>spoken_languages</th>\n",
       "      <td>0</td>\n",
       "      <td>0.000000</td>\n",
       "    </tr>\n",
       "    <tr>\n",
       "      <th>index</th>\n",
       "      <td>0</td>\n",
       "      <td>0.000000</td>\n",
       "    </tr>\n",
       "    <tr>\n",
       "      <th>budget</th>\n",
       "      <td>0</td>\n",
       "      <td>0.000000</td>\n",
       "    </tr>\n",
       "    <tr>\n",
       "      <th>production_countries</th>\n",
       "      <td>0</td>\n",
       "      <td>0.000000</td>\n",
       "    </tr>\n",
       "    <tr>\n",
       "      <th>production_companies</th>\n",
       "      <td>0</td>\n",
       "      <td>0.000000</td>\n",
       "    </tr>\n",
       "    <tr>\n",
       "      <th>popularity</th>\n",
       "      <td>0</td>\n",
       "      <td>0.000000</td>\n",
       "    </tr>\n",
       "    <tr>\n",
       "      <th>original_title</th>\n",
       "      <td>0</td>\n",
       "      <td>0.000000</td>\n",
       "    </tr>\n",
       "    <tr>\n",
       "      <th>original_language</th>\n",
       "      <td>0</td>\n",
       "      <td>0.000000</td>\n",
       "    </tr>\n",
       "    <tr>\n",
       "      <th>keywords</th>\n",
       "      <td>0</td>\n",
       "      <td>0.000000</td>\n",
       "    </tr>\n",
       "    <tr>\n",
       "      <th>id</th>\n",
       "      <td>0</td>\n",
       "      <td>0.000000</td>\n",
       "    </tr>\n",
       "    <tr>\n",
       "      <th>genres</th>\n",
       "      <td>0</td>\n",
       "      <td>0.000000</td>\n",
       "    </tr>\n",
       "    <tr>\n",
       "      <th>director</th>\n",
       "      <td>0</td>\n",
       "      <td>0.000000</td>\n",
       "    </tr>\n",
       "  </tbody>\n",
       "</table>\n",
       "</div>"
      ],
      "text/plain": [
       "                      Total    Percent\n",
       "homepage               3091  64.355611\n",
       "overview                  3   0.062461\n",
       "runtime                   2   0.041641\n",
       "release_date              1   0.020820\n",
       "revenue                   0   0.000000\n",
       "crew                      0   0.000000\n",
       "cast                      0   0.000000\n",
       "vote_count                0   0.000000\n",
       "vote_average              0   0.000000\n",
       "title                     0   0.000000\n",
       "tagline                   0   0.000000\n",
       "status                    0   0.000000\n",
       "spoken_languages          0   0.000000\n",
       "index                     0   0.000000\n",
       "budget                    0   0.000000\n",
       "production_countries      0   0.000000\n",
       "production_companies      0   0.000000\n",
       "popularity                0   0.000000\n",
       "original_title            0   0.000000\n",
       "original_language         0   0.000000\n",
       "keywords                  0   0.000000\n",
       "id                        0   0.000000\n",
       "genres                    0   0.000000\n",
       "director                  0   0.000000"
      ]
     },
     "execution_count": 15,
     "metadata": {},
     "output_type": "execute_result"
    }
   ],
   "source": [
    "print('Missing Value Presence in different columns of DataFrame are as follows : ')\n",
    "print('-'*100)\n",
    "total=movies_data.isnull().sum().sort_values(ascending=False)\n",
    "percent=(movies_data.isnull().sum()/movies_data.isnull().count()*100).sort_values(ascending=False)\n",
    "pd.concat([total, percent], axis=1, keys=['Total', 'Percent'])"
   ]
  },
  {
   "cell_type": "markdown",
   "id": "3cfafe1a",
   "metadata": {},
   "source": [
    "### Combining all the 5 selected features"
   ]
  },
  {
   "cell_type": "code",
   "execution_count": 16,
   "id": "3f96ce19",
   "metadata": {},
   "outputs": [],
   "source": [
    "combined_features = movies_data['genres']+' '+movies_data['keywords']+' '+movies_data['tagline']+' '+movies_data['cast']+' '+movies_data['director']"
   ]
  },
  {
   "cell_type": "code",
   "execution_count": 17,
   "id": "cae282df",
   "metadata": {},
   "outputs": [
    {
     "data": {
      "text/plain": [
       "0       Action Adventure Fantasy Science Fiction cultu...\n",
       "1       Adventure Fantasy Action ocean drug abuse exot...\n",
       "2       Action Adventure Crime spy based on novel secr...\n",
       "3       Action Crime Drama Thriller dc comics crime fi...\n",
       "4       Action Adventure Science Fiction based on nove...\n",
       "                              ...                        \n",
       "4798    Action Crime Thriller united states\\u2013mexic...\n",
       "4799    Comedy Romance  A newlywed couple's honeymoon ...\n",
       "4800    Comedy Drama Romance TV Movie date love at fir...\n",
       "4801      A New Yorker in Shanghai Daniel Henney Eliza...\n",
       "4802    Documentary obsession camcorder crush dream gi...\n",
       "Length: 4803, dtype: object"
      ]
     },
     "execution_count": 17,
     "metadata": {},
     "output_type": "execute_result"
    }
   ],
   "source": [
    "combined_features"
   ]
  },
  {
   "cell_type": "markdown",
   "id": "2a3f2a0e",
   "metadata": {},
   "source": [
    "### Stemming"
   ]
  },
  {
   "cell_type": "code",
   "execution_count": 18,
   "id": "4802d9a9",
   "metadata": {},
   "outputs": [],
   "source": [
    "porter_stemmer = PorterStemmer()"
   ]
  },
  {
   "cell_type": "code",
   "execution_count": 19,
   "id": "e06b399b",
   "metadata": {},
   "outputs": [],
   "source": [
    "def stemming(content):\n",
    "    stemmed_content = re.sub('[^a-zA-Z]',' ',content)\n",
    "    stemmed_content = stemmed_content.lower()\n",
    "    stemmed_content = stemmed_content.split()\n",
    "    stemmed_content = [porter_stemmer.stem(word) for word in stemmed_content if not word in stopwords.words('english')]\n",
    "    stemmed_content = ' '.join(stemmed_content)\n",
    "    return stemmed_content"
   ]
  },
  {
   "cell_type": "code",
   "execution_count": 20,
   "id": "e05a52ed",
   "metadata": {},
   "outputs": [],
   "source": [
    "combined_features = combined_features.apply(stemming)"
   ]
  },
  {
   "cell_type": "code",
   "execution_count": 21,
   "id": "0c9a4b0e",
   "metadata": {},
   "outputs": [
    {
     "data": {
      "text/plain": [
       "0       action adventur fantasi scienc fiction cultur ...\n",
       "1       adventur fantasi action ocean drug abus exot i...\n",
       "2       action adventur crime spi base novel secret ag...\n",
       "3       action crime drama thriller dc comic crime fig...\n",
       "4       action adventur scienc fiction base novel mar ...\n",
       "                              ...                        \n",
       "4798    action crime thriller unit state u mexico barr...\n",
       "4799    comedi romanc newlyw coupl honeymoon upend arr...\n",
       "4800    comedi drama romanc tv movi date love first si...\n",
       "4801    new yorker shanghai daniel henney eliza coup b...\n",
       "4802    documentari obsess camcord crush dream girl dr...\n",
       "Length: 4803, dtype: object"
      ]
     },
     "execution_count": 21,
     "metadata": {},
     "output_type": "execute_result"
    }
   ],
   "source": [
    "combined_features"
   ]
  },
  {
   "cell_type": "markdown",
   "id": "0a135fb7",
   "metadata": {},
   "source": [
    "## 6) Model Building\n",
    "---"
   ]
  },
  {
   "cell_type": "markdown",
   "id": "480cb1e2",
   "metadata": {},
   "source": [
    "### Feature Extraction"
   ]
  },
  {
   "cell_type": "markdown",
   "id": "982c48d8",
   "metadata": {},
   "source": [
    "#### Transform the text data to feature vectors that can be used as input to the Logistic regression"
   ]
  },
  {
   "cell_type": "code",
   "execution_count": 22,
   "id": "9c4eaf13",
   "metadata": {},
   "outputs": [],
   "source": [
    "vectorizer = TfidfVectorizer()"
   ]
  },
  {
   "cell_type": "code",
   "execution_count": 23,
   "id": "99b327c5",
   "metadata": {},
   "outputs": [],
   "source": [
    "vectorizer.fit(combined_features)\n",
    "\n",
    "combined_features = vectorizer.transform(combined_features)"
   ]
  },
  {
   "cell_type": "code",
   "execution_count": 24,
   "id": "fab30fe3",
   "metadata": {},
   "outputs": [
    {
     "data": {
      "text/plain": [
       "<4803x15165 sparse matrix of type '<class 'numpy.float64'>'\n",
       "\twith 110399 stored elements in Compressed Sparse Row format>"
      ]
     },
     "execution_count": 24,
     "metadata": {},
     "output_type": "execute_result"
    }
   ],
   "source": [
    "combined_features"
   ]
  },
  {
   "cell_type": "code",
   "execution_count": 25,
   "id": "239a1565",
   "metadata": {},
   "outputs": [
    {
     "name": "stdout",
     "output_type": "stream",
     "text": [
      "  (0, 15139)\t0.2052522310553095\n",
      "  (0, 14871)\t0.24026470377934847\n",
      "  (0, 14863)\t0.12875501676155404\n",
      "  (0, 14587)\t0.20164827377007877\n",
      "  (0, 14523)\t0.12740774864377094\n",
      "  (0, 13033)\t0.15213516971481178\n",
      "  (0, 12829)\t0.34513124291779446\n",
      "  (0, 12728)\t0.21738843062624963\n",
      "  (0, 12549)\t0.20929853505545373\n",
      "  (0, 12131)\t0.1053209249350964\n",
      "  (0, 11900)\t0.15264686191548815\n",
      "  (0, 11874)\t0.22127568137478468\n",
      "  (0, 11596)\t0.19738383622085057\n",
      "  (0, 10240)\t0.27652273888326423\n",
      "  (0, 9066)\t0.15239002415366618\n",
      "  (0, 7728)\t0.2052522310553095\n",
      "  (0, 6793)\t0.11463157223101918\n",
      "  (0, 5083)\t0.16734367774450565\n",
      "  (0, 4735)\t0.10471198725789553\n",
      "  (0, 4580)\t0.11273156644207886\n",
      "  (0, 4305)\t0.24415195452788352\n",
      "  (0, 3161)\t0.21560402385508065\n",
      "  (0, 2782)\t0.24855895595249378\n",
      "  (0, 2641)\t0.22568268279939493\n",
      "  (0, 2071)\t0.17552313506858697\n",
      "  :\t:\n",
      "  (4801, 10378)\t0.22124713594289835\n",
      "  (4801, 9715)\t0.1385948353997998\n",
      "  (4801, 6372)\t0.31053778940920307\n",
      "  (4801, 6077)\t0.2962036112137938\n",
      "  (4801, 4209)\t0.2536402429374028\n",
      "  (4801, 3268)\t0.3177192162620961\n",
      "  (4801, 3016)\t0.27169917173649794\n",
      "  (4801, 1385)\t0.15910258113774145\n",
      "  (4801, 240)\t0.18194026727478887\n",
      "  (4802, 11562)\t0.11482696747178847\n",
      "  (4802, 9938)\t0.18105158252683826\n",
      "  (4802, 6126)\t0.579556716654899\n",
      "  (4802, 5619)\t0.22117940046495074\n",
      "  (4802, 5384)\t0.17344680863612943\n",
      "  (4802, 4672)\t0.23354020966991715\n",
      "  (4802, 4335)\t0.1634748270359641\n",
      "  (4802, 3968)\t0.22117940046495074\n",
      "  (4802, 3896)\t0.19831308117745117\n",
      "  (4802, 3890)\t0.16241626160208383\n",
      "  (4802, 3756)\t0.15640163289469056\n",
      "  (4802, 3138)\t0.26691203903994987\n",
      "  (4802, 2952)\t0.22117940046495074\n",
      "  (4802, 2065)\t0.24404571975245032\n",
      "  (4802, 1798)\t0.315159882404215\n",
      "  (4802, 1065)\t0.1993604429686904\n"
     ]
    }
   ],
   "source": [
    "print(combined_features)"
   ]
  },
  {
   "cell_type": "markdown",
   "id": "501cb799",
   "metadata": {},
   "source": [
    "### Cosine Similarity"
   ]
  },
  {
   "cell_type": "markdown",
   "id": "2df8215c",
   "metadata": {},
   "source": [
    "#### Getting the similarity scores using cosine similarity"
   ]
  },
  {
   "cell_type": "code",
   "execution_count": 28,
   "id": "348e97ff",
   "metadata": {},
   "outputs": [],
   "source": [
    "similarity = cosine_similarity(combined_features)"
   ]
  },
  {
   "cell_type": "code",
   "execution_count": 29,
   "id": "3106ba27",
   "metadata": {},
   "outputs": [
    {
     "name": "stdout",
     "output_type": "stream",
     "text": [
      "[[1.         0.04757067 0.04209981 ... 0.         0.         0.        ]\n",
      " [0.04757067 1.         0.03791066 ... 0.01223813 0.         0.        ]\n",
      " [0.04209981 0.03791066 1.         ... 0.         0.0520925  0.        ]\n",
      " ...\n",
      " [0.         0.01223813 0.         ... 1.         0.         0.02762031]\n",
      " [0.         0.         0.0520925  ... 0.         1.         0.        ]\n",
      " [0.         0.         0.         ... 0.02762031 0.         1.        ]]\n"
     ]
    }
   ],
   "source": [
    "print(similarity)"
   ]
  },
  {
   "cell_type": "code",
   "execution_count": 30,
   "id": "c08d9f24",
   "metadata": {},
   "outputs": [
    {
     "data": {
      "text/plain": [
       "(4803, 4803)"
      ]
     },
     "execution_count": 30,
     "metadata": {},
     "output_type": "execute_result"
    }
   ],
   "source": [
    "similarity.shape"
   ]
  },
  {
   "cell_type": "markdown",
   "id": "398c71d4",
   "metadata": {},
   "source": [
    "### Movie Recommendation Systems Sub-Steps"
   ]
  },
  {
   "cell_type": "markdown",
   "id": "07ce7bcb",
   "metadata": {},
   "source": [
    "#### `Step-1` Getting Movie name from the User"
   ]
  },
  {
   "cell_type": "code",
   "execution_count": 31,
   "id": "67998045",
   "metadata": {},
   "outputs": [
    {
     "name": "stdout",
     "output_type": "stream",
     "text": [
      " Enter your favourite movie name : batman\n"
     ]
    }
   ],
   "source": [
    "movie_name = input(' Enter your favourite movie name : ')"
   ]
  },
  {
   "cell_type": "markdown",
   "id": "ad51ab5c",
   "metadata": {},
   "source": [
    "#### `Step-2` Creating a list with all the movie names given in the dataset"
   ]
  },
  {
   "cell_type": "code",
   "execution_count": 32,
   "id": "b9a32d1e",
   "metadata": {},
   "outputs": [
    {
     "name": "stdout",
     "output_type": "stream",
     "text": [
      "['Avatar', \"Pirates of the Caribbean: At World's End\", 'Spectre', 'The Dark Knight Rises', 'John Carter', 'Spider-Man 3', 'Tangled', 'Avengers: Age of Ultron', 'Harry Potter and the Half-Blood Prince', 'Batman v Superman: Dawn of Justice', 'Superman Returns', 'Quantum of Solace', \"Pirates of the Caribbean: Dead Man's Chest\", 'The Lone Ranger', 'Man of Steel', 'The Chronicles of Narnia: Prince Caspian', 'The Avengers', 'Pirates of the Caribbean: On Stranger Tides', 'Men in Black 3', 'The Hobbit: The Battle of the Five Armies', 'The Amazing Spider-Man', 'Robin Hood', 'The Hobbit: The Desolation of Smaug', 'The Golden Compass', 'King Kong', 'Titanic', 'Captain America: Civil War', 'Battleship', 'Jurassic World', 'Skyfall', 'Spider-Man 2', 'Iron Man 3', 'Alice in Wonderland', 'X-Men: The Last Stand', 'Monsters University', 'Transformers: Revenge of the Fallen', 'Transformers: Age of Extinction', 'Oz: The Great and Powerful', 'The Amazing Spider-Man 2', 'TRON: Legacy', 'Cars 2', 'Green Lantern', 'Toy Story 3', 'Terminator Salvation', 'Furious 7', 'World War Z', 'X-Men: Days of Future Past', 'Star Trek Into Darkness', 'Jack the Giant Slayer', 'The Great Gatsby', 'Prince of Persia: The Sands of Time', 'Pacific Rim', 'Transformers: Dark of the Moon', 'Indiana Jones and the Kingdom of the Crystal Skull', 'The Good Dinosaur', 'Brave', 'Star Trek Beyond', 'WALL·E', 'Rush Hour 3', '2012', 'A Christmas Carol', 'Jupiter Ascending', 'The Legend of Tarzan', 'The Chronicles of Narnia: The Lion, the Witch and the Wardrobe', 'X-Men: Apocalypse', 'The Dark Knight', 'Up', 'Monsters vs Aliens', 'Iron Man', 'Hugo', 'Wild Wild West', 'The Mummy: Tomb of the Dragon Emperor', 'Suicide Squad', 'Evan Almighty', 'Edge of Tomorrow', 'Waterworld', 'G.I. Joe: The Rise of Cobra', 'Inside Out', 'The Jungle Book', 'Iron Man 2', 'Snow White and the Huntsman', 'Maleficent', 'Dawn of the Planet of the Apes', 'The Lovers', '47 Ronin', 'Captain America: The Winter Soldier', 'Shrek Forever After', 'Tomorrowland', 'Big Hero 6', 'Wreck-It Ralph', 'The Polar Express', 'Independence Day: Resurgence', 'How to Train Your Dragon', 'Terminator 3: Rise of the Machines', 'Guardians of the Galaxy', 'Interstellar', 'Inception', 'Shin Godzilla', 'The Hobbit: An Unexpected Journey', 'The Fast and the Furious', 'The Curious Case of Benjamin Button', 'X-Men: First Class', 'The Hunger Games: Mockingjay - Part 2', \"The Sorcerer's Apprentice\", 'Poseidon', 'Alice Through the Looking Glass', 'Shrek the Third', 'Warcraft', 'Terminator Genisys', 'The Chronicles of Narnia: The Voyage of the Dawn Treader', 'Pearl Harbor', 'Transformers', 'Alexander', 'Harry Potter and the Order of the Phoenix', 'Harry Potter and the Goblet of Fire', 'Hancock', 'I Am Legend', 'Charlie and the Chocolate Factory', 'Ratatouille', 'Batman Begins', 'Madagascar: Escape 2 Africa', 'Night at the Museum: Battle of the Smithsonian', 'X-Men Origins: Wolverine', 'The Matrix Revolutions', 'Frozen', 'The Matrix Reloaded', 'Thor: The Dark World', 'Mad Max: Fury Road', 'Angels & Demons', 'Thor', 'Bolt', 'G-Force', 'Wrath of the Titans', 'Dark Shadows', 'Mission: Impossible - Rogue Nation', 'The Wolfman', 'Bee Movie', 'Kung Fu Panda 2', 'The Last Airbender', 'Mission: Impossible III', 'White House Down', 'Mars Needs Moms', 'Flushed Away', 'Pan', 'Mr. Peabody & Sherman', 'Troy', \"Madagascar 3: Europe's Most Wanted\", 'Die Another Day', 'Ghostbusters', 'Armageddon', 'Men in Black II', 'Beowulf', 'Kung Fu Panda 3', 'Mission: Impossible - Ghost Protocol', 'Rise of the Guardians', 'Fun with Dick and Jane', 'The Last Samurai', 'Exodus: Gods and Kings', 'Star Trek', 'Spider-Man', 'How to Train Your Dragon 2', 'Gods of Egypt', 'Stealth', 'Watchmen', 'Lethal Weapon 4', 'Hulk', 'G.I. Joe: Retaliation', 'Sahara', 'Final Fantasy: The Spirits Within', 'Captain America: The First Avenger', 'The World Is Not Enough', 'Master and Commander: The Far Side of the World', 'The Twilight Saga: Breaking Dawn - Part 2', 'Happy Feet Two', 'The Incredible Hulk', 'The BFG', 'The Revenant', 'Turbo', 'Rango', 'Penguins of Madagascar', 'The Bourne Ultimatum', 'Kung Fu Panda', 'Ant-Man', 'The Hunger Games: Catching Fire', 'Home', 'War of the Worlds', 'Bad Boys II', 'Puss in Boots', 'Salt', 'Noah', 'The Adventures of Tintin', 'Harry Potter and the Prisoner of Azkaban', 'Australia', 'After Earth', 'Dinosaur', 'Night at the Museum: Secret of the Tomb', 'Megamind', \"Harry Potter and the Philosopher's Stone\", 'R.I.P.D.', 'Pirates of the Caribbean: The Curse of the Black Pearl', 'The Hunger Games: Mockingjay - Part 1', 'The Da Vinci Code', 'Rio 2', 'X2', 'Fast Five', 'Sherlock Holmes: A Game of Shadows', 'Clash of the Titans', 'Total Recall', 'The 13th Warrior', 'The Bourne Legacy', 'Batman & Robin', 'How the Grinch Stole Christmas', 'The Day After Tomorrow', 'Mission: Impossible II', 'The Perfect Storm', 'Fantastic 4: Rise of the Silver Surfer', 'Life of Pi', 'Ghost Rider', 'Jason Bourne', \"Charlie's Angels: Full Throttle\", 'Prometheus', 'Stuart Little 2', 'Elysium', 'The Chronicles of Riddick', 'RoboCop', 'Speed Racer', 'How Do You Know', 'Knight and Day', 'Oblivion', 'Star Wars: Episode III - Revenge of the Sith', 'Star Wars: Episode II - Attack of the Clones', 'Monsters, Inc.', 'The Wolverine', 'Star Wars: Episode I - The Phantom Menace', 'The Croods', 'Asterix at the Olympic Games', 'Windtalkers', \"The Huntsman: Winter's War\", 'Teenage Mutant Ninja Turtles', 'Gravity', \"Dante's Peak\", 'Teenage Mutant Ninja Turtles: Out of the Shadows', 'Fantastic Four', 'Night at the Museum', 'San Andreas', 'Tomorrow Never Dies', 'The Patriot', \"Ocean's Twelve\", 'Mr. & Mrs. Smith', 'Insurgent', 'The Aviator', \"Gulliver's Travels\", 'The Green Hornet', '300: Rise of an Empire', 'The Smurfs', 'Home on the Range', 'Allegiant', 'Real Steel', 'The Smurfs 2', 'Speed 2: Cruise Control', \"Ender's Game\", 'Live Free or Die Hard', 'The Lord of the Rings: The Fellowship of the Ring', 'Around the World in 80 Days', 'Ali', 'The Cat in the Hat', 'I, Robot', 'Kingdom of Heaven', 'Stuart Little', 'The Princess and the Frog', 'The Martian', 'The Island', 'Town & Country', 'Gone in Sixty Seconds', 'Gladiator', 'Minority Report', 'Harry Potter and the Chamber of Secrets', 'Casino Royale', 'Planet of the Apes', 'Terminator 2: Judgment Day', 'Public Enemies', 'American Gangster', 'True Lies', 'The Taking of Pelham 1 2 3', 'Little Fockers', 'The Other Guys', 'Eraser', 'Django Unchained', 'The Hunchback of Notre Dame', \"The Emperor's New Groove\", 'The Expendables 2', 'National Treasure', 'Eragon', 'Where the Wild Things Are', 'Epic', 'The Tourist', 'End of Days', 'Blood Diamond', 'The Wolf of Wall Street', 'Batman Forever', 'Starship Troopers', 'Cloud Atlas', \"Legend of the Guardians: The Owls of Ga'Hoole\", 'Catwoman', 'Hercules', 'Treasure Planet', 'Land of the Lost', 'The Expendables 3', 'Point Break', 'Son of the Mask', 'In the Heart of the Sea', 'The Adventures of Pluto Nash', 'Green Zone', 'The Peanuts Movie', 'The Spanish Prisoner', 'The Mummy Returns', 'Gangs of New York', 'The Flowers of War', \"Surf's Up\", 'The Stepford Wives', 'Black Hawk Down', 'The Campaign', 'The Fifth Element', 'Sex and the City 2', 'The Road to El Dorado', 'Ice Age: Continental Drift', 'Cinderella', 'The Lovely Bones', 'Finding Nemo', 'The Lord of the Rings: The Return of the King', 'The Lord of the Rings: The Two Towers', 'Seventh Son', 'Lara Croft: Tomb Raider', 'Transcendence', 'Jurassic Park III', 'Rise of the Planet of the Apes', 'The Spiderwick Chronicles', 'A Good Day to Die Hard', 'The Alamo', 'The Incredibles', 'Cutthroat Island', 'Percy Jackson & the Olympians: The Lightning Thief', 'Men in Black', 'Toy Story 2', 'Unstoppable', 'Rush Hour 2', 'What Lies Beneath', 'Cloudy with a Chance of Meatballs', 'Ice Age: Dawn of the Dinosaurs', 'The Secret Life of Walter Mitty', \"Charlie's Angels\", 'The Departed', 'Mulan', 'Tropic Thunder', 'The Girl with the Dragon Tattoo', 'Die Hard: With a Vengeance', 'Sherlock Holmes', 'Ben-Hur', 'Atlantis: The Lost Empire', 'Alvin and the Chipmunks: The Road Chip', 'Valkyrie', \"You Don't Mess with the Zohan\", 'Pixels', 'A.I. Artificial Intelligence', 'The Haunted Mansion', 'Contact', 'Hollow Man', 'The Interpreter', 'Percy Jackson: Sea of Monsters', 'Lara Croft Tomb Raider: The Cradle of Life', 'Now You See Me 2', 'The Saint', 'Spy Game', 'Mission to Mars', 'Rio', 'Bicentennial Man', 'Volcano', \"The Devil's Own\", 'K-19: The Widowmaker', 'Conan the Barbarian', 'Cinderella Man', 'The Nutcracker: The Untold Story', 'Seabiscuit', 'Twister', 'Cast Away', 'Happy Feet', 'The Bourne Supremacy', 'Air Force One', \"Ocean's Eleven\", 'The Three Musketeers', 'Hotel Transylvania', 'Enchanted', 'Safe House', '102 Dalmatians', 'Tower Heist', 'The Holiday', 'Enemy of the State', \"It's Complicated\", \"Ocean's Thirteen\", 'Open Season', 'Divergent', 'Enemy at the Gates', 'The Rundown', 'Last Action Hero', 'Memoirs of a Geisha', 'The Fast and the Furious: Tokyo Drift', 'Arthur Christmas', 'Meet Joe Black', 'Collateral Damage', 'All That Jazz', 'Mirror Mirror', 'Scott Pilgrim vs. the World', 'The Core', 'Nutty Professor II: The Klumps', 'Scooby-Doo', 'Dredd', 'Click', 'Creepshow', 'Cats & Dogs 2 : The Revenge of Kitty Galore', 'Jumper', 'Hellboy II: The Golden Army', 'Zodiac', 'The 6th Day', 'Bruce Almighty', 'The Expendables', 'Mission: Impossible', 'The Hunger Games', 'The Hangover Part II', 'Batman Returns', 'Over the Hedge', 'Lilo & Stitch', \"Charlotte's Web\", 'Deep Impact', 'RED 2', 'The Longest Yard', 'Alvin and the Chipmunks: Chipwrecked', 'Grown Ups 2', 'Get Smart', \"Something's Gotta Give\", 'Shutter Island', 'Four Christmases', 'Robots', 'Face/Off', 'Bedtime Stories', 'Road to Perdition', 'Just Go with It', 'Con Air', 'Eagle Eye', 'Cold Mountain', 'The Book of Eli', 'Flubber', 'The Haunting', 'Space Jam', 'The Pink Panther', 'The Day the Earth Stood Still', 'Conspiracy Theory', 'Fury', 'Six Days Seven Nights', 'Yogi Bear', 'Spirit: Stallion of the Cimarron', 'Zookeeper', 'Lost in Space', 'The Manchurian Candidate', 'Déjà Vu', 'Hotel Transylvania 2', 'Fantasia 2000', 'The Time Machine', 'Mighty Joe Young', 'Swordfish', 'The Legend of Zorro', 'What Dreams May Come', 'Little Nicky', 'The Brothers Grimm', 'Mars Attacks!', 'Evolution', 'The Edge', 'Surrogates', 'Thirteen Days', 'Daylight', 'Walking With Dinosaurs', 'Battlefield Earth', 'Looney Tunes: Back in Action', 'Nine', 'Timeline', 'The Postman', 'Babe: Pig in the City', 'The Last Witch Hunter', 'Red Planet', 'Arthur and the Invisibles', 'Oceans', 'A Sound of Thunder', 'Pompeii', 'Top Cat Begins', 'A Beautiful Mind', 'The Lion King', 'Journey 2: The Mysterious Island', 'Cloudy with a Chance of Meatballs 2', 'Red Dragon', 'Hidalgo', 'Jack and Jill', '2 Fast 2 Furious', 'The Little Prince', 'The Invasion', 'The Adventures of Rocky & Bullwinkle', 'The Secret Life of Pets', 'The League of Extraordinary Gentlemen', 'Despicable Me 2', 'Independence Day', 'The Lost World: Jurassic Park', 'Madagascar', 'Children of Men', 'X-Men', 'Wanted', 'The Rock', 'Ice Age: The Meltdown', '50 First Dates', 'Hairspray', 'Exorcist: The Beginning', 'Inspector Gadget', 'Now You See Me', 'Grown Ups', 'The Terminal', 'Hotel for Dogs', 'Vertical Limit', \"Charlie Wilson's War\", 'Shark Tale', 'Dreamgirls', 'Be Cool', 'Munich', 'Tears of the Sun', 'Killers', 'The Man from U.N.C.L.E.', 'Spanglish', 'Monster House', 'Bandits', 'First Knight', 'Anna and the King', 'Immortals', 'Hostage', 'Titan A.E.', 'Hollywood Homicide', 'Soldier', 'Carriers', 'Monkeybone', 'Flight of the Phoenix', 'Unbreakable', 'Minions', 'Sucker Punch', 'Snake Eyes', 'Sphere', 'The Angry Birds Movie', \"Fool's Gold\", 'Funny People', 'The Kingdom', 'Talladega Nights: The Ballad of Ricky Bobby', 'Dr. Dolittle 2', 'Braveheart', 'Jarhead', 'The Simpsons Movie', 'The Majestic', 'Driven', 'Two Brothers', 'The Village', 'Doctor Dolittle', 'Signs', 'Shrek 2', 'Cars', 'Runaway Bride', 'xXx', 'The SpongeBob Movie: Sponge Out of Water', 'Ransom', 'Inglourious Basterds', 'Hook', 'Die Hard 2', 'S.W.A.T.', 'Vanilla Sky', 'Lady in the Water', 'AVP: Alien vs. Predator', 'Alvin and the Chipmunks: The Squeakquel', 'We Were Soldiers', 'Olympus Has Fallen', 'Star Trek: Insurrection', 'Battle: Los Angeles', 'Big Fish', 'Wolf', 'War Horse', 'The Monuments Men', 'The Abyss', 'Wall Street: Money Never Sleeps', 'Dracula Untold', 'The Siege', 'Stardust', 'Seven Years in Tibet', 'The Dilemma', 'Bad Company', 'Doom', 'I Spy', 'Underworld: Awakening', 'Rock of Ages', \"Hart's War\", 'Killer Elite', 'Rollerball', 'Ballistic: Ecks vs. Sever', 'Hard Rain', 'Osmosis Jones', \"Legends of Oz: Dorothy's Return\", 'Blackhat', 'Sky Captain and the World of Tomorrow', 'Basic Instinct 2', 'Escape Plan', 'The Legend of Hercules', 'The Sum of All Fears', 'The Twilight Saga: Eclipse', 'The Score', 'Despicable Me', 'Money Train', 'Ted 2', 'Agora', 'Mystery Men', 'Hall Pass', 'The Insider', 'The Finest Hours', 'Body of Lies', 'Dinner for Schmucks', 'Abraham Lincoln: Vampire Hunter', 'Entrapment', 'The X Files', 'The Last Legion', 'Saving Private Ryan', 'Need for Speed', 'What Women Want', 'Ice Age', 'Dreamcatcher', 'Lincoln', 'The Matrix', 'Apollo 13', 'The Santa Clause 2', 'Les Misérables', \"You've Got Mail\", 'Step Brothers', 'The Mask of Zorro', 'Due Date', 'Unbroken', 'Space Cowboys', 'Cliffhanger', 'Broken Arrow', 'The Kid', 'World Trade Center', 'Mona Lisa Smile', 'The Dictator', 'Eyes Wide Shut', 'Annie', 'Focus', 'This Means War', 'Blade: Trinity', 'Red Dawn', 'Primary Colors', 'Resident Evil: Retribution', 'Death Race', 'The Long Kiss Goodnight', 'Proof of Life', 'Zathura: A Space Adventure', 'Fight Club', 'We Are Marshall', 'Hudson Hawk', 'Lucky Numbers', 'I, Frankenstein', 'Oliver Twist', 'Elektra', 'Sin City: A Dame to Kill For', 'Random Hearts', 'Everest', 'Perfume: The Story of a Murderer', 'Austin Powers in Goldmember', 'Astro Boy', 'Jurassic Park', 'Wyatt Earp', 'Clear and Present Danger', 'Dragon Blade', 'Little Man', 'U-571', 'The American President', 'The Love Guru', '3000 Miles to Graceland', 'The Hateful Eight', 'Blades of Glory', 'Hop', '300', 'Meet the Fockers', 'Marley & Me', 'The Green Mile', 'Wild Hogs', 'Chicken Little', 'Gone Girl', 'The Bourne Identity', 'GoldenEye', \"The General's Daughter\", 'The Truman Show', 'The Prince of Egypt', 'Daddy Day Care', '2 Guns', 'Cats & Dogs', 'The Italian Job', 'Two Weeks Notice', 'Antz', 'Couples Retreat', 'Days of Thunder', 'Cheaper by the Dozen 2', 'Maze Runner: The Scorch Trials', 'Eat Pray Love', 'The Family Man', 'RED', 'Any Given Sunday', 'The Horse Whisperer', 'Collateral', 'The Scorpion King', 'Ladder 49', 'Jack Reacher', 'Deep Blue Sea', 'This Is It', 'Contagion', 'Kangaroo Jack', 'Coraline', 'The Happening', 'Man on Fire', 'The Shaggy Dog', 'Starsky & Hutch', 'Jingle All the Way', 'Hellboy', 'A Civil Action', 'ParaNorman', 'The Jackal', 'Paycheck', 'Up Close & Personal', 'The Tale of Despereaux', 'The Tuxedo', 'Under Siege 2: Dark Territory', 'Jack Ryan: Shadow Recruit', 'Joy', 'London Has Fallen', 'Alien: Resurrection', 'Shooter', 'The Boxtrolls', 'Practical Magic', 'The Lego Movie', 'Miss Congeniality 2: Armed and Fabulous', 'Reign of Fire', 'Gangster Squad', 'Year One', 'Invictus', 'State of Play', 'Duplicity', 'My Favorite Martian', 'The Sentinel', 'Planet 51', 'Star Trek: Nemesis', 'Intolerable Cruelty', 'Trouble with the Curve', 'Edge of Darkness', 'The Relic', 'Analyze That', 'Righteous Kill', 'Mercury Rising', 'The Soloist', 'The Legend of Bagger Vance', 'Almost Famous', 'Garfield: A Tail of Two Kitties', 'xXx: State of the Union', 'Priest', 'Sinbad: Legend of the Seven Seas', 'Event Horizon', 'Dragonfly', 'The Black Dahlia', 'Flyboys', 'The Last Castle', 'Supernova', \"Winter's Tale\", 'The Mortal Instruments: City of Bones', 'Meet Dave', 'Dark Water', 'Edtv', 'Inkheart', 'The Spirit', 'Mortdecai', 'In the Name of the King: A Dungeon Siege Tale', 'Beyond Borders', 'The Monkey King 2', 'The Great Raid', 'Deadpool', 'Holy Man', 'American Sniper', 'Goosebumps', 'Just Like Heaven', 'The Flintstones in Viva Rock Vegas', 'Rambo III', 'Leatherheads', 'The Ridiculous 6', 'Did You Hear About the Morgans?', 'The Internship', 'Resident Evil: Afterlife', 'Red Tails', \"The Devil's Advocate\", \"That's My Boy\", 'DragonHeart', 'After the Sunset', 'Ghost Rider: Spirit of Vengeance', \"Captain Corelli's Mandolin\", 'The Pacifier', 'Walking Tall', 'Forrest Gump', 'Alvin and the Chipmunks', 'Meet the Parents', 'Pocahontas', 'Superman', 'The Nutty Professor', 'Hitch', 'George of the Jungle', 'American Wedding', 'Captain Phillips', 'Date Night', 'Casper', 'The Equalizer', 'Maid in Manhattan', 'Crimson Tide', 'The Pursuit of Happyness', 'Flightplan', 'Disclosure', 'City of Angels', 'Kill Bill: Vol. 1', 'Bowfinger', 'Kill Bill: Vol. 2', 'Tango & Cash', 'Death Becomes Her', 'Shanghai Noon', 'Executive Decision', \"Mr. Popper's Penguins\", 'The Forbidden Kingdom', 'Free Birds', 'Alien³', 'Evita', 'Ronin', 'The Ghost and the Darkness', 'Paddington', 'The Watch', 'The Hunted', 'Instinct', 'Stuck on You', 'Semi-Pro', 'The Pirates! In an Adventure with Scientists!', 'Changeling', 'Chain Reaction', 'The Fan', 'The Phantom of the Opera', 'Elizabeth: The Golden Age', 'Æon Flux', 'Gods and Generals', 'Turbulence', 'Imagine That', 'Muppets Most Wanted', 'Thunderbirds', 'Burlesque', 'A Very Long Engagement', 'Lolita', 'D-Tox', 'Blade II', 'Seven Pounds', 'Bullet to the Head', 'The Godfather: Part III', 'Elizabethtown', 'You, Me and Dupree', 'Superman II', 'Gigli', \"All the King's Men\", 'Shaft', 'Anastasia', 'Moulin Rouge!', 'Domestic Disturbance', 'Black Mass', 'Flags of Our Fathers', 'Law Abiding Citizen', 'Grindhouse', 'Beloved', 'Lucky You', 'Catch Me If You Can', 'Zero Dark Thirty', 'The Break-Up', 'Mamma Mia!', \"Valentine's Day\", 'The Dukes of Hazzard', 'The Thin Red Line', 'The Change-Up', 'Man on the Moon', 'Casino', 'From Paris with Love', 'Bulletproof Monk', 'Me, Myself & Irene', 'Barnyard', 'Deck the Halls', 'The Twilight Saga: New Moon', 'Shrek', 'The Adjustment Bureau', 'Robin Hood: Prince of Thieves', 'Jerry Maguire', 'Ted', 'As Good as It Gets', 'Patch Adams', 'Anchorman 2: The Legend Continues', 'Mr. Deeds', 'Super 8', 'Erin Brockovich', 'How to Lose a Guy in 10 Days', '22 Jump Street', 'Interview with the Vampire', 'Yes Man', 'Central Intelligence', 'Stepmom', \"Daddy's Home\", 'Into the Woods', 'Inside Man', 'Payback', 'Congo', 'We Bought a Zoo', 'Knowing', 'Failure to Launch', 'The Ring Two', 'Crazy, Stupid, Love.', 'Garfield', 'Christmas with the Kranks', 'Moneyball', 'Outbreak', 'Non-Stop', 'Race to Witch Mountain', 'V for Vendetta', 'Shanghai Knights', 'Curious George', 'Herbie Fully Loaded', \"Don't Say a Word\", 'Hansel & Gretel: Witch Hunters', 'Unfaithful', 'I Am Number Four', 'Syriana', '13 Hours: The Secret Soldiers of Benghazi', 'The Book of Life', 'Firewall', 'Absolute Power', 'G.I. Jane', 'The Game', 'Silent Hill', 'The Replacements', 'American Reunion', 'The Negotiator', 'Into the Storm', 'Beverly Hills Cop III', 'Gremlins 2: The New Batch', 'The Judge', 'The Peacemaker', 'Resident Evil: Apocalypse', 'Bridget Jones: The Edge of Reason', 'Out of Time', 'On Deadly Ground', 'The Adventures of Sharkboy and Lavagirl', 'The Beach', 'Raising Helen', 'Ninja Assassin', 'For Love of the Game', 'Striptease', 'Marmaduke', 'Hereafter', 'Murder by Numbers', 'Assassins', 'Hannibal Rising', 'The Story of Us', 'The Host', 'Basic', 'Blood Work', 'The International', 'Escape from L.A.', 'The Iron Giant', 'The Life Aquatic with Steve Zissou', 'Free State of Jones', 'The Life of David Gale', 'Man of the House', 'Run All Night', 'Eastern Promises', 'Into the Blue', 'The Messenger: The Story of Joan of Arc', 'Your Highness', 'Dream House', 'Mad City', \"Baby's Day Out\", 'The Scarlet Letter', 'Fair Game', 'Domino', 'Jade', 'Gamer', 'Beautiful Creatures', 'Death to Smoochy', 'Zoolander 2', 'The Big Bounce', 'What Planet Are You From?', 'Drive Angry', 'Street Fighter: The Legend of Chun-Li', 'The One', 'The Adventures of Ford Fairlane', 'The Boat That Rocked', 'Traffic', 'Indiana Jones and the Last Crusade', 'Anna Karenina', 'Chappie', 'The Bone Collector', 'Panic Room', 'The Tooth Fairy', 'Three Kings', 'Child 44', 'Rat Race', 'K-PAX', 'Kate & Leopold', 'Bedazzled', 'The Cotton Club', '3:10 to Yuma', 'Taken 3', 'Out of Sight', 'The Cable Guy', 'Earth', 'Dick Tracy', 'The Thomas Crown Affair', 'Riding in Cars with Boys', 'First Blood', 'Solaris', \"Happily N'Ever After\", 'Mary Reilly', \"My Best Friend's Wedding\", \"America's Sweethearts\", 'Insomnia', 'Star Trek: First Contact', 'Jonah Hex', 'Courage Under Fire', 'Liar Liar', 'The Infiltrator', 'Inchon', 'The Flintstones', 'Taken 2', 'Scary Movie 3', 'Miss Congeniality', 'Journey to the Center of the Earth', 'The Princess Diaries 2: Royal Engagement', 'The Pelican Brief', 'The Client', 'The Bucket List', 'Patriot Games', 'Monster-in-Law', 'Prisoners', 'Training Day', 'Galaxy Quest', 'Scary Movie 2', 'The Muppets', 'Blade', 'Coach Carter', 'Changing Lanes', 'Anaconda', 'Coyote Ugly', 'Love Actually', \"A Bug's Life\", 'From Hell', 'The Specialist', 'Tin Cup', 'Yours, Mine and Ours', 'Kicking & Screaming', \"The Hitchhiker's Guide to the Galaxy\", 'Fat Albert', 'Resident Evil: Extinction', 'Blended', 'Last Holiday', 'The River Wild', 'The Indian in the Cupboard', 'Savages', 'Cellular', 'Johnny English', 'The Ant Bully', 'Dune', 'Across the Universe', 'Revolutionary Road', '16 Blocks', 'Babylon A.D.', 'The Glimmer Man', 'Multiplicity', 'Aliens in the Attic', 'The Pledge', 'The Producers', 'The Phantom', 'All the Pretty Horses', 'Nixon', 'The Ghost Writer', 'Deep Rising', 'Miracle at St. Anna', 'Curse of the Golden Flower', 'Bangkok Dangerous', 'Big Trouble', 'Love in the Time of Cholera', 'Shadow Conspiracy', 'Johnny English Reborn', 'Foodfight!', 'Argo', 'The Fugitive', 'The Bounty Hunter', 'Sleepers', 'Rambo: First Blood Part II', 'The Juror', 'Pinocchio', \"Heaven's Gate\", 'Underworld: Evolution', 'Victor Frankenstein', 'Finding Forrester', '28 Days', 'Unleashed', 'The Sweetest Thing', 'The Firm', 'Charlie St. Cloud', 'The Mechanic', '21 Jump Street', 'Notting Hill', 'Chicken Run', 'Along Came Polly', 'Boomerang', 'The Heat', 'Cleopatra', 'Here Comes the Boom', 'High Crimes', 'The Mirror Has Two Faces', 'The Mothman Prophecies', 'Brüno', 'Licence to Kill', 'Red Riding Hood', '15 Minutes', 'Super Mario Bros.', 'Lord of War', 'Hero', 'One for the Money', 'The Interview', \"The Warrior's Way\", 'Micmacs', '8 Mile', 'Why I Did (Not) Eat My Father', \"A Knight's Tale\", 'The Medallion', 'The Sixth Sense', 'Man on a Ledge', 'The Big Year', 'The Karate Kid', 'American Hustle', 'The Proposal', 'Double Jeopardy', 'Back to the Future Part II', 'Lucy', 'Fifty Shades of Grey', 'Spy Kids 3-D: Game Over', 'A Time to Kill', 'Cheaper by the Dozen', 'Lone Survivor', 'A League of Their Own', 'The Conjuring 2', 'The Social Network', \"He's Just Not That Into You\", 'Scary Movie 4', 'Scream 3', 'Back to the Future Part III', 'Get Hard', 'Dracula', 'Julie & Julia', '42', 'The Talented Mr. Ripley', 'Dumb and Dumber To', 'Eight Below', 'The Intern', 'Ride Along 2', 'The Last of the Mohicans', 'Ray', 'Sin City', 'Vantage Point', 'I Love You, Man', 'Shallow Hal', 'JFK', \"Big Momma's House 2\", 'The Mexican', '17 Again', 'The Other Woman', 'The Final Destination', 'Bridge of Spies', 'Behind Enemy Lines', 'Get Him to the Greek', 'Shall We Dance?', 'Small Soldiers', 'Spawn', 'The Count of Monte Cristo', 'The Lincoln Lawyer', 'Unknown', 'The Prestige', 'Horrible Bosses 2', 'Escape from Planet Earth', 'Apocalypto', 'The Living Daylights', 'Predators', 'Legal Eagles', 'Secret Window', 'The Lake House', 'The Skeleton Key', 'The Odd Life of Timothy Green', 'Made of Honor', 'Jersey Boys', 'The Rainmaker', 'Gothika', 'Amistad', 'Medicine Man', 'Aliens vs Predator: Requiem', 'Ri¢hie Ri¢h', 'Autumn in New York', 'Music and Lyrics', 'Paul', 'The Guilt Trip', 'Scream 4', '8MM', 'The Doors', 'Sex Tape', 'Hanging Up', 'Final Destination 5', 'Mickey Blue Eyes', 'Pay It Forward', 'Fever Pitch', 'Drillbit Taylor', 'A Million Ways to Die in the West', 'The Shadow', 'Extremely Loud & Incredibly Close', 'Morning Glory', \"Get Rich or Die Tryin'\", 'The Art of War', 'Rent', 'Bless the Child', 'The Out-of-Towners', 'The Island of Dr. Moreau', 'The Musketeer', 'The Other Boleyn Girl', 'Sweet November', 'The Reaping', 'Mean Streets', 'Renaissance Man', 'Colombiana', 'Quest for Camelot', 'City By The Sea', 'At First Sight', 'Torque', 'City Hall', 'Showgirls', 'Marie Antoinette', 'Kiss of Death', 'Get Carter', 'The Impossible', 'Ishtar', 'Fantastic Mr. Fox', 'Life or Something Like It', 'Memoirs of an Invisible Man', 'Amélie', 'New York Minute', 'Alfie', 'Big Miracle', 'The Deep End of the Ocean', 'FearDotCom', \"Cirque du Freak: The Vampire's Assistant\", 'Duplex', 'Soul Men', 'Raise the Titanic', 'Universal Soldier: The Return', 'Pandorum', 'Impostor', 'Extreme Ops', 'Just Visiting', 'Sunshine', 'A Thousand Words', 'Delgo', 'The Gunman', 'Stormbreaker', 'Disturbia', 'Hackers', 'The Hunting Party', 'The Hudsucker Proxy', 'The Warlords', 'Nomad: The Warrior', 'Snowpiercer', 'A Monster in Paris', 'The Last Shot', 'The Crow', 'Baahubali: The Beginning', \"The Time Traveler's Wife\", 'Because I Said So', 'Frankenweenie', 'Serenity', 'Against the Ropes', 'Superman III', 'Grudge Match', 'Red Cliff', 'Sweet Home Alabama', 'The Ugly Truth', 'Sgt. Bilko', 'Spy Kids 2: The Island of Lost Dreams', 'Star Trek: Generations', 'The Grandmaster', 'Water for Elephants', \"Dragon Nest: Warriors' Dawn\", 'The Hurricane', 'Enough', 'Heartbreakers', 'Paul Blart: Mall Cop 2', 'Angel Eyes', 'Joe Somebody', 'The Ninth Gate', 'Extreme Measures', 'Rock Star', 'Precious', 'White Squall', 'The Thing', 'Riddick', 'Switchback', 'Texas Rangers', 'City of Ember', 'The Master', 'Virgin Territory', 'The Express', 'The 5th Wave', 'Creed', 'The Town', \"What to Expect When You're Expecting\", 'Burn After Reading', \"Nim's Island\", 'Rush', 'Magnolia', 'Cop Out', 'How to Be Single', 'Dolphin Tale', 'Twilight', 'John Q', 'Blue Streak', \"We're the Millers\", 'The Inhabited Island', 'Breakdown', 'Never Say Never Again', 'Hot Tub Time Machine', 'Dolphin Tale 2', 'Reindeer Games', 'A Man Apart', 'Aloha', 'Ghosts of Mississippi', 'Snow Falling on Cedars', 'The Rite', 'Gattaca', \"Isn't She Great\", 'Space Chimps', 'Head of State', 'The Hangover', 'Ip Man 3', 'Austin Powers: The Spy Who Shagged Me', 'Batman', 'There Be Dragons', 'Lethal Weapon 3', 'The Blind Side', 'Spy Kids', 'Horrible Bosses', 'True Grit', 'The Devil Wears Prada', 'Star Trek: The Motion Picture', 'Identity Thief', 'Cape Fear', '21', 'Trainwreck', 'Guess Who', 'The English Patient', 'L.A. Confidential', 'Sky High', 'In & Out', 'Species', 'A Nightmare on Elm Street', 'The Cell', 'The Man in the Iron Mask', 'Secretariat', 'TMNT', 'Radio', 'Friends with Benefits', 'Neighbors 2: Sorority Rising', 'Saving Mr. Banks', 'Malcolm X', 'This Is 40', 'Old Dogs', 'Underworld: Rise of the Lycans', 'License to Wed', 'The Benchwarmers', 'Must Love Dogs', 'Donnie Brasco', 'Resident Evil', 'Poltergeist', 'The Ladykillers', 'Max Payne', 'In Time', 'The Back-Up Plan', 'Something Borrowed', 'Black Knight', 'The Bad News Bears', 'Street Fighter', 'The Pianist', 'The Nativity Story', 'House of Wax', 'Closer', 'J. Edgar', 'Mirrors', 'Queen of the Damned', 'Predator 2', 'Untraceable', 'Blast from the Past', 'Flash Gordon', 'Jersey Girl', 'Alex Cross', 'Midnight in the Garden of Good and Evil', 'Heist', 'Nanny McPhee and the Big Bang', 'Hoffa', 'The X Files: I Want to Believe', 'Ella Enchanted', 'Concussion', 'Abduction', 'Valiant', 'Wonder Boys', 'Superhero Movie', 'Broken City', 'Cursed', 'Premium Rush', 'Hot Pursuit', 'The Four Feathers', 'Parker', 'Wimbledon', 'Furry Vengeance', 'Bait', 'Krull', 'Lions for Lambs', 'Flight of the Intruder', 'Walk Hard: The Dewey Cox Story', 'The Shipping News', 'American Outlaws', 'The Young Victoria', 'Whiteout', 'The Tree of Life', 'Knock Off', 'Sabotage', 'The Order', 'Punisher: War Zone', 'Zoom', 'The Walk', 'Warriors of Virtue', 'A Good Year', 'Radio Flyer', 'Bound by Honor', \"Smilla's Sense of Snow\", 'Femme Fatale', 'Lion of the Desert', 'The Horseman on the Roof', 'Ride with the Devil', 'Biutiful', 'Bandidas', 'Black Water Transit', 'The Maze Runner', 'Unfinished Business', 'The Age of Innocence', 'The Fountain', 'Chill Factor', 'Stolen', 'Ponyo', 'The Longest Ride', \"The Astronaut's Wife\", 'I Dreamed of Africa', 'Playing for Keeps', 'Mandela: Long Walk to Freedom', 'Reds', 'A Few Good Men', 'Exit Wounds', \"Big Momma's House\", 'Thunder and the House of Magic', 'The Darkest Hour', 'Step Up Revolution', 'Snakes on a Plane', 'The Watcher', 'The Punisher', 'Goal!: The Dream Begins', 'Safe', 'Pushing Tin', 'Return of the Jedi', 'Doomsday', 'The Reader', 'Wanderlust', 'Elf', 'Phenomenon', 'Snow Dogs', 'Scrooged', 'Nacho Libre', 'Bridesmaids', 'This Is the End', 'Stigmata', 'Men of Honor', 'Takers', 'The Big Wedding', 'Big Mommas: Like Father, Like Son', 'Source Code', 'Alive', 'The Number 23', 'The Young and Prodigious T.S. Spivet', '1941', 'Dreamer: Inspired By a True Story', 'A History of Violence', 'Transporter 2', 'The Quick and the Dead', 'Laws of Attraction', 'Bringing Out the Dead', 'Repo Men', 'Dragon Wars: D-War', 'Bogus', 'The Incredible Burt Wonderstone', \"Cats Don't Dance\", 'Cradle Will Rock', 'The Good German', 'George and the Dragon', 'Apocalypse Now', 'Going the Distance', \"Mr. Holland's Opus\", 'Criminal', 'Out of Africa', 'Flight', 'Moonraker', 'The Grand Budapest Hotel', 'Hearts in Atlantis', 'Arachnophobia', 'Frequency', 'Vacation', 'Get Shorty', 'Chicago', 'Big Daddy', 'American Pie 2', 'Toy Story', 'Speed', 'The Vow', 'Extraordinary Measures', 'Remember the Titans', 'The Hunt for Red October', 'The Butler', 'DodgeBall: A True Underdog Story', 'The Addams Family', 'Ace Ventura: When Nature Calls', 'The Princess Diaries', 'The First Wives Club', 'Se7en', 'District 9', 'The SpongeBob SquarePants Movie', 'Mystic River', 'Million Dollar Baby', 'Analyze This', 'The Notebook', '27 Dresses', 'Hannah Montana: The Movie', 'Rugrats in Paris: The Movie', 'The Prince of Tides', 'Legends of the Fall', 'Up in the Air', 'About Schmidt', 'Warm Bodies', 'Looper', 'Down to Earth', 'Babe', 'Hope Springs', 'Forgetting Sarah Marshall', 'Four Brothers', 'Baby Mama', 'Hope Floats', 'Bride Wars', 'Without a Paddle', '13 Going on 30', 'Midnight in Paris', 'The Nut Job', 'Blow', 'Message in a Bottle', 'Star Trek V: The Final Frontier', 'Like Mike', 'The Naked Gun 33⅓: The Final Insult', 'A View to a Kill', 'The Curse of the Were-Rabbit', 'P.S. I Love You', 'Racing Stripes', 'Atonement', 'Letters to Juliet', 'Black Rain', 'The Three Stooges', 'Corpse Bride', 'Glory Road', 'Sicario', 'Southpaw', 'Drag Me to Hell', 'The Age of Adaline', 'Secondhand Lions', 'Step Up 3D', 'Blue Crush', 'Stranger Than Fiction', '30 Days of Night', 'The Cabin in the Woods', 'Meet the Spartans', 'Midnight Run', 'The Running Man', 'Little Shop of Horrors', 'Hanna', 'Mortal Kombat: Annihilation', 'Larry Crowne', 'Carrie', 'Take the Lead', 'Gridiron Gang', \"What's the Worst That Could Happen?\", '9', 'Side Effects', 'The Prince & Me', 'Winnie the Pooh', 'Dumb and Dumberer: When Harry Met Lloyd', 'Bulworth', 'Get on Up', 'One True Thing', 'Virtuosity', 'My Super Ex-Girlfriend', 'Deliver Us from Evil', 'Sanctum', 'Little Black Book', 'The Five-Year Engagement', 'Mr. 3000', 'The Next Three Days', 'Ultraviolet', 'Assault on Precinct 13', 'The Replacement Killers', 'Fled', 'Eight Legged Freaks', 'Love & Other Drugs', '88 Minutes', 'North Country', 'The Whole Ten Yards', 'Splice', 'Howard the Duck', 'Pride and Glory', 'The Cave', 'Alex & Emma', 'Wicker Park', 'Fright Night', 'The New World', 'Wing Commander', 'In Dreams', 'Dragonball Evolution', 'The Last Stand', 'Godsend', 'Chasing Liberty', 'Hoodwinked Too! Hood VS. Evil', 'An Unfinished Life', 'The Imaginarium of Doctor Parnassus', \"Barney's Version\", 'Runner Runner', 'Antitrust', 'Glory', 'Once Upon a Time in America', 'Dead Man Down', 'The Merchant of Venice', 'The Good Thief', 'Supercross', 'Miss Potter', 'The Promise', 'DOA: Dead or Alive', 'The Assassination of Jesse James by the Coward Robert Ford', '1911', 'Little Nicholas', 'Wild Card', 'Machine Gun Preacher', 'Animals United', 'Goodbye Bafana', 'United Passions', 'Grace of Monaco', 'Savva. Heart of the Warrior', \"Ripley's Game\", 'Sausage Party', 'Pitch Perfect 2', 'Walk the Line', 'Keeping the Faith', 'The Borrowers', 'Frost/Nixon', 'Confessions of a Dangerous Mind', 'Serving Sara', 'The Boss', 'Cry Freedom', 'Mumford', 'Seed of Chucky', 'The Jacket', 'Aladdin', 'Straight Outta Compton', 'Indiana Jones and the Temple of Doom', 'The Rugrats Movie', 'Along Came a Spider', 'Florence Foster Jenkins', 'Once Upon a Time in Mexico', 'Die Hard', 'Role Models', 'The Big Short', 'Taking Woodstock', 'Miracle', 'Dawn of the Dead', 'The Wedding Planner', 'Space Pirate Captain Harlock', 'The Royal Tenenbaums', 'Identity', 'Last Vegas', 'For Your Eyes Only', 'Serendipity', 'Timecop', 'Zoolander', 'Safe Haven', 'Hocus Pocus', 'No Reservations', 'Kick-Ass', '30 Minutes or Less', 'Dracula 2000', 'Alexander and the Terrible, Horrible, No Good, Very Bad Day', 'Pride & Prejudice', 'Blade Runner', 'Rob Roy', '3 Days to Kill', 'We Own the Night', 'Lost Souls', 'Winged Migration', 'Just My Luck', 'Mystery, Alaska', 'The Spy Next Door', 'A Simple Wish', 'Ghosts of Mars', 'Our Brand Is Crisis', 'Pride and Prejudice and Zombies', 'Kundun', 'How to Lose Friends & Alienate People', 'Kick-Ass 2', 'Alatriste', 'Brick Mansions', 'Octopussy', 'Knocked Up', \"My Sister's Keeper\", 'Welcome Home Roscoe Jenkins', 'A Passage to India', 'Notes on a Scandal', 'Rendition', 'Star Trek VI: The Undiscovered Country', 'Divine Secrets of the Ya-Ya Sisterhood', 'Kiss the Girls', 'The Blues Brothers', 'The Sisterhood of the Traveling Pants 2', 'Joyful Noise', 'About a Boy', 'Lake Placid', 'Lucky Number Slevin', 'The Right Stuff', 'Anonymous', 'The NeverEnding Story', 'Dark City', 'The Duchess', 'Return to Oz', 'The Newton Boys', 'Case 39', 'Suspect Zero', 'Martian Child', 'Spy Kids: All the Time in the World', 'Money Monster', 'The 51st State', 'Flawless', 'Mindhunters', 'What Just Happened', 'The Statement', 'The Magic Flute', 'Paul Blart: Mall Cop', 'Freaky Friday', 'The 40 Year Old Virgin', 'Shakespeare in Love', 'A Walk Among the Tombstones', 'Kindergarten Cop', 'Pineapple Express', 'Ever After: A Cinderella Story', 'Open Range', 'Flatliners', 'A Bridge Too Far', 'Red Eye', 'Final Destination 2', 'O Brother, Where Art Thou?', 'Legion', 'Pain & Gain', 'In Good Company', 'Clockstoppers', 'Silverado', 'Brothers', 'Agent Cody Banks 2: Destination London', \"New Year's Eve\", 'Original Sin', 'The Raven', 'Welcome to Mooseport', 'Highlander: The Final Dimension', 'Blood and Wine', 'Snow White: A Tale of Terror', 'The Curse of the Jade Scorpion', 'Accidental Love', 'Flipper', 'Self/less', 'The Constant Gardener', 'The Passion of the Christ', 'Mrs. Doubtfire', 'Rain Man', 'Gran Torino', 'W.', 'Taken', 'The Best of Me', 'The Bodyguard', \"Schindler's List\", 'The Help', 'The Fifth Estate', 'Scooby-Doo 2: Monsters Unleashed', 'Forbidden Kingdom', 'Freddy vs. Jason', 'The Face of an Angel', 'Jimmy Neutron: Boy Genius', 'Cloverfield', 'Teenage Mutant Ninja Turtles II: The Secret of the Ooze', 'The Untouchables', 'No Country for Old Men', 'Ride Along', \"Bridget Jones's Diary\", 'Chocolat', 'Legally Blonde 2: Red, White & Blonde', 'Parental Guidance', 'No Strings Attached', 'Tombstone', 'Romeo Must Die', 'The Omen', 'Final Destination 3', 'The Lucky One', 'Bridge to Terabithia', 'Finding Neverland', 'A Madea Christmas', 'The Grey', 'Hide and Seek', 'Anchorman: The Legend of Ron Burgundy', 'GoodFellas', 'Agent Cody Banks', 'Nanny McPhee', 'Scarface', 'Nothing to Lose', 'The Last Emperor', 'Contraband', 'Money Talks', 'There Will Be Blood', 'The Wild Thornberrys Movie', 'Rugrats Go Wild', 'Undercover Brother', 'The Sisterhood of the Traveling Pants', 'Kiss of the Dragon', 'The House Bunny', 'Beauty Shop', 'Million Dollar Arm', 'The Giver', 'What a Girl Wants', 'Jeepers Creepers 2', 'Good Luck Chuck', 'Cradle 2 the Grave', 'The Hours', \"She's the Man\", \"Mr. Bean's Holiday\", 'Anacondas: The Hunt for the Blood Orchid', 'Blood Ties', 'August Rush', 'Elizabeth', 'Bride of Chucky', 'Tora! Tora! Tora!', 'Spice World', 'The Sitter', 'Dance Flick', 'The Shawshank Redemption', 'Crocodile Dundee in Los Angeles', 'Kingpin', 'The Gambler', 'August: Osage County', 'Ice Princess', 'A Lot Like Love', 'Eddie the Eagle', 'He Got Game', 'Don Juan DeMarco', 'Dear John', 'The Losers', \"Don't Be Afraid of the Dark\", 'War', 'Punch-Drunk Love', 'EuroTrip', 'Half Past Dead', 'Unaccompanied Minors', 'Bright Lights, Big City', 'The Adventures of Pinocchio', 'The Greatest Game Ever Played', 'The Box', 'The Ruins', 'The Next Best Thing', 'My Soul to Take', 'The Girl Next Door', 'Maximum Risk', 'Stealing Harvard', 'Legend', 'Hot Rod', 'Shark Night', \"Angela's Ashes\", 'Draft Day', 'Lifeforce', 'The Conspirator', 'Lords of Dogtown', 'The 33', 'Big Trouble in Little China', 'Fly Me to the Moon', 'Warrior', 'Michael Collins', 'Gettysburg', 'Stop-Loss', 'Abandon', 'Brokedown Palace', 'The Possession', 'Mrs. Winterbourne', 'Straw Dogs', 'The Hoax', 'Stone Cold', 'The Road', 'Sheena', 'Underclassman', \"Say It Isn't So\", \"The World's Fastest Indian\", 'Tank Girl', \"King's Ransom\", 'Blindness', 'BloodRayne', 'Carnage', 'Where the Truth Lies', 'Cirque du Soleil: Worlds Away', 'Without Limits', 'Me and Orson Welles', 'The Best Offer', 'The Bad Lieutenant: Port of Call - New Orleans', \"A Turtle's Tale: Sammy's Adventures\", 'Little White Lies', 'Love Ranch', \"The True Story of Puss 'n Boots\", 'Space Dogs', 'The Counselor', 'Ironclad', 'Waterloo', 'Kung Fu Jungle', 'Red Sky', 'Dangerous Liaisons', 'On the Road', 'Star Trek IV: The Voyage Home', 'Rocky Balboa', 'Scream 2', 'Jane Got a Gun', 'Think Like a Man Too', 'The Whole Nine Yards', 'Footloose', 'Old School', 'The Fisher King', 'I Still Know What You Did Last Summer', 'Return to Me', 'Zack and Miri Make a Porno', 'Nurse Betty', 'The Men Who Stare at Goats', 'Double Take', 'Girl, Interrupted', 'Win a Date with Tad Hamilton!', 'Muppets from Space', 'The Wiz', 'Ready to Rumble', 'Play It to the Bone', \"I Don't Know How She Does It\", 'Piranha 3D', 'Beyond the Sea', 'Meet the Deedles', 'The Thief and the Cobbler', 'The Bridge of San Luis Rey', 'Faster', \"Howl's Moving Castle\", 'Zombieland', 'The Waterboy', 'The Empire Strikes Back', 'Bad Boys', 'The Naked Gun 2½: The Smell of Fear', 'Final Destination', 'The Ides of March', 'Pitch Black', 'Someone Like You...', 'Her', 'Joy Ride', 'The Adventurer: The Curse of the Midas Box', 'Anywhere But Here', 'The Crew', 'Haywire', 'Jaws: The Revenge', \"Marvin's Room\", 'The Longshots', 'The End of the Affair', 'Harley Davidson and the Marlboro Man', 'In the Valley of Elah', 'Coco Before Chanel', 'Forsaken', 'Cheri', 'Vanity Fair', 'Bodyguards and Assassins', '1408', 'Spaceballs', 'The Water Diviner', 'Ghost', \"There's Something About Mary\", 'The Santa Clause', 'The Rookie', 'The Game Plan', 'The Bridges of Madison County', 'The Animal', 'Gandhi', 'The Hundred-Foot Journey', 'The Net', 'I Am Sam', 'Son of God', 'Underworld', 'Derailed', 'The Informant!', 'Shadowlands', 'Deuce Bigalow: European Gigolo', 'Delivery Man', 'Our Kind of Traitor', 'Saving Silverman', 'Diary of a Wimpy Kid: Dog Days', 'Summer of Sam', 'Jay and Silent Bob Strike Back', 'The Glass House', 'Hail, Caesar!', 'Josie and the Pussycats', 'Homefront', 'The Little Vampire', 'I Heart Huckabees', 'RoboCop 3', 'Megiddo: The Omega Code 2', 'Darling Lili', 'Dudley Do-Right', 'The Transporter Refueled', 'The Libertine', 'Black Book', 'Joyeux Noël', 'Hit & Run', 'Mad Money', 'Before I Go to Sleep', 'Sorcerer', 'Stone', 'Moliere', 'Out of the Furnace', 'Michael Clayton', 'My Fellow Americans', 'Arlington Road', 'Underdogs', 'To Rome with Love', 'Firefox', 'South Park: Bigger, Longer & Uncut', 'Death at a Funeral', 'Teenage Mutant Ninja Turtles III', 'Hardball', 'Silver Linings Playbook', 'Freedom Writers', 'For Colored Girls', 'The Transporter', 'Never Back Down', 'The Rage: Carrie 2', 'Away We Go', 'Swing Vote', 'Moonlight Mile', 'Tinker Tailor Soldier Spy', 'Molly', 'The Beaver', 'The Best Little Whorehouse in Texas', 'eXistenZ', 'Raiders of the Lost Ark', 'Home Alone 2: Lost in New York', 'Close Encounters of the Third Kind', 'Pulse', 'Beverly Hills Cop II', 'Bringing Down the House', 'The Silence of the Lambs', \"Wayne's World\", 'Jackass 3D', 'Jaws 2', 'Beverly Hills Chihuahua', 'The Conjuring', 'Are We There Yet?', 'Tammy', 'School of Rock', 'Mortal Kombat', 'White Chicks', 'The Descendants', 'Holes', 'The Last Song', '12 Years a Slave', 'Drumline', 'Why Did I Get Married Too?', 'Edward Scissorhands', 'Me Before You', \"Madea's Witness Protection\", 'The French Connection', 'Bad Moms', 'Date Movie', 'Return to Never Land', 'Selma', 'The Jungle Book 2', 'Boogeyman', 'Premonition', 'The Tigger Movie', 'Orphan', 'Max', 'Epic Movie', 'Spotlight', 'Lakeview Terrace', 'The Grudge 2', 'How Stella Got Her Groove Back', \"Bill & Ted's Bogus Journey\", 'Man of the Year', 'The Black Hole', 'The American', 'Selena', 'Vampires Suck', 'Babel', 'This Is Where I Leave You', 'Doubt', 'Team America: World Police', 'Texas Chainsaw 3D', 'Copycat', 'Scary Movie 5', 'Paint Your Wagon', 'Milk', 'Risen', 'Ghost Ship', 'A Very Harold & Kumar Christmas', 'Wild Things', 'The Stepfather', 'The Debt', 'High Fidelity', 'One Missed Call', 'Eye for an Eye', 'The Bank Job', 'Eternal Sunshine of the Spotless Mind', 'You Again', 'Street Kings', \"The World's End\", 'Nancy Drew', 'Daybreakers', \"She's Out of My League\", 'Monte Carlo', 'Stay Alive', 'Quigley Down Under', 'Alpha and Omega', 'The Covenant', 'Stick It', 'Shorts', 'To Die For', 'Nerve', 'Appaloosa', 'Vampires', 'Psycho', \"My Best Friend's Girl\", 'Endless Love', 'Georgia Rule', 'Under the Rainbow', 'Ladyhawke', 'Simon Birch', 'Reign Over Me', 'Into the Wild', 'School for Scoundrels', 'Silent Hill: Revelation 3D', 'From Dusk Till Dawn', \"Pooh's Heffalump Movie\", 'Home for the Holidays', 'Kung Fu Hustle', 'The Country Bears', 'The Kite Runner', '21 Grams', 'Paparazzi', 'A Guy Thing', 'Loser', 'Capitalism: A Love Story', 'The Greatest Story Ever Told', 'Secret in Their Eyes', 'Disaster Movie', 'Armored', 'The Man Who Knew Too Little', \"What's Your Number?\", 'Lockout', 'Envy', 'Crank: High Voltage', 'Bullets Over Broadway', 'One Night with the King', 'The Quiet American', 'The Weather Man', 'Undisputed', 'Ghost Town', '12 Rounds', 'Let Me In', '3 Ninjas Kick Back', 'Be Kind Rewind', 'Mrs Henderson Presents', 'Triple 9', 'Deconstructing Harry', 'Three to Tango', 'Burnt', \"We're No Angels\", 'Everyone Says I Love You', 'Death Sentence', \"Everybody's Fine\", 'Superbabies: Baby Geniuses 2', 'The Man', 'Code Name: The Cleaner', 'Connie and Carla', 'Sweet Charity', 'Inherent Vice', 'Doogal', 'Battle of the Year', 'An American Carol', 'Machete Kills', 'Willard', 'Strange Wilderness', 'Topsy-Turvy', 'Little Boy', 'A Dangerous Method', 'A Scanner Darkly', 'Chasing Mavericks', 'Alone in the Dark', 'Bandslam', 'Birth', 'A Most Violent Year', 'Passchendaele', 'Flash of Genius', \"I'm Not There.\", 'The Cold Light of Day', 'The Brothers Bloom', 'Synecdoche, New York', 'Princess Mononoke', 'Bon voyage', \"Can't Stop the Music\", 'The Proposition', 'My All American', 'Marci X', 'Equilibrium', 'The Children of Huang Shi', 'The Yards', 'The Oogieloves in the Big Balloon Adventure', 'By the Sea', 'Steamboy', 'The Game of Their Lives', 'All Good Things', 'Rapa Nui', 'CJ7', 'The Visitors II: The Corridors of Time', 'Dylan Dog: Dead of Night', 'People I Know', 'The Tempest', 'Regression', 'Three Kingdoms: Resurrection of the Dragon', 'Butterfly on a Wheel', 'Zambezia', 'Ramanujan', 'Dwegons', 'Hands of Stone', 'Survivor', 'The Frozen Ground', 'The Painted Veil', 'The Baader Meinhof Complex', 'Dances with Wolves', 'Bad Teacher', 'Sea of Love', 'A Cinderella Story', 'Scream', 'Thir13en Ghosts', 'The Shining', 'Back to the Future', 'House on Haunted Hill', 'I Can Do Bad All By Myself', 'Fight Valley', 'The Switch', 'Just Married', \"The Devil's Double\", 'Thomas and the Magic Railroad', 'The Crazies', 'Spirited Away', 'Firestorm', 'The Bounty', 'The Book Thief', 'Sex Drive', 'Leap Year', 'The Fall of the Roman Empire', 'Take Me Home Tonight', \"Won't Back Down\", 'The Nutcracker', 'Kansas City', 'Indignation', 'The Amityville Horror', 'Adaptation.', 'Land of the Dead', 'Out of Inferno', 'Fear and Loathing in Las Vegas', 'The Invention of Lying', 'Neighbors', 'The Mask', 'Big', 'Borat: Cultural Learnings of America for Make Benefit Glorious Nation of Kazakhstan', 'Legally Blonde', 'Star Trek III: The Search for Spock', 'The Exorcism of Emily Rose', 'Deuce Bigalow: Male Gigolo', 'Left Behind', 'The Family Stone', 'Barbershop 2:  Back in Business', 'Bad Santa', 'Austin Powers: International Man of Mystery', 'My Big Fat Greek Wedding 2', 'Diary of a Wimpy Kid: Rodrick Rules', 'Predator', 'Amadeus', 'Prom Night', 'Mean Girls', 'Under the Tuscan Sun', 'Gosford Park', 'Peggy Sue Got Married', 'Birdman', 'Blue Jasmine', 'United 93', 'Honey', 'Spy Hard', 'The Fog', 'Soul Surfer', 'Catch-22', 'Observe and Report', 'Conan the Destroyer', 'Raging Bull', 'Love Happens', 'Young Sherlock Holmes', 'Fame', '127 Hours', 'Small Time Crooks', 'Center Stage', 'Love the Coopers', 'Catch That Kid', 'Life as a House', 'Steve Jobs', 'I Love You, Beth Cooper', 'Youth in Revolt', 'The Legend of the Lone Ranger', 'The Tailor of Panama', 'Blow Out', 'Getaway', 'The Ice Storm', 'And So It Goes', 'Troop Beverly Hills', 'Being Julia', 'Nine 1/2 Weeks', 'Dragonslayer', 'The Last Station', 'Ed Wood', 'Labor Day', 'Mongol: The Rise of Genghis Khan', 'RockNRolla', 'Megaforce', 'Hamlet', \"Mao's Last Dancer\", 'Midnight Special', 'Anything Else', 'The Railway Man', 'The White Ribbon', 'Restoration', 'The Wraith', 'Salton Sea', 'Metallica: Through the Never', 'The Informers', 'Carlos', 'I Come with the Rain', \"One Man's Hero\", 'Day of the Dead', 'I Am Wrath', 'Renaissance', 'Red Sonja', 'Red Lights', 'Superbad', 'Madea Goes to Jail', 'Wolves', 'Step Up 2: The Streets', 'Hoodwinked!', 'Hotel Rwanda', 'Hitman', 'Black Nativity', 'The Prince', 'City of Ghosts', 'The Others', 'Aliens', 'My Fair Lady', 'I Know What You Did Last Summer', \"Let's Be Cops\", 'Sideways', 'Beerfest', 'Halloween', 'Good Boy!', 'The Best Man Holiday', \"Smokin' Aces\", 'Saw: The Final Chapter', '40 Days and 40 Nights', 'A Night at the Roxbury', 'Beastly', 'The Hills Have Eyes', 'Dickie Roberts: Former Child Star', 'McFarland, USA', 'Lottery Ticket', 'ATL', 'Pitch Perfect', 'Summer Catch', 'A Simple Plan', 'They', 'Larry the Cable Guy: Health Inspector', 'The Adventures of Elmo in Grouchland', \"Brooklyn's Finest\", '55 Days at Peking', 'Evil Dead', 'My Life in Ruins', 'American Dreamz', 'Superman IV: The Quest for Peace', 'How She Move', 'Running Scared', 'Bobby Jones: Stroke of Genius', 'Shanghai Surprise', 'The Illusionist', 'Roar', 'Veronica Guerin', 'Escobar: Paradise Lost', 'Southland Tales', 'Dragon Hunters', 'Damnation Alley', 'The Apparition', 'My Girl', 'Fur: An Imaginary Portrait of Diane Arbus', 'Wall Street', 'Sense and Sensibility', 'Becoming Jane', 'Sydney White', 'House of Sand and Fog', 'Dead Poets Society', 'Dumb and Dumber', 'When Harry Met Sally...', 'The Verdict', 'Road Trip', 'Varsity Blues', 'The Artist', 'The Unborn', 'Moonrise Kingdom', 'The Texas Chainsaw Massacre: The Beginning', 'The Young Messiah', 'The Master of Disguise', \"Pan's Labyrinth\", 'See Spot Run', 'Baby Boy', 'The Roommate', 'Joe Dirt', 'Double Impact', 'Hot Fuzz', 'The Women', 'Vicky Cristina Barcelona', 'Arn: The Knight Templar', 'Boys and Girls', 'White Oleander', \"Jennifer's Body\", 'Drowning Mona', 'Radio Days', 'Remember Me', 'How to Deal', 'My Stepmother is an Alien', 'Philadelphia', 'The Thirteenth Floor', 'The Cookout', 'Meteor', 'Duets', 'Hollywood Ending', 'Detroit Rock City', 'Highlander', 'Things We Lost in the Fire', 'Steel', 'The Immigrant', 'The White Countess', 'Trance', 'Soul Plane', 'Welcome to the Sticks', 'Good', 'Enter the Void', 'Vamps', \"Hachi: A Dog's Tale\", 'Zulu', 'The Homesman', 'Juwanna Mann', 'Ararat', 'Madison', 'Slow Burn', 'Wasabi', 'Slither', 'Beverly Hills Cop', 'Home Alone', 'Three Men and a Baby', 'Tootsie', 'Top Gun', 'Crouching Tiger, Hidden Dragon', 'American Beauty', \"The King's Speech\", 'Twins', 'The Yellow Handkerchief', 'The Color Purple', 'Tidal Wave', 'The Imitation Game', 'Private Benjamin', \"Coal Miner's Daughter\", 'Diary of a Wimpy Kid', 'Mama', \"National Lampoon's Vacation\", 'Bad Grandpa', 'The Queen', 'Beetlejuice', 'Why Did I Get Married?', 'Little Women', 'The Woman in Black', 'When a Stranger Calls', 'Big Fat Liar', 'The Deer Hunter', 'Wag the Dog', 'The Lizzie McGuire Movie', 'Snitch', 'Krampus', 'The Faculty', \"What's Love Got to Do with It\", 'Cop Land', 'Not Another Teen Movie', 'End of Watch', 'The Skulls', 'The Theory of Everything', \"Malibu's Most Wanted\", 'Where the Heart Is', 'Lawrence of Arabia', 'Halloween II', 'Wild', 'The Last House on the Left', 'The Wedding Date', 'Halloween: Resurrection', 'The Princess Bride', 'The Great Debaters', 'Drive', 'Confessions of a Teenage Drama Queen', 'The Object of My Affection', '28 Weeks Later', 'When the Game Stands Tall', 'Because of Winn-Dixie', 'Love & Basketball', 'Grosse Pointe Blank', 'All About Steve', 'Book of Shadows: Blair Witch 2', 'The Craft', 'Match Point', 'Ramona and Beezus', 'The Remains of the Day', 'Boogie Nights', 'Nowhere to Run', 'Flicka', 'The Hills Have Eyes 2', 'Urban Legends: Final Cut', 'Tuck Everlasting', 'The Marine', 'Keanu', 'Country Strong', 'Disturbing Behavior', 'The Place Beyond the Pines', 'The November Man', 'Eye of the Beholder', 'The Hurt Locker', 'Firestarter', 'Killing Them Softly', 'A Most Wanted Man', 'Freddy Got Fingered', \"VeggieTales: The Pirates Who Don't Do Anything\", 'U2 3D', 'Highlander: Endgame', 'Idlewild', 'One Day', 'Whip It', 'Knockaround Guys', 'Confidence', 'The Muse', 'De-Lovely', 'New York Stories', \"Barney's Great Adventure\", 'The Man with the Iron Fists', 'Home Fries', 'Here On Earth', 'Brazil', 'Raise Your Voice', 'The Big Lebowski', 'Black Snake Moan', 'Dark Blue', 'A Mighty Heart', 'Whatever It Takes', 'Boat Trip', 'The Importance of Being Earnest', 'The Love Letter', 'Hoot', 'In Bruges', 'Peeples', 'The Rocker', 'Post Grad', 'Promised Land', 'Whatever Works', 'The In Crowd', 'The Three Burials of Melquiades Estrada', 'Jakob the Liar', 'Kiss Kiss Bang Bang', 'Idle Hands', 'Mulholland Drive', 'Blood and Chocolate', 'You Will Meet a Tall Dark Stranger', 'Never Let Me Go', 'The Company', 'Transsiberian', 'The Clan of the Cave Bear', 'Crazy in Alabama', 'Funny Games', 'Listening', \"Felicia's Journey\", 'Metropolis', 'District B13', \"Things to Do in Denver When You're Dead\", 'The Assassin', 'Buffalo Soldiers', 'The Return', 'Ong Bak 2', 'Centurion', 'Silent Trigger', 'The Midnight Meat Train', 'Winnie Mandela', 'The Son of No One', \"All The Queen's Men\", 'The Good Night', 'Bathory: Countess of Blood', 'Khumba', 'Automata', 'Dungeons & Dragons: Wrath of the Dragon God', 'Chiamatemi Francesco - Il Papa della gente', 'Shinjuku Incident', 'Pandaemonium', 'Groundhog Day', 'Magic Mike XXL', 'Romeo + Juliet', \"Sarah's Key\", 'Freedom', 'Unforgiven', 'Manderlay', 'Slumdog Millionaire', 'Fatal Attraction', 'Pretty Woman', 'Crocodile Dundee II', 'Broken Horses', 'Born on the Fourth of July', 'Cool Runnings', 'My Bloody Valentine', 'Stomp the Yard', 'The Spy Who Loved Me', 'Urban Legend', 'Good Deeds', 'White Fang', 'Superstar', 'The Iron Lady', 'Jonah: A VeggieTales Movie', 'Poetic Justice', 'All About the Benjamins', 'Vampire in Brooklyn', 'Exorcist II: The Heretic', 'An American Haunting', \"My Boss's Daughter\", 'A Perfect Getaway', 'Our Family Wedding', 'Dead Man on Campus', 'Tea with Mussolini', 'Thinner', 'New York, New York', 'Crooklyn', 'I Think I Love My Wife', 'Jason X', 'Bobby', 'Head Over Heels', 'Fun Size', 'The Diving Bell and the Butterfly', 'Little Children', 'Gossip', 'A Walk on the Moon', 'Catch a Fire', 'Soul Survivors', 'Jefferson in Paris', 'Easy Virtue', 'Caravans', 'Mr. Turner', 'Wild Grass', 'Amen.', 'Reign of Assassins', 'The Lucky Ones', 'Margaret', 'Stan Helsing', 'Flipped', 'Brokeback Mountain', 'Clueless', 'Far from Heaven', 'Hot Tub Time Machine 2', 'Quills', 'Seven Psychopaths', \"The Caveman's Valentine\", 'Downfall', 'The Sea Inside', 'Under the Skin', 'Good Morning, Vietnam', 'The Last Godfather', 'Justin Bieber: Never Say Never', 'Black Swan', 'The Godfather: Part II', 'Save the Last Dance', 'A Nightmare on Elm Street 4: The Dream Master', 'Miracles from Heaven', 'Dude, Where’s My Car?', 'Young Guns', 'St. Vincent', 'About Last Night', '10 Things I Hate About You', 'The New Guy', \"National Lampoon's Loaded Weapon 1\", 'The Shallows', 'The Butterfly Effect', 'Snow Day', 'This Christmas', 'Baby Geniuses', 'The Big Hit', 'Harriet the Spy', \"Child's Play 2\", 'No Good Deed', 'The Mist', 'Ex Machina', 'Being John Malkovich', 'Two Can Play That Game', 'Earth to Echo', 'Crazy/Beautiful', 'Letters from Iwo Jima', 'The Astronaut Farmer', 'Woo', 'Room', 'Dirty Work', 'Serial Mom', 'Dick', 'Light It Up', '54', 'Bubble Boy', 'Birthday Girl', '21 & Over', \"Paris, je t'aime\", 'Resurrecting the Champ', 'Admission', 'The Widow of Saint-Pierre', 'Chloe', 'Faithful', 'Find Me Guilty', 'The Perks of Being a Wallflower', 'Excessive Force', 'Infamous', 'The Claim', 'The Vatican Tapes', 'Attack the Block', 'In the Land of Blood and Honey', 'The Call', 'Operation Chromite', 'The Crocodile Hunter: Collision Course', 'I Love You Phillip Morris', 'Quest for Fire', 'Antwone Fisher', \"The Emperor's Club\", 'True Romance', 'Womb', 'Glengarry Glen Ross', 'The Killer Inside Me', 'Cat People', 'Sorority Row', 'The Prisoner of Zenda', 'Lars and the Real Girl', 'The Boy in the Striped Pyjamas', 'Dancer in the Dark', 'Oscar and Lucinda', 'The Funeral', 'Solitary Man', 'Machete', 'Casino Jack', 'The Land Before Time', 'Tae Guk Gi: The Brotherhood of War', 'The Perfect Game', 'The Exorcist', 'Jaws', 'American Pie', 'Ernest & Celestine', 'The Golden Child', 'Think Like a Man', 'Barbershop', 'Star Trek II: The Wrath of Khan', 'Ace Ventura: Pet Detective', 'WarGames', 'Witness', 'Act of Valor', 'Step Up', 'Beavis and Butt-Head Do America', 'Jackie Brown', 'Harold & Kumar Escape from Guantanamo Bay', 'Chronicle', 'Yentl', 'Time Bandits', 'Crossroads', 'Project X', 'Patton', 'One Hour Photo', 'Quarantine', 'The Eye', 'Johnson Family Vacation', 'How High', 'The Muppet Christmas Carol', 'Frida', 'Katy Perry: Part of Me', 'The Fault in Our Stars', 'Rounders', 'Top Five', 'Prophecy', 'Stir of Echoes', 'Philomena', 'The Upside of Anger', 'The Boys from Brazil', 'Aquamarine', 'Paper Towns', \"My Baby's Daddy\", 'Nebraska', 'Tales from the Crypt: Demon Knight', \"Max Keeble's Big Move\", 'Young Adult', 'Crank', \"Def Jam's How to Be a Player\", 'Living Out Loud', 'Just Wright', 'Rachel Getting Married', 'The Postman Always Rings Twice', 'Girl with a Pearl Earring', 'Das Boot', 'Sorority Boys', 'About Time', 'House of Flying Daggers', 'Arbitrage', 'Project Almanac', 'Cadillac Records', 'Screwed', 'Fortress', 'For Your Consideration', 'Celebrity', 'Running with Scissors', 'From Justin to Kelly', 'Girl 6', 'In the Cut', 'Two Lovers', 'Last Orders', 'The Host', 'The Pursuit of D.B. Cooper', 'Ravenous', 'Charlie Bartlett', 'The Great Beauty', 'The Dangerous Lives of Altar Boys', 'Stoker', '2046', 'Married Life', 'Duma', 'Ondine', 'Brother', 'Welcome to Collinwood', 'Critical Care', 'The Life Before Her Eyes', 'Darling Companion', 'Trade', 'Fateless', 'Breakfast of Champions', 'A Woman, a Gun and a Noodle Shop', 'Cypher', 'City of Life and Death', 'Legend of a Rabbit', 'Space Battleship Yamato', '5 Days of War', 'Triangle', '10 Days in a Madhouse', 'Heaven is for Real', 'Snatch', \"Dancin' It's On\", 'Pet Sematary', 'Madadayo', 'The Cry of the Owl', 'A Tale of Three Cities', 'Gremlins', 'Star Wars', 'Dirty Grandpa', 'Doctor Zhivago', 'Trash', 'High School Musical 3: Senior Year', 'The Fighter', 'Jackass Number Two', 'My Cousin Vinny', 'If I Stay', 'Drive Hard', 'Major League', \"St. Trinian's\", 'Phone Booth', 'A Walk to Remember', 'Dead Man Walking', 'Cruel Intentions', 'Saw VI', 'History of the World: Part I', 'The Secret Life of Bees', 'Corky Romano', 'Raising Cain', 'F.I.S.T.', 'Invaders from Mars', 'Brooklyn', 'Barry Lyndon', 'Out Cold', 'The Ladies Man', 'Quartet', 'Tomcats', 'Frailty', 'Woman in Gold', 'Kinsey', 'Army of Darkness', 'Slackers', \"What's Eating Gilbert Grape\", 'The Visual Bible: The Gospel of John', 'Vera Drake', 'The Guru', 'The Perez Family', 'Inside Llewyn Davis', 'O', 'Return to the Blue Lagoon', 'The Molly Maguires', 'Romance & Cigarettes', 'Copying Beethoven', 'Brighton Rock', 'Saw V', 'Machine Gun McCain', 'LOL', 'Jindabyne', 'Kabhi Alvida Naa Kehna', 'An Ideal Husband', 'The Last Days on Mars', 'Darkness', '2001: A Space Odyssey', 'E.T. the Extra-Terrestrial', 'In the Land of Women', 'The Blue Butterfly', 'There Goes My Baby', 'Housefull', 'September Dawn', 'For Greater Glory - The True Story of Cristiada', 'The Bélier Family', 'Good Will Hunting', 'Misconduct', 'Saw III', 'Stripes', 'Bring It On', 'The Purge: Election Year', \"She's All That\", 'Saw IV', 'White Noise', \"Madea's Family Reunion\", 'The Color of Money', 'The Longest Day', 'The Mighty Ducks', 'The Grudge', 'Happy Gilmore', 'Jeepers Creepers', \"Bill & Ted's Excellent Adventure\", 'Oliver!', 'The Best Exotic Marigold Hotel', \"Recess: School's Out\", 'Mad Max Beyond Thunderdome', 'Commando', 'The Boy', 'Devil', 'Friday After Next', 'Insidious: Chapter 3', 'The Last Dragon', 'The Lawnmower Man', \"Nick and Norah's Infinite Playlist\", 'Dogma', 'The Banger Sisters', 'Twilight Zone: The Movie', 'Road House', 'A Low Down Dirty Shame', 'Swimfan', 'Employee of the Month', \"Can't Hardly Wait\", 'The Outsiders', \"Pete's Dragon\", 'The Dead Zone', 'Sinister 2', 'Sparkle', 'Valentine', 'The Fourth Kind', 'A Prairie Home Companion', 'Sugar Hill', 'Invasion U.S.A.', 'Roll Bounce', 'Rushmore', 'Skyline', 'The Second Best Exotic Marigold Hotel', 'Kit Kittredge: An American Girl', 'The Perfect Man', \"Mo' Better Blues\", 'Kung Pow: Enter the Fist', 'Tremors', 'Wrong Turn', 'The Long Riders', 'The Corruptor', 'Mud', 'Reno 911!: Miami', 'One Direction: This Is Us', 'The Goods: Live Hard, Sell Hard', 'Hey Arnold! The Movie', 'My Week with Marilyn', 'The Matador', 'Love Jones', 'The Gift', 'End of the Spear', 'Get Over It', 'Office Space', 'Drop Dead Gorgeous', 'Big Eyes', 'Very Bad Things', 'Sleepover', 'Body Double', 'MacGruber', 'Dirty Pretty Things', 'Movie 43', 'Over Her Dead Body', 'Seeking a Friend for the End of the World', 'Cedar Rapids', 'American History X', 'The Collection', \"Teacher's Pet\", 'The Red Violin', 'The Straight Story', 'Deuces Wild', 'Bad Words', 'Run, Fatboy, Run', 'Heartbeeps', 'Black or White', 'On the Line', 'Rescue Dawn', 'Danny Collins', 'Jeff, Who Lives at Home', 'I Am Love', 'Atlas Shrugged Part II', 'Romeo Is Bleeding', 'The Limey', 'Crash', 'The House of Mirth', 'Malone', 'Peaceful Warrior', 'Bucky Larson: Born to Be a Star', 'Bamboozled', 'The Forest', 'Sphinx', \"While We're Young\", 'A Better Life', 'Spider', 'Gun Shy', 'Nicholas Nickleby', 'The Iceman', 'Krrish', 'Cecil B. Demented', 'Killer Joe', 'The Joneses', 'Owning Mahowny', 'The Brothers Solomon', 'My Blueberry Nights', 'Illuminata', 'Swept Away', 'War, Inc.', 'Shaolin Soccer', 'The Brown Bunny', 'The Swindle', 'Rosewater', 'The Chambermaid on the Titanic', 'Coriolanus', 'Imaginary Heroes', 'High Heels and Low Lifes', \"World's Greatest Dad\", 'Severance', 'Edmond', 'Welcome to the Rileys', 'Police Academy: Mission to Moscow', 'Blood Done Sign My Name', 'Cinco de Mayo: La Batalla', 'Elsa & Fred', 'An Alan Smithee Film: Burn, Hollywood, Burn', 'The Open Road', 'The Good Guy', 'Motherhood', 'Free Style', 'Strangerland', 'Janky Promoters', 'Blonde Ambition', 'The Oxford Murders', 'The Reef', 'Eulogy', 'White Noise 2: The Light', 'Beat the World', 'Fifty Dead Men Walking', 'Jungle Shuffle', 'Adam Resurrected', 'Of Horses and Men', \"It's a Wonderful Afterlife\", \"The Devil's Tomb\", 'Partition', 'Good Intentions', 'The Good, The Bad, The Weird', 'Nurse 3-D', 'Gunless', 'Adventureland', 'The Lost City', 'Next Friday', 'American Heist', 'You Only Live Twice', 'Plastic', 'Amour', 'Poltergeist III', 'Re-Kill', \"It's a Mad, Mad, Mad, Mad World\", 'Volver', 'Heavy Metal', 'Gentlemen Broncos', 'Richard III', 'Into the Grizzly Maze', 'Kites', 'Melancholia', 'Red Dog', 'Jab Tak Hai Jaan', 'Alien', 'The Texas Chain Saw Massacre', 'The Runaways', 'Fiddler on the Roof', 'Thunderball', 'Detention', 'Loose Cannons', 'Set It Off', 'The Best Man', \"Child's Play\", 'Sicko', 'The Purge: Anarchy', 'Down to You', 'Harold & Kumar Go to White Castle', 'The Contender', 'Boiler Room', 'Trading Places', 'Black Christmas', \"Breakin' All the Rules\", 'Henry V', 'The Savages', 'Chasing Papi', 'The Way of the Gun', 'Igby Goes Down', 'PCU', 'The Ultimate Gift', 'The Ice Pirates', 'Gracie', 'Trust the Man', 'Hamlet 2', 'Velvet Goldmine', 'The Wailing', 'Glee: The Concert Movie', 'The Legend of Suriyothai', 'Two Evil Eyes', 'Barbecue', 'All or Nothing', 'Princess Kaiulani', 'Opal Dream', 'Flame & Citron', 'Undiscovered', 'Red Riding: In the Year of Our Lord 1974', 'The Girl on the Train', 'Veronika Decides to Die', 'Crocodile Dundee', 'Ultramarines: A Warhammer 40,000 Movie', 'The I Inside', 'Beneath Hill 60', 'Polisse', 'Awake', 'Star Wars: Clone Wars: Volume 1', 'Skin Trade', 'The Lost Boys', 'Crazy Heart', 'The Rose', 'Baggage Claim', 'Barbarella', 'Shipwrecked', 'Election', 'The Namesake', 'The DUFF', 'Glitter', 'The Haunting in Connecticut 2: Ghosts of Georgia', 'Silmido', 'Bright Star', 'My Name Is Khan', 'All Is Lost', 'Limbo', 'Namastey London', 'The Wind That Shakes the Barley', 'Yeh Jawaani Hai Deewani', 'Quo Vadis', 'Repo! The Genetic Opera', 'Valley of the Wolves: Iraq', 'Pulp Fiction', 'The Muppet Movie', 'Nightcrawler', 'Club Dread', 'The Sound of Music', 'Splash', 'Little Miss Sunshine', 'Stand by Me', '28 Days Later', 'You Got Served', 'Escape from Alcatraz', 'Brown Sugar', 'A Thin Line Between Love and Hate', '50/50', 'Shutter', 'That Awkward Moment', 'Modern Problems', 'Kicks', 'Much Ado About Nothing', \"On Her Majesty's Secret Service\", 'New Nightmare', 'Drive Me Crazy', 'Akeelah and the Bee', 'Half Baked', 'New in Town', 'American Psycho', 'The Good Girl', 'Bon Cop Bad Cop', 'The Boondock Saints II: All Saints Day', 'The City of Your Final Destination', 'Enough Said', 'Easy A', 'The Inkwell', 'Shadow of the Vampire', 'Prom', 'The Pallbearer', 'Held Up', 'Woman on Top', 'Howards End', 'Anomalisa', 'Another Year', '8 Women', 'Showdown in Little Tokyo', 'Clay Pigeons', \"It's Kind of a Funny Story\", 'Made in Dagenham', 'When Did You Last See Your Father?', 'Prefontaine', 'The Wicked Lady', 'The Secret of Kells', 'Begin Again', 'Down in the Valley', 'Brooklyn Rules', 'Restless', 'The Singing Detective', 'The Land Girls', 'Fido', 'The Wendell Baker Story', 'Wild Target', 'Pathology', 'Wuthering Heights', '10th & Wolf', 'Dear Wendy', 'Aloft', 'Akira', 'The Death and Life of Bobby Z', 'The Rocket: The Legend of Rocket Richard', 'Swelter', 'My Lucky Star', 'Imagine Me & You', 'Mr. Church', 'Swimming Pool', 'Green Street Hooligans: Underground', 'The Blood of Heroes', 'Code of Honor', 'Driving Miss Daisy', 'Soul Food', 'Rumble in the Bronx', 'Far from Men', 'Thank You for Smoking', 'Hostel: Part II', 'An Education', 'Shopgirl', 'The Hotel New Hampshire', 'Narc', 'Men with Brooms', 'Witless Protection', 'The Work and the Glory', 'Extract', 'Masked and Anonymous', 'Betty Fisher and Other Stories', 'Code 46', 'Outside Bet', 'Albert Nobbs', 'Black November', 'Ta Ra Rum Pum', 'Persepolis', 'The Hole', 'The Wave', 'The Neon Demon', 'Harry Brown', 'The Omega Code', 'Juno', 'Pound of Flesh', 'Diamonds Are Forever', 'The Godfather', 'Flashdance', '(500) Days of Summer', 'The Piano', 'Magic Mike', 'Darkness Falls', 'Live and Let Die', 'My Dog Skip', 'Definitely, Maybe', 'Jumping the Broom', 'Good Night, and Good Luck.', 'Capote', 'Desperado', \"Logan's Run\", 'The Man with the Golden Gun', 'Action Jackson', 'The Descent', 'Michael Jordan to the Max', \"Devil's Due\", 'Flirting with Disaster', \"The Devil's Rejects\", 'Dope', 'In Too Deep', 'House of 1000 Corpses', 'Alien Zone', 'A Serious Man', 'Get Low', 'Warlock', 'Beyond the Lights', 'A Single Man', 'The Last Temptation of Christ', 'Outside Providence', 'Bride & Prejudice', 'Rabbit-Proof Fence', \"Who's Your Caddy?\", 'Split Second', 'The Other Side of Heaven', 'Veer-Zaara', 'Redbelt', 'Cyrus', 'A Dog Of Flanders', 'Auto Focus', 'Factory Girl', 'We Need to Talk About Kevin', 'The Christmas Candle', 'The Mighty Macs', \"Losin' It\", 'Mother and Child', 'March or Die', 'The Visitors', 'Somewhere', 'I Hope They Serve Beer in Hell', 'Chairman of the Board', 'Hesher', 'Dom Hemingway', 'Gerry', 'The Heart of Me', 'Freeheld', 'The Extra Man', 'Hard to Be a God', 'Ca$h', 'Wah-Wah', 'The Boondock Saints', 'Z Storm', 'Twixt', 'The Snow Queen', 'Alpha and Omega: The Legend of the Saw Tooth Cave', 'Pale Rider', 'Stargate: The Ark of Truth', 'Dazed and Confused', 'High School Musical 2', 'Two Lovers and a Bear', 'Criminal Activities', 'Aimee & Jaguar', 'The Chumscrubber', 'Shade', 'House at the End of the Street', 'Incendies', 'Remember Me, My Love', 'Perrier’s Bounty', 'Elite Squad', 'Annabelle', 'Bran Nue Dae', 'Boyz n the Hood', 'La Bamba', 'The Four Seasons', 'Dressed to Kill', 'The Adventures of Huck Finn', 'Go', 'Friends with Money', 'The Andromeda Strain', 'Bats', 'Nowhere in Africa', 'Shame', 'Layer Cake', 'The Work and the Glory II: American Zion', 'The East', 'A Home at the End of the World', 'Aberdeen', 'The Messenger', 'Tracker', 'Control', 'The Terminator', 'Good bye, Lenin!', 'The Damned United', 'The Return of the Living Dead', 'Mallrats', 'Grease', 'Platoon', 'Fahrenheit 9/11', 'Butch Cassidy and the Sundance Kid', 'Mary Poppins', 'Ordinary People', 'West Side Story', 'Caddyshack', 'The Brothers', 'The Wood', 'The Usual Suspects', 'A Nightmare on Elm Street 5: The Dream Child', 'National Lampoon’s Van Wilder', 'The Wrestler', 'Duel in the Sun', 'Best in Show', 'Escape from New York', 'School Daze', 'Daddy Day Camp', 'Mr. Nice Guy', 'A Mighty Wind', 'Mystic Pizza', 'Sliding Doors', 'Tales from the Hood', 'The Last King of Scotland', 'Halloween 5: The Revenge of Michael Myers', 'Bernie', 'Dolphins and Whales: Tribes of the Ocean', 'Pollock', '200 Cigarettes', 'The Words', 'Casa De Mi Padre', 'City Island', 'The Guard', 'College', 'The Virgin Suicides', 'Little Voice', 'Miss March', 'Wish I Was Here', 'Simply Irresistible', 'Hedwig and the Angry Inch', 'Only the Strong', 'Goddess of Love', 'Shattered Glass', 'Novocaine', 'The Business of Strangers', 'The Wild Bunch', 'The Wackness', 'The First Great Train Robbery', 'Morvern Callar', 'Beastmaster 2: Through the Portal of Time', 'The 5th Quarter', 'The Flower of Evil', 'The Greatest', 'Snow Flower and the Secret Fan', 'Come Early Morning', 'Lucky Break', 'Julia', 'Surfer, Dude', 'Lake of Fire', '11:14', 'Men of War', 'Don McKay', 'Deadfall', 'A Shine of Rainbows', 'The Hit List', 'Emma', 'Videodrome', 'The Spanish Apartment', 'Song One', 'Winter in Wartime', 'Freaky Deaky', 'The Train', 'Trade Of Innocents', 'The Protector', 'Stiff Upper Lips', 'Bend It Like Beckham', 'Sunshine State', 'Crossover', 'Khiladi 786', '[REC]²', 'Standing Ovation', 'The Sting', 'Chariots of Fire', 'Diary of a Mad Black Woman', 'Shine', 'Don Jon', 'High Plains Drifter', 'Ghost World', 'Iris', 'Galaxina', 'The Chorus', 'Mambo Italiano', 'Wonderland', 'Do the Right Thing', 'Harvard Man', 'Le Havre', 'Irreversible', 'R100', 'Rang De Basanti', 'Animals', 'Salvation Boulevard', 'The Ten', 'A Room for Romeo Brass', 'Headhunters', 'Grabbers', 'Saint Ralph', 'Miss Julie', 'Somewhere in Time', 'Dum Maaro Dum', 'Insidious: Chapter 2', 'Saw II', '10 Cloverfield Lane', 'Jackass: The Movie', 'Lights Out', 'Paranormal Activity 3', 'Ouija', 'A Nightmare on Elm Street 3: Dream Warriors', 'Instructions Not Included', 'Paranormal Activity 4', 'The Robe', 'The Return of the Pink Panther', \"Freddy's Dead: The Final Nightmare\", 'Monster', '20,000 Leagues Under the Sea', 'Paranormal Activity: The Marked Ones', 'The Elephant Man', 'Dallas Buyers Club', 'The Lazarus Effect', 'Memento', 'Oculus', 'Clerks II', 'Billy Elliot', 'The Way Way Back', 'House Party 2', 'The Man from Snowy River', \"Doug's 1st Movie\", 'The Apostle', 'Mommie Dearest', 'Our Idiot Brother', 'Race', 'The Players Club', 'As Above, So Below', 'Addicted', \"Eve's Bayou\", 'Still Alice', 'The Egyptian', 'Nighthawks', 'Friday the 13th Part VIII: Jason Takes Manhattan', 'My Big Fat Greek Wedding', 'Spring Breakers', 'Halloween: The Curse of Michael Myers', 'Y Tu Mamá También', 'Shaun of the Dead', 'The Haunting of Molly Hartley', 'Lone Star', 'Halloween 4: The Return of Michael Myers', \"April Fool's Day\", 'Diner', 'Lone Wolf McQuade', 'Apollo 18', 'Sunshine Cleaning', 'No Escape', 'The Beastmaster', 'Solomon and Sheba', 'Fifty Shades of Black', 'Not Easily Broken', 'A Farewell to Arms', 'The Perfect Match', 'Digimon: The Movie', 'Saved!', 'The Barbarian Invasions', 'Robin and Marian', 'The Forsaken', 'Force 10 from Navarone', 'UHF', \"Grandma's Boy\", 'Slums of Beverly Hills', 'Once Upon a Time in the West', 'Made', 'Moon', 'Keeping Up with the Steins', 'Sea Rex 3D: Journey to a Prehistoric World', 'The Sweet Hereafter', 'Of Gods and Men', 'Bottle Shock', 'Jekyll and Hyde ... Together Again', 'Heavenly Creatures', '90 Minutes in Heaven', 'Everything Must Go', 'Zero Effect', 'The Machinist', 'Light Sleeper', 'Kill the Messenger', 'Rabbit Hole', 'Party Monster', 'Green Room', 'The Oh in Ohio', 'Atlas Shrugged Part III: Who is John Galt?', 'Bottle Rocket', 'Albino Alligator', 'Gandhi, My Father', 'Standard Operating Procedure', 'Out of the Blue', 'Tucker and Dale vs Evil', 'Lovely, Still', 'Tycoon', 'Desert Blue', 'Decoys', 'The Visit', 'Redacted', 'Fascination', 'Area 51', 'Sleep Tight', 'The Cottage', 'Dead Like Me: Life After Death', 'Farce of the Penguins', 'Flying By', 'Rudderless', 'Henry & Me', 'Christmas Eve', 'We Have Your Husband', 'Dying of the Light', 'Born Of War', 'Capricorn One', \"Should've Been Romeo\", 'Running Forever', 'Yoga Hosers', 'Navy Seals vs. Zombies', 'I Served the King of England', 'Soul Kitchen', 'Sling Blade', 'The Awakening', 'Hostel', 'A Cock and Bull Story', 'Take Shelter', 'Lady in White', 'Driving Lessons', \"Let's Kill Ward's Wife\", 'The Texas Chainsaw Massacre 2', 'Pat Garrett & Billy the Kid', 'Only God Forgives', 'Camping Sauvage', 'Without Men', 'Dear Frankie', 'All Hat', 'The Names of Love', 'Treading Water', 'Savage Grace', 'Out of the Blue', 'Police Academy', 'The Blue Lagoon', 'Four Weddings and a Funeral', 'Fast Times at Ridgemont High', 'Moby Dick', '25th Hour', 'Bound', 'Requiem for a Dream', 'State Fair', 'Tango', 'Salvador', \"Moms' Night Out\", 'Donnie Darko', 'Saving Private Perez', 'Character', 'Spun', 'Life During Wartime', 'Sympathy for Lady Vengeance', \"Mozart's Sister\", 'Mean Machine', 'Exiled', 'Blackthorn', 'Lilya 4-ever', 'After.Life', 'Fugly', \"One Flew Over the Cuckoo's Nest\", \"R.L. Stine's Monsterville: The Cabinet of Souls\", 'Silent Movie', 'Airlift', 'Anne of Green Gables', 'Falcon Rising', 'The Sweeney', 'Sexy Beast', 'Easy Money', 'Whale Rider', 'Paa', 'Cargo', 'High School Musical', 'Love and Death on Long Island', 'Night Watch', 'The Crying Game', \"Porky's\", 'Survival of the Dead', 'Night of the Living Dead', 'Lost in Translation', 'Annie Hall', 'The Greatest Show on Earth', \"Monster's Ball\", 'Maggie', 'Leaving Las Vegas', 'Hansel and Gretel Get Baked', 'The Front Page', 'The Boy Next Door', 'Trapeze', 'The Kids Are All Right', 'They Live', 'The Great Escape', 'What the #$*! Do We (K)now!?', 'The Last Exorcism Part II', 'Boyhood', 'Scoop', 'The Wash', '3 Strikes', 'The Cooler', 'The Misfits', 'The Night Listener', 'The Jerky Boys', 'The Orphanage', 'A Haunted House 2', 'The Rules of Attraction', 'Topaz', \"Let's Go to Prison\", 'Four Rooms', 'Secretary', 'The Real Cancun', 'Talk Radio', 'Waiting for Guffman', 'Love Stinks', 'You Kill Me', 'Thumbsucker', 'Red State', 'Mirrormask', 'Samsara', 'The Barbarians', 'The Art of Getting By', 'Zipper', 'Poolhall Junkies', 'The Loss of Sexual Innocence', 'Holy Motors', 'Joe', 'Shooting Fish', 'Prison', 'Psycho Beach Party', 'The Big Tease', 'Guten Tag, Ramón', 'Trust', 'An Everlasting Piece', 'Among Giants', 'Adore', 'The Velocity of Gary', 'Mondays in the Sun', 'Stake Land', 'The Last Time I Committed Suicide', 'Futuro Beach', 'Another Happy Day', 'A Lonely Place to Die', 'Nothing', 'The Geographer Drank His Globe Away', '1776', 'Inescapable', \"Hell's Angels\", 'Purple Violets', 'The Veil', 'The Loved Ones', 'The Helpers', 'How to Fall in Love', 'The Perfect Wave', 'A Man for All Seasons', 'Network', 'Gone with the Wind', 'Desert Dancer', 'Major Dundee', 'Annie Get Your Gun', 'Four Lions', 'The House of Sand', 'Defendor', 'The Pirate', 'The Good Heart', 'The History Boys', 'Midnight Cowboy', 'The Full Monty', 'Airplane!', 'Chain of Command', 'Friday', 'Menace II Society', 'Creepshow 2', 'The Ballad of Cable Hogue', 'In Cold Blood', \"The Nun's Story\", 'Harper', 'Frenzy', 'The Witch', 'I Got the Hook Up', \"She's the One\", 'Gods and Monsters', 'The Secret in Their Eyes', 'Train', 'Evil Dead II', 'Pootie Tang', 'Sharknado', 'The Other Conquest', 'Troll Hunter', 'Ira & Abby', 'Winter Passing', 'D.E.B.S.', 'The Masked Saint', 'The Betrayed', 'Taxman', 'The Secret', '2:13', 'Batman: The Dark Knight Returns, Part 2', 'Time to Choose', 'In the Name of the King III', 'Wicked Blood', 'Stranded', 'Lords of London', 'High Anxiety', 'March of the Penguins', 'Margin Call', 'August', 'Choke', 'Whiplash', 'City of God', 'Human Traffic', 'To Write Love on Her Arms', 'The Dead Girl', 'The Hunt', 'A Christmas Story', 'Bella', 'Class of 1984', 'The Opposite Sex', 'Dreaming of Joseph Lees', 'The Class', \"Rosemary's Baby\", 'The Man Who Shot Liberty Valance', 'Adam', 'Maria Full of Grace', 'Beginners', 'Feast', 'Animal House', 'Goldfinger', 'Antiviral', \"It's a Wonderful Life\", 'Trainspotting', 'The Original Kings of Comedy', 'Paranormal Activity 2', 'Waking Ned', 'Bowling for Columbine', 'Coming Home', \"A Nightmare on Elm Street Part 2: Freddy's Revenge\", 'A Room with a View', 'The Purge', 'Sinister', 'Martin Lawrence Live: Runteldat', 'Cat on a Hot Tin Roof', 'Beneath the Planet of the Apes', 'Air Bud', 'Pokémon: Spell of the Unknown', 'Friday the 13th Part VI: Jason Lives', 'The Bridge on the River Kwai', 'Spaced Invaders', 'Family Plot', 'The Apartment', 'Jason Goes to Hell: The Final Friday', 'Torn Curtain', \"Dave Chappelle's Block Party\", 'Slow West', 'Krush Groove', 'Next Day Air', 'Elmer Gantry', 'Judgment at Nuremberg', \"Trippin'\", 'Red River', 'Phat Girlz', 'Before Midnight', 'Teen Wolf Too', 'Phantasm II', 'Woman Thou Art Loosed', 'Real Women Have Curves', 'Water', 'East Is East', 'Whipped', 'Kama Sutra - A Tale of Love', 'Please Give', 'Willy Wonka & the Chocolate Factory', 'Warlock: The Armageddon', '8 Heads in a Duffel Bag', 'Days of Heaven', 'Thirteen Conversations About One Thing', 'Jawbreaker', 'Basquiat', 'Frances Ha', 'Tsotsi', 'Happiness', 'DysFunktional Family', 'Tusk', 'Oldboy', 'Letters to God', 'Hobo with a Shotgun', 'Compadres', 'Freeway', \"Love's Abiding Joy\", 'Fish Tank', 'Damsels in Distress', 'Creature', 'Bachelorette', 'Brave New Girl', \"Tim and Eric's Billion Dollar Movie\", 'Summer Storm', 'Fort McCoy', 'Chain Letter', 'Just Looking', 'The Divide', 'The Eclipse', 'Demonic', 'My Big Fat Independent Movie', 'The Deported', 'Tanner Hall', 'Open Road', 'They Came Together', '30 Nights of Paranormal Activity With the Devil Inside the Girl With the Dragon Tattoo', 'Never Back Down 2: The Beatdown', 'Point Blank', 'Four Single Fathers', 'Enter the Dangerous Mind', 'Something Wicked', 'AWOL-72', 'Iguana', 'Chicago Overcoat', 'Barry Munday', 'Central Station', 'Pocketful of Miracles', 'Close Range', 'Boynton Beach Club', 'Amnesiac', 'Freakonomics', 'High Tension', 'Griff the Invisible', 'Unnatural', 'Hustle & Flow', 'Some Like It Hot', 'Friday the 13th Part VII: The New Blood', 'The Wizard of Oz', 'Young Frankenstein', 'Diary of the Dead', 'Lage Raho Munna Bhai', \"Ulee's Gold\", 'The Black Stallion', 'Sardaarji', 'Journey to Saturn', \"Donovan's Reef\", 'The Dress', 'A Guy Named Joe', 'Blazing Saddles', 'Friday the 13th: The Final Chapter', 'Ida', 'Maurice', 'Beer League', 'Riding Giants', 'Timecrimes', 'Silver Medalist', 'Timber Falls', \"Singin' in the Rain\", 'Fat, Sick & Nearly Dead', 'A Haunted House', \"2016: Obama's America\", 'That Thing You Do!', 'Halloween III: Season of the Witch', 'Escape from the Planet of the Apes', 'Hud', 'Kevin Hart: Let Me Explain', 'My Own Private Idaho', 'Garden State', 'Before Sunrise', 'Evil Words', \"Jesus' Son\", 'Saving Face', 'Brick Lane', 'Robot & Frank', 'My Life Without Me', 'The Spectacular Now', 'Religulous', 'Fuel', \"Valley of the Heart's Delight\", 'Eye of the Dolphin', '8: The Mormon Proposition', 'The Other End of the Line', 'Anatomy', 'Sleep Dealer', 'Super', 'Christmas Mail', 'Stung', 'Antibirth', 'Get on the Bus', 'Thr3e', 'Idiocracy', 'The Rise of the Krays', 'This Is England', 'U.F.O.', 'Bathing Beauty', 'Go for It!', 'Dancer, Texas Pop. 81', 'Show Boat', 'Redemption Road', 'The Calling', 'The Brave Little Toaster', 'Fantasia', '8 Days', 'Friday the 13th Part III', 'Friday the 13th: A New Beginning', 'The Last Sin Eater', 'Do You Believe?', 'Impact Point', 'The Valley of Decision', 'Eden', 'Chicken Tikka Masala', \"There's Always Woodstock\", 'Jack Brooks: Monster Slayer', 'The Best Years of Our Lives', 'Bully', 'Elling', 'Mi America', '[REC]', 'Lies in Plain Sight', 'Sharkskin', 'Containment', 'The Timber', 'From Russia with Love', 'The Toxic Avenger Part II', 'Sleeper', 'It Follows', 'Everything You Always Wanted to Know About Sex *But Were Afraid to Ask', 'To Kill a Mockingbird', 'Mad Max 2: The Road Warrior', 'The Legend of Drunken Master', \"Boys Don't Cry\", 'Silent House', 'The Lives of Others', 'Courageous', 'The Hustler', 'Boom Town', 'The Triplets of Belleville', 'Smoke Signals', 'American Splendor', 'Before Sunset', 'Amores perros', 'Thirteen', \"Gentleman's Agreement\", \"Winter's Bone\", 'Touching the Void', \"Alexander's Ragtime Band\", 'Me and You and Everyone We Know', 'Inside Job', 'We Are Your Friends', 'Ghost Dog: The Way of the Samurai', 'Harsh Times', 'Captive', 'Full Frontal', 'Witchboard', 'Shortbus', 'Waltz with Bashir', 'The Book of Mormon Movie, Volume 1: The Journey', 'No End in Sight', 'The Diary of a Teenage Girl', 'In the Shadow of the Moon', \"Meek's Cutoff\", 'Inside Deep Throat', 'Dinner Rush', 'Clockwatchers', 'The Virginity Hit', 'Subway', 'House of D', 'Teeth', 'Six-String Samurai', 'Hum To Mohabbat Karega', \"It's All Gone Pete Tong\", 'Saint John of Las Vegas', '24 7: Twenty Four Seven', 'Stonewall', 'Roadside Romeo', 'This Thing of Ours', 'The Lost Medallion: The Adventures of Billy Stone', 'The Last Five Years', 'The Missing Person', 'Return of the Living Dead 3', 'London', 'Sherrybaby', 'Circle', 'Eden Lake', 'Plush', 'Lesbian Vampire Killers', \"Gangster's Paradise: Jerusalema\", 'Freeze Frame', 'Grave Encounters', 'Stitches', 'Nine Dead', 'To Be Frank, Sinatra at 100', 'Bananas', 'Supercapitalist', 'Rockaway', 'The Lady from Shanghai', \"No Man's Land: The Rise of Reeker\", 'Highway', 'Small Apartments', 'Coffee Town', 'The Ghastly Love of Johnny X', 'All Is Bright', 'The Torture Chamber of Dr. Sadism', \"Straight A's\", 'A Funny Thing Happened on the Way to the Forum', 'Slacker Uprising', \"The Legend of Hell's Gate: An American Conspiracy\", 'The Walking Deceased', 'The Curse of Downers Grove', 'Shark Lake', \"River's Edge\", 'Northfork', 'The Marine 4: Moving Target', 'Buried', 'Submarine', 'The Square', 'One to Another', 'ABCD (Any Body Can Dance)', 'Man on Wire', 'Abandoned', 'Brotherly Love', 'The Last Exorcism', 'Nowhere Boy', 'A Streetcar Named Desire', 'Dr. Strangelove or: How I Learned to Stop Worrying and Love the Bomb', 'The Crime of Padre Amaro', 'Beasts of the Southern Wild', 'Battle for the Planet of the Apes', 'Songcatcher', 'Higher Ground', 'Vaalu', 'The Greatest Movie Ever Sold', 'Ed and His Dead Mother', 'Travellers and Magicians', \"Hang 'em High\", 'Deadline - U.S.A.', 'Sublime', \"A Beginner's Guide to Snuff\", 'Independence Daysaster', 'Dysfunctional Friends', 'Run Lola Run', 'May', 'Against the Wild', 'Under the Same Moon', 'Conquest of the Planet of the Apes', 'In the Bedroom', 'I Spit on Your Grave', 'Happy, Texas', 'My Summer of Love', 'The Lunchbox', 'Yes', \"You Can't Take It With You\", 'From Here to Eternity', 'She Wore a Yellow Ribbon', 'Grace Unplugged', 'Foolish', 'N-Secure', 'Caramel', 'Out of the Dark', 'The Bubble', 'The Conversation', 'Dil Jo Bhi Kahey...', 'Mississippi Mermaid', 'I Love Your Work', 'Cabin Fever', 'Waitress', 'Bloodsport', 'Mr. Smith Goes to Washington', 'Kids', 'The Squid and the Whale', 'Kissing Jessica Stein', 'Kickboxer: Vengeance', 'Spellbound', 'Exotica', \"Buffalo '66\", 'Insidious', 'Repo Man', 'Nine Queens', 'The Gatekeepers', 'The Ballad of Jack and Rose', 'The To Do List', 'Killing Zoe', 'The Believer', 'Snow Angels', 'Unsullied', 'Session 9', 'I Want Someone to Eat Cheese With', 'Mooz-lum', 'Hatchet', 'Modern Times', 'Stolen Summer', 'My Name Is Bruce', 'The Salon', 'Road Hard', 'Forty Shades of Blue', 'Amigo', 'Pontypool', 'Trucker', 'Me You and Five Bucks', 'The Lords of Salem', 'Housebound', 'Wal-Mart: The High Cost of Low Price', 'Fetching Cody', 'Last I Heard', 'Closer to the Moon', 'Mutant World', 'Growing Up Smith', 'Checkmate', '#Horror', 'Wind Walkers', 'Snow White and the Seven Dwarfs', 'The Holy Girl', 'Shalako', 'Incident at Loch Ness', 'The Dog Lover', 'GirlHouse', 'The Blue Room', 'House at the End of the Drive', 'Batman', 'Lock, Stock and Two Smoking Barrels', 'The Ballad of Gregorio Cortez', 'The Celebration', 'Trees Lounge', 'Journey from the Fall', 'The Basket', 'Eddie: The Sleepwalking Cannibal', 'Queen of the Mountains', 'Def-Con 4', 'The Hebrew Hammer', \"Neal 'n' Nikki\", 'The 41–Year–Old Virgin Who Knocked Up Sarah Marshall and Felt Superbad About It', 'Forget Me Not', 'Rebecca', 'Friday the 13th Part 2', 'The Lost Weekend', 'C.H.U.D.', 'Filly Brown', 'The Lion of Judah', 'Niagara', 'How Green Was My Valley', 'Da Sweet Blood of Jesus', 'Sex, Lies, and Videotape', 'Saw', 'Super Troopers', 'The Algerian', 'The Amazing Catfish', 'Monsoon Wedding', 'You Can Count on Me', 'The Trouble with Harry', \"But I'm a Cheerleader\", 'Home Run', 'Reservoir Dogs', 'The Blue Bird', 'The Good, the Bad and the Ugly', 'The Second Mother', 'Blue Like Jazz', 'Down & Out With The Dolls', 'Pink Ribbons, Inc.', 'Certifiably Jonathan', 'Desire', 'The Blade of Don Juan', 'Grand Theft Parsons', 'Extreme Movie', 'The Charge of the Light Brigade', 'Below Zero', 'Crowsnest', 'Airborne', 'Cotton Comes to Harlem', 'The Wicked Within', 'Bleeding Hearts', 'Waiting...', \"Dead Man's Shoes\", 'From a Whisper to a Scream', 'Sex With Strangers', \"Dracula: Pages from a Virgin's Diary\", 'Faith Like Potatoes', 'Beyond the Black Rainbow', 'The Raid', 'The Dead Undead', 'The Vatican Exorcisms', 'Casablanca', 'Lake Mungo', 'Rocket Singh: Salesman of the Year', 'Silent Running', 'Rocky', 'The Sleepwalker', 'Tom Jones', 'Unfriended', 'Taxi Driver', 'The Howling', 'Dr. No', 'Chernobyl Diaries', 'Hellraiser', \"God's Not Dead 2\", 'Cry_Wolf', 'Godzilla 2000', 'Blue Valentine', 'Transamerica', 'The Devil Inside', 'Beyond the Valley of the Dolls', 'Love Me Tender', 'An Inconvenient Truth', 'Sands of Iwo Jima', 'Shine a Light', 'The Green Inferno', 'Departure', 'The Sessions', 'Food, Inc.', 'October Baby', 'Next Stop Wonderland', 'The Skeleton Twins', 'Martha Marcy May Marlene', 'Obvious Child', 'Frozen River', '20 Feet from Stardom', 'Two Girls and a Guy', 'Walking and Talking', 'Who Killed the Electric Car?', 'The Broken Hearts Club: A Romantic Comedy', 'Bubba Ho-tep', 'Slam', 'Brigham City', 'Fiza', 'Orgazmo', 'All the Real Girls', 'Dream with the Fishes', 'Blue Car', 'Palo Alto', 'Ajami', 'Wristcutters: A Love Story', 'I Origins', 'The Battle of Shaker Heights', 'The Act of Killing', 'Taxi to the Dark Side', 'Once in a Lifetime: The Extraordinary Story of the New York Cosmos', 'Guiana 1838', 'Lisa Picard Is Famous', 'Antarctica: A Year on Ice', 'A LEGO Brickumentary', 'Hardflip', 'Chocolate: Deep Dark Secrets', 'The House of the Devil', 'The Perfect Host', 'Safe Men', 'Speedway Junky', 'The Last Big Thing', 'The Specials', '16 to Life', 'Alone With Her', 'Creative Control', 'Special', 'Sparkler', 'The Helix... Loaded', 'In Her Line of Fire', 'The Jimmy Show', 'Heli', 'Karachi se Lahore', 'Loving Annabelle', 'Hits', 'Jimmy and Judy', 'Frat Party', \"The Party's Over\", 'Proud', 'The Poker House', 'Childless', 'ZMD: Zombies of Mass Destruction', 'Snow White: A Deadly Summer', 'Hidden Away', 'My Last Day Without You', 'Steppin: The Movie', \"Doc Holliday's Revenge\", 'Black Rock', 'Truth or Dare', 'The Pet', 'Bang Bang Baby', 'Fear Clinic', 'Zombie Hunter', 'A Fine Step', 'Charly', 'Banshee Chapter', 'Ask Me Anything', 'And Then Came Love', 'Food Chains', 'On the Waterfront', 'L!fe Happens', '4 Months, 3 Weeks and 2 Days', 'The Horror Network Vol. 1', 'Hard Candy', 'The Quiet', 'Circumstance', 'Fruitvale Station', 'The Brass Teapot', 'Bambi', 'The Hammer', 'Latter Days', 'Elza', '1982', 'For a Good Time, Call...', 'Celeste & Jesse Forever', 'Time Changer', 'London to Brighton', 'American Hero', 'Windsor Drive', 'A Separation', 'Crying with Laughter', 'Welcome to the Dollhouse', 'Ruby in Paradise', 'Raising Victor Vargas', \"Pandora's Box\", 'Harrison Montgomery', 'Live-In Maid', 'Deterrence', 'The Mudge Boy', 'The Young Unknowns', 'Not Cool', 'Dead Snow', 'Saints and Soldiers', 'Vessel', 'American Graffiti', 'Iraq for Sale: The War Profiteers', 'Aqua Teen Hunger Force Colon Movie Film for Theaters', 'Safety Not Guaranteed', 'Kevin Hart: Laugh at My Pain', 'Kill List', 'The Innkeepers', 'The Conformist', 'Interview with the Assassin', 'Donkey Punch', 'All the Boys Love Mandy Lane', 'Bled', 'High Noon', 'Hoop Dreams', 'Rize', 'L.I.E.', 'The Sisterhood of Night', 'B-Girl', 'Half Nelson', 'Naturally Native', 'Hav Plenty', 'Adulterers', 'Escape from Tomorrow', 'Starsuckers', 'The Hadza:  Last of the First', 'After', 'Treachery', 'Walter', 'Top Hat', 'The Blair Witch Project', 'Woodstock', 'The Kentucky Fried Movie', 'Mercy Streets', 'Carousel of Revenge', 'Broken Vessels', 'Water & Power', 'They Will Have to Kill Us First', 'Light from the Darkroom', 'The Country Doctor', \"The Maid's Room\", \"A Hard Day's Night\", 'The Harvest (La Cosecha)', 'Love Letters', 'Juliet and Alfa Romeo', 'Fireproof', 'Faith Connections', 'Benji', 'Open Water', 'High Road', 'Kingdom of the Spiders', 'Mad Hot Ballroom', 'The Station Agent', 'To Save A Life', 'Wordplay', 'Beyond the Mat', 'The Singles Ward', 'Osama', 'Sholem Aleichem: Laughing In The Darkness', 'Groove', 'The R.M.', 'Twin Falls Idaho', 'Mean Creek', 'Hurricane Streets', 'Never Again', 'Civil Brand', 'Lonesome Jim', 'Drinking Buddies', 'Deceptive Practice: The Mysteries and Mentors of Ricky Jay', 'Seven Samurai', 'The Other Dream Team', 'Johnny Suede', 'Finishing The Game', 'Rubber', 'Kiss the Bride', 'The Slaughter Rule', 'Monsters', 'The Californians', 'The Living Wake', 'Detention of the Dead', 'Crazy Stone', 'Scott Walker: 30 Century Man', 'Everything Put Together', 'Good Kill', 'The Outrageous Sophie Tucker', 'Now Is Good', 'Girls Gone Dead', 'America Is Still the Place', 'Subconscious', 'Enter Nowhere', 'El Rey de Najayo', 'Fight to the Finish', \"Alleluia! The Devil's Carnival\", 'The Sound and the Shadow', 'Rodeo Girl', 'Born to Fly: Elizabeth Streb vs. Gravity', 'The Little Ponderosa Zoo', 'The Toxic Avenger', 'Straight Out of Brooklyn', 'Bloody Sunday', 'Diamond Ruff', 'Conversations with Other Women', 'Poultrygeist: Night of the Chicken Dead', 'Mutual Friends', '42nd Street', 'Rise of the Entrepreneur: The Search for a Better Way', 'Metropolitan', 'As It Is in Heaven', 'Roadside', 'Napoleon Dynamite', 'Blue Ruin', 'Paranormal Activity', 'Dogtown and Z-Boys', 'Monty Python and the Holy Grail', 'Quinceañera', 'Gory Gory Hallelujah', 'Tarnation', 'I Want Your Money', 'Love in the Time of Monsters', 'The Beyond', 'What Happens in Vegas', 'The Dark Hours', 'My Beautiful Laundrette', 'Fabled', 'Show Me', 'Cries and Whispers', 'Intolerance', 'Trekkies', 'The Broadway Melody', 'The Evil Dead', 'Maniac', 'Censored Voices', 'Murderball', 'American Ninja 2: The Confrontation', '51 Birch Street', 'Rotor DR1', '12 Angry Men', 'My Dog Tulip', 'It Happened One Night', 'Dogtooth', 'Tupac: Resurrection', 'Tumbleweeds', 'The Prophecy', \"When the Cat's Away\", 'Pieces of April', 'The Big Swap', 'Old Joy', 'Wendy and Lucy', '3 Backyards', 'Pierrot le Fou', 'Sisters in Law', 'Ayurveda: Art of Being', 'Nothing But a Man', 'First Love, Last Rites', 'Fighting Tommy Riley', 'Royal Kill', 'The Looking Glass', 'Death Race 2000', 'Locker 13', 'Midnight Cabaret', \"Anderson's Cross\", 'Bizarre', 'Graduation Day', 'Some Guy Who Kills People', 'Compliance', 'Chasing Amy', 'Lovely & Amazing', 'Death Calls', 'Better Luck Tomorrow', 'The Incredibly True Adventure of Two Girls In Love', 'Chuck & Buck', 'American Desi', \"Amidst the Devil's Wings\", 'Cube', 'Love and Other Catastrophes', 'I Married a Strange Person!', 'November', 'Like Crazy', 'Teeth and Blood', 'Sugar Town', 'The Motel', 'The Canyons', 'On the Outs', 'Shotgun Stories', 'Exam', 'The Sticky Fingers of Time', 'Sunday School Musical', 'Rust', 'Ink', 'The Christmas Bunny', 'Butterfly', 'UnDivided', 'The Frozen', 'Horse Camp', 'Give Me Shelter', 'The Big Parade', 'Little Big Top', 'Along the Roadside', 'Bronson', 'Western Religion', 'Burn', 'Urbania', 'The Stewardesses', 'The Beast from 20,000 Fathoms', 'Mad Max', 'Swingers', 'A Fistful of Dollars', 'She Done Him Wrong', 'Short Cut to Nirvana: Kumbh Mela', 'The Grace Card', 'Middle of Nowhere', 'Three', 'The Business of Fancydancing', 'Call + Response', 'Malevolence', 'Reality Show', 'Super Hybrid', 'Baghead', 'American Beast', 'The Case of the Grinning Cat', 'Ordet', 'Good Dick', 'The Man from Earth', 'The Trials Of Darryl Hunt', 'Samantha: An American Girl Holiday', 'Yesterday Was a Lie', 'Theresa Is a Mother', 'H.', 'Archaeology of a Woman', 'Children of Heaven', 'Weekend', \"She's Gotta Have It\", 'Butterfly Girl', 'The World Is Mine', 'Another Earth', \"Sweet Sweetback's Baadasssss Song\", 'Perfect Cowboy', 'Tadpole', 'Once', 'The Woman Chaser', 'The Horse Boy', 'When the Lights Went Out', 'Heroes of Dirt', 'A Charlie Brown Christmas', 'Antarctic Edge: 70° South', 'Aroused', 'Top Spin', 'Roger & Me', 'An American in Hollywood', 'Sound of My Voice', 'The Blood of My Brother: A Story of Death in Iraq', \"Your Sister's Sister\", \"A Dog's Breakfast\", 'The Married Woman', 'The Birth of a Nation', 'The Work and The Story', 'Facing the Giants', 'The Gallows', 'Eraserhead', 'Hollywood Shuffle', 'The Mighty', 'Penitentiary', 'The Lost Skeleton of Cadavra', \"Dude Where's My Dog?\", 'Cheap Thrills', 'Indie Game: The Movie', 'Straightheads', 'Open Secret', 'Echo Dr.', 'The Night Visitor', 'The Past Is a Grotesque Animal', 'Peace, Propaganda & the Promised Land', 'Pi', \"I Love You, Don't Touch Me!\", '20 Dates', 'Queen Crab', 'Super Size Me', 'The FP', 'Happy Christmas', \"The Brain That Wouldn't Die\", 'Tiger Orange', 'Supporting Characters', 'Absentia', 'The Brothers McMullen', 'The Dirties', 'Gabriela', 'Tiny Furniture', 'Hayride', 'The Naked Ape', 'Counting', 'The Call of Cthulhu', 'Bending Steel', 'The Signal', 'The Image Revolution', 'This Is Martin Bonner', 'A True Story', 'George Washington', 'Smiling Fish & Goat On Fire', 'Dawn of the Crescent Moon', 'Raymond Did It', 'The Last Waltz', 'Run, Hide, Die', 'The Exploding Girl', \"The Legend of God's Gun\", 'Mutual Appreciation', 'Her Cry: La Llorona Investigation', 'Down Terrace', 'Clerks', 'Pink Narcissus', 'Funny Ha Ha', 'In the Company of Men', 'Manito', 'Rampage', 'Slacker', 'Dutch Kills', 'Dry Spell', 'Flywheel', 'Backmask', 'The Puffy Chair', 'Stories of Our Lives', 'Breaking Upwards', 'All Superheroes Must Die', 'Pink Flamingos', 'Clean', 'The Circle', 'Tin Can Man', 'Cure', 'On The Downlow', 'Sanctuary: Quite a Conundrum', 'Bang', 'Primer', 'Cavite', 'El Mariachi', 'Newlyweds', 'Signed, Sealed, Delivered', 'Shanghai Calling', 'My Date with Drew']\n"
     ]
    }
   ],
   "source": [
    "list_of_all_titles = movies_data['title'].tolist()\n",
    "print(list_of_all_titles)"
   ]
  },
  {
   "cell_type": "markdown",
   "id": "e3b3a2ae",
   "metadata": {},
   "source": [
    "#### `Step 3` Finding the close match for the movie name given by the user"
   ]
  },
  {
   "cell_type": "code",
   "execution_count": 35,
   "id": "44c85cae",
   "metadata": {},
   "outputs": [
    {
     "name": "stdout",
     "output_type": "stream",
     "text": [
      "['Batman', 'Batman', 'Catwoman']\n"
     ]
    }
   ],
   "source": [
    "find_close_match = difflib.get_close_matches(movie_name, list_of_all_titles)\n",
    "print(find_close_match)"
   ]
  },
  {
   "cell_type": "code",
   "execution_count": 36,
   "id": "8c3f4266",
   "metadata": {},
   "outputs": [
    {
     "name": "stdout",
     "output_type": "stream",
     "text": [
      "Batman\n"
     ]
    }
   ],
   "source": [
    "close_match = find_close_match[0]\n",
    "print(close_match)"
   ]
  },
  {
   "cell_type": "markdown",
   "id": "e2c5ae8e",
   "metadata": {},
   "source": [
    "#### `Step 4` Finding the index of the movie with title"
   ]
  },
  {
   "cell_type": "code",
   "execution_count": 37,
   "id": "3481ff87",
   "metadata": {},
   "outputs": [
    {
     "name": "stdout",
     "output_type": "stream",
     "text": [
      "1359\n"
     ]
    }
   ],
   "source": [
    "index_of_the_movie = movies_data[movies_data.title == close_match]['index'].values[0]\n",
    "print(index_of_the_movie)"
   ]
  },
  {
   "cell_type": "markdown",
   "id": "513f1ef0",
   "metadata": {},
   "source": [
    "#### `Step 5` Getting a list of similar movies"
   ]
  },
  {
   "cell_type": "code",
   "execution_count": 38,
   "id": "cf21490b",
   "metadata": {},
   "outputs": [
    {
     "name": "stdout",
     "output_type": "stream",
     "text": [
      "[(0, 0.01776730333487835), (1, 0.02983612020964815), (2, 0.015861499653293514), (3, 0.19936242756789457), (4, 0.006005551433645722), (5, 0.11428458617173043), (6, 0.0), (7, 0.06320396527748612), (8, 0.03385015088184331), (9, 0.11139421613005376), (10, 0.0972421271936699), (11, 0.014218909277605905), (12, 0.04117439643481078), (13, 0.00560458446020678), (14, 0.13831562847592846), (15, 0.011949220902370307), (16, 0.0604308118487812), (17, 0.017661597930726327), (18, 0.026917804038365113), (19, 0.015358236300210345), (20, 0.045420770955566035), (21, 0.005287601681307618), (22, 0.010864775236470952), (23, 0.011107703594273457), (24, 0.027694690404716796), (25, 0.0), (26, 0.03569774834190745), (27, 0.00550492163484813), (28, 0.005935451231148693), (29, 0.006480313974018936), (30, 0.14641371764120226), (31, 0.03410054712821779), (32, 0.08311590658982682), (33, 0.06228171273932271), (34, 0.0), (35, 0.028052331744911542), (36, 0.04921248397028206), (37, 0.012773263326354003), (38, 0.07803112092104315), (39, 0.031661937822249096), (40, 0.021817889792471075), (41, 0.09973462960973993), (42, 0.0799835346753166), (43, 0.006083219535225218), (44, 0.006420402350633247), (45, 0.005372262975607226), (46, 0.09491547742554633), (47, 0.006561979754920619), (48, 0.018252858938420765), (49, 0.0), (50, 0.01741057607941866), (51, 0.0048745605693203695), (52, 0.026055712055920225), (53, 0.006378471639965431), (54, 0.020879056810764234), (55, 0.006309110882212006), (56, 0.006557448490091046), (57, 0.0), (58, 0.01634224635112154), (59, 0.005907986777848424), (60, 0.0), (61, 0.018212499986131152), (62, 0.005981253148410356), (63, 0.011521196393002659), (64, 0.08084439310659415), (65, 0.1874264446719564), (66, 0.0), (67, 0.0), (68, 0.03315094726523583), (69, 0.0), (70, 0.005852661672665291), (71, 0.0229874248571142), (72, 0.12084840021058728), (73, 0.04749531620311163), (74, 0.0059324098651197775), (75, 0.0056959555418152), (76, 0.006259006536317103), (77, 0.0), (78, 0.01294883595141455), (79, 0.06019662335514925), (80, 0.013072386024764671), (81, 0.023152049267724212), (82, 0.006310275029213932), (83, 0.02276941753009973), (84, 0.01497313416066484), (85, 0.03848525959747972), (86, 0.010562732759699246), (87, 0.0), (88, 0.006011344263502631), (89, 0.02011409500425274), (90, 0.0322546653044978), (91, 0.006274061516232794), (92, 0.012507926420137806), (93, 0.005686409264729126), (94, 0.033120634146974914), (95, 0.020601628320649327), (96, 0.01480609177191462), (97, 0.00455176602029922), (98, 0.017591428028143008), (99, 0.029125150889870454), (100, 0.027140947086870894), (101, 0.0614020903609743), (102, 0.006584042457802728), (103, 0.04855634835708012), (104, 0.006034475446963977), (105, 0.012238448966370838), (106, 0.012961674726752097), (107, 0.018947476087965008), (108, 0.00603726277737445), (109, 0.02458545874240512), (110, 0.019447640222894875), (111, 0.027637389294390673), (112, 0.005977664349224018), (113, 0.033689760182487344), (114, 0.03074342268946973), (115, 0.03201966998912696), (116, 0.019868285281250363), (117, 0.06714122313715593), (118, 0.01118093317812314), (119, 0.1910946925930589), (120, 0.02832936758146506), (121, 0.0179486415506685), (122, 0.036281969916076844), (123, 0.0058911141582450085), (124, 0.0), (125, 0.0054511819739322485), (126, 0.06969507524297607), (127, 0.006456479033702562), (128, 0.0), (129, 0.046513781442413346), (130, 0.0), (131, 0.019262344256069517), (132, 0.0), (133, 0.07454956623680545), (134, 0.0057912690454129155), (135, 0.01400505856574136), (136, 0.0), (137, 0.02388375790485806), (138, 0.017165372890961747), (139, 0.036405473261371855), (140, 0.0065296554582875525), (141, 0.0), (142, 0.0), (143, 0.012429652334688191), (144, 0.0), (145, 0.0), (146, 0.0), (147, 0.005522240659099054), (148, 0.01823516362773392), (149, 0.026995707147970442), (150, 0.032838821103930285), (151, 0.00580814911717976), (152, 0.02714260294043613), (153, 0.006106836605073107), (154, 0.011702955953712707), (155, 0.0), (156, 0.013237989864476763), (157, 0.006727148116547866), (158, 0.006210988087639006), (159, 0.016889714240636153), (160, 0.018274065464210242), (161, 0.010874690536690615), (162, 0.0071553061281231425), (163, 0.12172176891669018), (164, 0.021751619882128856), (165, 0.006566814159248667), (166, 0.006895267284645297), (167, 0.006030646643704327), (168, 0.01676590802259582), (169, 0.03426329320870297), (170, 0.0231720324912258), (171, 0.0), (172, 0.01169846861468872), (173, 0.0), (174, 0.09969517081232442), (175, 0.011982500410370358), (176, 0.0), (177, 0.022869806550214377), (178, 0.0), (179, 0.0), (180, 0.006431837952065769), (181, 0.023671717682878436), (182, 0.08209097501756353), (183, 0.006253266263148285), (184, 0.03817882405503448), (185, 0.022859663722403677), (186, 0.032474254667217775), (187, 0.018052923397354315), (188, 0.006123045847253332), (189, 0.0), (190, 0.0), (191, 0.011801675362100302), (192, 0.0), (193, 0.006449870636110621), (194, 0.0), (195, 0.011391477275151989), (196, 0.03723026989903822), (197, 0.012328754597086641), (198, 0.027369963602436168), (199, 0.03683162196494443), (200, 0.0), (201, 0.0), (202, 0.0), (203, 0.06053857268290521), (204, 0.014431539724877741), (205, 0.014853217724475119), (206, 0.01635485623912462), (207, 0.08616884240863786), (208, 0.017788459941484817), (209, 0.0064162662394391485), (210, 0.27144255418299584), (211, 0.012047812069306317), (212, 0.005858862959010384), (213, 0.03709436993146918), (214, 0.0), (215, 0.06412324315532654), (216, 0.005416637296509099), (217, 0.07258573599778549), (218, 0.007079149299389631), (219, 0.03847159765617448), (220, 0.020334647486261886), (221, 0.021650812696714858), (222, 0.0062870665031581575), (223, 0.020007552178889727), (224, 0.0644882940293493), (225, 0.006592463221734098), (226, 0.07818733659133337), (227, 0.005972038097792878), (228, 0.0056218455536215985), (229, 0.006067294008440912), (230, 0.005212895226043726), (231, 0.0), (232, 0.04521214513361494), (233, 0.005213768580370483), (234, 0.012052836801238944), (235, 0.011019010924309444), (236, 0.006076709390209719), (237, 0.005562638360935106), (238, 0.01688986820829018), (239, 0.0), (240, 0.006132536187067353), (241, 0.04489560797520431), (242, 0.05789578033315136), (243, 0.03274519687449871), (244, 0.005232692036759864), (245, 0.005320905174094576), (246, 0.005766437026887802), (247, 0.00796346536632498), (248, 0.03480511770361068), (249, 0.0), (250, 0.0), (251, 0.025241272637817124), (252, 0.015283303894889168), (253, 0.0050426600082416955), (254, 0.058686692409227345), (255, 0.0), (256, 0.0), (257, 0.005956405187114663), (258, 0.011981973031405597), (259, 0.005309520728079738), (260, 0.0059610134225165125), (261, 0.006757960528243183), (262, 0.017805463917189672), (263, 0.0057996408185183625), (264, 0.019655466628663864), (265, 0.011978458209380344), (266, 0.006265251724392802), (267, 0.005186980440053581), (268, 0.033258976865119486), (269, 0.018682717968495934), (270, 0.02355275105477051), (271, 0.04683608521077286), (272, 0.036842040711752434), (273, 0.013456432929739888), (274, 0.006387264251710055), (275, 0.005877135592623873), (276, 0.012026745160638416), (277, 0.006255661501273465), (278, 0.1270836210943836), (279, 0.028315007114476612), (280, 0.029194178204734824), (281, 0.008260912871876962), (282, 0.0059442166370651155), (283, 0.007406131215188457), (284, 0.0), (285, 0.014336367915555126), (286, 0.006301128548965022), (287, 0.015316369206380959), (288, 0.03501045183904213), (289, 0.011950489431229843), (290, 0.00610723941574177), (291, 0.032887182959386835), (292, 0.025231653631984378), (293, 0.011188656826691434), (294, 0.02526647614148963), (295, 0.0324254442545609), (296, 0.019059942983697703), (297, 0.006088268182684892), (298, 0.008780861147883292), (299, 0.09834554835623592), (300, 0.005050326379031566), (301, 0.0), (302, 0.012103774014535166), (303, 0.08608038795247891), (304, 0.006105488468007252), (305, 0.03323973667560405), (306, 0.01514132824964034), (307, 0.005738579848569548), (308, 0.012693816222536035), (309, 0.013592492797924677), (310, 0.005861482625390989), (311, 0.01243486718924925), (312, 0.005419553873872557), (313, 0.02570905827988048), (314, 0.009020347879723391), (315, 0.017374344195241725), (316, 0.008870478242704578), (317, 0.0), (318, 0.0), (319, 0.0063642277471568556), (320, 0.006096472177271024), (321, 0.0), (322, 0.018877033851069952), (323, 0.06787952154407001), (324, 0.02063075175036291), (325, 0.0), (326, 0.012042459939862962), (327, 0.030114154196487074), (328, 0.0), (329, 0.01786131737138897), (330, 0.018112399995863376), (331, 0.017957616088289087), (332, 0.014927479113047117), (333, 0.0), (334, 0.005889042136630274), (335, 0.005948992455615499), (336, 0.011094720482584183), (337, 0.00564178466863678), (338, 0.0), (339, 0.03674711140775784), (340, 0.0049111271557374814), (341, 0.011674810133477757), (342, 0.031821343832736035), (343, 0.051895178947925946), (344, 0.006882822886755427), (345, 0.01605732852610545), (346, 0.0), (347, 0.0), (348, 0.0), (349, 0.01140415235243794), (350, 0.024073098175424426), (351, 0.08037927173329884), (352, 0.0), (353, 0.024925740917264717), (354, 0.00826513769613003), (355, 0.006270255129920512), (356, 0.015117319285803373), (357, 0.023308334679643068), (358, 0.05349198255703882), (359, 0.0), (360, 0.0), (361, 0.005730117351529894), (362, 0.006525001963455605), (363, 0.0), (364, 0.010712176877141225), (365, 0.0), (366, 0.03390581010769287), (367, 0.008395646790199492), (368, 0.010948536131806803), (369, 0.014374763718887655), (370, 0.015061253971135485), (371, 0.004950778457781847), (372, 0.0150104416336247), (373, 0.04110850767247855), (374, 0.0), (375, 0.0), (376, 0.0055996623820462905), (377, 0.007319091726034618), (378, 0.0), (379, 0.01492634608758301), (380, 0.014171417580060163), (381, 0.02170611592520228), (382, 0.0), (383, 0.005644155711309099), (384, 0.0), (385, 0.02687319864067797), (386, 0.006588243043351431), (387, 0.006144729570937683), (388, 0.009333286623463636), (389, 0.006009881073380527), (390, 0.012537227856667933), (391, 0.011023791861776159), (392, 0.005625236565175183), (393, 0.018304469725269022), (394, 0.006003827679486767), (395, 0.021501757931454826), (396, 0.039068494666935946), (397, 0.0), (398, 0.00905329071039663), (399, 0.0), (400, 0.00562852120161153), (401, 0.0), (402, 0.005821622509392074), (403, 0.04278552088746315), (404, 0.0), (405, 0.01128946212416998), (406, 0.028500264130247394), (407, 0.025159737490629594), (408, 0.006367426802893913), (409, 0.02451867669725215), (410, 0.011245445205573681), (411, 0.021560234318518813), (412, 0.005485182423797422), (413, 0.012201232460110347), (414, 0.008097075637525934), (415, 0.05416806423969881), (416, 0.01195131616086472), (417, 0.03899248356430973), (418, 0.0), (419, 0.03527024468595111), (420, 0.011459112412398798), (421, 0.026274009251656988), (422, 0.04271497140917251), (423, 0.013118369407525015), (424, 0.0058413566074833985), (425, 0.006639043525003313), (426, 0.04004538769454793), (427, 0.0), (428, 0.4336702001378905), (429, 0.0), (430, 0.0), (431, 0.011731175188535193), (432, 0.006088519225361317), (433, 0.015522964140923955), (434, 0.02238293708658447), (435, 0.012236682064910302), (436, 0.0), (437, 0.04093448910417662), (438, 0.11645088380845323), (439, 0.0), (440, 0.0), (441, 0.0), (442, 0.01317953919169806), (443, 0.01113560578514611), (444, 0.026225408131763602), (445, 0.0), (446, 0.01501354681979598), (447, 0.05933098042112704), (448, 0.012801489805814444), (449, 0.006201644991680352), (450, 0.0), (451, 0.011777739897453796), (452, 0.027352015490549168), (453, 0.015179041765240132), (454, 0.0), (455, 0.006418887107869146), (456, 0.023826746593173243), (457, 0.006050357929156923), (458, 0.015102272071751617), (459, 0.0), (460, 0.0), (461, 0.0), (462, 0.0), (463, 0.021293235226516723), (464, 0.0), (465, 0.0), (466, 0.006767316727095848), (467, 0.020377265548175455), (468, 0.014389698242923327), (469, 0.005472105136045834), (470, 0.027984665863041512), (471, 0.010753946497622088), (472, 0.017729295590951075), (473, 0.14044540091812419), (474, 0.0), (475, 0.005773608969285588), (476, 0.006868680822687068), (477, 0.0), (478, 0.006351315059390836), (479, 0.0), (480, 0.07329261973211942), (481, 0.015350354088913934), (482, 0.0), (483, 0.005676856241740345), (484, 0.0), (485, 0.010540251327369202), (486, 0.01677468053195736), (487, 0.005896253009745702), (488, 0.010560885480250562), (489, 0.0), (490, 0.005993364056562871), (491, 0.005285142798612533), (492, 0.0), (493, 0.01576939102944686), (494, 0.02779410416679881), (495, 0.0062797006301175936), (496, 0.0), (497, 0.009815243950097424), (498, 0.0), (499, 0.025770500588067326), (500, 0.014064950521673327), (501, 0.012795920053009327), (502, 0.0), (503, 0.0056106993795952366), (504, 0.0), (505, 0.017460205057838775), (506, 0.0), (507, 0.006085082013275396), (508, 0.005984402204463219), (509, 0.0), (510, 0.026744815108737025), (511, 0.06313230659712266), (512, 0.01530590453429136), (513, 0.04786339051617586), (514, 0.0), (515, 0.0), (516, 0.029899706174156014), (517, 0.0), (518, 0.03991740350294834), (519, 0.007727254256829388), (520, 0.0), (521, 0.015889071668723914), (522, 0.0), (523, 0.006121740919317735), (524, 0.0), (525, 0.027399434752940335), (526, 0.0), (527, 0.007486859330566699), (528, 0.0052898281757612145), (529, 0.0057733503523720205), (530, 0.00637593632382015), (531, 0.005637310619437895), (532, 0.0), (533, 0.012638650737216655), (534, 0.026219835140642127), (535, 0.005416770832582131), (536, 0.026688442429525196), (537, 0.017446439332221335), (538, 0.008250501550402797), (539, 0.006561637821277418), (540, 0.007468377577537802), (541, 0.00494591436699868), (542, 0.005683424946212528), (543, 0.016279167953913747), (544, 0.005966205871824105), (545, 0.02599180796821423), (546, 0.05486605620060739), (547, 0.031160528409193384), (548, 0.008024225472163232), (549, 0.0), (550, 0.0), (551, 0.0), (552, 0.0), (553, 0.006384052428570654), (554, 0.02104508673250724), (555, 0.012400362324461008), (556, 0.005252819863224014), (557, 0.0), (558, 0.0), (559, 0.013784587501627888), (560, 0.020087881779270178), (561, 0.0), (562, 0.0), (563, 0.013547102695572893), (564, 0.0), (565, 0.012590744171543948), (566, 0.0), (567, 0.0), (568, 0.005659804167540758), (569, 0.0), (570, 0.005955379209876905), (571, 0.02523282398263418), (572, 0.02386740560113812), (573, 0.006188307077479905), (574, 0.016028096357587878), (575, 0.0), (576, 0.010530295601174978), (577, 0.005522811733144094), (578, 0.01225382475420948), (579, 0.004934106642397419), (580, 0.006146352888732921), (581, 0.05716520574850418), (582, 0.0059449386797493595), (583, 0.08866198038364698), (584, 0.0950216501842723), (585, 0.01391444434675933), (586, 0.005291204874210234), (587, 0.05100711900389842), (588, 0.03755283234193248), (589, 0.04757385502380728), (590, 0.014143056032493991), (591, 0.013002018095195012), (592, 0.0), (593, 0.0), (594, 0.006075290399026268), (595, 0.005437150926105226), (596, 0.006062566414779083), (597, 0.03760235442515437), (598, 0.0), (599, 0.0), (600, 0.006915909872182916), (601, 0.006476544967874885), (602, 0.00646351610541253), (603, 0.0), (604, 0.005692917009491818), (605, 0.0), (606, 0.028606027204919504), (607, 0.005911847740508931), (608, 0.0274819856798516), (609, 0.006684626858707939), (610, 0.00527697768917268), (611, 0.0056645997320186395), (612, 0.013174450211720043), (613, 0.02215909405609683), (614, 0.015863562802777183), (615, 0.013288182662371206), (616, 0.0), (617, 0.019138180240594754), (618, 0.017544516765348222), (619, 0.0), (620, 0.020049426497004506), (621, 0.005765888439752935), (622, 0.0061555168164812955), (623, 0.0), (624, 0.016109296756788998), (625, 0.0), (626, 0.0), (627, 0.013341583756430395), (628, 0.007718395984665923), (629, 0.012440263698405049), (630, 0.0), (631, 0.022314579239786147), (632, 0.0), (633, 0.0), (634, 0.005722642305867696), (635, 0.0), (636, 0.052962812481658406), (637, 0.0), (638, 0.014961704803478047), (639, 0.0), (640, 0.005982377121322208), (641, 0.0), (642, 0.021285160827486386), (643, 0.005958833032695104), (644, 0.026068003238403074), (645, 0.005986835394921229), (646, 0.03635809572755846), (647, 0.018614503027244003), (648, 0.0), (649, 0.0), (650, 0.012996109156780516), (651, 0.016711453787521677), (652, 0.007859775472347915), (653, 0.005985760646977185), (654, 0.0060975428827658865), (655, 0.006242650259457862), (656, 0.0), (657, 0.006051653874851313), (658, 0.020216252858894262), (659, 0.014613186957377084), (660, 0.007370958791623041), (661, 0.035393598098799564), (662, 0.0693731308489362), (663, 0.0), (664, 0.02712662458327588), (665, 0.05054394069662545), (666, 0.011627992887914967), (667, 0.008325652192876527), (668, 0.04672378298530992), (669, 0.009304265702988063), (670, 0.0), (671, 0.0), (672, 0.0204210451943278), (673, 0.022886576070018646), (674, 0.007591654225949184), (675, 0.0), (676, 0.00565143731253576), (677, 0.005946647325117147), (678, 0.006974303071078067), (679, 0.007113688542833287), (680, 0.005342394641000815), (681, 0.04137147991246039), (682, 0.0), (683, 0.02034564722801106), (684, 0.007711452428454091), (685, 0.006158343503345707), (686, 0.01893011738596443), (687, 0.005641387646988683), (688, 0.0), (689, 0.0), (690, 0.043749336852525834), (691, 0.026098660312058344), (692, 0.0), (693, 0.0), (694, 0.03365406871266906), (695, 0.03253178898341628), (696, 0.009097201300609349), (697, 0.0), (698, 0.0), (699, 0.0), (700, 0.042130859317248415), (701, 0.0), (702, 0.014799348597543859), (703, 0.0), (704, 0.0), (705, 0.0), (706, 0.0), (707, 0.0), (708, 0.005526849498136254), (709, 0.0), (710, 0.00945638546052491), (711, 0.011775674903931919), (712, 0.0), (713, 0.0), (714, 0.030572365536930747), (715, 0.044519846353676694), (716, 0.006357853939610666), (717, 0.009091146218368184), (718, 0.021023239428634714), (719, 0.018446269474077168), (720, 0.0), (721, 0.027886239398207203), (722, 0.0), (723, 0.0), (724, 0.015061666085015177), (725, 0.022272095255464072), (726, 0.009007309381448617), (727, 0.0), (728, 0.016650899388373996), (729, 0.0), (730, 0.0), (731, 0.07158366293100417), (732, 0.006507871934547422), (733, 0.0), (734, 0.0), (735, 0.01242001892722607), (736, 0.005347852268409438), (737, 0.0058125726814801555), (738, 0.0), (739, 0.014300973472404001), (740, 0.027882910565781474), (741, 0.035390548160013205), (742, 0.010686752949187011), (743, 0.011067868374245187), (744, 0.018652745508925657), (745, 0.005488148411294273), (746, 0.015543006963389795), (747, 0.01629298046828318), (748, 0.04608379385825771), (749, 0.0), (750, 0.0072260224883516425), (751, 0.008833923261565424), (752, 0.0), (753, 0.12985239112430344), (754, 0.012754987081), (755, 0.0643168451768693), (756, 0.008693528723519585), (757, 0.016608707568669126), (758, 0.009295377395734659), (759, 0.0), (760, 0.009225424210847755), (761, 0.01296948502846931), (762, 0.04608646644102215), (763, 0.03852933962696744), (764, 0.012801857622458253), (765, 0.0), (766, 0.022913787226129596), (767, 0.014403179519398495), (768, 0.01735055678616188), (769, 0.028728499501443377), (770, 0.0), (771, 0.0), (772, 0.0), (773, 0.006681158802062811), (774, 0.05423778415865822), (775, 0.0), (776, 0.01357603950174982), (777, 0.005864647206551381), (778, 0.0), (779, 0.039720860214710274), (780, 0.0), (781, 0.038368291299467824), (782, 0.06901482231513192), (783, 0.0), (784, 0.019681292422006724), (785, 0.01580506714577477), (786, 0.019123953604322966), (787, 0.005353989656148235), (788, 0.07924172519161785), (789, 0.0), (790, 0.005677232483684878), (791, 0.039717675932366324), (792, 0.011114901765710903), (793, 0.0), (794, 0.005362126469096192), (795, 0.0), (796, 0.0), (797, 0.0), (798, 0.0), (799, 0.03399124675055113), (800, 0.07571437880092596), (801, 0.0), (802, 0.0), (803, 0.013261896076966912), (804, 0.014502432864103205), (805, 0.043065575146397916), (806, 0.03661962072447701), (807, 0.0060773980652710936), (808, 0.006090488259238034), (809, 0.0), (810, 0.034408787067596654), (811, 0.0), (812, 0.014986843421316237), (813, 0.13106465838406184), (814, 0.011038309735929234), (815, 0.0), (816, 0.0), (817, 0.0), (818, 0.006295510185700673), (819, 0.0), (820, 0.01191533248474075), (821, 0.015024901329119912), (822, 0.029805577829529088), (823, 0.005861423948223707), (824, 0.0), (825, 0.020064076806994305), (826, 0.06330402798877445), (827, 0.026714958196884298), (828, 0.014801006368563789), (829, 0.0), (830, 0.030993636790875835), (831, 0.02665096424441333), (832, 0.020674234153674947), (833, 0.0055553722648683836), (834, 0.00603815221323352), (835, 0.0), (836, 0.045595266223883574), (837, 0.0), (838, 0.03656909507221406), (839, 0.0), (840, 0.01383270447133959), (841, 0.022899307045298346), (842, 0.023347505518588003), (843, 0.0), (844, 0.014869474612288753), (845, 0.0), (846, 0.02695768869735509), (847, 0.0), (848, 0.016156197196569747), (849, 0.009071578688902527), (850, 0.0059868469632899405), (851, 0.0), (852, 0.029286475856285566), (853, 0.0), (854, 0.0053346680170236575), (855, 0.0), (856, 0.014914973789967968), (857, 0.0), (858, 0.009015562306941576), (859, 0.015692504185128152), (860, 0.0), (861, 0.0), (862, 0.029881920623292216), (863, 0.006118610421874228), (864, 0.016124757897515565), (865, 0.018401184905768232), (866, 0.015908882896798968), (867, 0.042297272542908035), (868, 0.0), (869, 0.04013795338629763), (870, 0.11481456763319714), (871, 0.015730941998737466), (872, 0.0), (873, 0.014711545280642155), (874, 0.0), (875, 0.0), (876, 0.008408334226000118), (877, 0.01890073199076317), (878, 0.0), (879, 0.008268468781371626), (880, 0.050330303115900095), (881, 0.01889879477677771), (882, 0.016435609533470973), (883, 0.008235535258450341), (884, 0.0), (885, 0.0), (886, 0.0), (887, 0.0), (888, 0.005791388461933004), (889, 0.0), (890, 0.0), (891, 0.0), (892, 0.009099338140918366), (893, 0.013767330908499666), (894, 0.015599897260792084), (895, 0.0), (896, 0.0), (897, 0.0), (898, 0.012167128590525145), (899, 0.011961938162646565), (900, 0.0), (901, 0.0), (902, 0.0), (903, 0.023408468637368084), (904, 0.06748653230490123), (905, 0.02117474694970941), (906, 0.0), (907, 0.0), (908, 0.0), (909, 0.0), (910, 0.0), (911, 0.015700036765816938), (912, 0.0), (913, 0.0), (914, 0.0053095809127024895), (915, 0.0), (916, 0.0), (917, 0.012840784966357587), (918, 0.01533148648101094), (919, 0.015383569113203318), (920, 0.026615670882264634), (921, 0.0), (922, 0.005900854299529308), (923, 0.0), (924, 0.0), (925, 0.0), (926, 0.0), (927, 0.024623172777288736), (928, 0.0), (929, 0.005541097121988974), (930, 0.005244983643695882), (931, 0.012117897683089055), (932, 0.015128419713027752), (933, 0.005766008606594065), (934, 0.0), (935, 0.0706063014122969), (936, 0.021544791378783294), (937, 0.015859839967103627), (938, 0.0), (939, 0.027480976305333436), (940, 0.0), (941, 0.02440940948622546), (942, 0.0), (943, 0.0), (944, 0.008558168114964779), (945, 0.0058604792593987725), (946, 0.034221277042187345), (947, 0.028343713920852397), (948, 0.0), (949, 0.0), (950, 0.013700313484738273), (951, 0.005712824978330586), (952, 0.015262843968237957), (953, 0.012854508788314362), (954, 0.0), (955, 0.005681197757077076), (956, 0.0061224620812361545), (957, 0.0), (958, 0.057778499632536104), (959, 0.024528825697044135), (960, 0.0), (961, 0.0), (962, 0.01504027987601977), (963, 0.07248484829501456), (964, 0.0), (965, 0.00830374209541059), (966, 0.0), (967, 0.029052756653540273), (968, 0.03045880286730988), (969, 0.028569692371203367), (970, 0.009018181433437916), (971, 0.015606943498457879), (972, 0.006219121188361124), (973, 0.032439202508750625), (974, 0.007529729444464942), (975, 0.009136590167100467), (976, 0.006279755269061223), (977, 0.010968525186239857), (978, 0.01505337705202415), (979, 0.005939807011886607), (980, 0.01830223090992184), (981, 0.006671181814886773), (982, 0.014458277085873838), (983, 0.007547470922895603), (984, 0.01580639070816283), (985, 0.0066001142685172065), (986, 0.0), (987, 0.0), (988, 0.006017725191370442), (989, 0.005714175728955966), (990, 0.007774153735372408), (991, 0.0), (992, 0.014199515408970033), (993, 0.04179418846178933), (994, 0.02355619588532705), (995, 0.010908653020516138), (996, 0.008247239603629537), (997, 0.0), (998, 0.010135622277357254), (999, 0.012204954138874465), (1000, 0.025531549470019926), (1001, 0.06103123920008397), (1002, 0.09308395988565327), (1003, 0.012047763434579126), (1004, 0.0), (1005, 0.02605845643665167), (1006, 0.005621007075380239), (1007, 0.0), (1008, 0.011828156065689703), (1009, 0.051698107041984236), (1010, 0.009243498484602269), (1011, 0.0), (1012, 0.006247929017904671), (1013, 0.008238512407996331), (1014, 0.0), (1015, 0.0), (1016, 0.02799088719135901), (1017, 0.10977773006970801), (1018, 0.02299172895412376), (1019, 0.0), (1020, 0.00677851039499119), (1021, 0.008511268850581098), (1022, 0.02338906886725151), (1023, 0.0), (1024, 0.0763978143376562), (1025, 0.007959231641258722), (1026, 0.03699748306517312), (1027, 0.04342575179122089), (1028, 0.0), (1029, 0.029171539315274504), (1030, 0.018231486311185797), (1031, 0.030448072797642924), (1032, 0.0), (1033, 0.016521391455573697), (1034, 0.058774895372745065), (1035, 0.11104004728933728), (1036, 0.019285882461814778), (1037, 0.0), (1038, 0.008089362785306324), (1039, 0.0), (1040, 0.0249289818143894), (1041, 0.013668118121788527), (1042, 0.0), (1043, 0.03563289311578408), (1044, 0.005492332361291105), (1045, 0.0), (1046, 0.006106219362804025), (1047, 0.006569004381507935), (1048, 0.08076499287243671), (1049, 0.03777042354777713), (1050, 0.02155552239655865), (1051, 0.008588835382803818), (1052, 0.012618568548113697), (1053, 0.022779033833281684), (1054, 0.0), (1055, 0.0), (1056, 0.005279326038060469), (1057, 0.0), (1058, 0.0406566230682259), (1059, 0.0), (1060, 0.0), (1061, 0.0), (1062, 0.0), (1063, 0.025053955423083054), (1064, 0.005015219957903545), (1065, 0.0), (1066, 0.0), (1067, 0.0), (1068, 0.0), (1069, 0.0), (1070, 0.00607140544238587), (1071, 0.0), (1072, 0.0), (1073, 0.014771965531740715), (1074, 0.027068742045178194), (1075, 0.007590568562808043), (1076, 0.1015052276330557), (1077, 0.005401814089296123), (1078, 0.011850929397077886), (1079, 0.00550049806679342), (1080, 0.0), (1081, 0.02067112222549961), (1082, 0.02770342707024555), (1083, 0.006057632153428524), (1084, 0.013710562992731417), (1085, 0.07707723066807848), (1086, 0.018201639323940644), (1087, 0.08224227727261375), (1088, 0.0), (1089, 0.03279499482831905), (1090, 0.030095546750712326), (1091, 0.0), (1092, 0.040326731392492904), (1093, 0.005563959427241569), (1094, 0.021888751058849142), (1095, 0.015229375024323498), (1096, 0.01343291442556425), (1097, 0.026218424224592973), (1098, 0.0), (1099, 0.00863408765579898), (1100, 0.013410222455839314), (1101, 0.005404561053462578), (1102, 0.0), (1103, 0.014011129029117785), (1104, 0.005557963590007918), (1105, 0.008332119939778402), (1106, 0.005282383178094169), (1107, 0.0), (1108, 0.02786604752799065), (1109, 0.05301546616830546), (1110, 0.017580931616214043), (1111, 0.024255947418993812), (1112, 0.013866920122871277), (1113, 0.031055997239270938), (1114, 0.016262153352940185), (1115, 0.0), (1116, 0.0), (1117, 0.014568866040062342), (1118, 0.014975372288306869), (1119, 0.012457295718320611), (1120, 0.021883155160107057), (1121, 0.0), (1122, 0.015305587850867148), (1123, 0.0), (1124, 0.04410313716493683), (1125, 0.036243624998049125), (1126, 0.0), (1127, 0.008718062045263212), (1128, 0.0), (1129, 0.0), (1130, 0.0), (1131, 0.033203690688756046), (1132, 0.02560006142431624), (1133, 0.015617291055228345), (1134, 0.011750138038201357), (1135, 0.008959551367400577), (1136, 0.0051458125906688025), (1137, 0.014411342510490265), (1138, 0.005049695986452319), (1139, 0.01734043663434248), (1140, 0.012166075293609292), (1141, 0.09682607282222189), (1142, 0.0), (1143, 0.006161301408757962), (1144, 0.05697449048299067), (1145, 0.0), (1146, 0.02192558541122246), (1147, 0.026306551234875134), (1148, 0.04269006600768688), (1149, 0.009309300385037852), (1150, 0.0), (1151, 0.01577931056205427), (1152, 0.01969006296601337), (1153, 0.004646496632392928), (1154, 0.0), (1155, 0.005507743871475468), (1156, 0.008540226393346877), (1157, 0.0), (1158, 0.005821369325820757), (1159, 0.0), (1160, 0.0), (1161, 0.0), (1162, 0.0), (1163, 0.014454159344245186), (1164, 0.0), (1165, 0.019659303679850797), (1166, 0.0), (1167, 0.0), (1168, 0.0), (1169, 0.0), (1170, 0.008579682253529574), (1171, 0.0), (1172, 0.02746904742421852), (1173, 0.0), (1174, 0.0247516918406211), (1175, 0.02459449421755864), (1176, 0.01570622681758228), (1177, 0.03610134931770331), (1178, 0.015143943687795244), (1179, 0.0), (1180, 0.019913502379546075), (1181, 0.022741017048565945), (1182, 0.008445193715933354), (1183, 0.01832822441584242), (1184, 0.026053246212900578), (1185, 0.0), (1186, 0.0), (1187, 0.0), (1188, 0.051912174922409696), (1189, 0.0), (1190, 0.03285421854037246), (1191, 0.016218949797794507), (1192, 0.061896283873050885), (1193, 0.005172327437731012), (1194, 0.02485747858007642), (1195, 0.020019208777982477), (1196, 0.024434539497674004), (1197, 0.009676649557888795), (1198, 0.0), (1199, 0.005092854456634962), (1200, 0.005821173097557547), (1201, 0.01953297816067071), (1202, 0.012105142256920397), (1203, 0.0), (1204, 0.0), (1205, 0.0), (1206, 0.012401562230227455), (1207, 0.01470382538956393), (1208, 0.0), (1209, 0.007294995625266861), (1210, 0.0), (1211, 0.0), (1212, 0.0), (1213, 0.015839098595330118), (1214, 0.030821903786241493), (1215, 0.012930872672891837), (1216, 0.0), (1217, 0.0), (1218, 0.0), (1219, 0.0), (1220, 0.007961206397208468), (1221, 0.0), (1222, 0.0), (1223, 0.06666543344020481), (1224, 0.0), (1225, 0.008283585367432967), (1226, 0.0), (1227, 0.023717380289531846), (1228, 0.0), (1229, 0.0), (1230, 0.018759722068766357), (1231, 0.0), (1232, 0.03355901106617605), (1233, 0.0), (1234, 0.03505055515403832), (1235, 0.0), (1236, 0.07648088253637214), (1237, 0.0), (1238, 0.011774269980398405), (1239, 0.029586780927496635), (1240, 0.0), (1241, 0.09945081977236112), (1242, 0.0), (1243, 0.008356279856301245), (1244, 0.0), (1245, 0.03686685705004711), (1246, 0.01173281165580667), (1247, 0.03026271288069972), (1248, 0.0), (1249, 0.006087670418980397), (1250, 0.0), (1251, 0.03508983793498191), (1252, 0.0), (1253, 0.018381519430031988), (1254, 0.014812855294638697), (1255, 0.0), (1256, 0.031058872262101755), (1257, 0.015569359200391085), (1258, 0.0), (1259, 0.03894488234375442), (1260, 0.014169226548057514), (1261, 0.0), (1262, 0.0), (1263, 0.0), (1264, 0.0), (1265, 0.028395340297053342), (1266, 0.01734746625989576), (1267, 0.00792524295183542), (1268, 0.0), (1269, 0.006857279683083236), (1270, 0.023108844752263075), (1271, 0.005667467992054073), (1272, 0.006392143515948449), (1273, 0.006299615603536042), (1274, 0.010867531771845147), (1275, 0.0), (1276, 0.0), (1277, 0.014837815016149721), (1278, 0.01644022470438564), (1279, 0.005841512659271656), (1280, 0.0), (1281, 0.01294424738448469), (1282, 0.0060740833271792725), (1283, 0.022875881613999425), (1284, 0.006034718631323123), (1285, 0.006119003123559031), (1286, 0.005025210192585881), (1287, 0.011418137451964884), (1288, 0.007784554562404372), (1289, 0.04080165992964041), (1290, 0.005161870570525492), (1291, 0.013821369846251508), (1292, 0.05229020759970803), (1293, 0.05254701147947478), (1294, 0.005756985459034962), (1295, 0.0), (1296, 0.09373413759140779), (1297, 0.0), (1298, 0.004939098929087796), (1299, 0.0), (1300, 0.0), (1301, 0.02546683862919811), (1302, 0.005989551133071362), (1303, 0.060866707275753794), (1304, 0.004213107396241539), (1305, 0.015149568172485407), (1306, 0.01356340833529844), (1307, 0.0), (1308, 0.020451500400046913), (1309, 0.009040984097975302), (1310, 0.005276848422047264), (1311, 0.0), (1312, 0.021187165102457668), (1313, 0.014757848637574554), (1314, 0.021381338056949282), (1315, 0.0), (1316, 0.05751085598428894), (1317, 0.006134643288694328), (1318, 0.0), (1319, 0.006123827519414496), (1320, 0.006301294950999897), (1321, 0.006035637937232889), (1322, 0.012116174674579894), (1323, 0.0), (1324, 0.006522113257187564), (1325, 0.0), (1326, 0.0), (1327, 0.019753847084425864), (1328, 0.008095292655387566), (1329, 0.0), (1330, 0.0), (1331, 0.033946191034043616), (1332, 0.00548351948966413), (1333, 0.0), (1334, 0.014448975378529584), (1335, 0.0), (1336, 0.0), (1337, 0.01254092239904699), (1338, 0.007976210731481675), (1339, 0.030415359031758134), (1340, 0.008802545596273359), (1341, 0.014936152320907635), (1342, 0.031163758018696315), (1343, 0.07576569667425266), (1344, 0.0), (1345, 0.0), (1346, 0.0), (1347, 0.005689504382533396), (1348, 0.0), (1349, 0.0), (1350, 0.0), (1351, 0.0), (1352, 0.0), (1353, 0.0), (1354, 0.0), (1355, 0.0), (1356, 0.0), (1357, 0.006881262698438042), (1358, 0.03367889787770381), (1359, 1.0000000000000002), (1360, 0.0), (1361, 0.013195708749641396), (1362, 0.02261760583701166), (1363, 0.0638939998620395), (1364, 0.03676258232632184), (1365, 0.0), (1366, 0.0), (1367, 0.0), (1368, 0.0362063573046284), (1369, 0.009018114291873453), (1370, 0.007220956168510067), (1371, 0.0), (1372, 0.0), (1373, 0.028542574150751086), (1374, 0.08433333760497835), (1375, 0.021092553040540262), (1376, 0.0), (1377, 0.028749610641856563), (1378, 0.0), (1379, 0.0), (1380, 0.0062958129079788965), (1381, 0.0), (1382, 0.051666503605455105), (1383, 0.0), (1384, 0.0), (1385, 0.0), (1386, 0.0), (1387, 0.0), (1388, 0.0), (1389, 0.016605462862103206), (1390, 0.04021945663574771), (1391, 0.0), (1392, 0.02223837020209929), (1393, 0.0), (1394, 0.03204589585176297), (1395, 0.005928025277376934), (1396, 0.0), (1397, 0.008122843758056844), (1398, 0.0070602598395786125), (1399, 0.006342572921223263), (1400, 0.0), (1401, 0.0), (1402, 0.011975732158840475), (1403, 0.015712272647638525), (1404, 0.004770848135732745), (1405, 0.00809332696694949), (1406, 0.0), (1407, 0.018348309012835146), (1408, 0.0), (1409, 0.009342086024368592), (1410, 0.0), (1411, 0.03325442692647558), (1412, 0.004976019147994935), (1413, 0.0), (1414, 0.0), (1415, 0.03392805164620089), (1416, 0.0), (1417, 0.04909158182026986), (1418, 0.03592041039228211), (1419, 0.014251424303793649), (1420, 0.02447049294425953), (1421, 0.07732651691812185), (1422, 0.0), (1423, 0.012334198311713047), (1424, 0.0), (1425, 0.023508081129500726), (1426, 0.022301733537144555), (1427, 0.02137208838977407), (1428, 0.005438840642822358), (1429, 0.009326311085791215), (1430, 0.0), (1431, 0.03302849390527824), (1432, 0.0360433750574011), (1433, 0.018249949114762198), (1434, 0.03664271379982298), (1435, 0.0), (1436, 0.0), (1437, 0.005127545916060118), (1438, 0.01605717525514763), (1439, 0.030996373647480428), (1440, 0.006264762869654378), (1441, 0.029858879009380668), (1442, 0.0), (1443, 0.0058185938230414435), (1444, 0.0), (1445, 0.04210289414232472), (1446, 0.011637533806036122), (1447, 0.0056634428826506135), (1448, 0.01516861408155305), (1449, 0.011596879073826621), (1450, 0.012960688285348278), (1451, 0.03829649019815455), (1452, 0.0), (1453, 0.016053723033819276), (1454, 0.0), (1455, 0.0), (1456, 0.011999894847816885), (1457, 0.014552092346843997), (1458, 0.03441079750180399), (1459, 0.005197822403232522), (1460, 0.0), (1461, 0.0), (1462, 0.0), (1463, 0.013062005659162015), (1464, 0.011038780328525743), (1465, 0.005635802439303504), (1466, 0.030018337420188515), (1467, 0.0), (1468, 0.015039306291539368), (1469, 0.013710433734646234), (1470, 0.014072018484184486), (1471, 0.0), (1472, 0.020324304088123413), (1473, 0.0), (1474, 0.10592336182832664), (1475, 0.0), (1476, 0.0), (1477, 0.09063272149587513), (1478, 0.07619245796828787), (1479, 0.01624660116850732), (1480, 0.008313835690886253), (1481, 0.01062803090743633), (1482, 0.005657188769157254), (1483, 0.04966869953777825), (1484, 0.013419401334022887), (1485, 0.0), (1486, 0.015344746482805429), (1487, 0.0), (1488, 0.016940402380287784), (1489, 0.0), (1490, 0.02197430663308443), (1491, 0.005609901748133192), (1492, 0.007976282156786021), (1493, 0.0), (1494, 0.01151227164238554), (1495, 0.026155867033283577), (1496, 0.0), (1497, 0.010701957142021557), (1498, 0.019268612653307853), (1499, 0.0), (1500, 0.005804449649692932), (1501, 0.0), (1502, 0.0), (1503, 0.04616841539751018), (1504, 0.03654064922567097), (1505, 0.01563748330602657), (1506, 0.06564854210634506), (1507, 0.005671426368454928), (1508, 0.014179875453539095), (1509, 0.0), (1510, 0.0058259853999098), (1511, 0.0), (1512, 0.1564422050047655), (1513, 0.013614151615119769), (1514, 0.005959581961206493), (1515, 0.027402245861133632), (1516, 0.01804641304881238), (1517, 0.012546402517808487), (1518, 0.015308169873230392), (1519, 0.009721830969221305), (1520, 0.0), (1521, 0.028876154306343438), (1522, 0.03056728550746488), (1523, 0.023351650056215718), (1524, 0.024928627641386484), (1525, 0.0), (1526, 0.0), (1527, 0.0), (1528, 0.006846264747591356), (1529, 0.05079912108173642), (1530, 0.0), (1531, 0.022159367390825094), (1532, 0.0), (1533, 0.014029961321804486), (1534, 0.0), (1535, 0.00918584665644395), (1536, 0.0), (1537, 0.008657914973692638), (1538, 0.013314748498215635), (1539, 0.0), (1540, 0.0), (1541, 0.02767479559248787), (1542, 0.013695767123400563), (1543, 0.02350144382626605), (1544, 0.0), (1545, 0.0), (1546, 0.030483002119555323), (1547, 0.020428469373263404), (1548, 0.014957991552160007), (1549, 0.011080936818513751), (1550, 0.008122135134910407), (1551, 0.0), (1552, 0.036860355725898776), (1553, 0.007789941721987467), (1554, 0.0), (1555, 0.0), (1556, 0.02733845231446693), (1557, 0.0), (1558, 0.007516083452125374), (1559, 0.01494906394068662), (1560, 0.0), (1561, 0.056730332706477864), (1562, 0.0), (1563, 0.0), (1564, 0.0), (1565, 0.0), (1566, 0.07661022051484719), (1567, 0.0), (1568, 0.006022904986817631), (1569, 0.015679252428820605), (1570, 0.009684065802909939), (1571, 0.0), (1572, 0.0), (1573, 0.013890234936339736), (1574, 0.020537094585130363), (1575, 0.03151521577360608), (1576, 0.0), (1577, 0.005945931035161958), (1578, 0.03255071127275159), (1579, 0.03856315159088759), (1580, 0.0), (1581, 0.007474938113190224), (1582, 0.0), (1583, 0.004927753122006594), (1584, 0.009532630226990758), (1585, 0.00860529809763151), (1586, 0.006145045649116388), (1587, 0.0), (1588, 0.014718665853362884), (1589, 0.02472650184723276), (1590, 0.0), (1591, 0.0), (1592, 0.037206353110610914), (1593, 0.0), (1594, 0.06743303183906868), (1595, 0.0), (1596, 0.01410127661442658), (1597, 0.0075210497836622715), (1598, 0.0), (1599, 0.01208382979451969), (1600, 0.05293338949620609), (1601, 0.0), (1602, 0.0), (1603, 0.01236094866421405), (1604, 0.0), (1605, 0.0), (1606, 0.0), (1607, 0.0072546414368010684), (1608, 0.022741648762577532), (1609, 0.0), (1610, 0.006018726541209377), (1611, 0.014467839826983206), (1612, 0.015448604768413338), (1613, 0.0), (1614, 0.05925028212518936), (1615, 0.014105567433502612), (1616, 0.005313061464533755), (1617, 0.00613350147508869), (1618, 0.023859814645548268), (1619, 0.026804641395805108), (1620, 0.0), (1621, 0.0), (1622, 0.0), (1623, 0.0), (1624, 0.0), (1625, 0.013130980457596857), (1626, 0.021921237372365267), (1627, 0.00820243598751619), (1628, 0.006387171532574379), (1629, 0.03313197182197597), (1630, 0.0), (1631, 0.019579695844772208), (1632, 0.008007287243110721), (1633, 0.00602517060048891), (1634, 0.0), (1635, 0.03255688572746202), (1636, 0.006508839022802877), (1637, 0.0043410513656582), (1638, 0.0), (1639, 0.007976218906236477), (1640, 0.0), (1641, 0.009858305316429956), (1642, 0.0), (1643, 0.030093217151113627), (1644, 0.008807280932917706), (1645, 0.005744129571136457), (1646, 0.0), (1647, 0.01613777654258072), (1648, 0.0), (1649, 0.0), (1650, 0.010509825491777392), (1651, 0.0), (1652, 0.03351464783510392), (1653, 0.04294719500274799), (1654, 0.0), (1655, 0.0), (1656, 0.0), (1657, 0.015321603690213466), (1658, 0.013750810582884661), (1659, 0.013749978132305383), (1660, 0.0077603552706022065), (1661, 0.03650807238326103), (1662, 0.0), (1663, 0.026488179252657222), (1664, 0.021060829460938315), (1665, 0.02296152680373745), (1666, 0.006777870768076211), (1667, 0.007466699123008089), (1668, 0.014431221006956114), (1669, 0.016088732762572805), (1670, 0.034813242012738416), (1671, 0.00557610263927995), (1672, 0.005277316386184203), (1673, 0.0), (1674, 0.030314964596836448), (1675, 0.016476488871275903), (1676, 0.0), (1677, 0.0), (1678, 0.024775167637941402), (1679, 0.026175240362920727), (1680, 0.009493005514534796), (1681, 0.008151371790250148), (1682, 0.03275747678517157), (1683, 0.0), (1684, 0.0), (1685, 0.0), (1686, 0.015620579450258413), (1687, 0.02024374673950867), (1688, 0.008737089253234982), (1689, 0.0), (1690, 0.0), (1691, 0.0), (1692, 0.0), (1693, 0.0), (1694, 0.012032914707236093), (1695, 0.012989484654834828), (1696, 0.0), (1697, 0.005311485503757219), (1698, 0.0), (1699, 0.03653638151851468), (1700, 0.0), (1701, 0.007757811388086432), (1702, 0.005765128066594301), (1703, 0.0), (1704, 0.0), (1705, 0.0), (1706, 0.0), (1707, 0.015970814000196266), (1708, 0.01415498286232807), (1709, 0.0), (1710, 0.0), (1711, 0.0), (1712, 0.022423621860553723), (1713, 0.006016497464088389), (1714, 0.0), (1715, 0.012247857983190398), (1716, 0.0), (1717, 0.0), (1718, 0.010190115212648907), (1719, 0.015425536873510608), (1720, 0.11088959105313176), (1721, 0.0051075089873183765), (1722, 0.0), (1723, 0.0), (1724, 0.0), (1725, 0.0), (1726, 0.036729574710124197), (1727, 0.015829339101647973), (1728, 0.008294180395472367), (1729, 0.0), (1730, 0.0), (1731, 0.010387485690386562), (1732, 0.0), (1733, 0.006638583247148759), (1734, 0.029029060452149667), (1735, 0.005059129483050041), (1736, 0.0), (1737, 0.024254802921773996), (1738, 0.0), (1739, 0.0), (1740, 0.11454985125597252), (1741, 0.0058155068818144355), (1742, 0.01427361750064721), (1743, 0.005327427465571858), (1744, 0.0), (1745, 0.013471229177194254), (1746, 0.0), (1747, 0.0), (1748, 0.010546137191412137), (1749, 0.0), (1750, 0.005286739234415405), (1751, 0.0), (1752, 0.006836061470162552), (1753, 0.04378140793252981), (1754, 0.0), (1755, 0.0), (1756, 0.0), (1757, 0.0061383987525992206), (1758, 0.03241258734575393), (1759, 0.0), (1760, 0.0), (1761, 0.01014033515609981), (1762, 0.0), (1763, 0.0), (1764, 0.012031037945769148), (1765, 0.02080806045081919), (1766, 0.0), (1767, 0.010124398510000913), (1768, 0.0), (1769, 0.006838164481742579), (1770, 0.024446789629835212), (1771, 0.07758204899485761), (1772, 0.0), (1773, 0.006890395062271252), (1774, 0.0), (1775, 0.029374747667142494), (1776, 0.0), (1777, 0.006394090148910801), (1778, 0.0), (1779, 0.0), (1780, 0.014572892499709856), (1781, 0.00887812989053239), (1782, 0.04456641152652984), (1783, 0.005738073949309803), (1784, 0.0), (1785, 0.042461649662272005), (1786, 0.01642547246460947), (1787, 0.01883145353370645), (1788, 0.024677265546035027), (1789, 0.021729977482336016), (1790, 0.029152475723489828), (1791, 0.0), (1792, 0.04543669314602744), (1793, 0.0), (1794, 0.021725382957619062), (1795, 0.012389724381802428), (1796, 0.0), (1797, 0.0), (1798, 0.0), (1799, 0.045379133344861884), (1800, 0.008242318834390009), (1801, 0.0), (1802, 0.01589088956284801), (1803, 0.10548693203812876), (1804, 0.030231250867772473), (1805, 0.009243166510503905), (1806, 0.0), (1807, 0.0), (1808, 0.0), (1809, 0.0), (1810, 0.0), (1811, 0.0), (1812, 0.021407759099008175), (1813, 0.027003486374885442), (1814, 0.014948367014467754), (1815, 0.006021391084565463), (1816, 0.022973776116958288), (1817, 0.004727756423889478), (1818, 0.013702437625128456), (1819, 0.0), (1820, 0.0), (1821, 0.011505273904944576), (1822, 0.010754808139152996), (1823, 0.0), (1824, 0.02136918532749834), (1825, 0.005786503680678431), (1826, 0.027868539820629295), (1827, 0.06112718402706903), (1828, 0.008009553906973998), (1829, 0.008351351062311375), (1830, 0.02550031903585781), (1831, 0.0), (1832, 0.0), (1833, 0.0), (1834, 0.0), (1835, 0.0), (1836, 0.005863127842397772), (1837, 0.011817717597312843), (1838, 0.029489727436352482), (1839, 0.0), (1840, 0.0), (1841, 0.0), (1842, 0.01299426013048719), (1843, 0.019791669204477873), (1844, 0.006498296974953923), (1845, 0.0), (1846, 0.0), (1847, 0.025592717189413514), (1848, 0.005309093176893114), (1849, 0.011928894867638372), (1850, 0.015716860238185675), (1851, 0.029426150122222557), (1852, 0.0), (1853, 0.01406040502495841), (1854, 0.005775948236711812), (1855, 0.0), (1856, 0.01865275148133675), (1857, 0.022562071634971183), (1858, 0.07825257949055812), (1859, 0.0), (1860, 0.015389738979107151), (1861, 0.013805974820374914), (1862, 0.0), (1863, 0.0), (1864, 0.0), (1865, 0.0), (1866, 0.0), (1867, 0.0), (1868, 0.01446817274431832), (1869, 0.0), (1870, 0.0), (1871, 0.0), (1872, 0.005944822165280675), (1873, 0.020365214014721873), (1874, 0.0), (1875, 0.0), (1876, 0.0), (1877, 0.004634676875197315), (1878, 0.009669819152494864), (1879, 0.031503084489711564), (1880, 0.005930658238595167), (1881, 0.028223886351758418), (1882, 0.0), (1883, 0.0), (1884, 0.033107947807304916), (1885, 0.0), (1886, 0.05390278830343161), (1887, 0.0), (1888, 0.0), (1889, 0.0), (1890, 0.0), (1891, 0.0), (1892, 0.012987621676900749), (1893, 0.034820297221570734), (1894, 0.015369565283901194), (1895, 0.0), (1896, 0.0), (1897, 0.03948793122895074), (1898, 0.0), (1899, 0.024710166468718035), (1900, 0.010888123652827058), (1901, 0.0), (1902, 0.021928299150638497), (1903, 0.0), (1904, 0.0), (1905, 0.0), (1906, 0.0), (1907, 0.005273245152770283), (1908, 0.0062313297633950476), (1909, 0.00892761294201279), (1910, 0.0058147384952466534), (1911, 0.0), (1912, 0.021257198918152), (1913, 0.0), (1914, 0.011271628072472943), (1915, 0.008354513079402959), (1916, 0.01990252580446165), (1917, 0.0), (1918, 0.05121464233079438), (1919, 0.0), (1920, 0.006497127182726701), (1921, 0.029875801793579567), (1922, 0.0), (1923, 0.0), (1924, 0.0), (1925, 0.026636220108948727), (1926, 0.0), (1927, 0.02626848810525973), (1928, 0.0), (1929, 0.02883067435086919), (1930, 0.013172217920496936), (1931, 0.0), (1932, 0.019088064877893392), (1933, 0.006591701665514312), (1934, 0.0), (1935, 0.04042106974046027), (1936, 0.015461361145292347), (1937, 0.017986598731796782), (1938, 0.0), (1939, 0.03734229305181722), (1940, 0.0), (1941, 0.0), (1942, 0.010180763459252546), (1943, 0.015277433205880054), (1944, 0.015126843802816982), (1945, 0.014604528356988772), (1946, 0.01625071810136001), (1947, 0.021512305785052286), (1948, 0.0), (1949, 0.0), (1950, 0.0), (1951, 0.0), (1952, 0.027827048081990248), (1953, 0.006119244028947348), (1954, 0.03007533249314248), (1955, 0.012161187433563099), (1956, 0.005983878009940392), (1957, 0.0), (1958, 0.0), (1959, 0.0), (1960, 0.014780954156401032), (1961, 0.0), (1962, 0.007872189711386974), (1963, 0.06306040760823792), (1964, 0.026424128415506672), (1965, 0.08877133648216178), (1966, 0.0), (1967, 0.015448867914965345), (1968, 0.0), (1969, 0.016665130077751035), (1970, 0.014634703169183222), (1971, 0.0081467637232954), (1972, 0.0), (1973, 0.005508578664050412), (1974, 0.0), (1975, 0.0), (1976, 0.03721206750673191), (1977, 0.026213150608751224), (1978, 0.007079264558477477), (1979, 0.0), (1980, 0.0), (1981, 0.0), (1982, 0.0), (1983, 0.0), (1984, 0.014072134564118963), (1985, 0.0), (1986, 0.016189682049039505), (1987, 0.010183709001165565), (1988, 0.0), (1989, 0.0), (1990, 0.006054621633638243), (1991, 0.03623761583710355), (1992, 0.008440435754365545), (1993, 0.0), (1994, 0.0), (1995, 0.017835088531605085), (1996, 0.0), (1997, 0.0), (1998, 0.0), (1999, 0.03428736706757329), (2000, 0.0), (2001, 0.037135196068050484), (2002, 0.028031201755923555), (2003, 0.020887063074128995), (2004, 0.02983186648306395), (2005, 0.0), (2006, 0.0), (2007, 0.005265583710479873), (2008, 0.017050877796972584), (2009, 0.0), (2010, 0.0), (2011, 0.0), (2012, 0.0), (2013, 0.00489799506656715), (2014, 0.0), (2015, 0.0), (2016, 0.004590610593139666), (2017, 0.01077913744078963), (2018, 0.0), (2019, 0.029038951929762514), (2020, 0.030331883793042923), (2021, 0.0), (2022, 0.0), (2023, 0.005607265416387165), (2024, 0.0), (2025, 0.013798423645327058), (2026, 0.05285396985964823), (2027, 0.0), (2028, 0.0), (2029, 0.05837602251079844), (2030, 0.0), (2031, 0.00906042273429321), (2032, 0.0), (2033, 0.0), (2034, 0.03910578990417099), (2035, 0.0), (2036, 0.028872815693080606), (2037, 0.0), (2038, 0.008492697971688631), (2039, 0.02565294628382962), (2040, 0.0), (2041, 0.0), (2042, 0.0), (2043, 0.005511634246521196), (2044, 0.0), (2045, 0.0), (2046, 0.014791499093991526), (2047, 0.055532062981269566), (2048, 0.0223160053079567), (2049, 0.0), (2050, 0.013704426526996567), (2051, 0.0), (2052, 0.0), (2053, 0.0), (2054, 0.025290998914375695), (2055, 0.05894966051478097), (2056, 0.0), (2057, 0.017202904367790282), (2058, 0.0), (2059, 0.0), (2060, 0.00876680185645271), (2061, 0.02892102961255816), (2062, 0.03267396079573991), (2063, 0.024042697138628704), (2064, 0.0), (2065, 0.0), (2066, 0.0538138065503692), (2067, 0.0), (2068, 0.0), (2069, 0.016424532316375057), (2070, 0.04715588540439944), (2071, 0.033889742629716856), (2072, 0.009246227685437848), (2073, 0.0), (2074, 0.013920855588506777), (2075, 0.0060436408219737186), (2076, 0.0), (2077, 0.0), (2078, 0.01927966959705256), (2079, 0.0), (2080, 0.0), (2081, 0.0), (2082, 0.016592034974591132), (2083, 0.0), (2084, 0.006172388370066521), (2085, 0.005658142132189757), (2086, 0.008199466896050401), (2087, 0.0), (2088, 0.0), (2089, 0.01559706873278928), (2090, 0.015311226299912984), (2091, 0.007615763749182356), (2092, 0.0), (2093, 0.006314057188267491), (2094, 0.0), (2095, 0.0), (2096, 0.0), (2097, 0.0), (2098, 0.0), (2099, 0.037235456504467725), (2100, 0.018086150263538523), (2101, 0.0), (2102, 0.0), (2103, 0.02097531365360009), (2104, 0.013510030573590633), (2105, 0.018772429004503564), (2106, 0.0), (2107, 0.0), (2108, 0.09291014247016978), (2109, 0.029496610705006265), (2110, 0.009474165753740603), (2111, 0.02536870851740287), (2112, 0.0), (2113, 0.0), (2114, 0.05342530483648618), (2115, 0.0), (2116, 0.0), (2117, 0.0), (2118, 0.0), (2119, 0.0), (2120, 0.0), (2121, 0.0), (2122, 0.007111951088668111), (2123, 0.057605200168411974), (2124, 0.008383390945796692), (2125, 0.0), (2126, 0.0), (2127, 0.011877571989858357), (2128, 0.0), (2129, 0.0057855936243738325), (2130, 0.008041188354339647), (2131, 0.0), (2132, 0.0), (2133, 0.0), (2134, 0.0), (2135, 0.0), (2136, 0.005282955880659471), (2137, 0.0), (2138, 0.0), (2139, 0.0), (2140, 0.00563341867902841), (2141, 0.0), (2142, 0.005714421439025626), (2143, 0.0), (2144, 0.0), (2145, 0.008966576467173786), (2146, 0.0), (2147, 0.0), (2148, 0.019514958417113804), (2149, 0.0), (2150, 0.0), (2151, 0.009133091267422944), (2152, 0.0), (2153, 0.0), (2154, 0.016872139743856283), (2155, 0.005539762093968017), (2156, 0.014860620924607664), (2157, 0.036898868092336556), (2158, 0.0), (2159, 0.0378214314370781), (2160, 0.0), (2161, 0.005730388739811134), (2162, 0.0), (2163, 0.01754574059992837), (2164, 0.0), (2165, 0.0), (2166, 0.011969275387620904), (2167, 0.008612175927679155), (2168, 0.009136032117274423), (2169, 0.01799512386689045), (2170, 0.0), (2171, 0.0), (2172, 0.0), (2173, 0.0), (2174, 0.0), (2175, 0.011572912667275649), (2176, 0.022542424762560867), (2177, 0.0), (2178, 0.0), (2179, 0.035575301400343685), (2180, 0.018191128933324537), (2181, 0.04115864795713621), (2182, 0.0), (2183, 0.0), (2184, 0.019939406340134046), (2185, 0.0), (2186, 0.0), (2187, 0.03607882608726597), (2188, 0.006899630605314841), (2189, 0.011126056457739182), (2190, 0.0), (2191, 0.041177407122128196), (2192, 0.022843278051314194), (2193, 0.009550618514188638), (2194, 0.00554959680540921), (2195, 0.013682061745452216), (2196, 0.01503760587944493), (2197, 0.016006924124014995), (2198, 0.006232763677312165), (2199, 0.022784230172978343), (2200, 0.01281849367844693), (2201, 0.006764223353389324), (2202, 0.02132071995989321), (2203, 0.025789986632634928), (2204, 0.03454255469666814), (2205, 0.029945619346278016), (2206, 0.011595442969887636), (2207, 0.006978041897662089), (2208, 0.0), (2209, 0.004725914753731576), (2210, 0.021494925361892427), (2211, 0.0), (2212, 0.006434372214114361), (2213, 0.0), (2214, 0.02964861464559386), (2215, 0.0), (2216, 0.008262560151115459), (2217, 0.0), (2218, 0.01588982360316515), (2219, 0.0), (2220, 0.0), (2221, 0.03499994256852555), (2222, 0.01737703855991064), (2223, 0.049027561685282106), (2224, 0.0), (2225, 0.008505171769896633), (2226, 0.0), (2227, 0.0), (2228, 0.011653345325852844), (2229, 0.01336641554103859), (2230, 0.0), (2231, 0.0), (2232, 0.0), (2233, 0.021089590650724042), (2234, 0.021078696916752487), (2235, 0.0), (2236, 0.0), (2237, 0.016763744486298842), (2238, 0.0), (2239, 0.0), (2240, 0.008094385928556203), (2241, 0.0), (2242, 0.0), (2243, 0.0), (2244, 0.005794966319507556), (2245, 0.0), (2246, 0.0), (2247, 0.00973275699891083), (2248, 0.0), (2249, 0.0), (2250, 0.015420399760306236), (2251, 0.021192354496275052), (2252, 0.0), (2253, 0.005142582228946085), (2254, 0.0), (2255, 0.015093636098995885), (2256, 0.0), (2257, 0.0), (2258, 0.010475966942563043), (2259, 0.0), (2260, 0.014394612607933616), (2261, 0.0), (2262, 0.010448906871028412), (2263, 0.010583269754115051), (2264, 0.005996498921725926), (2265, 0.08428807219838891), (2266, 0.01304930991780094), (2267, 0.0), (2268, 0.006931287118960085), (2269, 0.008909862694154246), (2270, 0.0), (2271, 0.0), (2272, 0.0), (2273, 0.0), (2274, 0.0), (2275, 0.008177769520144146), (2276, 0.0), (2277, 0.013806073478179285), (2278, 0.0), (2279, 0.0), (2280, 0.030969126027116163), (2281, 0.02089364729763905), (2282, 0.007887708346519973), (2283, 0.0), (2284, 0.06448247174063335), (2285, 0.05063001295992256), (2286, 0.0), (2287, 0.0), (2288, 0.005781327626300115), (2289, 0.03117689215284165), (2290, 0.0), (2291, 0.013325632114744461), (2292, 0.0), (2293, 0.005856337970150112), (2294, 0.009784899739351162), (2295, 0.014448062202991462), (2296, 0.006086233824642253), (2297, 0.0), (2298, 0.0), (2299, 0.0), (2300, 0.0), (2301, 0.05234242759856941), (2302, 0.0), (2303, 0.009821298911255917), (2304, 0.025335318697490512), (2305, 0.015154951807556289), (2306, 0.0), (2307, 0.007158091297870234), (2308, 0.0), (2309, 0.006342270682980249), (2310, 0.023419031536470396), (2311, 0.012124659987085923), (2312, 0.0), (2313, 0.13035765836260912), (2314, 0.01074055007128545), (2315, 0.0), (2316, 0.0), (2317, 0.02230205800232015), (2318, 0.008820632489816644), (2319, 0.0), (2320, 0.027611774220777922), (2321, 0.0441181132403397), (2322, 0.024146379809273838), (2323, 0.008230685684599006), (2324, 0.02928812209381266), (2325, 0.0), (2326, 0.0), (2327, 0.005632286953998272), (2328, 0.0), (2329, 0.00868714374804149), (2330, 0.022472633441827542), (2331, 0.014088929335831302), (2332, 0.0), (2333, 0.012653129412287557), (2334, 0.053892961755104135), (2335, 0.0), (2336, 0.011013654648571392), (2337, 0.05665823217300061), (2338, 0.011187822741783532), (2339, 0.0), (2340, 0.04411460813985085), (2341, 0.025091593716686244), (2342, 0.031242094226115732), (2343, 0.017833669789612656), (2344, 0.0), (2345, 0.0), (2346, 0.013110952690862907), (2347, 0.0), (2348, 0.0), (2349, 0.04012702643566439), (2350, 0.0441970046590725), (2351, 0.03517704646307606), (2352, 0.006568807961707832), (2353, 0.0), (2354, 0.02063324786592745), (2355, 0.020720043397632743), (2356, 0.023753257831127143), (2357, 0.004446894242047584), (2358, 0.026182483036399314), (2359, 0.0), (2360, 0.01760182391511329), (2361, 0.0), (2362, 0.05691639330890519), (2363, 0.0), (2364, 0.022027094695994325), (2365, 0.09316745699026069), (2366, 0.03451291946245182), (2367, 0.025146564559718802), (2368, 0.05949962335716091), (2369, 0.0), (2370, 0.0), (2371, 0.022508904052754047), (2372, 0.024672206797848685), (2373, 0.0), (2374, 0.0), (2375, 0.022445394048520573), (2376, 0.0), (2377, 0.0191089369768852), (2378, 0.026853312492286577), (2379, 0.0), (2380, 0.015017212702175984), (2381, 0.09909164652021282), (2382, 0.0), (2383, 0.08589176840080101), (2384, 0.006720188915262628), (2385, 0.0), (2386, 0.005523402094698428), (2387, 0.025645916995502314), (2388, 0.013653970359967137), (2389, 0.032487815727541516), (2390, 0.04485473758826183), (2391, 0.0), (2392, 0.02266168033136082), (2393, 0.008789252745359367), (2394, 0.006314029746984623), (2395, 0.0), (2396, 0.0), (2397, 0.0), (2398, 0.04088759830562298), (2399, 0.0), (2400, 0.005976877805311658), (2401, 0.0), (2402, 0.0), (2403, 0.027877394799854332), (2404, 0.0), (2405, 0.0), (2406, 0.0), (2407, 0.0), (2408, 0.0), (2409, 0.0), (2410, 0.0), (2411, 0.0), (2412, 0.014411117602282336), (2413, 0.007712062574872093), (2414, 0.021360186987565023), (2415, 0.03629341051935921), (2416, 0.012368773626044334), (2417, 0.0), (2418, 0.0), (2419, 0.0), (2420, 0.0), (2421, 0.0), (2422, 0.0), (2423, 0.0), (2424, 0.00801251073294117), (2425, 0.0), (2426, 0.0), (2427, 0.0), (2428, 0.008989394486837481), (2429, 0.0049482214343495), (2430, 0.029101185599161816), (2431, 0.0), (2432, 0.0), (2433, 0.05605455441541416), (2434, 0.03005682370864382), (2435, 0.012421096160602706), (2436, 0.0), (2437, 0.0), (2438, 0.012229228789056445), (2439, 0.0), (2440, 0.007622449026955051), (2441, 0.0), (2442, 0.006206413514706814), (2443, 0.0), (2444, 0.051658368460185115), (2445, 0.0), (2446, 0.0), (2447, 0.0), (2448, 0.030824099955612146), (2449, 0.015900950819912947), (2450, 0.01665072173742983), (2451, 0.0), (2452, 0.029305626927789246), (2453, 0.0), (2454, 0.0), (2455, 0.0), (2456, 0.013272096543817374), (2457, 0.0), (2458, 0.0), (2459, 0.0), (2460, 0.0), (2461, 0.0), (2462, 0.0), (2463, 0.0), (2464, 0.0), (2465, 0.010009415797567566), (2466, 0.03038373394864593), (2467, 0.008358802633155908), (2468, 0.0), (2469, 0.0), (2470, 0.04152469276746195), (2471, 0.014203230715975674), (2472, 0.0), (2473, 0.014850644920169355), (2474, 0.023210058750528895), (2475, 0.0), (2476, 0.0), (2477, 0.0), (2478, 0.00812323413968561), (2479, 0.0), (2480, 0.0), (2481, 0.0), (2482, 0.07570944835286939), (2483, 0.0), (2484, 0.0), (2485, 0.026495316735702604), (2486, 0.005281484703060021), (2487, 0.0), (2488, 0.0), (2489, 0.0), (2490, 0.018537900561728344), (2491, 0.0), (2492, 0.0751281597128687), (2493, 0.0), (2494, 0.0), (2495, 0.008915516360914137), (2496, 0.0), (2497, 0.0), (2498, 0.0), (2499, 0.01131604357734539), (2500, 0.0), (2501, 0.0), (2502, 0.009300168628435258), (2503, 0.02948600999215226), (2504, 0.0), (2505, 0.0), (2506, 0.007103246458188046), (2507, 0.009562522570638367), (2508, 0.01067104041563347), (2509, 0.0), (2510, 0.01582681562578722), (2511, 0.0), (2512, 0.0), (2513, 0.0), (2514, 0.042020847661007756), (2515, 0.004692943018557406), (2516, 0.0), (2517, 0.0), (2518, 0.0), (2519, 0.0), (2520, 0.015537762408984678), (2521, 0.0049144045412485154), (2522, 0.0), (2523, 0.0), (2524, 0.015320883386079951), (2525, 0.0), (2526, 0.0), (2527, 0.017075835338348264), (2528, 0.0), (2529, 0.020500587117679474), (2530, 0.14299844640540912), (2531, 0.022686015843723144), (2532, 0.0), (2533, 0.0), (2534, 0.0), (2535, 0.0), (2536, 0.020596580680695323), (2537, 0.0), (2538, 0.0), (2539, 0.021578222035135514), (2540, 0.03230831262435611), (2541, 0.0), (2542, 0.011762432584047178), (2543, 0.04041545668214166), (2544, 0.0), (2545, 0.03958544466311904), (2546, 0.00847490815422634), (2547, 0.0), (2548, 0.01046945478391635), (2549, 0.0), (2550, 0.024458880045929006), (2551, 0.0), (2552, 0.0), (2553, 0.02547128446393808), (2554, 0.022062489311275583), (2555, 0.02002070875236944), (2556, 0.010019112699883457), (2557, 0.0), (2558, 0.013655049415070694), (2559, 0.0), (2560, 0.0), (2561, 0.0), (2562, 0.02090318421572758), (2563, 0.0), (2564, 0.005306681517093007), (2565, 0.0057544333683164925), (2566, 0.0), (2567, 0.029427763485087053), (2568, 0.011333455266753448), (2569, 0.008423911176643628), (2570, 0.0), (2571, 0.0), (2572, 0.014997885585339207), (2573, 0.005593519342996315), (2574, 0.05506997283193114), (2575, 0.02144922340058254), (2576, 0.0), (2577, 0.013884968134747128), (2578, 0.005757916499077618), (2579, 0.023812869041056995), (2580, 0.02170466294754526), (2581, 0.0), (2582, 0.007411700635600975), (2583, 0.015181557082306629), (2584, 0.0), (2585, 0.0), (2586, 0.021226321319452027), (2587, 0.009512026901304753), (2588, 0.0), (2589, 0.0), (2590, 0.0), (2591, 0.0), (2592, 0.015417991296057285), (2593, 0.035738622674298295), (2594, 0.0), (2595, 0.0), (2596, 0.007664456571768523), (2597, 0.012471143441185106), (2598, 0.012213739546254014), (2599, 0.0), (2600, 0.0), (2601, 0.0), (2602, 0.004973301226520188), (2603, 0.0), (2604, 0.023377806372997925), (2605, 0.0), (2606, 0.015681909383909995), (2607, 0.008274020007293915), (2608, 0.0), (2609, 0.034456368786105765), (2610, 0.020532375488523963), (2611, 0.0), (2612, 0.0), (2613, 0.02373659693154587), (2614, 0.014823861502896633), (2615, 0.02162750499598077), (2616, 0.006672979901022044), (2617, 0.0), (2618, 0.0), (2619, 0.01462928972580078), (2620, 0.0), (2621, 0.02232734453807442), (2622, 0.0), (2623, 0.0069602985284611145), (2624, 0.013066529191426446), (2625, 0.014114180104956173), (2626, 0.0), (2627, 0.02421531330441283), (2628, 0.009822386616902242), (2629, 0.0), (2630, 0.0), (2631, 0.0696983901372428), (2632, 0.008682882169350686), (2633, 0.018460501292711925), (2634, 0.0), (2635, 0.07382944512203997), (2636, 0.0), (2637, 0.0), (2638, 0.0), (2639, 0.0051058566244834526), (2640, 0.023430194358428066), (2641, 0.004949883073885108), (2642, 0.00871189548092557), (2643, 0.0), (2644, 0.005689798185469352), (2645, 0.025612368137896382), (2646, 0.006473423136074452), (2647, 0.034186826208492886), (2648, 0.0), (2649, 0.009783320891063948), (2650, 0.006148374071050856), (2651, 0.011359984091115525), (2652, 0.012756990410540934), (2653, 0.0), (2654, 0.020523851885341476), (2655, 0.12316939595149462), (2656, 0.0), (2657, 0.02397913431221911), (2658, 0.0), (2659, 0.024700329698170802), (2660, 0.0), (2661, 0.0), (2662, 0.0), (2663, 0.0), (2664, 0.0), (2665, 0.0), (2666, 0.0), (2667, 0.031054765144213715), (2668, 0.0), (2669, 0.0), (2670, 0.009517238284713613), (2671, 0.0), (2672, 0.0), (2673, 0.0), (2674, 0.013790116120440088), (2675, 0.005944820765984938), (2676, 0.019034310948843104), (2677, 0.0), (2678, 0.005822176010916139), (2679, 0.0), (2680, 0.0), (2681, 0.023510985907530542), (2682, 0.0), (2683, 0.005758853778863415), (2684, 0.02911008310799262), (2685, 0.09547374479230827), (2686, 0.0), (2687, 0.028600483149194268), (2688, 0.04653225650787779), (2689, 0.0), (2690, 0.0), (2691, 0.0), (2692, 0.026580657115962074), (2693, 0.0), (2694, 0.0), (2695, 0.0), (2696, 0.0), (2697, 0.0), (2698, 0.0), (2699, 0.0), (2700, 0.0), (2701, 0.0), (2702, 0.0), (2703, 0.0), (2704, 0.022845365356573645), (2705, 0.0), (2706, 0.0), (2707, 0.0), (2708, 0.038011810992515015), (2709, 0.0), (2710, 0.0), (2711, 0.0), (2712, 0.00559349414307822), (2713, 0.048802967667417194), (2714, 0.0), (2715, 0.0), (2716, 0.0), (2717, 0.0), (2718, 0.0), (2719, 0.0), (2720, 0.0), (2721, 0.01916304208785674), (2722, 0.009155780544099965), (2723, 0.0), (2724, 0.0), (2725, 0.0), (2726, 0.01703320581577174), (2727, 0.007339295619606054), (2728, 0.007290860655960981), (2729, 0.0), (2730, 0.026782869239348927), (2731, 0.042103666056523714), (2732, 0.0), (2733, 0.0), (2734, 0.0), (2735, 0.0), (2736, 0.013106655832974684), (2737, 0.0), (2738, 0.024685744697339255), (2739, 0.0), (2740, 0.09618569954680523), (2741, 0.02380619291392782), (2742, 0.0), (2743, 0.0), (2744, 0.0), (2745, 0.0), (2746, 0.0233052456901261), (2747, 0.005137321955041985), (2748, 0.0), (2749, 0.035445598126839534), (2750, 0.008240580623416325), (2751, 0.0), (2752, 0.028490974537897513), (2753, 0.1007058355405392), (2754, 0.0), (2755, 0.029098599224442374), (2756, 0.01407530885788855), (2757, 0.0044673980634174215), (2758, 0.01834303007140897), (2759, 0.019500295775440015), (2760, 0.0), (2761, 0.02485731997948755), (2762, 0.008006649412365945), (2763, 0.0), (2764, 0.0), (2765, 0.0), (2766, 0.014594260546691428), (2767, 0.008471662540032263), (2768, 0.0), (2769, 0.0), (2770, 0.0), (2771, 0.022761212148644), (2772, 0.0), (2773, 0.0), (2774, 0.007478358100750917), (2775, 0.01414712107166543), (2776, 0.0), (2777, 0.005062828851666614), (2778, 0.0), (2779, 0.024743352525201056), (2780, 0.01874298754523973), (2781, 0.005388100915285957), (2782, 0.0), (2783, 0.028577968139117407), (2784, 0.004347295745719764), (2785, 0.005874956688468607), (2786, 0.0), (2787, 0.0), (2788, 0.0), (2789, 0.042906927125428686), (2790, 0.03263370141916326), (2791, 0.0), (2792, 0.0322857259380246), (2793, 0.08810821342690243), (2794, 0.010108205852067826), (2795, 0.0), (2796, 0.026407566040323807), (2797, 0.0), (2798, 0.019808311650941407), (2799, 0.03680514577208497), (2800, 0.0), (2801, 0.007846856698777428), (2802, 0.021615143439046032), (2803, 0.005385056301317378), (2804, 0.00856870762319033), (2805, 0.10620074093664161), (2806, 0.00451601412650253), (2807, 0.0), (2808, 0.0), (2809, 0.0), (2810, 0.0), (2811, 0.0), (2812, 0.05405539372962661), (2813, 0.046683787198135394), (2814, 0.024501165397221608), (2815, 0.005441788685520486), (2816, 0.0), (2817, 0.0), (2818, 0.007521365754157288), (2819, 0.004914030577083454), (2820, 0.06347402371963498), (2821, 0.0), (2822, 0.0581594137304243), (2823, 0.02586926014008694), (2824, 0.04515605089940508), (2825, 0.0), (2826, 0.06476374047445689), (2827, 0.03435687819867656), (2828, 0.008016929859139986), (2829, 0.020923371993763047), (2830, 0.019679840264562286), (2831, 0.0), (2832, 0.0), (2833, 0.0), (2834, 0.0), (2835, 0.03494706124580299), (2836, 0.014587330814070775), (2837, 0.0), (2838, 0.0), (2839, 0.007638326214434848), (2840, 0.0), (2841, 0.0), (2842, 0.0), (2843, 0.0), (2844, 0.0), (2845, 0.0), (2846, 0.011815168996011252), (2847, 0.0), (2848, 0.021831664434294466), (2849, 0.014936358979484792), (2850, 0.0), (2851, 0.04189641960423115), (2852, 0.0), (2853, 0.012042922769473732), (2854, 0.0), (2855, 0.0), (2856, 0.0), (2857, 0.0), (2858, 0.10361292404647203), (2859, 0.0), (2860, 0.00511529979712508), (2861, 0.01989489567963533), (2862, 0.015965115565811094), (2863, 0.00550346624140596), (2864, 0.022975593505317332), (2865, 0.0), (2866, 0.0), (2867, 0.007675364410245295), (2868, 0.004723506606111678), (2869, 0.027071323110228862), (2870, 0.0), (2871, 0.03078886703469324), (2872, 0.0), (2873, 0.0), (2874, 0.0), (2875, 0.01753701478226696), (2876, 0.022979634450178553), (2877, 0.0), (2878, 0.010449964272076997), (2879, 0.0), (2880, 0.0), (2881, 0.0), (2882, 0.0), (2883, 0.0), (2884, 0.009453846659450222), (2885, 0.009433630460418027), (2886, 0.0), (2887, 0.0), (2888, 0.0067381719305869), (2889, 0.020687449791655675), (2890, 0.0), (2891, 0.013857446963844111), (2892, 0.050610024813952444), (2893, 0.0), (2894, 0.0), (2895, 0.0), (2896, 0.0), (2897, 0.06593566051963098), (2898, 0.006947061584197484), (2899, 0.03246079046371597), (2900, 0.0), (2901, 0.0), (2902, 0.02202351981566613), (2903, 0.0), (2904, 0.0), (2905, 0.007287275847697293), (2906, 0.052981146205553595), (2907, 0.019654510101303153), (2908, 0.0), (2909, 0.0), (2910, 0.0), (2911, 0.009961732564869808), (2912, 0.005050469217123691), (2913, 0.0), (2914, 0.0), (2915, 0.008423720850828504), (2916, 0.0), (2917, 0.0), (2918, 0.005797479103353477), (2919, 0.0), (2920, 0.0), (2921, 0.01760478432739992), (2922, 0.0), (2923, 0.0), (2924, 0.0), (2925, 0.0), (2926, 0.023728579398618117), (2927, 0.0), (2928, 0.0), (2929, 0.0), (2930, 0.0), (2931, 0.017504690707315515), (2932, 0.008263359962826611), (2933, 0.007825499277042347), (2934, 0.0), (2935, 0.0), (2936, 0.0), (2937, 0.0), (2938, 0.020720460741431735), (2939, 0.02238342869108477), (2940, 0.0), (2941, 0.009104882239807153), (2942, 0.0), (2943, 0.0), (2944, 0.011231459851303124), (2945, 0.0), (2946, 0.0), (2947, 0.0), (2948, 0.008644955326439555), (2949, 0.0442870775705982), (2950, 0.0), (2951, 0.0), (2952, 0.02295586265728675), (2953, 0.0), (2954, 0.0), (2955, 0.0), (2956, 0.0), (2957, 0.008953271609540243), (2958, 0.008248286499574256), (2959, 0.014000424622434796), (2960, 0.0), (2961, 0.022997921358943765), (2962, 0.0), (2963, 0.0), (2964, 0.01656155503678846), (2965, 0.0), (2966, 0.0), (2967, 0.010966589972578156), (2968, 0.0), (2969, 0.0), (2970, 0.0), (2971, 0.0), (2972, 0.007237904928881178), (2973, 0.0), (2974, 0.0), (2975, 0.0), (2976, 0.0), (2977, 0.007145549501812169), (2978, 0.005684625938030177), (2979, 0.0), (2980, 0.0063725757877637935), (2981, 0.0), (2982, 0.008019534169164406), (2983, 0.052543122750186855), (2984, 0.0), (2985, 0.0), (2986, 0.004923289256470059), (2987, 0.0), (2988, 0.0), (2989, 0.0), (2990, 0.0), (2991, 0.0), (2992, 0.0), (2993, 0.0), (2994, 0.0), (2995, 0.00568398928251511), (2996, 0.005556128852587103), (2997, 0.0), (2998, 0.0), (2999, 0.0), (3000, 0.0), (3001, 0.024083165134731598), (3002, 0.0), (3003, 0.019037134957245593), (3004, 0.01251880240789935), (3005, 0.0), (3006, 0.00803716809778573), (3007, 0.0047027134825313845), (3008, 0.018382024962875502), (3009, 0.03669633189696831), (3010, 0.017500262113157344), (3011, 0.0), (3012, 0.007059310134197641), (3013, 0.011493146218513866), (3014, 0.0), (3015, 0.0), (3016, 0.0), (3017, 0.0), (3018, 0.0), (3019, 0.0), (3020, 0.028352883126466662), (3021, 0.006963563514101132), (3022, 0.0), (3023, 0.0), (3024, 0.0), (3025, 0.0), (3026, 0.0), (3027, 0.0), (3028, 0.0), (3029, 0.005416441937434091), (3030, 0.02455866501371264), (3031, 0.043439967128307944), (3032, 0.0), (3033, 0.06159539934505831), (3034, 0.0), (3035, 0.012967293446322692), (3036, 0.0), (3037, 0.0), (3038, 0.0), (3039, 0.0), (3040, 0.014444332633996384), (3041, 0.0), (3042, 0.01993522250971737), (3043, 0.027932570553045724), (3044, 0.0), (3045, 0.007837066258294143), (3046, 0.018482407100467425), (3047, 0.06311378643337362), (3048, 0.008924532566260178), (3049, 0.0), (3050, 0.00842714926352326), (3051, 0.006844415635029653), (3052, 0.008024924159450615), (3053, 0.050948803623281455), (3054, 0.0), (3055, 0.0), (3056, 0.0), (3057, 0.0), (3058, 0.0), (3059, 0.0), (3060, 0.0), (3061, 0.0), (3062, 0.014499235921481356), (3063, 0.0), (3064, 0.0), (3065, 0.0), (3066, 0.0), (3067, 0.0), (3068, 0.049414107414994975), (3069, 0.01636854218936436), (3070, 0.0), (3071, 0.0), (3072, 0.03041323206445172), (3073, 0.01314840672279309), (3074, 0.01350689620010727), (3075, 0.022799738123735355), (3076, 0.0), (3077, 0.005807132433534115), (3078, 0.02753732125723884), (3079, 0.0), (3080, 0.027708377112016905), (3081, 0.0), (3082, 0.0), (3083, 0.015488232844335205), (3084, 0.0), (3085, 0.0), (3086, 0.024176527844102978), (3087, 0.00846387264639647), (3088, 0.029259065610723466), (3089, 0.0060164617872441), (3090, 0.00813697217010382), (3091, 0.006606422401910004), (3092, 0.0), (3093, 0.007459743421596076), (3094, 0.0), (3095, 0.0), (3096, 0.0), (3097, 0.01724226006207203), (3098, 0.006236061115722898), (3099, 0.004732144429500221), (3100, 0.0), (3101, 0.008922901091106196), (3102, 0.0), (3103, 0.0), (3104, 0.0), (3105, 0.0), (3106, 0.036438309150365805), (3107, 0.0), (3108, 0.02013201142900114), (3109, 0.0), (3110, 0.0), (3111, 0.026754376037066777), (3112, 0.02673715375405749), (3113, 0.0), (3114, 0.02499196136692719), (3115, 0.0), (3116, 0.025810405041876424), (3117, 0.0), (3118, 0.0), (3119, 0.0), (3120, 0.02717038183640631), (3121, 0.0), (3122, 0.0), (3123, 0.0077782444675547485), (3124, 0.0), (3125, 0.02208170640643882), (3126, 0.012724208828037362), (3127, 0.0), (3128, 0.006370049957320645), (3129, 0.0), (3130, 0.0), (3131, 0.0), (3132, 0.0), (3133, 0.0050349609184825), (3134, 0.0), (3135, 0.0), (3136, 0.030185118105314455), (3137, 0.0), (3138, 0.005250522280712547), (3139, 0.0), (3140, 0.0), (3141, 0.0), (3142, 0.020807126073590226), (3143, 0.004871298982007363), (3144, 0.015386356293299326), (3145, 0.021444506575321643), (3146, 0.051866644996437415), (3147, 0.0), (3148, 0.03983572179897776), (3149, 0.0), (3150, 0.0), (3151, 0.024111155984196095), (3152, 0.0), (3153, 0.0060171290785774965), (3154, 0.006455587813597997), (3155, 0.0), (3156, 0.0), (3157, 0.0), (3158, 0.005341790014335482), (3159, 0.0), (3160, 0.02130014252983657), (3161, 0.0150746364254466), (3162, 0.03500964340820128), (3163, 0.0), (3164, 0.0), (3165, 0.022356499107445478), (3166, 0.0), (3167, 0.0), (3168, 0.03908117520151071), (3169, 0.00742377807126883), (3170, 0.013233607524397567), (3171, 0.0), (3172, 0.0), (3173, 0.008274980977457982), (3174, 0.0), (3175, 0.0), (3176, 0.0), (3177, 0.005210189961253771), (3178, 0.0), (3179, 0.0), (3180, 0.015341403179508516), (3181, 0.0), (3182, 0.0), (3183, 0.02168035955227644), (3184, 0.0258427888212373), (3185, 0.0), (3186, 0.0), (3187, 0.0), (3188, 0.0), (3189, 0.023860807709440837), (3190, 0.0), (3191, 0.0), (3192, 0.0), (3193, 0.0), (3194, 0.0), (3195, 0.0), (3196, 0.0), (3197, 0.007732912255709248), (3198, 0.0), (3199, 0.009843208262433146), (3200, 0.0), (3201, 0.015558996876301672), (3202, 0.022053450080002517), (3203, 0.0), (3204, 0.0), (3205, 0.0), (3206, 0.0), (3207, 0.009142584953350056), (3208, 0.05820755146627104), (3209, 0.0222454566682287), (3210, 0.022476489175119494), (3211, 0.015904955384221403), (3212, 0.0), (3213, 0.0), (3214, 0.010587386497581348), (3215, 0.0), (3216, 0.0), (3217, 0.0), (3218, 0.0), (3219, 0.0), (3220, 0.02291691986703548), (3221, 0.005329598657008485), (3222, 0.0), (3223, 0.0), (3224, 0.026812179799423408), (3225, 0.0), (3226, 0.0), (3227, 0.0), (3228, 0.0), (3229, 0.0), (3230, 0.0), (3231, 0.004797524568258478), (3232, 0.008072628410784306), (3233, 0.0), (3234, 0.007971848350404693), (3235, 0.0), (3236, 0.0), (3237, 0.012079761107988104), (3238, 0.014588875528013186), (3239, 0.01824424984505339), (3240, 0.0), (3241, 0.05340971236503065), (3242, 0.08265375497458573), (3243, 0.0), (3244, 0.009124718405838774), (3245, 0.0), (3246, 0.0), (3247, 0.021033077942400228), (3248, 0.0), (3249, 0.0), (3250, 0.0514937007094248), (3251, 0.02727894181130471), (3252, 0.011081992192107504), (3253, 0.0), (3254, 0.0), (3255, 0.008307872086385084), (3256, 0.0), (3257, 0.0077828200932722105), (3258, 0.0), (3259, 0.012595598964869453), (3260, 0.014377178318959061), (3261, 0.0), (3262, 0.0), (3263, 0.0), (3264, 0.0), (3265, 0.0), (3266, 0.0), (3267, 0.05273324652069261), (3268, 0.0), (3269, 0.0), (3270, 0.0), (3271, 0.0), (3272, 0.0), (3273, 0.007210864778842364), (3274, 0.005028181362697796), (3275, 0.007731233936913252), (3276, 0.0), (3277, 0.0), (3278, 0.0), (3279, 0.0), (3280, 0.0224026587699371), (3281, 0.010884525939828775), (3282, 0.0), (3283, 0.0), (3284, 0.03232711123460075), (3285, 0.02317434637983967), (3286, 0.009602923768456199), (3287, 0.0), (3288, 0.0), (3289, 0.0), (3290, 0.005915380014146779), (3291, 0.02588013982906634), (3292, 0.0), (3293, 0.022496209633074877), (3294, 0.02982384537387294), (3295, 0.0), (3296, 0.0), (3297, 0.0522561741859047), (3298, 0.0), (3299, 0.006943718447152733), (3300, 0.0), (3301, 0.0), (3302, 0.0), (3303, 0.03567057051656947), (3304, 0.007571546806708036), (3305, 0.005471975285838908), (3306, 0.039676635245201014), (3307, 0.0), (3308, 0.022689453018056832), (3309, 0.013120111797676283), (3310, 0.0), (3311, 0.0), (3312, 0.0), (3313, 0.0), (3314, 0.0), (3315, 0.0), (3316, 0.014861906671809266), (3317, 0.0), (3318, 0.014589726461816888), (3319, 0.0), (3320, 0.0), (3321, 0.0), (3322, 0.01682228045331803), (3323, 0.045463393394116196), (3324, 0.0), (3325, 0.0), (3326, 0.097199312782917), (3327, 0.0), (3328, 0.0), (3329, 0.013334086430355503), (3330, 0.0), (3331, 0.0), (3332, 0.03841700176479136), (3333, 0.041147067322326605), (3334, 0.019863493403852787), (3335, 0.006276055844173655), (3336, 0.005948993062771979), (3337, 0.016712154950238575), (3338, 0.09626822771257743), (3339, 0.0), (3340, 0.0), (3341, 0.027456044317160446), (3342, 0.0), (3343, 0.005853569389736019), (3344, 0.0), (3345, 0.014792066545738124), (3346, 0.0), (3347, 0.0), (3348, 0.03470093665595343), (3349, 0.013745420118908332), (3350, 0.0417882692763087), (3351, 0.005439706221748708), (3352, 0.024396955006793095), (3353, 0.0), (3354, 0.025794039442538323), (3355, 0.05733650578631505), (3356, 0.0), (3357, 0.007555077546153558), (3358, 0.006975944826352897), (3359, 0.048636137876783864), (3360, 0.0), (3361, 0.006460554995825298), (3362, 0.021244175993942634), (3363, 0.0), (3364, 0.012398538184160875), (3365, 0.0), (3366, 0.0), (3367, 0.0), (3368, 0.04718818185599416), (3369, 0.0), (3370, 0.004912843170836794), (3371, 0.02543996111645092), (3372, 0.06343074841555574), (3373, 0.0073494231278678586), (3374, 0.01338426636251119), (3375, 0.020714497703828418), (3376, 0.0), (3377, 0.030576735558462773), (3378, 0.008332491456674347), (3379, 0.015259461414937095), (3380, 0.0), (3381, 0.0), (3382, 0.026494668714459973), (3383, 0.0), (3384, 0.0), (3385, 0.03038036851825888), (3386, 0.009975486462229177), (3387, 0.0), (3388, 0.0), (3389, 0.023223334632977953), (3390, 0.012294950449569114), (3391, 0.016290387797923658), (3392, 0.0), (3393, 0.0), (3394, 0.022184720079951356), (3395, 0.0), (3396, 0.0), (3397, 0.00991955215151318), (3398, 0.0), (3399, 0.011529267399003552), (3400, 0.031082403774901544), (3401, 0.0), (3402, 0.010848940616961351), (3403, 0.0), (3404, 0.020573777417037437), (3405, 0.01906456319660604), (3406, 0.0), (3407, 0.0), (3408, 0.029790484991162137), (3409, 0.032967078206524704), (3410, 0.0), (3411, 0.0), (3412, 0.015748410240946947), (3413, 0.0), (3414, 0.0), (3415, 0.0), (3416, 0.013200224246451222), (3417, 0.011311353745428208), (3418, 0.0), (3419, 0.0), (3420, 0.0077035415177786355), (3421, 0.0), (3422, 0.0), (3423, 0.020840885671892295), (3424, 0.03214258568052109), (3425, 0.006933689417497607), (3426, 0.0), (3427, 0.0), (3428, 0.0), (3429, 0.0), (3430, 0.02108950302405748), (3431, 0.009173513364875851), (3432, 0.0), (3433, 0.0), (3434, 0.022351902754958883), (3435, 0.0), (3436, 0.0), (3437, 0.0076604593804254426), (3438, 0.0), (3439, 0.02884187259378962), (3440, 0.0), (3441, 0.02167631945523335), (3442, 0.0), (3443, 0.0), (3444, 0.0), (3445, 0.005811097427685435), (3446, 0.0383615676511048), (3447, 0.008803230193785976), (3448, 0.040522074385016496), (3449, 0.0), (3450, 0.007181587157313897), (3451, 0.01875210968067396), (3452, 0.0), (3453, 0.0), (3454, 0.0073212948158751946), (3455, 0.02153884586055913), (3456, 0.02188225440246337), (3457, 0.0), (3458, 0.0), (3459, 0.018386070663558435), (3460, 0.005061753745943123), (3461, 0.0), (3462, 0.0), (3463, 0.014255781701855083), (3464, 0.021102755648635937), (3465, 0.0), (3466, 0.08711211196429466), (3467, 0.006874913137640472), (3468, 0.0), (3469, 0.02074608682686657), (3470, 0.02856811639031797), (3471, 0.0), (3472, 0.015105260753229132), (3473, 0.0), (3474, 0.01393390605853856), (3475, 0.03378197435678976), (3476, 0.0), (3477, 0.031159046393320858), (3478, 0.0), (3479, 0.03655549852817972), (3480, 0.02071896499704114), (3481, 0.0), (3482, 0.013678912331752276), (3483, 0.0), (3484, 0.0), (3485, 0.0064184430314164105), (3486, 0.0), (3487, 0.0), (3488, 0.00982717075826775), (3489, 0.02474811709364507), (3490, 0.0), (3491, 0.0), (3492, 0.026799162925321484), (3493, 0.0), (3494, 0.017398232758590232), (3495, 0.020731851240541825), (3496, 0.0), (3497, 0.0), (3498, 0.0), (3499, 0.0), (3500, 0.008835025020001438), (3501, 0.0146461026382932), (3502, 0.0), (3503, 0.0), (3504, 0.009023205074521787), (3505, 0.026907053297595185), (3506, 0.009628825689225596), (3507, 0.01630444182909888), (3508, 0.0), (3509, 0.007313224353894204), (3510, 0.026216599601589237), (3511, 0.021045307214166743), (3512, 0.0), (3513, 0.0), (3514, 0.0), (3515, 0.028779487480278927), (3516, 0.005613105156309229), (3517, 0.0), (3518, 0.045633124362971705), (3519, 0.0), (3520, 0.0), (3521, 0.0), (3522, 0.0062045875778853656), (3523, 0.006019273318759896), (3524, 0.0), (3525, 0.027523649936897418), (3526, 0.008736544659454566), (3527, 0.0), (3528, 0.0), (3529, 0.0), (3530, 0.0), (3531, 0.02298551380001975), (3532, 0.0), (3533, 0.01694757007043725), (3534, 0.0), (3535, 0.0), (3536, 0.0), (3537, 0.008893069872989176), (3538, 0.0), (3539, 0.0), (3540, 0.0), (3541, 0.00873949007549038), (3542, 0.0), (3543, 0.0), (3544, 0.03642356362499003), (3545, 0.0060851723889384585), (3546, 0.0), (3547, 0.0), (3548, 0.007143270587067035), (3549, 0.0), (3550, 0.04603458840735805), (3551, 0.0), (3552, 0.021018956707958898), (3553, 0.010632042489122449), (3554, 0.0), (3555, 0.0), (3556, 0.0), (3557, 0.0), (3558, 0.0), (3559, 0.0), (3560, 0.0), (3561, 0.0), (3562, 0.013429849681386982), (3563, 0.0), (3564, 0.03555320923343217), (3565, 0.0), (3566, 0.0), (3567, 0.008216295316754855), (3568, 0.0), (3569, 0.0), (3570, 0.0), (3571, 0.0), (3572, 0.0), (3573, 0.0), (3574, 0.0), (3575, 0.0), (3576, 0.024399828825500847), (3577, 0.0), (3578, 0.0), (3579, 0.005299514555241278), (3580, 0.030059502788719883), (3581, 0.0), (3582, 0.0), (3583, 0.0), (3584, 0.005384246084745588), (3585, 0.0), (3586, 0.0), (3587, 0.0), (3588, 0.0), (3589, 0.0), (3590, 0.018930053029555523), (3591, 0.013826755095749014), (3592, 0.0), (3593, 0.020815149599577823), (3594, 0.007440652926651173), (3595, 0.04497871804256423), (3596, 0.051196818342761644), (3597, 0.0), (3598, 0.0), (3599, 0.007893599043448834), (3600, 0.020721458153498882), (3601, 0.0), (3602, 0.032174347397317664), (3603, 0.012142858556690455), (3604, 0.016981794976091084), (3605, 0.015330007550148706), (3606, 0.005996186558353796), (3607, 0.017420772554640137), (3608, 0.0), (3609, 0.020453119507165052), (3610, 0.0), (3611, 0.02216833831550329), (3612, 0.0), (3613, 0.011495584999230873), (3614, 0.0), (3615, 0.007145430285764496), (3616, 0.006362485873252505), (3617, 0.005375375014056764), (3618, 0.006859278186328398), (3619, 0.015575069150124531), (3620, 0.0), (3621, 0.0), (3622, 0.013329052060485212), (3623, 0.016012894105393614), (3624, 0.028134658612382225), (3625, 0.0), (3626, 0.0), (3627, 0.0), (3628, 0.01889137297308172), (3629, 0.0), (3630, 0.09536652442517482), (3631, 0.0190251614455789), (3632, 0.024719097845666498), (3633, 0.0), (3634, 0.04151714901389228), (3635, 0.0184726558058606), (3636, 0.008271623980654959), (3637, 0.06258856934483112), (3638, 0.0), (3639, 0.00820140945064288), (3640, 0.00831949639541661), (3641, 0.0), (3642, 0.0), (3643, 0.007506434025590609), (3644, 0.016062271902496858), (3645, 0.0), (3646, 0.02126559646199331), (3647, 0.0), (3648, 0.0), (3649, 0.0), (3650, 0.006508994012814584), (3651, 0.0), (3652, 0.027569157019202338), (3653, 0.0), (3654, 0.0), (3655, 0.0), (3656, 0.0), (3657, 0.0), (3658, 0.00819821641002071), (3659, 0.029250019532641044), (3660, 0.0), (3661, 0.0), (3662, 0.0), (3663, 0.0), (3664, 0.0), (3665, 0.010183923991342327), (3666, 0.0), (3667, 0.026520939804877422), (3668, 0.0060549478770595445), (3669, 0.02442591347453281), (3670, 0.0), (3671, 0.012247648168690511), (3672, 0.026377233559962462), (3673, 0.0), (3674, 0.0), (3675, 0.0), (3676, 0.0), (3677, 0.0), (3678, 0.020513098449810536), (3679, 0.022946198330840478), (3680, 0.0), (3681, 0.0), (3682, 0.0), (3683, 0.0), (3684, 0.0), (3685, 0.05808155391723234), (3686, 0.0), (3687, 0.0), (3688, 0.022638410702557458), (3689, 0.005995786446297022), (3690, 0.0), (3691, 0.022687607551139462), (3692, 0.0), (3693, 0.0), (3694, 0.04054144909927975), (3695, 0.025232290726157725), (3696, 0.0), (3697, 0.0), (3698, 0.0), (3699, 0.025300521040854465), (3700, 0.008561955550208125), (3701, 0.009055015225259139), (3702, 0.0), (3703, 0.025498751698526563), (3704, 0.023978759436331612), (3705, 0.0), (3706, 0.011616938029874374), (3707, 0.005806605734596533), (3708, 0.0), (3709, 0.006799614147845546), (3710, 0.02501541287641996), (3711, 0.03916612861026549), (3712, 0.0), (3713, 0.0), (3714, 0.019438736167283893), (3715, 0.005553191250924092), (3716, 0.007694891330918131), (3717, 0.01413866025372178), (3718, 0.0), (3719, 0.06361347352795213), (3720, 0.0), (3721, 0.0), (3722, 0.005317784739185683), (3723, 0.0), (3724, 0.027769577477340407), (3725, 0.014707403178927637), (3726, 0.009176583618916226), (3727, 0.009006986809850083), (3728, 0.0), (3729, 0.0), (3730, 0.018078773425781933), (3731, 0.0), (3732, 0.0), (3733, 0.015198517277298023), (3734, 0.024424239263713256), (3735, 0.02685646874902219), (3736, 0.0), (3737, 0.0), (3738, 0.0), (3739, 0.03769093683925475), (3740, 0.005900472674373099), (3741, 0.0), (3742, 0.0), (3743, 0.0), (3744, 0.02090728031804923), (3745, 0.0259400984804718), (3746, 0.0), (3747, 0.0), (3748, 0.0), (3749, 0.006081335909868608), (3750, 0.0), (3751, 0.0), (3752, 0.0), (3753, 0.039823620782149294), (3754, 0.0), (3755, 0.005055827130184242), (3756, 0.0069772638726525865), (3757, 0.013853001314443957), (3758, 0.01926917420311886), (3759, 0.0), (3760, 0.009478626129119533), (3761, 0.0), (3762, 0.022994388166267504), (3763, 0.0), (3764, 0.004746457419361527), (3765, 0.008281214481999605), (3766, 0.033608272860175946), (3767, 0.0), (3768, 0.0), (3769, 0.0), (3770, 0.018342516405566455), (3771, 0.015324900604606818), (3772, 0.021040599899748606), (3773, 0.0), (3774, 0.05236378546157318), (3775, 0.020924886630913384), (3776, 0.0), (3777, 0.012905244122144999), (3778, 0.02096681411303926), (3779, 0.0), (3780, 0.019287161029918648), (3781, 0.0), (3782, 0.0412883564673476), (3783, 0.0), (3784, 0.008049831004088532), (3785, 0.008426536267411331), (3786, 0.030544645376702647), (3787, 0.0), (3788, 0.024745343651238687), (3789, 0.008255289732856854), (3790, 0.008070908956035228), (3791, 0.0), (3792, 0.0), (3793, 0.0), (3794, 0.0), (3795, 0.006531690131427273), (3796, 0.01774134312380647), (3797, 0.0), (3798, 0.0), (3799, 0.014934511521225899), (3800, 0.013267913567159308), (3801, 0.0), (3802, 0.0), (3803, 0.0), (3804, 0.0044739328163458285), (3805, 0.0), (3806, 0.0), (3807, 0.0), (3808, 0.0), (3809, 0.0), (3810, 0.0), (3811, 0.0), (3812, 0.0), (3813, 0.015044519580993012), (3814, 0.025408406861282918), (3815, 0.02233637949050013), (3816, 0.006132457494931574), (3817, 0.008444404992775826), (3818, 0.0), (3819, 0.06412397993137933), (3820, 0.0), (3821, 0.0), (3822, 0.0), (3823, 0.0), (3824, 0.0), (3825, 0.0), (3826, 0.0280603483774252), (3827, 0.0), (3828, 0.01474968770997559), (3829, 0.020076938777314594), (3830, 0.006269551480335343), (3831, 0.022629726150369636), (3832, 0.0), (3833, 0.035476036180703115), (3834, 0.007888571586827828), (3835, 0.0), (3836, 0.031218044280989635), (3837, 0.032239654165798624), (3838, 0.0), (3839, 0.007703415491028521), (3840, 0.0), (3841, 0.010590492590421208), (3842, 0.006153295440950899), (3843, 0.0), (3844, 0.0), (3845, 0.010389565136512631), (3846, 0.0), (3847, 0.0), (3848, 0.005681151267633711), (3849, 0.014726139977922697), (3850, 0.008618438424080818), (3851, 0.04328170027878792), (3852, 0.0), (3853, 0.0), (3854, 0.08208834382658262), (3855, 0.020224615855242423), (3856, 0.017763703111467875), (3857, 0.007384959092695714), (3858, 0.033090672748218156), (3859, 0.016720749878289885), (3860, 0.0), (3861, 0.0), (3862, 0.0), (3863, 0.0), (3864, 0.0), (3865, 0.0), (3866, 0.0068559372005182135), (3867, 0.0), (3868, 0.021058882926193612), (3869, 0.024841053315253804), (3870, 0.0), (3871, 0.0), (3872, 0.013975337235523078), (3873, 0.058335642102504595), (3874, 0.014366897990181352), (3875, 0.009969745843119559), (3876, 0.0), (3877, 0.0), (3878, 0.0), (3879, 0.0), (3880, 0.007276479220323397), (3881, 0.0), (3882, 0.006462084067163062), (3883, 0.021401105074934073), (3884, 0.004864731648084518), (3885, 0.0), (3886, 0.011485860798267184), (3887, 0.02593809020211559), (3888, 0.0), (3889, 0.0), (3890, 0.02614454415268622), (3891, 0.03950635518517243), (3892, 0.0), (3893, 0.08135979333488601), (3894, 0.0), (3895, 0.007164580539323048), (3896, 0.0), (3897, 0.02305530883779942), (3898, 0.022242096962648984), (3899, 0.021014854737944115), (3900, 0.019897674150586388), (3901, 0.03629658162917561), (3902, 0.0), (3903, 0.022431136235499124), (3904, 0.0), (3905, 0.03521638585913725), (3906, 0.031442936652767955), (3907, 0.010986315488017784), (3908, 0.0), (3909, 0.0), (3910, 0.018378946579120134), (3911, 0.024356880103976037), (3912, 0.017591919789521692), (3913, 0.0), (3914, 0.0), (3915, 0.0), (3916, 0.0), (3917, 0.0), (3918, 0.0), (3919, 0.04182341791795526), (3920, 0.005550240663786815), (3921, 0.04959645246013852), (3922, 0.0), (3923, 0.0), (3924, 0.0), (3925, 0.0), (3926, 0.0), (3927, 0.0), (3928, 0.033483899490309776), (3929, 0.013524533108049294), (3930, 0.008919582986862155), (3931, 0.0), (3932, 0.0), (3933, 0.0), (3934, 0.0), (3935, 0.04226025608228286), (3936, 0.008061814481192368), (3937, 0.0), (3938, 0.0), (3939, 0.02099557453128191), (3940, 0.025903995389954408), (3941, 0.006181174175669681), (3942, 0.005683892925069402), (3943, 0.00703124131865086), (3944, 0.01568677912644867), (3945, 0.02991321850758563), (3946, 0.052849283689635686), (3947, 0.0), (3948, 0.05837519204362007), (3949, 0.0), (3950, 0.0), (3951, 0.042050897691238154), (3952, 0.025528268118986924), (3953, 0.02442709897624179), (3954, 0.0), (3955, 0.0), (3956, 0.018605126766629964), (3957, 0.016800579868335212), (3958, 0.0), (3959, 0.0), (3960, 0.0), (3961, 0.0), (3962, 0.005927581057952173), (3963, 0.0), (3964, 0.0), (3965, 0.025748068606117704), (3966, 0.020202243909126918), (3967, 0.0), (3968, 0.0), (3969, 0.0), (3970, 0.0), (3971, 0.06049600355134131), (3972, 0.01623625938605267), (3973, 0.0), (3974, 0.0), (3975, 0.0), (3976, 0.014939376471141876), (3977, 0.0), (3978, 0.025318742476996708), (3979, 0.0), (3980, 0.0), (3981, 0.0), (3982, 0.005974057208979508), (3983, 0.0), (3984, 0.07178867213690945), (3985, 0.0), (3986, 0.05486396775397958), (3987, 0.0), (3988, 0.0070688197596715475), (3989, 0.0), (3990, 0.0), (3991, 0.02479820988957192), (3992, 0.0), (3993, 0.006279406386390659), (3994, 0.0), (3995, 0.0), (3996, 0.0), (3997, 0.0), (3998, 0.0), (3999, 0.0), (4000, 0.0), (4001, 0.0), (4002, 0.0), (4003, 0.0), (4004, 0.006448537170419845), (4005, 0.0), (4006, 0.0), (4007, 0.0), (4008, 0.022989921500083825), (4009, 0.0), (4010, 0.013071392818747793), (4011, 0.019763106330852192), (4012, 0.034509682624080065), (4013, 0.005135906483162647), (4014, 0.0), (4015, 0.0), (4016, 0.0), (4017, 0.014360550830331066), (4018, 0.0), (4019, 0.024732826752708926), (4020, 0.0), (4021, 0.0), (4022, 0.008372584160455027), (4023, 0.0), (4024, 0.0), (4025, 0.0), (4026, 0.0), (4027, 0.026397425511181967), (4028, 0.020809385748601805), (4029, 0.0), (4030, 0.02080721257811485), (4031, 0.0), (4032, 0.0), (4033, 0.04581882567140014), (4034, 0.0), (4035, 0.0), (4036, 0.0), (4037, 0.0), (4038, 0.029892762592185297), (4039, 0.0), (4040, 0.009103535360354334), (4041, 0.008081207783937453), (4042, 0.005863235223367898), (4043, 0.0), (4044, 0.0335888740261724), (4045, 0.025080131189440608), (4046, 0.0), (4047, 0.02676386537292901), (4048, 0.0), (4049, 0.010448543744661155), (4050, 0.0265535786108869), (4051, 0.03082410382166048), (4052, 0.0), (4053, 0.0), (4054, 0.022425173183137984), (4055, 0.014947557783832874), (4056, 0.0), (4057, 0.0), (4058, 0.0), (4059, 0.0), (4060, 0.0), (4061, 0.006585198073686092), (4062, 0.0), (4063, 0.03180677385851566), (4064, 0.0), (4065, 0.06022899315591065), (4066, 0.0), (4067, 0.021522423944746762), (4068, 0.0), (4069, 0.0), (4070, 0.0), (4071, 0.005212972926154188), (4072, 0.0061308705578413236), (4073, 0.032007413251179236), (4074, 0.0), (4075, 0.0), (4076, 0.009352352540905051), (4077, 0.024942563209602434), (4078, 0.004485501343675267), (4079, 0.035583951374966755), (4080, 0.0), (4081, 0.0), (4082, 0.0), (4083, 0.0), (4084, 0.017006518648153755), (4085, 0.0), (4086, 0.0), (4087, 0.013129220063377666), (4088, 0.0), (4089, 0.0), (4090, 0.007984818563803335), (4091, 0.0), (4092, 0.0), (4093, 0.0063976841247951385), (4094, 0.0538187794521965), (4095, 0.0), (4096, 0.0), (4097, 0.0), (4098, 0.007325858966097341), (4099, 0.013766871253233183), (4100, 0.03071892784952134), (4101, 0.0), (4102, 0.0), (4103, 0.0), (4104, 0.0), (4105, 0.023881261958852235), (4106, 0.0), (4107, 0.0), (4108, 0.020652583652731454), (4109, 0.0), (4110, 0.0), (4111, 0.006824240923437762), (4112, 0.0), (4113, 0.0), (4114, 0.0054882299321325784), (4115, 0.0), (4116, 0.0), (4117, 0.03660334470651001), (4118, 0.0), (4119, 0.019547412001784937), (4120, 0.026988801268099626), (4121, 0.0), (4122, 0.0), (4123, 0.0), (4124, 0.00642440619108335), (4125, 0.0), (4126, 0.0), (4127, 0.03396594349423377), (4128, 0.0), (4129, 0.006735518928888351), (4130, 0.0), (4131, 0.0), (4132, 0.04229839661065353), (4133, 0.0), (4134, 0.0), (4135, 0.020919883143946022), (4136, 0.010319812625158638), (4137, 0.0), (4138, 0.0), (4139, 0.00944442526661742), (4140, 0.0), (4141, 0.0), (4142, 0.04401918060753025), (4143, 0.0066009101197774265), (4144, 0.006864461544170953), (4145, 0.021923105352816004), (4146, 0.006379225168470511), (4147, 0.01094634918871988), (4148, 0.0), (4149, 0.03847063708875673), (4150, 0.019616407857578823), (4151, 0.0), (4152, 0.0), (4153, 0.07754809989254295), (4154, 0.04715203608528884), (4155, 0.005803229282345607), (4156, 0.02226570033336232), (4157, 0.0), (4158, 0.019676570386278538), (4159, 0.03402316195565795), (4160, 0.04446468653885598), (4161, 0.007640192640270767), (4162, 0.0), (4163, 0.0), (4164, 0.01152672750730783), (4165, 0.0), (4166, 0.04824671686130444), (4167, 0.01383330225838321), (4168, 0.0), (4169, 0.0), (4170, 0.0), (4171, 0.0), (4172, 0.025518447258555167), (4173, 0.0), (4174, 0.0065694520358120295), (4175, 0.020318343799116952), (4176, 0.02687140621952546), (4177, 0.047791904405218806), (4178, 0.0), (4179, 0.016488461136363607), (4180, 0.0), (4181, 0.0), (4182, 0.0), (4183, 0.0985911550584087), (4184, 0.04988894410257894), (4185, 0.0), (4186, 0.0), (4187, 0.006552709185183679), (4188, 0.0), (4189, 0.01786937476534024), (4190, 0.0), (4191, 0.01373195098865579), (4192, 0.0), (4193, 0.005047891693998438), (4194, 0.0), (4195, 0.00847693339362052), (4196, 0.007540620234763148), (4197, 0.0), (4198, 0.0), (4199, 0.0), (4200, 0.02990137510330718), (4201, 0.012477340453199237), (4202, 0.0), (4203, 0.023043660602014966), (4204, 0.0), (4205, 0.00972848405425016), (4206, 0.0), (4207, 0.0), (4208, 0.0), (4209, 0.007111753869441907), (4210, 0.0), (4211, 0.020750050406145644), (4212, 0.0), (4213, 0.0), (4214, 0.015102093857625887), (4215, 0.0049070817689440905), (4216, 0.0), (4217, 0.009644872250045062), (4218, 0.0), (4219, 0.0), (4220, 0.005034780551588193), (4221, 0.04999871299265154), (4222, 0.0), (4223, 0.007038522208150946), (4224, 0.0), (4225, 0.008450351469193469), (4226, 0.007008784238078576), (4227, 0.0), (4228, 0.0), (4229, 0.0), (4230, 0.014699116047123598), (4231, 0.016532781000494275), (4232, 0.023381002626730322), (4233, 0.007616581635428488), (4234, 0.0), (4235, 0.0), (4236, 0.0), (4237, 0.0), (4238, 0.0), (4239, 0.0), (4240, 0.0), (4241, 0.0), (4242, 0.0), (4243, 0.0), (4244, 0.0), (4245, 0.0), (4246, 0.015489260763997452), (4247, 0.0), (4248, 0.0), (4249, 0.0), (4250, 0.0), (4251, 0.01386653317215206), (4252, 0.03171507578357467), (4253, 0.0), (4254, 0.03189811223818816), (4255, 0.040511544116047786), (4256, 0.0461258767010008), (4257, 0.0), (4258, 0.006775509878900703), (4259, 0.009900457044068682), (4260, 0.0), (4261, 0.02560188777847737), (4262, 0.0), (4263, 0.0), (4264, 0.0), (4265, 0.007320164722643415), (4266, 0.0), (4267, 0.08480024576247933), (4268, 0.008270733667255881), (4269, 0.0), (4270, 0.0), (4271, 0.0), (4272, 0.0), (4273, 0.03121289882723545), (4274, 0.0), (4275, 0.005444451529521279), (4276, 0.0), (4277, 0.008184830276819592), (4278, 0.0), (4279, 0.02354021835569805), (4280, 0.0), (4281, 0.0), (4282, 0.0), (4283, 0.0), (4284, 0.028886209355177946), (4285, 0.04164402725450789), (4286, 0.018206610349941324), (4287, 0.007258616851963803), (4288, 0.0), (4289, 0.0), (4290, 0.0), (4291, 0.029033977624567376), (4292, 0.00813788961248055), (4293, 0.0), (4294, 0.0), (4295, 0.0), (4296, 0.0), (4297, 0.0), (4298, 0.0), (4299, 0.0), (4300, 0.056320709978821826), (4301, 0.01395934587961171), (4302, 0.0), (4303, 0.0), (4304, 0.0), (4305, 0.0), (4306, 0.0), (4307, 0.0), (4308, 0.0), (4309, 0.0), (4310, 0.008638422590166023), (4311, 0.022044945346712086), (4312, 0.01855856024447759), (4313, 0.042136594623125426), (4314, 0.0), (4315, 0.006079829338456572), (4316, 0.005259025363971736), (4317, 0.0), (4318, 0.0), (4319, 0.0), (4320, 0.00825431297542625), (4321, 0.0), (4322, 0.0), (4323, 0.0), (4324, 0.021104359027982945), (4325, 0.02622263112085514), (4326, 0.024266339688704185), (4327, 0.005426013603795544), (4328, 0.0), (4329, 0.018165797438919083), (4330, 0.0), (4331, 0.0), (4332, 0.0), (4333, 0.014644222416795284), (4334, 0.0), (4335, 0.0), (4336, 0.0), (4337, 0.007774794765403955), (4338, 0.0), (4339, 0.027421111517042074), (4340, 0.0), (4341, 0.0), (4342, 0.0), (4343, 0.0), (4344, 0.004968037472891168), (4345, 0.031239263458933176), (4346, 0.014982953760968207), (4347, 0.0), (4348, 0.020417920701806352), (4349, 0.005958222720980807), (4350, 0.024535140891291447), (4351, 0.005442939349311255), (4352, 0.0), (4353, 0.005238735664842518), (4354, 0.0), (4355, 0.0), (4356, 0.01798865981164615), (4357, 0.019252325295145784), (4358, 0.0), (4359, 0.0), (4360, 0.0), (4361, 0.0), (4362, 0.0), (4363, 0.0), (4364, 0.0), (4365, 0.0), (4366, 0.0), (4367, 0.0), (4368, 0.011585909402680275), (4369, 0.0), (4370, 0.010557143032487934), (4371, 0.0), (4372, 0.0273993317811048), (4373, 0.0), (4374, 0.0), (4375, 0.0), (4376, 0.023397496377294096), (4377, 0.00842947323105543), (4378, 0.02280760612090057), (4379, 0.02057199919623757), (4380, 0.012429468585093962), (4381, 0.0), (4382, 0.0), (4383, 0.0), (4384, 0.0), (4385, 0.0), (4386, 0.02123226445353718), (4387, 0.0), (4388, 0.04655491692985256), (4389, 0.0), (4390, 0.0), (4391, 0.007000349366272845), (4392, 0.024621617359762163), (4393, 0.008243081966689709), (4394, 0.0), (4395, 0.007606390860360642), (4396, 0.0), (4397, 0.00741571291232829), (4398, 0.0), (4399, 0.0670403283260691), (4400, 0.0), (4401, 0.03272971362556834), (4402, 0.005650919209384148), (4403, 0.0), (4404, 0.006988049242073422), (4405, 0.0), (4406, 0.0), (4407, 0.0), (4408, 0.017939795950411182), (4409, 0.0), (4410, 0.0), (4411, 0.08114525626278032), (4412, 0.0), (4413, 0.0), (4414, 0.0), (4415, 0.027188436208458653), (4416, 0.0), (4417, 0.0), (4418, 0.03267608718556838), (4419, 0.0), (4420, 0.0), (4421, 0.030074528694256617), (4422, 0.0), (4423, 0.0), (4424, 0.0), (4425, 0.00682080815518482), (4426, 0.0), (4427, 0.0), (4428, 0.019130930245058426), (4429, 0.0), (4430, 0.028020598887945537), (4431, 0.0), (4432, 0.04852736973474026), (4433, 0.0), (4434, 0.0), (4435, 0.0), (4436, 0.0), (4437, 0.0), (4438, 0.024361224480716374), (4439, 0.03358910771417208), (4440, 0.06888019164278703), (4441, 0.0), (4442, 0.0), (4443, 0.0), (4444, 0.0), (4445, 0.0), (4446, 0.0), (4447, 0.0), (4448, 0.0), (4449, 0.009806292307928814), (4450, 0.007386303529015997), (4451, 0.0), (4452, 0.0), (4453, 0.0), (4454, 0.0), (4455, 0.0), (4456, 0.0), (4457, 0.0), (4458, 0.0), (4459, 0.0), (4460, 0.006420202402093551), (4461, 0.02231541614511421), (4462, 0.0), (4463, 0.0), (4464, 0.0), (4465, 0.005951215046692852), (4466, 0.0), (4467, 0.0), (4468, 0.0), (4469, 0.0), (4470, 0.0), (4471, 0.020997866789942546), (4472, 0.02989827821537025), (4473, 0.044302945173011296), (4474, 0.0), (4475, 0.0), (4476, 0.009233775944447223), (4477, 0.019402903657826594), (4478, 0.0), (4479, 0.0), (4480, 0.0), (4481, 0.030379821107231593), (4482, 0.017452648120834868), (4483, 0.0), (4484, 0.06391271604354101), (4485, 0.0), (4486, 0.0), (4487, 0.005944220860886153), (4488, 0.009630806617453604), (4489, 0.012802055846198793), (4490, 0.0), (4491, 0.0), (4492, 0.0), (4493, 0.024673890765201253), (4494, 0.0), (4495, 0.06929314991838621), (4496, 0.02148770486273078), (4497, 0.017732916480644755), (4498, 0.025581001632155886), (4499, 0.008192462522862582), (4500, 0.0), (4501, 0.0), (4502, 0.00995739676612112), (4503, 0.0), (4504, 0.0), (4505, 0.0), (4506, 0.02434910831104642), (4507, 0.004875717930154442), (4508, 0.0), (4509, 0.0), (4510, 0.0), (4511, 0.0), (4512, 0.0), (4513, 0.0), (4514, 0.020885424983681032), (4515, 0.02156408601524352), (4516, 0.0), (4517, 0.07596275619608503), (4518, 0.0), (4519, 0.031481575779475496), (4520, 0.0), (4521, 0.0), (4522, 0.02149240365779621), (4523, 0.0), (4524, 0.0), (4525, 0.0), (4526, 0.012992734705299928), (4527, 0.0396878957508882), (4528, 0.008383704275526345), (4529, 0.022790684799719657), (4530, 0.0), (4531, 0.009486245253087113), (4532, 0.0), (4533, 0.0), (4534, 0.0), (4535, 0.004648179850462232), (4536, 0.0), (4537, 0.0), (4538, 0.0), (4539, 0.034771075086172096), (4540, 0.0), (4541, 0.0), (4542, 0.0), (4543, 0.0), (4544, 0.0), (4545, 0.0), (4546, 0.006358046621312569), (4547, 0.0), (4548, 0.0), (4549, 0.006125905559869343), (4550, 0.0), (4551, 0.0), (4552, 0.025296012656298508), (4553, 0.0), (4554, 0.031836984994660214), (4555, 0.021290925614731143), (4556, 0.008807715031589471), (4557, 0.006914436974441638), (4558, 0.04566104395907104), (4559, 0.0), (4560, 0.0), (4561, 0.0), (4562, 0.0), (4563, 0.004847720794773636), (4564, 0.0), (4565, 0.0060888142222903716), (4566, 0.0), (4567, 0.0), (4568, 0.0), (4569, 0.022981905394587488), (4570, 0.0), (4571, 0.0), (4572, 0.0), (4573, 0.018988266994031763), (4574, 0.0), (4575, 0.0), (4576, 0.007429202737604973), (4577, 0.0), (4578, 0.0), (4579, 0.009168306123740803), (4580, 0.017052895279238256), (4581, 0.0), (4582, 0.0), (4583, 0.006382688059278732), (4584, 0.02701384859369459), (4585, 0.0), (4586, 0.0), (4587, 0.0), (4588, 0.0), (4589, 0.0), (4590, 0.0), (4591, 0.0), (4592, 0.0), (4593, 0.0), (4594, 0.0), (4595, 0.0), (4596, 0.0), (4597, 0.0), (4598, 0.0), (4599, 0.030225334907737027), (4600, 0.0), (4601, 0.04810511580608672), (4602, 0.01539512560402784), (4603, 0.0), (4604, 0.0), (4605, 0.0), (4606, 0.0), (4607, 0.0), (4608, 0.010826090326167055), (4609, 0.0), (4610, 0.0), (4611, 0.0), (4612, 0.0), (4613, 0.0), (4614, 0.0), (4615, 0.0), (4616, 0.0684390708666724), (4617, 0.0), (4618, 0.02613925170108162), (4619, 0.0), (4620, 0.006507391079084522), (4621, 0.08479722572527117), (4622, 0.0), (4623, 0.006028287015581027), (4624, 0.0), (4625, 0.02084775959245067), (4626, 0.0), (4627, 0.0), (4628, 0.0), (4629, 0.028395459506660472), (4630, 0.06002075053449686), (4631, 0.015972869677780454), (4632, 0.0), (4633, 0.0), (4634, 0.009288913609439193), (4635, 0.0), (4636, 0.0), (4637, 0.0), (4638, 0.030975290279579466), (4639, 0.0), (4640, 0.0), (4641, 0.0), (4642, 0.020694003818441623), (4643, 0.0), (4644, 0.0), (4645, 0.027848193621286002), (4646, 0.022185781741636434), (4647, 0.0), (4648, 0.0), (4649, 0.019624594976830546), (4650, 0.0), (4651, 0.0), (4652, 0.0), (4653, 0.0), (4654, 0.019477152638175153), (4655, 0.0), (4656, 0.00877290922191689), (4657, 0.0), (4658, 0.0), (4659, 0.0), (4660, 0.0), (4661, 0.0), (4662, 0.0), (4663, 0.025874153175491972), (4664, 0.016687525181412262), (4665, 0.0), (4666, 0.0), (4667, 0.0), (4668, 0.0), (4669, 0.0), (4670, 0.028688101195204072), (4671, 0.0), (4672, 0.02445721760848354), (4673, 0.0), (4674, 0.0), (4675, 0.0562992476984245), (4676, 0.0), (4677, 0.0), (4678, 0.0), (4679, 0.0), (4680, 0.009457581791422868), (4681, 0.0), (4682, 0.0), (4683, 0.0), (4684, 0.0), (4685, 0.0), (4686, 0.0), (4687, 0.0), (4688, 0.0), (4689, 0.0), (4690, 0.0), (4691, 0.0), (4692, 0.0), (4693, 0.0), (4694, 0.0), (4695, 0.0), (4696, 0.0), (4697, 0.0), (4698, 0.0), (4699, 0.0), (4700, 0.0), (4701, 0.004171550773343327), (4702, 0.0), (4703, 0.0), (4704, 0.013370904220260644), (4705, 0.0), (4706, 0.0), (4707, 0.04547635943644129), (4708, 0.008067512741985448), (4709, 0.0), (4710, 0.0), (4711, 0.0), (4712, 0.0), (4713, 0.046278551969456586), (4714, 0.0), (4715, 0.0), (4716, 0.0), (4717, 0.0), (4718, 0.0), (4719, 0.0), (4720, 0.0), (4721, 0.0), (4722, 0.0), (4723, 0.0), (4724, 0.036340227322709674), (4725, 0.0), (4726, 0.0), (4727, 0.005118180467134318), (4728, 0.014847402904281166), (4729, 0.0), (4730, 0.0793115960564524), (4731, 0.0), (4732, 0.008703783868921162), (4733, 0.007913180989699788), (4734, 0.0068900178229021215), (4735, 0.007425026209295251), (4736, 0.0), (4737, 0.0), (4738, 0.0), (4739, 0.04084904136855898), (4740, 0.0), (4741, 0.0), (4742, 0.02182912674696754), (4743, 0.0), (4744, 0.0), (4745, 0.026551712838796895), (4746, 0.0), (4747, 0.0), (4748, 0.0), (4749, 0.012366741118834262), (4750, 0.0), (4751, 0.0), (4752, 0.0), (4753, 0.0), (4754, 0.0), (4755, 0.0), (4756, 0.012460429447358904), (4757, 0.0), (4758, 0.0), (4759, 0.08753223160340984), (4760, 0.016439223170309495), (4761, 0.0), (4762, 0.0), (4763, 0.0), (4764, 0.0), (4765, 0.0), (4766, 0.0), (4767, 0.0), (4768, 0.0), (4769, 0.0084604663964868), (4770, 0.0), (4771, 0.0), (4772, 0.016953315892031), (4773, 0.0), (4774, 0.014229953611045901), (4775, 0.0), (4776, 0.020942702749140795), (4777, 0.0), (4778, 0.03426825865661315), (4779, 0.0), (4780, 0.009816035023122303), (4781, 0.0), (4782, 0.0), (4783, 0.0), (4784, 0.0), (4785, 0.0), (4786, 0.0), (4787, 0.0), (4788, 0.0077123609106406095), (4789, 0.0), (4790, 0.0), (4791, 0.02301256296456822), (4792, 0.007491838646200533), (4793, 0.017184458376164165), (4794, 0.0), (4795, 0.03798877944873253), (4796, 0.022397901584309002), (4797, 0.0), (4798, 0.011098726701149225), (4799, 0.0), (4800, 0.0), (4801, 0.0), (4802, 0.0)]\n"
     ]
    }
   ],
   "source": [
    "similarity_score = list(enumerate(similarity[index_of_the_movie]))\n",
    "print(similarity_score)"
   ]
  },
  {
   "cell_type": "code",
   "execution_count": 39,
   "id": "1f8727ff",
   "metadata": {},
   "outputs": [
    {
     "data": {
      "text/plain": [
       "4803"
      ]
     },
     "execution_count": 39,
     "metadata": {},
     "output_type": "execute_result"
    }
   ],
   "source": [
    "len(similarity_score)"
   ]
  },
  {
   "cell_type": "markdown",
   "id": "6352c428",
   "metadata": {},
   "source": [
    "#### `Step 6` Sorting the movies based on their similarity score"
   ]
  },
  {
   "cell_type": "code",
   "execution_count": 40,
   "id": "81edeef3",
   "metadata": {},
   "outputs": [
    {
     "name": "stdout",
     "output_type": "stream",
     "text": [
      "[(1359, 1.0000000000000002), (428, 0.4336702001378905), (210, 0.27144255418299584), (3, 0.19936242756789457), (119, 0.1910946925930589), (65, 0.1874264446719564), (1512, 0.1564422050047655), (30, 0.14641371764120226), (2530, 0.14299844640540912), (473, 0.14044540091812419), (14, 0.13831562847592846), (813, 0.13106465838406184), (2313, 0.13035765836260912), (753, 0.12985239112430344), (278, 0.1270836210943836), (2655, 0.12316939595149462), (163, 0.12172176891669018), (72, 0.12084840021058728), (438, 0.11645088380845323), (870, 0.11481456763319714), (1740, 0.11454985125597252), (5, 0.11428458617173043), (9, 0.11139421613005376), (1035, 0.11104004728933728), (1720, 0.11088959105313176), (1017, 0.10977773006970801), (2805, 0.10620074093664161), (1474, 0.10592336182832664), (1803, 0.10548693203812876), (2858, 0.10361292404647203), (1076, 0.1015052276330557), (2753, 0.1007058355405392), (41, 0.09973462960973993), (174, 0.09969517081232442), (1241, 0.09945081977236112), (2381, 0.09909164652021282), (4183, 0.0985911550584087), (299, 0.09834554835623592), (10, 0.0972421271936699), (3326, 0.097199312782917), (1141, 0.09682607282222189), (3338, 0.09626822771257743), (2740, 0.09618569954680523), (2685, 0.09547374479230827), (3630, 0.09536652442517482), (584, 0.0950216501842723), (46, 0.09491547742554633), (1296, 0.09373413759140779), (2365, 0.09316745699026069), (1002, 0.09308395988565327), (2108, 0.09291014247016978), (1477, 0.09063272149587513), (1965, 0.08877133648216178), (583, 0.08866198038364698), (2793, 0.08810821342690243), (4759, 0.08753223160340984), (3466, 0.08711211196429466), (207, 0.08616884240863786), (303, 0.08608038795247891), (2383, 0.08589176840080101), (4267, 0.08480024576247933), (4621, 0.08479722572527117), (1374, 0.08433333760497835), (2265, 0.08428807219838891), (32, 0.08311590658982682), (3242, 0.08265375497458573), (1087, 0.08224227727261375), (182, 0.08209097501756353), (3854, 0.08208834382658262), (3893, 0.08135979333488601), (4411, 0.08114525626278032), (64, 0.08084439310659415), (1048, 0.08076499287243671), (351, 0.08037927173329884), (42, 0.0799835346753166), (4730, 0.0793115960564524), (788, 0.07924172519161785), (1858, 0.07825257949055812), (226, 0.07818733659133337), (38, 0.07803112092104315), (1771, 0.07758204899485761), (4153, 0.07754809989254295), (1421, 0.07732651691812185), (1085, 0.07707723066807848), (1566, 0.07661022051484719), (1236, 0.07648088253637214), (1024, 0.0763978143376562), (1478, 0.07619245796828787), (4517, 0.07596275619608503), (1343, 0.07576569667425266), (800, 0.07571437880092596), (2482, 0.07570944835286939), (2492, 0.0751281597128687), (133, 0.07454956623680545), (2635, 0.07382944512203997), (480, 0.07329261973211942), (217, 0.07258573599778549), (963, 0.07248484829501456), (3984, 0.07178867213690945), (731, 0.07158366293100417), (935, 0.0706063014122969), (2631, 0.0696983901372428), (126, 0.06969507524297607), (662, 0.0693731308489362), (4495, 0.06929314991838621), (782, 0.06901482231513192), (4440, 0.06888019164278703), (4616, 0.0684390708666724), (323, 0.06787952154407001), (904, 0.06748653230490123), (1594, 0.06743303183906868), (117, 0.06714122313715593), (4399, 0.0670403283260691), (1223, 0.06666543344020481), (2897, 0.06593566051963098), (1506, 0.06564854210634506), (2826, 0.06476374047445689), (224, 0.0644882940293493), (2284, 0.06448247174063335), (755, 0.0643168451768693), (3819, 0.06412397993137933), (215, 0.06412324315532654), (4484, 0.06391271604354101), (1363, 0.0638939998620395), (3719, 0.06361347352795213), (2820, 0.06347402371963498), (3372, 0.06343074841555574), (826, 0.06330402798877445), (7, 0.06320396527748612), (511, 0.06313230659712266), (3047, 0.06311378643337362), (1963, 0.06306040760823792), (3637, 0.06258856934483112), (33, 0.06228171273932271), (1192, 0.061896283873050885), (3033, 0.06159539934505831), (101, 0.0614020903609743), (1827, 0.06112718402706903), (1001, 0.06103123920008397), (1303, 0.060866707275753794), (203, 0.06053857268290521), (3971, 0.06049600355134131), (16, 0.0604308118487812), (4065, 0.06022899315591065), (79, 0.06019662335514925), (4630, 0.06002075053449686), (2368, 0.05949962335716091), (447, 0.05933098042112704), (1614, 0.05925028212518936), (2055, 0.05894966051478097), (1034, 0.058774895372745065), (254, 0.058686692409227345), (2029, 0.05837602251079844), (3948, 0.05837519204362007), (3873, 0.058335642102504595), (3208, 0.05820755146627104), (2822, 0.0581594137304243), (3685, 0.05808155391723234), (242, 0.05789578033315136), (958, 0.057778499632536104), (2123, 0.057605200168411974), (1316, 0.05751085598428894), (3355, 0.05733650578631505), (581, 0.05716520574850418), (1144, 0.05697449048299067), (2362, 0.05691639330890519), (1561, 0.056730332706477864), (2337, 0.05665823217300061), (4300, 0.056320709978821826), (4675, 0.0562992476984245), (2433, 0.05605455441541416), (2047, 0.055532062981269566), (2574, 0.05506997283193114), (546, 0.05486605620060739), (3986, 0.05486396775397958), (774, 0.05423778415865822), (415, 0.05416806423969881), (2812, 0.05405539372962661), (1886, 0.05390278830343161), (2334, 0.053892961755104135), (4094, 0.0538187794521965), (2066, 0.0538138065503692), (358, 0.05349198255703882), (2114, 0.05342530483648618), (3241, 0.05340971236503065), (1109, 0.05301546616830546), (2906, 0.052981146205553595), (636, 0.052962812481658406), (1600, 0.05293338949620609), (2026, 0.05285396985964823), (3946, 0.052849283689635686), (3267, 0.05273324652069261), (1293, 0.05254701147947478), (2983, 0.052543122750186855), (3774, 0.05236378546157318), (2301, 0.05234242759856941), (1292, 0.05229020759970803), (3297, 0.0522561741859047), (1188, 0.051912174922409696), (343, 0.051895178947925946), (3146, 0.051866644996437415), (1009, 0.051698107041984236), (1382, 0.051666503605455105), (2444, 0.051658368460185115), (3250, 0.0514937007094248), (1918, 0.05121464233079438), (3596, 0.051196818342761644), (587, 0.05100711900389842), (3053, 0.050948803623281455), (1529, 0.05079912108173642), (2285, 0.05063001295992256), (2892, 0.050610024813952444), (665, 0.05054394069662545), (880, 0.050330303115900095), (4221, 0.04999871299265154), (4184, 0.04988894410257894), (1483, 0.04966869953777825), (3921, 0.04959645246013852), (3068, 0.049414107414994975), (36, 0.04921248397028206), (1417, 0.04909158182026986), (2223, 0.049027561685282106), (2713, 0.048802967667417194), (3359, 0.048636137876783864), (103, 0.04855634835708012), (4432, 0.04852736973474026), (4166, 0.04824671686130444), (4601, 0.04810511580608672), (513, 0.04786339051617586), (4177, 0.047791904405218806), (589, 0.04757385502380728), (73, 0.04749531620311163), (3368, 0.04718818185599416), (2070, 0.04715588540439944), (4154, 0.04715203608528884), (271, 0.04683608521077286), (668, 0.04672378298530992), (2813, 0.046683787198135394), (4388, 0.04655491692985256), (2688, 0.04653225650787779), (129, 0.046513781442413346), (4713, 0.046278551969456586), (1503, 0.04616841539751018), (4256, 0.0461258767010008), (762, 0.04608646644102215), (748, 0.04608379385825771), (3550, 0.04603458840735805), (4033, 0.04581882567140014), (4558, 0.04566104395907104), (3518, 0.045633124362971705), (836, 0.045595266223883574), (4707, 0.04547635943644129), (3323, 0.045463393394116196), (1792, 0.04543669314602744), (20, 0.045420770955566035), (1799, 0.045379133344861884), (232, 0.04521214513361494), (2824, 0.04515605089940508), (3595, 0.04497871804256423), (241, 0.04489560797520431), (2390, 0.04485473758826183), (1782, 0.04456641152652984), (715, 0.044519846353676694), (4160, 0.04446468653885598), (4473, 0.044302945173011296), (2949, 0.0442870775705982), (2350, 0.0441970046590725), (2321, 0.0441181132403397), (2340, 0.04411460813985085), (1124, 0.04410313716493683), (4142, 0.04401918060753025), (1753, 0.04378140793252981), (690, 0.043749336852525834), (3031, 0.043439967128307944), (1027, 0.04342575179122089), (3851, 0.04328170027878792), (805, 0.043065575146397916), (1653, 0.04294719500274799), (2789, 0.042906927125428686), (403, 0.04278552088746315), (422, 0.04271497140917251), (1148, 0.04269006600768688), (1785, 0.042461649662272005), (4132, 0.04229839661065353), (867, 0.042297272542908035), (3935, 0.04226025608228286), (4313, 0.042136594623125426), (700, 0.042130859317248415), (2731, 0.042103666056523714), (1445, 0.04210289414232472), (3951, 0.042050897691238154), (2514, 0.042020847661007756), (2851, 0.04189641960423115), (3919, 0.04182341791795526), (993, 0.04179418846178933), (3350, 0.0417882692763087), (4285, 0.04164402725450789), (2470, 0.04152469276746195), (3634, 0.04151714901389228), (681, 0.04137147991246039), (3782, 0.0412883564673476), (2191, 0.041177407122128196), (12, 0.04117439643481078), (2181, 0.04115864795713621), (3333, 0.041147067322326605), (373, 0.04110850767247855), (437, 0.04093448910417662), (2398, 0.04088759830562298), (4739, 0.04084904136855898), (1289, 0.04080165992964041), (1058, 0.0406566230682259), (3694, 0.04054144909927975), (3448, 0.040522074385016496), (4255, 0.040511544116047786), (1935, 0.04042106974046027), (2543, 0.04041545668214166), (1092, 0.040326731392492904), (1390, 0.04021945663574771), (869, 0.04013795338629763), (2349, 0.04012702643566439), (426, 0.04004538769454793), (518, 0.03991740350294834), (3148, 0.03983572179897776), (3753, 0.039823620782149294), (779, 0.039720860214710274), (791, 0.039717675932366324), (4527, 0.0396878957508882), (3306, 0.039676635245201014), (2545, 0.03958544466311904), (3891, 0.03950635518517243), (1897, 0.03948793122895074), (3711, 0.03916612861026549), (2034, 0.03910578990417099), (3168, 0.03908117520151071), (396, 0.039068494666935946), (417, 0.03899248356430973), (1259, 0.03894488234375442), (1579, 0.03856315159088759), (763, 0.03852933962696744), (85, 0.03848525959747972), (219, 0.03847159765617448), (4149, 0.03847063708875673), (3332, 0.03841700176479136), (781, 0.038368291299467824), (3446, 0.0383615676511048), (1451, 0.03829649019815455), (184, 0.03817882405503448), (2708, 0.038011810992515015), (4795, 0.03798877944873253), (2159, 0.0378214314370781), (1049, 0.03777042354777713), (3739, 0.03769093683925475), (597, 0.03760235442515437), (588, 0.03755283234193248), (1939, 0.03734229305181722), (2099, 0.037235456504467725), (196, 0.03723026989903822), (1976, 0.03721206750673191), (1592, 0.037206353110610914), (2001, 0.037135196068050484), (213, 0.03709436993146918), (1026, 0.03699748306517312), (2157, 0.036898868092336556), (1245, 0.03686685705004711), (1552, 0.036860355725898776), (272, 0.036842040711752434), (199, 0.03683162196494443), (2799, 0.03680514577208497), (1364, 0.03676258232632184), (339, 0.03674711140775784), (1726, 0.036729574710124197), (3009, 0.03669633189696831), (1434, 0.03664271379982298), (806, 0.03661962072447701), (4117, 0.03660334470651001), (838, 0.03656909507221406), (3479, 0.03655549852817972), (1504, 0.03654064922567097), (1699, 0.03653638151851468), (1661, 0.03650807238326103), (3106, 0.036438309150365805), (3544, 0.03642356362499003), (139, 0.036405473261371855), (646, 0.03635809572755846), (4724, 0.036340227322709674), (3901, 0.03629658162917561), (2415, 0.03629341051935921), (122, 0.036281969916076844), (1125, 0.036243624998049125), (1991, 0.03623761583710355), (1368, 0.0362063573046284), (1177, 0.03610134931770331), (2187, 0.03607882608726597), (1432, 0.0360433750574011), (1418, 0.03592041039228211), (2593, 0.035738622674298295), (26, 0.03569774834190745), (3303, 0.03567057051656947), (1043, 0.03563289311578408), (4079, 0.035583951374966755), (2179, 0.035575301400343685), (3564, 0.03555320923343217), (3833, 0.035476036180703115), (2749, 0.035445598126839534), (661, 0.035393598098799564), (741, 0.035390548160013205), (419, 0.03527024468595111), (3905, 0.03521638585913725), (2351, 0.03517704646307606), (1251, 0.03508983793498191), (1234, 0.03505055515403832), (288, 0.03501045183904213), (3162, 0.03500964340820128), (2221, 0.03499994256852555), (2835, 0.03494706124580299), (1893, 0.034820297221570734), (1670, 0.034813242012738416), (248, 0.03480511770361068), (4539, 0.034771075086172096), (3348, 0.03470093665595343), (2204, 0.03454255469666814), (2366, 0.03451291946245182), (4012, 0.034509682624080065), (2609, 0.034456368786105765), (1458, 0.03441079750180399), (810, 0.034408787067596654), (2827, 0.03435687819867656), (1999, 0.03428736706757329), (4778, 0.03426825865661315), (169, 0.03426329320870297), (946, 0.034221277042187345), (2647, 0.034186826208492886), (31, 0.03410054712821779), (4159, 0.03402316195565795), (799, 0.03399124675055113), (4127, 0.03396594349423377), (1331, 0.033946191034043616), (1415, 0.03392805164620089), (366, 0.03390581010769287), (2071, 0.033889742629716856), (8, 0.03385015088184331), (3475, 0.03378197435678976), (113, 0.033689760182487344), (1358, 0.03367889787770381), (694, 0.03365406871266906), (3766, 0.033608272860175946), (4439, 0.03358910771417208), (4044, 0.0335888740261724), (1232, 0.03355901106617605), (1652, 0.03351464783510392), (3928, 0.033483899490309776), (268, 0.033258976865119486), (1411, 0.03325442692647558), (305, 0.03323973667560405), (1131, 0.033203690688756046), (68, 0.03315094726523583), (1629, 0.03313197182197597), (94, 0.033120634146974914), (1884, 0.033107947807304916), (3858, 0.033090672748218156), (1431, 0.03302849390527824), (3409, 0.032967078206524704), (291, 0.032887182959386835), (1190, 0.03285421854037246), (150, 0.032838821103930285), (1089, 0.03279499482831905), (1682, 0.03275747678517157), (243, 0.03274519687449871), (4401, 0.03272971362556834), (4418, 0.03267608718556838), (2062, 0.03267396079573991), (2790, 0.03263370141916326), (1635, 0.03255688572746202), (1578, 0.03255071127275159), (695, 0.03253178898341628), (2389, 0.032487815727541516), (186, 0.032474254667217775), (2899, 0.03246079046371597), (973, 0.032439202508750625), (295, 0.0324254442545609), (1758, 0.03241258734575393), (3284, 0.03232711123460075), (2540, 0.03230831262435611), (2792, 0.0322857259380246), (90, 0.0322546653044978), (3837, 0.032239654165798624), (3602, 0.032174347397317664), (3424, 0.03214258568052109), (1394, 0.03204589585176297), (115, 0.03201966998912696), (4073, 0.032007413251179236), (4254, 0.03189811223818816), (4554, 0.031836984994660214), (342, 0.031821343832736035), (4063, 0.03180677385851566), (4252, 0.03171507578357467), (39, 0.031661937822249096), (1575, 0.03151521577360608), (1879, 0.031503084489711564), (4519, 0.031481575779475496), (3906, 0.031442936652767955), (2342, 0.031242094226115732), (4345, 0.031239263458933176), (3836, 0.031218044280989635), (4273, 0.03121289882723545), (2289, 0.03117689215284165), (1342, 0.031163758018696315), (547, 0.031160528409193384), (3477, 0.031159046393320858), (3400, 0.031082403774901544), (1256, 0.031058872262101755), (1113, 0.031055997239270938), (2667, 0.031054765144213715), (1439, 0.030996373647480428), (830, 0.030993636790875835), (4638, 0.030975290279579466), (2280, 0.030969126027116163), (4051, 0.03082410382166048), (2448, 0.030824099955612146), (1214, 0.030821903786241493), (2871, 0.03078886703469324), (114, 0.03074342268946973), (4100, 0.03071892784952134), (3377, 0.030576735558462773), (714, 0.030572365536930747), (1522, 0.03056728550746488), (3786, 0.030544645376702647), (1546, 0.030483002119555323), (968, 0.03045880286730988), (1031, 0.030448072797642924), (1339, 0.030415359031758134), (3072, 0.03041323206445172), (2466, 0.03038373394864593), (3385, 0.03038036851825888), (4481, 0.030379821107231593), (2020, 0.030331883793042923), (1674, 0.030314964596836448), (1247, 0.03026271288069972), (1804, 0.030231250867772473), (4599, 0.030225334907737027), (3136, 0.030185118105314455), (327, 0.030114154196487074), (1090, 0.030095546750712326), (1643, 0.030093217151113627), (1954, 0.03007533249314248), (4421, 0.030074528694256617), (3580, 0.030059502788719883), (2434, 0.03005682370864382), (1466, 0.030018337420188515), (2205, 0.029945619346278016), (3945, 0.02991321850758563), (4200, 0.02990137510330718), (516, 0.029899706174156014), (4472, 0.02989827821537025), (4038, 0.029892762592185297), (862, 0.029881920623292216), (1921, 0.029875801793579567), (1441, 0.029858879009380668), (1, 0.02983612020964815), (2004, 0.02983186648306395), (3294, 0.02982384537387294), (822, 0.029805577829529088), (3408, 0.029790484991162137), (2214, 0.02964861464559386), (1239, 0.029586780927496635), (2109, 0.029496610705006265), (1838, 0.029489727436352482), (2503, 0.02948600999215226), (2567, 0.029427763485087053), (1851, 0.029426150122222557), (1775, 0.029374747667142494), (2452, 0.029305626927789246), (2324, 0.02928812209381266), (852, 0.029286475856285566), (3088, 0.029259065610723466), (3659, 0.029250019532641044), (280, 0.029194178204734824), (1029, 0.029171539315274504), (1790, 0.029152475723489828), (99, 0.029125150889870454), (2684, 0.02911008310799262), (2430, 0.029101185599161816), (2755, 0.029098599224442374), (967, 0.029052756653540273), (2019, 0.029038951929762514), (4291, 0.029033977624567376), (1734, 0.029029060452149667), (2061, 0.02892102961255816), (4284, 0.028886209355177946), (1521, 0.028876154306343438), (2036, 0.028872815693080606), (3439, 0.02884187259378962), (1929, 0.02883067435086919), (3515, 0.028779487480278927), (1377, 0.028749610641856563), (769, 0.028728499501443377), (4670, 0.028688101195204072), (606, 0.028606027204919504), (2687, 0.028600483149194268), (2783, 0.028577968139117407), (969, 0.028569692371203367), (3470, 0.02856811639031797), (1373, 0.028542574150751086), (406, 0.028500264130247394), (2752, 0.028490974537897513), (4629, 0.028395459506660472), (1265, 0.028395340297053342), (3020, 0.028352883126466662), (947, 0.028343713920852397), (120, 0.02832936758146506), (279, 0.028315007114476612), (1881, 0.028223886351758418), (3624, 0.028134658612382225), (3826, 0.0280603483774252), (35, 0.028052331744911542), (2002, 0.028031201755923555), (4430, 0.028020598887945537), (1016, 0.02799088719135901), (470, 0.027984665863041512), (3043, 0.027932570553045724), (721, 0.027886239398207203), (740, 0.027882910565781474), (2403, 0.027877394799854332), (1826, 0.027868539820629295), (1108, 0.02786604752799065), (4645, 0.027848193621286002), (1952, 0.027827048081990248), (494, 0.02779410416679881), (3724, 0.027769577477340407), (3080, 0.027708377112016905), (1082, 0.02770342707024555), (24, 0.027694690404716796), (1541, 0.02767479559248787), (111, 0.027637389294390673), (2320, 0.027611774220777922), (3652, 0.027569157019202338), (3078, 0.02753732125723884), (3525, 0.027523649936897418), (608, 0.0274819856798516), (939, 0.027480976305333436), (1172, 0.02746904742421852), (3341, 0.027456044317160446), (4339, 0.027421111517042074), (1515, 0.027402245861133632), (525, 0.027399434752940335), (4372, 0.0273993317811048), (198, 0.027369963602436168), (452, 0.027352015490549168), (1556, 0.02733845231446693), (3251, 0.02727894181130471), (4415, 0.027188436208458653), (3120, 0.02717038183640631), (152, 0.02714260294043613), (100, 0.027140947086870894), (664, 0.02712662458327588), (2869, 0.027071323110228862), (1074, 0.027068742045178194), (4584, 0.02701384859369459), (1813, 0.027003486374885442), (149, 0.026995707147970442), (4120, 0.026988801268099626), (846, 0.02695768869735509), (18, 0.026917804038365113), (3505, 0.026907053297595185), (385, 0.02687319864067797), (4176, 0.02687140621952546), (3735, 0.02685646874902219), (2378, 0.026853312492286577), (3224, 0.026812179799423408), (1619, 0.026804641395805108), (3492, 0.026799162925321484), (2730, 0.026782869239348927), (4047, 0.02676386537292901), (3111, 0.026754376037066777), (510, 0.026744815108737025), (3112, 0.02673715375405749), (827, 0.026714958196884298), (536, 0.026688442429525196), (831, 0.02665096424441333), (1925, 0.026636220108948727), (920, 0.026615670882264634), (2692, 0.026580657115962074), (4050, 0.0265535786108869), (4745, 0.026551712838796895), (3667, 0.026520939804877422), (2485, 0.026495316735702604), (3382, 0.026494668714459973), (1663, 0.026488179252657222), (1964, 0.026424128415506672), (2796, 0.026407566040323807), (4027, 0.026397425511181967), (3672, 0.026377233559962462), (1147, 0.026306551234875134), (421, 0.026274009251656988), (1927, 0.02626848810525973), (444, 0.026225408131763602), (4325, 0.02622263112085514), (534, 0.026219835140642127), (1097, 0.026218424224592973), (3510, 0.026216599601589237), (1977, 0.026213150608751224), (2358, 0.026182483036399314), (1679, 0.026175240362920727), (1495, 0.026155867033283577), (3890, 0.02614454415268622), (4618, 0.02613925170108162), (691, 0.026098660312058344), (644, 0.026068003238403074), (1005, 0.02605845643665167), (52, 0.026055712055920225), (1184, 0.026053246212900578), (545, 0.02599180796821423), (3745, 0.0259400984804718), (3887, 0.02593809020211559), (3940, 0.025903995389954408), (3291, 0.02588013982906634), (4663, 0.025874153175491972), (2823, 0.02586926014008694), (3184, 0.0258427888212373), (3116, 0.025810405041876424), (3354, 0.025794039442538323), (2203, 0.025789986632634928), (499, 0.025770500588067326), (3965, 0.025748068606117704), (313, 0.02570905827988048), (2039, 0.02565294628382962), (2387, 0.025645916995502314), (2645, 0.025612368137896382), (4261, 0.02560188777847737), (1132, 0.02560006142431624), (1847, 0.025592717189413514), (4498, 0.025581001632155886), (1000, 0.025531549470019926), (3952, 0.025528268118986924), (4172, 0.025518447258555167), (1830, 0.02550031903585781), (3703, 0.025498751698526563), (2553, 0.02547128446393808), (1301, 0.02546683862919811), (3371, 0.02543996111645092), (3814, 0.025408406861282918), (2111, 0.02536870851740287), (2304, 0.025335318697490512), (3978, 0.025318742476996708), (3699, 0.025300521040854465), (4552, 0.025296012656298508), (2054, 0.025290998914375695), (294, 0.02526647614148963), (251, 0.025241272637817124), (571, 0.02523282398263418), (3695, 0.025232290726157725), (292, 0.025231653631984378), (407, 0.025159737490629594), (2367, 0.025146564559718802), (2341, 0.025091593716686244), (4045, 0.025080131189440608), (1063, 0.025053955423083054), (3710, 0.02501541287641996), (3114, 0.02499196136692719), (4077, 0.024942563209602434), (1040, 0.0249289818143894), (1524, 0.024928627641386484), (353, 0.024925740917264717), (1194, 0.02485747858007642), (2761, 0.02485731997948755), (3869, 0.024841053315253804), (3991, 0.02479820988957192), (1678, 0.024775167637941402), (1174, 0.0247516918406211), (3489, 0.02474811709364507), (3788, 0.024745343651238687), (2779, 0.024743352525201056), (4019, 0.024732826752708926), (1589, 0.02472650184723276), (3632, 0.024719097845666498), (1899, 0.024710166468718035), (2659, 0.024700329698170802), (2738, 0.024685744697339255), (1788, 0.024677265546035027), (4493, 0.024673890765201253), (2372, 0.024672206797848685), (927, 0.024623172777288736), (4392, 0.024621617359762163), (1175, 0.02459449421755864), (109, 0.02458545874240512), (3030, 0.02455866501371264), (4350, 0.024535140891291447), (959, 0.024528825697044135), (409, 0.02451867669725215), (2814, 0.024501165397221608), (1420, 0.02447049294425953), (2550, 0.024458880045929006), (4672, 0.02445721760848354), (1770, 0.024446789629835212), (1196, 0.024434539497674004), (3953, 0.02442709897624179), (3669, 0.02442591347453281), (3734, 0.024424239263713256), (941, 0.02440940948622546), (3576, 0.024399828825500847), (3352, 0.024396955006793095), (4438, 0.024361224480716374), (3911, 0.024356880103976037), (4506, 0.02434910831104642), (4326, 0.024266339688704185), (1111, 0.024255947418993812), (1737, 0.024254802921773996), (2627, 0.02421531330441283), (3086, 0.024176527844102978), (2322, 0.024146379809273838), (3151, 0.024111155984196095), (3001, 0.024083165134731598), (350, 0.024073098175424426), (2063, 0.024042697138628704), (2657, 0.02397913431221911), (3704, 0.023978759436331612), (137, 0.02388375790485806), (4105, 0.023881261958852235), (572, 0.02386740560113812), (3189, 0.023860807709440837), (1618, 0.023859814645548268), (456, 0.023826746593173243), (2579, 0.023812869041056995), (2741, 0.02380619291392782), (2356, 0.023753257831127143), (2613, 0.02373659693154587), (2926, 0.023728579398618117), (1227, 0.023717380289531846), (181, 0.023671717682878436), (994, 0.02355619588532705), (270, 0.02355275105477051), (4279, 0.02354021835569805), (2681, 0.023510985907530542), (1425, 0.023508081129500726), (1543, 0.02350144382626605), (2640, 0.023430194358428066), (2310, 0.023419031536470396), (903, 0.023408468637368084), (4376, 0.023397496377294096), (1022, 0.02338906886725151), (4232, 0.023381002626730322), (2604, 0.023377806372997925), (1523, 0.023351650056215718), (842, 0.023347505518588003), (357, 0.023308334679643068), (2746, 0.0233052456901261), (3389, 0.023223334632977953), (2474, 0.023210058750528895), (3285, 0.02317434637983967), (170, 0.0231720324912258), (81, 0.023152049267724212), (1270, 0.023108844752263075), (3897, 0.02305530883779942), (4203, 0.023043660602014966), (4791, 0.02301256296456822), (2961, 0.022997921358943765), (3762, 0.022994388166267504), (1018, 0.02299172895412376), (4008, 0.022989921500083825), (71, 0.0229874248571142), (3531, 0.02298551380001975), (4569, 0.022981905394587488), (2876, 0.022979634450178553), (2864, 0.022975593505317332), (1816, 0.022973776116958288), (1665, 0.02296152680373745), (2952, 0.02295586265728675), (3679, 0.022946198330840478), (3220, 0.02291691986703548), (766, 0.022913787226129596), (841, 0.022899307045298346), (673, 0.022886576070018646), (1283, 0.022875881613999425), (177, 0.022869806550214377), (185, 0.022859663722403677), (2704, 0.022845365356573645), (2192, 0.022843278051314194), (4378, 0.02280760612090057), (3075, 0.022799738123735355), (4529, 0.022790684799719657), (2199, 0.022784230172978343), (1053, 0.022779033833281684), (83, 0.02276941753009973), (2771, 0.022761212148644), (1608, 0.022741648762577532), (1181, 0.022741017048565945), (3308, 0.022689453018056832), (3691, 0.022687607551139462), (2531, 0.022686015843723144), (2392, 0.02266168033136082), (3688, 0.022638410702557458), (3831, 0.022629726150369636), (1362, 0.02261760583701166), (1857, 0.022562071634971183), (2176, 0.022542424762560867), (2371, 0.022508904052754047), (3293, 0.022496209633074877), (3210, 0.022476489175119494), (2330, 0.022472633441827542), (2375, 0.022445394048520573), (3903, 0.022431136235499124), (4054, 0.022425173183137984), (1712, 0.022423621860553723), (3280, 0.0224026587699371), (4796, 0.022397901584309002), (2939, 0.02238342869108477), (434, 0.02238293708658447), (3165, 0.022356499107445478), (3434, 0.022351902754958883), (3815, 0.02233637949050013), (2621, 0.02232734453807442), (2048, 0.0223160053079567), (4461, 0.02231541614511421), (631, 0.022314579239786147), (2317, 0.02230205800232015), (1426, 0.022301733537144555), (725, 0.022272095255464072), (4156, 0.02226570033336232), (3209, 0.0222454566682287), (3898, 0.022242096962648984), (1392, 0.02223837020209929), (4646, 0.022185781741636434), (3394, 0.022184720079951356), (3611, 0.02216833831550329), (1531, 0.022159367390825094), (613, 0.02215909405609683), (3125, 0.02208170640643882), (2554, 0.022062489311275583), (3202, 0.022053450080002517), (4311, 0.022044945346712086), (2364, 0.022027094695994325), (2902, 0.02202351981566613), (1490, 0.02197430663308443), (1902, 0.021928299150638497), (1146, 0.02192558541122246), (4145, 0.021923105352816004), (1626, 0.021921237372365267), (1094, 0.021888751058849142), (1120, 0.021883155160107057), (3456, 0.02188225440246337), (2848, 0.021831664434294466), (4742, 0.02182912674696754), (40, 0.021817889792471075), (164, 0.021751619882128856), (1789, 0.021729977482336016), (1794, 0.021725382957619062), (381, 0.02170611592520228), (2580, 0.02170466294754526), (3183, 0.02168035955227644), (3441, 0.02167631945523335), (221, 0.021650812696714858), (2615, 0.02162750499598077), (2802, 0.021615143439046032), (2539, 0.021578222035135514), (4515, 0.02156408601524352), (411, 0.021560234318518813), (1050, 0.02155552239655865), (936, 0.021544791378783294), (3455, 0.02153884586055913), (4067, 0.021522423944746762), (1947, 0.021512305785052286), (395, 0.021501757931454826), (2210, 0.021494925361892427), (4522, 0.02149240365779621), (4496, 0.02148770486273078), (2575, 0.02144922340058254), (3145, 0.021444506575321643), (1812, 0.021407759099008175), (3883, 0.021401105074934073), (1314, 0.021381338056949282), (1427, 0.02137208838977407), (1824, 0.02136918532749834), (2414, 0.021360186987565023), (2202, 0.02132071995989321), (3160, 0.02130014252983657), (463, 0.021293235226516723), (4555, 0.021290925614731143), (642, 0.021285160827486386), (3646, 0.02126559646199331), (1912, 0.021257198918152), (3362, 0.021244175993942634), (4386, 0.02123226445353718), (2586, 0.021226321319452027), (2251, 0.021192354496275052), (1312, 0.021187165102457668), (905, 0.02117474694970941), (4324, 0.021104359027982945), (3464, 0.021102755648635937), (1375, 0.021092553040540262), (2233, 0.021089590650724042), (3430, 0.02108950302405748), (2234, 0.021078696916752487), (1664, 0.021060829460938315), (3868, 0.021058882926193612), (3511, 0.021045307214166743), (554, 0.02104508673250724), (3772, 0.021040599899748606), (3247, 0.021033077942400228), (718, 0.021023239428634714), (3552, 0.021018956707958898), (3899, 0.021014854737944115), (4471, 0.020997866789942546), (3939, 0.02099557453128191), (2103, 0.02097531365360009), (3778, 0.02096681411303926), (4776, 0.020942702749140795), (3775, 0.020924886630913384), (2829, 0.020923371993763047), (4135, 0.020919883143946022), (3744, 0.02090728031804923), (2562, 0.02090318421572758), (2281, 0.02089364729763905), (2003, 0.020887063074128995), (4514, 0.020885424983681032), (54, 0.020879056810764234), (4625, 0.02084775959245067), (3423, 0.020840885671892295), (3593, 0.020815149599577823), (4028, 0.020809385748601805), (1765, 0.02080806045081919), (4030, 0.02080721257811485), (3142, 0.020807126073590226), (4211, 0.020750050406145644), (3469, 0.02074608682686657), (3495, 0.020731851240541825), (3600, 0.020721458153498882), (2938, 0.020720460741431735), (2355, 0.020720043397632743), (3480, 0.02071896499704114), (3375, 0.020714497703828418), (4642, 0.020694003818441623), (2889, 0.020687449791655675), (832, 0.020674234153674947), (1081, 0.02067112222549961), (4108, 0.020652583652731454), (2354, 0.02063324786592745), (324, 0.02063075175036291), (95, 0.020601628320649327), (2536, 0.020596580680695323), (3404, 0.020573777417037437), (4379, 0.02057199919623757), (1574, 0.020537094585130363), (2610, 0.020532375488523963), (2654, 0.020523851885341476), (3678, 0.020513098449810536), (2529, 0.020500587117679474), (3609, 0.020453119507165052), (1308, 0.020451500400046913), (1547, 0.020428469373263404), (672, 0.0204210451943278), (4348, 0.020417920701806352), (467, 0.020377265548175455), (1873, 0.020365214014721873), (683, 0.02034564722801106), (220, 0.020334647486261886), (1472, 0.020324304088123413), (4175, 0.020318343799116952), (1687, 0.02024374673950867), (3855, 0.020224615855242423), (658, 0.020216252858894262), (3966, 0.020202243909126918), (3108, 0.02013201142900114), (89, 0.02011409500425274), (560, 0.020087881779270178), (3829, 0.020076938777314594), (825, 0.020064076806994305), (620, 0.020049426497004506), (2555, 0.02002070875236944), (1195, 0.020019208777982477), (223, 0.020007552178889727), (2184, 0.019939406340134046), (3042, 0.01993522250971737), (1180, 0.019913502379546075), (1916, 0.01990252580446165), (3900, 0.019897674150586388), (2861, 0.01989489567963533), (116, 0.019868285281250363), (3334, 0.019863493403852787), (2798, 0.019808311650941407), (1843, 0.019791669204477873), (4011, 0.019763106330852192), (1327, 0.019753847084425864), (1152, 0.01969006296601337), (784, 0.019681292422006724), (2830, 0.019679840264562286), (4158, 0.019676570386278538), (1165, 0.019659303679850797), (264, 0.019655466628663864), (2907, 0.019654510101303153), (4649, 0.019624594976830546), (4150, 0.019616407857578823), (1631, 0.019579695844772208), (4119, 0.019547412001784937), (1201, 0.01953297816067071), (2148, 0.019514958417113804), (2759, 0.019500295775440015), (4654, 0.019477152638175153), (110, 0.019447640222894875), (3714, 0.019438736167283893), (4477, 0.019402903657826594), (3780, 0.019287161029918648), (1036, 0.019285882461814778), (2078, 0.01927966959705256), (3758, 0.01926917420311886), (1498, 0.019268612653307853), (131, 0.019262344256069517), (4357, 0.019252325295145784), (2721, 0.01916304208785674), (617, 0.019138180240594754), (4428, 0.019130930245058426), (786, 0.019123953604322966), (2377, 0.0191089369768852), (1932, 0.019088064877893392), (3405, 0.01906456319660604), (296, 0.019059942983697703), (3003, 0.019037134957245593), (2676, 0.019034310948843104), (3631, 0.0190251614455789), (4573, 0.018988266994031763), (107, 0.018947476087965008), (686, 0.01893011738596443), (3590, 0.018930053029555523), (877, 0.01890073199076317), (881, 0.01889879477677771), (3628, 0.01889137297308172), (322, 0.018877033851069952), (1787, 0.01883145353370645), (2105, 0.018772429004503564), (1230, 0.018759722068766357), (3451, 0.01875210968067396), (2780, 0.01874298754523973), (269, 0.018682717968495934), (1856, 0.01865275148133675), (744, 0.018652745508925657), (647, 0.018614503027244003), (3956, 0.018605126766629964), (4312, 0.01855856024447759), (2490, 0.018537900561728344), (3046, 0.018482407100467425), (3635, 0.0184726558058606), (2633, 0.018460501292711925), (719, 0.018446269474077168), (865, 0.018401184905768232), (3459, 0.018386070663558435), (3008, 0.018382024962875502), (1253, 0.018381519430031988), (3910, 0.018378946579120134), (1407, 0.018348309012835146), (2758, 0.01834303007140897), (3770, 0.018342516405566455), (1183, 0.01832822441584242), (393, 0.018304469725269022), (980, 0.01830223090992184), (160, 0.018274065464210242), (48, 0.018252858938420765), (1433, 0.018249949114762198), (3239, 0.01824424984505339), (148, 0.01823516362773392), (1030, 0.018231486311185797), (61, 0.018212499986131152), (4286, 0.018206610349941324), (1086, 0.018201639323940644), (2180, 0.018191128933324537), (4329, 0.018165797438919083), (330, 0.018112399995863376), (2100, 0.018086150263538523), (3730, 0.018078773425781933), (187, 0.018052923397354315), (1516, 0.01804641304881238), (2169, 0.01799512386689045), (4356, 0.01798865981164615), (1937, 0.017986598731796782), (331, 0.017957616088289087), (121, 0.0179486415506685), (4408, 0.017939795950411182), (4189, 0.01786937476534024), (329, 0.01786131737138897), (1995, 0.017835088531605085), (2343, 0.017833669789612656), (262, 0.017805463917189672), (208, 0.017788459941484817), (0, 0.01776730333487835), (3856, 0.017763703111467875), (3796, 0.01774134312380647), (4497, 0.017732916480644755), (472, 0.017729295590951075), (17, 0.017661597930726327), (2921, 0.01760478432739992), (2360, 0.01760182391511329), (3912, 0.017591919789521692), (98, 0.017591428028143008), (1110, 0.017580931616214043), (2163, 0.01754574059992837), (618, 0.017544516765348222), (2875, 0.01753701478226696), (2931, 0.017504690707315515), (3010, 0.017500262113157344), (505, 0.017460205057838775), (4482, 0.017452648120834868), (537, 0.017446439332221335), (3607, 0.017420772554640137), (50, 0.01741057607941866), (3494, 0.017398232758590232), (2222, 0.01737703855991064), (315, 0.017374344195241725), (768, 0.01735055678616188), (1266, 0.01734746625989576), (1139, 0.01734043663434248), (3097, 0.01724226006207203), (2057, 0.017202904367790282), (4793, 0.017184458376164165), (138, 0.017165372890961747), (2527, 0.017075835338348264), (4580, 0.017052895279238256), (2008, 0.017050877796972584), (2726, 0.01703320581577174), (4084, 0.017006518648153755), (3604, 0.016981794976091084), (4772, 0.016953315892031), (3533, 0.01694757007043725), (1488, 0.016940402380287784), (238, 0.01688986820829018), (159, 0.016889714240636153), (2154, 0.016872139743856283), (3322, 0.01682228045331803), (3957, 0.016800579868335212), (486, 0.01677468053195736), (168, 0.01676590802259582), (2237, 0.016763744486298842), (3859, 0.016720749878289885), (3337, 0.016712154950238575), (651, 0.016711453787521677), (4664, 0.016687525181412262), (1969, 0.016665130077751035), (728, 0.016650899388373996), (2450, 0.01665072173742983), (757, 0.016608707568669126), (1389, 0.016605462862103206), (2082, 0.016592034974591132), (2964, 0.01656155503678846), (4231, 0.016532781000494275), (1033, 0.016521391455573697), (4179, 0.016488461136363607), (1675, 0.016476488871275903), (1278, 0.01644022470438564), (4760, 0.016439223170309495), (882, 0.016435609533470973), (1786, 0.01642547246460947), (2069, 0.016424532316375057), (3069, 0.01636854218936436), (206, 0.01635485623912462), (58, 0.01634224635112154), (3507, 0.01630444182909888), (747, 0.01629298046828318), (3391, 0.016290387797923658), (543, 0.016279167953913747), (1114, 0.016262153352940185), (1946, 0.01625071810136001), (1479, 0.01624660116850732), (3972, 0.01623625938605267), (1191, 0.016218949797794507), (1986, 0.016189682049039505), (848, 0.016156197196569747), (1647, 0.01613777654258072), (864, 0.016124757897515565), (624, 0.016109296756788998), (1669, 0.016088732762572805), (3644, 0.016062271902496858), (345, 0.01605732852610545), (1438, 0.01605717525514763), (1453, 0.016053723033819276), (574, 0.016028096357587878), (3623, 0.016012894105393614), (2197, 0.016006924124014995), (4631, 0.015972869677780454), (1707, 0.015970814000196266), (2862, 0.015965115565811094), (866, 0.015908882896798968), (3211, 0.015904955384221403), (2449, 0.015900950819912947), (1802, 0.01589088956284801), (2218, 0.01588982360316515), (521, 0.015889071668723914), (614, 0.015863562802777183), (2, 0.015861499653293514), (937, 0.015859839967103627), (1213, 0.015839098595330118), (1727, 0.015829339101647973), (2510, 0.01582681562578722), (984, 0.01580639070816283), (785, 0.01580506714577477), (1151, 0.01577931056205427), (493, 0.01576939102944686), (3412, 0.015748410240946947), (871, 0.015730941998737466), (1850, 0.015716860238185675), (1403, 0.015712272647638525), (1176, 0.01570622681758228), (911, 0.015700036765816938), (859, 0.015692504185128152), (3944, 0.01568677912644867), (2606, 0.015681909383909995), (1569, 0.015679252428820605), (1505, 0.01563748330602657), (1686, 0.015620579450258413), (1133, 0.015617291055228345), (971, 0.015606943498457879), (894, 0.015599897260792084), (2089, 0.01559706873278928), (3619, 0.015575069150124531), (1257, 0.015569359200391085), (3201, 0.015558996876301672), (746, 0.015543006963389795), (2520, 0.015537762408984678), (433, 0.015522964140923955), (4246, 0.015489260763997452), (3083, 0.015488232844335205), (1936, 0.015461361145292347), (1967, 0.015448867914965345), (1612, 0.015448604768413338), (1719, 0.015425536873510608), (2250, 0.015420399760306236), (2592, 0.015417991296057285), (4602, 0.01539512560402784), (1860, 0.015389738979107151), (3144, 0.015386356293299326), (919, 0.015383569113203318), (1894, 0.015369565283901194), (19, 0.015358236300210345), (481, 0.015350354088913934), (1486, 0.015344746482805429), (3180, 0.015341403179508516), (918, 0.01533148648101094), (3605, 0.015330007550148706), (3771, 0.015324900604606818), (1657, 0.015321603690213466), (2524, 0.015320883386079951), (287, 0.015316369206380959), (2090, 0.015311226299912984), (1518, 0.015308169873230392), (512, 0.01530590453429136), (1122, 0.015305587850867148), (252, 0.015283303894889168), (1943, 0.015277433205880054), (952, 0.015262843968237957), (3379, 0.015259461414937095), (1095, 0.015229375024323498), (3733, 0.015198517277298023), (2583, 0.015181557082306629), (453, 0.015179041765240132), (1448, 0.01516861408155305), (2305, 0.015154951807556289), (1305, 0.015149568172485407), (1178, 0.015143943687795244), (306, 0.01514132824964034), (932, 0.015128419713027752), (1944, 0.015126843802816982), (356, 0.015117319285803373), (3472, 0.015105260753229132), (458, 0.015102272071751617), (4214, 0.015102093857625887), (2255, 0.015093636098995885), (3161, 0.0150746364254466), (724, 0.015061666085015177), (370, 0.015061253971135485), (978, 0.01505337705202415), (3813, 0.015044519580993012), (962, 0.01504027987601977), (1468, 0.015039306291539368), (2196, 0.01503760587944493), (821, 0.015024901329119912), (2380, 0.015017212702175984), (446, 0.01501354681979598), (372, 0.0150104416336247), (2572, 0.014997885585339207), (812, 0.014986843421316237), (4346, 0.014982953760968207), (1118, 0.014975372288306869), (84, 0.01497313416066484), (638, 0.014961704803478047), (1548, 0.014957991552160007), (1559, 0.01494906394068662), (1814, 0.014948367014467754), (4055, 0.014947557783832874), (3976, 0.014939376471141876), (2849, 0.014936358979484792), (1341, 0.014936152320907635), (3799, 0.014934511521225899), (332, 0.014927479113047117), (379, 0.01492634608758301), (856, 0.014914973789967968), (844, 0.014869474612288753), (3316, 0.014861906671809266), (2156, 0.014860620924607664), (205, 0.014853217724475119), (2473, 0.014850644920169355), (4728, 0.014847402904281166), (1277, 0.014837815016149721), (2614, 0.014823861502896633), (1254, 0.014812855294638697), (96, 0.01480609177191462), (828, 0.014801006368563789), (702, 0.014799348597543859), (3345, 0.014792066545738124), (2046, 0.014791499093991526), (1960, 0.014780954156401032), (1073, 0.014771965531740715), (1313, 0.014757848637574554), (3828, 0.01474968770997559), (3849, 0.014726139977922697), (1588, 0.014718665853362884), (873, 0.014711545280642155), (3725, 0.014707403178927637), (1207, 0.01470382538956393), (4230, 0.014699116047123598), (3501, 0.0146461026382932), (4333, 0.014644222416795284), (1970, 0.014634703169183222), (2619, 0.01462928972580078), (659, 0.014613186957377084), (1945, 0.014604528356988772), (2766, 0.014594260546691428), (3318, 0.014589726461816888), (3238, 0.014588875528013186), (2836, 0.014587330814070775), (1780, 0.014572892499709856), (1117, 0.014568866040062342), (1457, 0.014552092346843997), (804, 0.014502432864103205), (3062, 0.014499235921481356), (1868, 0.01446817274431832), (1611, 0.014467839826983206), (982, 0.014458277085873838), (1163, 0.014454159344245186), (1334, 0.014448975378529584), (2295, 0.014448062202991462), (3040, 0.014444332633996384), (204, 0.014431539724877741), (1668, 0.014431221006956114), (1137, 0.014411342510490265), (2412, 0.014411117602282336), (767, 0.014403179519398495), (2260, 0.014394612607933616), (468, 0.014389698242923327), (3260, 0.014377178318959061), (369, 0.014374763718887655), (3874, 0.014366897990181352), (4017, 0.014360550830331066), (285, 0.014336367915555126), (739, 0.014300973472404001), (1742, 0.01427361750064721), (3463, 0.014255781701855083), (1419, 0.014251424303793649), (4774, 0.014229953611045901), (11, 0.014218909277605905), (2471, 0.014203230715975674), (992, 0.014199515408970033), (1508, 0.014179875453539095), (380, 0.014171417580060163), (1260, 0.014169226548057514), (1708, 0.01415498286232807), (2775, 0.01414712107166543), (590, 0.014143056032493991), (3717, 0.01413866025372178), (2625, 0.014114180104956173), (1615, 0.014105567433502612), (1596, 0.01410127661442658), (2331, 0.014088929335831302), (2756, 0.01407530885788855), (1984, 0.014072134564118963), (1470, 0.014072018484184486), (500, 0.014064950521673327), (1853, 0.01406040502495841), (1533, 0.014029961321804486), (1103, 0.014011129029117785), (135, 0.01400505856574136), (2959, 0.014000424622434796), (3872, 0.013975337235523078), (4301, 0.01395934587961171), (3474, 0.01393390605853856), (2074, 0.013920855588506777), (585, 0.01391444434675933), (1573, 0.013890234936339736), (2577, 0.013884968134747128), (1112, 0.013866920122871277), (4251, 0.01386653317215206), (2891, 0.013857446963844111), (3757, 0.013853001314443957), (4167, 0.01383330225838321), (840, 0.01383270447133959), (3591, 0.013826755095749014), (1291, 0.013821369846251508), (2277, 0.013806073478179285), (1861, 0.013805974820374914), (2025, 0.013798423645327058), (2674, 0.013790116120440088), (559, 0.013784587501627888), (893, 0.013767330908499666), (4099, 0.013766871253233183), (1658, 0.013750810582884661), (1659, 0.013749978132305383), (3349, 0.013745420118908332), (4191, 0.01373195098865579), (1084, 0.013710562992731417), (1469, 0.013710433734646234), (2050, 0.013704426526996567), (1818, 0.013702437625128456), (950, 0.013700313484738273), (1542, 0.013695767123400563), (2195, 0.013682061745452216), (3482, 0.013678912331752276), (1041, 0.013668118121788527), (2558, 0.013655049415070694), (2388, 0.013653970359967137), (1513, 0.013614151615119769), (309, 0.013592492797924677), (776, 0.01357603950174982), (1306, 0.01356340833529844), (563, 0.013547102695572893), (3929, 0.013524533108049294), (2104, 0.013510030573590633), (3074, 0.01350689620010727), (1745, 0.013471229177194254), (273, 0.013456432929739888), (1096, 0.01343291442556425), (3562, 0.013429849681386982), (1484, 0.013419401334022887), (1100, 0.013410222455839314), (3374, 0.01338426636251119), (4704, 0.013370904220260644), (2229, 0.01336641554103859), (627, 0.013341583756430395), (3329, 0.013334086430355503), (3622, 0.013329052060485212), (2291, 0.013325632114744461), (1538, 0.013314748498215635), (615, 0.013288182662371206), (2456, 0.013272096543817374), (3800, 0.013267913567159308), (803, 0.013261896076966912), (156, 0.013237989864476763), (3170, 0.013233607524397567), (3416, 0.013200224246451222), (1361, 0.013195708749641396), (442, 0.01317953919169806), (612, 0.013174450211720043), (1930, 0.013172217920496936), (3073, 0.01314840672279309), (1625, 0.013130980457596857), (4087, 0.013129220063377666), (3309, 0.013120111797676283), (423, 0.013118369407525015), (2346, 0.013110952690862907), (2736, 0.013106655832974684), (80, 0.013072386024764671), (4010, 0.013071392818747793), (2624, 0.013066529191426446), (1463, 0.013062005659162015), (2266, 0.01304930991780094), (591, 0.013002018095195012), (650, 0.012996109156780516), (1842, 0.01299426013048719), (4526, 0.012992734705299928), (1695, 0.012989484654834828), (1892, 0.012987621676900749), (761, 0.01296948502846931), (3035, 0.012967293446322692), (106, 0.012961674726752097), (1450, 0.012960688285348278), (78, 0.01294883595141455), (1281, 0.01294424738448469), (1215, 0.012930872672891837), (3777, 0.012905244122144999), (953, 0.012854508788314362), (917, 0.012840784966357587), (2200, 0.01281849367844693), (4489, 0.012802055846198793), (764, 0.012801857622458253), (448, 0.012801489805814444), (501, 0.012795920053009327), (37, 0.012773263326354003), (2652, 0.012756990410540934), (754, 0.012754987081), (3126, 0.012724208828037362), (308, 0.012693816222536035), (2333, 0.012653129412287557), (533, 0.012638650737216655), (1052, 0.012618568548113697), (3259, 0.012595598964869453), (565, 0.012590744171543948), (1517, 0.012546402517808487), (1337, 0.01254092239904699), (390, 0.012537227856667933), (3004, 0.01251880240789935), (92, 0.012507926420137806), (4201, 0.012477340453199237), (2597, 0.012471143441185106), (4756, 0.012460429447358904), (1119, 0.012457295718320611), (629, 0.012440263698405049), (311, 0.01243486718924925), (143, 0.012429652334688191), (4380, 0.012429468585093962), (2435, 0.012421096160602706), (735, 0.01242001892722607), (1206, 0.012401562230227455), (555, 0.012400362324461008), (3364, 0.012398538184160875), (1795, 0.012389724381802428), (2416, 0.012368773626044334), (4749, 0.012366741118834262), (1603, 0.01236094866421405), (1423, 0.012334198311713047), (197, 0.012328754597086641), (3390, 0.012294950449569114), (578, 0.01225382475420948), (1715, 0.012247857983190398), (3671, 0.012247648168690511), (105, 0.012238448966370838), (435, 0.012236682064910302), (2438, 0.012229228789056445), (2598, 0.012213739546254014), (999, 0.012204954138874465), (413, 0.012201232460110347), (898, 0.012167128590525145), (1140, 0.012166075293609292), (1955, 0.012161187433563099), (3603, 0.012142858556690455), (2311, 0.012124659987085923), (931, 0.012117897683089055), (1322, 0.012116174674579894), (1202, 0.012105142256920397), (302, 0.012103774014535166), (1599, 0.01208382979451969), (3237, 0.012079761107988104), (234, 0.012052836801238944), (211, 0.012047812069306317), (1003, 0.012047763434579126), (2853, 0.012042922769473732), (326, 0.012042459939862962), (1694, 0.012032914707236093), (1764, 0.012031037945769148), (276, 0.012026745160638416), (1456, 0.011999894847816885), (175, 0.011982500410370358), (258, 0.011981973031405597), (265, 0.011978458209380344), (1402, 0.011975732158840475), (2166, 0.011969275387620904), (899, 0.011961938162646565), (416, 0.01195131616086472), (289, 0.011950489431229843), (15, 0.011949220902370307), (1849, 0.011928894867638372), (820, 0.01191533248474075), (2127, 0.011877571989858357), (1078, 0.011850929397077886), (1008, 0.011828156065689703), (1837, 0.011817717597312843), (2846, 0.011815168996011252), (191, 0.011801675362100302), (451, 0.011777739897453796), (711, 0.011775674903931919), (1238, 0.011774269980398405), (2542, 0.011762432584047178), (1134, 0.011750138038201357), (1246, 0.01173281165580667), (431, 0.011731175188535193), (154, 0.011702955953712707), (172, 0.01169846861468872), (341, 0.011674810133477757), (2228, 0.011653345325852844), (1446, 0.011637533806036122), (666, 0.011627992887914967), (3706, 0.011616938029874374), (1449, 0.011596879073826621), (2206, 0.011595442969887636), (4368, 0.011585909402680275), (2175, 0.011572912667275649), (3399, 0.011529267399003552), (4164, 0.01152672750730783), (63, 0.011521196393002659), (1494, 0.01151227164238554), (1821, 0.011505273904944576), (3613, 0.011495584999230873), (3013, 0.011493146218513866), (3886, 0.011485860798267184), (420, 0.011459112412398798), (1287, 0.011418137451964884), (349, 0.01140415235243794), (195, 0.011391477275151989), (2651, 0.011359984091115525), (2568, 0.011333455266753448), (2499, 0.01131604357734539), (3417, 0.011311353745428208), (405, 0.01128946212416998), (1914, 0.011271628072472943), (410, 0.011245445205573681), (2944, 0.011231459851303124), (293, 0.011188656826691434), (2338, 0.011187822741783532), (118, 0.01118093317812314), (443, 0.01113560578514611), (2189, 0.011126056457739182), (792, 0.011114901765710903), (23, 0.011107703594273457), (4798, 0.011098726701149225), (336, 0.011094720482584183), (3252, 0.011081992192107504), (1549, 0.011080936818513751), (743, 0.011067868374245187), (1464, 0.011038780328525743), (814, 0.011038309735929234), (391, 0.011023791861776159), (235, 0.011019010924309444), (2336, 0.011013654648571392), (3907, 0.010986315488017784), (977, 0.010968525186239857), (2967, 0.010966589972578156), (368, 0.010948536131806803), (4147, 0.01094634918871988), (995, 0.010908653020516138), (1900, 0.010888123652827058), (3281, 0.010884525939828775), (161, 0.010874690536690615), (1274, 0.010867531771845147), (22, 0.010864775236470952), (3402, 0.010848940616961351), (4608, 0.010826090326167055), (2017, 0.01077913744078963), (1822, 0.010754808139152996), (471, 0.010753946497622088), (2314, 0.01074055007128545), (364, 0.010712176877141225), (1497, 0.010701957142021557), (742, 0.010686752949187011), (2508, 0.01067104041563347), (3553, 0.010632042489122449), (1481, 0.01062803090743633), (3841, 0.010590492590421208), (3214, 0.010587386497581348), (2263, 0.010583269754115051), (86, 0.010562732759699246), (488, 0.010560885480250562), (4370, 0.010557143032487934), (1748, 0.010546137191412137), (485, 0.010540251327369202), (576, 0.010530295601174978), (1650, 0.010509825491777392), (2258, 0.010475966942563043), (2548, 0.01046945478391635), (2878, 0.010449964272076997), (2262, 0.010448906871028412), (4049, 0.010448543744661155), (3845, 0.010389565136512631), (1731, 0.010387485690386562), (4136, 0.010319812625158638), (1718, 0.010190115212648907), (3665, 0.010183923991342327), (1987, 0.010183709001165565), (1942, 0.010180763459252546), (1761, 0.01014033515609981), (998, 0.010135622277357254), (1767, 0.010124398510000913), (2794, 0.010108205852067826), (2556, 0.010019112699883457), (2465, 0.010009415797567566), (3386, 0.009975486462229177), (3875, 0.009969745843119559), (2911, 0.009961732564869808), (4502, 0.00995739676612112), (3397, 0.00991955215151318), (4259, 0.009900457044068682), (1641, 0.009858305316429956), (3199, 0.009843208262433146), (3488, 0.00982717075826775), (2628, 0.009822386616902242), (2303, 0.009821298911255917), (4780, 0.009816035023122303), (497, 0.009815243950097424), (4449, 0.009806292307928814), (2294, 0.009784899739351162), (2649, 0.009783320891063948), (2247, 0.00973275699891083), (4205, 0.00972848405425016), (1519, 0.009721830969221305), (1570, 0.009684065802909939), (1197, 0.009676649557888795), (1878, 0.009669819152494864), (4217, 0.009644872250045062), (4488, 0.009630806617453604), (3506, 0.009628825689225596), (3286, 0.009602923768456199), (2507, 0.009562522570638367), (2193, 0.009550618514188638), (1584, 0.009532630226990758), (2670, 0.009517238284713613), (2587, 0.009512026901304753), (1680, 0.009493005514534796), (4531, 0.009486245253087113), (3760, 0.009478626129119533), (2110, 0.009474165753740603), (4680, 0.009457581791422868), (710, 0.00945638546052491), (2884, 0.009453846659450222), (4139, 0.00944442526661742), (2885, 0.009433630460418027), (4076, 0.009352352540905051), (1409, 0.009342086024368592), (388, 0.009333286623463636), (1429, 0.009326311085791215), (1149, 0.009309300385037852), (669, 0.009304265702988063), (2502, 0.009300168628435258), (758, 0.009295377395734659), (4634, 0.009288913609439193), (2072, 0.009246227685437848), (1010, 0.009243498484602269), (1805, 0.009243166510503905), (4476, 0.009233775944447223), (760, 0.009225424210847755), (1535, 0.00918584665644395), (3726, 0.009176583618916226), (3431, 0.009173513364875851), (4579, 0.009168306123740803), (2722, 0.009155780544099965), (3207, 0.009142584953350056), (975, 0.009136590167100467), (2168, 0.009136032117274423), (2151, 0.009133091267422944), (3244, 0.009124718405838774), (2941, 0.009104882239807153), (4040, 0.009103535360354334), (892, 0.009099338140918366), (696, 0.009097201300609349), (717, 0.009091146218368184), (849, 0.009071578688902527), (2031, 0.00906042273429321), (3701, 0.009055015225259139), (398, 0.00905329071039663), (1309, 0.009040984097975302), (3504, 0.009023205074521787), (314, 0.009020347879723391), (970, 0.009018181433437916), (1369, 0.009018114291873453), (858, 0.009015562306941576), (726, 0.009007309381448617), (3727, 0.009006986809850083), (2428, 0.008989394486837481), (2145, 0.008966576467173786), (1135, 0.008959551367400577), (2957, 0.008953271609540243), (1909, 0.00892761294201279), (3048, 0.008924532566260178), (3101, 0.008922901091106196), (3930, 0.008919582986862155), (2495, 0.008915516360914137), (2269, 0.008909862694154246), (3537, 0.008893069872989176), (1781, 0.00887812989053239), (316, 0.008870478242704578), (3500, 0.008835025020001438), (751, 0.008833923261565424), (2318, 0.008820632489816644), (4556, 0.008807715031589471), (1644, 0.008807280932917706), (3447, 0.008803230193785976), (1340, 0.008802545596273359), (2393, 0.008789252745359367), (298, 0.008780861147883292), (4656, 0.00877290922191689), (2060, 0.00876680185645271), (3541, 0.00873949007549038), (1688, 0.008737089253234982), (3526, 0.008736544659454566), (1127, 0.008718062045263212), (2642, 0.00871189548092557), (4732, 0.008703783868921162), (756, 0.008693528723519585), (2329, 0.00868714374804149), (2632, 0.008682882169350686), (1537, 0.008657914973692638), (2948, 0.008644955326439555), (4310, 0.008638422590166023), (1099, 0.00863408765579898), (3850, 0.008618438424080818), (2167, 0.008612175927679155), (1585, 0.00860529809763151), (1051, 0.008588835382803818), (1170, 0.008579682253529574), (2804, 0.00856870762319033), (3700, 0.008561955550208125), (944, 0.008558168114964779), (1156, 0.008540226393346877), (1021, 0.008511268850581098), (2225, 0.008505171769896633), (2038, 0.008492697971688631), (4195, 0.00847693339362052), (2546, 0.00847490815422634), (2767, 0.008471662540032263), (3087, 0.00846387264639647), (4769, 0.0084604663964868), (4225, 0.008450351469193469), (1182, 0.008445193715933354), (3817, 0.008444404992775826), (1992, 0.008440435754365545), (4377, 0.00842947323105543), (3050, 0.00842714926352326), (3785, 0.008426536267411331), (2569, 0.008423911176643628), (2915, 0.008423720850828504), (876, 0.008408334226000118), (367, 0.008395646790199492), (4528, 0.008383704275526345), (2124, 0.008383390945796692), (4022, 0.008372584160455027), (2467, 0.008358802633155908), (1243, 0.008356279856301245), (1915, 0.008354513079402959), (1829, 0.008351351062311375), (3378, 0.008332491456674347), (1105, 0.008332119939778402), (667, 0.008325652192876527), (3640, 0.00831949639541661), (1480, 0.008313835690886253), (3255, 0.008307872086385084), (965, 0.00830374209541059), (1728, 0.008294180395472367), (1225, 0.008283585367432967), (3765, 0.008281214481999605), (3173, 0.008274980977457982), (2607, 0.008274020007293915), (3636, 0.008271623980654959), (4268, 0.008270733667255881), (879, 0.008268468781371626), (354, 0.00826513769613003), (2932, 0.008263359962826611), (2216, 0.008262560151115459), (281, 0.008260912871876962), (3789, 0.008255289732856854), (4320, 0.00825431297542625), (538, 0.008250501550402797), (2958, 0.008248286499574256), (996, 0.008247239603629537), (4393, 0.008243081966689709), (1800, 0.008242318834390009), (2750, 0.008240580623416325), (1013, 0.008238512407996331), (883, 0.008235535258450341), (2323, 0.008230685684599006), (3567, 0.008216295316754855), (1627, 0.00820243598751619), (3639, 0.00820140945064288), (2086, 0.008199466896050401), (3658, 0.00819821641002071), (4499, 0.008192462522862582), (4277, 0.008184830276819592), (2275, 0.008177769520144146), (1681, 0.008151371790250148), (1971, 0.0081467637232954), (4292, 0.00813788961248055), (3090, 0.00813697217010382), (2478, 0.00812323413968561), (1397, 0.008122843758056844), (1550, 0.008122135134910407), (414, 0.008097075637525934), (1328, 0.008095292655387566), (2240, 0.008094385928556203), (1405, 0.00809332696694949), (1038, 0.008089362785306324), (4041, 0.008081207783937453), (3232, 0.008072628410784306), (3790, 0.008070908956035228), (4708, 0.008067512741985448), (3936, 0.008061814481192368), (3784, 0.008049831004088532), (2130, 0.008041188354339647), (3006, 0.00803716809778573), (3052, 0.008024924159450615), (548, 0.008024225472163232), (2982, 0.008019534169164406), (2828, 0.008016929859139986), (2424, 0.00801251073294117), (1828, 0.008009553906973998), (1632, 0.008007287243110721), (2762, 0.008006649412365945), (4090, 0.007984818563803335), (1492, 0.007976282156786021), (1639, 0.007976218906236477), (1338, 0.007976210731481675), (3234, 0.007971848350404693), (247, 0.00796346536632498), (1220, 0.007961206397208468), (1025, 0.007959231641258722), (1267, 0.00792524295183542), (4733, 0.007913180989699788), (3599, 0.007893599043448834), (3834, 0.007888571586827828), (2282, 0.007887708346519973), (1962, 0.007872189711386974), (652, 0.007859775472347915), (2801, 0.007846856698777428), (3045, 0.007837066258294143), (2933, 0.007825499277042347), (1553, 0.007789941721987467), (1288, 0.007784554562404372), (3257, 0.0077828200932722105), (3123, 0.0077782444675547485), (4337, 0.007774794765403955), (990, 0.007774153735372408), (1660, 0.0077603552706022065), (1701, 0.007757811388086432), (3197, 0.007732912255709248), (3275, 0.007731233936913252), (519, 0.007727254256829388), (628, 0.007718395984665923), (4788, 0.0077123609106406095), (2413, 0.007712062574872093), (684, 0.007711452428454091), (3420, 0.0077035415177786355), (3839, 0.007703415491028521), (3716, 0.007694891330918131), (2867, 0.007675364410245295), (2596, 0.007664456571768523), (3437, 0.0076604593804254426), (4161, 0.007640192640270767), (2839, 0.007638326214434848), (2440, 0.007622449026955051), (4233, 0.007616581635428488), (2091, 0.007615763749182356), (4395, 0.007606390860360642), (674, 0.007591654225949184), (1075, 0.007590568562808043), (3304, 0.007571546806708036), (3357, 0.007555077546153558), (983, 0.007547470922895603), (4196, 0.007540620234763148), (974, 0.007529729444464942), (2818, 0.007521365754157288), (1597, 0.0075210497836622715), (1558, 0.007516083452125374), (3643, 0.007506434025590609), (4792, 0.007491838646200533), (527, 0.007486859330566699), (2774, 0.007478358100750917), (1581, 0.007474938113190224), (540, 0.007468377577537802), (1667, 0.007466699123008089), (3093, 0.007459743421596076), (3594, 0.007440652926651173), (4576, 0.007429202737604973), (4735, 0.007425026209295251), (3169, 0.00742377807126883), (4397, 0.00741571291232829), (2582, 0.007411700635600975), (283, 0.007406131215188457), (4450, 0.007386303529015997), (3857, 0.007384959092695714), (660, 0.007370958791623041), (3373, 0.0073494231278678586), (2727, 0.007339295619606054), (4098, 0.007325858966097341), (3454, 0.0073212948158751946), (4265, 0.007320164722643415), (377, 0.007319091726034618), (3509, 0.007313224353894204), (1209, 0.007294995625266861), (2728, 0.007290860655960981), (2905, 0.007287275847697293), (3880, 0.007276479220323397), (4287, 0.007258616851963803), (1607, 0.0072546414368010684), (2972, 0.007237904928881178), (750, 0.0072260224883516425), (1370, 0.007220956168510067), (3273, 0.007210864778842364), (3450, 0.007181587157313897), (3895, 0.007164580539323048), (2307, 0.007158091297870234), (162, 0.0071553061281231425), (2977, 0.007145549501812169), (3615, 0.007145430285764496), (3548, 0.007143270587067035), (679, 0.007113688542833287), (2122, 0.007111951088668111), (4209, 0.007111753869441907), (2506, 0.007103246458188046), (1978, 0.007079264558477477), (218, 0.007079149299389631), (3988, 0.0070688197596715475), (1398, 0.0070602598395786125), (3012, 0.007059310134197641), (4223, 0.007038522208150946), (3943, 0.00703124131865086), (4226, 0.007008784238078576), (4391, 0.007000349366272845), (4404, 0.006988049242073422), (2207, 0.006978041897662089), (3756, 0.0069772638726525865), (3358, 0.006975944826352897), (678, 0.006974303071078067), (3021, 0.006963563514101132), (2623, 0.0069602985284611145), (2898, 0.006947061584197484), (3299, 0.006943718447152733), (3425, 0.006933689417497607), (2268, 0.006931287118960085), (600, 0.006915909872182916), (4557, 0.006914436974441638), (2188, 0.006899630605314841), (166, 0.006895267284645297), (1773, 0.006890395062271252), (4734, 0.0068900178229021215), (344, 0.006882822886755427), (1357, 0.006881262698438042), (3467, 0.006874913137640472), (476, 0.006868680822687068), (4144, 0.006864461544170953), (3618, 0.006859278186328398), (1269, 0.006857279683083236), (3866, 0.0068559372005182135), (1528, 0.006846264747591356), (3051, 0.006844415635029653), (1769, 0.006838164481742579), (1752, 0.006836061470162552), (4111, 0.006824240923437762), (4425, 0.00682080815518482), (3709, 0.006799614147845546), (1020, 0.00677851039499119), (1666, 0.006777870768076211), (4258, 0.006775509878900703), (466, 0.006767316727095848), (2201, 0.006764223353389324), (261, 0.006757960528243183), (2888, 0.0067381719305869), (4129, 0.006735518928888351), (157, 0.006727148116547866), (2384, 0.006720188915262628), (609, 0.006684626858707939), (773, 0.006681158802062811), (2616, 0.006672979901022044), (981, 0.006671181814886773), (425, 0.006639043525003313), (1733, 0.006638583247148759), (3091, 0.006606422401910004), (4143, 0.0066009101197774265), (985, 0.0066001142685172065), (225, 0.006592463221734098), (1933, 0.006591701665514312), (386, 0.006588243043351431), (4061, 0.006585198073686092), (102, 0.006584042457802728), (4174, 0.0065694520358120295), (1047, 0.006569004381507935), (2352, 0.006568807961707832), (165, 0.006566814159248667), (47, 0.006561979754920619), (539, 0.006561637821277418), (56, 0.006557448490091046), (4187, 0.006552709185183679), (3795, 0.006531690131427273), (140, 0.0065296554582875525), (362, 0.006525001963455605), (1324, 0.006522113257187564), (3650, 0.006508994012814584), (1636, 0.006508839022802877), (732, 0.006507871934547422), (4620, 0.006507391079084522), (1844, 0.006498296974953923), (1920, 0.006497127182726701), (29, 0.006480313974018936), (601, 0.006476544967874885), (2646, 0.006473423136074452), (602, 0.00646351610541253), (3882, 0.006462084067163062), (3361, 0.006460554995825298), (127, 0.006456479033702562), (3154, 0.006455587813597997), (193, 0.006449870636110621), (4004, 0.006448537170419845), (2212, 0.006434372214114361), (180, 0.006431837952065769), (4124, 0.00642440619108335), (44, 0.006420402350633247), (4460, 0.006420202402093551), (455, 0.006418887107869146), (3485, 0.0064184430314164105), (209, 0.0064162662394391485), (4093, 0.0063976841247951385), (1777, 0.006394090148910801), (1272, 0.006392143515948449), (274, 0.006387264251710055), (1628, 0.006387171532574379), (553, 0.006384052428570654), (4583, 0.006382688059278732), (4146, 0.006379225168470511), (53, 0.006378471639965431), (530, 0.00637593632382015), (2980, 0.0063725757877637935), (3128, 0.006370049957320645), (408, 0.006367426802893913), (319, 0.0063642277471568556), (3616, 0.006362485873252505), (4546, 0.006358046621312569), (716, 0.006357853939610666), (478, 0.006351315059390836), (1399, 0.006342572921223263), (2309, 0.006342270682980249), (2093, 0.006314057188267491), (2394, 0.006314029746984623), (82, 0.006310275029213932), (55, 0.006309110882212006), (1320, 0.006301294950999897), (286, 0.006301128548965022), (1273, 0.006299615603536042), (1380, 0.0062958129079788965), (818, 0.006295510185700673), (222, 0.0062870665031581575), (976, 0.006279755269061223), (495, 0.0062797006301175936), (3993, 0.006279406386390659), (3335, 0.006276055844173655), (91, 0.006274061516232794), (355, 0.006270255129920512), (3830, 0.006269551480335343), (266, 0.006265251724392802), (1440, 0.006264762869654378), (76, 0.006259006536317103), (277, 0.006255661501273465), (183, 0.006253266263148285), (1012, 0.006247929017904671), (655, 0.006242650259457862), (3098, 0.006236061115722898), (2198, 0.006232763677312165), (1908, 0.0062313297633950476), (972, 0.006219121188361124), (158, 0.006210988087639006), (2442, 0.006206413514706814), (3522, 0.0062045875778853656), (449, 0.006201644991680352), (573, 0.006188307077479905), (3941, 0.006181174175669681), (2084, 0.006172388370066521), (1143, 0.006161301408757962), (685, 0.006158343503345707), (622, 0.0061555168164812955), (3842, 0.006153295440950899), (2650, 0.006148374071050856), (580, 0.006146352888732921), (1586, 0.006145045649116388), (387, 0.006144729570937683), (1757, 0.0061383987525992206), (1317, 0.006134643288694328), (1617, 0.00613350147508869), (240, 0.006132536187067353), (3816, 0.006132457494931574), (4072, 0.0061308705578413236), (4549, 0.006125905559869343), (1319, 0.006123827519414496), (188, 0.006123045847253332), (956, 0.0061224620812361545), (523, 0.006121740919317735), (1953, 0.006119244028947348), (1285, 0.006119003123559031), (863, 0.006118610421874228), (290, 0.00610723941574177), (153, 0.006106836605073107), (1046, 0.006106219362804025), (304, 0.006105488468007252), (654, 0.0060975428827658865), (320, 0.006096472177271024), (808, 0.006090488259238034), (4565, 0.0060888142222903716), (432, 0.006088519225361317), (297, 0.006088268182684892), (1249, 0.006087670418980397), (2296, 0.006086233824642253), (3545, 0.0060851723889384585), (507, 0.006085082013275396), (43, 0.006083219535225218), (3749, 0.006081335909868608), (4315, 0.006079829338456572), (807, 0.0060773980652710936), (236, 0.006076709390209719), (594, 0.006075290399026268), (1282, 0.0060740833271792725), (1070, 0.00607140544238587), (229, 0.006067294008440912), (596, 0.006062566414779083), (1083, 0.006057632153428524), (3668, 0.0060549478770595445), (1990, 0.006054621633638243), (657, 0.006051653874851313), (457, 0.006050357929156923), (2075, 0.0060436408219737186), (834, 0.00603815221323352), (108, 0.00603726277737445), (1321, 0.006035637937232889), (1284, 0.006034718631323123), (104, 0.006034475446963977), (167, 0.006030646643704327), (4623, 0.006028287015581027), (1633, 0.00602517060048891), (1568, 0.006022904986817631), (1815, 0.006021391084565463), (3523, 0.006019273318759896), (1610, 0.006018726541209377), (988, 0.006017725191370442), (3153, 0.0060171290785774965), (1713, 0.006016497464088389), (3089, 0.0060164617872441), (88, 0.006011344263502631), (389, 0.006009881073380527), (4, 0.006005551433645722), (394, 0.006003827679486767), (2264, 0.005996498921725926), (3606, 0.005996186558353796), (3689, 0.005995786446297022), (490, 0.005993364056562871), (1302, 0.005989551133071362), (850, 0.0059868469632899405), (645, 0.005986835394921229), (653, 0.005985760646977185), (508, 0.005984402204463219), (1956, 0.005983878009940392), (640, 0.005982377121322208), (62, 0.005981253148410356), (112, 0.005977664349224018), (2400, 0.005976877805311658), (3982, 0.005974057208979508), (227, 0.005972038097792878), (544, 0.005966205871824105), (260, 0.0059610134225165125), (1514, 0.005959581961206493), (643, 0.005958833032695104), (4349, 0.005958222720980807), (257, 0.005956405187114663), (570, 0.005955379209876905), (4465, 0.005951215046692852), (3336, 0.005948993062771979), (335, 0.005948992455615499), (677, 0.005946647325117147), (1577, 0.005945931035161958), (582, 0.0059449386797493595), (1872, 0.005944822165280675), (2675, 0.005944820765984938), (4487, 0.005944220860886153), (282, 0.0059442166370651155), (979, 0.005939807011886607), (28, 0.005935451231148693), (74, 0.0059324098651197775), (1880, 0.005930658238595167), (1395, 0.005928025277376934), (3962, 0.005927581057952173), (3290, 0.005915380014146779), (607, 0.005911847740508931), (59, 0.005907986777848424), (922, 0.005900854299529308), (3740, 0.005900472674373099), (487, 0.005896253009745702), (123, 0.0058911141582450085), (334, 0.005889042136630274), (275, 0.005877135592623873), (2785, 0.005874956688468607), (777, 0.005864647206551381), (4042, 0.005863235223367898), (1836, 0.005863127842397772), (310, 0.005861482625390989), (823, 0.005861423948223707), (945, 0.0058604792593987725), (212, 0.005858862959010384), (2293, 0.005856337970150112), (3343, 0.005853569389736019), (70, 0.005852661672665291), (1279, 0.005841512659271656), (424, 0.0058413566074833985), (1510, 0.0058259853999098), (2678, 0.005822176010916139), (402, 0.005821622509392074), (1158, 0.005821369325820757), (1200, 0.005821173097557547), (1443, 0.0058185938230414435), (1741, 0.0058155068818144355), (1910, 0.0058147384952466534), (737, 0.0058125726814801555), (3445, 0.005811097427685435), (151, 0.00580814911717976), (3077, 0.005807132433534115), (3707, 0.005806605734596533), (1500, 0.005804449649692932), (4155, 0.005803229282345607), (263, 0.0057996408185183625), (2918, 0.005797479103353477), (2244, 0.005794966319507556), (888, 0.005791388461933004), (134, 0.0057912690454129155), (1825, 0.005786503680678431), (2129, 0.0057855936243738325), (2288, 0.005781327626300115), (1854, 0.005775948236711812), (475, 0.005773608969285588), (529, 0.0057733503523720205), (246, 0.005766437026887802), (933, 0.005766008606594065), (621, 0.005765888439752935), (1702, 0.005765128066594301), (2683, 0.005758853778863415), (2578, 0.005757916499077618), (1294, 0.005756985459034962), (2565, 0.0057544333683164925), (1645, 0.005744129571136457), (307, 0.005738579848569548), (1783, 0.005738073949309803), (2161, 0.005730388739811134), (361, 0.005730117351529894), (634, 0.005722642305867696), (2142, 0.005714421439025626), (989, 0.005714175728955966), (951, 0.005712824978330586), (75, 0.0056959555418152), (604, 0.005692917009491818), (2644, 0.005689798185469352), (1347, 0.005689504382533396), (93, 0.005686409264729126), (2978, 0.005684625938030177), (2995, 0.00568398928251511), (3942, 0.005683892925069402), (542, 0.005683424946212528), (955, 0.005681197757077076), (3848, 0.005681151267633711), (790, 0.005677232483684878), (483, 0.005676856241740345), (1507, 0.005671426368454928), (1271, 0.005667467992054073), (611, 0.0056645997320186395), (1447, 0.0056634428826506135), (568, 0.005659804167540758), (2085, 0.005658142132189757), (1482, 0.005657188769157254), (676, 0.00565143731253576), (4402, 0.005650919209384148), (383, 0.005644155711309099), (337, 0.00564178466863678), (687, 0.005641387646988683), (531, 0.005637310619437895), (1465, 0.005635802439303504), (2140, 0.00563341867902841), (2327, 0.005632286953998272), (400, 0.00562852120161153), (392, 0.005625236565175183), (228, 0.0056218455536215985), (1006, 0.005621007075380239), (3516, 0.005613105156309229), (503, 0.0056106993795952366), (1491, 0.005609901748133192), (2023, 0.005607265416387165), (13, 0.00560458446020678), (376, 0.0055996623820462905), (2573, 0.005593519342996315), (2712, 0.00559349414307822), (1671, 0.00557610263927995), (1093, 0.005563959427241569), (237, 0.005562638360935106), (1104, 0.005557963590007918), (2996, 0.005556128852587103), (833, 0.0055553722648683836), (3715, 0.005553191250924092), (3920, 0.005550240663786815), (2194, 0.00554959680540921), (929, 0.005541097121988974), (2155, 0.005539762093968017), (708, 0.005526849498136254), (2386, 0.005523402094698428), (577, 0.005522811733144094), (147, 0.005522240659099054), (2043, 0.005511634246521196), (1973, 0.005508578664050412), (1155, 0.005507743871475468), (27, 0.00550492163484813), (2863, 0.00550346624140596), (1079, 0.00550049806679342), (1044, 0.005492332361291105), (4114, 0.0054882299321325784), (745, 0.005488148411294273), (412, 0.005485182423797422), (1332, 0.00548351948966413), (469, 0.005472105136045834), (3305, 0.005471975285838908), (125, 0.0054511819739322485), (4275, 0.005444451529521279), (4351, 0.005442939349311255), (2815, 0.005441788685520486), (3351, 0.005439706221748708), (1428, 0.005438840642822358), (595, 0.005437150926105226), (4327, 0.005426013603795544), (312, 0.005419553873872557), (535, 0.005416770832582131), (216, 0.005416637296509099), (3029, 0.005416441937434091), (1101, 0.005404561053462578), (1077, 0.005401814089296123), (2781, 0.005388100915285957), (2803, 0.005385056301317378), (3584, 0.005384246084745588), (3617, 0.005375375014056764), (45, 0.005372262975607226), (794, 0.005362126469096192), (787, 0.005353989656148235), (736, 0.005347852268409438), (680, 0.005342394641000815), (3158, 0.005341790014335482), (854, 0.0053346680170236575), (3221, 0.005329598657008485), (1743, 0.005327427465571858), (245, 0.005320905174094576), (3722, 0.005317784739185683), (1616, 0.005313061464533755), (1697, 0.005311485503757219), (914, 0.0053095809127024895), (259, 0.005309520728079738), (1848, 0.005309093176893114), (2564, 0.005306681517093007), (3579, 0.005299514555241278), (586, 0.005291204874210234), (528, 0.0052898281757612145), (21, 0.005287601681307618), (1750, 0.005286739234415405), (491, 0.005285142798612533), (2136, 0.005282955880659471), (1106, 0.005282383178094169), (2486, 0.005281484703060021), (1056, 0.005279326038060469), (1672, 0.005277316386184203), (610, 0.00527697768917268), (1310, 0.005276848422047264), (1907, 0.005273245152770283), (2007, 0.005265583710479873), (4316, 0.005259025363971736), (556, 0.005252819863224014), (3138, 0.005250522280712547), (930, 0.005244983643695882), (4353, 0.005238735664842518), (244, 0.005232692036759864), (233, 0.005213768580370483), (4071, 0.005212972926154188), (230, 0.005212895226043726), (3177, 0.005210189961253771), (1459, 0.005197822403232522), (267, 0.005186980440053581), (1193, 0.005172327437731012), (1290, 0.005161870570525492), (1136, 0.0051458125906688025), (2253, 0.005142582228946085), (2747, 0.005137321955041985), (4013, 0.005135906483162647), (1437, 0.005127545916060118), (4727, 0.005118180467134318), (2860, 0.00511529979712508), (1721, 0.0051075089873183765), (2639, 0.0051058566244834526), (1199, 0.005092854456634962), (2777, 0.005062828851666614), (3460, 0.005061753745943123), (1735, 0.005059129483050041), (3755, 0.005055827130184242), (2912, 0.005050469217123691), (300, 0.005050326379031566), (1138, 0.005049695986452319), (4193, 0.005047891693998438), (253, 0.0050426600082416955), (3133, 0.0050349609184825), (4220, 0.005034780551588193), (3274, 0.005028181362697796), (1286, 0.005025210192585881), (1064, 0.005015219957903545), (1412, 0.004976019147994935), (2602, 0.004973301226520188), (4344, 0.004968037472891168), (371, 0.004950778457781847), (2641, 0.004949883073885108), (2429, 0.0049482214343495), (541, 0.00494591436699868), (1298, 0.004939098929087796), (579, 0.004934106642397419), (1583, 0.004927753122006594), (2986, 0.004923289256470059), (2521, 0.0049144045412485154), (2819, 0.004914030577083454), (3370, 0.004912843170836794), (340, 0.0049111271557374814), (4215, 0.0049070817689440905), (2013, 0.00489799506656715), (4507, 0.004875717930154442), (51, 0.0048745605693203695), (3143, 0.004871298982007363), (3884, 0.004864731648084518), (4563, 0.004847720794773636), (3231, 0.004797524568258478), (1404, 0.004770848135732745), (3764, 0.004746457419361527), (3099, 0.004732144429500221), (1817, 0.004727756423889478), (2209, 0.004725914753731576), (2868, 0.004723506606111678), (3007, 0.0047027134825313845), (2515, 0.004692943018557406), (4535, 0.004648179850462232), (1153, 0.004646496632392928), (1877, 0.004634676875197315), (2016, 0.004590610593139666), (97, 0.00455176602029922), (2806, 0.00451601412650253), (4078, 0.004485501343675267), (3804, 0.0044739328163458285), (2757, 0.0044673980634174215), (2357, 0.004446894242047584), (2784, 0.004347295745719764), (1637, 0.0043410513656582), (1304, 0.004213107396241539), (4701, 0.004171550773343327), (6, 0.0), (25, 0.0), (34, 0.0), (49, 0.0), (57, 0.0), (60, 0.0), (66, 0.0), (67, 0.0), (69, 0.0), (77, 0.0), (87, 0.0), (124, 0.0), (128, 0.0), (130, 0.0), (132, 0.0), (136, 0.0), (141, 0.0), (142, 0.0), (144, 0.0), (145, 0.0), (146, 0.0), (155, 0.0), (171, 0.0), (173, 0.0), (176, 0.0), (178, 0.0), (179, 0.0), (189, 0.0), (190, 0.0), (192, 0.0), (194, 0.0), (200, 0.0), (201, 0.0), (202, 0.0), (214, 0.0), (231, 0.0), (239, 0.0), (249, 0.0), (250, 0.0), (255, 0.0), (256, 0.0), (284, 0.0), (301, 0.0), (317, 0.0), (318, 0.0), (321, 0.0), (325, 0.0), (328, 0.0), (333, 0.0), (338, 0.0), (346, 0.0), (347, 0.0), (348, 0.0), (352, 0.0), (359, 0.0), (360, 0.0), (363, 0.0), (365, 0.0), (374, 0.0), (375, 0.0), (378, 0.0), (382, 0.0), (384, 0.0), (397, 0.0), (399, 0.0), (401, 0.0), (404, 0.0), (418, 0.0), (427, 0.0), (429, 0.0), (430, 0.0), (436, 0.0), (439, 0.0), (440, 0.0), (441, 0.0), (445, 0.0), (450, 0.0), (454, 0.0), (459, 0.0), (460, 0.0), (461, 0.0), (462, 0.0), (464, 0.0), (465, 0.0), (474, 0.0), (477, 0.0), (479, 0.0), (482, 0.0), (484, 0.0), (489, 0.0), (492, 0.0), (496, 0.0), (498, 0.0), (502, 0.0), (504, 0.0), (506, 0.0), (509, 0.0), (514, 0.0), (515, 0.0), (517, 0.0), (520, 0.0), (522, 0.0), (524, 0.0), (526, 0.0), (532, 0.0), (549, 0.0), (550, 0.0), (551, 0.0), (552, 0.0), (557, 0.0), (558, 0.0), (561, 0.0), (562, 0.0), (564, 0.0), (566, 0.0), (567, 0.0), (569, 0.0), (575, 0.0), (592, 0.0), (593, 0.0), (598, 0.0), (599, 0.0), (603, 0.0), (605, 0.0), (616, 0.0), (619, 0.0), (623, 0.0), (625, 0.0), (626, 0.0), (630, 0.0), (632, 0.0), (633, 0.0), (635, 0.0), (637, 0.0), (639, 0.0), (641, 0.0), (648, 0.0), (649, 0.0), (656, 0.0), (663, 0.0), (670, 0.0), (671, 0.0), (675, 0.0), (682, 0.0), (688, 0.0), (689, 0.0), (692, 0.0), (693, 0.0), (697, 0.0), (698, 0.0), (699, 0.0), (701, 0.0), (703, 0.0), (704, 0.0), (705, 0.0), (706, 0.0), (707, 0.0), (709, 0.0), (712, 0.0), (713, 0.0), (720, 0.0), (722, 0.0), (723, 0.0), (727, 0.0), (729, 0.0), (730, 0.0), (733, 0.0), (734, 0.0), (738, 0.0), (749, 0.0), (752, 0.0), (759, 0.0), (765, 0.0), (770, 0.0), (771, 0.0), (772, 0.0), (775, 0.0), (778, 0.0), (780, 0.0), (783, 0.0), (789, 0.0), (793, 0.0), (795, 0.0), (796, 0.0), (797, 0.0), (798, 0.0), (801, 0.0), (802, 0.0), (809, 0.0), (811, 0.0), (815, 0.0), (816, 0.0), (817, 0.0), (819, 0.0), (824, 0.0), (829, 0.0), (835, 0.0), (837, 0.0), (839, 0.0), (843, 0.0), (845, 0.0), (847, 0.0), (851, 0.0), (853, 0.0), (855, 0.0), (857, 0.0), (860, 0.0), (861, 0.0), (868, 0.0), (872, 0.0), (874, 0.0), (875, 0.0), (878, 0.0), (884, 0.0), (885, 0.0), (886, 0.0), (887, 0.0), (889, 0.0), (890, 0.0), (891, 0.0), (895, 0.0), (896, 0.0), (897, 0.0), (900, 0.0), (901, 0.0), (902, 0.0), (906, 0.0), (907, 0.0), (908, 0.0), (909, 0.0), (910, 0.0), (912, 0.0), (913, 0.0), (915, 0.0), (916, 0.0), (921, 0.0), (923, 0.0), (924, 0.0), (925, 0.0), (926, 0.0), (928, 0.0), (934, 0.0), (938, 0.0), (940, 0.0), (942, 0.0), (943, 0.0), (948, 0.0), (949, 0.0), (954, 0.0), (957, 0.0), (960, 0.0), (961, 0.0), (964, 0.0), (966, 0.0), (986, 0.0), (987, 0.0), (991, 0.0), (997, 0.0), (1004, 0.0), (1007, 0.0), (1011, 0.0), (1014, 0.0), (1015, 0.0), (1019, 0.0), (1023, 0.0), (1028, 0.0), (1032, 0.0), (1037, 0.0), (1039, 0.0), (1042, 0.0), (1045, 0.0), (1054, 0.0), (1055, 0.0), (1057, 0.0), (1059, 0.0), (1060, 0.0), (1061, 0.0), (1062, 0.0), (1065, 0.0), (1066, 0.0), (1067, 0.0), (1068, 0.0), (1069, 0.0), (1071, 0.0), (1072, 0.0), (1080, 0.0), (1088, 0.0), (1091, 0.0), (1098, 0.0), (1102, 0.0), (1107, 0.0), (1115, 0.0), (1116, 0.0), (1121, 0.0), (1123, 0.0), (1126, 0.0), (1128, 0.0), (1129, 0.0), (1130, 0.0), (1142, 0.0), (1145, 0.0), (1150, 0.0), (1154, 0.0), (1157, 0.0), (1159, 0.0), (1160, 0.0), (1161, 0.0), (1162, 0.0), (1164, 0.0), (1166, 0.0), (1167, 0.0), (1168, 0.0), (1169, 0.0), (1171, 0.0), (1173, 0.0), (1179, 0.0), (1185, 0.0), (1186, 0.0), (1187, 0.0), (1189, 0.0), (1198, 0.0), (1203, 0.0), (1204, 0.0), (1205, 0.0), (1208, 0.0), (1210, 0.0), (1211, 0.0), (1212, 0.0), (1216, 0.0), (1217, 0.0), (1218, 0.0), (1219, 0.0), (1221, 0.0), (1222, 0.0), (1224, 0.0), (1226, 0.0), (1228, 0.0), (1229, 0.0), (1231, 0.0), (1233, 0.0), (1235, 0.0), (1237, 0.0), (1240, 0.0), (1242, 0.0), (1244, 0.0), (1248, 0.0), (1250, 0.0), (1252, 0.0), (1255, 0.0), (1258, 0.0), (1261, 0.0), (1262, 0.0), (1263, 0.0), (1264, 0.0), (1268, 0.0), (1275, 0.0), (1276, 0.0), (1280, 0.0), (1295, 0.0), (1297, 0.0), (1299, 0.0), (1300, 0.0), (1307, 0.0), (1311, 0.0), (1315, 0.0), (1318, 0.0), (1323, 0.0), (1325, 0.0), (1326, 0.0), (1329, 0.0), (1330, 0.0), (1333, 0.0), (1335, 0.0), (1336, 0.0), (1344, 0.0), (1345, 0.0), (1346, 0.0), (1348, 0.0), (1349, 0.0), (1350, 0.0), (1351, 0.0), (1352, 0.0), (1353, 0.0), (1354, 0.0), (1355, 0.0), (1356, 0.0), (1360, 0.0), (1365, 0.0), (1366, 0.0), (1367, 0.0), (1371, 0.0), (1372, 0.0), (1376, 0.0), (1378, 0.0), (1379, 0.0), (1381, 0.0), (1383, 0.0), (1384, 0.0), (1385, 0.0), (1386, 0.0), (1387, 0.0), (1388, 0.0), (1391, 0.0), (1393, 0.0), (1396, 0.0), (1400, 0.0), (1401, 0.0), (1406, 0.0), (1408, 0.0), (1410, 0.0), (1413, 0.0), (1414, 0.0), (1416, 0.0), (1422, 0.0), (1424, 0.0), (1430, 0.0), (1435, 0.0), (1436, 0.0), (1442, 0.0), (1444, 0.0), (1452, 0.0), (1454, 0.0), (1455, 0.0), (1460, 0.0), (1461, 0.0), (1462, 0.0), (1467, 0.0), (1471, 0.0), (1473, 0.0), (1475, 0.0), (1476, 0.0), (1485, 0.0), (1487, 0.0), (1489, 0.0), (1493, 0.0), (1496, 0.0), (1499, 0.0), (1501, 0.0), (1502, 0.0), (1509, 0.0), (1511, 0.0), (1520, 0.0), (1525, 0.0), (1526, 0.0), (1527, 0.0), (1530, 0.0), (1532, 0.0), (1534, 0.0), (1536, 0.0), (1539, 0.0), (1540, 0.0), (1544, 0.0), (1545, 0.0), (1551, 0.0), (1554, 0.0), (1555, 0.0), (1557, 0.0), (1560, 0.0), (1562, 0.0), (1563, 0.0), (1564, 0.0), (1565, 0.0), (1567, 0.0), (1571, 0.0), (1572, 0.0), (1576, 0.0), (1580, 0.0), (1582, 0.0), (1587, 0.0), (1590, 0.0), (1591, 0.0), (1593, 0.0), (1595, 0.0), (1598, 0.0), (1601, 0.0), (1602, 0.0), (1604, 0.0), (1605, 0.0), (1606, 0.0), (1609, 0.0), (1613, 0.0), (1620, 0.0), (1621, 0.0), (1622, 0.0), (1623, 0.0), (1624, 0.0), (1630, 0.0), (1634, 0.0), (1638, 0.0), (1640, 0.0), (1642, 0.0), (1646, 0.0), (1648, 0.0), (1649, 0.0), (1651, 0.0), (1654, 0.0), (1655, 0.0), (1656, 0.0), (1662, 0.0), (1673, 0.0), (1676, 0.0), (1677, 0.0), (1683, 0.0), (1684, 0.0), (1685, 0.0), (1689, 0.0), (1690, 0.0), (1691, 0.0), (1692, 0.0), (1693, 0.0), (1696, 0.0), (1698, 0.0), (1700, 0.0), (1703, 0.0), (1704, 0.0), (1705, 0.0), (1706, 0.0), (1709, 0.0), (1710, 0.0), (1711, 0.0), (1714, 0.0), (1716, 0.0), (1717, 0.0), (1722, 0.0), (1723, 0.0), (1724, 0.0), (1725, 0.0), (1729, 0.0), (1730, 0.0), (1732, 0.0), (1736, 0.0), (1738, 0.0), (1739, 0.0), (1744, 0.0), (1746, 0.0), (1747, 0.0), (1749, 0.0), (1751, 0.0), (1754, 0.0), (1755, 0.0), (1756, 0.0), (1759, 0.0), (1760, 0.0), (1762, 0.0), (1763, 0.0), (1766, 0.0), (1768, 0.0), (1772, 0.0), (1774, 0.0), (1776, 0.0), (1778, 0.0), (1779, 0.0), (1784, 0.0), (1791, 0.0), (1793, 0.0), (1796, 0.0), (1797, 0.0), (1798, 0.0), (1801, 0.0), (1806, 0.0), (1807, 0.0), (1808, 0.0), (1809, 0.0), (1810, 0.0), (1811, 0.0), (1819, 0.0), (1820, 0.0), (1823, 0.0), (1831, 0.0), (1832, 0.0), (1833, 0.0), (1834, 0.0), (1835, 0.0), (1839, 0.0), (1840, 0.0), (1841, 0.0), (1845, 0.0), (1846, 0.0), (1852, 0.0), (1855, 0.0), (1859, 0.0), (1862, 0.0), (1863, 0.0), (1864, 0.0), (1865, 0.0), (1866, 0.0), (1867, 0.0), (1869, 0.0), (1870, 0.0), (1871, 0.0), (1874, 0.0), (1875, 0.0), (1876, 0.0), (1882, 0.0), (1883, 0.0), (1885, 0.0), (1887, 0.0), (1888, 0.0), (1889, 0.0), (1890, 0.0), (1891, 0.0), (1895, 0.0), (1896, 0.0), (1898, 0.0), (1901, 0.0), (1903, 0.0), (1904, 0.0), (1905, 0.0), (1906, 0.0), (1911, 0.0), (1913, 0.0), (1917, 0.0), (1919, 0.0), (1922, 0.0), (1923, 0.0), (1924, 0.0), (1926, 0.0), (1928, 0.0), (1931, 0.0), (1934, 0.0), (1938, 0.0), (1940, 0.0), (1941, 0.0), (1948, 0.0), (1949, 0.0), (1950, 0.0), (1951, 0.0), (1957, 0.0), (1958, 0.0), (1959, 0.0), (1961, 0.0), (1966, 0.0), (1968, 0.0), (1972, 0.0), (1974, 0.0), (1975, 0.0), (1979, 0.0), (1980, 0.0), (1981, 0.0), (1982, 0.0), (1983, 0.0), (1985, 0.0), (1988, 0.0), (1989, 0.0), (1993, 0.0), (1994, 0.0), (1996, 0.0), (1997, 0.0), (1998, 0.0), (2000, 0.0), (2005, 0.0), (2006, 0.0), (2009, 0.0), (2010, 0.0), (2011, 0.0), (2012, 0.0), (2014, 0.0), (2015, 0.0), (2018, 0.0), (2021, 0.0), (2022, 0.0), (2024, 0.0), (2027, 0.0), (2028, 0.0), (2030, 0.0), (2032, 0.0), (2033, 0.0), (2035, 0.0), (2037, 0.0), (2040, 0.0), (2041, 0.0), (2042, 0.0), (2044, 0.0), (2045, 0.0), (2049, 0.0), (2051, 0.0), (2052, 0.0), (2053, 0.0), (2056, 0.0), (2058, 0.0), (2059, 0.0), (2064, 0.0), (2065, 0.0), (2067, 0.0), (2068, 0.0), (2073, 0.0), (2076, 0.0), (2077, 0.0), (2079, 0.0), (2080, 0.0), (2081, 0.0), (2083, 0.0), (2087, 0.0), (2088, 0.0), (2092, 0.0), (2094, 0.0), (2095, 0.0), (2096, 0.0), (2097, 0.0), (2098, 0.0), (2101, 0.0), (2102, 0.0), (2106, 0.0), (2107, 0.0), (2112, 0.0), (2113, 0.0), (2115, 0.0), (2116, 0.0), (2117, 0.0), (2118, 0.0), (2119, 0.0), (2120, 0.0), (2121, 0.0), (2125, 0.0), (2126, 0.0), (2128, 0.0), (2131, 0.0), (2132, 0.0), (2133, 0.0), (2134, 0.0), (2135, 0.0), (2137, 0.0), (2138, 0.0), (2139, 0.0), (2141, 0.0), (2143, 0.0), (2144, 0.0), (2146, 0.0), (2147, 0.0), (2149, 0.0), (2150, 0.0), (2152, 0.0), (2153, 0.0), (2158, 0.0), (2160, 0.0), (2162, 0.0), (2164, 0.0), (2165, 0.0), (2170, 0.0), (2171, 0.0), (2172, 0.0), (2173, 0.0), (2174, 0.0), (2177, 0.0), (2178, 0.0), (2182, 0.0), (2183, 0.0), (2185, 0.0), (2186, 0.0), (2190, 0.0), (2208, 0.0), (2211, 0.0), (2213, 0.0), (2215, 0.0), (2217, 0.0), (2219, 0.0), (2220, 0.0), (2224, 0.0), (2226, 0.0), (2227, 0.0), (2230, 0.0), (2231, 0.0), (2232, 0.0), (2235, 0.0), (2236, 0.0), (2238, 0.0), (2239, 0.0), (2241, 0.0), (2242, 0.0), (2243, 0.0), (2245, 0.0), (2246, 0.0), (2248, 0.0), (2249, 0.0), (2252, 0.0), (2254, 0.0), (2256, 0.0), (2257, 0.0), (2259, 0.0), (2261, 0.0), (2267, 0.0), (2270, 0.0), (2271, 0.0), (2272, 0.0), (2273, 0.0), (2274, 0.0), (2276, 0.0), (2278, 0.0), (2279, 0.0), (2283, 0.0), (2286, 0.0), (2287, 0.0), (2290, 0.0), (2292, 0.0), (2297, 0.0), (2298, 0.0), (2299, 0.0), (2300, 0.0), (2302, 0.0), (2306, 0.0), (2308, 0.0), (2312, 0.0), (2315, 0.0), (2316, 0.0), (2319, 0.0), (2325, 0.0), (2326, 0.0), (2328, 0.0), (2332, 0.0), (2335, 0.0), (2339, 0.0), (2344, 0.0), (2345, 0.0), (2347, 0.0), (2348, 0.0), (2353, 0.0), (2359, 0.0), (2361, 0.0), (2363, 0.0), (2369, 0.0), (2370, 0.0), (2373, 0.0), (2374, 0.0), (2376, 0.0), (2379, 0.0), (2382, 0.0), (2385, 0.0), (2391, 0.0), (2395, 0.0), (2396, 0.0), (2397, 0.0), (2399, 0.0), (2401, 0.0), (2402, 0.0), (2404, 0.0), (2405, 0.0), (2406, 0.0), (2407, 0.0), (2408, 0.0), (2409, 0.0), (2410, 0.0), (2411, 0.0), (2417, 0.0), (2418, 0.0), (2419, 0.0), (2420, 0.0), (2421, 0.0), (2422, 0.0), (2423, 0.0), (2425, 0.0), (2426, 0.0), (2427, 0.0), (2431, 0.0), (2432, 0.0), (2436, 0.0), (2437, 0.0), (2439, 0.0), (2441, 0.0), (2443, 0.0), (2445, 0.0), (2446, 0.0), (2447, 0.0), (2451, 0.0), (2453, 0.0), (2454, 0.0), (2455, 0.0), (2457, 0.0), (2458, 0.0), (2459, 0.0), (2460, 0.0), (2461, 0.0), (2462, 0.0), (2463, 0.0), (2464, 0.0), (2468, 0.0), (2469, 0.0), (2472, 0.0), (2475, 0.0), (2476, 0.0), (2477, 0.0), (2479, 0.0), (2480, 0.0), (2481, 0.0), (2483, 0.0), (2484, 0.0), (2487, 0.0), (2488, 0.0), (2489, 0.0), (2491, 0.0), (2493, 0.0), (2494, 0.0), (2496, 0.0), (2497, 0.0), (2498, 0.0), (2500, 0.0), (2501, 0.0), (2504, 0.0), (2505, 0.0), (2509, 0.0), (2511, 0.0), (2512, 0.0), (2513, 0.0), (2516, 0.0), (2517, 0.0), (2518, 0.0), (2519, 0.0), (2522, 0.0), (2523, 0.0), (2525, 0.0), (2526, 0.0), (2528, 0.0), (2532, 0.0), (2533, 0.0), (2534, 0.0), (2535, 0.0), (2537, 0.0), (2538, 0.0), (2541, 0.0), (2544, 0.0), (2547, 0.0), (2549, 0.0), (2551, 0.0), (2552, 0.0), (2557, 0.0), (2559, 0.0), (2560, 0.0), (2561, 0.0), (2563, 0.0), (2566, 0.0), (2570, 0.0), (2571, 0.0), (2576, 0.0), (2581, 0.0), (2584, 0.0), (2585, 0.0), (2588, 0.0), (2589, 0.0), (2590, 0.0), (2591, 0.0), (2594, 0.0), (2595, 0.0), (2599, 0.0), (2600, 0.0), (2601, 0.0), (2603, 0.0), (2605, 0.0), (2608, 0.0), (2611, 0.0), (2612, 0.0), (2617, 0.0), (2618, 0.0), (2620, 0.0), (2622, 0.0), (2626, 0.0), (2629, 0.0), (2630, 0.0), (2634, 0.0), (2636, 0.0), (2637, 0.0), (2638, 0.0), (2643, 0.0), (2648, 0.0), (2653, 0.0), (2656, 0.0), (2658, 0.0), (2660, 0.0), (2661, 0.0), (2662, 0.0), (2663, 0.0), (2664, 0.0), (2665, 0.0), (2666, 0.0), (2668, 0.0), (2669, 0.0), (2671, 0.0), (2672, 0.0), (2673, 0.0), (2677, 0.0), (2679, 0.0), (2680, 0.0), (2682, 0.0), (2686, 0.0), (2689, 0.0), (2690, 0.0), (2691, 0.0), (2693, 0.0), (2694, 0.0), (2695, 0.0), (2696, 0.0), (2697, 0.0), (2698, 0.0), (2699, 0.0), (2700, 0.0), (2701, 0.0), (2702, 0.0), (2703, 0.0), (2705, 0.0), (2706, 0.0), (2707, 0.0), (2709, 0.0), (2710, 0.0), (2711, 0.0), (2714, 0.0), (2715, 0.0), (2716, 0.0), (2717, 0.0), (2718, 0.0), (2719, 0.0), (2720, 0.0), (2723, 0.0), (2724, 0.0), (2725, 0.0), (2729, 0.0), (2732, 0.0), (2733, 0.0), (2734, 0.0), (2735, 0.0), (2737, 0.0), (2739, 0.0), (2742, 0.0), (2743, 0.0), (2744, 0.0), (2745, 0.0), (2748, 0.0), (2751, 0.0), (2754, 0.0), (2760, 0.0), (2763, 0.0), (2764, 0.0), (2765, 0.0), (2768, 0.0), (2769, 0.0), (2770, 0.0), (2772, 0.0), (2773, 0.0), (2776, 0.0), (2778, 0.0), (2782, 0.0), (2786, 0.0), (2787, 0.0), (2788, 0.0), (2791, 0.0), (2795, 0.0), (2797, 0.0), (2800, 0.0), (2807, 0.0), (2808, 0.0), (2809, 0.0), (2810, 0.0), (2811, 0.0), (2816, 0.0), (2817, 0.0), (2821, 0.0), (2825, 0.0), (2831, 0.0), (2832, 0.0), (2833, 0.0), (2834, 0.0), (2837, 0.0), (2838, 0.0), (2840, 0.0), (2841, 0.0), (2842, 0.0), (2843, 0.0), (2844, 0.0), (2845, 0.0), (2847, 0.0), (2850, 0.0), (2852, 0.0), (2854, 0.0), (2855, 0.0), (2856, 0.0), (2857, 0.0), (2859, 0.0), (2865, 0.0), (2866, 0.0), (2870, 0.0), (2872, 0.0), (2873, 0.0), (2874, 0.0), (2877, 0.0), (2879, 0.0), (2880, 0.0), (2881, 0.0), (2882, 0.0), (2883, 0.0), (2886, 0.0), (2887, 0.0), (2890, 0.0), (2893, 0.0), (2894, 0.0), (2895, 0.0), (2896, 0.0), (2900, 0.0), (2901, 0.0), (2903, 0.0), (2904, 0.0), (2908, 0.0), (2909, 0.0), (2910, 0.0), (2913, 0.0), (2914, 0.0), (2916, 0.0), (2917, 0.0), (2919, 0.0), (2920, 0.0), (2922, 0.0), (2923, 0.0), (2924, 0.0), (2925, 0.0), (2927, 0.0), (2928, 0.0), (2929, 0.0), (2930, 0.0), (2934, 0.0), (2935, 0.0), (2936, 0.0), (2937, 0.0), (2940, 0.0), (2942, 0.0), (2943, 0.0), (2945, 0.0), (2946, 0.0), (2947, 0.0), (2950, 0.0), (2951, 0.0), (2953, 0.0), (2954, 0.0), (2955, 0.0), (2956, 0.0), (2960, 0.0), (2962, 0.0), (2963, 0.0), (2965, 0.0), (2966, 0.0), (2968, 0.0), (2969, 0.0), (2970, 0.0), (2971, 0.0), (2973, 0.0), (2974, 0.0), (2975, 0.0), (2976, 0.0), (2979, 0.0), (2981, 0.0), (2984, 0.0), (2985, 0.0), (2987, 0.0), (2988, 0.0), (2989, 0.0), (2990, 0.0), (2991, 0.0), (2992, 0.0), (2993, 0.0), (2994, 0.0), (2997, 0.0), (2998, 0.0), (2999, 0.0), (3000, 0.0), (3002, 0.0), (3005, 0.0), (3011, 0.0), (3014, 0.0), (3015, 0.0), (3016, 0.0), (3017, 0.0), (3018, 0.0), (3019, 0.0), (3022, 0.0), (3023, 0.0), (3024, 0.0), (3025, 0.0), (3026, 0.0), (3027, 0.0), (3028, 0.0), (3032, 0.0), (3034, 0.0), (3036, 0.0), (3037, 0.0), (3038, 0.0), (3039, 0.0), (3041, 0.0), (3044, 0.0), (3049, 0.0), (3054, 0.0), (3055, 0.0), (3056, 0.0), (3057, 0.0), (3058, 0.0), (3059, 0.0), (3060, 0.0), (3061, 0.0), (3063, 0.0), (3064, 0.0), (3065, 0.0), (3066, 0.0), (3067, 0.0), (3070, 0.0), (3071, 0.0), (3076, 0.0), (3079, 0.0), (3081, 0.0), (3082, 0.0), (3084, 0.0), (3085, 0.0), (3092, 0.0), (3094, 0.0), (3095, 0.0), (3096, 0.0), (3100, 0.0), (3102, 0.0), (3103, 0.0), (3104, 0.0), (3105, 0.0), (3107, 0.0), (3109, 0.0), (3110, 0.0), (3113, 0.0), (3115, 0.0), (3117, 0.0), (3118, 0.0), (3119, 0.0), (3121, 0.0), (3122, 0.0), (3124, 0.0), (3127, 0.0), (3129, 0.0), (3130, 0.0), (3131, 0.0), (3132, 0.0), (3134, 0.0), (3135, 0.0), (3137, 0.0), (3139, 0.0), (3140, 0.0), (3141, 0.0), (3147, 0.0), (3149, 0.0), (3150, 0.0), (3152, 0.0), (3155, 0.0), (3156, 0.0), (3157, 0.0), (3159, 0.0), (3163, 0.0), (3164, 0.0), (3166, 0.0), (3167, 0.0), (3171, 0.0), (3172, 0.0), (3174, 0.0), (3175, 0.0), (3176, 0.0), (3178, 0.0), (3179, 0.0), (3181, 0.0), (3182, 0.0), (3185, 0.0), (3186, 0.0), (3187, 0.0), (3188, 0.0), (3190, 0.0), (3191, 0.0), (3192, 0.0), (3193, 0.0), (3194, 0.0), (3195, 0.0), (3196, 0.0), (3198, 0.0), (3200, 0.0), (3203, 0.0), (3204, 0.0), (3205, 0.0), (3206, 0.0), (3212, 0.0), (3213, 0.0), (3215, 0.0), (3216, 0.0), (3217, 0.0), (3218, 0.0), (3219, 0.0), (3222, 0.0), (3223, 0.0), (3225, 0.0), (3226, 0.0), (3227, 0.0), (3228, 0.0), (3229, 0.0), (3230, 0.0), (3233, 0.0), (3235, 0.0), (3236, 0.0), (3240, 0.0), (3243, 0.0), (3245, 0.0), (3246, 0.0), (3248, 0.0), (3249, 0.0), (3253, 0.0), (3254, 0.0), (3256, 0.0), (3258, 0.0), (3261, 0.0), (3262, 0.0), (3263, 0.0), (3264, 0.0), (3265, 0.0), (3266, 0.0), (3268, 0.0), (3269, 0.0), (3270, 0.0), (3271, 0.0), (3272, 0.0), (3276, 0.0), (3277, 0.0), (3278, 0.0), (3279, 0.0), (3282, 0.0), (3283, 0.0), (3287, 0.0), (3288, 0.0), (3289, 0.0), (3292, 0.0), (3295, 0.0), (3296, 0.0), (3298, 0.0), (3300, 0.0), (3301, 0.0), (3302, 0.0), (3307, 0.0), (3310, 0.0), (3311, 0.0), (3312, 0.0), (3313, 0.0), (3314, 0.0), (3315, 0.0), (3317, 0.0), (3319, 0.0), (3320, 0.0), (3321, 0.0), (3324, 0.0), (3325, 0.0), (3327, 0.0), (3328, 0.0), (3330, 0.0), (3331, 0.0), (3339, 0.0), (3340, 0.0), (3342, 0.0), (3344, 0.0), (3346, 0.0), (3347, 0.0), (3353, 0.0), (3356, 0.0), (3360, 0.0), (3363, 0.0), (3365, 0.0), (3366, 0.0), (3367, 0.0), (3369, 0.0), (3376, 0.0), (3380, 0.0), (3381, 0.0), (3383, 0.0), (3384, 0.0), (3387, 0.0), (3388, 0.0), (3392, 0.0), (3393, 0.0), (3395, 0.0), (3396, 0.0), (3398, 0.0), (3401, 0.0), (3403, 0.0), (3406, 0.0), (3407, 0.0), (3410, 0.0), (3411, 0.0), (3413, 0.0), (3414, 0.0), (3415, 0.0), (3418, 0.0), (3419, 0.0), (3421, 0.0), (3422, 0.0), (3426, 0.0), (3427, 0.0), (3428, 0.0), (3429, 0.0), (3432, 0.0), (3433, 0.0), (3435, 0.0), (3436, 0.0), (3438, 0.0), (3440, 0.0), (3442, 0.0), (3443, 0.0), (3444, 0.0), (3449, 0.0), (3452, 0.0), (3453, 0.0), (3457, 0.0), (3458, 0.0), (3461, 0.0), (3462, 0.0), (3465, 0.0), (3468, 0.0), (3471, 0.0), (3473, 0.0), (3476, 0.0), (3478, 0.0), (3481, 0.0), (3483, 0.0), (3484, 0.0), (3486, 0.0), (3487, 0.0), (3490, 0.0), (3491, 0.0), (3493, 0.0), (3496, 0.0), (3497, 0.0), (3498, 0.0), (3499, 0.0), (3502, 0.0), (3503, 0.0), (3508, 0.0), (3512, 0.0), (3513, 0.0), (3514, 0.0), (3517, 0.0), (3519, 0.0), (3520, 0.0), (3521, 0.0), (3524, 0.0), (3527, 0.0), (3528, 0.0), (3529, 0.0), (3530, 0.0), (3532, 0.0), (3534, 0.0), (3535, 0.0), (3536, 0.0), (3538, 0.0), (3539, 0.0), (3540, 0.0), (3542, 0.0), (3543, 0.0), (3546, 0.0), (3547, 0.0), (3549, 0.0), (3551, 0.0), (3554, 0.0), (3555, 0.0), (3556, 0.0), (3557, 0.0), (3558, 0.0), (3559, 0.0), (3560, 0.0), (3561, 0.0), (3563, 0.0), (3565, 0.0), (3566, 0.0), (3568, 0.0), (3569, 0.0), (3570, 0.0), (3571, 0.0), (3572, 0.0), (3573, 0.0), (3574, 0.0), (3575, 0.0), (3577, 0.0), (3578, 0.0), (3581, 0.0), (3582, 0.0), (3583, 0.0), (3585, 0.0), (3586, 0.0), (3587, 0.0), (3588, 0.0), (3589, 0.0), (3592, 0.0), (3597, 0.0), (3598, 0.0), (3601, 0.0), (3608, 0.0), (3610, 0.0), (3612, 0.0), (3614, 0.0), (3620, 0.0), (3621, 0.0), (3625, 0.0), (3626, 0.0), (3627, 0.0), (3629, 0.0), (3633, 0.0), (3638, 0.0), (3641, 0.0), (3642, 0.0), (3645, 0.0), (3647, 0.0), (3648, 0.0), (3649, 0.0), (3651, 0.0), (3653, 0.0), (3654, 0.0), (3655, 0.0), (3656, 0.0), (3657, 0.0), (3660, 0.0), (3661, 0.0), (3662, 0.0), (3663, 0.0), (3664, 0.0), (3666, 0.0), (3670, 0.0), (3673, 0.0), (3674, 0.0), (3675, 0.0), (3676, 0.0), (3677, 0.0), (3680, 0.0), (3681, 0.0), (3682, 0.0), (3683, 0.0), (3684, 0.0), (3686, 0.0), (3687, 0.0), (3690, 0.0), (3692, 0.0), (3693, 0.0), (3696, 0.0), (3697, 0.0), (3698, 0.0), (3702, 0.0), (3705, 0.0), (3708, 0.0), (3712, 0.0), (3713, 0.0), (3718, 0.0), (3720, 0.0), (3721, 0.0), (3723, 0.0), (3728, 0.0), (3729, 0.0), (3731, 0.0), (3732, 0.0), (3736, 0.0), (3737, 0.0), (3738, 0.0), (3741, 0.0), (3742, 0.0), (3743, 0.0), (3746, 0.0), (3747, 0.0), (3748, 0.0), (3750, 0.0), (3751, 0.0), (3752, 0.0), (3754, 0.0), (3759, 0.0), (3761, 0.0), (3763, 0.0), (3767, 0.0), (3768, 0.0), (3769, 0.0), (3773, 0.0), (3776, 0.0), (3779, 0.0), (3781, 0.0), (3783, 0.0), (3787, 0.0), (3791, 0.0), (3792, 0.0), (3793, 0.0), (3794, 0.0), (3797, 0.0), (3798, 0.0), (3801, 0.0), (3802, 0.0), (3803, 0.0), (3805, 0.0), (3806, 0.0), (3807, 0.0), (3808, 0.0), (3809, 0.0), (3810, 0.0), (3811, 0.0), (3812, 0.0), (3818, 0.0), (3820, 0.0), (3821, 0.0), (3822, 0.0), (3823, 0.0), (3824, 0.0), (3825, 0.0), (3827, 0.0), (3832, 0.0), (3835, 0.0), (3838, 0.0), (3840, 0.0), (3843, 0.0), (3844, 0.0), (3846, 0.0), (3847, 0.0), (3852, 0.0), (3853, 0.0), (3860, 0.0), (3861, 0.0), (3862, 0.0), (3863, 0.0), (3864, 0.0), (3865, 0.0), (3867, 0.0), (3870, 0.0), (3871, 0.0), (3876, 0.0), (3877, 0.0), (3878, 0.0), (3879, 0.0), (3881, 0.0), (3885, 0.0), (3888, 0.0), (3889, 0.0), (3892, 0.0), (3894, 0.0), (3896, 0.0), (3902, 0.0), (3904, 0.0), (3908, 0.0), (3909, 0.0), (3913, 0.0), (3914, 0.0), (3915, 0.0), (3916, 0.0), (3917, 0.0), (3918, 0.0), (3922, 0.0), (3923, 0.0), (3924, 0.0), (3925, 0.0), (3926, 0.0), (3927, 0.0), (3931, 0.0), (3932, 0.0), (3933, 0.0), (3934, 0.0), (3937, 0.0), (3938, 0.0), (3947, 0.0), (3949, 0.0), (3950, 0.0), (3954, 0.0), (3955, 0.0), (3958, 0.0), (3959, 0.0), (3960, 0.0), (3961, 0.0), (3963, 0.0), (3964, 0.0), (3967, 0.0), (3968, 0.0), (3969, 0.0), (3970, 0.0), (3973, 0.0), (3974, 0.0), (3975, 0.0), (3977, 0.0), (3979, 0.0), (3980, 0.0), (3981, 0.0), (3983, 0.0), (3985, 0.0), (3987, 0.0), (3989, 0.0), (3990, 0.0), (3992, 0.0), (3994, 0.0), (3995, 0.0), (3996, 0.0), (3997, 0.0), (3998, 0.0), (3999, 0.0), (4000, 0.0), (4001, 0.0), (4002, 0.0), (4003, 0.0), (4005, 0.0), (4006, 0.0), (4007, 0.0), (4009, 0.0), (4014, 0.0), (4015, 0.0), (4016, 0.0), (4018, 0.0), (4020, 0.0), (4021, 0.0), (4023, 0.0), (4024, 0.0), (4025, 0.0), (4026, 0.0), (4029, 0.0), (4031, 0.0), (4032, 0.0), (4034, 0.0), (4035, 0.0), (4036, 0.0), (4037, 0.0), (4039, 0.0), (4043, 0.0), (4046, 0.0), (4048, 0.0), (4052, 0.0), (4053, 0.0), (4056, 0.0), (4057, 0.0), (4058, 0.0), (4059, 0.0), (4060, 0.0), (4062, 0.0), (4064, 0.0), (4066, 0.0), (4068, 0.0), (4069, 0.0), (4070, 0.0), (4074, 0.0), (4075, 0.0), (4080, 0.0), (4081, 0.0), (4082, 0.0), (4083, 0.0), (4085, 0.0), (4086, 0.0), (4088, 0.0), (4089, 0.0), (4091, 0.0), (4092, 0.0), (4095, 0.0), (4096, 0.0), (4097, 0.0), (4101, 0.0), (4102, 0.0), (4103, 0.0), (4104, 0.0), (4106, 0.0), (4107, 0.0), (4109, 0.0), (4110, 0.0), (4112, 0.0), (4113, 0.0), (4115, 0.0), (4116, 0.0), (4118, 0.0), (4121, 0.0), (4122, 0.0), (4123, 0.0), (4125, 0.0), (4126, 0.0), (4128, 0.0), (4130, 0.0), (4131, 0.0), (4133, 0.0), (4134, 0.0), (4137, 0.0), (4138, 0.0), (4140, 0.0), (4141, 0.0), (4148, 0.0), (4151, 0.0), (4152, 0.0), (4157, 0.0), (4162, 0.0), (4163, 0.0), (4165, 0.0), (4168, 0.0), (4169, 0.0), (4170, 0.0), (4171, 0.0), (4173, 0.0), (4178, 0.0), (4180, 0.0), (4181, 0.0), (4182, 0.0), (4185, 0.0), (4186, 0.0), (4188, 0.0), (4190, 0.0), (4192, 0.0), (4194, 0.0), (4197, 0.0), (4198, 0.0), (4199, 0.0), (4202, 0.0), (4204, 0.0), (4206, 0.0), (4207, 0.0), (4208, 0.0), (4210, 0.0), (4212, 0.0), (4213, 0.0), (4216, 0.0), (4218, 0.0), (4219, 0.0), (4222, 0.0), (4224, 0.0), (4227, 0.0), (4228, 0.0), (4229, 0.0), (4234, 0.0), (4235, 0.0), (4236, 0.0), (4237, 0.0), (4238, 0.0), (4239, 0.0), (4240, 0.0), (4241, 0.0), (4242, 0.0), (4243, 0.0), (4244, 0.0), (4245, 0.0), (4247, 0.0), (4248, 0.0), (4249, 0.0), (4250, 0.0), (4253, 0.0), (4257, 0.0), (4260, 0.0), (4262, 0.0), (4263, 0.0), (4264, 0.0), (4266, 0.0), (4269, 0.0), (4270, 0.0), (4271, 0.0), (4272, 0.0), (4274, 0.0), (4276, 0.0), (4278, 0.0), (4280, 0.0), (4281, 0.0), (4282, 0.0), (4283, 0.0), (4288, 0.0), (4289, 0.0), (4290, 0.0), (4293, 0.0), (4294, 0.0), (4295, 0.0), (4296, 0.0), (4297, 0.0), (4298, 0.0), (4299, 0.0), (4302, 0.0), (4303, 0.0), (4304, 0.0), (4305, 0.0), (4306, 0.0), (4307, 0.0), (4308, 0.0), (4309, 0.0), (4314, 0.0), (4317, 0.0), (4318, 0.0), (4319, 0.0), (4321, 0.0), (4322, 0.0), (4323, 0.0), (4328, 0.0), (4330, 0.0), (4331, 0.0), (4332, 0.0), (4334, 0.0), (4335, 0.0), (4336, 0.0), (4338, 0.0), (4340, 0.0), (4341, 0.0), (4342, 0.0), (4343, 0.0), (4347, 0.0), (4352, 0.0), (4354, 0.0), (4355, 0.0), (4358, 0.0), (4359, 0.0), (4360, 0.0), (4361, 0.0), (4362, 0.0), (4363, 0.0), (4364, 0.0), (4365, 0.0), (4366, 0.0), (4367, 0.0), (4369, 0.0), (4371, 0.0), (4373, 0.0), (4374, 0.0), (4375, 0.0), (4381, 0.0), (4382, 0.0), (4383, 0.0), (4384, 0.0), (4385, 0.0), (4387, 0.0), (4389, 0.0), (4390, 0.0), (4394, 0.0), (4396, 0.0), (4398, 0.0), (4400, 0.0), (4403, 0.0), (4405, 0.0), (4406, 0.0), (4407, 0.0), (4409, 0.0), (4410, 0.0), (4412, 0.0), (4413, 0.0), (4414, 0.0), (4416, 0.0), (4417, 0.0), (4419, 0.0), (4420, 0.0), (4422, 0.0), (4423, 0.0), (4424, 0.0), (4426, 0.0), (4427, 0.0), (4429, 0.0), (4431, 0.0), (4433, 0.0), (4434, 0.0), (4435, 0.0), (4436, 0.0), (4437, 0.0), (4441, 0.0), (4442, 0.0), (4443, 0.0), (4444, 0.0), (4445, 0.0), (4446, 0.0), (4447, 0.0), (4448, 0.0), (4451, 0.0), (4452, 0.0), (4453, 0.0), (4454, 0.0), (4455, 0.0), (4456, 0.0), (4457, 0.0), (4458, 0.0), (4459, 0.0), (4462, 0.0), (4463, 0.0), (4464, 0.0), (4466, 0.0), (4467, 0.0), (4468, 0.0), (4469, 0.0), (4470, 0.0), (4474, 0.0), (4475, 0.0), (4478, 0.0), (4479, 0.0), (4480, 0.0), (4483, 0.0), (4485, 0.0), (4486, 0.0), (4490, 0.0), (4491, 0.0), (4492, 0.0), (4494, 0.0), (4500, 0.0), (4501, 0.0), (4503, 0.0), (4504, 0.0), (4505, 0.0), (4508, 0.0), (4509, 0.0), (4510, 0.0), (4511, 0.0), (4512, 0.0), (4513, 0.0), (4516, 0.0), (4518, 0.0), (4520, 0.0), (4521, 0.0), (4523, 0.0), (4524, 0.0), (4525, 0.0), (4530, 0.0), (4532, 0.0), (4533, 0.0), (4534, 0.0), (4536, 0.0), (4537, 0.0), (4538, 0.0), (4540, 0.0), (4541, 0.0), (4542, 0.0), (4543, 0.0), (4544, 0.0), (4545, 0.0), (4547, 0.0), (4548, 0.0), (4550, 0.0), (4551, 0.0), (4553, 0.0), (4559, 0.0), (4560, 0.0), (4561, 0.0), (4562, 0.0), (4564, 0.0), (4566, 0.0), (4567, 0.0), (4568, 0.0), (4570, 0.0), (4571, 0.0), (4572, 0.0), (4574, 0.0), (4575, 0.0), (4577, 0.0), (4578, 0.0), (4581, 0.0), (4582, 0.0), (4585, 0.0), (4586, 0.0), (4587, 0.0), (4588, 0.0), (4589, 0.0), (4590, 0.0), (4591, 0.0), (4592, 0.0), (4593, 0.0), (4594, 0.0), (4595, 0.0), (4596, 0.0), (4597, 0.0), (4598, 0.0), (4600, 0.0), (4603, 0.0), (4604, 0.0), (4605, 0.0), (4606, 0.0), (4607, 0.0), (4609, 0.0), (4610, 0.0), (4611, 0.0), (4612, 0.0), (4613, 0.0), (4614, 0.0), (4615, 0.0), (4617, 0.0), (4619, 0.0), (4622, 0.0), (4624, 0.0), (4626, 0.0), (4627, 0.0), (4628, 0.0), (4632, 0.0), (4633, 0.0), (4635, 0.0), (4636, 0.0), (4637, 0.0), (4639, 0.0), (4640, 0.0), (4641, 0.0), (4643, 0.0), (4644, 0.0), (4647, 0.0), (4648, 0.0), (4650, 0.0), (4651, 0.0), (4652, 0.0), (4653, 0.0), (4655, 0.0), (4657, 0.0), (4658, 0.0), (4659, 0.0), (4660, 0.0), (4661, 0.0), (4662, 0.0), (4665, 0.0), (4666, 0.0), (4667, 0.0), (4668, 0.0), (4669, 0.0), (4671, 0.0), (4673, 0.0), (4674, 0.0), (4676, 0.0), (4677, 0.0), (4678, 0.0), (4679, 0.0), (4681, 0.0), (4682, 0.0), (4683, 0.0), (4684, 0.0), (4685, 0.0), (4686, 0.0), (4687, 0.0), (4688, 0.0), (4689, 0.0), (4690, 0.0), (4691, 0.0), (4692, 0.0), (4693, 0.0), (4694, 0.0), (4695, 0.0), (4696, 0.0), (4697, 0.0), (4698, 0.0), (4699, 0.0), (4700, 0.0), (4702, 0.0), (4703, 0.0), (4705, 0.0), (4706, 0.0), (4709, 0.0), (4710, 0.0), (4711, 0.0), (4712, 0.0), (4714, 0.0), (4715, 0.0), (4716, 0.0), (4717, 0.0), (4718, 0.0), (4719, 0.0), (4720, 0.0), (4721, 0.0), (4722, 0.0), (4723, 0.0), (4725, 0.0), (4726, 0.0), (4729, 0.0), (4731, 0.0), (4736, 0.0), (4737, 0.0), (4738, 0.0), (4740, 0.0), (4741, 0.0), (4743, 0.0), (4744, 0.0), (4746, 0.0), (4747, 0.0), (4748, 0.0), (4750, 0.0), (4751, 0.0), (4752, 0.0), (4753, 0.0), (4754, 0.0), (4755, 0.0), (4757, 0.0), (4758, 0.0), (4761, 0.0), (4762, 0.0), (4763, 0.0), (4764, 0.0), (4765, 0.0), (4766, 0.0), (4767, 0.0), (4768, 0.0), (4770, 0.0), (4771, 0.0), (4773, 0.0), (4775, 0.0), (4777, 0.0), (4779, 0.0), (4781, 0.0), (4782, 0.0), (4783, 0.0), (4784, 0.0), (4785, 0.0), (4786, 0.0), (4787, 0.0), (4789, 0.0), (4790, 0.0), (4794, 0.0), (4797, 0.0), (4799, 0.0), (4800, 0.0), (4801, 0.0), (4802, 0.0)]\n"
     ]
    }
   ],
   "source": [
    "sorted_similar_movies = sorted(similarity_score, key = lambda x:x[1], reverse = True) \n",
    "print(sorted_similar_movies)"
   ]
  },
  {
   "cell_type": "markdown",
   "id": "84346e47",
   "metadata": {},
   "source": [
    "#### `Step 7` Print the name of similar movies based on the index"
   ]
  },
  {
   "cell_type": "code",
   "execution_count": 41,
   "id": "c298667b",
   "metadata": {},
   "outputs": [
    {
     "name": "stdout",
     "output_type": "stream",
     "text": [
      "Movies suggested for you : \n",
      "\n",
      "1 . Batman\n",
      "2 . Batman Returns\n",
      "3 . Batman & Robin\n",
      "4 . The Dark Knight Rises\n",
      "5 . Batman Begins\n",
      "6 . The Dark Knight\n",
      "7 . A History of Violence\n",
      "8 . Spider-Man 2\n",
      "9 . Beetlejuice\n",
      "10 . Mars Attacks!\n",
      "11 . Man of Steel\n",
      "12 . Superman\n",
      "13 . The Mask\n",
      "14 . The Sentinel\n",
      "15 . Planet of the Apes\n",
      "16 . Dungeons & Dragons: Wrath of the Dragon God\n",
      "17 . Watchmen\n",
      "18 . Suicide Squad\n",
      "19 . Something's Gotta Give\n",
      "20 . Superman II\n",
      "21 . Kick-Ass 2\n",
      "22 . Spider-Man 3\n",
      "23 . Batman v Superman: Dawn of Justice\n",
      "24 . Jonah Hex\n",
      "25 . Kick-Ass\n",
      "26 . Bedazzled\n",
      "27 . The Land Before Time\n",
      "28 . I Dreamed of Africa\n",
      "29 . Blood and Wine\n"
     ]
    }
   ],
   "source": [
    "print('Movies suggested for you : \\n')\n",
    "\n",
    "i = 1\n",
    "\n",
    "for movie in sorted_similar_movies:\n",
    "    index = movie[0]\n",
    "    title_from_index = movies_data[movies_data.index==index]['title'].values[0]\n",
    "    if (i<30):\n",
    "        print(i, '.',title_from_index)\n",
    "        i+=1"
   ]
  },
  {
   "cell_type": "markdown",
   "id": "1350f06a",
   "metadata": {},
   "source": [
    "## 7) Movie Recommendation System Demonstration\n",
    "---"
   ]
  },
  {
   "cell_type": "code",
   "execution_count": 42,
   "id": "b286bacb",
   "metadata": {},
   "outputs": [
    {
     "name": "stdout",
     "output_type": "stream",
     "text": [
      " Enter your favourite movie name : Iron man\n",
      "Movies suggested for you : \n",
      "\n",
      "1 . Iron Man\n",
      "2 . Iron Man 2\n",
      "3 . Iron Man 3\n",
      "4 . Avengers: Age of Ultron\n",
      "5 . The Avengers\n",
      "6 . Captain America: Civil War\n",
      "7 . Captain America: The Winter Soldier\n",
      "8 . Ant-Man\n",
      "9 . X-Men\n",
      "10 . Made\n",
      "11 . X2\n",
      "12 . X-Men: Apocalypse\n",
      "13 . Deadpool\n",
      "14 . The Incredible Hulk\n",
      "15 . X-Men: First Class\n",
      "16 . The Helix... Loaded\n",
      "17 . Kick-Ass 2\n",
      "18 . Thor: The Dark World\n",
      "19 . X-Men: The Last Stand\n",
      "20 . X-Men: Days of Future Past\n",
      "21 . Man of Steel\n",
      "22 . Duets\n",
      "23 . Mortdecai\n",
      "24 . Captain America: The First Avenger\n",
      "25 . Superman II\n",
      "26 . The Last Airbender\n",
      "27 . Southland Tales\n",
      "28 . Guardians of the Galaxy\n",
      "29 . The Good Night\n"
     ]
    }
   ],
   "source": [
    "movie_name = input(' Enter your favourite movie name : ')\n",
    "\n",
    "list_of_all_titles = movies_data['title'].tolist()\n",
    "\n",
    "find_close_match = difflib.get_close_matches(movie_name, list_of_all_titles)\n",
    "\n",
    "close_match = find_close_match[0]\n",
    "\n",
    "index_of_the_movie = movies_data[movies_data.title == close_match]['index'].values[0]\n",
    "\n",
    "similarity_score = list(enumerate(similarity[index_of_the_movie]))\n",
    "\n",
    "sorted_similar_movies = sorted(similarity_score, key = lambda x:x[1], reverse = True) \n",
    "\n",
    "print('Movies suggested for you : \\n')\n",
    "\n",
    "i = 1\n",
    "\n",
    "for movie in sorted_similar_movies:\n",
    "    index = movie[0]\n",
    "    title_from_index = movies_data[movies_data.index==index]['title'].values[0]\n",
    "    if (i<30):\n",
    "        print(i, '.',title_from_index)\n",
    "        i+=1"
   ]
  }
 ],
 "metadata": {
  "kernelspec": {
   "display_name": "Python [conda env:NLP39]",
   "language": "python",
   "name": "conda-env-NLP39-py"
  },
  "language_info": {
   "codemirror_mode": {
    "name": "ipython",
    "version": 3
   },
   "file_extension": ".py",
   "mimetype": "text/x-python",
   "name": "python",
   "nbconvert_exporter": "python",
   "pygments_lexer": "ipython3",
   "version": "3.8.0"
  }
 },
 "nbformat": 4,
 "nbformat_minor": 5
}
