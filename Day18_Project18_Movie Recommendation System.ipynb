{
 "cells": [
  {
   "cell_type": "markdown",
   "id": "37fec4d1",
   "metadata": {},
   "source": [
    "---\n",
    "<center><h1>Movie Recommendation System</h1></center>\n",
    "<center><h3>Part of 30 Days 30 ML Projects Challenge</h3></center>\n",
    "\n",
    "---"
   ]
  },
  {
   "cell_type": "markdown",
   "id": "d775d05a",
   "metadata": {},
   "source": [
    "## 1) Understanding Problem Statement\n",
    "---\n",
    "\n",
    "In today's era of digital entertainment, the vast array of available movies and TV shows can overwhelm viewers when choosing what to watch. This project aims to tackle this issue through the development of a movie recommendation system, leveraging the power of data science and machine learning.\n",
    "\n",
    "The problem can be classified as a **Recommendation System Machine Learning Problem**. The primary goal is **to construct a predictive model capable of suggesting personalized movie recommendations to users**. This model will analyze historical user preferences, movie ratings, and viewing habits to provide tailored movie suggestions. Additionally, it involves the application of **Collaborative Filtering**, **Content-Based Filtering**, or hybrid approaches to enhance recommendation accuracy.\n",
    "\n",
    "By employing advanced recommendation algorithms and data analysis, this project seeks to simplify the decision-making process for viewers, enriching their entertainment experience while simultaneously demonstrating the practical use of machine learning in content recommendation systems."
   ]
  },
  {
   "cell_type": "markdown",
   "id": "851854e1",
   "metadata": {},
   "source": [
    "## 2) Understanding Data\n",
    "---\n",
    "\n",
    "The project uses **Movies Data** which contains several variables (independent variables) and the outcome variable or dependent variable."
   ]
  },
  {
   "cell_type": "markdown",
   "id": "591aad18",
   "metadata": {},
   "source": [
    "## 3) Getting System Ready\n",
    "---\n",
    "Importing required libraries\n"
   ]
  },
  {
   "cell_type": "code",
   "execution_count": 1,
   "id": "553f6b66",
   "metadata": {},
   "outputs": [],
   "source": [
    "import numpy as np\n",
    "import pandas as pd\n",
    "\n",
    "# for text data preprocessing\n",
    "import re\n",
    "from nltk.corpus import stopwords\n",
    "from nltk.stem.porter import PorterStemmer\n",
    "from sklearn.feature_extraction.text import TfidfVectorizer\n",
    "from sklearn.metrics.pairwise import cosine_similarity\n",
    "import difflib\n",
    "\n",
    "# for model buidling\n",
    "from sklearn.preprocessing import StandardScaler\n",
    "from sklearn.model_selection import train_test_split, RandomizedSearchCV\n",
    "from sklearn.linear_model import LogisticRegression\n",
    "from sklearn.svm import SVC\n",
    "from sklearn.tree import DecisionTreeClassifier\n",
    "from sklearn.ensemble import RandomForestClassifier\n",
    "from sklearn.metrics import accuracy_score, precision_score, recall_score, f1_score, confusion_matrix"
   ]
  },
  {
   "cell_type": "markdown",
   "id": "d146d3a0",
   "metadata": {},
   "source": [
    "### Downloading stop words for text preprocessing"
   ]
  },
  {
   "cell_type": "code",
   "execution_count": 2,
   "id": "3499a881",
   "metadata": {},
   "outputs": [
    {
     "name": "stderr",
     "output_type": "stream",
     "text": [
      "[nltk_data] Downloading package stopwords to\n",
      "[nltk_data]     C:\\Users\\manis\\AppData\\Roaming\\nltk_data...\n",
      "[nltk_data]   Package stopwords is already up-to-date!\n"
     ]
    },
    {
     "data": {
      "text/plain": [
       "True"
      ]
     },
     "execution_count": 2,
     "metadata": {},
     "output_type": "execute_result"
    }
   ],
   "source": [
    "import nltk\n",
    "nltk.download('stopwords')"
   ]
  },
  {
   "cell_type": "code",
   "execution_count": 3,
   "id": "bc31baeb",
   "metadata": {},
   "outputs": [
    {
     "name": "stdout",
     "output_type": "stream",
     "text": [
      "['i', 'me', 'my', 'myself', 'we', 'our', 'ours', 'ourselves', 'you', \"you're\", \"you've\", \"you'll\", \"you'd\", 'your', 'yours', 'yourself', 'yourselves', 'he', 'him', 'his', 'himself', 'she', \"she's\", 'her', 'hers', 'herself', 'it', \"it's\", 'its', 'itself', 'they', 'them', 'their', 'theirs', 'themselves', 'what', 'which', 'who', 'whom', 'this', 'that', \"that'll\", 'these', 'those', 'am', 'is', 'are', 'was', 'were', 'be', 'been', 'being', 'have', 'has', 'had', 'having', 'do', 'does', 'did', 'doing', 'a', 'an', 'the', 'and', 'but', 'if', 'or', 'because', 'as', 'until', 'while', 'of', 'at', 'by', 'for', 'with', 'about', 'against', 'between', 'into', 'through', 'during', 'before', 'after', 'above', 'below', 'to', 'from', 'up', 'down', 'in', 'out', 'on', 'off', 'over', 'under', 'again', 'further', 'then', 'once', 'here', 'there', 'when', 'where', 'why', 'how', 'all', 'any', 'both', 'each', 'few', 'more', 'most', 'other', 'some', 'such', 'no', 'nor', 'not', 'only', 'own', 'same', 'so', 'than', 'too', 'very', 's', 't', 'can', 'will', 'just', 'don', \"don't\", 'should', \"should've\", 'now', 'd', 'll', 'm', 'o', 're', 've', 'y', 'ain', 'aren', \"aren't\", 'couldn', \"couldn't\", 'didn', \"didn't\", 'doesn', \"doesn't\", 'hadn', \"hadn't\", 'hasn', \"hasn't\", 'haven', \"haven't\", 'isn', \"isn't\", 'ma', 'mightn', \"mightn't\", 'mustn', \"mustn't\", 'needn', \"needn't\", 'shan', \"shan't\", 'shouldn', \"shouldn't\", 'wasn', \"wasn't\", 'weren', \"weren't\", 'won', \"won't\", 'wouldn', \"wouldn't\"]\n"
     ]
    }
   ],
   "source": [
    "# printing the stopwords in English\n",
    "print(stopwords.words('english'))"
   ]
  },
  {
   "cell_type": "markdown",
   "id": "71cc7be4",
   "metadata": {},
   "source": [
    "## 4) Data Eyeballing\n",
    "---"
   ]
  },
  {
   "cell_type": "markdown",
   "id": "a808fc24",
   "metadata": {},
   "source": [
    "### Laoding Data"
   ]
  },
  {
   "cell_type": "code",
   "execution_count": 4,
   "id": "3d5b4d9e",
   "metadata": {},
   "outputs": [],
   "source": [
    "movies_data = pd.read_csv('Datasets/Day18_Movies_Data.csv') "
   ]
  },
  {
   "cell_type": "code",
   "execution_count": 5,
   "id": "08888d06",
   "metadata": {},
   "outputs": [
    {
     "data": {
      "text/html": [
       "<div>\n",
       "<style scoped>\n",
       "    .dataframe tbody tr th:only-of-type {\n",
       "        vertical-align: middle;\n",
       "    }\n",
       "\n",
       "    .dataframe tbody tr th {\n",
       "        vertical-align: top;\n",
       "    }\n",
       "\n",
       "    .dataframe thead th {\n",
       "        text-align: right;\n",
       "    }\n",
       "</style>\n",
       "<table border=\"1\" class=\"dataframe\">\n",
       "  <thead>\n",
       "    <tr style=\"text-align: right;\">\n",
       "      <th></th>\n",
       "      <th>index</th>\n",
       "      <th>budget</th>\n",
       "      <th>genres</th>\n",
       "      <th>homepage</th>\n",
       "      <th>id</th>\n",
       "      <th>keywords</th>\n",
       "      <th>original_language</th>\n",
       "      <th>original_title</th>\n",
       "      <th>overview</th>\n",
       "      <th>popularity</th>\n",
       "      <th>...</th>\n",
       "      <th>runtime</th>\n",
       "      <th>spoken_languages</th>\n",
       "      <th>status</th>\n",
       "      <th>tagline</th>\n",
       "      <th>title</th>\n",
       "      <th>vote_average</th>\n",
       "      <th>vote_count</th>\n",
       "      <th>cast</th>\n",
       "      <th>crew</th>\n",
       "      <th>director</th>\n",
       "    </tr>\n",
       "  </thead>\n",
       "  <tbody>\n",
       "    <tr>\n",
       "      <th>0</th>\n",
       "      <td>0</td>\n",
       "      <td>237000000</td>\n",
       "      <td>Action Adventure Fantasy Science Fiction</td>\n",
       "      <td>http://www.avatarmovie.com/</td>\n",
       "      <td>19995</td>\n",
       "      <td>culture clash future space war space colony so...</td>\n",
       "      <td>en</td>\n",
       "      <td>Avatar</td>\n",
       "      <td>In the 22nd century, a paraplegic Marine is di...</td>\n",
       "      <td>150.437577</td>\n",
       "      <td>...</td>\n",
       "      <td>162.0</td>\n",
       "      <td>[{\"iso_639_1\": \"en\", \"name\": \"English\"}, {\"iso...</td>\n",
       "      <td>Released</td>\n",
       "      <td>Enter the World of Pandora.</td>\n",
       "      <td>Avatar</td>\n",
       "      <td>7.2</td>\n",
       "      <td>11800</td>\n",
       "      <td>Sam Worthington Zoe Saldana Sigourney Weaver S...</td>\n",
       "      <td>[{'name': 'Stephen E. Rivkin', 'gender': 0, 'd...</td>\n",
       "      <td>James Cameron</td>\n",
       "    </tr>\n",
       "    <tr>\n",
       "      <th>1</th>\n",
       "      <td>1</td>\n",
       "      <td>300000000</td>\n",
       "      <td>Adventure Fantasy Action</td>\n",
       "      <td>http://disney.go.com/disneypictures/pirates/</td>\n",
       "      <td>285</td>\n",
       "      <td>ocean drug abuse exotic island east india trad...</td>\n",
       "      <td>en</td>\n",
       "      <td>Pirates of the Caribbean: At World's End</td>\n",
       "      <td>Captain Barbossa, long believed to be dead, ha...</td>\n",
       "      <td>139.082615</td>\n",
       "      <td>...</td>\n",
       "      <td>169.0</td>\n",
       "      <td>[{\"iso_639_1\": \"en\", \"name\": \"English\"}]</td>\n",
       "      <td>Released</td>\n",
       "      <td>At the end of the world, the adventure begins.</td>\n",
       "      <td>Pirates of the Caribbean: At World's End</td>\n",
       "      <td>6.9</td>\n",
       "      <td>4500</td>\n",
       "      <td>Johnny Depp Orlando Bloom Keira Knightley Stel...</td>\n",
       "      <td>[{'name': 'Dariusz Wolski', 'gender': 2, 'depa...</td>\n",
       "      <td>Gore Verbinski</td>\n",
       "    </tr>\n",
       "    <tr>\n",
       "      <th>2</th>\n",
       "      <td>2</td>\n",
       "      <td>245000000</td>\n",
       "      <td>Action Adventure Crime</td>\n",
       "      <td>http://www.sonypictures.com/movies/spectre/</td>\n",
       "      <td>206647</td>\n",
       "      <td>spy based on novel secret agent sequel mi6</td>\n",
       "      <td>en</td>\n",
       "      <td>Spectre</td>\n",
       "      <td>A cryptic message from Bond’s past sends him o...</td>\n",
       "      <td>107.376788</td>\n",
       "      <td>...</td>\n",
       "      <td>148.0</td>\n",
       "      <td>[{\"iso_639_1\": \"fr\", \"name\": \"Fran\\u00e7ais\"},...</td>\n",
       "      <td>Released</td>\n",
       "      <td>A Plan No One Escapes</td>\n",
       "      <td>Spectre</td>\n",
       "      <td>6.3</td>\n",
       "      <td>4466</td>\n",
       "      <td>Daniel Craig Christoph Waltz L\\u00e9a Seydoux ...</td>\n",
       "      <td>[{'name': 'Thomas Newman', 'gender': 2, 'depar...</td>\n",
       "      <td>Sam Mendes</td>\n",
       "    </tr>\n",
       "    <tr>\n",
       "      <th>3</th>\n",
       "      <td>3</td>\n",
       "      <td>250000000</td>\n",
       "      <td>Action Crime Drama Thriller</td>\n",
       "      <td>http://www.thedarkknightrises.com/</td>\n",
       "      <td>49026</td>\n",
       "      <td>dc comics crime fighter terrorist secret ident...</td>\n",
       "      <td>en</td>\n",
       "      <td>The Dark Knight Rises</td>\n",
       "      <td>Following the death of District Attorney Harve...</td>\n",
       "      <td>112.312950</td>\n",
       "      <td>...</td>\n",
       "      <td>165.0</td>\n",
       "      <td>[{\"iso_639_1\": \"en\", \"name\": \"English\"}]</td>\n",
       "      <td>Released</td>\n",
       "      <td>The Legend Ends</td>\n",
       "      <td>The Dark Knight Rises</td>\n",
       "      <td>7.6</td>\n",
       "      <td>9106</td>\n",
       "      <td>Christian Bale Michael Caine Gary Oldman Anne ...</td>\n",
       "      <td>[{'name': 'Hans Zimmer', 'gender': 2, 'departm...</td>\n",
       "      <td>Christopher Nolan</td>\n",
       "    </tr>\n",
       "    <tr>\n",
       "      <th>4</th>\n",
       "      <td>4</td>\n",
       "      <td>260000000</td>\n",
       "      <td>Action Adventure Science Fiction</td>\n",
       "      <td>http://movies.disney.com/john-carter</td>\n",
       "      <td>49529</td>\n",
       "      <td>based on novel mars medallion space travel pri...</td>\n",
       "      <td>en</td>\n",
       "      <td>John Carter</td>\n",
       "      <td>John Carter is a war-weary, former military ca...</td>\n",
       "      <td>43.926995</td>\n",
       "      <td>...</td>\n",
       "      <td>132.0</td>\n",
       "      <td>[{\"iso_639_1\": \"en\", \"name\": \"English\"}]</td>\n",
       "      <td>Released</td>\n",
       "      <td>Lost in our world, found in another.</td>\n",
       "      <td>John Carter</td>\n",
       "      <td>6.1</td>\n",
       "      <td>2124</td>\n",
       "      <td>Taylor Kitsch Lynn Collins Samantha Morton Wil...</td>\n",
       "      <td>[{'name': 'Andrew Stanton', 'gender': 2, 'depa...</td>\n",
       "      <td>Andrew Stanton</td>\n",
       "    </tr>\n",
       "    <tr>\n",
       "      <th>...</th>\n",
       "      <td>...</td>\n",
       "      <td>...</td>\n",
       "      <td>...</td>\n",
       "      <td>...</td>\n",
       "      <td>...</td>\n",
       "      <td>...</td>\n",
       "      <td>...</td>\n",
       "      <td>...</td>\n",
       "      <td>...</td>\n",
       "      <td>...</td>\n",
       "      <td>...</td>\n",
       "      <td>...</td>\n",
       "      <td>...</td>\n",
       "      <td>...</td>\n",
       "      <td>...</td>\n",
       "      <td>...</td>\n",
       "      <td>...</td>\n",
       "      <td>...</td>\n",
       "      <td>...</td>\n",
       "      <td>...</td>\n",
       "      <td>...</td>\n",
       "    </tr>\n",
       "    <tr>\n",
       "      <th>4798</th>\n",
       "      <td>4798</td>\n",
       "      <td>220000</td>\n",
       "      <td>Action Crime Thriller</td>\n",
       "      <td>NaN</td>\n",
       "      <td>9367</td>\n",
       "      <td>united states\\u2013mexico barrier legs arms pa...</td>\n",
       "      <td>es</td>\n",
       "      <td>El Mariachi</td>\n",
       "      <td>El Mariachi just wants to play his guitar and ...</td>\n",
       "      <td>14.269792</td>\n",
       "      <td>...</td>\n",
       "      <td>81.0</td>\n",
       "      <td>[{\"iso_639_1\": \"es\", \"name\": \"Espa\\u00f1ol\"}]</td>\n",
       "      <td>Released</td>\n",
       "      <td>He didn't come looking for trouble, but troubl...</td>\n",
       "      <td>El Mariachi</td>\n",
       "      <td>6.6</td>\n",
       "      <td>238</td>\n",
       "      <td>Carlos Gallardo Jaime de Hoyos Peter Marquardt...</td>\n",
       "      <td>[{'name': 'Robert Rodriguez', 'gender': 0, 'de...</td>\n",
       "      <td>Robert Rodriguez</td>\n",
       "    </tr>\n",
       "    <tr>\n",
       "      <th>4799</th>\n",
       "      <td>4799</td>\n",
       "      <td>9000</td>\n",
       "      <td>Comedy Romance</td>\n",
       "      <td>NaN</td>\n",
       "      <td>72766</td>\n",
       "      <td>NaN</td>\n",
       "      <td>en</td>\n",
       "      <td>Newlyweds</td>\n",
       "      <td>A newlywed couple's honeymoon is upended by th...</td>\n",
       "      <td>0.642552</td>\n",
       "      <td>...</td>\n",
       "      <td>85.0</td>\n",
       "      <td>[]</td>\n",
       "      <td>Released</td>\n",
       "      <td>A newlywed couple's honeymoon is upended by th...</td>\n",
       "      <td>Newlyweds</td>\n",
       "      <td>5.9</td>\n",
       "      <td>5</td>\n",
       "      <td>Edward Burns Kerry Bish\\u00e9 Marsha Dietlein ...</td>\n",
       "      <td>[{'name': 'Edward Burns', 'gender': 2, 'depart...</td>\n",
       "      <td>Edward Burns</td>\n",
       "    </tr>\n",
       "    <tr>\n",
       "      <th>4800</th>\n",
       "      <td>4800</td>\n",
       "      <td>0</td>\n",
       "      <td>Comedy Drama Romance TV Movie</td>\n",
       "      <td>http://www.hallmarkchannel.com/signedsealeddel...</td>\n",
       "      <td>231617</td>\n",
       "      <td>date love at first sight narration investigati...</td>\n",
       "      <td>en</td>\n",
       "      <td>Signed, Sealed, Delivered</td>\n",
       "      <td>\"Signed, Sealed, Delivered\" introduces a dedic...</td>\n",
       "      <td>1.444476</td>\n",
       "      <td>...</td>\n",
       "      <td>120.0</td>\n",
       "      <td>[{\"iso_639_1\": \"en\", \"name\": \"English\"}]</td>\n",
       "      <td>Released</td>\n",
       "      <td>NaN</td>\n",
       "      <td>Signed, Sealed, Delivered</td>\n",
       "      <td>7.0</td>\n",
       "      <td>6</td>\n",
       "      <td>Eric Mabius Kristin Booth Crystal Lowe Geoff G...</td>\n",
       "      <td>[{'name': 'Carla Hetland', 'gender': 0, 'depar...</td>\n",
       "      <td>Scott Smith</td>\n",
       "    </tr>\n",
       "    <tr>\n",
       "      <th>4801</th>\n",
       "      <td>4801</td>\n",
       "      <td>0</td>\n",
       "      <td>NaN</td>\n",
       "      <td>http://shanghaicalling.com/</td>\n",
       "      <td>126186</td>\n",
       "      <td>NaN</td>\n",
       "      <td>en</td>\n",
       "      <td>Shanghai Calling</td>\n",
       "      <td>When ambitious New York attorney Sam is sent t...</td>\n",
       "      <td>0.857008</td>\n",
       "      <td>...</td>\n",
       "      <td>98.0</td>\n",
       "      <td>[{\"iso_639_1\": \"en\", \"name\": \"English\"}]</td>\n",
       "      <td>Released</td>\n",
       "      <td>A New Yorker in Shanghai</td>\n",
       "      <td>Shanghai Calling</td>\n",
       "      <td>5.7</td>\n",
       "      <td>7</td>\n",
       "      <td>Daniel Henney Eliza Coupe Bill Paxton Alan Ruc...</td>\n",
       "      <td>[{'name': 'Daniel Hsia', 'gender': 2, 'departm...</td>\n",
       "      <td>Daniel Hsia</td>\n",
       "    </tr>\n",
       "    <tr>\n",
       "      <th>4802</th>\n",
       "      <td>4802</td>\n",
       "      <td>0</td>\n",
       "      <td>Documentary</td>\n",
       "      <td>NaN</td>\n",
       "      <td>25975</td>\n",
       "      <td>obsession camcorder crush dream girl</td>\n",
       "      <td>en</td>\n",
       "      <td>My Date with Drew</td>\n",
       "      <td>Ever since the second grade when he first saw ...</td>\n",
       "      <td>1.929883</td>\n",
       "      <td>...</td>\n",
       "      <td>90.0</td>\n",
       "      <td>[{\"iso_639_1\": \"en\", \"name\": \"English\"}]</td>\n",
       "      <td>Released</td>\n",
       "      <td>NaN</td>\n",
       "      <td>My Date with Drew</td>\n",
       "      <td>6.3</td>\n",
       "      <td>16</td>\n",
       "      <td>Drew Barrymore Brian Herzlinger Corey Feldman ...</td>\n",
       "      <td>[{'name': 'Clark Peterson', 'gender': 2, 'depa...</td>\n",
       "      <td>Brian Herzlinger</td>\n",
       "    </tr>\n",
       "  </tbody>\n",
       "</table>\n",
       "<p>4803 rows × 24 columns</p>\n",
       "</div>"
      ],
      "text/plain": [
       "      index     budget                                    genres   \n",
       "0         0  237000000  Action Adventure Fantasy Science Fiction  \\\n",
       "1         1  300000000                  Adventure Fantasy Action   \n",
       "2         2  245000000                    Action Adventure Crime   \n",
       "3         3  250000000               Action Crime Drama Thriller   \n",
       "4         4  260000000          Action Adventure Science Fiction   \n",
       "...     ...        ...                                       ...   \n",
       "4798   4798     220000                     Action Crime Thriller   \n",
       "4799   4799       9000                            Comedy Romance   \n",
       "4800   4800          0             Comedy Drama Romance TV Movie   \n",
       "4801   4801          0                                       NaN   \n",
       "4802   4802          0                               Documentary   \n",
       "\n",
       "                                               homepage      id   \n",
       "0                           http://www.avatarmovie.com/   19995  \\\n",
       "1          http://disney.go.com/disneypictures/pirates/     285   \n",
       "2           http://www.sonypictures.com/movies/spectre/  206647   \n",
       "3                    http://www.thedarkknightrises.com/   49026   \n",
       "4                  http://movies.disney.com/john-carter   49529   \n",
       "...                                                 ...     ...   \n",
       "4798                                                NaN    9367   \n",
       "4799                                                NaN   72766   \n",
       "4800  http://www.hallmarkchannel.com/signedsealeddel...  231617   \n",
       "4801                        http://shanghaicalling.com/  126186   \n",
       "4802                                                NaN   25975   \n",
       "\n",
       "                                               keywords original_language   \n",
       "0     culture clash future space war space colony so...                en  \\\n",
       "1     ocean drug abuse exotic island east india trad...                en   \n",
       "2            spy based on novel secret agent sequel mi6                en   \n",
       "3     dc comics crime fighter terrorist secret ident...                en   \n",
       "4     based on novel mars medallion space travel pri...                en   \n",
       "...                                                 ...               ...   \n",
       "4798  united states\\u2013mexico barrier legs arms pa...                es   \n",
       "4799                                                NaN                en   \n",
       "4800  date love at first sight narration investigati...                en   \n",
       "4801                                                NaN                en   \n",
       "4802               obsession camcorder crush dream girl                en   \n",
       "\n",
       "                                original_title   \n",
       "0                                       Avatar  \\\n",
       "1     Pirates of the Caribbean: At World's End   \n",
       "2                                      Spectre   \n",
       "3                        The Dark Knight Rises   \n",
       "4                                  John Carter   \n",
       "...                                        ...   \n",
       "4798                               El Mariachi   \n",
       "4799                                 Newlyweds   \n",
       "4800                 Signed, Sealed, Delivered   \n",
       "4801                          Shanghai Calling   \n",
       "4802                         My Date with Drew   \n",
       "\n",
       "                                               overview  popularity  ...   \n",
       "0     In the 22nd century, a paraplegic Marine is di...  150.437577  ...  \\\n",
       "1     Captain Barbossa, long believed to be dead, ha...  139.082615  ...   \n",
       "2     A cryptic message from Bond’s past sends him o...  107.376788  ...   \n",
       "3     Following the death of District Attorney Harve...  112.312950  ...   \n",
       "4     John Carter is a war-weary, former military ca...   43.926995  ...   \n",
       "...                                                 ...         ...  ...   \n",
       "4798  El Mariachi just wants to play his guitar and ...   14.269792  ...   \n",
       "4799  A newlywed couple's honeymoon is upended by th...    0.642552  ...   \n",
       "4800  \"Signed, Sealed, Delivered\" introduces a dedic...    1.444476  ...   \n",
       "4801  When ambitious New York attorney Sam is sent t...    0.857008  ...   \n",
       "4802  Ever since the second grade when he first saw ...    1.929883  ...   \n",
       "\n",
       "     runtime                                   spoken_languages    status   \n",
       "0      162.0  [{\"iso_639_1\": \"en\", \"name\": \"English\"}, {\"iso...  Released  \\\n",
       "1      169.0           [{\"iso_639_1\": \"en\", \"name\": \"English\"}]  Released   \n",
       "2      148.0  [{\"iso_639_1\": \"fr\", \"name\": \"Fran\\u00e7ais\"},...  Released   \n",
       "3      165.0           [{\"iso_639_1\": \"en\", \"name\": \"English\"}]  Released   \n",
       "4      132.0           [{\"iso_639_1\": \"en\", \"name\": \"English\"}]  Released   \n",
       "...      ...                                                ...       ...   \n",
       "4798    81.0      [{\"iso_639_1\": \"es\", \"name\": \"Espa\\u00f1ol\"}]  Released   \n",
       "4799    85.0                                                 []  Released   \n",
       "4800   120.0           [{\"iso_639_1\": \"en\", \"name\": \"English\"}]  Released   \n",
       "4801    98.0           [{\"iso_639_1\": \"en\", \"name\": \"English\"}]  Released   \n",
       "4802    90.0           [{\"iso_639_1\": \"en\", \"name\": \"English\"}]  Released   \n",
       "\n",
       "                                                tagline   \n",
       "0                           Enter the World of Pandora.  \\\n",
       "1        At the end of the world, the adventure begins.   \n",
       "2                                 A Plan No One Escapes   \n",
       "3                                       The Legend Ends   \n",
       "4                  Lost in our world, found in another.   \n",
       "...                                                 ...   \n",
       "4798  He didn't come looking for trouble, but troubl...   \n",
       "4799  A newlywed couple's honeymoon is upended by th...   \n",
       "4800                                                NaN   \n",
       "4801                           A New Yorker in Shanghai   \n",
       "4802                                                NaN   \n",
       "\n",
       "                                         title vote_average vote_count   \n",
       "0                                       Avatar          7.2      11800  \\\n",
       "1     Pirates of the Caribbean: At World's End          6.9       4500   \n",
       "2                                      Spectre          6.3       4466   \n",
       "3                        The Dark Knight Rises          7.6       9106   \n",
       "4                                  John Carter          6.1       2124   \n",
       "...                                        ...          ...        ...   \n",
       "4798                               El Mariachi          6.6        238   \n",
       "4799                                 Newlyweds          5.9          5   \n",
       "4800                 Signed, Sealed, Delivered          7.0          6   \n",
       "4801                          Shanghai Calling          5.7          7   \n",
       "4802                         My Date with Drew          6.3         16   \n",
       "\n",
       "                                                   cast   \n",
       "0     Sam Worthington Zoe Saldana Sigourney Weaver S...  \\\n",
       "1     Johnny Depp Orlando Bloom Keira Knightley Stel...   \n",
       "2     Daniel Craig Christoph Waltz L\\u00e9a Seydoux ...   \n",
       "3     Christian Bale Michael Caine Gary Oldman Anne ...   \n",
       "4     Taylor Kitsch Lynn Collins Samantha Morton Wil...   \n",
       "...                                                 ...   \n",
       "4798  Carlos Gallardo Jaime de Hoyos Peter Marquardt...   \n",
       "4799  Edward Burns Kerry Bish\\u00e9 Marsha Dietlein ...   \n",
       "4800  Eric Mabius Kristin Booth Crystal Lowe Geoff G...   \n",
       "4801  Daniel Henney Eliza Coupe Bill Paxton Alan Ruc...   \n",
       "4802  Drew Barrymore Brian Herzlinger Corey Feldman ...   \n",
       "\n",
       "                                                   crew           director  \n",
       "0     [{'name': 'Stephen E. Rivkin', 'gender': 0, 'd...      James Cameron  \n",
       "1     [{'name': 'Dariusz Wolski', 'gender': 2, 'depa...     Gore Verbinski  \n",
       "2     [{'name': 'Thomas Newman', 'gender': 2, 'depar...         Sam Mendes  \n",
       "3     [{'name': 'Hans Zimmer', 'gender': 2, 'departm...  Christopher Nolan  \n",
       "4     [{'name': 'Andrew Stanton', 'gender': 2, 'depa...     Andrew Stanton  \n",
       "...                                                 ...                ...  \n",
       "4798  [{'name': 'Robert Rodriguez', 'gender': 0, 'de...   Robert Rodriguez  \n",
       "4799  [{'name': 'Edward Burns', 'gender': 2, 'depart...       Edward Burns  \n",
       "4800  [{'name': 'Carla Hetland', 'gender': 0, 'depar...        Scott Smith  \n",
       "4801  [{'name': 'Daniel Hsia', 'gender': 2, 'departm...        Daniel Hsia  \n",
       "4802  [{'name': 'Clark Peterson', 'gender': 2, 'depa...   Brian Herzlinger  \n",
       "\n",
       "[4803 rows x 24 columns]"
      ]
     },
     "execution_count": 5,
     "metadata": {},
     "output_type": "execute_result"
    }
   ],
   "source": [
    "movies_data"
   ]
  },
  {
   "cell_type": "code",
   "execution_count": 6,
   "id": "36448130",
   "metadata": {},
   "outputs": [
    {
     "name": "stdout",
     "output_type": "stream",
     "text": [
      "The size of Dataframe is:  (4803, 24)\n",
      "----------------------------------------------------------------------------------------------------\n",
      "The Column Name, Record Count and Data Types are as follows: \n",
      "<class 'pandas.core.frame.DataFrame'>\n",
      "RangeIndex: 4803 entries, 0 to 4802\n",
      "Data columns (total 24 columns):\n",
      " #   Column                Non-Null Count  Dtype  \n",
      "---  ------                --------------  -----  \n",
      " 0   index                 4803 non-null   int64  \n",
      " 1   budget                4803 non-null   int64  \n",
      " 2   genres                4775 non-null   object \n",
      " 3   homepage              1712 non-null   object \n",
      " 4   id                    4803 non-null   int64  \n",
      " 5   keywords              4391 non-null   object \n",
      " 6   original_language     4803 non-null   object \n",
      " 7   original_title        4803 non-null   object \n",
      " 8   overview              4800 non-null   object \n",
      " 9   popularity            4803 non-null   float64\n",
      " 10  production_companies  4803 non-null   object \n",
      " 11  production_countries  4803 non-null   object \n",
      " 12  release_date          4802 non-null   object \n",
      " 13  revenue               4803 non-null   int64  \n",
      " 14  runtime               4801 non-null   float64\n",
      " 15  spoken_languages      4803 non-null   object \n",
      " 16  status                4803 non-null   object \n",
      " 17  tagline               3959 non-null   object \n",
      " 18  title                 4803 non-null   object \n",
      " 19  vote_average          4803 non-null   float64\n",
      " 20  vote_count            4803 non-null   int64  \n",
      " 21  cast                  4760 non-null   object \n",
      " 22  crew                  4803 non-null   object \n",
      " 23  director              4773 non-null   object \n",
      "dtypes: float64(3), int64(5), object(16)\n",
      "memory usage: 900.7+ KB\n",
      "----------------------------------------------------------------------------------------------------\n"
     ]
    }
   ],
   "source": [
    "print('The size of Dataframe is: ', movies_data.shape)\n",
    "print('-'*100)\n",
    "print('The Column Name, Record Count and Data Types are as follows: ')\n",
    "movies_data.info()\n",
    "print('-'*100)"
   ]
  },
  {
   "cell_type": "code",
   "execution_count": 7,
   "id": "bcb246a9",
   "metadata": {},
   "outputs": [
    {
     "name": "stdout",
     "output_type": "stream",
     "text": [
      "We have 8 numerical features : ['index', 'budget', 'id', 'popularity', 'revenue', 'runtime', 'vote_average', 'vote_count']\n",
      "\n",
      "We have 16 categorical features : ['genres', 'homepage', 'keywords', 'original_language', 'original_title', 'overview', 'production_companies', 'production_countries', 'release_date', 'spoken_languages', 'status', 'tagline', 'title', 'cast', 'crew', 'director']\n"
     ]
    }
   ],
   "source": [
    "# Defining numerical & categorical columns\n",
    "numeric_features = [feature for feature in movies_data.columns if movies_data[feature].dtype != 'O']\n",
    "categorical_features = [feature for feature in movies_data.columns if movies_data[feature].dtype == 'O']\n",
    "\n",
    "# print columns\n",
    "print('We have {} numerical features : {}'.format(len(numeric_features), numeric_features))\n",
    "print('\\nWe have {} categorical features : {}'.format(len(categorical_features), categorical_features))"
   ]
  },
  {
   "cell_type": "code",
   "execution_count": 8,
   "id": "acf59531",
   "metadata": {},
   "outputs": [
    {
     "name": "stdout",
     "output_type": "stream",
     "text": [
      "Missing Value Presence in different columns of DataFrame are as follows : \n",
      "----------------------------------------------------------------------------------------------------\n"
     ]
    },
    {
     "data": {
      "text/html": [
       "<div>\n",
       "<style scoped>\n",
       "    .dataframe tbody tr th:only-of-type {\n",
       "        vertical-align: middle;\n",
       "    }\n",
       "\n",
       "    .dataframe tbody tr th {\n",
       "        vertical-align: top;\n",
       "    }\n",
       "\n",
       "    .dataframe thead th {\n",
       "        text-align: right;\n",
       "    }\n",
       "</style>\n",
       "<table border=\"1\" class=\"dataframe\">\n",
       "  <thead>\n",
       "    <tr style=\"text-align: right;\">\n",
       "      <th></th>\n",
       "      <th>Total</th>\n",
       "      <th>Percent</th>\n",
       "    </tr>\n",
       "  </thead>\n",
       "  <tbody>\n",
       "    <tr>\n",
       "      <th>homepage</th>\n",
       "      <td>3091</td>\n",
       "      <td>64.355611</td>\n",
       "    </tr>\n",
       "    <tr>\n",
       "      <th>tagline</th>\n",
       "      <td>844</td>\n",
       "      <td>17.572351</td>\n",
       "    </tr>\n",
       "    <tr>\n",
       "      <th>keywords</th>\n",
       "      <td>412</td>\n",
       "      <td>8.577972</td>\n",
       "    </tr>\n",
       "    <tr>\n",
       "      <th>cast</th>\n",
       "      <td>43</td>\n",
       "      <td>0.895274</td>\n",
       "    </tr>\n",
       "    <tr>\n",
       "      <th>director</th>\n",
       "      <td>30</td>\n",
       "      <td>0.624610</td>\n",
       "    </tr>\n",
       "    <tr>\n",
       "      <th>genres</th>\n",
       "      <td>28</td>\n",
       "      <td>0.582969</td>\n",
       "    </tr>\n",
       "    <tr>\n",
       "      <th>overview</th>\n",
       "      <td>3</td>\n",
       "      <td>0.062461</td>\n",
       "    </tr>\n",
       "    <tr>\n",
       "      <th>runtime</th>\n",
       "      <td>2</td>\n",
       "      <td>0.041641</td>\n",
       "    </tr>\n",
       "    <tr>\n",
       "      <th>release_date</th>\n",
       "      <td>1</td>\n",
       "      <td>0.020820</td>\n",
       "    </tr>\n",
       "    <tr>\n",
       "      <th>popularity</th>\n",
       "      <td>0</td>\n",
       "      <td>0.000000</td>\n",
       "    </tr>\n",
       "    <tr>\n",
       "      <th>production_companies</th>\n",
       "      <td>0</td>\n",
       "      <td>0.000000</td>\n",
       "    </tr>\n",
       "    <tr>\n",
       "      <th>production_countries</th>\n",
       "      <td>0</td>\n",
       "      <td>0.000000</td>\n",
       "    </tr>\n",
       "    <tr>\n",
       "      <th>budget</th>\n",
       "      <td>0</td>\n",
       "      <td>0.000000</td>\n",
       "    </tr>\n",
       "    <tr>\n",
       "      <th>revenue</th>\n",
       "      <td>0</td>\n",
       "      <td>0.000000</td>\n",
       "    </tr>\n",
       "    <tr>\n",
       "      <th>original_title</th>\n",
       "      <td>0</td>\n",
       "      <td>0.000000</td>\n",
       "    </tr>\n",
       "    <tr>\n",
       "      <th>spoken_languages</th>\n",
       "      <td>0</td>\n",
       "      <td>0.000000</td>\n",
       "    </tr>\n",
       "    <tr>\n",
       "      <th>status</th>\n",
       "      <td>0</td>\n",
       "      <td>0.000000</td>\n",
       "    </tr>\n",
       "    <tr>\n",
       "      <th>original_language</th>\n",
       "      <td>0</td>\n",
       "      <td>0.000000</td>\n",
       "    </tr>\n",
       "    <tr>\n",
       "      <th>title</th>\n",
       "      <td>0</td>\n",
       "      <td>0.000000</td>\n",
       "    </tr>\n",
       "    <tr>\n",
       "      <th>vote_average</th>\n",
       "      <td>0</td>\n",
       "      <td>0.000000</td>\n",
       "    </tr>\n",
       "    <tr>\n",
       "      <th>vote_count</th>\n",
       "      <td>0</td>\n",
       "      <td>0.000000</td>\n",
       "    </tr>\n",
       "    <tr>\n",
       "      <th>id</th>\n",
       "      <td>0</td>\n",
       "      <td>0.000000</td>\n",
       "    </tr>\n",
       "    <tr>\n",
       "      <th>crew</th>\n",
       "      <td>0</td>\n",
       "      <td>0.000000</td>\n",
       "    </tr>\n",
       "    <tr>\n",
       "      <th>index</th>\n",
       "      <td>0</td>\n",
       "      <td>0.000000</td>\n",
       "    </tr>\n",
       "  </tbody>\n",
       "</table>\n",
       "</div>"
      ],
      "text/plain": [
       "                      Total    Percent\n",
       "homepage               3091  64.355611\n",
       "tagline                 844  17.572351\n",
       "keywords                412   8.577972\n",
       "cast                     43   0.895274\n",
       "director                 30   0.624610\n",
       "genres                   28   0.582969\n",
       "overview                  3   0.062461\n",
       "runtime                   2   0.041641\n",
       "release_date              1   0.020820\n",
       "popularity                0   0.000000\n",
       "production_companies      0   0.000000\n",
       "production_countries      0   0.000000\n",
       "budget                    0   0.000000\n",
       "revenue                   0   0.000000\n",
       "original_title            0   0.000000\n",
       "spoken_languages          0   0.000000\n",
       "status                    0   0.000000\n",
       "original_language         0   0.000000\n",
       "title                     0   0.000000\n",
       "vote_average              0   0.000000\n",
       "vote_count                0   0.000000\n",
       "id                        0   0.000000\n",
       "crew                      0   0.000000\n",
       "index                     0   0.000000"
      ]
     },
     "execution_count": 8,
     "metadata": {},
     "output_type": "execute_result"
    }
   ],
   "source": [
    "print('Missing Value Presence in different columns of DataFrame are as follows : ')\n",
    "print('-'*100)\n",
    "total=movies_data.isnull().sum().sort_values(ascending=False)\n",
    "percent=(movies_data.isnull().sum()/movies_data.isnull().count()*100).sort_values(ascending=False)\n",
    "pd.concat([total, percent], axis=1, keys=['Total', 'Percent'])"
   ]
  },
  {
   "cell_type": "code",
   "execution_count": 9,
   "id": "29ac5f9d",
   "metadata": {},
   "outputs": [
    {
     "name": "stdout",
     "output_type": "stream",
     "text": [
      "Summary Statistics of numerical features for DataFrame are as follows:\n",
      "----------------------------------------------------------------------------------------------------\n"
     ]
    },
    {
     "data": {
      "text/html": [
       "<div>\n",
       "<style scoped>\n",
       "    .dataframe tbody tr th:only-of-type {\n",
       "        vertical-align: middle;\n",
       "    }\n",
       "\n",
       "    .dataframe tbody tr th {\n",
       "        vertical-align: top;\n",
       "    }\n",
       "\n",
       "    .dataframe thead th {\n",
       "        text-align: right;\n",
       "    }\n",
       "</style>\n",
       "<table border=\"1\" class=\"dataframe\">\n",
       "  <thead>\n",
       "    <tr style=\"text-align: right;\">\n",
       "      <th></th>\n",
       "      <th>index</th>\n",
       "      <th>budget</th>\n",
       "      <th>id</th>\n",
       "      <th>popularity</th>\n",
       "      <th>revenue</th>\n",
       "      <th>runtime</th>\n",
       "      <th>vote_average</th>\n",
       "      <th>vote_count</th>\n",
       "    </tr>\n",
       "  </thead>\n",
       "  <tbody>\n",
       "    <tr>\n",
       "      <th>count</th>\n",
       "      <td>4803.000000</td>\n",
       "      <td>4.803000e+03</td>\n",
       "      <td>4803.000000</td>\n",
       "      <td>4803.000000</td>\n",
       "      <td>4.803000e+03</td>\n",
       "      <td>4801.000000</td>\n",
       "      <td>4803.000000</td>\n",
       "      <td>4803.000000</td>\n",
       "    </tr>\n",
       "    <tr>\n",
       "      <th>mean</th>\n",
       "      <td>2401.000000</td>\n",
       "      <td>2.904504e+07</td>\n",
       "      <td>57165.484281</td>\n",
       "      <td>21.492301</td>\n",
       "      <td>8.226064e+07</td>\n",
       "      <td>106.875859</td>\n",
       "      <td>6.092172</td>\n",
       "      <td>690.217989</td>\n",
       "    </tr>\n",
       "    <tr>\n",
       "      <th>std</th>\n",
       "      <td>1386.651002</td>\n",
       "      <td>4.072239e+07</td>\n",
       "      <td>88694.614033</td>\n",
       "      <td>31.816650</td>\n",
       "      <td>1.628571e+08</td>\n",
       "      <td>22.611935</td>\n",
       "      <td>1.194612</td>\n",
       "      <td>1234.585891</td>\n",
       "    </tr>\n",
       "    <tr>\n",
       "      <th>min</th>\n",
       "      <td>0.000000</td>\n",
       "      <td>0.000000e+00</td>\n",
       "      <td>5.000000</td>\n",
       "      <td>0.000000</td>\n",
       "      <td>0.000000e+00</td>\n",
       "      <td>0.000000</td>\n",
       "      <td>0.000000</td>\n",
       "      <td>0.000000</td>\n",
       "    </tr>\n",
       "    <tr>\n",
       "      <th>25%</th>\n",
       "      <td>1200.500000</td>\n",
       "      <td>7.900000e+05</td>\n",
       "      <td>9014.500000</td>\n",
       "      <td>4.668070</td>\n",
       "      <td>0.000000e+00</td>\n",
       "      <td>94.000000</td>\n",
       "      <td>5.600000</td>\n",
       "      <td>54.000000</td>\n",
       "    </tr>\n",
       "    <tr>\n",
       "      <th>50%</th>\n",
       "      <td>2401.000000</td>\n",
       "      <td>1.500000e+07</td>\n",
       "      <td>14629.000000</td>\n",
       "      <td>12.921594</td>\n",
       "      <td>1.917000e+07</td>\n",
       "      <td>103.000000</td>\n",
       "      <td>6.200000</td>\n",
       "      <td>235.000000</td>\n",
       "    </tr>\n",
       "    <tr>\n",
       "      <th>75%</th>\n",
       "      <td>3601.500000</td>\n",
       "      <td>4.000000e+07</td>\n",
       "      <td>58610.500000</td>\n",
       "      <td>28.313505</td>\n",
       "      <td>9.291719e+07</td>\n",
       "      <td>118.000000</td>\n",
       "      <td>6.800000</td>\n",
       "      <td>737.000000</td>\n",
       "    </tr>\n",
       "    <tr>\n",
       "      <th>max</th>\n",
       "      <td>4802.000000</td>\n",
       "      <td>3.800000e+08</td>\n",
       "      <td>459488.000000</td>\n",
       "      <td>875.581305</td>\n",
       "      <td>2.787965e+09</td>\n",
       "      <td>338.000000</td>\n",
       "      <td>10.000000</td>\n",
       "      <td>13752.000000</td>\n",
       "    </tr>\n",
       "  </tbody>\n",
       "</table>\n",
       "</div>"
      ],
      "text/plain": [
       "             index        budget             id   popularity       revenue   \n",
       "count  4803.000000  4.803000e+03    4803.000000  4803.000000  4.803000e+03  \\\n",
       "mean   2401.000000  2.904504e+07   57165.484281    21.492301  8.226064e+07   \n",
       "std    1386.651002  4.072239e+07   88694.614033    31.816650  1.628571e+08   \n",
       "min       0.000000  0.000000e+00       5.000000     0.000000  0.000000e+00   \n",
       "25%    1200.500000  7.900000e+05    9014.500000     4.668070  0.000000e+00   \n",
       "50%    2401.000000  1.500000e+07   14629.000000    12.921594  1.917000e+07   \n",
       "75%    3601.500000  4.000000e+07   58610.500000    28.313505  9.291719e+07   \n",
       "max    4802.000000  3.800000e+08  459488.000000   875.581305  2.787965e+09   \n",
       "\n",
       "           runtime  vote_average    vote_count  \n",
       "count  4801.000000   4803.000000   4803.000000  \n",
       "mean    106.875859      6.092172    690.217989  \n",
       "std      22.611935      1.194612   1234.585891  \n",
       "min       0.000000      0.000000      0.000000  \n",
       "25%      94.000000      5.600000     54.000000  \n",
       "50%     103.000000      6.200000    235.000000  \n",
       "75%     118.000000      6.800000    737.000000  \n",
       "max     338.000000     10.000000  13752.000000  "
      ]
     },
     "execution_count": 9,
     "metadata": {},
     "output_type": "execute_result"
    }
   ],
   "source": [
    "print('Summary Statistics of numerical features for DataFrame are as follows:')\n",
    "print('-'*100)\n",
    "movies_data.describe()"
   ]
  },
  {
   "cell_type": "code",
   "execution_count": 10,
   "id": "7c1f989c",
   "metadata": {},
   "outputs": [
    {
     "name": "stdout",
     "output_type": "stream",
     "text": [
      "Summary Statistics of categorical features for DataFrame are as follows:\n",
      "----------------------------------------------------------------------------------------------------\n"
     ]
    },
    {
     "data": {
      "text/html": [
       "<div>\n",
       "<style scoped>\n",
       "    .dataframe tbody tr th:only-of-type {\n",
       "        vertical-align: middle;\n",
       "    }\n",
       "\n",
       "    .dataframe tbody tr th {\n",
       "        vertical-align: top;\n",
       "    }\n",
       "\n",
       "    .dataframe thead th {\n",
       "        text-align: right;\n",
       "    }\n",
       "</style>\n",
       "<table border=\"1\" class=\"dataframe\">\n",
       "  <thead>\n",
       "    <tr style=\"text-align: right;\">\n",
       "      <th></th>\n",
       "      <th>genres</th>\n",
       "      <th>homepage</th>\n",
       "      <th>keywords</th>\n",
       "      <th>original_language</th>\n",
       "      <th>original_title</th>\n",
       "      <th>overview</th>\n",
       "      <th>production_companies</th>\n",
       "      <th>production_countries</th>\n",
       "      <th>release_date</th>\n",
       "      <th>spoken_languages</th>\n",
       "      <th>status</th>\n",
       "      <th>tagline</th>\n",
       "      <th>title</th>\n",
       "      <th>cast</th>\n",
       "      <th>crew</th>\n",
       "      <th>director</th>\n",
       "    </tr>\n",
       "  </thead>\n",
       "  <tbody>\n",
       "    <tr>\n",
       "      <th>count</th>\n",
       "      <td>4775</td>\n",
       "      <td>1712</td>\n",
       "      <td>4391</td>\n",
       "      <td>4803</td>\n",
       "      <td>4803</td>\n",
       "      <td>4800</td>\n",
       "      <td>4803</td>\n",
       "      <td>4803</td>\n",
       "      <td>4802</td>\n",
       "      <td>4803</td>\n",
       "      <td>4803</td>\n",
       "      <td>3959</td>\n",
       "      <td>4803</td>\n",
       "      <td>4760</td>\n",
       "      <td>4803</td>\n",
       "      <td>4773</td>\n",
       "    </tr>\n",
       "    <tr>\n",
       "      <th>unique</th>\n",
       "      <td>1168</td>\n",
       "      <td>1691</td>\n",
       "      <td>4219</td>\n",
       "      <td>37</td>\n",
       "      <td>4801</td>\n",
       "      <td>4800</td>\n",
       "      <td>3697</td>\n",
       "      <td>469</td>\n",
       "      <td>3280</td>\n",
       "      <td>544</td>\n",
       "      <td>3</td>\n",
       "      <td>3944</td>\n",
       "      <td>4800</td>\n",
       "      <td>4741</td>\n",
       "      <td>4776</td>\n",
       "      <td>2349</td>\n",
       "    </tr>\n",
       "    <tr>\n",
       "      <th>top</th>\n",
       "      <td>Drama</td>\n",
       "      <td>http://www.missionimpossible.com/</td>\n",
       "      <td>independent film</td>\n",
       "      <td>en</td>\n",
       "      <td>Out of the Blue</td>\n",
       "      <td>In the 22nd century, a paraplegic Marine is di...</td>\n",
       "      <td>[]</td>\n",
       "      <td>[{\"iso_3166_1\": \"US\", \"name\": \"United States o...</td>\n",
       "      <td>2006-01-01</td>\n",
       "      <td>[{\"iso_639_1\": \"en\", \"name\": \"English\"}]</td>\n",
       "      <td>Released</td>\n",
       "      <td>Based on a true story.</td>\n",
       "      <td>The Host</td>\n",
       "      <td>William Shatner Leonard Nimoy DeForest Kelley ...</td>\n",
       "      <td>[]</td>\n",
       "      <td>Steven Spielberg</td>\n",
       "    </tr>\n",
       "    <tr>\n",
       "      <th>freq</th>\n",
       "      <td>370</td>\n",
       "      <td>4</td>\n",
       "      <td>55</td>\n",
       "      <td>4505</td>\n",
       "      <td>2</td>\n",
       "      <td>1</td>\n",
       "      <td>351</td>\n",
       "      <td>2977</td>\n",
       "      <td>10</td>\n",
       "      <td>3171</td>\n",
       "      <td>4795</td>\n",
       "      <td>3</td>\n",
       "      <td>2</td>\n",
       "      <td>6</td>\n",
       "      <td>28</td>\n",
       "      <td>27</td>\n",
       "    </tr>\n",
       "  </tbody>\n",
       "</table>\n",
       "</div>"
      ],
      "text/plain": [
       "       genres                           homepage          keywords   \n",
       "count    4775                               1712              4391  \\\n",
       "unique   1168                               1691              4219   \n",
       "top     Drama  http://www.missionimpossible.com/  independent film   \n",
       "freq      370                                  4                55   \n",
       "\n",
       "       original_language   original_title   \n",
       "count               4803             4803  \\\n",
       "unique                37             4801   \n",
       "top                   en  Out of the Blue   \n",
       "freq                4505                2   \n",
       "\n",
       "                                                 overview   \n",
       "count                                                4800  \\\n",
       "unique                                               4800   \n",
       "top     In the 22nd century, a paraplegic Marine is di...   \n",
       "freq                                                    1   \n",
       "\n",
       "       production_companies   \n",
       "count                  4803  \\\n",
       "unique                 3697   \n",
       "top                      []   \n",
       "freq                    351   \n",
       "\n",
       "                                     production_countries release_date   \n",
       "count                                                4803         4802  \\\n",
       "unique                                                469         3280   \n",
       "top     [{\"iso_3166_1\": \"US\", \"name\": \"United States o...   2006-01-01   \n",
       "freq                                                 2977           10   \n",
       "\n",
       "                                spoken_languages    status   \n",
       "count                                       4803      4803  \\\n",
       "unique                                       544         3   \n",
       "top     [{\"iso_639_1\": \"en\", \"name\": \"English\"}]  Released   \n",
       "freq                                        3171      4795   \n",
       "\n",
       "                       tagline     title   \n",
       "count                     3959      4803  \\\n",
       "unique                    3944      4800   \n",
       "top     Based on a true story.  The Host   \n",
       "freq                         3         2   \n",
       "\n",
       "                                                     cast  crew   \n",
       "count                                                4760  4803  \\\n",
       "unique                                               4741  4776   \n",
       "top     William Shatner Leonard Nimoy DeForest Kelley ...    []   \n",
       "freq                                                    6    28   \n",
       "\n",
       "                director  \n",
       "count               4773  \n",
       "unique              2349  \n",
       "top     Steven Spielberg  \n",
       "freq                  27  "
      ]
     },
     "execution_count": 10,
     "metadata": {},
     "output_type": "execute_result"
    }
   ],
   "source": [
    "print('Summary Statistics of categorical features for DataFrame are as follows:')\n",
    "print('-'*100)\n",
    "movies_data.describe(include='object')"
   ]
  },
  {
   "cell_type": "markdown",
   "id": "0e65aa97",
   "metadata": {},
   "source": [
    "## 5) Data Cleaning and Preprocessing\n",
    "---"
   ]
  },
  {
   "cell_type": "markdown",
   "id": "1b359f6a",
   "metadata": {},
   "source": [
    "### Selecting the relevant features for recommendation"
   ]
  },
  {
   "cell_type": "code",
   "execution_count": 11,
   "id": "9b3dbbe3",
   "metadata": {},
   "outputs": [
    {
     "data": {
      "text/plain": [
       "['genres', 'keywords', 'tagline', 'cast', 'director']"
      ]
     },
     "execution_count": 11,
     "metadata": {},
     "output_type": "execute_result"
    }
   ],
   "source": [
    "selected_features = ['genres','keywords','tagline','cast','director']\n",
    "selected_features"
   ]
  },
  {
   "cell_type": "markdown",
   "id": "076feaf9",
   "metadata": {},
   "source": [
    "### Replace the null values with a null string in selected features"
   ]
  },
  {
   "cell_type": "code",
   "execution_count": 12,
   "id": "9e4da231",
   "metadata": {},
   "outputs": [],
   "source": [
    "for feature in selected_features:\n",
    "    movies_data[feature] = movies_data[feature].fillna('')"
   ]
  },
  {
   "cell_type": "code",
   "execution_count": 13,
   "id": "e7ccc578",
   "metadata": {},
   "outputs": [
    {
     "name": "stdout",
     "output_type": "stream",
     "text": [
      "Missing Value Presence in different columns of DataFrame are as follows : \n",
      "----------------------------------------------------------------------------------------------------\n"
     ]
    },
    {
     "data": {
      "text/html": [
       "<div>\n",
       "<style scoped>\n",
       "    .dataframe tbody tr th:only-of-type {\n",
       "        vertical-align: middle;\n",
       "    }\n",
       "\n",
       "    .dataframe tbody tr th {\n",
       "        vertical-align: top;\n",
       "    }\n",
       "\n",
       "    .dataframe thead th {\n",
       "        text-align: right;\n",
       "    }\n",
       "</style>\n",
       "<table border=\"1\" class=\"dataframe\">\n",
       "  <thead>\n",
       "    <tr style=\"text-align: right;\">\n",
       "      <th></th>\n",
       "      <th>Total</th>\n",
       "      <th>Percent</th>\n",
       "    </tr>\n",
       "  </thead>\n",
       "  <tbody>\n",
       "    <tr>\n",
       "      <th>homepage</th>\n",
       "      <td>3091</td>\n",
       "      <td>64.355611</td>\n",
       "    </tr>\n",
       "    <tr>\n",
       "      <th>overview</th>\n",
       "      <td>3</td>\n",
       "      <td>0.062461</td>\n",
       "    </tr>\n",
       "    <tr>\n",
       "      <th>runtime</th>\n",
       "      <td>2</td>\n",
       "      <td>0.041641</td>\n",
       "    </tr>\n",
       "    <tr>\n",
       "      <th>release_date</th>\n",
       "      <td>1</td>\n",
       "      <td>0.020820</td>\n",
       "    </tr>\n",
       "    <tr>\n",
       "      <th>revenue</th>\n",
       "      <td>0</td>\n",
       "      <td>0.000000</td>\n",
       "    </tr>\n",
       "    <tr>\n",
       "      <th>crew</th>\n",
       "      <td>0</td>\n",
       "      <td>0.000000</td>\n",
       "    </tr>\n",
       "    <tr>\n",
       "      <th>cast</th>\n",
       "      <td>0</td>\n",
       "      <td>0.000000</td>\n",
       "    </tr>\n",
       "    <tr>\n",
       "      <th>vote_count</th>\n",
       "      <td>0</td>\n",
       "      <td>0.000000</td>\n",
       "    </tr>\n",
       "    <tr>\n",
       "      <th>vote_average</th>\n",
       "      <td>0</td>\n",
       "      <td>0.000000</td>\n",
       "    </tr>\n",
       "    <tr>\n",
       "      <th>title</th>\n",
       "      <td>0</td>\n",
       "      <td>0.000000</td>\n",
       "    </tr>\n",
       "    <tr>\n",
       "      <th>tagline</th>\n",
       "      <td>0</td>\n",
       "      <td>0.000000</td>\n",
       "    </tr>\n",
       "    <tr>\n",
       "      <th>status</th>\n",
       "      <td>0</td>\n",
       "      <td>0.000000</td>\n",
       "    </tr>\n",
       "    <tr>\n",
       "      <th>spoken_languages</th>\n",
       "      <td>0</td>\n",
       "      <td>0.000000</td>\n",
       "    </tr>\n",
       "    <tr>\n",
       "      <th>index</th>\n",
       "      <td>0</td>\n",
       "      <td>0.000000</td>\n",
       "    </tr>\n",
       "    <tr>\n",
       "      <th>budget</th>\n",
       "      <td>0</td>\n",
       "      <td>0.000000</td>\n",
       "    </tr>\n",
       "    <tr>\n",
       "      <th>production_countries</th>\n",
       "      <td>0</td>\n",
       "      <td>0.000000</td>\n",
       "    </tr>\n",
       "    <tr>\n",
       "      <th>production_companies</th>\n",
       "      <td>0</td>\n",
       "      <td>0.000000</td>\n",
       "    </tr>\n",
       "    <tr>\n",
       "      <th>popularity</th>\n",
       "      <td>0</td>\n",
       "      <td>0.000000</td>\n",
       "    </tr>\n",
       "    <tr>\n",
       "      <th>original_title</th>\n",
       "      <td>0</td>\n",
       "      <td>0.000000</td>\n",
       "    </tr>\n",
       "    <tr>\n",
       "      <th>original_language</th>\n",
       "      <td>0</td>\n",
       "      <td>0.000000</td>\n",
       "    </tr>\n",
       "    <tr>\n",
       "      <th>keywords</th>\n",
       "      <td>0</td>\n",
       "      <td>0.000000</td>\n",
       "    </tr>\n",
       "    <tr>\n",
       "      <th>id</th>\n",
       "      <td>0</td>\n",
       "      <td>0.000000</td>\n",
       "    </tr>\n",
       "    <tr>\n",
       "      <th>genres</th>\n",
       "      <td>0</td>\n",
       "      <td>0.000000</td>\n",
       "    </tr>\n",
       "    <tr>\n",
       "      <th>director</th>\n",
       "      <td>0</td>\n",
       "      <td>0.000000</td>\n",
       "    </tr>\n",
       "  </tbody>\n",
       "</table>\n",
       "</div>"
      ],
      "text/plain": [
       "                      Total    Percent\n",
       "homepage               3091  64.355611\n",
       "overview                  3   0.062461\n",
       "runtime                   2   0.041641\n",
       "release_date              1   0.020820\n",
       "revenue                   0   0.000000\n",
       "crew                      0   0.000000\n",
       "cast                      0   0.000000\n",
       "vote_count                0   0.000000\n",
       "vote_average              0   0.000000\n",
       "title                     0   0.000000\n",
       "tagline                   0   0.000000\n",
       "status                    0   0.000000\n",
       "spoken_languages          0   0.000000\n",
       "index                     0   0.000000\n",
       "budget                    0   0.000000\n",
       "production_countries      0   0.000000\n",
       "production_companies      0   0.000000\n",
       "popularity                0   0.000000\n",
       "original_title            0   0.000000\n",
       "original_language         0   0.000000\n",
       "keywords                  0   0.000000\n",
       "id                        0   0.000000\n",
       "genres                    0   0.000000\n",
       "director                  0   0.000000"
      ]
     },
     "execution_count": 13,
     "metadata": {},
     "output_type": "execute_result"
    }
   ],
   "source": [
    "print('Missing Value Presence in different columns of DataFrame are as follows : ')\n",
    "print('-'*100)\n",
    "total=movies_data.isnull().sum().sort_values(ascending=False)\n",
    "percent=(movies_data.isnull().sum()/movies_data.isnull().count()*100).sort_values(ascending=False)\n",
    "pd.concat([total, percent], axis=1, keys=['Total', 'Percent'])"
   ]
  },
  {
   "cell_type": "markdown",
   "id": "3cfafe1a",
   "metadata": {},
   "source": [
    "### Combining all the 5 selected features"
   ]
  },
  {
   "cell_type": "code",
   "execution_count": 14,
   "id": "3f96ce19",
   "metadata": {},
   "outputs": [],
   "source": [
    "combined_features = movies_data['genres']+' '+movies_data['keywords']+' '+movies_data['tagline']+' '+movies_data['cast']+' '+movies_data['director']"
   ]
  },
  {
   "cell_type": "code",
   "execution_count": 15,
   "id": "cae282df",
   "metadata": {},
   "outputs": [
    {
     "data": {
      "text/plain": [
       "0       Action Adventure Fantasy Science Fiction cultu...\n",
       "1       Adventure Fantasy Action ocean drug abuse exot...\n",
       "2       Action Adventure Crime spy based on novel secr...\n",
       "3       Action Crime Drama Thriller dc comics crime fi...\n",
       "4       Action Adventure Science Fiction based on nove...\n",
       "                              ...                        \n",
       "4798    Action Crime Thriller united states\\u2013mexic...\n",
       "4799    Comedy Romance  A newlywed couple's honeymoon ...\n",
       "4800    Comedy Drama Romance TV Movie date love at fir...\n",
       "4801      A New Yorker in Shanghai Daniel Henney Eliza...\n",
       "4802    Documentary obsession camcorder crush dream gi...\n",
       "Length: 4803, dtype: object"
      ]
     },
     "execution_count": 15,
     "metadata": {},
     "output_type": "execute_result"
    }
   ],
   "source": [
    "combined_features"
   ]
  },
  {
   "cell_type": "markdown",
   "id": "2a3f2a0e",
   "metadata": {},
   "source": [
    "### Stemming"
   ]
  },
  {
   "cell_type": "code",
   "execution_count": 16,
   "id": "4802d9a9",
   "metadata": {},
   "outputs": [],
   "source": [
    "porter_stemmer = PorterStemmer()"
   ]
  },
  {
   "cell_type": "code",
   "execution_count": 17,
   "id": "e06b399b",
   "metadata": {},
   "outputs": [],
   "source": [
    "def stemming(content):\n",
    "    stemmed_content = re.sub('[^a-zA-Z]',' ',content)\n",
    "    stemmed_content = stemmed_content.lower()\n",
    "    stemmed_content = stemmed_content.split()\n",
    "    stemmed_content = [porter_stemmer.stem(word) for word in stemmed_content if not word in stopwords.words('english')]\n",
    "    stemmed_content = ' '.join(stemmed_content)\n",
    "    return stemmed_content"
   ]
  },
  {
   "cell_type": "code",
   "execution_count": 18,
   "id": "e05a52ed",
   "metadata": {},
   "outputs": [],
   "source": [
    "combined_features = combined_features.apply(stemming)"
   ]
  },
  {
   "cell_type": "code",
   "execution_count": 19,
   "id": "0c9a4b0e",
   "metadata": {},
   "outputs": [
    {
     "data": {
      "text/plain": [
       "0       action adventur fantasi scienc fiction cultur ...\n",
       "1       adventur fantasi action ocean drug abus exot i...\n",
       "2       action adventur crime spi base novel secret ag...\n",
       "3       action crime drama thriller dc comic crime fig...\n",
       "4       action adventur scienc fiction base novel mar ...\n",
       "                              ...                        \n",
       "4798    action crime thriller unit state u mexico barr...\n",
       "4799    comedi romanc newlyw coupl honeymoon upend arr...\n",
       "4800    comedi drama romanc tv movi date love first si...\n",
       "4801    new yorker shanghai daniel henney eliza coup b...\n",
       "4802    documentari obsess camcord crush dream girl dr...\n",
       "Length: 4803, dtype: object"
      ]
     },
     "execution_count": 19,
     "metadata": {},
     "output_type": "execute_result"
    }
   ],
   "source": [
    "combined_features"
   ]
  },
  {
   "cell_type": "markdown",
   "id": "0a135fb7",
   "metadata": {},
   "source": [
    "## 6) Model Building\n",
    "---"
   ]
  },
  {
   "cell_type": "markdown",
   "id": "480cb1e2",
   "metadata": {},
   "source": [
    "### Feature Extraction"
   ]
  },
  {
   "cell_type": "markdown",
   "id": "982c48d8",
   "metadata": {},
   "source": [
    "#### Transform the text data to feature vectors that can be used as input to the Logistic regression"
   ]
  },
  {
   "cell_type": "code",
   "execution_count": 20,
   "id": "9c4eaf13",
   "metadata": {},
   "outputs": [],
   "source": [
    "vectorizer = TfidfVectorizer()"
   ]
  },
  {
   "cell_type": "code",
   "execution_count": 21,
   "id": "99b327c5",
   "metadata": {},
   "outputs": [],
   "source": [
    "vectorizer.fit(combined_features)\n",
    "\n",
    "combined_features = vectorizer.transform(combined_features)"
   ]
  },
  {
   "cell_type": "code",
   "execution_count": 22,
   "id": "fab30fe3",
   "metadata": {},
   "outputs": [
    {
     "data": {
      "text/plain": [
       "<4803x15165 sparse matrix of type '<class 'numpy.float64'>'\n",
       "\twith 110399 stored elements in Compressed Sparse Row format>"
      ]
     },
     "execution_count": 22,
     "metadata": {},
     "output_type": "execute_result"
    }
   ],
   "source": [
    "combined_features"
   ]
  },
  {
   "cell_type": "code",
   "execution_count": 23,
   "id": "239a1565",
   "metadata": {},
   "outputs": [
    {
     "name": "stdout",
     "output_type": "stream",
     "text": [
      "  (0, 15139)\t0.2052522310553095\n",
      "  (0, 14871)\t0.24026470377934847\n",
      "  (0, 14863)\t0.12875501676155404\n",
      "  (0, 14587)\t0.20164827377007877\n",
      "  (0, 14523)\t0.12740774864377094\n",
      "  (0, 13033)\t0.15213516971481178\n",
      "  (0, 12829)\t0.34513124291779446\n",
      "  (0, 12728)\t0.21738843062624963\n",
      "  (0, 12549)\t0.20929853505545373\n",
      "  (0, 12131)\t0.1053209249350964\n",
      "  (0, 11900)\t0.15264686191548815\n",
      "  (0, 11874)\t0.22127568137478468\n",
      "  (0, 11596)\t0.19738383622085057\n",
      "  (0, 10240)\t0.27652273888326423\n",
      "  (0, 9066)\t0.15239002415366618\n",
      "  (0, 7728)\t0.2052522310553095\n",
      "  (0, 6793)\t0.11463157223101918\n",
      "  (0, 5083)\t0.16734367774450565\n",
      "  (0, 4735)\t0.10471198725789553\n",
      "  (0, 4580)\t0.11273156644207886\n",
      "  (0, 4305)\t0.24415195452788352\n",
      "  (0, 3161)\t0.21560402385508065\n",
      "  (0, 2782)\t0.24855895595249378\n",
      "  (0, 2641)\t0.22568268279939493\n",
      "  (0, 2071)\t0.17552313506858697\n",
      "  :\t:\n",
      "  (4801, 10378)\t0.22124713594289835\n",
      "  (4801, 9715)\t0.1385948353997998\n",
      "  (4801, 6372)\t0.31053778940920307\n",
      "  (4801, 6077)\t0.2962036112137938\n",
      "  (4801, 4209)\t0.2536402429374028\n",
      "  (4801, 3268)\t0.3177192162620961\n",
      "  (4801, 3016)\t0.27169917173649794\n",
      "  (4801, 1385)\t0.15910258113774145\n",
      "  (4801, 240)\t0.18194026727478887\n",
      "  (4802, 11562)\t0.11482696747178847\n",
      "  (4802, 9938)\t0.18105158252683826\n",
      "  (4802, 6126)\t0.579556716654899\n",
      "  (4802, 5619)\t0.22117940046495074\n",
      "  (4802, 5384)\t0.17344680863612943\n",
      "  (4802, 4672)\t0.23354020966991715\n",
      "  (4802, 4335)\t0.1634748270359641\n",
      "  (4802, 3968)\t0.22117940046495074\n",
      "  (4802, 3896)\t0.19831308117745117\n",
      "  (4802, 3890)\t0.16241626160208383\n",
      "  (4802, 3756)\t0.15640163289469056\n",
      "  (4802, 3138)\t0.26691203903994987\n",
      "  (4802, 2952)\t0.22117940046495074\n",
      "  (4802, 2065)\t0.24404571975245032\n",
      "  (4802, 1798)\t0.315159882404215\n",
      "  (4802, 1065)\t0.1993604429686904\n"
     ]
    }
   ],
   "source": [
    "print(combined_features)"
   ]
  },
  {
   "cell_type": "markdown",
   "id": "501cb799",
   "metadata": {},
   "source": [
    "### Cosine Similarity"
   ]
  },
  {
   "cell_type": "markdown",
   "id": "2df8215c",
   "metadata": {},
   "source": [
    "#### Getting the similarity scores using cosine similarity"
   ]
  },
  {
   "cell_type": "code",
   "execution_count": 24,
   "id": "348e97ff",
   "metadata": {},
   "outputs": [],
   "source": [
    "similarity = cosine_similarity(combined_features)"
   ]
  },
  {
   "cell_type": "code",
   "execution_count": 25,
   "id": "3106ba27",
   "metadata": {},
   "outputs": [
    {
     "name": "stdout",
     "output_type": "stream",
     "text": [
      "[[1.         0.04757067 0.04209981 ... 0.         0.         0.        ]\n",
      " [0.04757067 1.         0.03791066 ... 0.01223813 0.         0.        ]\n",
      " [0.04209981 0.03791066 1.         ... 0.         0.0520925  0.        ]\n",
      " ...\n",
      " [0.         0.01223813 0.         ... 1.         0.         0.02762031]\n",
      " [0.         0.         0.0520925  ... 0.         1.         0.        ]\n",
      " [0.         0.         0.         ... 0.02762031 0.         1.        ]]\n"
     ]
    }
   ],
   "source": [
    "print(similarity)"
   ]
  },
  {
   "cell_type": "code",
   "execution_count": 26,
   "id": "c08d9f24",
   "metadata": {},
   "outputs": [
    {
     "data": {
      "text/plain": [
       "(4803, 4803)"
      ]
     },
     "execution_count": 26,
     "metadata": {},
     "output_type": "execute_result"
    }
   ],
   "source": [
    "similarity.shape"
   ]
  },
  {
   "cell_type": "markdown",
   "id": "398c71d4",
   "metadata": {},
   "source": [
    "### Movie Recommendation Systems Sub-Steps"
   ]
  },
  {
   "cell_type": "markdown",
   "id": "07ce7bcb",
   "metadata": {},
   "source": [
    "#### `Step-1` Getting Movie name from the User"
   ]
  },
  {
   "cell_type": "code",
   "execution_count": 37,
   "id": "67998045",
   "metadata": {},
   "outputs": [
    {
     "name": "stdout",
     "output_type": "stream",
     "text": [
      " Enter your favourite movie name : spider man\n"
     ]
    }
   ],
   "source": [
    "movie_name = input(' Enter your favourite movie name : ')"
   ]
  },
  {
   "cell_type": "markdown",
   "id": "ad51ab5c",
   "metadata": {},
   "source": [
    "#### `Step-2` Creating a list with all the movie names given in the dataset"
   ]
  },
  {
   "cell_type": "code",
   "execution_count": 38,
   "id": "b9a32d1e",
   "metadata": {},
   "outputs": [
    {
     "name": "stdout",
     "output_type": "stream",
     "text": [
      "['Avatar', \"Pirates of the Caribbean: At World's End\", 'Spectre', 'The Dark Knight Rises', 'John Carter', 'Spider-Man 3', 'Tangled', 'Avengers: Age of Ultron', 'Harry Potter and the Half-Blood Prince', 'Batman v Superman: Dawn of Justice', 'Superman Returns', 'Quantum of Solace', \"Pirates of the Caribbean: Dead Man's Chest\", 'The Lone Ranger', 'Man of Steel', 'The Chronicles of Narnia: Prince Caspian', 'The Avengers', 'Pirates of the Caribbean: On Stranger Tides', 'Men in Black 3', 'The Hobbit: The Battle of the Five Armies', 'The Amazing Spider-Man', 'Robin Hood', 'The Hobbit: The Desolation of Smaug', 'The Golden Compass', 'King Kong', 'Titanic', 'Captain America: Civil War', 'Battleship', 'Jurassic World', 'Skyfall', 'Spider-Man 2', 'Iron Man 3', 'Alice in Wonderland', 'X-Men: The Last Stand', 'Monsters University', 'Transformers: Revenge of the Fallen', 'Transformers: Age of Extinction', 'Oz: The Great and Powerful', 'The Amazing Spider-Man 2', 'TRON: Legacy', 'Cars 2', 'Green Lantern', 'Toy Story 3', 'Terminator Salvation', 'Furious 7', 'World War Z', 'X-Men: Days of Future Past', 'Star Trek Into Darkness', 'Jack the Giant Slayer', 'The Great Gatsby', 'Prince of Persia: The Sands of Time', 'Pacific Rim', 'Transformers: Dark of the Moon', 'Indiana Jones and the Kingdom of the Crystal Skull', 'The Good Dinosaur', 'Brave', 'Star Trek Beyond', 'WALL·E', 'Rush Hour 3', '2012', 'A Christmas Carol', 'Jupiter Ascending', 'The Legend of Tarzan', 'The Chronicles of Narnia: The Lion, the Witch and the Wardrobe', 'X-Men: Apocalypse', 'The Dark Knight', 'Up', 'Monsters vs Aliens', 'Iron Man', 'Hugo', 'Wild Wild West', 'The Mummy: Tomb of the Dragon Emperor', 'Suicide Squad', 'Evan Almighty', 'Edge of Tomorrow', 'Waterworld', 'G.I. Joe: The Rise of Cobra', 'Inside Out', 'The Jungle Book', 'Iron Man 2', 'Snow White and the Huntsman', 'Maleficent', 'Dawn of the Planet of the Apes', 'The Lovers', '47 Ronin', 'Captain America: The Winter Soldier', 'Shrek Forever After', 'Tomorrowland', 'Big Hero 6', 'Wreck-It Ralph', 'The Polar Express', 'Independence Day: Resurgence', 'How to Train Your Dragon', 'Terminator 3: Rise of the Machines', 'Guardians of the Galaxy', 'Interstellar', 'Inception', 'Shin Godzilla', 'The Hobbit: An Unexpected Journey', 'The Fast and the Furious', 'The Curious Case of Benjamin Button', 'X-Men: First Class', 'The Hunger Games: Mockingjay - Part 2', \"The Sorcerer's Apprentice\", 'Poseidon', 'Alice Through the Looking Glass', 'Shrek the Third', 'Warcraft', 'Terminator Genisys', 'The Chronicles of Narnia: The Voyage of the Dawn Treader', 'Pearl Harbor', 'Transformers', 'Alexander', 'Harry Potter and the Order of the Phoenix', 'Harry Potter and the Goblet of Fire', 'Hancock', 'I Am Legend', 'Charlie and the Chocolate Factory', 'Ratatouille', 'Batman Begins', 'Madagascar: Escape 2 Africa', 'Night at the Museum: Battle of the Smithsonian', 'X-Men Origins: Wolverine', 'The Matrix Revolutions', 'Frozen', 'The Matrix Reloaded', 'Thor: The Dark World', 'Mad Max: Fury Road', 'Angels & Demons', 'Thor', 'Bolt', 'G-Force', 'Wrath of the Titans', 'Dark Shadows', 'Mission: Impossible - Rogue Nation', 'The Wolfman', 'Bee Movie', 'Kung Fu Panda 2', 'The Last Airbender', 'Mission: Impossible III', 'White House Down', 'Mars Needs Moms', 'Flushed Away', 'Pan', 'Mr. Peabody & Sherman', 'Troy', \"Madagascar 3: Europe's Most Wanted\", 'Die Another Day', 'Ghostbusters', 'Armageddon', 'Men in Black II', 'Beowulf', 'Kung Fu Panda 3', 'Mission: Impossible - Ghost Protocol', 'Rise of the Guardians', 'Fun with Dick and Jane', 'The Last Samurai', 'Exodus: Gods and Kings', 'Star Trek', 'Spider-Man', 'How to Train Your Dragon 2', 'Gods of Egypt', 'Stealth', 'Watchmen', 'Lethal Weapon 4', 'Hulk', 'G.I. Joe: Retaliation', 'Sahara', 'Final Fantasy: The Spirits Within', 'Captain America: The First Avenger', 'The World Is Not Enough', 'Master and Commander: The Far Side of the World', 'The Twilight Saga: Breaking Dawn - Part 2', 'Happy Feet Two', 'The Incredible Hulk', 'The BFG', 'The Revenant', 'Turbo', 'Rango', 'Penguins of Madagascar', 'The Bourne Ultimatum', 'Kung Fu Panda', 'Ant-Man', 'The Hunger Games: Catching Fire', 'Home', 'War of the Worlds', 'Bad Boys II', 'Puss in Boots', 'Salt', 'Noah', 'The Adventures of Tintin', 'Harry Potter and the Prisoner of Azkaban', 'Australia', 'After Earth', 'Dinosaur', 'Night at the Museum: Secret of the Tomb', 'Megamind', \"Harry Potter and the Philosopher's Stone\", 'R.I.P.D.', 'Pirates of the Caribbean: The Curse of the Black Pearl', 'The Hunger Games: Mockingjay - Part 1', 'The Da Vinci Code', 'Rio 2', 'X2', 'Fast Five', 'Sherlock Holmes: A Game of Shadows', 'Clash of the Titans', 'Total Recall', 'The 13th Warrior', 'The Bourne Legacy', 'Batman & Robin', 'How the Grinch Stole Christmas', 'The Day After Tomorrow', 'Mission: Impossible II', 'The Perfect Storm', 'Fantastic 4: Rise of the Silver Surfer', 'Life of Pi', 'Ghost Rider', 'Jason Bourne', \"Charlie's Angels: Full Throttle\", 'Prometheus', 'Stuart Little 2', 'Elysium', 'The Chronicles of Riddick', 'RoboCop', 'Speed Racer', 'How Do You Know', 'Knight and Day', 'Oblivion', 'Star Wars: Episode III - Revenge of the Sith', 'Star Wars: Episode II - Attack of the Clones', 'Monsters, Inc.', 'The Wolverine', 'Star Wars: Episode I - The Phantom Menace', 'The Croods', 'Asterix at the Olympic Games', 'Windtalkers', \"The Huntsman: Winter's War\", 'Teenage Mutant Ninja Turtles', 'Gravity', \"Dante's Peak\", 'Teenage Mutant Ninja Turtles: Out of the Shadows', 'Fantastic Four', 'Night at the Museum', 'San Andreas', 'Tomorrow Never Dies', 'The Patriot', \"Ocean's Twelve\", 'Mr. & Mrs. Smith', 'Insurgent', 'The Aviator', \"Gulliver's Travels\", 'The Green Hornet', '300: Rise of an Empire', 'The Smurfs', 'Home on the Range', 'Allegiant', 'Real Steel', 'The Smurfs 2', 'Speed 2: Cruise Control', \"Ender's Game\", 'Live Free or Die Hard', 'The Lord of the Rings: The Fellowship of the Ring', 'Around the World in 80 Days', 'Ali', 'The Cat in the Hat', 'I, Robot', 'Kingdom of Heaven', 'Stuart Little', 'The Princess and the Frog', 'The Martian', 'The Island', 'Town & Country', 'Gone in Sixty Seconds', 'Gladiator', 'Minority Report', 'Harry Potter and the Chamber of Secrets', 'Casino Royale', 'Planet of the Apes', 'Terminator 2: Judgment Day', 'Public Enemies', 'American Gangster', 'True Lies', 'The Taking of Pelham 1 2 3', 'Little Fockers', 'The Other Guys', 'Eraser', 'Django Unchained', 'The Hunchback of Notre Dame', \"The Emperor's New Groove\", 'The Expendables 2', 'National Treasure', 'Eragon', 'Where the Wild Things Are', 'Epic', 'The Tourist', 'End of Days', 'Blood Diamond', 'The Wolf of Wall Street', 'Batman Forever', 'Starship Troopers', 'Cloud Atlas', \"Legend of the Guardians: The Owls of Ga'Hoole\", 'Catwoman', 'Hercules', 'Treasure Planet', 'Land of the Lost', 'The Expendables 3', 'Point Break', 'Son of the Mask', 'In the Heart of the Sea', 'The Adventures of Pluto Nash', 'Green Zone', 'The Peanuts Movie', 'The Spanish Prisoner', 'The Mummy Returns', 'Gangs of New York', 'The Flowers of War', \"Surf's Up\", 'The Stepford Wives', 'Black Hawk Down', 'The Campaign', 'The Fifth Element', 'Sex and the City 2', 'The Road to El Dorado', 'Ice Age: Continental Drift', 'Cinderella', 'The Lovely Bones', 'Finding Nemo', 'The Lord of the Rings: The Return of the King', 'The Lord of the Rings: The Two Towers', 'Seventh Son', 'Lara Croft: Tomb Raider', 'Transcendence', 'Jurassic Park III', 'Rise of the Planet of the Apes', 'The Spiderwick Chronicles', 'A Good Day to Die Hard', 'The Alamo', 'The Incredibles', 'Cutthroat Island', 'Percy Jackson & the Olympians: The Lightning Thief', 'Men in Black', 'Toy Story 2', 'Unstoppable', 'Rush Hour 2', 'What Lies Beneath', 'Cloudy with a Chance of Meatballs', 'Ice Age: Dawn of the Dinosaurs', 'The Secret Life of Walter Mitty', \"Charlie's Angels\", 'The Departed', 'Mulan', 'Tropic Thunder', 'The Girl with the Dragon Tattoo', 'Die Hard: With a Vengeance', 'Sherlock Holmes', 'Ben-Hur', 'Atlantis: The Lost Empire', 'Alvin and the Chipmunks: The Road Chip', 'Valkyrie', \"You Don't Mess with the Zohan\", 'Pixels', 'A.I. Artificial Intelligence', 'The Haunted Mansion', 'Contact', 'Hollow Man', 'The Interpreter', 'Percy Jackson: Sea of Monsters', 'Lara Croft Tomb Raider: The Cradle of Life', 'Now You See Me 2', 'The Saint', 'Spy Game', 'Mission to Mars', 'Rio', 'Bicentennial Man', 'Volcano', \"The Devil's Own\", 'K-19: The Widowmaker', 'Conan the Barbarian', 'Cinderella Man', 'The Nutcracker: The Untold Story', 'Seabiscuit', 'Twister', 'Cast Away', 'Happy Feet', 'The Bourne Supremacy', 'Air Force One', \"Ocean's Eleven\", 'The Three Musketeers', 'Hotel Transylvania', 'Enchanted', 'Safe House', '102 Dalmatians', 'Tower Heist', 'The Holiday', 'Enemy of the State', \"It's Complicated\", \"Ocean's Thirteen\", 'Open Season', 'Divergent', 'Enemy at the Gates', 'The Rundown', 'Last Action Hero', 'Memoirs of a Geisha', 'The Fast and the Furious: Tokyo Drift', 'Arthur Christmas', 'Meet Joe Black', 'Collateral Damage', 'All That Jazz', 'Mirror Mirror', 'Scott Pilgrim vs. the World', 'The Core', 'Nutty Professor II: The Klumps', 'Scooby-Doo', 'Dredd', 'Click', 'Creepshow', 'Cats & Dogs 2 : The Revenge of Kitty Galore', 'Jumper', 'Hellboy II: The Golden Army', 'Zodiac', 'The 6th Day', 'Bruce Almighty', 'The Expendables', 'Mission: Impossible', 'The Hunger Games', 'The Hangover Part II', 'Batman Returns', 'Over the Hedge', 'Lilo & Stitch', \"Charlotte's Web\", 'Deep Impact', 'RED 2', 'The Longest Yard', 'Alvin and the Chipmunks: Chipwrecked', 'Grown Ups 2', 'Get Smart', \"Something's Gotta Give\", 'Shutter Island', 'Four Christmases', 'Robots', 'Face/Off', 'Bedtime Stories', 'Road to Perdition', 'Just Go with It', 'Con Air', 'Eagle Eye', 'Cold Mountain', 'The Book of Eli', 'Flubber', 'The Haunting', 'Space Jam', 'The Pink Panther', 'The Day the Earth Stood Still', 'Conspiracy Theory', 'Fury', 'Six Days Seven Nights', 'Yogi Bear', 'Spirit: Stallion of the Cimarron', 'Zookeeper', 'Lost in Space', 'The Manchurian Candidate', 'Déjà Vu', 'Hotel Transylvania 2', 'Fantasia 2000', 'The Time Machine', 'Mighty Joe Young', 'Swordfish', 'The Legend of Zorro', 'What Dreams May Come', 'Little Nicky', 'The Brothers Grimm', 'Mars Attacks!', 'Evolution', 'The Edge', 'Surrogates', 'Thirteen Days', 'Daylight', 'Walking With Dinosaurs', 'Battlefield Earth', 'Looney Tunes: Back in Action', 'Nine', 'Timeline', 'The Postman', 'Babe: Pig in the City', 'The Last Witch Hunter', 'Red Planet', 'Arthur and the Invisibles', 'Oceans', 'A Sound of Thunder', 'Pompeii', 'Top Cat Begins', 'A Beautiful Mind', 'The Lion King', 'Journey 2: The Mysterious Island', 'Cloudy with a Chance of Meatballs 2', 'Red Dragon', 'Hidalgo', 'Jack and Jill', '2 Fast 2 Furious', 'The Little Prince', 'The Invasion', 'The Adventures of Rocky & Bullwinkle', 'The Secret Life of Pets', 'The League of Extraordinary Gentlemen', 'Despicable Me 2', 'Independence Day', 'The Lost World: Jurassic Park', 'Madagascar', 'Children of Men', 'X-Men', 'Wanted', 'The Rock', 'Ice Age: The Meltdown', '50 First Dates', 'Hairspray', 'Exorcist: The Beginning', 'Inspector Gadget', 'Now You See Me', 'Grown Ups', 'The Terminal', 'Hotel for Dogs', 'Vertical Limit', \"Charlie Wilson's War\", 'Shark Tale', 'Dreamgirls', 'Be Cool', 'Munich', 'Tears of the Sun', 'Killers', 'The Man from U.N.C.L.E.', 'Spanglish', 'Monster House', 'Bandits', 'First Knight', 'Anna and the King', 'Immortals', 'Hostage', 'Titan A.E.', 'Hollywood Homicide', 'Soldier', 'Carriers', 'Monkeybone', 'Flight of the Phoenix', 'Unbreakable', 'Minions', 'Sucker Punch', 'Snake Eyes', 'Sphere', 'The Angry Birds Movie', \"Fool's Gold\", 'Funny People', 'The Kingdom', 'Talladega Nights: The Ballad of Ricky Bobby', 'Dr. Dolittle 2', 'Braveheart', 'Jarhead', 'The Simpsons Movie', 'The Majestic', 'Driven', 'Two Brothers', 'The Village', 'Doctor Dolittle', 'Signs', 'Shrek 2', 'Cars', 'Runaway Bride', 'xXx', 'The SpongeBob Movie: Sponge Out of Water', 'Ransom', 'Inglourious Basterds', 'Hook', 'Die Hard 2', 'S.W.A.T.', 'Vanilla Sky', 'Lady in the Water', 'AVP: Alien vs. Predator', 'Alvin and the Chipmunks: The Squeakquel', 'We Were Soldiers', 'Olympus Has Fallen', 'Star Trek: Insurrection', 'Battle: Los Angeles', 'Big Fish', 'Wolf', 'War Horse', 'The Monuments Men', 'The Abyss', 'Wall Street: Money Never Sleeps', 'Dracula Untold', 'The Siege', 'Stardust', 'Seven Years in Tibet', 'The Dilemma', 'Bad Company', 'Doom', 'I Spy', 'Underworld: Awakening', 'Rock of Ages', \"Hart's War\", 'Killer Elite', 'Rollerball', 'Ballistic: Ecks vs. Sever', 'Hard Rain', 'Osmosis Jones', \"Legends of Oz: Dorothy's Return\", 'Blackhat', 'Sky Captain and the World of Tomorrow', 'Basic Instinct 2', 'Escape Plan', 'The Legend of Hercules', 'The Sum of All Fears', 'The Twilight Saga: Eclipse', 'The Score', 'Despicable Me', 'Money Train', 'Ted 2', 'Agora', 'Mystery Men', 'Hall Pass', 'The Insider', 'The Finest Hours', 'Body of Lies', 'Dinner for Schmucks', 'Abraham Lincoln: Vampire Hunter', 'Entrapment', 'The X Files', 'The Last Legion', 'Saving Private Ryan', 'Need for Speed', 'What Women Want', 'Ice Age', 'Dreamcatcher', 'Lincoln', 'The Matrix', 'Apollo 13', 'The Santa Clause 2', 'Les Misérables', \"You've Got Mail\", 'Step Brothers', 'The Mask of Zorro', 'Due Date', 'Unbroken', 'Space Cowboys', 'Cliffhanger', 'Broken Arrow', 'The Kid', 'World Trade Center', 'Mona Lisa Smile', 'The Dictator', 'Eyes Wide Shut', 'Annie', 'Focus', 'This Means War', 'Blade: Trinity', 'Red Dawn', 'Primary Colors', 'Resident Evil: Retribution', 'Death Race', 'The Long Kiss Goodnight', 'Proof of Life', 'Zathura: A Space Adventure', 'Fight Club', 'We Are Marshall', 'Hudson Hawk', 'Lucky Numbers', 'I, Frankenstein', 'Oliver Twist', 'Elektra', 'Sin City: A Dame to Kill For', 'Random Hearts', 'Everest', 'Perfume: The Story of a Murderer', 'Austin Powers in Goldmember', 'Astro Boy', 'Jurassic Park', 'Wyatt Earp', 'Clear and Present Danger', 'Dragon Blade', 'Little Man', 'U-571', 'The American President', 'The Love Guru', '3000 Miles to Graceland', 'The Hateful Eight', 'Blades of Glory', 'Hop', '300', 'Meet the Fockers', 'Marley & Me', 'The Green Mile', 'Wild Hogs', 'Chicken Little', 'Gone Girl', 'The Bourne Identity', 'GoldenEye', \"The General's Daughter\", 'The Truman Show', 'The Prince of Egypt', 'Daddy Day Care', '2 Guns', 'Cats & Dogs', 'The Italian Job', 'Two Weeks Notice', 'Antz', 'Couples Retreat', 'Days of Thunder', 'Cheaper by the Dozen 2', 'Maze Runner: The Scorch Trials', 'Eat Pray Love', 'The Family Man', 'RED', 'Any Given Sunday', 'The Horse Whisperer', 'Collateral', 'The Scorpion King', 'Ladder 49', 'Jack Reacher', 'Deep Blue Sea', 'This Is It', 'Contagion', 'Kangaroo Jack', 'Coraline', 'The Happening', 'Man on Fire', 'The Shaggy Dog', 'Starsky & Hutch', 'Jingle All the Way', 'Hellboy', 'A Civil Action', 'ParaNorman', 'The Jackal', 'Paycheck', 'Up Close & Personal', 'The Tale of Despereaux', 'The Tuxedo', 'Under Siege 2: Dark Territory', 'Jack Ryan: Shadow Recruit', 'Joy', 'London Has Fallen', 'Alien: Resurrection', 'Shooter', 'The Boxtrolls', 'Practical Magic', 'The Lego Movie', 'Miss Congeniality 2: Armed and Fabulous', 'Reign of Fire', 'Gangster Squad', 'Year One', 'Invictus', 'State of Play', 'Duplicity', 'My Favorite Martian', 'The Sentinel', 'Planet 51', 'Star Trek: Nemesis', 'Intolerable Cruelty', 'Trouble with the Curve', 'Edge of Darkness', 'The Relic', 'Analyze That', 'Righteous Kill', 'Mercury Rising', 'The Soloist', 'The Legend of Bagger Vance', 'Almost Famous', 'Garfield: A Tail of Two Kitties', 'xXx: State of the Union', 'Priest', 'Sinbad: Legend of the Seven Seas', 'Event Horizon', 'Dragonfly', 'The Black Dahlia', 'Flyboys', 'The Last Castle', 'Supernova', \"Winter's Tale\", 'The Mortal Instruments: City of Bones', 'Meet Dave', 'Dark Water', 'Edtv', 'Inkheart', 'The Spirit', 'Mortdecai', 'In the Name of the King: A Dungeon Siege Tale', 'Beyond Borders', 'The Monkey King 2', 'The Great Raid', 'Deadpool', 'Holy Man', 'American Sniper', 'Goosebumps', 'Just Like Heaven', 'The Flintstones in Viva Rock Vegas', 'Rambo III', 'Leatherheads', 'The Ridiculous 6', 'Did You Hear About the Morgans?', 'The Internship', 'Resident Evil: Afterlife', 'Red Tails', \"The Devil's Advocate\", \"That's My Boy\", 'DragonHeart', 'After the Sunset', 'Ghost Rider: Spirit of Vengeance', \"Captain Corelli's Mandolin\", 'The Pacifier', 'Walking Tall', 'Forrest Gump', 'Alvin and the Chipmunks', 'Meet the Parents', 'Pocahontas', 'Superman', 'The Nutty Professor', 'Hitch', 'George of the Jungle', 'American Wedding', 'Captain Phillips', 'Date Night', 'Casper', 'The Equalizer', 'Maid in Manhattan', 'Crimson Tide', 'The Pursuit of Happyness', 'Flightplan', 'Disclosure', 'City of Angels', 'Kill Bill: Vol. 1', 'Bowfinger', 'Kill Bill: Vol. 2', 'Tango & Cash', 'Death Becomes Her', 'Shanghai Noon', 'Executive Decision', \"Mr. Popper's Penguins\", 'The Forbidden Kingdom', 'Free Birds', 'Alien³', 'Evita', 'Ronin', 'The Ghost and the Darkness', 'Paddington', 'The Watch', 'The Hunted', 'Instinct', 'Stuck on You', 'Semi-Pro', 'The Pirates! In an Adventure with Scientists!', 'Changeling', 'Chain Reaction', 'The Fan', 'The Phantom of the Opera', 'Elizabeth: The Golden Age', 'Æon Flux', 'Gods and Generals', 'Turbulence', 'Imagine That', 'Muppets Most Wanted', 'Thunderbirds', 'Burlesque', 'A Very Long Engagement', 'Lolita', 'D-Tox', 'Blade II', 'Seven Pounds', 'Bullet to the Head', 'The Godfather: Part III', 'Elizabethtown', 'You, Me and Dupree', 'Superman II', 'Gigli', \"All the King's Men\", 'Shaft', 'Anastasia', 'Moulin Rouge!', 'Domestic Disturbance', 'Black Mass', 'Flags of Our Fathers', 'Law Abiding Citizen', 'Grindhouse', 'Beloved', 'Lucky You', 'Catch Me If You Can', 'Zero Dark Thirty', 'The Break-Up', 'Mamma Mia!', \"Valentine's Day\", 'The Dukes of Hazzard', 'The Thin Red Line', 'The Change-Up', 'Man on the Moon', 'Casino', 'From Paris with Love', 'Bulletproof Monk', 'Me, Myself & Irene', 'Barnyard', 'Deck the Halls', 'The Twilight Saga: New Moon', 'Shrek', 'The Adjustment Bureau', 'Robin Hood: Prince of Thieves', 'Jerry Maguire', 'Ted', 'As Good as It Gets', 'Patch Adams', 'Anchorman 2: The Legend Continues', 'Mr. Deeds', 'Super 8', 'Erin Brockovich', 'How to Lose a Guy in 10 Days', '22 Jump Street', 'Interview with the Vampire', 'Yes Man', 'Central Intelligence', 'Stepmom', \"Daddy's Home\", 'Into the Woods', 'Inside Man', 'Payback', 'Congo', 'We Bought a Zoo', 'Knowing', 'Failure to Launch', 'The Ring Two', 'Crazy, Stupid, Love.', 'Garfield', 'Christmas with the Kranks', 'Moneyball', 'Outbreak', 'Non-Stop', 'Race to Witch Mountain', 'V for Vendetta', 'Shanghai Knights', 'Curious George', 'Herbie Fully Loaded', \"Don't Say a Word\", 'Hansel & Gretel: Witch Hunters', 'Unfaithful', 'I Am Number Four', 'Syriana', '13 Hours: The Secret Soldiers of Benghazi', 'The Book of Life', 'Firewall', 'Absolute Power', 'G.I. Jane', 'The Game', 'Silent Hill', 'The Replacements', 'American Reunion', 'The Negotiator', 'Into the Storm', 'Beverly Hills Cop III', 'Gremlins 2: The New Batch', 'The Judge', 'The Peacemaker', 'Resident Evil: Apocalypse', 'Bridget Jones: The Edge of Reason', 'Out of Time', 'On Deadly Ground', 'The Adventures of Sharkboy and Lavagirl', 'The Beach', 'Raising Helen', 'Ninja Assassin', 'For Love of the Game', 'Striptease', 'Marmaduke', 'Hereafter', 'Murder by Numbers', 'Assassins', 'Hannibal Rising', 'The Story of Us', 'The Host', 'Basic', 'Blood Work', 'The International', 'Escape from L.A.', 'The Iron Giant', 'The Life Aquatic with Steve Zissou', 'Free State of Jones', 'The Life of David Gale', 'Man of the House', 'Run All Night', 'Eastern Promises', 'Into the Blue', 'The Messenger: The Story of Joan of Arc', 'Your Highness', 'Dream House', 'Mad City', \"Baby's Day Out\", 'The Scarlet Letter', 'Fair Game', 'Domino', 'Jade', 'Gamer', 'Beautiful Creatures', 'Death to Smoochy', 'Zoolander 2', 'The Big Bounce', 'What Planet Are You From?', 'Drive Angry', 'Street Fighter: The Legend of Chun-Li', 'The One', 'The Adventures of Ford Fairlane', 'The Boat That Rocked', 'Traffic', 'Indiana Jones and the Last Crusade', 'Anna Karenina', 'Chappie', 'The Bone Collector', 'Panic Room', 'The Tooth Fairy', 'Three Kings', 'Child 44', 'Rat Race', 'K-PAX', 'Kate & Leopold', 'Bedazzled', 'The Cotton Club', '3:10 to Yuma', 'Taken 3', 'Out of Sight', 'The Cable Guy', 'Earth', 'Dick Tracy', 'The Thomas Crown Affair', 'Riding in Cars with Boys', 'First Blood', 'Solaris', \"Happily N'Ever After\", 'Mary Reilly', \"My Best Friend's Wedding\", \"America's Sweethearts\", 'Insomnia', 'Star Trek: First Contact', 'Jonah Hex', 'Courage Under Fire', 'Liar Liar', 'The Infiltrator', 'Inchon', 'The Flintstones', 'Taken 2', 'Scary Movie 3', 'Miss Congeniality', 'Journey to the Center of the Earth', 'The Princess Diaries 2: Royal Engagement', 'The Pelican Brief', 'The Client', 'The Bucket List', 'Patriot Games', 'Monster-in-Law', 'Prisoners', 'Training Day', 'Galaxy Quest', 'Scary Movie 2', 'The Muppets', 'Blade', 'Coach Carter', 'Changing Lanes', 'Anaconda', 'Coyote Ugly', 'Love Actually', \"A Bug's Life\", 'From Hell', 'The Specialist', 'Tin Cup', 'Yours, Mine and Ours', 'Kicking & Screaming', \"The Hitchhiker's Guide to the Galaxy\", 'Fat Albert', 'Resident Evil: Extinction', 'Blended', 'Last Holiday', 'The River Wild', 'The Indian in the Cupboard', 'Savages', 'Cellular', 'Johnny English', 'The Ant Bully', 'Dune', 'Across the Universe', 'Revolutionary Road', '16 Blocks', 'Babylon A.D.', 'The Glimmer Man', 'Multiplicity', 'Aliens in the Attic', 'The Pledge', 'The Producers', 'The Phantom', 'All the Pretty Horses', 'Nixon', 'The Ghost Writer', 'Deep Rising', 'Miracle at St. Anna', 'Curse of the Golden Flower', 'Bangkok Dangerous', 'Big Trouble', 'Love in the Time of Cholera', 'Shadow Conspiracy', 'Johnny English Reborn', 'Foodfight!', 'Argo', 'The Fugitive', 'The Bounty Hunter', 'Sleepers', 'Rambo: First Blood Part II', 'The Juror', 'Pinocchio', \"Heaven's Gate\", 'Underworld: Evolution', 'Victor Frankenstein', 'Finding Forrester', '28 Days', 'Unleashed', 'The Sweetest Thing', 'The Firm', 'Charlie St. Cloud', 'The Mechanic', '21 Jump Street', 'Notting Hill', 'Chicken Run', 'Along Came Polly', 'Boomerang', 'The Heat', 'Cleopatra', 'Here Comes the Boom', 'High Crimes', 'The Mirror Has Two Faces', 'The Mothman Prophecies', 'Brüno', 'Licence to Kill', 'Red Riding Hood', '15 Minutes', 'Super Mario Bros.', 'Lord of War', 'Hero', 'One for the Money', 'The Interview', \"The Warrior's Way\", 'Micmacs', '8 Mile', 'Why I Did (Not) Eat My Father', \"A Knight's Tale\", 'The Medallion', 'The Sixth Sense', 'Man on a Ledge', 'The Big Year', 'The Karate Kid', 'American Hustle', 'The Proposal', 'Double Jeopardy', 'Back to the Future Part II', 'Lucy', 'Fifty Shades of Grey', 'Spy Kids 3-D: Game Over', 'A Time to Kill', 'Cheaper by the Dozen', 'Lone Survivor', 'A League of Their Own', 'The Conjuring 2', 'The Social Network', \"He's Just Not That Into You\", 'Scary Movie 4', 'Scream 3', 'Back to the Future Part III', 'Get Hard', 'Dracula', 'Julie & Julia', '42', 'The Talented Mr. Ripley', 'Dumb and Dumber To', 'Eight Below', 'The Intern', 'Ride Along 2', 'The Last of the Mohicans', 'Ray', 'Sin City', 'Vantage Point', 'I Love You, Man', 'Shallow Hal', 'JFK', \"Big Momma's House 2\", 'The Mexican', '17 Again', 'The Other Woman', 'The Final Destination', 'Bridge of Spies', 'Behind Enemy Lines', 'Get Him to the Greek', 'Shall We Dance?', 'Small Soldiers', 'Spawn', 'The Count of Monte Cristo', 'The Lincoln Lawyer', 'Unknown', 'The Prestige', 'Horrible Bosses 2', 'Escape from Planet Earth', 'Apocalypto', 'The Living Daylights', 'Predators', 'Legal Eagles', 'Secret Window', 'The Lake House', 'The Skeleton Key', 'The Odd Life of Timothy Green', 'Made of Honor', 'Jersey Boys', 'The Rainmaker', 'Gothika', 'Amistad', 'Medicine Man', 'Aliens vs Predator: Requiem', 'Ri¢hie Ri¢h', 'Autumn in New York', 'Music and Lyrics', 'Paul', 'The Guilt Trip', 'Scream 4', '8MM', 'The Doors', 'Sex Tape', 'Hanging Up', 'Final Destination 5', 'Mickey Blue Eyes', 'Pay It Forward', 'Fever Pitch', 'Drillbit Taylor', 'A Million Ways to Die in the West', 'The Shadow', 'Extremely Loud & Incredibly Close', 'Morning Glory', \"Get Rich or Die Tryin'\", 'The Art of War', 'Rent', 'Bless the Child', 'The Out-of-Towners', 'The Island of Dr. Moreau', 'The Musketeer', 'The Other Boleyn Girl', 'Sweet November', 'The Reaping', 'Mean Streets', 'Renaissance Man', 'Colombiana', 'Quest for Camelot', 'City By The Sea', 'At First Sight', 'Torque', 'City Hall', 'Showgirls', 'Marie Antoinette', 'Kiss of Death', 'Get Carter', 'The Impossible', 'Ishtar', 'Fantastic Mr. Fox', 'Life or Something Like It', 'Memoirs of an Invisible Man', 'Amélie', 'New York Minute', 'Alfie', 'Big Miracle', 'The Deep End of the Ocean', 'FearDotCom', \"Cirque du Freak: The Vampire's Assistant\", 'Duplex', 'Soul Men', 'Raise the Titanic', 'Universal Soldier: The Return', 'Pandorum', 'Impostor', 'Extreme Ops', 'Just Visiting', 'Sunshine', 'A Thousand Words', 'Delgo', 'The Gunman', 'Stormbreaker', 'Disturbia', 'Hackers', 'The Hunting Party', 'The Hudsucker Proxy', 'The Warlords', 'Nomad: The Warrior', 'Snowpiercer', 'A Monster in Paris', 'The Last Shot', 'The Crow', 'Baahubali: The Beginning', \"The Time Traveler's Wife\", 'Because I Said So', 'Frankenweenie', 'Serenity', 'Against the Ropes', 'Superman III', 'Grudge Match', 'Red Cliff', 'Sweet Home Alabama', 'The Ugly Truth', 'Sgt. Bilko', 'Spy Kids 2: The Island of Lost Dreams', 'Star Trek: Generations', 'The Grandmaster', 'Water for Elephants', \"Dragon Nest: Warriors' Dawn\", 'The Hurricane', 'Enough', 'Heartbreakers', 'Paul Blart: Mall Cop 2', 'Angel Eyes', 'Joe Somebody', 'The Ninth Gate', 'Extreme Measures', 'Rock Star', 'Precious', 'White Squall', 'The Thing', 'Riddick', 'Switchback', 'Texas Rangers', 'City of Ember', 'The Master', 'Virgin Territory', 'The Express', 'The 5th Wave', 'Creed', 'The Town', \"What to Expect When You're Expecting\", 'Burn After Reading', \"Nim's Island\", 'Rush', 'Magnolia', 'Cop Out', 'How to Be Single', 'Dolphin Tale', 'Twilight', 'John Q', 'Blue Streak', \"We're the Millers\", 'The Inhabited Island', 'Breakdown', 'Never Say Never Again', 'Hot Tub Time Machine', 'Dolphin Tale 2', 'Reindeer Games', 'A Man Apart', 'Aloha', 'Ghosts of Mississippi', 'Snow Falling on Cedars', 'The Rite', 'Gattaca', \"Isn't She Great\", 'Space Chimps', 'Head of State', 'The Hangover', 'Ip Man 3', 'Austin Powers: The Spy Who Shagged Me', 'Batman', 'There Be Dragons', 'Lethal Weapon 3', 'The Blind Side', 'Spy Kids', 'Horrible Bosses', 'True Grit', 'The Devil Wears Prada', 'Star Trek: The Motion Picture', 'Identity Thief', 'Cape Fear', '21', 'Trainwreck', 'Guess Who', 'The English Patient', 'L.A. Confidential', 'Sky High', 'In & Out', 'Species', 'A Nightmare on Elm Street', 'The Cell', 'The Man in the Iron Mask', 'Secretariat', 'TMNT', 'Radio', 'Friends with Benefits', 'Neighbors 2: Sorority Rising', 'Saving Mr. Banks', 'Malcolm X', 'This Is 40', 'Old Dogs', 'Underworld: Rise of the Lycans', 'License to Wed', 'The Benchwarmers', 'Must Love Dogs', 'Donnie Brasco', 'Resident Evil', 'Poltergeist', 'The Ladykillers', 'Max Payne', 'In Time', 'The Back-Up Plan', 'Something Borrowed', 'Black Knight', 'The Bad News Bears', 'Street Fighter', 'The Pianist', 'The Nativity Story', 'House of Wax', 'Closer', 'J. Edgar', 'Mirrors', 'Queen of the Damned', 'Predator 2', 'Untraceable', 'Blast from the Past', 'Flash Gordon', 'Jersey Girl', 'Alex Cross', 'Midnight in the Garden of Good and Evil', 'Heist', 'Nanny McPhee and the Big Bang', 'Hoffa', 'The X Files: I Want to Believe', 'Ella Enchanted', 'Concussion', 'Abduction', 'Valiant', 'Wonder Boys', 'Superhero Movie', 'Broken City', 'Cursed', 'Premium Rush', 'Hot Pursuit', 'The Four Feathers', 'Parker', 'Wimbledon', 'Furry Vengeance', 'Bait', 'Krull', 'Lions for Lambs', 'Flight of the Intruder', 'Walk Hard: The Dewey Cox Story', 'The Shipping News', 'American Outlaws', 'The Young Victoria', 'Whiteout', 'The Tree of Life', 'Knock Off', 'Sabotage', 'The Order', 'Punisher: War Zone', 'Zoom', 'The Walk', 'Warriors of Virtue', 'A Good Year', 'Radio Flyer', 'Bound by Honor', \"Smilla's Sense of Snow\", 'Femme Fatale', 'Lion of the Desert', 'The Horseman on the Roof', 'Ride with the Devil', 'Biutiful', 'Bandidas', 'Black Water Transit', 'The Maze Runner', 'Unfinished Business', 'The Age of Innocence', 'The Fountain', 'Chill Factor', 'Stolen', 'Ponyo', 'The Longest Ride', \"The Astronaut's Wife\", 'I Dreamed of Africa', 'Playing for Keeps', 'Mandela: Long Walk to Freedom', 'Reds', 'A Few Good Men', 'Exit Wounds', \"Big Momma's House\", 'Thunder and the House of Magic', 'The Darkest Hour', 'Step Up Revolution', 'Snakes on a Plane', 'The Watcher', 'The Punisher', 'Goal!: The Dream Begins', 'Safe', 'Pushing Tin', 'Return of the Jedi', 'Doomsday', 'The Reader', 'Wanderlust', 'Elf', 'Phenomenon', 'Snow Dogs', 'Scrooged', 'Nacho Libre', 'Bridesmaids', 'This Is the End', 'Stigmata', 'Men of Honor', 'Takers', 'The Big Wedding', 'Big Mommas: Like Father, Like Son', 'Source Code', 'Alive', 'The Number 23', 'The Young and Prodigious T.S. Spivet', '1941', 'Dreamer: Inspired By a True Story', 'A History of Violence', 'Transporter 2', 'The Quick and the Dead', 'Laws of Attraction', 'Bringing Out the Dead', 'Repo Men', 'Dragon Wars: D-War', 'Bogus', 'The Incredible Burt Wonderstone', \"Cats Don't Dance\", 'Cradle Will Rock', 'The Good German', 'George and the Dragon', 'Apocalypse Now', 'Going the Distance', \"Mr. Holland's Opus\", 'Criminal', 'Out of Africa', 'Flight', 'Moonraker', 'The Grand Budapest Hotel', 'Hearts in Atlantis', 'Arachnophobia', 'Frequency', 'Vacation', 'Get Shorty', 'Chicago', 'Big Daddy', 'American Pie 2', 'Toy Story', 'Speed', 'The Vow', 'Extraordinary Measures', 'Remember the Titans', 'The Hunt for Red October', 'The Butler', 'DodgeBall: A True Underdog Story', 'The Addams Family', 'Ace Ventura: When Nature Calls', 'The Princess Diaries', 'The First Wives Club', 'Se7en', 'District 9', 'The SpongeBob SquarePants Movie', 'Mystic River', 'Million Dollar Baby', 'Analyze This', 'The Notebook', '27 Dresses', 'Hannah Montana: The Movie', 'Rugrats in Paris: The Movie', 'The Prince of Tides', 'Legends of the Fall', 'Up in the Air', 'About Schmidt', 'Warm Bodies', 'Looper', 'Down to Earth', 'Babe', 'Hope Springs', 'Forgetting Sarah Marshall', 'Four Brothers', 'Baby Mama', 'Hope Floats', 'Bride Wars', 'Without a Paddle', '13 Going on 30', 'Midnight in Paris', 'The Nut Job', 'Blow', 'Message in a Bottle', 'Star Trek V: The Final Frontier', 'Like Mike', 'The Naked Gun 33⅓: The Final Insult', 'A View to a Kill', 'The Curse of the Were-Rabbit', 'P.S. I Love You', 'Racing Stripes', 'Atonement', 'Letters to Juliet', 'Black Rain', 'The Three Stooges', 'Corpse Bride', 'Glory Road', 'Sicario', 'Southpaw', 'Drag Me to Hell', 'The Age of Adaline', 'Secondhand Lions', 'Step Up 3D', 'Blue Crush', 'Stranger Than Fiction', '30 Days of Night', 'The Cabin in the Woods', 'Meet the Spartans', 'Midnight Run', 'The Running Man', 'Little Shop of Horrors', 'Hanna', 'Mortal Kombat: Annihilation', 'Larry Crowne', 'Carrie', 'Take the Lead', 'Gridiron Gang', \"What's the Worst That Could Happen?\", '9', 'Side Effects', 'The Prince & Me', 'Winnie the Pooh', 'Dumb and Dumberer: When Harry Met Lloyd', 'Bulworth', 'Get on Up', 'One True Thing', 'Virtuosity', 'My Super Ex-Girlfriend', 'Deliver Us from Evil', 'Sanctum', 'Little Black Book', 'The Five-Year Engagement', 'Mr. 3000', 'The Next Three Days', 'Ultraviolet', 'Assault on Precinct 13', 'The Replacement Killers', 'Fled', 'Eight Legged Freaks', 'Love & Other Drugs', '88 Minutes', 'North Country', 'The Whole Ten Yards', 'Splice', 'Howard the Duck', 'Pride and Glory', 'The Cave', 'Alex & Emma', 'Wicker Park', 'Fright Night', 'The New World', 'Wing Commander', 'In Dreams', 'Dragonball Evolution', 'The Last Stand', 'Godsend', 'Chasing Liberty', 'Hoodwinked Too! Hood VS. Evil', 'An Unfinished Life', 'The Imaginarium of Doctor Parnassus', \"Barney's Version\", 'Runner Runner', 'Antitrust', 'Glory', 'Once Upon a Time in America', 'Dead Man Down', 'The Merchant of Venice', 'The Good Thief', 'Supercross', 'Miss Potter', 'The Promise', 'DOA: Dead or Alive', 'The Assassination of Jesse James by the Coward Robert Ford', '1911', 'Little Nicholas', 'Wild Card', 'Machine Gun Preacher', 'Animals United', 'Goodbye Bafana', 'United Passions', 'Grace of Monaco', 'Savva. Heart of the Warrior', \"Ripley's Game\", 'Sausage Party', 'Pitch Perfect 2', 'Walk the Line', 'Keeping the Faith', 'The Borrowers', 'Frost/Nixon', 'Confessions of a Dangerous Mind', 'Serving Sara', 'The Boss', 'Cry Freedom', 'Mumford', 'Seed of Chucky', 'The Jacket', 'Aladdin', 'Straight Outta Compton', 'Indiana Jones and the Temple of Doom', 'The Rugrats Movie', 'Along Came a Spider', 'Florence Foster Jenkins', 'Once Upon a Time in Mexico', 'Die Hard', 'Role Models', 'The Big Short', 'Taking Woodstock', 'Miracle', 'Dawn of the Dead', 'The Wedding Planner', 'Space Pirate Captain Harlock', 'The Royal Tenenbaums', 'Identity', 'Last Vegas', 'For Your Eyes Only', 'Serendipity', 'Timecop', 'Zoolander', 'Safe Haven', 'Hocus Pocus', 'No Reservations', 'Kick-Ass', '30 Minutes or Less', 'Dracula 2000', 'Alexander and the Terrible, Horrible, No Good, Very Bad Day', 'Pride & Prejudice', 'Blade Runner', 'Rob Roy', '3 Days to Kill', 'We Own the Night', 'Lost Souls', 'Winged Migration', 'Just My Luck', 'Mystery, Alaska', 'The Spy Next Door', 'A Simple Wish', 'Ghosts of Mars', 'Our Brand Is Crisis', 'Pride and Prejudice and Zombies', 'Kundun', 'How to Lose Friends & Alienate People', 'Kick-Ass 2', 'Alatriste', 'Brick Mansions', 'Octopussy', 'Knocked Up', \"My Sister's Keeper\", 'Welcome Home Roscoe Jenkins', 'A Passage to India', 'Notes on a Scandal', 'Rendition', 'Star Trek VI: The Undiscovered Country', 'Divine Secrets of the Ya-Ya Sisterhood', 'Kiss the Girls', 'The Blues Brothers', 'The Sisterhood of the Traveling Pants 2', 'Joyful Noise', 'About a Boy', 'Lake Placid', 'Lucky Number Slevin', 'The Right Stuff', 'Anonymous', 'The NeverEnding Story', 'Dark City', 'The Duchess', 'Return to Oz', 'The Newton Boys', 'Case 39', 'Suspect Zero', 'Martian Child', 'Spy Kids: All the Time in the World', 'Money Monster', 'The 51st State', 'Flawless', 'Mindhunters', 'What Just Happened', 'The Statement', 'The Magic Flute', 'Paul Blart: Mall Cop', 'Freaky Friday', 'The 40 Year Old Virgin', 'Shakespeare in Love', 'A Walk Among the Tombstones', 'Kindergarten Cop', 'Pineapple Express', 'Ever After: A Cinderella Story', 'Open Range', 'Flatliners', 'A Bridge Too Far', 'Red Eye', 'Final Destination 2', 'O Brother, Where Art Thou?', 'Legion', 'Pain & Gain', 'In Good Company', 'Clockstoppers', 'Silverado', 'Brothers', 'Agent Cody Banks 2: Destination London', \"New Year's Eve\", 'Original Sin', 'The Raven', 'Welcome to Mooseport', 'Highlander: The Final Dimension', 'Blood and Wine', 'Snow White: A Tale of Terror', 'The Curse of the Jade Scorpion', 'Accidental Love', 'Flipper', 'Self/less', 'The Constant Gardener', 'The Passion of the Christ', 'Mrs. Doubtfire', 'Rain Man', 'Gran Torino', 'W.', 'Taken', 'The Best of Me', 'The Bodyguard', \"Schindler's List\", 'The Help', 'The Fifth Estate', 'Scooby-Doo 2: Monsters Unleashed', 'Forbidden Kingdom', 'Freddy vs. Jason', 'The Face of an Angel', 'Jimmy Neutron: Boy Genius', 'Cloverfield', 'Teenage Mutant Ninja Turtles II: The Secret of the Ooze', 'The Untouchables', 'No Country for Old Men', 'Ride Along', \"Bridget Jones's Diary\", 'Chocolat', 'Legally Blonde 2: Red, White & Blonde', 'Parental Guidance', 'No Strings Attached', 'Tombstone', 'Romeo Must Die', 'The Omen', 'Final Destination 3', 'The Lucky One', 'Bridge to Terabithia', 'Finding Neverland', 'A Madea Christmas', 'The Grey', 'Hide and Seek', 'Anchorman: The Legend of Ron Burgundy', 'GoodFellas', 'Agent Cody Banks', 'Nanny McPhee', 'Scarface', 'Nothing to Lose', 'The Last Emperor', 'Contraband', 'Money Talks', 'There Will Be Blood', 'The Wild Thornberrys Movie', 'Rugrats Go Wild', 'Undercover Brother', 'The Sisterhood of the Traveling Pants', 'Kiss of the Dragon', 'The House Bunny', 'Beauty Shop', 'Million Dollar Arm', 'The Giver', 'What a Girl Wants', 'Jeepers Creepers 2', 'Good Luck Chuck', 'Cradle 2 the Grave', 'The Hours', \"She's the Man\", \"Mr. Bean's Holiday\", 'Anacondas: The Hunt for the Blood Orchid', 'Blood Ties', 'August Rush', 'Elizabeth', 'Bride of Chucky', 'Tora! Tora! Tora!', 'Spice World', 'The Sitter', 'Dance Flick', 'The Shawshank Redemption', 'Crocodile Dundee in Los Angeles', 'Kingpin', 'The Gambler', 'August: Osage County', 'Ice Princess', 'A Lot Like Love', 'Eddie the Eagle', 'He Got Game', 'Don Juan DeMarco', 'Dear John', 'The Losers', \"Don't Be Afraid of the Dark\", 'War', 'Punch-Drunk Love', 'EuroTrip', 'Half Past Dead', 'Unaccompanied Minors', 'Bright Lights, Big City', 'The Adventures of Pinocchio', 'The Greatest Game Ever Played', 'The Box', 'The Ruins', 'The Next Best Thing', 'My Soul to Take', 'The Girl Next Door', 'Maximum Risk', 'Stealing Harvard', 'Legend', 'Hot Rod', 'Shark Night', \"Angela's Ashes\", 'Draft Day', 'Lifeforce', 'The Conspirator', 'Lords of Dogtown', 'The 33', 'Big Trouble in Little China', 'Fly Me to the Moon', 'Warrior', 'Michael Collins', 'Gettysburg', 'Stop-Loss', 'Abandon', 'Brokedown Palace', 'The Possession', 'Mrs. Winterbourne', 'Straw Dogs', 'The Hoax', 'Stone Cold', 'The Road', 'Sheena', 'Underclassman', \"Say It Isn't So\", \"The World's Fastest Indian\", 'Tank Girl', \"King's Ransom\", 'Blindness', 'BloodRayne', 'Carnage', 'Where the Truth Lies', 'Cirque du Soleil: Worlds Away', 'Without Limits', 'Me and Orson Welles', 'The Best Offer', 'The Bad Lieutenant: Port of Call - New Orleans', \"A Turtle's Tale: Sammy's Adventures\", 'Little White Lies', 'Love Ranch', \"The True Story of Puss 'n Boots\", 'Space Dogs', 'The Counselor', 'Ironclad', 'Waterloo', 'Kung Fu Jungle', 'Red Sky', 'Dangerous Liaisons', 'On the Road', 'Star Trek IV: The Voyage Home', 'Rocky Balboa', 'Scream 2', 'Jane Got a Gun', 'Think Like a Man Too', 'The Whole Nine Yards', 'Footloose', 'Old School', 'The Fisher King', 'I Still Know What You Did Last Summer', 'Return to Me', 'Zack and Miri Make a Porno', 'Nurse Betty', 'The Men Who Stare at Goats', 'Double Take', 'Girl, Interrupted', 'Win a Date with Tad Hamilton!', 'Muppets from Space', 'The Wiz', 'Ready to Rumble', 'Play It to the Bone', \"I Don't Know How She Does It\", 'Piranha 3D', 'Beyond the Sea', 'Meet the Deedles', 'The Thief and the Cobbler', 'The Bridge of San Luis Rey', 'Faster', \"Howl's Moving Castle\", 'Zombieland', 'The Waterboy', 'The Empire Strikes Back', 'Bad Boys', 'The Naked Gun 2½: The Smell of Fear', 'Final Destination', 'The Ides of March', 'Pitch Black', 'Someone Like You...', 'Her', 'Joy Ride', 'The Adventurer: The Curse of the Midas Box', 'Anywhere But Here', 'The Crew', 'Haywire', 'Jaws: The Revenge', \"Marvin's Room\", 'The Longshots', 'The End of the Affair', 'Harley Davidson and the Marlboro Man', 'In the Valley of Elah', 'Coco Before Chanel', 'Forsaken', 'Cheri', 'Vanity Fair', 'Bodyguards and Assassins', '1408', 'Spaceballs', 'The Water Diviner', 'Ghost', \"There's Something About Mary\", 'The Santa Clause', 'The Rookie', 'The Game Plan', 'The Bridges of Madison County', 'The Animal', 'Gandhi', 'The Hundred-Foot Journey', 'The Net', 'I Am Sam', 'Son of God', 'Underworld', 'Derailed', 'The Informant!', 'Shadowlands', 'Deuce Bigalow: European Gigolo', 'Delivery Man', 'Our Kind of Traitor', 'Saving Silverman', 'Diary of a Wimpy Kid: Dog Days', 'Summer of Sam', 'Jay and Silent Bob Strike Back', 'The Glass House', 'Hail, Caesar!', 'Josie and the Pussycats', 'Homefront', 'The Little Vampire', 'I Heart Huckabees', 'RoboCop 3', 'Megiddo: The Omega Code 2', 'Darling Lili', 'Dudley Do-Right', 'The Transporter Refueled', 'The Libertine', 'Black Book', 'Joyeux Noël', 'Hit & Run', 'Mad Money', 'Before I Go to Sleep', 'Sorcerer', 'Stone', 'Moliere', 'Out of the Furnace', 'Michael Clayton', 'My Fellow Americans', 'Arlington Road', 'Underdogs', 'To Rome with Love', 'Firefox', 'South Park: Bigger, Longer & Uncut', 'Death at a Funeral', 'Teenage Mutant Ninja Turtles III', 'Hardball', 'Silver Linings Playbook', 'Freedom Writers', 'For Colored Girls', 'The Transporter', 'Never Back Down', 'The Rage: Carrie 2', 'Away We Go', 'Swing Vote', 'Moonlight Mile', 'Tinker Tailor Soldier Spy', 'Molly', 'The Beaver', 'The Best Little Whorehouse in Texas', 'eXistenZ', 'Raiders of the Lost Ark', 'Home Alone 2: Lost in New York', 'Close Encounters of the Third Kind', 'Pulse', 'Beverly Hills Cop II', 'Bringing Down the House', 'The Silence of the Lambs', \"Wayne's World\", 'Jackass 3D', 'Jaws 2', 'Beverly Hills Chihuahua', 'The Conjuring', 'Are We There Yet?', 'Tammy', 'School of Rock', 'Mortal Kombat', 'White Chicks', 'The Descendants', 'Holes', 'The Last Song', '12 Years a Slave', 'Drumline', 'Why Did I Get Married Too?', 'Edward Scissorhands', 'Me Before You', \"Madea's Witness Protection\", 'The French Connection', 'Bad Moms', 'Date Movie', 'Return to Never Land', 'Selma', 'The Jungle Book 2', 'Boogeyman', 'Premonition', 'The Tigger Movie', 'Orphan', 'Max', 'Epic Movie', 'Spotlight', 'Lakeview Terrace', 'The Grudge 2', 'How Stella Got Her Groove Back', \"Bill & Ted's Bogus Journey\", 'Man of the Year', 'The Black Hole', 'The American', 'Selena', 'Vampires Suck', 'Babel', 'This Is Where I Leave You', 'Doubt', 'Team America: World Police', 'Texas Chainsaw 3D', 'Copycat', 'Scary Movie 5', 'Paint Your Wagon', 'Milk', 'Risen', 'Ghost Ship', 'A Very Harold & Kumar Christmas', 'Wild Things', 'The Stepfather', 'The Debt', 'High Fidelity', 'One Missed Call', 'Eye for an Eye', 'The Bank Job', 'Eternal Sunshine of the Spotless Mind', 'You Again', 'Street Kings', \"The World's End\", 'Nancy Drew', 'Daybreakers', \"She's Out of My League\", 'Monte Carlo', 'Stay Alive', 'Quigley Down Under', 'Alpha and Omega', 'The Covenant', 'Stick It', 'Shorts', 'To Die For', 'Nerve', 'Appaloosa', 'Vampires', 'Psycho', \"My Best Friend's Girl\", 'Endless Love', 'Georgia Rule', 'Under the Rainbow', 'Ladyhawke', 'Simon Birch', 'Reign Over Me', 'Into the Wild', 'School for Scoundrels', 'Silent Hill: Revelation 3D', 'From Dusk Till Dawn', \"Pooh's Heffalump Movie\", 'Home for the Holidays', 'Kung Fu Hustle', 'The Country Bears', 'The Kite Runner', '21 Grams', 'Paparazzi', 'A Guy Thing', 'Loser', 'Capitalism: A Love Story', 'The Greatest Story Ever Told', 'Secret in Their Eyes', 'Disaster Movie', 'Armored', 'The Man Who Knew Too Little', \"What's Your Number?\", 'Lockout', 'Envy', 'Crank: High Voltage', 'Bullets Over Broadway', 'One Night with the King', 'The Quiet American', 'The Weather Man', 'Undisputed', 'Ghost Town', '12 Rounds', 'Let Me In', '3 Ninjas Kick Back', 'Be Kind Rewind', 'Mrs Henderson Presents', 'Triple 9', 'Deconstructing Harry', 'Three to Tango', 'Burnt', \"We're No Angels\", 'Everyone Says I Love You', 'Death Sentence', \"Everybody's Fine\", 'Superbabies: Baby Geniuses 2', 'The Man', 'Code Name: The Cleaner', 'Connie and Carla', 'Sweet Charity', 'Inherent Vice', 'Doogal', 'Battle of the Year', 'An American Carol', 'Machete Kills', 'Willard', 'Strange Wilderness', 'Topsy-Turvy', 'Little Boy', 'A Dangerous Method', 'A Scanner Darkly', 'Chasing Mavericks', 'Alone in the Dark', 'Bandslam', 'Birth', 'A Most Violent Year', 'Passchendaele', 'Flash of Genius', \"I'm Not There.\", 'The Cold Light of Day', 'The Brothers Bloom', 'Synecdoche, New York', 'Princess Mononoke', 'Bon voyage', \"Can't Stop the Music\", 'The Proposition', 'My All American', 'Marci X', 'Equilibrium', 'The Children of Huang Shi', 'The Yards', 'The Oogieloves in the Big Balloon Adventure', 'By the Sea', 'Steamboy', 'The Game of Their Lives', 'All Good Things', 'Rapa Nui', 'CJ7', 'The Visitors II: The Corridors of Time', 'Dylan Dog: Dead of Night', 'People I Know', 'The Tempest', 'Regression', 'Three Kingdoms: Resurrection of the Dragon', 'Butterfly on a Wheel', 'Zambezia', 'Ramanujan', 'Dwegons', 'Hands of Stone', 'Survivor', 'The Frozen Ground', 'The Painted Veil', 'The Baader Meinhof Complex', 'Dances with Wolves', 'Bad Teacher', 'Sea of Love', 'A Cinderella Story', 'Scream', 'Thir13en Ghosts', 'The Shining', 'Back to the Future', 'House on Haunted Hill', 'I Can Do Bad All By Myself', 'Fight Valley', 'The Switch', 'Just Married', \"The Devil's Double\", 'Thomas and the Magic Railroad', 'The Crazies', 'Spirited Away', 'Firestorm', 'The Bounty', 'The Book Thief', 'Sex Drive', 'Leap Year', 'The Fall of the Roman Empire', 'Take Me Home Tonight', \"Won't Back Down\", 'The Nutcracker', 'Kansas City', 'Indignation', 'The Amityville Horror', 'Adaptation.', 'Land of the Dead', 'Out of Inferno', 'Fear and Loathing in Las Vegas', 'The Invention of Lying', 'Neighbors', 'The Mask', 'Big', 'Borat: Cultural Learnings of America for Make Benefit Glorious Nation of Kazakhstan', 'Legally Blonde', 'Star Trek III: The Search for Spock', 'The Exorcism of Emily Rose', 'Deuce Bigalow: Male Gigolo', 'Left Behind', 'The Family Stone', 'Barbershop 2:  Back in Business', 'Bad Santa', 'Austin Powers: International Man of Mystery', 'My Big Fat Greek Wedding 2', 'Diary of a Wimpy Kid: Rodrick Rules', 'Predator', 'Amadeus', 'Prom Night', 'Mean Girls', 'Under the Tuscan Sun', 'Gosford Park', 'Peggy Sue Got Married', 'Birdman', 'Blue Jasmine', 'United 93', 'Honey', 'Spy Hard', 'The Fog', 'Soul Surfer', 'Catch-22', 'Observe and Report', 'Conan the Destroyer', 'Raging Bull', 'Love Happens', 'Young Sherlock Holmes', 'Fame', '127 Hours', 'Small Time Crooks', 'Center Stage', 'Love the Coopers', 'Catch That Kid', 'Life as a House', 'Steve Jobs', 'I Love You, Beth Cooper', 'Youth in Revolt', 'The Legend of the Lone Ranger', 'The Tailor of Panama', 'Blow Out', 'Getaway', 'The Ice Storm', 'And So It Goes', 'Troop Beverly Hills', 'Being Julia', 'Nine 1/2 Weeks', 'Dragonslayer', 'The Last Station', 'Ed Wood', 'Labor Day', 'Mongol: The Rise of Genghis Khan', 'RockNRolla', 'Megaforce', 'Hamlet', \"Mao's Last Dancer\", 'Midnight Special', 'Anything Else', 'The Railway Man', 'The White Ribbon', 'Restoration', 'The Wraith', 'Salton Sea', 'Metallica: Through the Never', 'The Informers', 'Carlos', 'I Come with the Rain', \"One Man's Hero\", 'Day of the Dead', 'I Am Wrath', 'Renaissance', 'Red Sonja', 'Red Lights', 'Superbad', 'Madea Goes to Jail', 'Wolves', 'Step Up 2: The Streets', 'Hoodwinked!', 'Hotel Rwanda', 'Hitman', 'Black Nativity', 'The Prince', 'City of Ghosts', 'The Others', 'Aliens', 'My Fair Lady', 'I Know What You Did Last Summer', \"Let's Be Cops\", 'Sideways', 'Beerfest', 'Halloween', 'Good Boy!', 'The Best Man Holiday', \"Smokin' Aces\", 'Saw: The Final Chapter', '40 Days and 40 Nights', 'A Night at the Roxbury', 'Beastly', 'The Hills Have Eyes', 'Dickie Roberts: Former Child Star', 'McFarland, USA', 'Lottery Ticket', 'ATL', 'Pitch Perfect', 'Summer Catch', 'A Simple Plan', 'They', 'Larry the Cable Guy: Health Inspector', 'The Adventures of Elmo in Grouchland', \"Brooklyn's Finest\", '55 Days at Peking', 'Evil Dead', 'My Life in Ruins', 'American Dreamz', 'Superman IV: The Quest for Peace', 'How She Move', 'Running Scared', 'Bobby Jones: Stroke of Genius', 'Shanghai Surprise', 'The Illusionist', 'Roar', 'Veronica Guerin', 'Escobar: Paradise Lost', 'Southland Tales', 'Dragon Hunters', 'Damnation Alley', 'The Apparition', 'My Girl', 'Fur: An Imaginary Portrait of Diane Arbus', 'Wall Street', 'Sense and Sensibility', 'Becoming Jane', 'Sydney White', 'House of Sand and Fog', 'Dead Poets Society', 'Dumb and Dumber', 'When Harry Met Sally...', 'The Verdict', 'Road Trip', 'Varsity Blues', 'The Artist', 'The Unborn', 'Moonrise Kingdom', 'The Texas Chainsaw Massacre: The Beginning', 'The Young Messiah', 'The Master of Disguise', \"Pan's Labyrinth\", 'See Spot Run', 'Baby Boy', 'The Roommate', 'Joe Dirt', 'Double Impact', 'Hot Fuzz', 'The Women', 'Vicky Cristina Barcelona', 'Arn: The Knight Templar', 'Boys and Girls', 'White Oleander', \"Jennifer's Body\", 'Drowning Mona', 'Radio Days', 'Remember Me', 'How to Deal', 'My Stepmother is an Alien', 'Philadelphia', 'The Thirteenth Floor', 'The Cookout', 'Meteor', 'Duets', 'Hollywood Ending', 'Detroit Rock City', 'Highlander', 'Things We Lost in the Fire', 'Steel', 'The Immigrant', 'The White Countess', 'Trance', 'Soul Plane', 'Welcome to the Sticks', 'Good', 'Enter the Void', 'Vamps', \"Hachi: A Dog's Tale\", 'Zulu', 'The Homesman', 'Juwanna Mann', 'Ararat', 'Madison', 'Slow Burn', 'Wasabi', 'Slither', 'Beverly Hills Cop', 'Home Alone', 'Three Men and a Baby', 'Tootsie', 'Top Gun', 'Crouching Tiger, Hidden Dragon', 'American Beauty', \"The King's Speech\", 'Twins', 'The Yellow Handkerchief', 'The Color Purple', 'Tidal Wave', 'The Imitation Game', 'Private Benjamin', \"Coal Miner's Daughter\", 'Diary of a Wimpy Kid', 'Mama', \"National Lampoon's Vacation\", 'Bad Grandpa', 'The Queen', 'Beetlejuice', 'Why Did I Get Married?', 'Little Women', 'The Woman in Black', 'When a Stranger Calls', 'Big Fat Liar', 'The Deer Hunter', 'Wag the Dog', 'The Lizzie McGuire Movie', 'Snitch', 'Krampus', 'The Faculty', \"What's Love Got to Do with It\", 'Cop Land', 'Not Another Teen Movie', 'End of Watch', 'The Skulls', 'The Theory of Everything', \"Malibu's Most Wanted\", 'Where the Heart Is', 'Lawrence of Arabia', 'Halloween II', 'Wild', 'The Last House on the Left', 'The Wedding Date', 'Halloween: Resurrection', 'The Princess Bride', 'The Great Debaters', 'Drive', 'Confessions of a Teenage Drama Queen', 'The Object of My Affection', '28 Weeks Later', 'When the Game Stands Tall', 'Because of Winn-Dixie', 'Love & Basketball', 'Grosse Pointe Blank', 'All About Steve', 'Book of Shadows: Blair Witch 2', 'The Craft', 'Match Point', 'Ramona and Beezus', 'The Remains of the Day', 'Boogie Nights', 'Nowhere to Run', 'Flicka', 'The Hills Have Eyes 2', 'Urban Legends: Final Cut', 'Tuck Everlasting', 'The Marine', 'Keanu', 'Country Strong', 'Disturbing Behavior', 'The Place Beyond the Pines', 'The November Man', 'Eye of the Beholder', 'The Hurt Locker', 'Firestarter', 'Killing Them Softly', 'A Most Wanted Man', 'Freddy Got Fingered', \"VeggieTales: The Pirates Who Don't Do Anything\", 'U2 3D', 'Highlander: Endgame', 'Idlewild', 'One Day', 'Whip It', 'Knockaround Guys', 'Confidence', 'The Muse', 'De-Lovely', 'New York Stories', \"Barney's Great Adventure\", 'The Man with the Iron Fists', 'Home Fries', 'Here On Earth', 'Brazil', 'Raise Your Voice', 'The Big Lebowski', 'Black Snake Moan', 'Dark Blue', 'A Mighty Heart', 'Whatever It Takes', 'Boat Trip', 'The Importance of Being Earnest', 'The Love Letter', 'Hoot', 'In Bruges', 'Peeples', 'The Rocker', 'Post Grad', 'Promised Land', 'Whatever Works', 'The In Crowd', 'The Three Burials of Melquiades Estrada', 'Jakob the Liar', 'Kiss Kiss Bang Bang', 'Idle Hands', 'Mulholland Drive', 'Blood and Chocolate', 'You Will Meet a Tall Dark Stranger', 'Never Let Me Go', 'The Company', 'Transsiberian', 'The Clan of the Cave Bear', 'Crazy in Alabama', 'Funny Games', 'Listening', \"Felicia's Journey\", 'Metropolis', 'District B13', \"Things to Do in Denver When You're Dead\", 'The Assassin', 'Buffalo Soldiers', 'The Return', 'Ong Bak 2', 'Centurion', 'Silent Trigger', 'The Midnight Meat Train', 'Winnie Mandela', 'The Son of No One', \"All The Queen's Men\", 'The Good Night', 'Bathory: Countess of Blood', 'Khumba', 'Automata', 'Dungeons & Dragons: Wrath of the Dragon God', 'Chiamatemi Francesco - Il Papa della gente', 'Shinjuku Incident', 'Pandaemonium', 'Groundhog Day', 'Magic Mike XXL', 'Romeo + Juliet', \"Sarah's Key\", 'Freedom', 'Unforgiven', 'Manderlay', 'Slumdog Millionaire', 'Fatal Attraction', 'Pretty Woman', 'Crocodile Dundee II', 'Broken Horses', 'Born on the Fourth of July', 'Cool Runnings', 'My Bloody Valentine', 'Stomp the Yard', 'The Spy Who Loved Me', 'Urban Legend', 'Good Deeds', 'White Fang', 'Superstar', 'The Iron Lady', 'Jonah: A VeggieTales Movie', 'Poetic Justice', 'All About the Benjamins', 'Vampire in Brooklyn', 'Exorcist II: The Heretic', 'An American Haunting', \"My Boss's Daughter\", 'A Perfect Getaway', 'Our Family Wedding', 'Dead Man on Campus', 'Tea with Mussolini', 'Thinner', 'New York, New York', 'Crooklyn', 'I Think I Love My Wife', 'Jason X', 'Bobby', 'Head Over Heels', 'Fun Size', 'The Diving Bell and the Butterfly', 'Little Children', 'Gossip', 'A Walk on the Moon', 'Catch a Fire', 'Soul Survivors', 'Jefferson in Paris', 'Easy Virtue', 'Caravans', 'Mr. Turner', 'Wild Grass', 'Amen.', 'Reign of Assassins', 'The Lucky Ones', 'Margaret', 'Stan Helsing', 'Flipped', 'Brokeback Mountain', 'Clueless', 'Far from Heaven', 'Hot Tub Time Machine 2', 'Quills', 'Seven Psychopaths', \"The Caveman's Valentine\", 'Downfall', 'The Sea Inside', 'Under the Skin', 'Good Morning, Vietnam', 'The Last Godfather', 'Justin Bieber: Never Say Never', 'Black Swan', 'The Godfather: Part II', 'Save the Last Dance', 'A Nightmare on Elm Street 4: The Dream Master', 'Miracles from Heaven', 'Dude, Where’s My Car?', 'Young Guns', 'St. Vincent', 'About Last Night', '10 Things I Hate About You', 'The New Guy', \"National Lampoon's Loaded Weapon 1\", 'The Shallows', 'The Butterfly Effect', 'Snow Day', 'This Christmas', 'Baby Geniuses', 'The Big Hit', 'Harriet the Spy', \"Child's Play 2\", 'No Good Deed', 'The Mist', 'Ex Machina', 'Being John Malkovich', 'Two Can Play That Game', 'Earth to Echo', 'Crazy/Beautiful', 'Letters from Iwo Jima', 'The Astronaut Farmer', 'Woo', 'Room', 'Dirty Work', 'Serial Mom', 'Dick', 'Light It Up', '54', 'Bubble Boy', 'Birthday Girl', '21 & Over', \"Paris, je t'aime\", 'Resurrecting the Champ', 'Admission', 'The Widow of Saint-Pierre', 'Chloe', 'Faithful', 'Find Me Guilty', 'The Perks of Being a Wallflower', 'Excessive Force', 'Infamous', 'The Claim', 'The Vatican Tapes', 'Attack the Block', 'In the Land of Blood and Honey', 'The Call', 'Operation Chromite', 'The Crocodile Hunter: Collision Course', 'I Love You Phillip Morris', 'Quest for Fire', 'Antwone Fisher', \"The Emperor's Club\", 'True Romance', 'Womb', 'Glengarry Glen Ross', 'The Killer Inside Me', 'Cat People', 'Sorority Row', 'The Prisoner of Zenda', 'Lars and the Real Girl', 'The Boy in the Striped Pyjamas', 'Dancer in the Dark', 'Oscar and Lucinda', 'The Funeral', 'Solitary Man', 'Machete', 'Casino Jack', 'The Land Before Time', 'Tae Guk Gi: The Brotherhood of War', 'The Perfect Game', 'The Exorcist', 'Jaws', 'American Pie', 'Ernest & Celestine', 'The Golden Child', 'Think Like a Man', 'Barbershop', 'Star Trek II: The Wrath of Khan', 'Ace Ventura: Pet Detective', 'WarGames', 'Witness', 'Act of Valor', 'Step Up', 'Beavis and Butt-Head Do America', 'Jackie Brown', 'Harold & Kumar Escape from Guantanamo Bay', 'Chronicle', 'Yentl', 'Time Bandits', 'Crossroads', 'Project X', 'Patton', 'One Hour Photo', 'Quarantine', 'The Eye', 'Johnson Family Vacation', 'How High', 'The Muppet Christmas Carol', 'Frida', 'Katy Perry: Part of Me', 'The Fault in Our Stars', 'Rounders', 'Top Five', 'Prophecy', 'Stir of Echoes', 'Philomena', 'The Upside of Anger', 'The Boys from Brazil', 'Aquamarine', 'Paper Towns', \"My Baby's Daddy\", 'Nebraska', 'Tales from the Crypt: Demon Knight', \"Max Keeble's Big Move\", 'Young Adult', 'Crank', \"Def Jam's How to Be a Player\", 'Living Out Loud', 'Just Wright', 'Rachel Getting Married', 'The Postman Always Rings Twice', 'Girl with a Pearl Earring', 'Das Boot', 'Sorority Boys', 'About Time', 'House of Flying Daggers', 'Arbitrage', 'Project Almanac', 'Cadillac Records', 'Screwed', 'Fortress', 'For Your Consideration', 'Celebrity', 'Running with Scissors', 'From Justin to Kelly', 'Girl 6', 'In the Cut', 'Two Lovers', 'Last Orders', 'The Host', 'The Pursuit of D.B. Cooper', 'Ravenous', 'Charlie Bartlett', 'The Great Beauty', 'The Dangerous Lives of Altar Boys', 'Stoker', '2046', 'Married Life', 'Duma', 'Ondine', 'Brother', 'Welcome to Collinwood', 'Critical Care', 'The Life Before Her Eyes', 'Darling Companion', 'Trade', 'Fateless', 'Breakfast of Champions', 'A Woman, a Gun and a Noodle Shop', 'Cypher', 'City of Life and Death', 'Legend of a Rabbit', 'Space Battleship Yamato', '5 Days of War', 'Triangle', '10 Days in a Madhouse', 'Heaven is for Real', 'Snatch', \"Dancin' It's On\", 'Pet Sematary', 'Madadayo', 'The Cry of the Owl', 'A Tale of Three Cities', 'Gremlins', 'Star Wars', 'Dirty Grandpa', 'Doctor Zhivago', 'Trash', 'High School Musical 3: Senior Year', 'The Fighter', 'Jackass Number Two', 'My Cousin Vinny', 'If I Stay', 'Drive Hard', 'Major League', \"St. Trinian's\", 'Phone Booth', 'A Walk to Remember', 'Dead Man Walking', 'Cruel Intentions', 'Saw VI', 'History of the World: Part I', 'The Secret Life of Bees', 'Corky Romano', 'Raising Cain', 'F.I.S.T.', 'Invaders from Mars', 'Brooklyn', 'Barry Lyndon', 'Out Cold', 'The Ladies Man', 'Quartet', 'Tomcats', 'Frailty', 'Woman in Gold', 'Kinsey', 'Army of Darkness', 'Slackers', \"What's Eating Gilbert Grape\", 'The Visual Bible: The Gospel of John', 'Vera Drake', 'The Guru', 'The Perez Family', 'Inside Llewyn Davis', 'O', 'Return to the Blue Lagoon', 'The Molly Maguires', 'Romance & Cigarettes', 'Copying Beethoven', 'Brighton Rock', 'Saw V', 'Machine Gun McCain', 'LOL', 'Jindabyne', 'Kabhi Alvida Naa Kehna', 'An Ideal Husband', 'The Last Days on Mars', 'Darkness', '2001: A Space Odyssey', 'E.T. the Extra-Terrestrial', 'In the Land of Women', 'The Blue Butterfly', 'There Goes My Baby', 'Housefull', 'September Dawn', 'For Greater Glory - The True Story of Cristiada', 'The Bélier Family', 'Good Will Hunting', 'Misconduct', 'Saw III', 'Stripes', 'Bring It On', 'The Purge: Election Year', \"She's All That\", 'Saw IV', 'White Noise', \"Madea's Family Reunion\", 'The Color of Money', 'The Longest Day', 'The Mighty Ducks', 'The Grudge', 'Happy Gilmore', 'Jeepers Creepers', \"Bill & Ted's Excellent Adventure\", 'Oliver!', 'The Best Exotic Marigold Hotel', \"Recess: School's Out\", 'Mad Max Beyond Thunderdome', 'Commando', 'The Boy', 'Devil', 'Friday After Next', 'Insidious: Chapter 3', 'The Last Dragon', 'The Lawnmower Man', \"Nick and Norah's Infinite Playlist\", 'Dogma', 'The Banger Sisters', 'Twilight Zone: The Movie', 'Road House', 'A Low Down Dirty Shame', 'Swimfan', 'Employee of the Month', \"Can't Hardly Wait\", 'The Outsiders', \"Pete's Dragon\", 'The Dead Zone', 'Sinister 2', 'Sparkle', 'Valentine', 'The Fourth Kind', 'A Prairie Home Companion', 'Sugar Hill', 'Invasion U.S.A.', 'Roll Bounce', 'Rushmore', 'Skyline', 'The Second Best Exotic Marigold Hotel', 'Kit Kittredge: An American Girl', 'The Perfect Man', \"Mo' Better Blues\", 'Kung Pow: Enter the Fist', 'Tremors', 'Wrong Turn', 'The Long Riders', 'The Corruptor', 'Mud', 'Reno 911!: Miami', 'One Direction: This Is Us', 'The Goods: Live Hard, Sell Hard', 'Hey Arnold! The Movie', 'My Week with Marilyn', 'The Matador', 'Love Jones', 'The Gift', 'End of the Spear', 'Get Over It', 'Office Space', 'Drop Dead Gorgeous', 'Big Eyes', 'Very Bad Things', 'Sleepover', 'Body Double', 'MacGruber', 'Dirty Pretty Things', 'Movie 43', 'Over Her Dead Body', 'Seeking a Friend for the End of the World', 'Cedar Rapids', 'American History X', 'The Collection', \"Teacher's Pet\", 'The Red Violin', 'The Straight Story', 'Deuces Wild', 'Bad Words', 'Run, Fatboy, Run', 'Heartbeeps', 'Black or White', 'On the Line', 'Rescue Dawn', 'Danny Collins', 'Jeff, Who Lives at Home', 'I Am Love', 'Atlas Shrugged Part II', 'Romeo Is Bleeding', 'The Limey', 'Crash', 'The House of Mirth', 'Malone', 'Peaceful Warrior', 'Bucky Larson: Born to Be a Star', 'Bamboozled', 'The Forest', 'Sphinx', \"While We're Young\", 'A Better Life', 'Spider', 'Gun Shy', 'Nicholas Nickleby', 'The Iceman', 'Krrish', 'Cecil B. Demented', 'Killer Joe', 'The Joneses', 'Owning Mahowny', 'The Brothers Solomon', 'My Blueberry Nights', 'Illuminata', 'Swept Away', 'War, Inc.', 'Shaolin Soccer', 'The Brown Bunny', 'The Swindle', 'Rosewater', 'The Chambermaid on the Titanic', 'Coriolanus', 'Imaginary Heroes', 'High Heels and Low Lifes', \"World's Greatest Dad\", 'Severance', 'Edmond', 'Welcome to the Rileys', 'Police Academy: Mission to Moscow', 'Blood Done Sign My Name', 'Cinco de Mayo: La Batalla', 'Elsa & Fred', 'An Alan Smithee Film: Burn, Hollywood, Burn', 'The Open Road', 'The Good Guy', 'Motherhood', 'Free Style', 'Strangerland', 'Janky Promoters', 'Blonde Ambition', 'The Oxford Murders', 'The Reef', 'Eulogy', 'White Noise 2: The Light', 'Beat the World', 'Fifty Dead Men Walking', 'Jungle Shuffle', 'Adam Resurrected', 'Of Horses and Men', \"It's a Wonderful Afterlife\", \"The Devil's Tomb\", 'Partition', 'Good Intentions', 'The Good, The Bad, The Weird', 'Nurse 3-D', 'Gunless', 'Adventureland', 'The Lost City', 'Next Friday', 'American Heist', 'You Only Live Twice', 'Plastic', 'Amour', 'Poltergeist III', 'Re-Kill', \"It's a Mad, Mad, Mad, Mad World\", 'Volver', 'Heavy Metal', 'Gentlemen Broncos', 'Richard III', 'Into the Grizzly Maze', 'Kites', 'Melancholia', 'Red Dog', 'Jab Tak Hai Jaan', 'Alien', 'The Texas Chain Saw Massacre', 'The Runaways', 'Fiddler on the Roof', 'Thunderball', 'Detention', 'Loose Cannons', 'Set It Off', 'The Best Man', \"Child's Play\", 'Sicko', 'The Purge: Anarchy', 'Down to You', 'Harold & Kumar Go to White Castle', 'The Contender', 'Boiler Room', 'Trading Places', 'Black Christmas', \"Breakin' All the Rules\", 'Henry V', 'The Savages', 'Chasing Papi', 'The Way of the Gun', 'Igby Goes Down', 'PCU', 'The Ultimate Gift', 'The Ice Pirates', 'Gracie', 'Trust the Man', 'Hamlet 2', 'Velvet Goldmine', 'The Wailing', 'Glee: The Concert Movie', 'The Legend of Suriyothai', 'Two Evil Eyes', 'Barbecue', 'All or Nothing', 'Princess Kaiulani', 'Opal Dream', 'Flame & Citron', 'Undiscovered', 'Red Riding: In the Year of Our Lord 1974', 'The Girl on the Train', 'Veronika Decides to Die', 'Crocodile Dundee', 'Ultramarines: A Warhammer 40,000 Movie', 'The I Inside', 'Beneath Hill 60', 'Polisse', 'Awake', 'Star Wars: Clone Wars: Volume 1', 'Skin Trade', 'The Lost Boys', 'Crazy Heart', 'The Rose', 'Baggage Claim', 'Barbarella', 'Shipwrecked', 'Election', 'The Namesake', 'The DUFF', 'Glitter', 'The Haunting in Connecticut 2: Ghosts of Georgia', 'Silmido', 'Bright Star', 'My Name Is Khan', 'All Is Lost', 'Limbo', 'Namastey London', 'The Wind That Shakes the Barley', 'Yeh Jawaani Hai Deewani', 'Quo Vadis', 'Repo! The Genetic Opera', 'Valley of the Wolves: Iraq', 'Pulp Fiction', 'The Muppet Movie', 'Nightcrawler', 'Club Dread', 'The Sound of Music', 'Splash', 'Little Miss Sunshine', 'Stand by Me', '28 Days Later', 'You Got Served', 'Escape from Alcatraz', 'Brown Sugar', 'A Thin Line Between Love and Hate', '50/50', 'Shutter', 'That Awkward Moment', 'Modern Problems', 'Kicks', 'Much Ado About Nothing', \"On Her Majesty's Secret Service\", 'New Nightmare', 'Drive Me Crazy', 'Akeelah and the Bee', 'Half Baked', 'New in Town', 'American Psycho', 'The Good Girl', 'Bon Cop Bad Cop', 'The Boondock Saints II: All Saints Day', 'The City of Your Final Destination', 'Enough Said', 'Easy A', 'The Inkwell', 'Shadow of the Vampire', 'Prom', 'The Pallbearer', 'Held Up', 'Woman on Top', 'Howards End', 'Anomalisa', 'Another Year', '8 Women', 'Showdown in Little Tokyo', 'Clay Pigeons', \"It's Kind of a Funny Story\", 'Made in Dagenham', 'When Did You Last See Your Father?', 'Prefontaine', 'The Wicked Lady', 'The Secret of Kells', 'Begin Again', 'Down in the Valley', 'Brooklyn Rules', 'Restless', 'The Singing Detective', 'The Land Girls', 'Fido', 'The Wendell Baker Story', 'Wild Target', 'Pathology', 'Wuthering Heights', '10th & Wolf', 'Dear Wendy', 'Aloft', 'Akira', 'The Death and Life of Bobby Z', 'The Rocket: The Legend of Rocket Richard', 'Swelter', 'My Lucky Star', 'Imagine Me & You', 'Mr. Church', 'Swimming Pool', 'Green Street Hooligans: Underground', 'The Blood of Heroes', 'Code of Honor', 'Driving Miss Daisy', 'Soul Food', 'Rumble in the Bronx', 'Far from Men', 'Thank You for Smoking', 'Hostel: Part II', 'An Education', 'Shopgirl', 'The Hotel New Hampshire', 'Narc', 'Men with Brooms', 'Witless Protection', 'The Work and the Glory', 'Extract', 'Masked and Anonymous', 'Betty Fisher and Other Stories', 'Code 46', 'Outside Bet', 'Albert Nobbs', 'Black November', 'Ta Ra Rum Pum', 'Persepolis', 'The Hole', 'The Wave', 'The Neon Demon', 'Harry Brown', 'The Omega Code', 'Juno', 'Pound of Flesh', 'Diamonds Are Forever', 'The Godfather', 'Flashdance', '(500) Days of Summer', 'The Piano', 'Magic Mike', 'Darkness Falls', 'Live and Let Die', 'My Dog Skip', 'Definitely, Maybe', 'Jumping the Broom', 'Good Night, and Good Luck.', 'Capote', 'Desperado', \"Logan's Run\", 'The Man with the Golden Gun', 'Action Jackson', 'The Descent', 'Michael Jordan to the Max', \"Devil's Due\", 'Flirting with Disaster', \"The Devil's Rejects\", 'Dope', 'In Too Deep', 'House of 1000 Corpses', 'Alien Zone', 'A Serious Man', 'Get Low', 'Warlock', 'Beyond the Lights', 'A Single Man', 'The Last Temptation of Christ', 'Outside Providence', 'Bride & Prejudice', 'Rabbit-Proof Fence', \"Who's Your Caddy?\", 'Split Second', 'The Other Side of Heaven', 'Veer-Zaara', 'Redbelt', 'Cyrus', 'A Dog Of Flanders', 'Auto Focus', 'Factory Girl', 'We Need to Talk About Kevin', 'The Christmas Candle', 'The Mighty Macs', \"Losin' It\", 'Mother and Child', 'March or Die', 'The Visitors', 'Somewhere', 'I Hope They Serve Beer in Hell', 'Chairman of the Board', 'Hesher', 'Dom Hemingway', 'Gerry', 'The Heart of Me', 'Freeheld', 'The Extra Man', 'Hard to Be a God', 'Ca$h', 'Wah-Wah', 'The Boondock Saints', 'Z Storm', 'Twixt', 'The Snow Queen', 'Alpha and Omega: The Legend of the Saw Tooth Cave', 'Pale Rider', 'Stargate: The Ark of Truth', 'Dazed and Confused', 'High School Musical 2', 'Two Lovers and a Bear', 'Criminal Activities', 'Aimee & Jaguar', 'The Chumscrubber', 'Shade', 'House at the End of the Street', 'Incendies', 'Remember Me, My Love', 'Perrier’s Bounty', 'Elite Squad', 'Annabelle', 'Bran Nue Dae', 'Boyz n the Hood', 'La Bamba', 'The Four Seasons', 'Dressed to Kill', 'The Adventures of Huck Finn', 'Go', 'Friends with Money', 'The Andromeda Strain', 'Bats', 'Nowhere in Africa', 'Shame', 'Layer Cake', 'The Work and the Glory II: American Zion', 'The East', 'A Home at the End of the World', 'Aberdeen', 'The Messenger', 'Tracker', 'Control', 'The Terminator', 'Good bye, Lenin!', 'The Damned United', 'The Return of the Living Dead', 'Mallrats', 'Grease', 'Platoon', 'Fahrenheit 9/11', 'Butch Cassidy and the Sundance Kid', 'Mary Poppins', 'Ordinary People', 'West Side Story', 'Caddyshack', 'The Brothers', 'The Wood', 'The Usual Suspects', 'A Nightmare on Elm Street 5: The Dream Child', 'National Lampoon’s Van Wilder', 'The Wrestler', 'Duel in the Sun', 'Best in Show', 'Escape from New York', 'School Daze', 'Daddy Day Camp', 'Mr. Nice Guy', 'A Mighty Wind', 'Mystic Pizza', 'Sliding Doors', 'Tales from the Hood', 'The Last King of Scotland', 'Halloween 5: The Revenge of Michael Myers', 'Bernie', 'Dolphins and Whales: Tribes of the Ocean', 'Pollock', '200 Cigarettes', 'The Words', 'Casa De Mi Padre', 'City Island', 'The Guard', 'College', 'The Virgin Suicides', 'Little Voice', 'Miss March', 'Wish I Was Here', 'Simply Irresistible', 'Hedwig and the Angry Inch', 'Only the Strong', 'Goddess of Love', 'Shattered Glass', 'Novocaine', 'The Business of Strangers', 'The Wild Bunch', 'The Wackness', 'The First Great Train Robbery', 'Morvern Callar', 'Beastmaster 2: Through the Portal of Time', 'The 5th Quarter', 'The Flower of Evil', 'The Greatest', 'Snow Flower and the Secret Fan', 'Come Early Morning', 'Lucky Break', 'Julia', 'Surfer, Dude', 'Lake of Fire', '11:14', 'Men of War', 'Don McKay', 'Deadfall', 'A Shine of Rainbows', 'The Hit List', 'Emma', 'Videodrome', 'The Spanish Apartment', 'Song One', 'Winter in Wartime', 'Freaky Deaky', 'The Train', 'Trade Of Innocents', 'The Protector', 'Stiff Upper Lips', 'Bend It Like Beckham', 'Sunshine State', 'Crossover', 'Khiladi 786', '[REC]²', 'Standing Ovation', 'The Sting', 'Chariots of Fire', 'Diary of a Mad Black Woman', 'Shine', 'Don Jon', 'High Plains Drifter', 'Ghost World', 'Iris', 'Galaxina', 'The Chorus', 'Mambo Italiano', 'Wonderland', 'Do the Right Thing', 'Harvard Man', 'Le Havre', 'Irreversible', 'R100', 'Rang De Basanti', 'Animals', 'Salvation Boulevard', 'The Ten', 'A Room for Romeo Brass', 'Headhunters', 'Grabbers', 'Saint Ralph', 'Miss Julie', 'Somewhere in Time', 'Dum Maaro Dum', 'Insidious: Chapter 2', 'Saw II', '10 Cloverfield Lane', 'Jackass: The Movie', 'Lights Out', 'Paranormal Activity 3', 'Ouija', 'A Nightmare on Elm Street 3: Dream Warriors', 'Instructions Not Included', 'Paranormal Activity 4', 'The Robe', 'The Return of the Pink Panther', \"Freddy's Dead: The Final Nightmare\", 'Monster', '20,000 Leagues Under the Sea', 'Paranormal Activity: The Marked Ones', 'The Elephant Man', 'Dallas Buyers Club', 'The Lazarus Effect', 'Memento', 'Oculus', 'Clerks II', 'Billy Elliot', 'The Way Way Back', 'House Party 2', 'The Man from Snowy River', \"Doug's 1st Movie\", 'The Apostle', 'Mommie Dearest', 'Our Idiot Brother', 'Race', 'The Players Club', 'As Above, So Below', 'Addicted', \"Eve's Bayou\", 'Still Alice', 'The Egyptian', 'Nighthawks', 'Friday the 13th Part VIII: Jason Takes Manhattan', 'My Big Fat Greek Wedding', 'Spring Breakers', 'Halloween: The Curse of Michael Myers', 'Y Tu Mamá También', 'Shaun of the Dead', 'The Haunting of Molly Hartley', 'Lone Star', 'Halloween 4: The Return of Michael Myers', \"April Fool's Day\", 'Diner', 'Lone Wolf McQuade', 'Apollo 18', 'Sunshine Cleaning', 'No Escape', 'The Beastmaster', 'Solomon and Sheba', 'Fifty Shades of Black', 'Not Easily Broken', 'A Farewell to Arms', 'The Perfect Match', 'Digimon: The Movie', 'Saved!', 'The Barbarian Invasions', 'Robin and Marian', 'The Forsaken', 'Force 10 from Navarone', 'UHF', \"Grandma's Boy\", 'Slums of Beverly Hills', 'Once Upon a Time in the West', 'Made', 'Moon', 'Keeping Up with the Steins', 'Sea Rex 3D: Journey to a Prehistoric World', 'The Sweet Hereafter', 'Of Gods and Men', 'Bottle Shock', 'Jekyll and Hyde ... Together Again', 'Heavenly Creatures', '90 Minutes in Heaven', 'Everything Must Go', 'Zero Effect', 'The Machinist', 'Light Sleeper', 'Kill the Messenger', 'Rabbit Hole', 'Party Monster', 'Green Room', 'The Oh in Ohio', 'Atlas Shrugged Part III: Who is John Galt?', 'Bottle Rocket', 'Albino Alligator', 'Gandhi, My Father', 'Standard Operating Procedure', 'Out of the Blue', 'Tucker and Dale vs Evil', 'Lovely, Still', 'Tycoon', 'Desert Blue', 'Decoys', 'The Visit', 'Redacted', 'Fascination', 'Area 51', 'Sleep Tight', 'The Cottage', 'Dead Like Me: Life After Death', 'Farce of the Penguins', 'Flying By', 'Rudderless', 'Henry & Me', 'Christmas Eve', 'We Have Your Husband', 'Dying of the Light', 'Born Of War', 'Capricorn One', \"Should've Been Romeo\", 'Running Forever', 'Yoga Hosers', 'Navy Seals vs. Zombies', 'I Served the King of England', 'Soul Kitchen', 'Sling Blade', 'The Awakening', 'Hostel', 'A Cock and Bull Story', 'Take Shelter', 'Lady in White', 'Driving Lessons', \"Let's Kill Ward's Wife\", 'The Texas Chainsaw Massacre 2', 'Pat Garrett & Billy the Kid', 'Only God Forgives', 'Camping Sauvage', 'Without Men', 'Dear Frankie', 'All Hat', 'The Names of Love', 'Treading Water', 'Savage Grace', 'Out of the Blue', 'Police Academy', 'The Blue Lagoon', 'Four Weddings and a Funeral', 'Fast Times at Ridgemont High', 'Moby Dick', '25th Hour', 'Bound', 'Requiem for a Dream', 'State Fair', 'Tango', 'Salvador', \"Moms' Night Out\", 'Donnie Darko', 'Saving Private Perez', 'Character', 'Spun', 'Life During Wartime', 'Sympathy for Lady Vengeance', \"Mozart's Sister\", 'Mean Machine', 'Exiled', 'Blackthorn', 'Lilya 4-ever', 'After.Life', 'Fugly', \"One Flew Over the Cuckoo's Nest\", \"R.L. Stine's Monsterville: The Cabinet of Souls\", 'Silent Movie', 'Airlift', 'Anne of Green Gables', 'Falcon Rising', 'The Sweeney', 'Sexy Beast', 'Easy Money', 'Whale Rider', 'Paa', 'Cargo', 'High School Musical', 'Love and Death on Long Island', 'Night Watch', 'The Crying Game', \"Porky's\", 'Survival of the Dead', 'Night of the Living Dead', 'Lost in Translation', 'Annie Hall', 'The Greatest Show on Earth', \"Monster's Ball\", 'Maggie', 'Leaving Las Vegas', 'Hansel and Gretel Get Baked', 'The Front Page', 'The Boy Next Door', 'Trapeze', 'The Kids Are All Right', 'They Live', 'The Great Escape', 'What the #$*! Do We (K)now!?', 'The Last Exorcism Part II', 'Boyhood', 'Scoop', 'The Wash', '3 Strikes', 'The Cooler', 'The Misfits', 'The Night Listener', 'The Jerky Boys', 'The Orphanage', 'A Haunted House 2', 'The Rules of Attraction', 'Topaz', \"Let's Go to Prison\", 'Four Rooms', 'Secretary', 'The Real Cancun', 'Talk Radio', 'Waiting for Guffman', 'Love Stinks', 'You Kill Me', 'Thumbsucker', 'Red State', 'Mirrormask', 'Samsara', 'The Barbarians', 'The Art of Getting By', 'Zipper', 'Poolhall Junkies', 'The Loss of Sexual Innocence', 'Holy Motors', 'Joe', 'Shooting Fish', 'Prison', 'Psycho Beach Party', 'The Big Tease', 'Guten Tag, Ramón', 'Trust', 'An Everlasting Piece', 'Among Giants', 'Adore', 'The Velocity of Gary', 'Mondays in the Sun', 'Stake Land', 'The Last Time I Committed Suicide', 'Futuro Beach', 'Another Happy Day', 'A Lonely Place to Die', 'Nothing', 'The Geographer Drank His Globe Away', '1776', 'Inescapable', \"Hell's Angels\", 'Purple Violets', 'The Veil', 'The Loved Ones', 'The Helpers', 'How to Fall in Love', 'The Perfect Wave', 'A Man for All Seasons', 'Network', 'Gone with the Wind', 'Desert Dancer', 'Major Dundee', 'Annie Get Your Gun', 'Four Lions', 'The House of Sand', 'Defendor', 'The Pirate', 'The Good Heart', 'The History Boys', 'Midnight Cowboy', 'The Full Monty', 'Airplane!', 'Chain of Command', 'Friday', 'Menace II Society', 'Creepshow 2', 'The Ballad of Cable Hogue', 'In Cold Blood', \"The Nun's Story\", 'Harper', 'Frenzy', 'The Witch', 'I Got the Hook Up', \"She's the One\", 'Gods and Monsters', 'The Secret in Their Eyes', 'Train', 'Evil Dead II', 'Pootie Tang', 'Sharknado', 'The Other Conquest', 'Troll Hunter', 'Ira & Abby', 'Winter Passing', 'D.E.B.S.', 'The Masked Saint', 'The Betrayed', 'Taxman', 'The Secret', '2:13', 'Batman: The Dark Knight Returns, Part 2', 'Time to Choose', 'In the Name of the King III', 'Wicked Blood', 'Stranded', 'Lords of London', 'High Anxiety', 'March of the Penguins', 'Margin Call', 'August', 'Choke', 'Whiplash', 'City of God', 'Human Traffic', 'To Write Love on Her Arms', 'The Dead Girl', 'The Hunt', 'A Christmas Story', 'Bella', 'Class of 1984', 'The Opposite Sex', 'Dreaming of Joseph Lees', 'The Class', \"Rosemary's Baby\", 'The Man Who Shot Liberty Valance', 'Adam', 'Maria Full of Grace', 'Beginners', 'Feast', 'Animal House', 'Goldfinger', 'Antiviral', \"It's a Wonderful Life\", 'Trainspotting', 'The Original Kings of Comedy', 'Paranormal Activity 2', 'Waking Ned', 'Bowling for Columbine', 'Coming Home', \"A Nightmare on Elm Street Part 2: Freddy's Revenge\", 'A Room with a View', 'The Purge', 'Sinister', 'Martin Lawrence Live: Runteldat', 'Cat on a Hot Tin Roof', 'Beneath the Planet of the Apes', 'Air Bud', 'Pokémon: Spell of the Unknown', 'Friday the 13th Part VI: Jason Lives', 'The Bridge on the River Kwai', 'Spaced Invaders', 'Family Plot', 'The Apartment', 'Jason Goes to Hell: The Final Friday', 'Torn Curtain', \"Dave Chappelle's Block Party\", 'Slow West', 'Krush Groove', 'Next Day Air', 'Elmer Gantry', 'Judgment at Nuremberg', \"Trippin'\", 'Red River', 'Phat Girlz', 'Before Midnight', 'Teen Wolf Too', 'Phantasm II', 'Woman Thou Art Loosed', 'Real Women Have Curves', 'Water', 'East Is East', 'Whipped', 'Kama Sutra - A Tale of Love', 'Please Give', 'Willy Wonka & the Chocolate Factory', 'Warlock: The Armageddon', '8 Heads in a Duffel Bag', 'Days of Heaven', 'Thirteen Conversations About One Thing', 'Jawbreaker', 'Basquiat', 'Frances Ha', 'Tsotsi', 'Happiness', 'DysFunktional Family', 'Tusk', 'Oldboy', 'Letters to God', 'Hobo with a Shotgun', 'Compadres', 'Freeway', \"Love's Abiding Joy\", 'Fish Tank', 'Damsels in Distress', 'Creature', 'Bachelorette', 'Brave New Girl', \"Tim and Eric's Billion Dollar Movie\", 'Summer Storm', 'Fort McCoy', 'Chain Letter', 'Just Looking', 'The Divide', 'The Eclipse', 'Demonic', 'My Big Fat Independent Movie', 'The Deported', 'Tanner Hall', 'Open Road', 'They Came Together', '30 Nights of Paranormal Activity With the Devil Inside the Girl With the Dragon Tattoo', 'Never Back Down 2: The Beatdown', 'Point Blank', 'Four Single Fathers', 'Enter the Dangerous Mind', 'Something Wicked', 'AWOL-72', 'Iguana', 'Chicago Overcoat', 'Barry Munday', 'Central Station', 'Pocketful of Miracles', 'Close Range', 'Boynton Beach Club', 'Amnesiac', 'Freakonomics', 'High Tension', 'Griff the Invisible', 'Unnatural', 'Hustle & Flow', 'Some Like It Hot', 'Friday the 13th Part VII: The New Blood', 'The Wizard of Oz', 'Young Frankenstein', 'Diary of the Dead', 'Lage Raho Munna Bhai', \"Ulee's Gold\", 'The Black Stallion', 'Sardaarji', 'Journey to Saturn', \"Donovan's Reef\", 'The Dress', 'A Guy Named Joe', 'Blazing Saddles', 'Friday the 13th: The Final Chapter', 'Ida', 'Maurice', 'Beer League', 'Riding Giants', 'Timecrimes', 'Silver Medalist', 'Timber Falls', \"Singin' in the Rain\", 'Fat, Sick & Nearly Dead', 'A Haunted House', \"2016: Obama's America\", 'That Thing You Do!', 'Halloween III: Season of the Witch', 'Escape from the Planet of the Apes', 'Hud', 'Kevin Hart: Let Me Explain', 'My Own Private Idaho', 'Garden State', 'Before Sunrise', 'Evil Words', \"Jesus' Son\", 'Saving Face', 'Brick Lane', 'Robot & Frank', 'My Life Without Me', 'The Spectacular Now', 'Religulous', 'Fuel', \"Valley of the Heart's Delight\", 'Eye of the Dolphin', '8: The Mormon Proposition', 'The Other End of the Line', 'Anatomy', 'Sleep Dealer', 'Super', 'Christmas Mail', 'Stung', 'Antibirth', 'Get on the Bus', 'Thr3e', 'Idiocracy', 'The Rise of the Krays', 'This Is England', 'U.F.O.', 'Bathing Beauty', 'Go for It!', 'Dancer, Texas Pop. 81', 'Show Boat', 'Redemption Road', 'The Calling', 'The Brave Little Toaster', 'Fantasia', '8 Days', 'Friday the 13th Part III', 'Friday the 13th: A New Beginning', 'The Last Sin Eater', 'Do You Believe?', 'Impact Point', 'The Valley of Decision', 'Eden', 'Chicken Tikka Masala', \"There's Always Woodstock\", 'Jack Brooks: Monster Slayer', 'The Best Years of Our Lives', 'Bully', 'Elling', 'Mi America', '[REC]', 'Lies in Plain Sight', 'Sharkskin', 'Containment', 'The Timber', 'From Russia with Love', 'The Toxic Avenger Part II', 'Sleeper', 'It Follows', 'Everything You Always Wanted to Know About Sex *But Were Afraid to Ask', 'To Kill a Mockingbird', 'Mad Max 2: The Road Warrior', 'The Legend of Drunken Master', \"Boys Don't Cry\", 'Silent House', 'The Lives of Others', 'Courageous', 'The Hustler', 'Boom Town', 'The Triplets of Belleville', 'Smoke Signals', 'American Splendor', 'Before Sunset', 'Amores perros', 'Thirteen', \"Gentleman's Agreement\", \"Winter's Bone\", 'Touching the Void', \"Alexander's Ragtime Band\", 'Me and You and Everyone We Know', 'Inside Job', 'We Are Your Friends', 'Ghost Dog: The Way of the Samurai', 'Harsh Times', 'Captive', 'Full Frontal', 'Witchboard', 'Shortbus', 'Waltz with Bashir', 'The Book of Mormon Movie, Volume 1: The Journey', 'No End in Sight', 'The Diary of a Teenage Girl', 'In the Shadow of the Moon', \"Meek's Cutoff\", 'Inside Deep Throat', 'Dinner Rush', 'Clockwatchers', 'The Virginity Hit', 'Subway', 'House of D', 'Teeth', 'Six-String Samurai', 'Hum To Mohabbat Karega', \"It's All Gone Pete Tong\", 'Saint John of Las Vegas', '24 7: Twenty Four Seven', 'Stonewall', 'Roadside Romeo', 'This Thing of Ours', 'The Lost Medallion: The Adventures of Billy Stone', 'The Last Five Years', 'The Missing Person', 'Return of the Living Dead 3', 'London', 'Sherrybaby', 'Circle', 'Eden Lake', 'Plush', 'Lesbian Vampire Killers', \"Gangster's Paradise: Jerusalema\", 'Freeze Frame', 'Grave Encounters', 'Stitches', 'Nine Dead', 'To Be Frank, Sinatra at 100', 'Bananas', 'Supercapitalist', 'Rockaway', 'The Lady from Shanghai', \"No Man's Land: The Rise of Reeker\", 'Highway', 'Small Apartments', 'Coffee Town', 'The Ghastly Love of Johnny X', 'All Is Bright', 'The Torture Chamber of Dr. Sadism', \"Straight A's\", 'A Funny Thing Happened on the Way to the Forum', 'Slacker Uprising', \"The Legend of Hell's Gate: An American Conspiracy\", 'The Walking Deceased', 'The Curse of Downers Grove', 'Shark Lake', \"River's Edge\", 'Northfork', 'The Marine 4: Moving Target', 'Buried', 'Submarine', 'The Square', 'One to Another', 'ABCD (Any Body Can Dance)', 'Man on Wire', 'Abandoned', 'Brotherly Love', 'The Last Exorcism', 'Nowhere Boy', 'A Streetcar Named Desire', 'Dr. Strangelove or: How I Learned to Stop Worrying and Love the Bomb', 'The Crime of Padre Amaro', 'Beasts of the Southern Wild', 'Battle for the Planet of the Apes', 'Songcatcher', 'Higher Ground', 'Vaalu', 'The Greatest Movie Ever Sold', 'Ed and His Dead Mother', 'Travellers and Magicians', \"Hang 'em High\", 'Deadline - U.S.A.', 'Sublime', \"A Beginner's Guide to Snuff\", 'Independence Daysaster', 'Dysfunctional Friends', 'Run Lola Run', 'May', 'Against the Wild', 'Under the Same Moon', 'Conquest of the Planet of the Apes', 'In the Bedroom', 'I Spit on Your Grave', 'Happy, Texas', 'My Summer of Love', 'The Lunchbox', 'Yes', \"You Can't Take It With You\", 'From Here to Eternity', 'She Wore a Yellow Ribbon', 'Grace Unplugged', 'Foolish', 'N-Secure', 'Caramel', 'Out of the Dark', 'The Bubble', 'The Conversation', 'Dil Jo Bhi Kahey...', 'Mississippi Mermaid', 'I Love Your Work', 'Cabin Fever', 'Waitress', 'Bloodsport', 'Mr. Smith Goes to Washington', 'Kids', 'The Squid and the Whale', 'Kissing Jessica Stein', 'Kickboxer: Vengeance', 'Spellbound', 'Exotica', \"Buffalo '66\", 'Insidious', 'Repo Man', 'Nine Queens', 'The Gatekeepers', 'The Ballad of Jack and Rose', 'The To Do List', 'Killing Zoe', 'The Believer', 'Snow Angels', 'Unsullied', 'Session 9', 'I Want Someone to Eat Cheese With', 'Mooz-lum', 'Hatchet', 'Modern Times', 'Stolen Summer', 'My Name Is Bruce', 'The Salon', 'Road Hard', 'Forty Shades of Blue', 'Amigo', 'Pontypool', 'Trucker', 'Me You and Five Bucks', 'The Lords of Salem', 'Housebound', 'Wal-Mart: The High Cost of Low Price', 'Fetching Cody', 'Last I Heard', 'Closer to the Moon', 'Mutant World', 'Growing Up Smith', 'Checkmate', '#Horror', 'Wind Walkers', 'Snow White and the Seven Dwarfs', 'The Holy Girl', 'Shalako', 'Incident at Loch Ness', 'The Dog Lover', 'GirlHouse', 'The Blue Room', 'House at the End of the Drive', 'Batman', 'Lock, Stock and Two Smoking Barrels', 'The Ballad of Gregorio Cortez', 'The Celebration', 'Trees Lounge', 'Journey from the Fall', 'The Basket', 'Eddie: The Sleepwalking Cannibal', 'Queen of the Mountains', 'Def-Con 4', 'The Hebrew Hammer', \"Neal 'n' Nikki\", 'The 41–Year–Old Virgin Who Knocked Up Sarah Marshall and Felt Superbad About It', 'Forget Me Not', 'Rebecca', 'Friday the 13th Part 2', 'The Lost Weekend', 'C.H.U.D.', 'Filly Brown', 'The Lion of Judah', 'Niagara', 'How Green Was My Valley', 'Da Sweet Blood of Jesus', 'Sex, Lies, and Videotape', 'Saw', 'Super Troopers', 'The Algerian', 'The Amazing Catfish', 'Monsoon Wedding', 'You Can Count on Me', 'The Trouble with Harry', \"But I'm a Cheerleader\", 'Home Run', 'Reservoir Dogs', 'The Blue Bird', 'The Good, the Bad and the Ugly', 'The Second Mother', 'Blue Like Jazz', 'Down & Out With The Dolls', 'Pink Ribbons, Inc.', 'Certifiably Jonathan', 'Desire', 'The Blade of Don Juan', 'Grand Theft Parsons', 'Extreme Movie', 'The Charge of the Light Brigade', 'Below Zero', 'Crowsnest', 'Airborne', 'Cotton Comes to Harlem', 'The Wicked Within', 'Bleeding Hearts', 'Waiting...', \"Dead Man's Shoes\", 'From a Whisper to a Scream', 'Sex With Strangers', \"Dracula: Pages from a Virgin's Diary\", 'Faith Like Potatoes', 'Beyond the Black Rainbow', 'The Raid', 'The Dead Undead', 'The Vatican Exorcisms', 'Casablanca', 'Lake Mungo', 'Rocket Singh: Salesman of the Year', 'Silent Running', 'Rocky', 'The Sleepwalker', 'Tom Jones', 'Unfriended', 'Taxi Driver', 'The Howling', 'Dr. No', 'Chernobyl Diaries', 'Hellraiser', \"God's Not Dead 2\", 'Cry_Wolf', 'Godzilla 2000', 'Blue Valentine', 'Transamerica', 'The Devil Inside', 'Beyond the Valley of the Dolls', 'Love Me Tender', 'An Inconvenient Truth', 'Sands of Iwo Jima', 'Shine a Light', 'The Green Inferno', 'Departure', 'The Sessions', 'Food, Inc.', 'October Baby', 'Next Stop Wonderland', 'The Skeleton Twins', 'Martha Marcy May Marlene', 'Obvious Child', 'Frozen River', '20 Feet from Stardom', 'Two Girls and a Guy', 'Walking and Talking', 'Who Killed the Electric Car?', 'The Broken Hearts Club: A Romantic Comedy', 'Bubba Ho-tep', 'Slam', 'Brigham City', 'Fiza', 'Orgazmo', 'All the Real Girls', 'Dream with the Fishes', 'Blue Car', 'Palo Alto', 'Ajami', 'Wristcutters: A Love Story', 'I Origins', 'The Battle of Shaker Heights', 'The Act of Killing', 'Taxi to the Dark Side', 'Once in a Lifetime: The Extraordinary Story of the New York Cosmos', 'Guiana 1838', 'Lisa Picard Is Famous', 'Antarctica: A Year on Ice', 'A LEGO Brickumentary', 'Hardflip', 'Chocolate: Deep Dark Secrets', 'The House of the Devil', 'The Perfect Host', 'Safe Men', 'Speedway Junky', 'The Last Big Thing', 'The Specials', '16 to Life', 'Alone With Her', 'Creative Control', 'Special', 'Sparkler', 'The Helix... Loaded', 'In Her Line of Fire', 'The Jimmy Show', 'Heli', 'Karachi se Lahore', 'Loving Annabelle', 'Hits', 'Jimmy and Judy', 'Frat Party', \"The Party's Over\", 'Proud', 'The Poker House', 'Childless', 'ZMD: Zombies of Mass Destruction', 'Snow White: A Deadly Summer', 'Hidden Away', 'My Last Day Without You', 'Steppin: The Movie', \"Doc Holliday's Revenge\", 'Black Rock', 'Truth or Dare', 'The Pet', 'Bang Bang Baby', 'Fear Clinic', 'Zombie Hunter', 'A Fine Step', 'Charly', 'Banshee Chapter', 'Ask Me Anything', 'And Then Came Love', 'Food Chains', 'On the Waterfront', 'L!fe Happens', '4 Months, 3 Weeks and 2 Days', 'The Horror Network Vol. 1', 'Hard Candy', 'The Quiet', 'Circumstance', 'Fruitvale Station', 'The Brass Teapot', 'Bambi', 'The Hammer', 'Latter Days', 'Elza', '1982', 'For a Good Time, Call...', 'Celeste & Jesse Forever', 'Time Changer', 'London to Brighton', 'American Hero', 'Windsor Drive', 'A Separation', 'Crying with Laughter', 'Welcome to the Dollhouse', 'Ruby in Paradise', 'Raising Victor Vargas', \"Pandora's Box\", 'Harrison Montgomery', 'Live-In Maid', 'Deterrence', 'The Mudge Boy', 'The Young Unknowns', 'Not Cool', 'Dead Snow', 'Saints and Soldiers', 'Vessel', 'American Graffiti', 'Iraq for Sale: The War Profiteers', 'Aqua Teen Hunger Force Colon Movie Film for Theaters', 'Safety Not Guaranteed', 'Kevin Hart: Laugh at My Pain', 'Kill List', 'The Innkeepers', 'The Conformist', 'Interview with the Assassin', 'Donkey Punch', 'All the Boys Love Mandy Lane', 'Bled', 'High Noon', 'Hoop Dreams', 'Rize', 'L.I.E.', 'The Sisterhood of Night', 'B-Girl', 'Half Nelson', 'Naturally Native', 'Hav Plenty', 'Adulterers', 'Escape from Tomorrow', 'Starsuckers', 'The Hadza:  Last of the First', 'After', 'Treachery', 'Walter', 'Top Hat', 'The Blair Witch Project', 'Woodstock', 'The Kentucky Fried Movie', 'Mercy Streets', 'Carousel of Revenge', 'Broken Vessels', 'Water & Power', 'They Will Have to Kill Us First', 'Light from the Darkroom', 'The Country Doctor', \"The Maid's Room\", \"A Hard Day's Night\", 'The Harvest (La Cosecha)', 'Love Letters', 'Juliet and Alfa Romeo', 'Fireproof', 'Faith Connections', 'Benji', 'Open Water', 'High Road', 'Kingdom of the Spiders', 'Mad Hot Ballroom', 'The Station Agent', 'To Save A Life', 'Wordplay', 'Beyond the Mat', 'The Singles Ward', 'Osama', 'Sholem Aleichem: Laughing In The Darkness', 'Groove', 'The R.M.', 'Twin Falls Idaho', 'Mean Creek', 'Hurricane Streets', 'Never Again', 'Civil Brand', 'Lonesome Jim', 'Drinking Buddies', 'Deceptive Practice: The Mysteries and Mentors of Ricky Jay', 'Seven Samurai', 'The Other Dream Team', 'Johnny Suede', 'Finishing The Game', 'Rubber', 'Kiss the Bride', 'The Slaughter Rule', 'Monsters', 'The Californians', 'The Living Wake', 'Detention of the Dead', 'Crazy Stone', 'Scott Walker: 30 Century Man', 'Everything Put Together', 'Good Kill', 'The Outrageous Sophie Tucker', 'Now Is Good', 'Girls Gone Dead', 'America Is Still the Place', 'Subconscious', 'Enter Nowhere', 'El Rey de Najayo', 'Fight to the Finish', \"Alleluia! The Devil's Carnival\", 'The Sound and the Shadow', 'Rodeo Girl', 'Born to Fly: Elizabeth Streb vs. Gravity', 'The Little Ponderosa Zoo', 'The Toxic Avenger', 'Straight Out of Brooklyn', 'Bloody Sunday', 'Diamond Ruff', 'Conversations with Other Women', 'Poultrygeist: Night of the Chicken Dead', 'Mutual Friends', '42nd Street', 'Rise of the Entrepreneur: The Search for a Better Way', 'Metropolitan', 'As It Is in Heaven', 'Roadside', 'Napoleon Dynamite', 'Blue Ruin', 'Paranormal Activity', 'Dogtown and Z-Boys', 'Monty Python and the Holy Grail', 'Quinceañera', 'Gory Gory Hallelujah', 'Tarnation', 'I Want Your Money', 'Love in the Time of Monsters', 'The Beyond', 'What Happens in Vegas', 'The Dark Hours', 'My Beautiful Laundrette', 'Fabled', 'Show Me', 'Cries and Whispers', 'Intolerance', 'Trekkies', 'The Broadway Melody', 'The Evil Dead', 'Maniac', 'Censored Voices', 'Murderball', 'American Ninja 2: The Confrontation', '51 Birch Street', 'Rotor DR1', '12 Angry Men', 'My Dog Tulip', 'It Happened One Night', 'Dogtooth', 'Tupac: Resurrection', 'Tumbleweeds', 'The Prophecy', \"When the Cat's Away\", 'Pieces of April', 'The Big Swap', 'Old Joy', 'Wendy and Lucy', '3 Backyards', 'Pierrot le Fou', 'Sisters in Law', 'Ayurveda: Art of Being', 'Nothing But a Man', 'First Love, Last Rites', 'Fighting Tommy Riley', 'Royal Kill', 'The Looking Glass', 'Death Race 2000', 'Locker 13', 'Midnight Cabaret', \"Anderson's Cross\", 'Bizarre', 'Graduation Day', 'Some Guy Who Kills People', 'Compliance', 'Chasing Amy', 'Lovely & Amazing', 'Death Calls', 'Better Luck Tomorrow', 'The Incredibly True Adventure of Two Girls In Love', 'Chuck & Buck', 'American Desi', \"Amidst the Devil's Wings\", 'Cube', 'Love and Other Catastrophes', 'I Married a Strange Person!', 'November', 'Like Crazy', 'Teeth and Blood', 'Sugar Town', 'The Motel', 'The Canyons', 'On the Outs', 'Shotgun Stories', 'Exam', 'The Sticky Fingers of Time', 'Sunday School Musical', 'Rust', 'Ink', 'The Christmas Bunny', 'Butterfly', 'UnDivided', 'The Frozen', 'Horse Camp', 'Give Me Shelter', 'The Big Parade', 'Little Big Top', 'Along the Roadside', 'Bronson', 'Western Religion', 'Burn', 'Urbania', 'The Stewardesses', 'The Beast from 20,000 Fathoms', 'Mad Max', 'Swingers', 'A Fistful of Dollars', 'She Done Him Wrong', 'Short Cut to Nirvana: Kumbh Mela', 'The Grace Card', 'Middle of Nowhere', 'Three', 'The Business of Fancydancing', 'Call + Response', 'Malevolence', 'Reality Show', 'Super Hybrid', 'Baghead', 'American Beast', 'The Case of the Grinning Cat', 'Ordet', 'Good Dick', 'The Man from Earth', 'The Trials Of Darryl Hunt', 'Samantha: An American Girl Holiday', 'Yesterday Was a Lie', 'Theresa Is a Mother', 'H.', 'Archaeology of a Woman', 'Children of Heaven', 'Weekend', \"She's Gotta Have It\", 'Butterfly Girl', 'The World Is Mine', 'Another Earth', \"Sweet Sweetback's Baadasssss Song\", 'Perfect Cowboy', 'Tadpole', 'Once', 'The Woman Chaser', 'The Horse Boy', 'When the Lights Went Out', 'Heroes of Dirt', 'A Charlie Brown Christmas', 'Antarctic Edge: 70° South', 'Aroused', 'Top Spin', 'Roger & Me', 'An American in Hollywood', 'Sound of My Voice', 'The Blood of My Brother: A Story of Death in Iraq', \"Your Sister's Sister\", \"A Dog's Breakfast\", 'The Married Woman', 'The Birth of a Nation', 'The Work and The Story', 'Facing the Giants', 'The Gallows', 'Eraserhead', 'Hollywood Shuffle', 'The Mighty', 'Penitentiary', 'The Lost Skeleton of Cadavra', \"Dude Where's My Dog?\", 'Cheap Thrills', 'Indie Game: The Movie', 'Straightheads', 'Open Secret', 'Echo Dr.', 'The Night Visitor', 'The Past Is a Grotesque Animal', 'Peace, Propaganda & the Promised Land', 'Pi', \"I Love You, Don't Touch Me!\", '20 Dates', 'Queen Crab', 'Super Size Me', 'The FP', 'Happy Christmas', \"The Brain That Wouldn't Die\", 'Tiger Orange', 'Supporting Characters', 'Absentia', 'The Brothers McMullen', 'The Dirties', 'Gabriela', 'Tiny Furniture', 'Hayride', 'The Naked Ape', 'Counting', 'The Call of Cthulhu', 'Bending Steel', 'The Signal', 'The Image Revolution', 'This Is Martin Bonner', 'A True Story', 'George Washington', 'Smiling Fish & Goat On Fire', 'Dawn of the Crescent Moon', 'Raymond Did It', 'The Last Waltz', 'Run, Hide, Die', 'The Exploding Girl', \"The Legend of God's Gun\", 'Mutual Appreciation', 'Her Cry: La Llorona Investigation', 'Down Terrace', 'Clerks', 'Pink Narcissus', 'Funny Ha Ha', 'In the Company of Men', 'Manito', 'Rampage', 'Slacker', 'Dutch Kills', 'Dry Spell', 'Flywheel', 'Backmask', 'The Puffy Chair', 'Stories of Our Lives', 'Breaking Upwards', 'All Superheroes Must Die', 'Pink Flamingos', 'Clean', 'The Circle', 'Tin Can Man', 'Cure', 'On The Downlow', 'Sanctuary: Quite a Conundrum', 'Bang', 'Primer', 'Cavite', 'El Mariachi', 'Newlyweds', 'Signed, Sealed, Delivered', 'Shanghai Calling', 'My Date with Drew']\n"
     ]
    }
   ],
   "source": [
    "list_of_all_titles = movies_data['title'].tolist()\n",
    "print(list_of_all_titles)"
   ]
  },
  {
   "cell_type": "markdown",
   "id": "e3b3a2ae",
   "metadata": {},
   "source": [
    "#### `Step 3` Finding the close match for the movie name given by the user"
   ]
  },
  {
   "cell_type": "code",
   "execution_count": 39,
   "id": "44c85cae",
   "metadata": {},
   "outputs": [
    {
     "name": "stdout",
     "output_type": "stream",
     "text": [
      "['Spider-Man', 'Inside Man', 'Superman']\n"
     ]
    }
   ],
   "source": [
    "find_close_match = difflib.get_close_matches(movie_name, list_of_all_titles)\n",
    "print(find_close_match)"
   ]
  },
  {
   "cell_type": "code",
   "execution_count": 40,
   "id": "8c3f4266",
   "metadata": {},
   "outputs": [
    {
     "name": "stdout",
     "output_type": "stream",
     "text": [
      "Spider-Man\n"
     ]
    }
   ],
   "source": [
    "close_match = find_close_match[0]\n",
    "print(close_match)"
   ]
  },
  {
   "cell_type": "markdown",
   "id": "e2c5ae8e",
   "metadata": {},
   "source": [
    "#### `Step 4` Finding the index of the movie with title"
   ]
  },
  {
   "cell_type": "code",
   "execution_count": 41,
   "id": "3481ff87",
   "metadata": {},
   "outputs": [
    {
     "name": "stdout",
     "output_type": "stream",
     "text": [
      "159\n"
     ]
    }
   ],
   "source": [
    "index_of_the_movie = movies_data[movies_data.title == close_match]['index'].values[0]\n",
    "print(index_of_the_movie)"
   ]
  },
  {
   "cell_type": "markdown",
   "id": "513f1ef0",
   "metadata": {},
   "source": [
    "#### `Step 5` Getting a list of similar movies"
   ]
  },
  {
   "cell_type": "code",
   "execution_count": 42,
   "id": "cf21490b",
   "metadata": {},
   "outputs": [
    {
     "name": "stdout",
     "output_type": "stream",
     "text": [
      "[(0, 0.052782595793298956), (1, 0.016447265542625662), (2, 0.031188134550531904), (3, 0.006870699298854166), (4, 0.086191334435346), (5, 0.3239584161545456), (6, 0.0), (7, 0.026611154706604568), (8, 0.012587822625599984), (9, 0.017726308834751632), (10, 0.0345259452324596), (11, 0.00600622932409487), (12, 0.01837692547211168), (13, 0.01751735852307118), (14, 0.01863420655493137), (15, 0.012200617390576074), (16, 0.005966209309713926), (17, 0.01803317560362767), (18, 0.006135081384865764), (19, 0.01568135415889361), (20, 0.040228144293303916), (21, 0.00539884613017775), (22, 0.011093356360036253), (23, 0.032136024696934704), (24, 0.005824935678822115), (25, 0.03383348597042081), (26, 0.006427255391858622), (27, 0.005620738220561618), (28, 0.006060325614810926), (29, 0.030799792634152355), (30, 0.3320954109570175), (31, 0.03350652965552937), (32, 0.02400221615282047), (33, 0.006148944933920657), (34, 0.0), (35, 0.027266475529553785), (36, 0.006028996327125454), (37, 0.14267687671052326), (38, 0.019333977332941815), (39, 0.00577668886123767), (40, 0.0), (41, 0.006257665681666991), (42, 0.0), (43, 0.028912472603046427), (44, 0.02006723078882142), (45, 0.016791228197578258), (46, 0.0309731624771582), (47, 0.006700035505964366), (48, 0.018636875994790022), (49, 0.09951618050282422), (50, 0.01777687257019129), (51, 0.004977115155823189), (52, 0.005938594165254484), (53, 0.006512666612466885), (54, 0.0), (55, 0.006441846592133835), (56, 0.006695408909056276), (57, 0.0), (58, 0.006903151102474392), (59, 0.0060322833441645235), (60, 0.0), (61, 0.0185956679412112), (62, 0.006107091146457725), (63, 0.011763587787119013), (64, 0.04196548433464302), (65, 0.006459345212155312), (66, 0.0), (67, 0.0), (68, 0.005968712718655544), (69, 0.0), (70, 0.005975794268772262), (71, 0.02347105118967502), (72, 0.01764373077935585), (73, 0.01204705328879675), (74, 0.006057220262289062), (75, 0.0058157912392123815), (76, 0.0063906881141993), (77, 0.0), (78, 0.013221263075419971), (79, 0.005943088363160516), (80, 0.03782010535069373), (81, 0.040964723654043994), (82, 0.006443035231315665), (83, 0.006547025799979306), (84, 0.015288149957609246), (85, 0.006929137095310795), (86, 0.010784959291733452), (87, 0.05053457709314961), (88, 0.006137815340536671), (89, 0.0), (90, 0.011994510958558025), (91, 0.006406059831843061), (92, 0.012771077365496514), (93, 0.005806044120535504), (94, 0.018254349421635927), (95, 0.0), (96, 0.06269448219219191), (97, 0.004647529417928816), (98, 0.037550562959604225), (99, 0.005985696142497761), (100, 0.01215578316947727), (101, 0.020972452437557715), (102, 0.0067225623801987515), (103, 0.01860933004764051), (104, 0.028680800524099926), (105, 0.025416629582982922), (106, 0.013234371962345469), (107, 0.01934610701024817), (108, 0.006164279147145158), (109, 0.009142570587016228), (110, 0.0), (111, 0.006299088601159268), (112, 0.0061034268434774835), (113, 0.06924485776447313), (114, 0.011432526639828593), (115, 0.12066541468609222), (116, 0.005712846021016572), (117, 0.011291277234775425), (118, 0.01141616586474005), (119, 0.0065857653642722854), (120, 0.0), (121, 0.01832625825813159), (122, 0.006532442453705104), (123, 0.006015055745993904), (124, 0.0), (125, 0.005565867945177897), (126, 0.07317362087382187), (127, 0.006592315183063983), (128, 0.0), (129, 0.018548558132701665), (130, 0.0), (131, 0.04368158097108096), (132, 0.020229847048930293), (133, 0.012537153492013082), (134, 0.005913110018323774), (135, 0.018299904860878534), (136, 0.0), (137, 0.0), (138, 0.017526510616909574), (139, 0.006642142153702007), (140, 0.006667031147030698), (141, 0.0), (142, 0.0), (143, 0.012691156492330751), (144, 0.0), (145, 0.0), (146, 0.0), (147, 0.005638421615168685), (148, 0.01861880839715654), (149, 0.006152836990667843), (150, 0.005991410037889315), (151, 0.005930345225441913), (152, 0.005708816887764203), (153, 0.006235316720145485), (154, 0.011949171339002515), (155, 0.0), (156, 0.005591877784980036), (157, 0.006868678800929531), (158, 0.006341659418119688), (159, 1.0), (160, 0.01865852867904908), (161, 0.011103480265626516), (162, 0.0340079116326206), (163, 0.02430221024353574), (164, 0.012998632375826475), (165, 0.0312109128018746), (166, 0.007040334983599301), (167, 0.01884903334650202), (168, 0.017118641513163845), (169, 0.006168986735780828), (170, 0.005281348544770016), (171, 0.01211635768692535), (172, 0.011944589592043382), (173, 0.0), (174, 0.005717317510068805), (175, 0.012234597057315241), (176, 0.0), (177, 0.02991061557148889), (178, 0.018876181196452728), (179, 0.0), (180, 0.006567155684248389), (181, 0.0), (182, 0.006064204874734318), (183, 0.00638482707294629), (184, 0.013574193269700592), (185, 0.0), (186, 0.0056227728979708035), (187, 0.018432734062921837), (188, 0.006251866984271315), (189, 0.0), (190, 0.0), (191, 0.03178452754428306), (192, 0.0), (193, 0.00658556775314844), (194, 0.0), (195, 0.011631139543164871), (196, 0.006792625474601129), (197, 0.012588135993997922), (198, 0.018966439102494376), (199, 0.016438661655633464), (200, 0.0), (201, 0.0), (202, 0.0), (203, 0.025488928049197418), (204, 0.006096046848256929), (205, 0.006274168440923415), (206, 0.03708821561812775), (207, 0.005920915948828818), (208, 0.018162706630571564), (209, 0.006551256362491293), (210, 0.017620672813946255), (211, 0.012301282790915108), (212, 0.0059821260223354485), (213, 0.006767830661557597), (214, 0.020377969259490137), (215, 0.019205834897637695), (216, 0.005530596491451813), (217, 0.04089600689061006), (218, 0.007228085643264388), (219, 0.0070191044812889375), (220, 0.0), (221, 0.0), (222, 0.006419338427237873), (223, 0.03139564849657486), (224, 0.006253026293671306), (225, 0.031332818285000716), (226, 0.014915408517012705), (227, 0.01866584993325592), (228, 0.005740122070639986), (229, 0.006194942197314161), (230, 0.0053225679456226265), (231, 0.012696362498473356), (232, 0.030443995576383845), (233, 0.005323459674219346), (234, 0.012306413236849709), (235, 0.01125083697158947), (236, 0.006204555666801919), (237, 0.005679669233535375), (238, 0.017245209664315996), (239, 0.020367262946799622), (240, 0.006261556988826712), (241, 0.017903270140744224), (242, 0.027549221352445266), (243, 0.037737410872800935), (244, 0.0053427812561869445), (245, 0.005432850286313393), (246, 0.027406861053044917), (247, 0.0), (248, 0.006350158884186442), (249, 0.012657011511630121), (250, 0.0), (251, 0.0), (252, 0.006455841740766247), (253, 0.005148751194239952), (254, 0.011490152511089542), (255, 0.0), (256, 0.012566180564800468), (257, 0.006081720415496976), (258, 0.012234058582964365), (259, 0.07620194112424934), (260, 0.006086425602340791), (261, 0.05804822763149521), (262, 0.01818006834840979), (263, 0.005921657922942394), (264, 0.0), (265, 0.012230469813531073), (266, 0.019582301145200234), (267, 0.005296107945325729), (268, 0.012367983320027656), (269, 0.0), (270, 0.0), (271, 0.029006534949302512), (272, 0.0), (273, 0.005684150625224886), (274, 0.006521644209637155), (275, 0.02559100053221916), (276, 0.012279772661145202), (277, 0.0063872727038508815), (278, 0.0055685988925623835), (279, 0.019755151223081226), (280, 0.0), (281, 0.0), (282, 0.01857889281704792), (283, 0.0), (284, 0.0), (285, 0.006055845191377317), (286, 0.03295517494206609), (287, 0.0), (288, 0.0), (289, 0.012201912607677721), (290, 0.006235728005440934), (291, 0.005613909108961658), (292, 0.025762495698302433), (293, 0.02323643681291242), (294, 0.025798050829346077), (295, 0.005915989845522958), (296, 0.019460940067160547), (297, 0.02893646793652322), (298, 0.0), (299, 0.018841894080769635), (300, 0.005156578855770834), (301, 0.0), (302, 0.012358422104661843), (303, 0.006296255626128268), (304, 0.006233940219981588), (305, 0.03502460392122251), (306, 0.0), (307, 0.005859312307447482), (308, 0.005362012636971002), (309, 0.013878461647549226), (310, 0.005984800803181987), (311, 0.012696481060833318), (312, 0.005533574429912596), (313, 0.0), (314, 0.0), (315, 0.044155914867779096), (316, 0.0), (317, 0.0), (318, 0.01137888670695677), (319, 0.00649812304617669), (320, 0.006224734237896757), (321, 0.0), (322, 0.019274182757820765), (323, 0.0), (324, 0.012476892829957181), (325, 0.0), (326, 0.025009602474991698), (327, 0.013487411753651682), (328, 0.13010415867208394), (329, 0.01823709688861299), (330, 0.046031642016596916), (331, 0.018335421608668055), (332, 0.015241534385557861), (333, 0.0), (334, 0.027989581577250282), (335, 0.054641541389256226), (336, 0.011328139363173543), (337, 0.005760480679405739), (338, 0.0), (339, 0.006704473691521369), (340, 0.005014451056950109), (341, 0.011920433366323273), (342, 0.005805772328281407), (343, 0.0), (344, 0.007027628771323965), (345, 0.0067827985661329335), (346, 0.011510919346684675), (347, 0.014621959175701615), (348, 0.0), (349, 0.011644081288038899), (350, 0.014385933324745815), (351, 0.0), (352, 0.0), (353, 0.005242551386865241), (354, 0.0), (355, 0.006402173363979062), (356, 0.006385727950251411), (357, 0.0), (358, 0.01141970053615139), (359, 0.0), (360, 0.0), (361, 0.005850671770177873), (362, 0.02039416116737014), (363, 0.03811181113467843), (364, 0.01093754752431188), (365, 0.012010869911977612), (366, 0.005906583022422143), (367, 0.0), (368, 0.01117887947862569), (369, 0.07343225492530107), (370, 0.04411830307127304), (371, 0.00505493657221793), (372, 0.006340581611944227), (373, 0.0), (374, 0.0), (375, 0.020741135864485616), (376, 0.00571747219320353), (377, 0.017215110563299073), (378, 0.0), (379, 0.025734382672035754), (380, 0.0), (381, 0.022162785139100624), (382, 0.16759366797573372), (383, 0.005762901605815758), (384, 0.0), (385, 0.0), (386, 0.006726851340752317), (387, 0.00627400690606515), (388, 0.0), (389, 0.006136321366745801), (390, 0.026037129157950534), (391, 0.022894047695142902), (392, 0.0057435844247859455), (393, 0.0), (394, 0.061637308470675965), (395, 0.0), (396, 0.007128007743392776), (397, 0.04482518652974331), (398, 0.0), (399, 0.0), (400, 0.017592173789758338), (401, 0.0), (402, 0.00594410208077823), (403, 0.016587109613655907), (404, 0.0), (405, 0.004768797461155546), (406, 0.012040542718058161), (407, 0.011268446622668009), (408, 0.054693696261844914), (409, 0.0), (410, 0.030286476446567137), (411, 0.004913988972962394), (412, 0.005600583721486808), (413, 0.01245793095261587), (414, 0.0), (415, 0.027453867203440716), (416, 0.012202756730658038), (417, 0.011378418110779132), (418, 0.013578245379758058), (419, 0.03716414369902922), (420, 0.011700197638119308), (421, 0.0), (422, 0.0), (423, 0.07851067943666007), (424, 0.00596425135932346), (425, 0.006778720600259323), (426, 0.011685666645093634), (427, 0.0), (428, 0.019601578122021398), (429, 0.0), (430, 0.01783965883405599), (431, 0.0726167406122406), (432, 0.006216613965941894), (433, 0.006557076959969805), (434, 0.0), (435, 0.012494126372245746), (436, 0.015886108670274443), (437, 0.0070956594892835935), (438, 0.0), (439, 0.0), (440, 0.0), (441, 0.0), (442, 0.005567187554667544), (443, 0.029990654541887415), (444, 0.019985228867031177), (445, 0.0), (446, 0.006341893277971106), (447, 0.006674568590541426), (448, 0.08369265326674061), (449, 0.006332119755244063), (450, 0.0), (451, 0.04852527107960128), (452, 0.01017136734927744), (453, 0.00641180022898328), (454, 0.0), (455, 0.027949966578939667), (456, 0.005430570386698204), (457, 0.006177649804351585), (458, 0.0), (459, 0.012157271148270817), (460, 0.012804379000489178), (461, 0.0), (462, 0.0), (463, 0.0), (464, 0.013096532992700078), (465, 0.026691427776709308), (466, 0.006909692508217323), (467, 0.020805977431561217), (468, 0.028294162264074316), (469, 0.005587231304147872), (470, 0.012533664695362118), (471, 0.010980195924755753), (472, 0.018102297536964393), (473, 0.012356045335917061), (474, 0.0), (475, 0.005895078396540364), (476, 0.021468343533021482), (477, 0.0), (478, 0.006484938691798747), (479, 0.0), (480, 0.006217928944592308), (481, 0.0), (482, 0.0), (483, 0.005796290114030663), (484, 0.0), (485, 0.021889837873690036), (486, 0.017127598585022327), (487, 0.006020302712427884), (488, 0.010783073147862567), (489, 0.0), (490, 0.006119456852793602), (491, 0.005396335515702033), (492, 0.0), (493, 0.0), (494, 0.0317943339377596), (495, 0.0064118175855487165), (496, 0.014059245738133285), (497, 0.0), (498, 0.0), (499, 0.023022500545410336), (500, 0.005941195391004108), (501, 0.06547138154754908), (502, 0.0), (503, 0.005728741395215579), (504, 0.0), (505, 0.044374125402617454), (506, 0.0), (507, 0.006213104439262856), (508, 0.006110306454665378), (509, 0.0), (510, 0.006095653905549974), (511, 0.006232922309665509), (512, 0.043421740804501535), (513, 0.005165325120356441), (514, 0.0), (515, 0.0), (516, 0.012867053763286033), (517, 0.01197842697031272), (518, 0.006813982073442928), (519, 0.0), (520, 0.0), (521, 0.0), (522, 0.0), (523, 0.0062505346023031035), (524, 0.0), (525, 0.07481864623347464), (526, 0.0), (527, 0.0), (528, 0.005401119467257423), (529, 0.005894814338654167), (530, 0.006510077956477892), (531, 0.005755912501872811), (532, 0.012511197271015947), (533, 0.03656525300481721), (534, 0.006982039739427011), (535, 0.005530732836954856), (536, 0.0), (537, 0.017813490340454465), (538, 0.0), (539, 0.006699686378469968), (540, 0.007625502791886736), (541, 0.005049970147119312), (542, 0.0058029970157334335), (543, 0.016621661049318316), (544, 0.006091727294211708), (545, 0.0), (546, 0.07989778533166017), (547, 0.031816106498904095), (548, 0.0), (549, 0.0), (550, 0.0), (551, 0.0), (552, 0.0), (553, 0.006518364813802882), (554, 0.0), (555, 0.012661250257349604), (556, 0.005363332546651773), (557, 0.022043332733157225), (558, 0.0), (559, 0.018011823273863792), (560, 0.005775987905793391), (561, 0.01594166521042246), (562, 0.0), (563, 0.013832116594876933), (564, 0.0), (565, 0.01285563749760134), (566, 0.0), (567, 0.0), (568, 0.005778879285766238), (569, 0.0), (570, 0.028304870019777037), (571, 0.005751042264919307), (572, 0.024369545615096567), (573, 0.04381634176058995), (574, 0.006770450565007865), (575, 0.0), (576, 0.034793898986698824), (577, 0.005639004703889041), (578, 0.012511629722036803), (579, 0.023450941116420383), (580, 0.006275664376412785), (581, 0.005375626522651084), (582, 0.006070012667325499), (583, 0.01231475138827948), (584, 0.03020067153302737), (585, 0.0), (586, 0.005402525129699846), (587, 0.01685031327126167), (588, 0.0), (589, 0.018443453104138523), (590, 0.0059741880489011055), (591, 0.01327556410421318), (592, 0.0), (593, 0.03425755515407396), (594, 0.006203106821839445), (595, 0.005551541701858351), (596, 0.006190115141063602), (597, 0.029979013339952086), (598, 0.0), (599, 0.0), (600, 0.007061411865059245), (601, 0.006612803279101478), (602, 0.030719955318885335), (603, 0.0), (604, 0.005812688780013629), (605, 0.0), (606, 0.0), (607, 0.006036225536594057), (608, 0.0), (609, 0.006825262949627622), (610, 0.005387998622691036), (611, 0.017704938715795968), (612, 0.013451623974288208), (613, 0.005900711215744887), (614, 0.0), (615, 0.005613079794830875), (616, 0.01790193824078397), (617, 0.0), (618, 0.01791363119867507), (619, 0.0), (620, 0.0), (621, 0.0058871954368352785), (622, 0.00628502110160569), (623, 0.0), (624, 0.01644821597714737), (625, 0.0), (626, 0.0), (627, 0.013622273797301961), (628, 0.0), (629, 0.005254909161176815), (630, 0.047604063880144064), (631, 0.02160396263808034), (632, 0.0), (633, 0.027212501665952408), (634, 0.005843039459013263), (635, 0.0), (636, 0.011711405533837151), (637, 0.0), (638, 0.0), (639, 0.06255075998450048), (640, 0.006108238766337457), (641, 0.0), (642, 0.0), (643, 0.031164954581871587), (644, 0.00594139556037353), (645, 0.006112790836371861), (646, 0.010609675944790415), (647, 0.0), (648, 0.07921097456922391), (649, 0.0), (650, 0.0), (651, 0.0), (652, 0.0), (653, 0.006111693477090975), (654, 0.006225827469680447), (655, 0.006373987721970854), (656, 0.0), (657, 0.006178973015103599), (658, 0.005812899204431534), (659, 0.006172776709400114), (660, 0.0075260344379822), (661, 0.012583927163672272), (662, 0.0), (663, 0.0), (664, 0.018926026352307824), (665, 0.005360041644232491), (666, 0.011872631145152608), (667, 0.0), (668, 0.018632301610560946), (669, 0.0), (670, 0.0), (671, 0.02024624652856314), (672, 0.012186700855303469), (673, 0.0), (674, 0.007751373024996368), (675, 0.022003026614782154), (676, 0.005770336402718677), (677, 0.11241001232351715), (678, 0.007121033582973109), (679, 0.016731985246494187), (680, 0.005454791864412301), (681, 0.02705415169490312), (682, 0.0), (683, 0.0054178112374987765), (684, 0.018137975465896003), (685, 0.006287907258385067), (686, 0.01067723486686684), (687, 0.005760075304924526), (688, 0.0), (689, 0.0), (690, 0.026285119943318225), (691, 0.005632390653770974), (692, 0.01848221644774137), (693, 0.0), (694, 0.0061401511480194265), (695, 0.005935392334848755), (696, 0.013509406904483098), (697, 0.0), (698, 0.02914117683044224), (699, 0.0), (700, 0.006068905105996542), (701, 0.09069815368176695), (702, 0.006251413507790288), (703, 0.0), (704, 0.0), (705, 0.0), (706, 0.0), (707, 0.0), (708, 0.005643127418347575), (709, 0.0542615019143851), (710, 0.009655335845267102), (711, 0.0049741792804315985), (712, 0.012375601831987063), (713, 0.022681094850147496), (714, 0.0), (715, 0.02102025228385611), (716, 0.006491615141784631), (717, 0.0), (718, 0.004791597586651668), (719, 0.0), (720, 0.0), (721, 0.0), (722, 0.0), (723, 0.0), (724, 0.006362219403988986), (725, 0.0), (726, 0.0), (727, 0.0), (728, 0.017001213242800642), (729, 0.0), (730, 0.019289604188670643), (731, 0.0069653721989716005), (732, 0.0066447893255141876), (733, 0.0), (734, 0.0), (735, 0.012681320410164964), (736, 0.00546036431339596), (737, 0.005934861855937967), (738, 0.0), (739, 0.006040894175218917), (740, 0.00635504758576111), (741, 0.006127716157850204), (742, 0.010911588709082898), (743, 0.011300722320451585), (744, 0.01904517567275413), (745, 0.005603612109607671), (746, 0.015870012163032465), (747, 0.0068823406321067955), (748, 0.0), (749, 0.0), (750, 0.0073780488582806765), (751, 0.0), (752, 0.0), (753, 0.007072235430607384), (754, 0.0166664815422483), (755, 0.006048142996407722), (756, 0.0), (757, 0.0), (758, 0.0), (759, 0.012132877264710785), (760, 0.0), (761, 0.005478458282245802), (762, 0.030095147022304994), (763, 0.0), (764, 0.09164710826497113), (765, 0.0), (766, 0.0), (767, 0.08551897683899617), (768, 0.017715590546947955), (769, 0.0), (770, 0.02059173714010885), (771, 0.0), (772, 0.0), (773, 0.061366494903940465), (774, 0.022976598516021574), (775, 0.011318142091042442), (776, 0.013861662194841523), (777, 0.005988031963125787), (778, 0.0), (779, 0.0), (780, 0.0), (781, 0.01119627222209339), (782, 0.006030827007142703), (783, 0.0), (784, 0.04463163761993904), (785, 0.0), (786, 0.01952629739024989), (787, 0.049176436106911414), (788, 0.005749184533343792), (789, 0.0), (790, 0.005796674271629643), (791, 0.013823400924040868), (792, 0.011348745234961481), (793, 0.0), (794, 0.005474938825203741), (795, 0.0), (796, 0.0), (797, 0.024984425915617545), (798, 0.01888840892120348), (799, 0.005921466566646467), (800, 0.010775766999929472), (801, 0.0), (802, 0.0), (803, 0.013540909589892928), (804, 0.006125992918196607), (805, 0.017173497818279038), (806, 0.0), (807, 0.00620525883071519), (808, 0.0062186244257999195), (809, 0.0), (810, 0.01223378502067668), (811, 0.03988262729306992), (812, 0.019582767718362096), (813, 0.0181037846292981), (814, 0.022924198201199265), (815, 0.013239634253976621), (816, 0.02289041222429769), (817, 0.0), (818, 0.006427959754177128), (819, 0.0), (820, 0.01216601600351926), (821, 0.006346689552110749), (822, 0.0), (823, 0.005984740891521351), (824, 0.013477026481778282), (825, 0.02151680759088976), (826, 0.029524772761829556), (827, 0.011964992901079144), (828, 0.006252113769161827), (829, 0.0), (830, 0.005366410491730557), (831, 0.017158942876252248), (832, 0.029964545495739674), (833, 0.00567225026800134), (834, 0.006165187295609282), (835, 0.0), (836, 0.027420275362127013), (837, 0.05919054895672323), (838, 0.006338954073746926), (839, 0.0), (840, 0.005843092012560261), (841, 0.0), (842, 0.0), (843, 0.0), (844, 0.0062810355356068695), (845, 0.0), (846, 0.018038647835888662), (847, 0.0), (848, 0.0), (849, 0.02913283966685837), (850, 0.006112802648124414), (851, 0.0), (852, 0.019961972731087515), (853, 0.0), (854, 0.005446902682043311), (855, 0.0), (856, 0.006300254906788138), (857, 0.0), (858, 0.013388172433761144), (859, 0.016022654617154474), (860, 0.0), (861, 0.04907296976630721), (862, 0.0350100698717551), (863, 0.006247338243154464), (864, 0.016464002400711546), (865, 0.0), (866, 0.006720093440559164), (867, 0.025778709454359446), (868, 0.08519633278405192), (869, 0.0), (870, 0.018270593889887176), (871, 0.0), (872, 0.039155543236782414), (873, 0.006214324386083998), (874, 0.0), (875, 0.0), (876, 0.0), (877, 0.0), (878, 0.0), (879, 0.0), (880, 0.005820727554147384), (881, 0.0), (882, 0.0), (883, 0.0), (884, 0.0), (885, 0.0), (886, 0.0), (887, 0.0), (888, 0.005913231947216345), (889, 0.0), (890, 0.0), (891, 0.0), (892, 0.013512580127133727), (893, 0.005815477474589469), (894, 0.03964625816393595), (895, 0.0), (896, 0.03305601652678803), (897, 0.0), (898, 0.01242310958076688), (899, 0.012213602205917148), (900, 0.0), (901, 0.0), (902, 0.0), (903, 0.061994358060687364), (904, 0.012874069415938535), (905, 0.0), (906, 0.0), (907, 0.0), (908, 0.0), (909, 0.0), (910, 0.0), (911, 0.045989462868888914), (912, 0.08846566057698418), (913, 0.0), (914, 0.005421287776790423), (915, 0.0), (916, 0.0), (917, 0.02666755206819541), (918, 0.07210958109667522), (919, 0.006498194911650716), (920, 0.005743967472991281), (921, 0.0), (922, 0.006025000807526436), (923, 0.0), (924, 0.0), (925, 0.0), (926, 0.0), (927, 0.0), (928, 0.0), (929, 0.005657674794178362), (930, 0.005355331462980089), (931, 0.012372842917331154), (932, 0.026082776041357836), (933, 0.005887318131834697), (934, 0.0), (935, 0.012470719909624383), (936, 0.0), (937, 0.016193510932249515), (938, 0.03181744966136095), (939, 0.005013876617728741), (940, 0.0), (941, 0.017030247377898666), (942, 0.0), (943, 0.0), (944, 0.0), (945, 0.005983776327638872), (946, 0.011941774903872096), (947, 0.0), (948, 0.0), (949, 0.0), (950, 0.00578716855103125), (951, 0.0058330155873268265), (952, 0.006447199234578034), (953, 0.013124951388162137), (954, 0.0), (955, 0.005800722969356677), (956, 0.006251270936555786), (957, 0.0), (958, 0.0), (959, 0.0055905876167338525), (960, 0.0), (961, 0.0), (962, 0.022002039263981626), (963, 0.01684110953732836), (964, 0.07473537678455305), (965, 0.0), (966, 0.0), (967, 0.013012037097513815), (968, 0.0), (969, 0.005871540307732304), (970, 0.0), (971, 0.0), (972, 0.006349963628990029), (973, 0.005387104911215679), (974, 0.0), (975, 0.0), (976, 0.10750093747950802), (977, 0.011199289077471478), (978, 0.10068662862114519), (979, 0.006064773035664113), (980, 0.0), (981, 0.006811535039096732), (982, 0.006107341014252952), (983, 0.0), (984, 0.006676799572031108), (985, 0.00673897232147469), (986, 0.054381980768961696), (987, 0.0), (988, 0.006144330515052909), (989, 0.005834394756036234), (990, 0.0), (991, 0.0), (992, 0.005998037132961624), (993, 0.019733320247482984), (994, 0.005368906715731447), (995, 0.02937942044356625), (996, 0.0), (997, 0.0), (998, 0.0), (999, 0.0), (1000, 0.017692481628742596), (1001, 0.031920126264107986), (1002, 0.06430437851986028), (1003, 0.005089112576623097), (1004, 0.07286480879879091), (1005, 0.0), (1006, 0.005739265951877371), (1007, 0.0), (1008, 0.004996347921257559), (1009, 0.0), (1010, 0.0), (1011, 0.0), (1012, 0.05366725720593077), (1013, 0.0), (1014, 0.0), (1015, 0.0), (1016, 0.05926739745540178), (1017, 0.00986284076811872), (1018, 0.0047251773503400665), (1019, 0.013160555798216822), (1020, 0.006921121676721619), (1021, 0.0), (1022, 0.0), (1023, 0.0), (1024, 0.04539027973595515), (1025, 0.0), (1026, 0.0), (1027, 0.005987333241842573), (1028, 0.019082033738237397), (1029, 0.04377368873561101), (1030, 0.0), (1031, 0.0), (1032, 0.0), (1033, 0.0), (1034, 0.005526996400953884), (1035, 0.018838253780651126), (1036, 0.0), (1037, 0.0), (1038, 0.0), (1039, 0.0), (1040, 0.04505326609734151), (1041, 0.024622020434432488), (1042, 0.10348569458251965), (1043, 0.006169677110094752), (1044, 0.005607884084618403), (1045, 0.0), (1046, 0.016079337213534918), (1047, 0.0), (1048, 0.0), (1049, 0.018823123651790702), (1050, 0.03826644803757251), (1051, 0.0), (1052, 0.005330227161737878), (1053, 0.022782850047871273), (1054, 0.011049152726405845), (1055, 0.012477353455005226), (1056, 0.005390396377868012), (1057, 0.0), (1058, 0.005703544512736873), (1059, 0.0), (1060, 0.0), (1061, 0.0), (1062, 0.0), (1063, 0.024256102303347928), (1064, 0.01567527560668022), (1065, 0.030075080629074304), (1066, 0.0), (1067, 0.0), (1068, 0.022784157690509458), (1069, 0.0), (1070, 0.02643691598717191), (1071, 0.0), (1072, 0.0), (1073, 0.0062398465887250195), (1074, 0.031978338701834155), (1075, 0.0), (1076, 0.006788402145720417), (1077, 0.005515461422715166), (1078, 0.012100257956382442), (1079, 0.005616221586232263), (1080, 0.0), (1081, 0.022167805869781735), (1082, 0.005693508582165304), (1083, 0.006185077069097643), (1084, 0.040831676012162754), (1085, 0.011146169822329462), (1086, 0.018584578784430403), (1087, 0.0), (1088, 0.0), (1089, 0.06344191034386251), (1090, 0.022965806210457025), (1091, 0.024540988407257727), (1092, 0.0), (1093, 0.005681018093405355), (1094, 0.0), (1095, 0.015549781804812767), (1096, 0.0056742161410333995), (1097, 0.005658237081654762), (1098, 0.0), (1099, 0.008815737935199042), (1100, 0.0056646307944134555), (1101, 0.03890531507678897), (1102, 0.0), (1103, 0.005918460579174147), (1104, 0.005674896111342957), (1105, 0.0), (1106, 0.005393517836259762), (1107, 0.013806464572181851), (1108, 0.0), (1109, 0.026891054519517964), (1110, 0.01795081217192669), (1111, 0.010438315938683041), (1112, 0.0), (1113, 0.0), (1114, 0.006869318907265919), (1115, 0.0), (1116, 0.027492629617487763), (1117, 0.0), (1118, 0.006325767920815575), (1119, 0.03649063676919766), (1120, 0.0), (1121, 0.0), (1122, 0.0), (1123, 0.0), (1124, 0.013058151212289162), (1125, 0.0), (1126, 0.010399123000291725), (1127, 0.0), (1128, 0.0), (1129, 0.0), (1130, 0.0), (1131, 0.04271044889034229), (1132, 0.026138654324431458), (1133, 0.006596921723564906), (1134, 0.011997346074848404), (1135, 0.0), (1136, 0.05266831682828685), (1137, 0.006087515314722908), (1138, 0.046381496413975154), (1139, 0.017705257479939496), (1140, 0.005139088854213836), (1141, 0.0), (1142, 0.0), (1143, 0.006290927394384501), (1144, 0.018994615938567834), (1145, 0.021389278954572353), (1146, 0.027177723995269416), (1147, 0.0), (1148, 0.0), (1149, 0.0), (1150, 0.020568538206919985), (1151, 0.0), (1152, 0.01190799096488261), (1153, 0.004744253042236501), (1154, 0.020912458278602764), (1155, 0.0056236198334765645), (1156, 0.0), (1157, 0.0), (1158, 0.005943843570544931), (1159, 0.0), (1160, 0.012130482829018512), (1161, 0.0), (1162, 0.0), (1163, 0.0), (1164, 0.0), (1165, 0.0), (1166, 0.0), (1167, 0.0), (1168, 0.0), (1169, 0.0), (1170, 0.0), (1171, 0.0), (1172, 0.0), (1173, 0.0), (1174, 0.0053416993869115), (1175, 0.005605554726131261), (1176, 0.022976235946275302), (1177, 0.005200360656253608), (1178, 0.006396974401076715), (1179, 0.0), (1180, 0.0), (1181, 0.0), (1182, 0.0), (1183, 0.0236994901400968), (1184, 0.0), (1185, 0.0), (1186, 0.0), (1187, 0.0), (1188, 0.006169501867982937), (1189, 0.0), (1190, 0.0), (1191, 0.0926128295439736), (1192, 0.01697541127385613), (1193, 0.12053795265400703), (1194, 0.0), (1195, 0.0057562419500350485), (1196, 0.0), (1197, 0.0), (1198, 0.0), (1199, 0.024205441558720554), (1200, 0.005943643213887353), (1201, 0.005616433173983935), (1202, 0.0), (1203, 0.0), (1204, 0.0), (1205, 0.0), (1206, 0.012662475407615113), (1207, 0.0), (1208, 0.01466637831850825), (1209, 0.0), (1210, 0.0), (1211, 0.0), (1212, 0.023742770072657036), (1213, 0.03591862229244702), (1214, 0.0), (1215, 0.0), (1216, 0.0), (1217, 0.0), (1218, 0.0), (1219, 0.0), (1220, 0.032786469465572274), (1221, 0.0), (1222, 0.0), (1223, 0.0), (1224, 0.0), (1225, 0.06961308812266709), (1226, 0.0), (1227, 0.0), (1228, 0.0), (1229, 0.0), (1230, 0.019154402884054372), (1231, 0.0), (1232, 0.0), (1233, 0.0207565023779951), (1234, 0.006068847879606853), (1235, 0.0), (1236, 0.0), (1237, 0.022252306343555475), (1238, 0.012021985722574666), (1239, 0.08664435783875403), (1240, 0.0), (1241, 0.0), (1242, 0.0), (1243, 0.0), (1244, 0.01122016478128975), (1245, 0.06685746109195512), (1246, 0.04834016297532671), (1247, 0.050452118962044434), (1248, 0.0), (1249, 0.00621574730174873), (1250, 0.0), (1251, 0.010375082534757073), (1252, 0.07582204640460315), (1253, 0.007764563291500713), (1254, 0.006257118890571684), (1255, 0.023953822442832777), (1256, 0.006532513291886538), (1257, 0.0), (1258, 0.0), (1259, 0.04103609761294304), (1260, 0.0), (1261, 0.0), (1262, 0.03025037547000201), (1263, 0.0), (1264, 0.0), (1265, 0.0), (1266, 0.0774259931033434), (1267, 0.00809198003557899), (1268, 0.0), (1269, 0.0070015481709668195), (1270, 0.005266946852844871), (1271, 0.005786704347450127), (1272, 0.006526626127421297), (1273, 0.006432151544809088), (1274, 0.011096170889426823), (1275, 0.046559080057875554), (1276, 0.04908058738636438), (1277, 0.015149983869515457), (1278, 0.006944538275499555), (1279, 0.005964410694243886), (1280, 0.0), (1281, 0.005467797613806892), (1282, 0.01898479648164366), (1283, 0.0), (1284, 0.006161681475480067), (1285, 0.0062477392067858215), (1286, 0.005130934256542328), (1287, 0.011658360616364272), (1288, 0.00794833174045005), (1289, 0.019264693289991863), (1290, 0.005270469795914772), (1291, 0.0141121539793703), (1292, 0.0), (1293, 0.0), (1294, 0.005878105148668112), (1295, 0.0), (1296, 0.07785333503009668), (1297, 0.0), (1298, 0.005043011321018489), (1299, 0.0), (1300, 0.0), (1301, 0.0), (1302, 0.006115563710216398), (1303, 0.00572370346076369), (1304, 0.004301745844932262), (1305, 0.0), (1306, 0.013848765284630466), (1307, 0.0), (1308, 0.0), (1309, 0.0), (1310, 0.01649300609834934), (1311, 0.0), (1312, 0.0), (1313, 0.0), (1314, 0.0), (1315, 0.0), (1316, 0.0), (1317, 0.026712274575217285), (1318, 0.0), (1319, 0.006252665101825685), (1320, 0.029948946701584763), (1321, 0.01886463383907279), (1322, 0.012371083658903116), (1323, 0.0), (1324, 0.006659330267562859), (1325, 0.0), (1326, 0.0), (1327, 0.0), (1328, 0.0), (1329, 0.0), (1330, 0.0), (1331, 0.01262353698341933), (1332, 0.005598885801323494), (1333, 0.0), (1334, 0.006103411867064201), (1335, 0.0), (1336, 0.0), (1337, 0.012804767538051497), (1338, 0.0), (1339, 0.006250855074278686), (1340, 0.0), (1341, 0.015250390066737386), (1342, 0.006554573577697997), (1343, 0.017097907201181067), (1344, 0.0), (1345, 0.0), (1346, 0.0), (1347, 0.02704121372447217), (1348, 0.0), (1349, 0.032318324918777064), (1350, 0.0), (1351, 0.0), (1352, 0.0), (1353, 0.0), (1354, 0.0), (1355, 0.0), (1356, 0.0), (1357, 0.007026035758618518), (1358, 0.0), (1359, 0.016889714240636153), (1360, 0.0), (1361, 0.005574017760218534), (1362, 0.0), (1363, 0.026685967332933627), (1364, 0.12397812908001118), (1365, 0.041041213276969704), (1366, 0.0), (1367, 0.012055554907974343), (1368, 0.0), (1369, 0.0), (1370, 0.0), (1371, 0.0), (1372, 0.0), (1373, 0.08278367538937367), (1374, 0.012439588353061292), (1375, 0.02758620821875404), (1376, 0.024202508689402935), (1377, 0.006552585077876419), (1378, 0.0), (1379, 0.0), (1380, 0.006428268845349045), (1381, 0.0), (1382, 0.0), (1383, 0.0), (1384, 0.020771465218427335), (1385, 0.0), (1386, 0.0), (1387, 0.0), (1388, 0.0), (1389, 0.0), (1390, 0.018989803300010894), (1391, 0.0), (1392, 0.0), (1393, 0.0), (1394, 0.013771841769173423), (1395, 0.006052743428368013), (1396, 0.0), (1397, 0.0), (1398, 0.007208798773120145), (1399, 0.03534199455305313), (1400, 0.0), (1401, 0.0), (1402, 0.012227686410337169), (1403, 0.0), (1404, 0.004871220743862228), (1405, 0.02131193226920322), (1406, 0.0), (1407, 0.0), (1408, 0.050411517107236264), (1409, 0.03000155801270511), (1410, 0.0), (1411, 0.012366291338777504), (1412, 0.005080708294615568), (1413, 0.0), (1414, 0.0), (1415, 0.02050671779610482), (1416, 0.024952102036656765), (1417, 0.006774872298043536), (1418, 0.0), (1419, 0.006019964041712774), (1420, 0.024985321152819182), (1421, 0.028269115135074994), (1422, 0.0), (1423, 0.01259369423749203), (1424, 0.0), (1425, 0.006759418130015458), (1426, 0.0), (1427, 0.09638701397911717), (1428, 0.0055532669680771795), (1429, 0.029950897728305937), (1430, 0.02610868089370468), (1431, 0.005718736959307808), (1432, 0.006240750234330628), (1433, 0.0), (1434, 0.006344523074450512), (1435, 0.10553571255958549), (1436, 0.0), (1437, 0.005235422994151095), (1438, 0.016394997905061808), (1439, 0.01155090545909394), (1440, 0.0899115223010797), (1441, 0.0), (1442, 0.0), (1443, 0.018186253561175494), (1444, 0.0), (1445, 0.006064876752536991), (1446, 0.011882372792118723), (1447, 0.005782594554837867), (1448, 0.029825728163247037), (1449, 0.011840862735784753), (1450, 0.005474742437699745), (1451, 0.01361602858044012), (1452, 0.012675860039762768), (1453, 0.01639147305336487), (1454, 0.0), (1455, 0.029176847357639365), (1456, 0.005068892340042282), (1457, 0.006146969649648637), (1458, 0.0), (1459, 0.005307178009691409), (1460, 0.0), (1461, 0.07955277199043276), (1462, 0.0), (1463, 0.038900195668601575), (1464, 0.0), (1465, 0.005754372591536721), (1466, 0.049196675859352196), (1467, 0.03127617687716674), (1468, 0.0), (1469, 0.013998883912346457), (1470, 0.005944180978918577), (1471, 0.03972999293750811), (1472, 0.04497219272898134), (1473, 0.0), (1474, 0.0), (1475, 0.0), (1476, 0.0), (1477, 0.06491540282147812), (1478, 0.0), (1479, 0.006862749487321625), (1480, 0.0), (1481, 0.010851631229875916), (1482, 0.0057762088627100585), (1483, 0.03910516885640192), (1484, 0.005668508057164917), (1485, 0.012538520191456199), (1486, 0.006481795790130085), (1487, 0.0), (1488, 0.021904953260713858), (1489, 0.0), (1490, 0.006318402843343619), (1491, 0.0057279269825968315), (1492, 0.0), (1493, 0.0), (1494, 0.02390851526996722), (1495, 0.011714589297441132), (1496, 0.011998751812930385), (1497, 0.010927112778896523), (1498, 0.0), (1499, 0.0), (1500, 0.05331391460686188), (1501, 0.0), (1502, 0.0), (1503, 0.007993855979131511), (1504, 0.0), (1505, 0.00660545116042226), (1506, 0.01326932850799366), (1507, 0.005790746003081847), (1508, 0.0), (1509, 0.0), (1510, 0.005948556760991999), (1511, 0.0), (1512, 0.0), (1513, 0.005750772795364074), (1514, 0.07799732025430682), (1515, 0.006245494923974733), (1516, 0.0), (1517, 0.0052997434080996626), (1518, 0.015630234397640018), (1519, 0.009926365991593139), (1520, 0.015326550621205547), (1521, 0.0), (1522, 0.0), (1523, 0.11197004403000335), (1524, 0.01507612612681533), (1525, 0.02296545243701636), (1526, 0.0), (1527, 0.0), (1528, 0.006990301495169602), (1529, 0.0), (1530, 0.0), (1531, 0.0050505428372272804), (1532, 0.0), (1533, 0.09232078592973585), (1534, 0.04955485423631064), (1535, 0.0), (1536, 0.0), (1537, 0.0), (1538, 0.0056243015066480525), (1539, 0.0), (1540, 0.0), (1541, 0.0), (1542, 0.005785248116189776), (1543, 0.050406111358344954), (1544, 0.0), (1545, 0.0), (1546, 0.0430591011130549), (1547, 0.0), (1548, 0.0), (1549, 0.011314065708251806), (1550, 0.0), (1551, 0.0), (1552, 0.0), (1553, 0.0), (1554, 0.0), (1555, 0.0), (1556, 0.01981638660373788), (1557, 0.0), (1558, 0.0649777890547728), (1559, 0.17759834475788505), (1560, 0.0127830277250067), (1561, 0.0), (1562, 0.0), (1563, 0.0), (1564, 0.0), (1565, 0.0), (1566, 0.0), (1567, 0.032589601743831804), (1568, 0.006149619286842212), (1569, 0.01600912406066192), (1570, 0.009887806293967577), (1571, 0.0), (1572, 0.0), (1573, 0.0058673935366199805), (1574, 0.0), (1575, 0.0), (1576, 0.0), (1577, 0.006071025900640332), (1578, 0.012104601284311981), (1579, 0.01434044160702964), (1580, 0.0), (1581, 0.0), (1582, 0.0), (1583, 0.03379121156374594), (1584, 0.009733184705145417), (1585, 0.0), (1586, 0.01920659212837323), (1587, 0.0), (1588, 0.0), (1589, 0.0), (1590, 0.03002044206671752), (1591, 0.03335982525660463), (1592, 0.006442114716611545), (1593, 0.0), (1594, 0.011340351302819822), (1595, 0.01279516573135561), (1596, 0.005956539946571954), (1597, 0.007679283154580903), (1598, 0.12201231344793548), (1599, 0.012338058283493047), (1600, 0.0), (1601, 0.0), (1602, 0.0), (1603, 0.012621007383561917), (1604, 0.022197867542124168), (1605, 0.0), (1606, 0.043998591932016905), (1607, 0.0), (1608, 0.005183255877247221), (1609, 0.0), (1610, 0.006145352932025429), (1611, 0.024943876040435187), (1612, 0.022599367265119984), (1613, 0.05220738582087484), (1614, 0.0), (1615, 0.005958352437449818), (1616, 0.02525204673974448), (1617, 0.006262542585286621), (1618, 0.0), (1619, 0.01227301716731467), (1620, 0.0), (1621, 0.0), (1622, 0.0), (1623, 0.027952302350888518), (1624, 0.0), (1625, 0.005546675791985514), (1626, 0.01519066008685823), (1627, 0.0), (1628, 0.006521549539808183), (1629, 0.0), (1630, 0.0), (1631, 0.0), (1632, 0.0), (1633, 0.006151932566158411), (1634, 0.0), (1635, 0.005637080098885286), (1636, 0.006645776760082863), (1637, 0.09389126036183468), (1638, 0.0), (1639, 0.0), (1640, 0.0), (1641, 0.0), (1642, 0.0), (1643, 0.010699416648544445), (1644, 0.0), (1645, 0.005864978789155028), (1646, 0.0), (1647, 0.0), (1648, 0.0), (1649, 0.0), (1650, 0.01073093892183911), (1651, 0.0), (1652, 0.05134547157506192), (1653, 0.006024879094958549), (1654, 0.020781018185068157), (1655, 0.0), (1656, 0.0), (1657, 0.02241358064863708), (1658, 0.014040110238382215), (1659, 0.0), (1660, 0.0), (1661, 0.006062812918468928), (1662, 0.0), (1663, 0.03273635621485476), (1664, 0.005608256018880721), (1665, 0.0), (1666, 0.0), (1667, 0.007623789024797499), (1668, 0.05212526656175748), (1669, 0.01642721934251289), (1670, 0.004954665023770056), (1671, 0.026502235182605097), (1672, 0.005388344445459121), (1673, 0.0), (1674, 0.0), (1675, 0.006959856672877137), (1676, 0.0), (1677, 0.0), (1678, 0.024779318268599908), (1679, 0.0), (1680, 0.009692726338877296), (1681, 0.0), (1682, 0.012181490973947903), (1683, 0.0), (1684, 0.012802354055244988), (1685, 0.0), (1686, 0.015949216676870832), (1687, 0.02170948644698505), (1688, 0.02300713355030938), (1689, 0.0), (1690, 0.0), (1691, 0.0), (1692, 0.0), (1693, 0.020649155061178585), (1694, 0.012286072007196848), (1695, 0.013262766976126621), (1696, 0.0), (1697, 0.005423232438031028), (1698, 0.0), (1699, 0.006326112112423931), (1700, 0.0), (1701, 0.033780087634959786), (1702, 0.005886419066387502), (1703, 0.0), (1704, 0.0), (1705, 0.0), (1706, 0.0), (1707, 0.016306819718580837), (1708, 0.0), (1709, 0.0), (1710, 0.0), (1711, 0.012921604328679821), (1712, 0.0), (1713, 0.0388595609588549), (1714, 0.0), (1715, 0.005173634794326066), (1716, 0.0), (1717, 0.0), (1718, 0.010404502342973356), (1719, 0.04513124366789285), (1720, 0.005873824341598504), (1721, 0.00521496451378174), (1722, 0.0), (1723, 0.03480717311885313), (1724, 0.0), (1725, 0.011926826013979677), (1726, 0.0), (1727, 0.006686493234969685), (1728, 0.012316915301645293), (1729, 0.0), (1730, 0.0), (1731, 0.042797307747512565), (1732, 0.08059153277020689), (1733, 0.006778250638741107), (1734, 0.01079500842507266), (1735, 0.00516556716595912), (1736, 0.0), (1737, 0.036725058320947496), (1738, 0.0), (1739, 0.0), (1740, 0.006067708413780978), (1741, 0.00593785778813458), (1742, 0.006029338700987604), (1743, 0.016651092972668948), (1744, 0.0), (1745, 0.0), (1746, 0.01129732262616946), (1747, 0.009783253447606806), (1748, 0.018815018060236458), (1749, 0.020491387938420595), (1750, 0.016523920237937622), (1751, 0.012617420148543765), (1752, 0.0), (1753, 0.018726083031124753), (1754, 0.0), (1755, 0.0), (1756, 0.0), (1757, 0.006267542895319353), (1758, 0.0), (1759, 0.024468488921091675), (1760, 0.0), (1761, 0.010353674977022135), (1762, 0.0), (1763, 0.0), (1764, 0.012284155761043341), (1765, 0.005540946546335192), (1766, 0.0), (1767, 0.0), (1768, 0.017949424562631475), (1769, 0.006982030809976789), (1770, 0.0), (1771, 0.005496767557410868), (1772, 0.0), (1773, 0.0), (1774, 0.0), (1775, 0.0), (1776, 0.0), (1777, 0.01998499092351543), (1778, 0.0), (1779, 0.0), (1780, 0.0), (1781, 0.0), (1782, 0.0), (1783, 0.05270425328912024), (1784, 0.0), (1785, 0.0), (1786, 0.0), (1787, 0.029427185246658702), (1788, 0.0), (1789, 0.020814923353386545), (1790, 0.006291439094419916), (1791, 0.0), (1792, 0.006342847847197556), (1793, 0.11985502760945599), (1794, 0.0), (1795, 0.005233560777874556), (1796, 0.12440276495795237), (1797, 0.0), (1798, 0.0), (1799, 0.033920396244788), (1800, 0.012239900524439434), (1801, 0.0), (1802, 0.04901995311854027), (1803, 0.0), (1804, 0.03185457207499384), (1805, 0.0), (1806, 0.011866346360034283), (1807, 0.0), (1808, 0.0), (1809, 0.0), (1810, 0.0), (1811, 0.0), (1812, 0.020726020543349013), (1813, 0.018069293199663952), (1814, 0.0), (1815, 0.006148073534002229), (1816, 0.01389388743459996), (1817, 0.004827222436926554), (1818, 0.0), (1819, 0.0), (1820, 0.0), (1821, 0.011747330310059218), (1822, 0.010981075694134219), (1823, 0.03748837576165722), (1824, 0.0), (1825, 0.005908244396344985), (1826, 0.006351772218612135), (1827, 0.005170433266211688), (1828, 0.0), (1829, 0.0), (1830, 0.005503261734066225), (1831, 0.03869395910613357), (1832, 0.0), (1833, 0.011883125656802246), (1834, 0.023100691495953413), (1835, 0.0), (1836, 0.07409389787134336), (1837, 0.004991938593253584), (1838, 0.0), (1839, 0.03478208939355432), (1840, 0.0), (1841, 0.0), (1842, 0.013267642921744207), (1843, 0.0), (1844, 0.006635012920886223), (1845, 0.0646884197543438), (1846, 0.0), (1847, 0.0), (1848, 0.00542078977963676), (1849, 0.034511837376647134), (1850, 0.006638980881182316), (1851, 0.029560891468284774), (1852, 0.0), (1853, 0.005939275321389156), (1854, 0.005897466879193315), (1855, 0.0), (1856, 0.022752014794535192), (1857, 0.0), (1858, 0.012908106529252651), (1859, 0.01912911393387837), (1860, 0.006500801133323127), (1861, 0.0), (1862, 0.0), (1863, 0.0), (1864, 0.0), (1865, 0.013111478822134202), (1866, 0.0), (1867, 0.0), (1868, 0.006111521053155379), (1869, 0.0), (1870, 0.0), (1871, 0.07459847978137894), (1872, 0.006069893701539823), (1873, 0.0), (1874, 0.060224419299982214), (1875, 0.0), (1876, 0.0), (1877, 0.00473218461230526), (1878, 0.00987325991205433), (1879, 0.02360029974956316), (1880, 0.006055431783758741), (1881, 0.0), (1882, 0.0), (1883, 0.0), (1884, 0.0), (1885, 0.0), (1886, 0.0), (1887, 0.06761075315212639), (1888, 0.0), (1889, 0.0), (1890, 0.028065062944434047), (1891, 0.0), (1892, 0.005486119409236835), (1893, 0.012118909716864728), (1894, 0.006492279534559416), (1895, 0.0), (1896, 0.0), (1897, 0.006837159829728639), (1898, 0.014529528637001205), (1899, 0.014944007012985991), (1900, 0.011117195997529286), (1901, 0.0), (1902, 0.026523225305248012), (1903, 0.0), (1904, 0.0), (1905, 0.026552025389219063), (1906, 0.029663423703280373), (1907, 0.005384187558445582), (1908, 0.00636242905699492), (1909, 0.0), (1910, 0.005937073235685666), (1911, 0.0), (1912, 0.0), (1913, 0.02617168403911227), (1914, 0.01150876886490897), (1915, 0.012406509754919989), (1916, 0.0), (1917, 0.012540796586170421), (1918, 0.055385502388617926), (1919, 0.0), (1920, 0.006633818517710701), (1921, 0.0), (1922, 0.025928657007776336), (1923, 0.0), (1924, 0.0), (1925, 0.0), (1926, 0.0), (1927, 0.0), (1928, 0.0123723365496045), (1929, 0.0), (1930, 0.02590025620610742), (1931, 0.0), (1932, 0.019489653610426937), (1933, 0.006730382727949243), (1934, 0.0), (1935, 0.0), (1936, 0.01578664862023028), (1937, 0.00759774428786813), (1938, 0.0), (1939, 0.017631337147282405), (1940, 0.0), (1941, 0.0), (1942, 0.01039495384051849), (1943, 0.0), (1944, 0.0), (1945, 0.0), (1946, 0.0), (1947, 0.0), (1948, 0.0), (1949, 0.02066706284004913), (1950, 0.0), (1951, 0.0), (1952, 0.0), (1953, 0.01912594810664668), (1954, 0.006325648517157893), (1955, 0.005137024166426021), (1956, 0.006109771231753065), (1957, 0.0), (1958, 0.024162606461211676), (1959, 0.010686490169603572), (1960, 0.012193888635986486), (1961, 0.0), (1962, 0.008037810622080798), (1963, 0.0), (1964, 0.041551763036095646), (1965, 0.0), (1966, 0.0), (1967, 0.04090661170321098), (1968, 0.0), (1969, 0.0), (1970, 0.0), (1971, 0.0), (1972, 0.0), (1973, 0.005624472189031005), (1974, 0.011594294939172259), (1975, 0.0), (1976, 0.0132304702620854), (1977, 0.009747858775367749), (1978, 0.007228203327257603), (1979, 0.0), (1980, 0.0), (1981, 0.0), (1982, 0.0), (1983, 0.0), (1984, 0.014368194469604243), (1985, 0.0), (1986, 0.006838706202581938), (1987, 0.010397961352906307), (1988, 0.0), (1989, 0.0), (1990, 0.0061820032117802445), (1991, 0.006274382162237325), (1992, 0.0), (1993, 0.010614934660890874), (1994, 0.02468478528638563), (1995, 0.005128228888902197), (1996, 0.017967671139464785), (1997, 0.0), (1998, 0.0), (1999, 0.03612848870504778), (2000, 0.0), (2001, 0.008463820072236259), (2002, 0.0063888459787832), (2003, 0.0), (2004, 0.0), (2005, 0.0), (2006, 0.015758674968546934), (2007, 0.005376364929103553), (2008, 0.04911307998779073), (2009, 0.0), (2010, 0.0), (2011, 0.0), (2012, 0.04195361564612539), (2013, 0.00500104268523992), (2014, 0.0), (2015, 0.0), (2016, 0.004687191231431036), (2017, 0.011005916853492953), (2018, 0.0), (2019, 0.01032458059148007), (2020, 0.019816789235773045), (2021, 0.0), (2022, 0.0), (2023, 0.00572523518576667), (2024, 0.0), (2025, 0.0), (2026, 0.004648326075791863), (2027, 0.0), (2028, 0.0), (2029, 0.0197710379420513), (2030, 0.020884247997673556), (2031, 0.0), (2032, 0.0), (2033, 0.0), (2034, 0.052069850687895436), (2035, 0.0), (2036, 0.018256263569255003), (2037, 0.0), (2038, 0.022363584801967786), (2039, 0.018306425665476425), (2040, 0.022159875848815163), (2041, 0.0), (2042, 0.0), (2043, 0.05062440288009591), (2044, 0.0), (2045, 0.0), (2046, 0.006248097788033227), (2047, 0.0071234688156201105), (2048, 0.0), (2049, 0.02078512202989431), (2050, 0.005788905946955278), (2051, 0.0), (2052, 0.0), (2053, 0.054477103648503424), (2054, 0.005764301442387295), (2055, 0.007108387908105411), (2056, 0.0), (2057, 0.00494645322312759), (2058, 0.0), (2059, 0.0), (2060, 0.1055523177320242), (2061, 0.0), (2062, 0.010734853608664894), (2063, 0.0), (2064, 0.0), (2065, 0.0), (2066, 0.005194508268819156), (2067, 0.0), (2068, 0.015846311646975562), (2069, 0.016770083694033475), (2070, 0.0), (2071, 0.0), (2072, 0.0), (2073, 0.0), (2074, 0.0058803280490623815), (2075, 0.006170791377732531), (2076, 0.0), (2077, 0.022835093222001283), (2078, 0.0), (2079, 0.0), (2080, 0.0), (2081, 0.0), (2082, 0.0), (2083, 0.0), (2084, 0.088585768708717), (2085, 0.005777182283294456), (2086, 0.0), (2087, 0.0), (2088, 0.0), (2089, 0.0065883795841037525), (2090, 0.0), (2091, 0.0), (2092, 0.0), (2093, 0.006446896962210071), (2094, 0.0), (2095, 0.027576957556597344), (2096, 0.011262776687516084), (2097, 0.0), (2098, 0.0), (2099, 0.0), (2100, 0.01846665998032796), (2101, 0.0), (2102, 0.0), (2103, 0.0), (2104, 0.0), (2105, 0.0), (2106, 0.0), (2107, 0.0), (2108, 0.012135574263425266), (2109, 0.022508760213849), (2110, 0.0), (2111, 0.005213685631602367), (2112, 0.0), (2113, 0.0), (2114, 0.012989115811326836), (2115, 0.0), (2116, 0.0), (2117, 0.0), (2118, 0.01994543075652317), (2119, 0.0), (2120, 0.0), (2121, 0.0), (2122, 0.00726157754068455), (2123, 0.0), (2124, 0.0), (2125, 0.0), (2126, 0.0), (2127, 0.012127461075603625), (2128, 0.0), (2129, 0.005907315193607249), (2130, 0.0), (2131, 0.010527705188657322), (2132, 0.0), (2133, 0.01899066057490935), (2134, 0.0), (2135, 0.0), (2136, 0.05407200305292711), (2137, 0.0), (2138, 0.0), (2139, 0.021052359109799627), (2140, 0.005751938679961658), (2141, 0.05106965478893076), (2142, 0.04908463656876207), (2143, 0.0), (2144, 0.01754335868533956), (2145, 0.0), (2146, 0.0), (2147, 0.04164557602480222), (2148, 0.0), (2149, 0.019559875664194894), (2150, 0.0), (2151, 0.013562703753640519), (2152, 0.08125490236035196), (2153, 0.0), (2154, 0.007126984110474526), (2155, 0.005656311678857081), (2156, 0.006277295637029678), (2157, 0.11468347221133328), (2158, 0.0), (2159, 0.0), (2160, 0.0), (2161, 0.0058509488681251585), (2162, 0.0), (2163, 0.07126813752631926), (2164, 0.0), (2165, 0.014779293279529284), (2166, 0.012221093796821014), (2167, 0.03682361106648267), (2168, 0.0), (2169, 0.051063806901588994), (2170, 0.0), (2171, 0.0), (2172, 0.0), (2173, 0.0), (2174, 0.0), (2175, 0.038238884222979115), (2176, 0.0), (2177, 0.0), (2178, 0.0), (2179, 0.0), (2180, 0.0), (2181, 0.005750893681487372), (2182, 0.0), (2183, 0.05116477523731745), (2184, 0.013817319656807336), (2185, 0.011477417866111934), (2186, 0.0), (2187, 0.020652737015425256), (2188, 0.007044790103014738), (2189, 0.02310642929367616), (2190, 0.0), (2191, 0.0), (2192, 0.0), (2193, 0.0), (2194, 0.005666353300182946), (2195, 0.0057794588083516), (2196, 0.006352056098954939), (2197, 0.0), (2198, 0.019480758422012346), (2199, 0.0), (2200, 0.005414677815229434), (2201, 0.09607827186038762), (2202, 0.0), (2203, 0.03743946979065549), (2204, 0.0), (2205, 0.0068251782926934765), (2206, 0.011839396418036021), (2207, 0.007124851069737648), (2208, 0.0), (2209, 0.00482534202035883), (2210, 0.02537960520496967), (2211, 0.0), (2212, 0.006569743263963831), (2213, 0.0), (2214, 0.0), (2215, 0.013043332753062457), (2216, 0.0), (2217, 0.0), (2218, 0.04507827684277609), (2219, 0.02220906972840169), (2220, 0.0), (2221, 0.005095385154211058), (2222, 0.007340259124435165), (2223, 0.0), (2224, 0.0), (2225, 0.0), (2226, 0.0), (2227, 0.0), (2228, 0.011898516966305768), (2229, 0.0056461262543578685), (2230, 0.076781486556722), (2231, 0.0), (2232, 0.0), (2233, 0.0), (2234, 0.0), (2235, 0.0), (2236, 0.0), (2237, 0.01711643245880074), (2238, 0.0), (2239, 0.0235083793396467), (2240, 0.0), (2241, 0.0), (2242, 0.0278673835001894), (2243, 0.0), (2244, 0.005916885078387134), (2245, 0.02101289188717367), (2246, 0.0), (2247, 0.009937521891122413), (2248, 0.0), (2249, 0.0), (2250, 0.0065137525967259935), (2251, 0.0), (2252, 0.0), (2253, 0.005250775652034445), (2254, 0.0), (2255, 0.03265822415408904), (2256, 0.0), (2257, 0.0), (2258, 0.010696368031591167), (2259, 0.0), (2260, 0.07128568713825739), (2261, 0.0), (2262, 0.01066873865039108), (2263, 0.028503091187248395), (2264, 0.028500304778525387), (2265, 0.0), (2266, 0.01332385088692748), (2267, 0.022738752700711726), (2268, 0.007077112629651479), (2269, 0.0), (2270, 0.0), (2271, 0.0), (2272, 0.0), (2273, 0.0), (2274, 0.012896362123112362), (2275, 0.0), (2276, 0.0), (2277, 0.005831842777550293), (2278, 0.01915303741191985), (2279, 0.0), (2280, 0.0), (2281, 0.0), (2282, 0.0), (2283, 0.0), (2284, 0.0), (2285, 0.0), (2286, 0.0), (2287, 0.0), (2288, 0.00590295944433191), (2289, 0.0), (2290, 0.0), (2291, 0.005628898870304532), (2292, 0.0), (2293, 0.005979547910904473), (2294, 0.009990761648844394), (2295, 0.006103026131309929), (2296, 0.006214280483283462), (2297, 0.0), (2298, 0.012844037673568405), (2299, 0.0), (2300, 0.0), (2301, 0.0), (2302, 0.0), (2303, 0.01002792661326945), (2304, 0.0), (2305, 0.012502426613985203), (2306, 0.012336306699833295), (2307, 0.016836424207759982), (2308, 0.0), (2309, 0.006475704033152506), (2310, 0.07996325141474497), (2311, 0.012379747491647643), (2312, 0.03721372988083806), (2313, 0.013069590652377644), (2314, 0.010966517654559749), (2315, 0.020278325159438393), (2316, 0.025266181554178254), (2317, 0.019629988930017828), (2318, 0.0), (2319, 0.0), (2320, 0.0062932504369067315), (2321, 0.0), (2322, 0.0), (2323, 0.0), (2324, 0.0), (2325, 0.0), (2326, 0.0), (2327, 0.00575078314486888), (2328, 0.0), (2329, 0.0), (2330, 0.0), (2331, 0.0), (2332, 0.0), (2333, 0.012919335244872944), (2334, 0.0), (2335, 0.0), (2336, 0.004652293240233775), (2337, 0.0), (2338, 0.023195599532862616), (2339, 0.0), (2340, 0.04362230417613395), (2341, 0.0), (2342, 0.0), (2343, 0.045323264933699245), (2344, 0.0), (2345, 0.0), (2346, 0.005538215835071447), (2347, 0.0), (2348, 0.07210514065513512), (2349, 0.005601631756604763), (2350, 0.0), (2351, 0.0), (2352, 0.031220388994315576), (2353, 0.0), (2354, 0.07254639104960633), (2355, 0.0), (2356, 0.02275300292188747), (2357, 0.004540451270159053), (2358, 0.0), (2359, 0.0), (2360, 0.007435211020230126), (2361, 0.1699789550645348), (2362, 0.0), (2363, 0.0), (2364, 0.0), (2365, 0.0), (2366, 0.010659815109365776), (2367, 0.015207928186508847), (2368, 0.03635923442748117), (2369, 0.10853844869354826), (2370, 0.08703660338777723), (2371, 0.005993861583960731), (2372, 0.005623266906665297), (2373, 0.022517274578469262), (2374, 0.0), (2375, 0.09053624997968698), (2376, 0.0), (2377, 0.0), (2378, 0.0), (2379, 0.0), (2380, 0.006343441788466501), (2381, 0.01860321023792758), (2382, 0.012056170069331391), (2383, 0.0), (2384, 0.0), (2385, 0.0), (2386, 0.005639607485903483), (2387, 0.0), (2388, 0.005767592686980344), (2389, 0.005927369458332789), (2390, 0.01788697203027889), (2391, 0.0), (2392, 0.021707391990611218), (2393, 0.0), (2394, 0.006446868943597334), (2395, 0.0), (2396, 0.0), (2397, 0.0), (2398, 0.005952525807432866), (2399, 0.0), (2400, 0.006102623751676436), (2401, 0.014674938045096213), (2402, 0.011088119375140043), (2403, 0.03254587487081735), (2404, 0.0), (2405, 0.0), (2406, 0.012714043693272356), (2407, 0.0), (2408, 0.0), (2409, 0.0), (2410, 0.0), (2411, 0.0), (2412, 0.006087420310932721), (2413, 0.018139410580858193), (2414, 0.0), (2415, 0.0), (2416, 0.012628996972688034), (2417, 0.0), (2418, 0.022288751900783336), (2419, 0.019388806321947043), (2420, 0.0), (2421, 0.0), (2422, 0.0), (2423, 0.0), (2424, 0.06822372474230036), (2425, 0.0), (2426, 0.0), (2427, 0.040479531638222876), (2428, 0.0), (2429, 0.005052325752248017), (2430, 0.0), (2431, 0.0), (2432, 0.07278431032421002), (2433, 0.024903740716317513), (2434, 0.022936256792817567), (2435, 0.005246812574767023), (2436, 0.0), (2437, 0.0), (2438, 0.012486516288898698), (2439, 0.0), (2440, 0.0), (2441, 0.0), (2442, 0.006336988601961298), (2443, 0.0), (2444, 0.0063286403892927594), (2445, 0.0), (2446, 0.0), (2447, 0.0), (2448, 0.02864715383313013), (2449, 0.02077719888395997), (2450, 0.027472792950527028), (2451, 0.0), (2452, 0.0), (2453, 0.0), (2454, 0.0), (2455, 0.0), (2456, 0.007246311250283816), (2457, 0.0), (2458, 0.012518215753179312), (2459, 0.011531745676910581), (2460, 0.0), (2461, 0.0), (2462, 0.017842426359527094), (2463, 0.0), (2464, 0.01301870469875273), (2465, 0.010220001240841166), (2466, 0.00692503297391466), (2467, 0.0), (2468, 0.0), (2469, 0.019631922977513202), (2470, 0.022971895382100926), (2471, 0.005999606520982155), (2472, 0.0), (2473, 0.0), (2474, 0.005290015455163374), (2475, 0.03211731462219361), (2476, 0.04878357167709177), (2477, 0.0), (2478, 0.0), (2479, 0.0), (2480, 0.0), (2481, 0.0), (2482, 0.0), (2483, 0.0), (2484, 0.0), (2485, 0.0), (2486, 0.005392600458447754), (2487, 0.0), (2488, 0.0), (2489, 0.03296907743374674), (2490, 0.018927914533183317), (2491, 0.04014031032051203), (2492, 0.026082691277316435), (2493, 0.013241282638087987), (2494, 0.015291105123606796), (2495, 0.013239603511367605), (2496, 0.0), (2497, 0.0), (2498, 0.03568259733289843), (2499, 0.011554118815804136), (2500, 0.0), (2501, 0.0), (2502, 0.0), (2503, 0.0), (2504, 0.0), (2505, 0.0), (2506, 0.007252689775793322), (2507, 0.0), (2508, 0.010895545603704761), (2509, 0.012999530095959867), (2510, 0.006685427290007412), (2511, 0.0), (2512, 0.0), (2513, 0.0), (2514, 0.05994982142137813), (2515, 0.00479167660159637), (2516, 0.0428086550144795), (2517, 0.06820823317210377), (2518, 0.0), (2519, 0.0), (2520, 0.0), (2521, 0.023357300494642456), (2522, 0.0), (2523, 0.0), (2524, 0.0), (2525, 0.019453754676599114), (2526, 0.0), (2527, 0.0), (2528, 0.0), (2529, 0.10646305275367704), (2530, 0.012034851785183955), (2531, 0.0), (2532, 0.09535953056129512), (2533, 0.013248753546344982), (2534, 0.0), (2535, 0.0), (2536, 0.026937543414491977), (2537, 0.0), (2538, 0.0), (2539, 0.0), (2540, 0.012014460735120984), (2541, 0.0), (2542, 0.0), (2543, 0.0214211027100018), (2544, 0.0), (2545, 0.0), (2546, 0.0), (2547, 0.012330406584875704), (2548, 0.0), (2549, 0.018372134826135502), (2550, 0.0), (2551, 0.0), (2552, 0.0), (2553, 0.0), (2554, 0.019079022172351395), (2555, 0.0), (2556, 0.010229902153712105), (2557, 0.0), (2558, 0.005768048492153495), (2559, 0.0), (2560, 0.0), (2561, 0.04040909172897328), (2562, 0.0), (2563, 0.019262121407127186), (2564, 0.03451144261649557), (2565, 0.005875499365190137), (2566, 0.0), (2567, 0.0), (2568, 0.011571896825125993), (2569, 0.0), (2570, 0.0), (2571, 0.027976210782488714), (2572, 0.0), (2573, 0.005711199912384848), (2574, 0.0), (2575, 0.020545991887737335), (2576, 0.0), (2577, 0.014177090295383724), (2578, 0.05021785599396637), (2579, 0.005427407427656876), (2580, 0.019390217618791054), (2581, 0.013166700758611231), (2582, 0.0), (2583, 0.006412862727577879), (2584, 0.0), (2585, 0.0), (2586, 0.05394549725764818), (2587, 0.014125425793041218), (2588, 0.0870049763921107), (2589, 0.0), (2590, 0.0), (2591, 0.0), (2592, 0.10586452361559527), (2593, 0.0), (2594, 0.0), (2595, 0.0), (2596, 0.0), (2597, 0.016125934204768107), (2598, 0.012470701172026541), (2599, 0.0), (2600, 0.0), (2601, 0.0), (2602, 0.005077933191512031), (2603, 0.0), (2604, 0.0), (2605, 0.07109776517668283), (2606, 0.012937152405970948), (2607, 0.0), (2608, 0.0), (2609, 0.005965967150235486), (2610, 0.0), (2611, 0.055545295814879984), (2612, 0.0), (2613, 0.0), (2614, 0.015135736791999175), (2615, 0.0), (2616, 0.0), (2617, 0.015047412041320509), (2618, 0.0), (2619, 0.0), (2620, 0.0), (2621, 0.0), (2622, 0.0), (2623, 0.0), (2624, 0.0), (2625, 0.005961990528025771), (2626, 0.0), (2627, 0.019660687299406693), (2628, 0.010029037202866279), (2629, 0.0), (2630, 0.0), (2631, 0.0), (2632, 0.0), (2633, 0.011164386979374176), (2634, 0.0), (2635, 0.0), (2636, 0.0), (2637, 0.0), (2638, 0.0), (2639, 0.005213277387323537), (2640, 0.0), (2641, 0.0050540223505769494), (2642, 0.0), (2643, 0.0), (2644, 0.005809504339880038), (2645, 0.0058375476231708546), (2646, 0.006609615767910078), (2647, 0.0), (2648, 0.012740289474981764), (2649, 0.014528299245797746), (2650, 0.019216995247597513), (2651, 0.011598983782385216), (2652, 0.05180404738890941), (2653, 0.0), (2654, 0.018335320635680025), (2655, 0.019528660320506423), (2656, 0.0), (2657, 0.004928105344271542), (2658, 0.0), (2659, 0.011062688824547593), (2660, 0.0), (2661, 0.028381230068900774), (2662, 0.0), (2663, 0.0), (2664, 0.0), (2665, 0.07195592921277848), (2666, 0.0), (2667, 0.0), (2668, 0.0), (2669, 0.0), (2670, 0.0), (2671, 0.0), (2672, 0.0), (2673, 0.0), (2674, 0.020173206804518774), (2675, 0.006069892272804672), (2676, 0.0), (2677, 0.0), (2678, 0.018197449836250577), (2679, 0.0), (2680, 0.0), (2681, 0.005073940796314851), (2682, 0.05515367370557435), (2683, 0.0058800127755817356), (2684, 0.0), (2685, 0.011150972299381253), (2686, 0.01328202629917551), (2687, 0.0), (2688, 0.0), (2689, 0.0), (2690, 0.0), (2691, 0.0617003215568452), (2692, 0.0), (2693, 0.0), (2694, 0.0), (2695, 0.0), (2696, 0.012220907990717799), (2697, 0.0), (2698, 0.0), (2699, 0.0), (2700, 0.028765220365796512), (2701, 0.0), (2702, 0.01233859418625455), (2703, 0.0), (2704, 0.004930292236375729), (2705, 0.0), (2706, 0.03821853220320462), (2707, 0.0), (2708, 0.026520532782645427), (2709, 0.0), (2710, 0.0), (2711, 0.0), (2712, 0.005711174182292363), (2713, 0.0), (2714, 0.0), (2715, 0.0), (2716, 0.0), (2717, 0.05956600597892957), (2718, 0.0), (2719, 0.0), (2720, 0.0), (2721, 0.06803839320673172), (2722, 0.024109661653901257), (2723, 0.0), (2724, 0.0), (2725, 0.0), (2726, 0.0), (2727, 0.0), (2728, 0.00744425113889553), (2729, 0.0), (2730, 0.0), (2731, 0.0), (2732, 0.0), (2733, 0.0), (2734, 0.0), (2735, 0.01886601001404882), (2736, 0.005536400793330491), (2737, 0.0), (2738, 0.0), (2739, 0.0), (2740, 0.0), (2741, 0.0), (2742, 0.0), (2743, 0.0), (2744, 0.0), (2745, 0.0), (2746, 0.0), (2747, 0.005245404708623329), (2748, 0.0), (2749, 0.018445090915959146), (2750, 0.021699691217510798), (2751, 0.0), (2752, 0.0), (2753, 0.012677888957117984), (2754, 0.0), (2755, 0.0), (2756, 0.07744645870334446), (2757, 0.00456138646598663), (2758, 0.0), (2759, 0.0), (2760, 0.0), (2761, 0.0), (2762, 0.021083686681191233), (2763, 0.09533529761377588), (2764, 0.0), (2765, 0.0), (2766, 0.0), (2767, 0.0), (2768, 0.0), (2769, 0.07647734780655795), (2770, 0.0), (2771, 0.0), (2772, 0.0), (2773, 0.0), (2774, 0.0), (2775, 0.005975905167774177), (2776, 0.0), (2777, 0.01582407915614153), (2778, 0.0), (2779, 0.0), (2780, 0.0), (2781, 0.00550145974087537), (2782, 0.0), (2783, 0.0), (2784, 0.004438757347492397), (2785, 0.005998558343497766), (2786, 0.0), (2787, 0.0), (2788, 0.0), (2789, 0.0), (2790, 0.02630190547942153), (2791, 0.0), (2792, 0.012888701516033352), (2793, 0.023517169537726285), (2794, 0.03812129986367169), (2795, 0.0), (2796, 0.0), (2797, 0.021930473161520397), (2798, 0.0), (2799, 0.0), (2800, 0.0), (2801, 0.06774558935167568), (2802, 0.0), (2803, 0.005498351072081301), (2804, 0.0), (2805, 0.020844531087019114), (2806, 0.004611025349524205), (2807, 0.0), (2808, 0.0), (2809, 0.0), (2810, 0.020106772245972303), (2811, 0.0), (2812, 0.005890263961101202), (2813, 0.0), (2814, 0.0), (2815, 0.01700853365452496), (2816, 0.0), (2817, 0.0), (2818, 0.0), (2819, 0.005017415562607445), (2820, 0.0), (2821, 0.020319517137684262), (2822, 0.0), (2823, 0.0), (2824, 0.0), (2825, 0.0), (2826, 0.012608277477954608), (2827, 0.005955484339676932), (2828, 0.0), (2829, 0.0), (2830, 0.0), (2831, 0.0), (2832, 0.0), (2833, 0.0), (2834, 0.0), (2835, 0.012995729613840705), (2836, 0.0), (2837, 0.0), (2838, 0.021139928670450447), (2839, 0.0), (2840, 0.0), (2841, 0.0), (2842, 0.0), (2843, 0.0), (2844, 0.0), (2845, 0.01179380128604509), (2846, 0.01206374520172569), (2847, 0.0), (2848, 0.0), (2849, 0.0), (2850, 0.0), (2851, 0.014895956360429414), (2852, 0.0), (2853, 0.005087067824516132), (2854, 0.0), (2855, 0.0), (2856, 0.013921208125496624), (2857, 0.0), (2858, 0.0), (2859, 0.0), (2860, 0.0052229192323689135), (2861, 0.0), (2862, 0.0), (2863, 0.005619252207482961), (2864, 0.028024875786783622), (2865, 0.01951127011200486), (2866, 0.0), (2867, 0.007836844365649956), (2868, 0.004822883208360085), (2869, 0.0), (2870, 0.0), (2871, 0.0), (2872, 0.0), (2873, 0.0), (2874, 0.0), (2875, 0.01446756433988429), (2876, 0.0), (2877, 0.0), (2878, 0.0), (2879, 0.04994189041368097), (2880, 0.0), (2881, 0.0), (2882, 0.0), (2883, 0.0), (2884, 0.009652743631030199), (2885, 0.036494308861513884), (2886, 0.021420862004943187), (2887, 0.0), (2888, 0.0), (2889, 0.022185315626287713), (2890, 0.013963298229704959), (2891, 0.0), (2892, 0.031216041055660185), (2893, 0.0), (2894, 0.0), (2895, 0.0), (2896, 0.0), (2897, 0.0), (2898, 0.0), (2899, 0.007398433803445862), (2900, 0.0), (2901, 0.0), (2902, 0.0), (2903, 0.0), (2904, 0.0), (2905, 0.0), (2906, 0.0), (2907, 0.0), (2908, 0.0), (2909, 0.014180733999661467), (2910, 0.0), (2911, 0.010171314813261962), (2912, 0.005156724698995681), (2913, 0.0), (2914, 0.01841114927797206), (2915, 0.0), (2916, 0.02034383098998128), (2917, 0.0), (2918, 0.005919450728025699), (2919, 0.0), (2920, 0.0), (2921, 0.00743646153211822), (2922, 0.012173622812398041), (2923, 0.0), (2924, 0.0), (2925, 0.0), (2926, 0.0), (2927, 0.0), (2928, 0.022092457442926344), (2929, 0.0), (2930, 0.0), (2931, 0.007394180846281606), (2932, 0.0), (2933, 0.00799013788007587), (2934, 0.011408130675574935), (2935, 0.0), (2936, 0.0), (2937, 0.0), (2938, 0.0), (2939, 0.0), (2940, 0.0), (2941, 0.05321542462361881), (2942, 0.0), (2943, 0.0), (2944, 0.07945605299816166), (2945, 0.0), (2946, 0.0), (2947, 0.0), (2948, 0.0), (2949, 0.0), (2950, 0.0), (2951, 0.0), (2952, 0.0), (2953, 0.0), (2954, 0.0), (2955, 0.05521117405254015), (2956, 0.0), (2957, 0.023576400522246764), (2958, 0.0), (2959, 0.005913938915798908), (2960, 0.01896607005960898), (2961, 0.0), (2962, 0.0), (2963, 0.0), (2964, 0.0), (2965, 0.01888768450261196), (2966, 0.0), (2967, 0.011197313149362998), (2968, 0.0), (2969, 0.0), (2970, 0.0), (2971, 0.0), (2972, 0.007390181290323872), (2973, 0.0), (2974, 0.018218408251490303), (2975, 0.0), (2976, 0.0), (2977, 0.0), (2978, 0.005804223274899288), (2979, 0.07715840736876811), (2980, 0.09788661556339709), (2981, 0.0), (2982, 0.0), (2983, 0.0), (2984, 0.0), (2985, 0.0), (2986, 0.005026869032893159), (2987, 0.0), (2988, 0.0), (2989, 0.04351539273477083), (2990, 0.0), (2991, 0.0), (2992, 0.0), (2993, 0.0), (2994, 0.0), (2995, 0.005803573224957756), (2996, 0.017365908534735058), (2997, 0.012906820196282733), (2998, 0.03450367501035014), (2999, 0.0), (3000, 0.0), (3001, 0.005489013067193498), (3002, 0.0), (3003, 0.0), (3004, 0.012782182170278964), (3005, 0.0), (3006, 0.008206259944979043), (3007, 0.0223511701223901), (3008, 0.004894921272140115), (3009, 0.0), (3010, 0.0), (3011, 0.0), (3012, 0.01660408272088585), (3013, 0.011734947472451403), (3014, 0.05407514610943332), (3015, 0.011510389688186814), (3016, 0.0), (3017, 0.0), (3018, 0.0), (3019, 0.0), (3020, 0.03526641366065976), (3021, 0.007110068079306347), (3022, 0.0), (3023, 0.0), (3024, 0.0), (3025, 0.0), (3026, 0.0), (3027, 0.0), (3028, 0.0), (3029, 0.0706074185150623), (3030, 0.005597388566617028), (3031, 0.0), (3032, 0.027990416221138847), (3033, 0.01958628341906332), (3034, 0.022514771278513358), (3035, 0.005477532532970792), (3036, 0.0), (3037, 0.01712194700150979), (3038, 0.0), (3039, 0.0), (3040, 0.006101450718862524), (3041, 0.0), (3042, 0.0), (3043, 0.0), (3044, 0.08141486092867645), (3045, 0.0), (3046, 0.1073619551606068), (3047, 0.0), (3048, 0.07780583369463082), (3049, 0.0), (3050, 0.0), (3051, 0.006988413479619319), (3052, 0.0), (3053, 0.0), (3054, 0.03304479091825391), (3055, 0.0), (3056, 0.0), (3057, 0.0), (3058, 0.07515437917931699), (3059, 0.0), (3060, 0.0), (3061, 0.0), (3062, 0.006124642493199308), (3063, 0.0), (3064, 0.05496100598196831), (3065, 0.030503242807098648), (3066, 0.0), (3067, 0.015219318470100352), (3068, 0.0), (3069, 0.0), (3070, 0.0), (3071, 0.0), (3072, 0.0), (3073, 0.08104507308633825), (3074, 0.0057054668857307225), (3075, 0.0), (3076, 0.0), (3077, 0.09941027220411065), (3078, 0.0), (3079, 0.0), (3080, 0.0), (3081, 0.01950986014215944), (3082, 0.0), (3083, 0.0), (3084, 0.0), (3085, 0.0), (3086, 0.03884909637474115), (3087, 0.008641941817375045), (3088, 0.0), (3089, 0.006143040530502359), (3090, 0.0), (3091, 0.0), (3092, 0.0), (3093, 0.0), (3094, 0.0), (3095, 0.0), (3096, 0.0), (3097, 0.0), (3098, 0.02715388148126212), (3099, 0.0048317027606231185), (3100, 0.0), (3101, 0.0), (3102, 0.0), (3103, 0.0), (3104, 0.0), (3105, 0.0), (3106, 0.04448113479642966), (3107, 0.0), (3108, 0.0), (3109, 0.0), (3110, 0.01465272035087825), (3111, 0.0), (3112, 0.0), (3113, 0.0), (3114, 0.0), (3115, 0.0), (3116, 0.0), (3117, 0.0), (3118, 0.0), (3119, 0.0), (3120, 0.0), (3121, 0.0), (3122, 0.0), (3123, 0.0), (3124, 0.056592762181902664), (3125, 0.0), (3126, 0.034269114643904905), (3127, 0.0), (3128, 0.006504067748275371), (3129, 0.0), (3130, 0.08509890693498902), (3131, 0.0), (3132, 0.0), (3133, 0.00514089012537403), (3134, 0.0), (3135, 0.0), (3136, 0.00525841752680038), (3137, 0.0), (3138, 0.00536098662591144), (3139, 0.0), (3140, 0.0), (3141, 0.0), (3142, 0.005982796487751027), (3143, 0.004973784948840067), (3144, 0.006499372248287258), (3145, 0.0), (3146, 0.026069361274392164), (3147, 0.0), (3148, 0.005497519494819569), (3149, 0.0), (3150, 0.0), (3151, 0.02558045471244364), (3152, 0.0), (3153, 0.018806783642466532), (3154, 0.006591405212816095), (3155, 0.09442825684514936), (3156, 0.0), (3157, 0.0), (3158, 0.005454174517166976), (3159, 0.0), (3160, 0.0), (3161, 0.0), (3162, 0.004982617120973855), (3163, 0.0), (3164, 0.0), (3165, 0.0059532779045088245), (3166, 0.0), (3167, 0.0), (3168, 0.0), (3169, 0.0110243618250628), (3170, 0.0), (3171, 0.0), (3172, 0.025196994522899554), (3173, 0.0), (3174, 0.0), (3175, 0.0), (3176, 0.020802976170138397), (3177, 0.08003166674436459), (3178, 0.0), (3179, 0.0), (3180, 0.019837351678962424), (3181, 0.0), (3182, 0.0), (3183, 0.013111665824001455), (3184, 0.005890064895495079), (3185, 0.0), (3186, 0.0), (3187, 0.0), (3188, 0.08724209524007745), (3189, 0.0), (3190, 0.0), (3191, 0.0), (3192, 0.0), (3193, 0.0), (3194, 0.016775349828448756), (3195, 0.0), (3196, 0.0), (3197, 0.0), (3198, 0.01186549495015594), (3199, 0.0), (3200, 0.0), (3201, 0.0), (3202, 0.0), (3203, 0.0), (3204, 0.0), (3205, 0.0), (3206, 0.0), (3207, 0.0), (3208, 0.032054984075022164), (3209, 0.005070164226939554), (3210, 0.0), (3211, 0.0), (3212, 0.0), (3213, 0.0), (3214, 0.010810131713065742), (3215, 0.0), (3216, 0.0), (3217, 0.0), (3218, 0.0), (3219, 0.0), (3220, 0.0), (3221, 0.005441726669107778), (3222, 0.0), (3223, 0.0), (3224, 0.0077094652363617205), (3225, 0.0), (3226, 0.0), (3227, 0.0), (3228, 0.0), (3229, 0.0), (3230, 0.0), (3231, 0.004898458414774097), (3232, 0.0), (3233, 0.01273960938204135), (3234, 0.0), (3235, 0.0), (3236, 0.0), (3237, 0.012333903996945025), (3238, 0.0), (3239, 0.015325342165707375), (3240, 0.0), (3241, 0.0), (3242, 0.0), (3243, 0.0), (3244, 0.0), (3245, 0.0), (3246, 0.0), (3247, 0.0), (3248, 0.0), (3249, 0.0), (3250, 0.029622619259378907), (3251, 0.015235334247572008), (3252, 0.02984626125259597), (3253, 0.0), (3254, 0.0), (3255, 0.0), (3256, 0.0), (3257, 0.07321089150380151), (3258, 0.0), (3259, 0.005320524548003567), (3260, 0.006073083970869277), (3261, 0.013824200003841177), (3262, 0.07423421755293401), (3263, 0.0), (3264, 0.0), (3265, 0.07442635951885719), (3266, 0.0), (3267, 0.0), (3268, 0.0), (3269, 0.0), (3270, 0.012315779877929237), (3271, 0.0), (3272, 0.0), (3273, 0.0), (3274, 0.0051339679363139185), (3275, 0.0), (3276, 0.019374441334415307), (3277, 0.010612147531757729), (3278, 0.0), (3279, 0.012786218391071134), (3280, 0.0), (3281, 0.011113522593201777), (3282, 0.0), (3283, 0.0), (3284, 0.007367965755275249), (3285, 0.0), (3286, 0.022586872878893625), (3287, 0.0), (3288, 0.0), (3289, 0.0), (3290, 0.006039832124799791), (3291, 0.0), (3292, 0.0), (3293, 0.018337692772457635), (3294, 0.0), (3295, 0.0), (3296, 0.0), (3297, 0.006315770661567952), (3298, 0.0), (3299, 0.021702876704894878), (3300, 0.0), (3301, 0.0), (3302, 0.055569536222729615), (3303, 0.0), (3304, 0.0236651799841778), (3305, 0.005587098722056893), (3306, 0.0068698330916459145), (3307, 0.0), (3308, 0.0), (3309, 0.005542084746170814), (3310, 0.0), (3311, 0.021291448548066277), (3312, 0.0), (3313, 0.018968237620347383), (3314, 0.0), (3315, 0.0), (3316, 0.006277838751300602), (3317, 0.0), (3318, 0.00616286672870888), (3319, 0.02367305311800304), (3320, 0.0), (3321, 0.0), (3322, 0.03253877185428736), (3323, 0.0), (3324, 0.0), (3325, 0.0), (3326, 0.006500433907142212), (3327, 0.0), (3328, 0.0), (3329, 0.013614618736972965), (3330, 0.0), (3331, 0.0), (3332, 0.0066517331516286965), (3333, 0.0), (3334, 0.0), (3335, 0.006408096117920335), (3336, 0.006074152349436826), (3337, 0.03441265875056559), (3338, 0.0), (3339, 0.0), (3340, 0.07855057109188741), (3341, 0.0), (3342, 0.02096031605953272), (3343, 0.0306144211747527), (3344, 0.0), (3345, 0.03178969869747265), (3346, 0.0), (3347, 0.0), (3348, 0.0), (3349, 0.005806222107360646), (3350, 0.0053604605531929325), (3351, 0.017002024828623494), (3352, 0.0064966277806379254), (3353, 0.0), (3354, 0.015599502610009247), (3355, 0.023630300872577063), (3356, 0.0), (3357, 0.0), (3358, 0.016408000605042734), (3359, 0.00842113116122154), (3360, 0.0), (3361, 0.006596476898272388), (3362, 0.0), (3363, 0.0), (3364, 0.012659387739445676), (3365, 0.0), (3366, 0.03862433692660452), (3367, 0.08628058759111962), (3368, 0.0), (3369, 0.0), (3370, 0.005016203174835804), (3371, 0.0), (3372, 0.006020133603070047), (3373, 0.007504045691111101), (3374, 0.0), (3375, 0.0), (3376, 0.0), (3377, 0.03338862735706314), (3378, 0.07838150190806452), (3379, 0.0), (3380, 0.0), (3381, 0.011971854826496113), (3382, 0.005717853815398131), (3383, 0.0), (3384, 0.0), (3385, 0.006389805768965408), (3386, 0.010185358075218701), (3387, 0.0), (3388, 0.0), (3389, 0.0), (3390, 0.05395790200116604), (3391, 0.0), (3392, 0.0), (3393, 0.0), (3394, 0.0), (3395, 0.0), (3396, 0.0), (3397, 0.0), (3398, 0.0), (3399, 0.08435406214760527), (3400, 0.0), (3401, 0.0), (3402, 0.01107718860016802), (3403, 0.0), (3404, 0.0), (3405, 0.02493387163376305), (3406, 0.021242237148779756), (3407, 0.0), (3408, 0.033597668215369664), (3409, 0.0), (3410, 0.0), (3411, 0.0), (3412, 0.0066523079619070285), (3413, 0.0), (3414, 0.0), (3415, 0.0), (3416, 0.005575925157531684), (3417, 0.004778044731462014), (3418, 0.0), (3419, 0.0), (3420, 0.0), (3421, 0.0), (3422, 0.0), (3423, 0.0), (3424, 0.005486804837017947), (3425, 0.0), (3426, 0.0), (3427, 0.010862280154807261), (3428, 0.0), (3429, 0.017187184830092003), (3430, 0.012754332573634617), (3431, 0.0), (3432, 0.0275855428516534), (3433, 0.0), (3434, 0.0), (3435, 0.0), (3436, 0.0), (3437, 0.007821625752862316), (3438, 0.03689631003246842), (3439, 0.020122741002450494), (3440, 0.017814160142003294), (3441, 0.0), (3442, 0.01175740230998288), (3443, 0.0), (3444, 0.0), (3445, 0.08340054154227083), (3446, 0.0), (3447, 0.0), (3448, 0.011981242746207864), (3449, 0.0), (3450, 0.062002005787675105), (3451, 0.0), (3452, 0.0), (3453, 0.0), (3454, 0.0), (3455, 0.0), (3456, 0.0), (3457, 0.0), (3458, 0.0), (3459, 0.0), (3460, 0.005168246640022942), (3461, 0.0), (3462, 0.0), (3463, 0.006021804656312839), (3464, 0.0), (3465, 0.0), (3466, 0.020960752548663513), (3467, 0.0), (3468, 0.013671768457525697), (3469, 0.0), (3470, 0.0), (3471, 0.0), (3472, 0.0), (3473, 0.0), (3474, 0.0), (3475, 0.0), (3476, 0.0), (3477, 0.005395050429404965), (3478, 0.0), (3479, 0.09783666689616893), (3480, 0.0), (3481, 0.0), (3482, 0.0), (3483, 0.0), (3484, 0.0), (3485, 0.006553478951417419), (3486, 0.0), (3487, 0.0), (3488, 0.0), (3489, 0.0), (3490, 0.01826596951472038), (3491, 0.024166088912711554), (3492, 0.0), (3493, 0.016063948439021123), (3494, 0.01776426956151087), (3495, 0.022232931942833458), (3496, 0.0), (3497, 0.0), (3498, 0.0), (3499, 0.0), (3500, 0.02761423294349984), (3501, 0.0), (3502, 0.0), (3503, 0.0), (3504, 0.0), (3505, 0.00580685114491764), (3506, 0.0), (3507, 0.0), (3508, 0.0), (3509, 0.007467085340736048), (3510, 0.0), (3511, 0.011490335828120242), (3512, 0.0), (3513, 0.0), (3514, 0.0), (3515, 0.0), (3516, 0.005731197786427558), (3517, 0.0), (3518, 0.005423268172062617), (3519, 0.0), (3520, 0.0), (3521, 0.01640905805139323), (3522, 0.006335124249739519), (3523, 0.006145911213083763), (3524, 0.0), (3525, 0.0), (3526, 0.0), (3527, 0.0), (3528, 0.0), (3529, 0.0), (3530, 0.0), (3531, 0.0), (3532, 0.0), (3533, 0.0), (3534, 0.0), (3535, 0.0), (3536, 0.0), (3537, 0.013206270321418894), (3538, 0.0), (3539, 0.012669565587311608), (3540, 0.0), (3541, 0.0), (3542, 0.0), (3543, 0.0), (3544, 0.0), (3545, 0.0062131967163155145), (3546, 0.0), (3547, 0.0), (3548, 0.02763397656709146), (3549, 0.0), (3550, 0.0), (3551, 0.0), (3552, 0.021461168961402276), (3553, 0.0044910959150547426), (3554, 0.013740421513214661), (3555, 0.0), (3556, 0.01962110155871901), (3557, 0.0), (3558, 0.0), (3559, 0.0), (3560, 0.0), (3561, 0.0), (3562, 0.0), (3563, 0.0), (3564, 0.0), (3565, 0.0), (3566, 0.02016097979612116), (3567, 0.0), (3568, 0.012193882076779478), (3569, 0.0), (3570, 0.0), (3571, 0.0), (3572, 0.0), (3573, 0.0), (3574, 0.011822930886837335), (3575, 0.12780328287797138), (3576, 0.0166311822579129), (3577, 0.039217788107168805), (3578, 0.0), (3579, 0.005411009635905384), (3580, 0.0), (3581, 0.0), (3582, 0.0), (3583, 0.0), (3584, 0.0168286818965078), (3585, 0.0), (3586, 0.0), (3587, 0.0), (3588, 0.0), (3589, 0.0), (3590, 0.0), (3591, 0.00584057892850898), (3592, 0.0), (3593, 0.0), (3594, 0.04286387911511415), (3595, 0.0), (3596, 0.0), (3597, 0.0), (3598, 0.021979225779933147), (3599, 0.0), (3600, 0.0), (3601, 0.0), (3602, 0.0), (3603, 0.005129281839950701), (3604, 0.0), (3605, 0.0), (3606, 0.006122338736450842), (3607, 0.044273909921981394), (3608, 0.0), (3609, 0.0), (3610, 0.0), (3611, 0.0), (3612, 0.0), (3613, 0.033258215823426376), (3614, 0.0445973794695), (3615, 0.0), (3616, 0.006496344525449419), (3617, 0.005488466102786645), (3618, 0.048567156328887036), (3619, 0.0), (3620, 0.017220643865990863), (3621, 0.0), (3622, 0.019498728029259272), (3623, 0.006764028960429145), (3624, 0.021076868737113574), (3625, 0.0), (3626, 0.017727889767556498), (3627, 0.0), (3628, 0.0), (3629, 0.0), (3630, 0.0), (3631, 0.011353677005990041), (3632, 0.0), (3633, 0.0), (3634, 0.0), (3635, 0.0), (3636, 0.07780893796214758), (3637, 0.0), (3638, 0.02418966415260775), (3639, 0.0), (3640, 0.0), (3641, 0.0), (3642, 0.012178467798492038), (3643, 0.0), (3644, 0.0), (3645, 0.0), (3646, 0.0), (3647, 0.018254389715025073), (3648, 0.0), (3649, 0.0), (3650, 0.0066459350108883045), (3651, 0.0), (3652, 0.0), (3653, 0.0), (3654, 0.0), (3655, 0.015886245556808055), (3656, 0.0), (3657, 0.0), (3658, 0.012174408118963132), (3659, 0.013100386438384671), (3660, 0.0), (3661, 0.0), (3662, 0.0), (3663, 0.0), (3664, 0.012923466610641872), (3665, 0.0), (3666, 0.0), (3667, 0.018503444986094335), (3668, 0.0415207539126591), (3669, 0.023397332888271154), (3670, 0.0), (3671, 0.012505323188973868), (3672, 0.006011875053675848), (3673, 0.0), (3674, 0.0), (3675, 0.0), (3676, 0.0), (3677, 0.0), (3678, 0.0), (3679, 0.0), (3680, 0.0), (3681, 0.0), (3682, 0.0), (3683, 0.0), (3684, 0.03346648127100088), (3685, 0.0), (3686, 0.0), (3687, 0.0), (3688, 0.021917481559838567), (3689, 0.0061219302065426634), (3690, 0.0), (3691, 0.0), (3692, 0.0), (3693, 0.0), (3694, 0.0), (3695, 0.030096488379853365), (3696, 0.01166778889974407), (3697, 0.0), (3698, 0.06085580173260972), (3699, 0.0), (3700, 0.0), (3701, 0.0), (3702, 0.0), (3703, 0.0), (3704, 0.07799433821218886), (3705, 0.0), (3706, 0.011861343706886766), (3707, 0.005928769372042006), (3708, 0.0), (3709, 0.0), (3710, 0.0), (3711, 0.0), (3712, 0.0), (3713, 0.0), (3714, 0.008211143689844422), (3715, 0.02639334138314567), (3716, 0.0), (3717, 0.0), (3718, 0.0), (3719, 0.0), (3720, 0.0), (3721, 0.0), (3722, 0.0054296642014023625), (3723, 0.0), (3724, 0.0063292168114455994), (3725, 0.006212574715114489), (3726, 0.013627290196672862), (3727, 0.0), (3728, 0.08337841274950533), (3729, 0.0), (3730, 0.0), (3731, 0.0), (3732, 0.0), (3733, 0.015518274849834778), (3734, 0.0), (3735, 0.0), (3736, 0.0), (3737, 0.02124056908706506), (3738, 0.0), (3739, 0.0), (3740, 0.006024611153459819), (3741, 0.01999892865525326), (3742, 0.0), (3743, 0.0), (3744, 0.02734389654173374), (3745, 0.0), (3746, 0.0), (3747, 0.0), (3748, 0.0), (3749, 0.006209279522580406), (3750, 0.023008135895315363), (3751, 0.0), (3752, 0.02122822190909105), (3753, 0.0), (3754, 0.0), (3755, 0.02201475067918062), (3756, 0.007124056676066396), (3757, 0.033546857041437526), (3758, 0.005540580055916885), (3759, 0.0), (3760, 0.014075825415137758), (3761, 0.0), (3762, 0.0), (3763, 0.01242352416488902), (3764, 0.004846316877680604), (3765, 0.021806691224491814), (3766, 0.0), (3767, 0.012659988335911575), (3768, 0.0), (3769, 0.0), (3770, 0.0), (3771, 0.0), (3772, 0.0), (3773, 0.0), (3774, 0.006717052685925814), (3775, 0.02136511976896441), (3776, 0.0), (3777, 0.013176754129220172), (3778, 0.0), (3779, 0.0), (3780, 0.0), (3781, 0.0), (3782, 0.009193513730949062), (3783, 0.0), (3784, 0.0), (3785, 0.0), (3786, 0.0), (3787, 0.0), (3788, 0.0), (3789, 0.0), (3790, 0.0), (3791, 0.05118759365972275), (3792, 0.05899201632767216), (3793, 0.0), (3794, 0.0), (3795, 0.006669108627118767), (3796, 0.0), (3797, 0.0), (3798, 0.028271601796472923), (3799, 0.006308507867132466), (3800, 0.013547053680464926), (3801, 0.0), (3802, 0.019425277047270793), (3803, 0.0), (3804, 0.023398862203175413), (3805, 0.0), (3806, 0.022252522413057446), (3807, 0.0), (3808, 0.0), (3809, 0.0), (3810, 0.0), (3811, 0.0), (3812, 0.0), (3813, 0.02200824141953045), (3814, 0.0), (3815, 0.03746204341956977), (3816, 0.006261476641107967), (3817, 0.0), (3818, 0.0), (3819, 0.006541736272518616), (3820, 0.0741592348345098), (3821, 0.0), (3822, 0.012031972138902239), (3823, 0.0), (3824, 0.0), (3825, 0.0), (3826, 0.006395489050214718), (3827, 0.0), (3828, 0.006230436182923121), (3829, 0.0), (3830, 0.029798075568198884), (3831, 0.0), (3832, 0.0), (3833, 0.005775531370174633), (3834, 0.0), (3835, 0.0), (3836, 0.007115188225133062), (3837, 0.0), (3838, 0.0), (3839, 0.0), (3840, 0.0), (3841, 0.07492158202778189), (3842, 0.006282752991144883), (3843, 0.0), (3844, 0.0), (3845, 0.01060814844086733), (3846, 0.06130368074518491), (3847, 0.0), (3848, 0.024737619682639222), (3849, 0.006220489352543187), (3850, 0.0), (3851, 0.00523110038310612), (3852, 0.015866215358053694), (3853, 0.0), (3854, 0.022309350936412564), (3855, 0.0), (3856, 0.01813742894817636), (3857, 0.023081992433778474), (3858, 0.0370162861166154), (3859, 0.0), (3860, 0.0), (3861, 0.0), (3862, 0.0), (3863, 0.0), (3864, 0.02047654788367024), (3865, 0.0691297382984034), (3866, 0.0), (3867, 0.0), (3868, 0.0), (3869, 0.05110718654142047), (3870, 0.0), (3871, 0.0), (3872, 0.0), (3873, 0.006186329492772276), (3874, 0.0), (3875, 0.0), (3876, 0.0), (3877, 0.0), (3878, 0.01924834812136996), (3879, 0.0), (3880, 0.0), (3881, 0.06616653020014561), (3882, 0.006598038139336335), (3883, 0.0), (3884, 0.00496707944652126), (3885, 0.0), (3886, 0.023853665620001383), (3887, 0.0), (3888, 0.0), (3889, 0.0), (3890, 0.0), (3891, 0.0), (3892, 0.0), (3893, 0.019932143527315902), (3894, 0.013547318033157986), (3895, 0.01063945169589387), (3896, 0.01212460909855382), (3897, 0.0), (3898, 0.0), (3899, 0.009097878871676261), (3900, 0.0), (3901, 0.017137599640970877), (3902, 0.0), (3903, 0.01224697200802572), (3904, 0.0), (3905, 0.0), (3906, 0.0), (3907, 0.0112174536646884), (3908, 0.0), (3909, 0.0), (3910, 0.0), (3911, 0.0), (3912, 0.0074310274047082615), (3913, 0.0), (3914, 0.0), (3915, 0.0), (3916, 0.0), (3917, 0.0), (3918, 0.0), (3919, 0.012418705219558327), (3920, 0.01734750475921905), (3921, 0.0), (3922, 0.0), (3923, 0.0), (3924, 0.0), (3925, 0.02715645296174675), (3926, 0.0), (3927, 0.0), (3928, 0.011653787798234424), (3929, 0.013809072171789573), (3930, 0.0), (3931, 0.021923682903848128), (3932, 0.0), (3933, 0.0), (3934, 0.0), (3935, 0.0803222608398023), (3936, 0.018962056062347504), (3937, 0.030402585916704257), (3938, 0.0), (3939, 0.0), (3940, 0.04824332446839847), (3941, 0.0539093115846902), (3942, 0.005803474840273313), (3943, 0.007179169739229768), (3944, 0.0), (3945, 0.020870210372798965), (3946, 0.0), (3947, 0.0), (3948, 0.0), (3949, 0.07763362981800426), (3950, 0.0), (3951, 0.0), (3952, 0.0), (3953, 0.0), (3954, 0.0), (3955, 0.020190650763751105), (3956, 0.0), (3957, 0.0), (3958, 0.0), (3959, 0.0), (3960, 0.0), (3961, 0.0), (3962, 0.006052289863128634), (3963, 0.0), (3964, 0.0), (3965, 0.0058684763503179735), (3966, 0.0053796245873598955), (3967, 0.0), (3968, 0.0), (3969, 0.015047088694339628), (3970, 0.0), (3971, 0.0), (3972, 0.006858381000553068), (3973, 0.0), (3974, 0.0), (3975, 0.0), (3976, 0.026912090565252015), (3977, 0.0), (3978, 0.0), (3979, 0.0), (3980, 0.0), (3981, 0.0), (3982, 0.018672160748054997), (3983, 0.0), (3984, 0.0), (3985, 0.0), (3986, 0.010691622333159744), (3987, 0.0), (3988, 0.007217538783100803), (3989, 0.0), (3990, 0.0), (3991, 0.0), (3992, 0.0), (3993, 0.006411517151306079), (3994, 0.0), (3995, 0.0), (3996, 0.012762218535797273), (3997, 0.0), (3998, 0.0), (3999, 0.0), (4000, 0.06973290436246503), (4001, 0.0), (4002, 0.0), (4003, 0.0), (4004, 0.00658420623302679), (4005, 0.0), (4006, 0.0), (4007, 0.0), (4008, 0.0), (4009, 0.0), (4010, 0.017079917506906413), (4011, 0.0), (4012, 0.006011781014791915), (4013, 0.005243959457006674), (4014, 0.0), (4015, 0.013528679895995955), (4016, 0.020938042345502606), (4017, 0.0), (4018, 0.0), (4019, 0.0), (4020, 0.0), (4021, 0.0), (4022, 0.012433345435374802), (4023, 0.06266374247934468), (4024, 0.029806660196633236), (4025, 0.0), (4026, 0.0), (4027, 0.0), (4028, 0.0), (4029, 0.0), (4030, 0.012583611327818402), (4031, 0.0), (4032, 0.0), (4033, 0.020203981679861482), (4034, 0.0), (4035, 0.0), (4036, 0.0), (4037, 0.0), (4038, 0.0), (4039, 0.0), (4040, 0.0), (4041, 0.0), (4042, 0.005986590273602734), (4043, 0.0), (4044, 0.0), (4045, 0.0), (4046, 0.0), (4047, 0.0), (4048, 0.0), (4049, 0.028140244182307848), (4050, 0.0), (4051, 0.0), (4052, 0.0), (4053, 0.0), (4054, 0.0), (4055, 0.015262035486171019), (4056, 0.0), (4057, 0.0), (4058, 0.0), (4059, 0.01969301090262458), (4060, 0.013486731820897664), (4061, 0.006723742308778078), (4062, 0.0), (4063, 0.0), (4064, 0.0), (4065, 0.0), (4066, 0.0), (4067, 0.0), (4068, 0.0), (4069, 0.027575017122821042), (4070, 0.013460239550223813), (4071, 0.0053226472804450975), (4072, 0.00625985631686932), (4073, 0.0), (4074, 0.0), (4075, 0.0), (4076, 0.013888308262542235), (4077, 0.005684886293843594), (4078, 0.004579870616354671), (4079, 0.0), (4080, 0.0), (4081, 0.0), (4082, 0.0), (4083, 0.0), (4084, 0.0), (4085, 0.0), (4086, 0.0), (4087, 0.010831252545415376), (4088, 0.0), (4089, 0.0), (4090, 0.0), (4091, 0.0), (4092, 0.0), (4093, 0.006532283303667482), (4094, 0.028009293935001595), (4095, 0.0), (4096, 0.0), (4097, 0.0), (4098, 0.03912473312707026), (4099, 0.005815283310966463), (4100, 0.0), (4101, 0.0), (4102, 0.02475799386835541), (4103, 0.0), (4104, 0.0), (4105, 0.0), (4106, 0.02385047814109877), (4107, 0.0), (4108, 0.0), (4109, 0.0), (4110, 0.0), (4111, 0.006967814317622985), (4112, 0.0), (4113, 0.020989601038392616), (4114, 0.0056036953455412646), (4115, 0.0), (4116, 0.0), (4117, 0.0063765087376067104), (4118, 0.0), (4119, 0.020962733894421496), (4120, 0.0), (4121, 0.0), (4122, 0.0), (4123, 0.0), (4124, 0.033599922344199666), (4125, 0.015530582726642941), (4126, 0.0), (4127, 0.0), (4128, 0.014058751015738906), (4129, 0.00687722572456991), (4130, 0.0), (4131, 0.0), (4132, 0.012136985109186508), (4133, 0.0), (4134, 0.01082031874363664), (4135, 0.0055707236400123015), (4136, 0.02717487488104615), (4137, 0.0), (4138, 0.0), (4139, 0.0), (4140, 0.0), (4141, 0.0), (4142, 0.0), (4143, 0.006739784916438419), (4144, 0.0), (4145, 0.0), (4146, 0.01993852981767255), (4147, 0.016255404318586433), (4148, 0.0), (4149, 0.011374690179535692), (4150, 0.0), (4151, 0.0), (4152, 0.04728342599985526), (4153, 0.0), (4154, 0.0), (4155, 0.018138231059271512), (4156, 0.0), (4157, 0.0), (4158, 0.011899831035792861), (4159, 0.0), (4160, 0.03363214767418169), (4161, 0.0078009326261386834), (4162, 0.0), (4163, 0.0), (4164, 0.0), (4165, 0.0), (4166, 0.0), (4167, 0.010271274805619955), (4168, 0.0), (4169, 0.0), (4170, 0.0), (4171, 0.02193566839784105), (4172, 0.01959003744570974), (4173, 0.0), (4174, 0.0), (4175, 0.02074581604345735), (4176, 0.004587003767780768), (4177, 0.0), (4178, 0.0), (4179, 0.0), (4180, 0.0), (4181, 0.021227761237983464), (4182, 0.0), (4183, 0.0), (4184, 0.0), (4185, 0.0), (4186, 0.0), (4187, 0.006690569895170392), (4188, 0.0), (4189, 0.005138087413238686), (4190, 0.012040716524487675), (4191, 0.0), (4192, 0.0), (4193, 0.005154092948045264), (4194, 0.0), (4195, 0.0), (4196, 0.0), (4197, 0.0), (4198, 0.0), (4199, 0.02845714812238265), (4200, 0.012632471847092515), (4201, 0.059843723179234136), (4202, 0.0), (4203, 0.013936151586729733), (4204, 0.0), (4205, 0.0), (4206, 0.0), (4207, 0.0), (4208, 0.0), (4209, 0.0), (4210, 0.0), (4211, 0.0), (4212, 0.0), (4213, 0.0), (4214, 0.0), (4215, 0.005010320560337291), (4216, 0.011295953251560126), (4217, 0.0), (4218, 0.0), (4219, 0.017200720258231602), (4220, 0.005140705963788489), (4221, 0.0), (4222, 0.0), (4223, 0.0), (4224, 0.012641852588478846), (4225, 0.0), (4226, 0.0), (4227, 0.0), (4228, 0.0), (4229, 0.0), (4230, 0.006209074136196495), (4231, 0.0), (4232, 0.025073893986792845), (4233, 0.023805938187809572), (4234, 0.0), (4235, 0.0), (4236, 0.0), (4237, 0.0), (4238, 0.04666092142995718), (4239, 0.0), (4240, 0.0489006777397626), (4241, 0.0), (4242, 0.0), (4243, 0.0), (4244, 0.0), (4245, 0.0), (4246, 0.012778222488982286), (4247, 0.0), (4248, 0.0), (4249, 0.0), (4250, 0.0), (4251, 0.014158267484501772), (4252, 0.0), (4253, 0.0), (4254, 0.0), (4255, 0.0), (4256, 0.007986490592849393), (4257, 0.0), (4258, 0.006918058033569199), (4259, 0.010108750133036283), (4260, 0.0), (4261, 0.008930007593009638), (4262, 0.0), (4263, 0.011000068055039244), (4264, 0.012440029084843183), (4265, 0.0), (4266, 0.01562438094134185), (4267, 0.0), (4268, 0.0), (4269, 0.041662236762762074), (4270, 0.0), (4271, 0.0), (4272, 0.0), (4273, 0.0), (4274, 0.0), (4275, 0.005558995900732683), (4276, 0.0), (4277, 0.00835702874941997), (4278, 0.0), (4279, 0.0), (4280, 0.0), (4281, 0.0), (4282, 0.040344396014417895), (4283, 0.0), (4284, 0.0), (4285, 0.0), (4286, 0.0), (4287, 0.0), (4288, 0.06241073381387613), (4289, 0.0), (4290, 0.013215628059022865), (4291, 0.012477458817967984), (4292, 0.0), (4293, 0.0), (4294, 0.03907982923829005), (4295, 0.0), (4296, 0.0), (4297, 0.0), (4298, 0.0201240471094923), (4299, 0.01468087752903977), (4300, 0.0), (4301, 0.01425303285388866), (4302, 0.0), (4303, 0.0), (4304, 0.0), (4305, 0.0), (4306, 0.0), (4307, 0.020051301809990298), (4308, 0.0), (4309, 0.0), (4310, 0.0), (4311, 0.0), (4312, 0.004229850151354309), (4313, 0.0), (4314, 0.0), (4315, 0.006207741254812154), (4316, 0.005369668603283287), (4317, 0.0), (4318, 0.0), (4319, 0.0), (4320, 0.0), (4321, 0.0), (4322, 0.0), (4323, 0.0), (4324, 0.0), (4325, 0.009751384284166232), (4326, 0.04030080439927908), (4327, 0.005540170064379542), (4328, 0.0), (4329, 0.0), (4330, 0.0), (4331, 0.03731177712095335), (4332, 0.037308450319815736), (4333, 0.0), (4334, 0.0), (4335, 0.0), (4336, 0.0), (4337, 0.0), (4338, 0.0), (4339, 0.0057673947061482505), (4340, 0.021339376652585892), (4341, 0.0), (4342, 0.0), (4343, 0.0), (4344, 0.005072558695166985), (4345, 0.0), (4346, 0.0), (4347, 0.0), (4348, 0.0), (4349, 0.0060835761879759025), (4350, 0.0), (4351, 0.07215215981900475), (4352, 0.0), (4353, 0.0053489520345573385), (4354, 0.0), (4355, 0.0), (4356, 0.0), (4357, 0.0), (4358, 0.0), (4359, 0.0), (4360, 0.0), (4361, 0.0), (4362, 0.0), (4363, 0.0), (4364, 0.010292707312485706), (4365, 0.0), (4366, 0.0), (4367, 0.0), (4368, 0.011829662276637624), (4369, 0.0), (4370, 0.0), (4371, 0.020130182787162335), (4372, 0.0), (4373, 0.0), (4374, 0.0), (4375, 0.02325804046443854), (4376, 0.049556290157958066), (4377, 0.0), (4378, 0.010214983056159579), (4379, 0.0), (4380, 0.01269096887687756), (4381, 0.0), (4382, 0.0), (4383, 0.0), (4384, 0.0), (4385, 0.0), (4386, 0.0), (4387, 0.0), (4388, 0.006760852847214514), (4389, 0.0), (4390, 0.0), (4391, 0.0), (4392, 0.021611806190142118), (4393, 0.0), (4394, 0.009732552721069715), (4395, 0.023774086502504635), (4396, 0.0), (4397, 0.0), (4398, 0.0), (4399, 0.014628222230443935), (4400, 0.0), (4401, 0.03341830538671121), (4402, 0.005769807399332322), (4403, 0.0), (4404, 0.0), (4405, 0.0), (4406, 0.0), (4407, 0.012301020996984463), (4408, 0.007577974259624815), (4409, 0.0), (4410, 0.0), (4411, 0.0), (4412, 0.0), (4413, 0.017105771484529894), (4414, 0.0), (4415, 0.0), (4416, 0.0), (4417, 0.0), (4418, 0.0), (4419, 0.0), (4420, 0.0), (4421, 0.0), (4422, 0.0), (4423, 0.0), (4424, 0.0), (4425, 0.0069643093282695506), (4426, 0.0), (4427, 0.09028387255455414), (4428, 0.0), (4429, 0.05768925248783584), (4430, 0.0), (4431, 0.0), (4432, 0.0), (4433, 0.0), (4434, 0.0), (4435, 0.0), (4436, 0.0), (4437, 0.0), (4438, 0.0), (4439, 0.0), (4440, 0.023100691908592392), (4441, 0.12411984919382965), (4442, 0.0), (4443, 0.018931987198261287), (4444, 0.0), (4445, 0.0), (4446, 0.0), (4447, 0.0), (4448, 0.0), (4449, 0.025822636146054484), (4450, 0.007541702009233911), (4451, 0.0), (4452, 0.0), (4453, 0.037437611808676), (4454, 0.0), (4455, 0.0), (4456, 0.0), (4457, 0.02168116485469088), (4458, 0.0), (4459, 0.0), (4460, 0.006555275337027441), (4461, 0.0), (4462, 0.0), (4463, 0.0554196606840099), (4464, 0.0), (4465, 0.006076421081087875), (4466, 0.0), (4467, 0.0), (4468, 0.0), (4469, 0.0), (4470, 0.0), (4471, 0.0), (4472, 0.0), (4473, 0.0), (4474, 0.0), (4475, 0.0), (4476, 0.0), (4477, 0.0), (4478, 0.0), (4479, 0.0), (4480, 0.03036459055821821), (4481, 0.0), (4482, 0.010554865999915865), (4483, 0.0), (4484, 0.0), (4485, 0.0), (4486, 0.015840732233578184), (4487, 0.018578906018773753), (4488, 0.0), (4489, 0.052745538254524674), (4490, 0.0), (4491, 0.0), (4492, 0.0), (4493, 0.0), (4494, 0.0), (4495, 0.0), (4496, 0.0), (4497, 0.0), (4498, 0.0), (4499, 0.008364821568262477), (4500, 0.0), (4501, 0.015283441945481408), (4502, 0.0), (4503, 0.0), (4504, 0.0), (4505, 0.0), (4506, 0.0), (4507, 0.00497829686606478), (4508, 0.0), (4509, 0.013115005084519536), (4510, 0.0), (4511, 0.0), (4512, 0.0), (4513, 0.0), (4514, 0.0), (4515, 0.0), (4516, 0.0), (4517, 0.0), (4518, 0.0), (4519, 0.0), (4520, 0.0), (4521, 0.0), (4522, 0.0), (4523, 0.0), (4524, 0.0), (4525, 0.0), (4526, 0.0), (4527, 0.0), (4528, 0.0), (4529, 0.0), (4530, 0.0), (4531, 0.0), (4532, 0.0), (4533, 0.0), (4534, 0.0), (4535, 0.004745971673084174), (4536, 0.0), (4537, 0.0), (4538, 0.024274503449483262), (4539, 0.0121017783692725), (4540, 0.0), (4541, 0.0), (4542, 0.0), (4543, 0.0), (4544, 0.0), (4545, 0.0), (4546, 0.006491811877265738), (4547, 0.0), (4548, 0.0), (4549, 0.006254786861622317), (4550, 0.0), (4551, 0.0), (4552, 0.0), (4553, 0.0), (4554, 0.006870787028302776), (4555, 0.0), (4556, 0.0), (4557, 0.007059907979413177), (4558, 0.0), (4559, 0.0), (4560, 0.0), (4561, 0.0), (4562, 0.0), (4563, 0.004949710706380878), (4564, 0.0), (4565, 0.019030838498292537), (4566, 0.0), (4567, 0.0), (4568, 0.0), (4569, 0.0), (4570, 0.0), (4571, 0.0), (4572, 0.0), (4573, 0.020363104234758428), (4574, 0.0), (4575, 0.0), (4576, 0.017474100791782982), (4577, 0.0), (4578, 0.0), (4579, 0.00936119568374941), (4580, 0.0), (4581, 0.0), (4582, 0.0), (4583, 0.006516971739907421), (4584, 0.0), (4585, 0.0), (4586, 0.0), (4587, 0.0), (4588, 0.0), (4589, 0.0), (4590, 0.0), (4591, 0.0), (4592, 0.020581304176603022), (4593, 0.011894071213774364), (4594, 0.0), (4595, 0.06276409428519167), (4596, 0.0), (4597, 0.0), (4598, 0.0), (4599, 0.046266263443916336), (4600, 0.0), (4601, 0.0), (4602, 0.0), (4603, 0.0), (4604, 0.035669209332386057), (4605, 0.0), (4606, 0.0), (4607, 0.0), (4608, 0.011053857568168325), (4609, 0.0), (4610, 0.06202363701376113), (4611, 0.0), (4612, 0.0), (4613, 0.0), (4614, 0.0), (4615, 0.0), (4616, 0.0), (4617, 0.0), (4618, 0.0), (4619, 0.0), (4620, 0.006644298353460785), (4621, 0.006324523868980854), (4622, 0.0), (4623, 0.006155114546680806), (4624, 0.0), (4625, 0.0), (4626, 0.014826785419828554), (4627, 0.013942029487037788), (4628, 0.0), (4629, 0.0), (4630, 0.04320623190006861), (4631, 0.02087117266139906), (4632, 0.01588245818240156), (4633, 0.0), (4634, 0.0), (4635, 0.0), (4636, 0.0), (4637, 0.0), (4638, 0.013084315622758235), (4639, 0.0), (4640, 0.0), (4641, 0.0), (4642, 0.06731020164180701), (4643, 0.0), (4644, 0.0), (4645, 0.0), (4646, 0.0), (4647, 0.01355603396135848), (4648, 0.0), (4649, 0.021045505269318237), (4650, 0.0), (4651, 0.013279345522174605), (4652, 0.0), (4653, 0.0), (4654, 0.019886927284864762), (4655, 0.0), (4656, 0.0), (4657, 0.0), (4658, 0.0), (4659, 0.0), (4660, 0.0), (4661, 0.0), (4662, 0.0), (4663, 0.0), (4664, 0.02157796792130337), (4665, 0.012269331041784733), (4666, 0.0), (4667, 0.0), (4668, 0.0), (4669, 0.04415530962333072), (4670, 0.0061912217376018895), (4671, 0.0), (4672, 0.04857966992737687), (4673, 0.0), (4674, 0.0), (4675, 0.026940958083182264), (4676, 0.0), (4677, 0.0), (4678, 0.0), (4679, 0.0), (4680, 0.0), (4681, 0.0), (4682, 0.0), (4683, 0.0), (4684, 0.0), (4685, 0.0), (4686, 0.0), (4687, 0.0), (4688, 0.017027761335219802), (4689, 0.0), (4690, 0.0), (4691, 0.014441878149756447), (4692, 0.0), (4693, 0.0), (4694, 0.014875835676182614), (4695, 0.0), (4696, 0.06748873413497519), (4697, 0.0), (4698, 0.0), (4699, 0.0), (4700, 0.0), (4701, 0.00425931492327067), (4702, 0.0), (4703, 0.0), (4704, 0.0), (4705, 0.0), (4706, 0.0), (4707, 0.0), (4708, 0.008237243002097059), (4709, 0.0), (4710, 0.0), (4711, 0.0), (4712, 0.0), (4713, 0.0), (4714, 0.0), (4715, 0.0), (4716, 0.0), (4717, 0.0), (4718, 0.0), (4719, 0.0), (4720, 0.0), (4721, 0.0), (4722, 0.011986315357056097), (4723, 0.0), (4724, 0.012647908523349268), (4725, 0.0), (4726, 0.016729359816893705), (4727, 0.005225860508030179), (4728, 0.026488765385978413), (4729, 0.0), (4730, 0.0), (4731, 0.0), (4732, 0.0), (4733, 0.0), (4734, 0.0070349750798232935), (4735, 0.0), (4736, 0.0), (4737, 0.0), (4738, 0.0), (4739, 0.0), (4740, 0.0), (4741, 0.0), (4742, 0.0), (4743, 0.0), (4744, 0.0), (4745, 0.0), (4746, 0.0), (4747, 0.0), (4748, 0.0), (4749, 0.0), (4750, 0.0), (4751, 0.0), (4752, 0.0), (4753, 0.0), (4754, 0.0), (4755, 0.0), (4756, 0.01272258111650918), (4757, 0.0), (4758, 0.026384373266992417), (4759, 0.0), (4760, 0.024048517490634927), (4761, 0.0), (4762, 0.0), (4763, 0.0), (4764, 0.0), (4765, 0.0), (4766, 0.052588174167998845), (4767, 0.0), (4768, 0.0), (4769, 0.008638463904277267), (4770, 0.0), (4771, 0.014161134964354533), (4772, 0.007161273840584272), (4773, 0.0), (4774, 0.029552556938286186), (4775, 0.0), (4776, 0.0), (4777, 0.0), (4778, 0.005933396717171396), (4779, 0.01709055828137668), (4780, 0.0), (4781, 0.0), (4782, 0.0), (4783, 0.0), (4784, 0.0), (4785, 0.0), (4786, 0.0), (4787, 0.012681633343780089), (4788, 0.0), (4789, 0.0), (4790, 0.0), (4791, 0.0), (4792, 0.0), (4793, 0.0), (4794, 0.0), (4795, 0.0), (4796, 0.0), (4797, 0.0), (4798, 0.019993467513003814), (4799, 0.0), (4800, 0.0), (4801, 0.0), (4802, 0.0)]\n"
     ]
    }
   ],
   "source": [
    "similarity_score = list(enumerate(similarity[index_of_the_movie]))\n",
    "print(similarity_score)"
   ]
  },
  {
   "cell_type": "code",
   "execution_count": 43,
   "id": "1f8727ff",
   "metadata": {},
   "outputs": [
    {
     "data": {
      "text/plain": [
       "4803"
      ]
     },
     "execution_count": 43,
     "metadata": {},
     "output_type": "execute_result"
    }
   ],
   "source": [
    "len(similarity_score)"
   ]
  },
  {
   "cell_type": "markdown",
   "id": "6352c428",
   "metadata": {},
   "source": [
    "#### `Step 6` Sorting the movies based on their similarity score"
   ]
  },
  {
   "cell_type": "code",
   "execution_count": 44,
   "id": "81edeef3",
   "metadata": {},
   "outputs": [
    {
     "name": "stdout",
     "output_type": "stream",
     "text": [
      "[(159, 1.0), (30, 0.3320954109570175), (5, 0.3239584161545456), (1559, 0.17759834475788505), (2361, 0.1699789550645348), (382, 0.16759366797573372), (37, 0.14267687671052326), (328, 0.13010415867208394), (3575, 0.12780328287797138), (1796, 0.12440276495795237), (4441, 0.12411984919382965), (1364, 0.12397812908001118), (1598, 0.12201231344793548), (115, 0.12066541468609222), (1193, 0.12053795265400703), (1793, 0.11985502760945599), (2157, 0.11468347221133328), (677, 0.11241001232351715), (1523, 0.11197004403000335), (2369, 0.10853844869354826), (976, 0.10750093747950802), (3046, 0.1073619551606068), (2529, 0.10646305275367704), (2592, 0.10586452361559527), (2060, 0.1055523177320242), (1435, 0.10553571255958549), (1042, 0.10348569458251965), (978, 0.10068662862114519), (49, 0.09951618050282422), (3077, 0.09941027220411065), (2980, 0.09788661556339709), (3479, 0.09783666689616893), (1427, 0.09638701397911717), (2201, 0.09607827186038762), (2532, 0.09535953056129512), (2763, 0.09533529761377588), (3155, 0.09442825684514936), (1637, 0.09389126036183468), (1191, 0.0926128295439736), (1533, 0.09232078592973585), (764, 0.09164710826497113), (701, 0.09069815368176695), (2375, 0.09053624997968698), (4427, 0.09028387255455414), (1440, 0.0899115223010797), (2084, 0.088585768708717), (912, 0.08846566057698418), (3188, 0.08724209524007745), (2370, 0.08703660338777723), (2588, 0.0870049763921107), (1239, 0.08664435783875403), (3367, 0.08628058759111962), (4, 0.086191334435346), (767, 0.08551897683899617), (868, 0.08519633278405192), (3130, 0.08509890693498902), (3399, 0.08435406214760527), (448, 0.08369265326674061), (3445, 0.08340054154227083), (3728, 0.08337841274950533), (1373, 0.08278367538937367), (3044, 0.08141486092867645), (2152, 0.08125490236035196), (3073, 0.08104507308633825), (1732, 0.08059153277020689), (3935, 0.0803222608398023), (3177, 0.08003166674436459), (2310, 0.07996325141474497), (546, 0.07989778533166017), (1461, 0.07955277199043276), (2944, 0.07945605299816166), (648, 0.07921097456922391), (3340, 0.07855057109188741), (423, 0.07851067943666007), (3378, 0.07838150190806452), (1514, 0.07799732025430682), (3704, 0.07799433821218886), (1296, 0.07785333503009668), (3636, 0.07780893796214758), (3048, 0.07780583369463082), (3949, 0.07763362981800426), (2756, 0.07744645870334446), (1266, 0.0774259931033434), (2979, 0.07715840736876811), (2230, 0.076781486556722), (2769, 0.07647734780655795), (259, 0.07620194112424934), (1252, 0.07582204640460315), (3058, 0.07515437917931699), (3841, 0.07492158202778189), (525, 0.07481864623347464), (964, 0.07473537678455305), (1871, 0.07459847978137894), (3265, 0.07442635951885719), (3262, 0.07423421755293401), (3820, 0.0741592348345098), (1836, 0.07409389787134336), (369, 0.07343225492530107), (3257, 0.07321089150380151), (126, 0.07317362087382187), (1004, 0.07286480879879091), (2432, 0.07278431032421002), (431, 0.0726167406122406), (2354, 0.07254639104960633), (4351, 0.07215215981900475), (918, 0.07210958109667522), (2348, 0.07210514065513512), (2665, 0.07195592921277848), (2260, 0.07128568713825739), (2163, 0.07126813752631926), (2605, 0.07109776517668283), (3029, 0.0706074185150623), (4000, 0.06973290436246503), (1225, 0.06961308812266709), (113, 0.06924485776447313), (3865, 0.0691297382984034), (2424, 0.06822372474230036), (2517, 0.06820823317210377), (2721, 0.06803839320673172), (2801, 0.06774558935167568), (1887, 0.06761075315212639), (4696, 0.06748873413497519), (4642, 0.06731020164180701), (1245, 0.06685746109195512), (3881, 0.06616653020014561), (501, 0.06547138154754908), (1558, 0.0649777890547728), (1477, 0.06491540282147812), (1845, 0.0646884197543438), (1002, 0.06430437851986028), (1089, 0.06344191034386251), (4595, 0.06276409428519167), (96, 0.06269448219219191), (4023, 0.06266374247934468), (639, 0.06255075998450048), (4288, 0.06241073381387613), (4610, 0.06202363701376113), (3450, 0.062002005787675105), (903, 0.061994358060687364), (2691, 0.0617003215568452), (394, 0.061637308470675965), (773, 0.061366494903940465), (3846, 0.06130368074518491), (3698, 0.06085580173260972), (1874, 0.060224419299982214), (2514, 0.05994982142137813), (4201, 0.059843723179234136), (2717, 0.05956600597892957), (1016, 0.05926739745540178), (837, 0.05919054895672323), (3792, 0.05899201632767216), (261, 0.05804822763149521), (4429, 0.05768925248783584), (3124, 0.056592762181902664), (3302, 0.055569536222729615), (2611, 0.055545295814879984), (4463, 0.0554196606840099), (1918, 0.055385502388617926), (2955, 0.05521117405254015), (2682, 0.05515367370557435), (3064, 0.05496100598196831), (408, 0.054693696261844914), (335, 0.054641541389256226), (2053, 0.054477103648503424), (986, 0.054381980768961696), (709, 0.0542615019143851), (3014, 0.05407514610943332), (2136, 0.05407200305292711), (3390, 0.05395790200116604), (2586, 0.05394549725764818), (3941, 0.0539093115846902), (1012, 0.05366725720593077), (1500, 0.05331391460686188), (2941, 0.05321542462361881), (0, 0.052782595793298956), (4489, 0.052745538254524674), (1783, 0.05270425328912024), (1136, 0.05266831682828685), (4766, 0.052588174167998845), (1613, 0.05220738582087484), (1668, 0.05212526656175748), (2034, 0.052069850687895436), (2652, 0.05180404738890941), (1652, 0.05134547157506192), (3791, 0.05118759365972275), (2183, 0.05116477523731745), (3869, 0.05110718654142047), (2141, 0.05106965478893076), (2169, 0.051063806901588994), (2043, 0.05062440288009591), (87, 0.05053457709314961), (1247, 0.050452118962044434), (1408, 0.050411517107236264), (1543, 0.050406111358344954), (2578, 0.05021785599396637), (2879, 0.04994189041368097), (4376, 0.049556290157958066), (1534, 0.04955485423631064), (1466, 0.049196675859352196), (787, 0.049176436106911414), (2008, 0.04911307998779073), (2142, 0.04908463656876207), (1276, 0.04908058738636438), (861, 0.04907296976630721), (1802, 0.04901995311854027), (4240, 0.0489006777397626), (2476, 0.04878357167709177), (4672, 0.04857966992737687), (3618, 0.048567156328887036), (451, 0.04852527107960128), (1246, 0.04834016297532671), (3940, 0.04824332446839847), (630, 0.047604063880144064), (4152, 0.04728342599985526), (4238, 0.04666092142995718), (1275, 0.046559080057875554), (1138, 0.046381496413975154), (4599, 0.046266263443916336), (330, 0.046031642016596916), (911, 0.045989462868888914), (1024, 0.04539027973595515), (2343, 0.045323264933699245), (1719, 0.04513124366789285), (2218, 0.04507827684277609), (1040, 0.04505326609734151), (1472, 0.04497219272898134), (397, 0.04482518652974331), (784, 0.04463163761993904), (3614, 0.0445973794695), (3106, 0.04448113479642966), (505, 0.044374125402617454), (3607, 0.044273909921981394), (315, 0.044155914867779096), (4669, 0.04415530962333072), (370, 0.04411830307127304), (1606, 0.043998591932016905), (573, 0.04381634176058995), (1029, 0.04377368873561101), (131, 0.04368158097108096), (2340, 0.04362230417613395), (2989, 0.04351539273477083), (512, 0.043421740804501535), (4630, 0.04320623190006861), (1546, 0.0430591011130549), (3594, 0.04286387911511415), (2516, 0.0428086550144795), (1731, 0.042797307747512565), (1131, 0.04271044889034229), (64, 0.04196548433464302), (2012, 0.04195361564612539), (4269, 0.041662236762762074), (2147, 0.04164557602480222), (1964, 0.041551763036095646), (3668, 0.0415207539126591), (1365, 0.041041213276969704), (1259, 0.04103609761294304), (81, 0.040964723654043994), (1967, 0.04090661170321098), (217, 0.04089600689061006), (1084, 0.040831676012162754), (2427, 0.040479531638222876), (2561, 0.04040909172897328), (4282, 0.040344396014417895), (4326, 0.04030080439927908), (20, 0.040228144293303916), (2491, 0.04014031032051203), (811, 0.03988262729306992), (1471, 0.03972999293750811), (894, 0.03964625816393595), (3577, 0.039217788107168805), (872, 0.039155543236782414), (4098, 0.03912473312707026), (1483, 0.03910516885640192), (4294, 0.03907982923829005), (1101, 0.03890531507678897), (1463, 0.038900195668601575), (1713, 0.0388595609588549), (3086, 0.03884909637474115), (1831, 0.03869395910613357), (3366, 0.03862433692660452), (1050, 0.03826644803757251), (2175, 0.038238884222979115), (2706, 0.03821853220320462), (2794, 0.03812129986367169), (363, 0.03811181113467843), (80, 0.03782010535069373), (243, 0.037737410872800935), (98, 0.037550562959604225), (1823, 0.03748837576165722), (3815, 0.03746204341956977), (2203, 0.03743946979065549), (4453, 0.037437611808676), (4331, 0.03731177712095335), (4332, 0.037308450319815736), (2312, 0.03721372988083806), (419, 0.03716414369902922), (206, 0.03708821561812775), (3858, 0.0370162861166154), (3438, 0.03689631003246842), (2167, 0.03682361106648267), (1737, 0.036725058320947496), (533, 0.03656525300481721), (2885, 0.036494308861513884), (1119, 0.03649063676919766), (2368, 0.03635923442748117), (1999, 0.03612848870504778), (1213, 0.03591862229244702), (2498, 0.03568259733289843), (4604, 0.035669209332386057), (1399, 0.03534199455305313), (3020, 0.03526641366065976), (305, 0.03502460392122251), (862, 0.0350100698717551), (1723, 0.03480717311885313), (576, 0.034793898986698824), (1839, 0.03478208939355432), (10, 0.0345259452324596), (1849, 0.034511837376647134), (2564, 0.03451144261649557), (2998, 0.03450367501035014), (3337, 0.03441265875056559), (3126, 0.034269114643904905), (593, 0.03425755515407396), (162, 0.0340079116326206), (1799, 0.033920396244788), (25, 0.03383348597042081), (1583, 0.03379121156374594), (1701, 0.033780087634959786), (4160, 0.03363214767418169), (4124, 0.033599922344199666), (3408, 0.033597668215369664), (3757, 0.033546857041437526), (31, 0.03350652965552937), (3684, 0.03346648127100088), (4401, 0.03341830538671121), (3377, 0.03338862735706314), (1591, 0.03335982525660463), (3613, 0.033258215823426376), (896, 0.03305601652678803), (3054, 0.03304479091825391), (2489, 0.03296907743374674), (286, 0.03295517494206609), (1220, 0.032786469465572274), (1663, 0.03273635621485476), (2255, 0.03265822415408904), (1567, 0.032589601743831804), (2403, 0.03254587487081735), (3322, 0.03253877185428736), (1349, 0.032318324918777064), (23, 0.032136024696934704), (2475, 0.03211731462219361), (3208, 0.032054984075022164), (1074, 0.031978338701834155), (1001, 0.031920126264107986), (1804, 0.03185457207499384), (938, 0.03181744966136095), (547, 0.031816106498904095), (494, 0.0317943339377596), (3345, 0.03178969869747265), (191, 0.03178452754428306), (223, 0.03139564849657486), (225, 0.031332818285000716), (1467, 0.03127617687716674), (2352, 0.031220388994315576), (2892, 0.031216041055660185), (165, 0.0312109128018746), (2, 0.031188134550531904), (643, 0.031164954581871587), (46, 0.0309731624771582), (29, 0.030799792634152355), (602, 0.030719955318885335), (3343, 0.0306144211747527), (3065, 0.030503242807098648), (232, 0.030443995576383845), (3937, 0.030402585916704257), (4480, 0.03036459055821821), (410, 0.030286476446567137), (1262, 0.03025037547000201), (584, 0.03020067153302737), (3695, 0.030096488379853365), (762, 0.030095147022304994), (1065, 0.030075080629074304), (1590, 0.03002044206671752), (1409, 0.03000155801270511), (443, 0.029990654541887415), (597, 0.029979013339952086), (832, 0.029964545495739674), (1429, 0.029950897728305937), (1320, 0.029948946701584763), (177, 0.02991061557148889), (3252, 0.02984626125259597), (1448, 0.029825728163247037), (4024, 0.029806660196633236), (3830, 0.029798075568198884), (1906, 0.029663423703280373), (3250, 0.029622619259378907), (1851, 0.029560891468284774), (4774, 0.029552556938286186), (826, 0.029524772761829556), (1787, 0.029427185246658702), (995, 0.02937942044356625), (1455, 0.029176847357639365), (698, 0.02914117683044224), (849, 0.02913283966685837), (271, 0.029006534949302512), (297, 0.02893646793652322), (43, 0.028912472603046427), (2700, 0.028765220365796512), (104, 0.028680800524099926), (2448, 0.02864715383313013), (2263, 0.028503091187248395), (2264, 0.028500304778525387), (4199, 0.02845714812238265), (2661, 0.028381230068900774), (570, 0.028304870019777037), (468, 0.028294162264074316), (3798, 0.028271601796472923), (1421, 0.028269115135074994), (4049, 0.028140244182307848), (1890, 0.028065062944434047), (2864, 0.028024875786783622), (4094, 0.028009293935001595), (3032, 0.027990416221138847), (334, 0.027989581577250282), (2571, 0.027976210782488714), (1623, 0.027952302350888518), (455, 0.027949966578939667), (2242, 0.0278673835001894), (3548, 0.02763397656709146), (3500, 0.02761423294349984), (1375, 0.02758620821875404), (3432, 0.0275855428516534), (2095, 0.027576957556597344), (4069, 0.027575017122821042), (242, 0.027549221352445266), (1116, 0.027492629617487763), (2450, 0.027472792950527028), (415, 0.027453867203440716), (836, 0.027420275362127013), (246, 0.027406861053044917), (3744, 0.02734389654173374), (35, 0.027266475529553785), (633, 0.027212501665952408), (1146, 0.027177723995269416), (4136, 0.02717487488104615), (3925, 0.02715645296174675), (3098, 0.02715388148126212), (681, 0.02705415169490312), (1347, 0.02704121372447217), (4675, 0.026940958083182264), (2536, 0.026937543414491977), (3976, 0.026912090565252015), (1109, 0.026891054519517964), (1317, 0.026712274575217285), (465, 0.026691427776709308), (1363, 0.026685967332933627), (917, 0.02666755206819541), (7, 0.026611154706604568), (1905, 0.026552025389219063), (1902, 0.026523225305248012), (2708, 0.026520532782645427), (1671, 0.026502235182605097), (4728, 0.026488765385978413), (1070, 0.02643691598717191), (3715, 0.02639334138314567), (4758, 0.026384373266992417), (2790, 0.02630190547942153), (690, 0.026285119943318225), (1913, 0.02617168403911227), (1132, 0.026138654324431458), (1430, 0.02610868089370468), (932, 0.026082776041357836), (2492, 0.026082691277316435), (3146, 0.026069361274392164), (390, 0.026037129157950534), (1922, 0.025928657007776336), (1930, 0.02590025620610742), (4449, 0.025822636146054484), (294, 0.025798050829346077), (867, 0.025778709454359446), (292, 0.025762495698302433), (379, 0.025734382672035754), (275, 0.02559100053221916), (3151, 0.02558045471244364), (203, 0.025488928049197418), (105, 0.025416629582982922), (2210, 0.02537960520496967), (2316, 0.025266181554178254), (1616, 0.02525204673974448), (3172, 0.025196994522899554), (4232, 0.025073893986792845), (326, 0.025009602474991698), (1420, 0.024985321152819182), (797, 0.024984425915617545), (1416, 0.024952102036656765), (1611, 0.024943876040435187), (3405, 0.02493387163376305), (2433, 0.024903740716317513), (1678, 0.024779318268599908), (4102, 0.02475799386835541), (3848, 0.024737619682639222), (1994, 0.02468478528638563), (1041, 0.024622020434432488), (1091, 0.024540988407257727), (1759, 0.024468488921091675), (572, 0.024369545615096567), (163, 0.02430221024353574), (4538, 0.024274503449483262), (1063, 0.024256102303347928), (1199, 0.024205441558720554), (1376, 0.024202508689402935), (3638, 0.02418966415260775), (3491, 0.024166088912711554), (1958, 0.024162606461211676), (2722, 0.024109661653901257), (4760, 0.024048517490634927), (32, 0.02400221615282047), (1255, 0.023953822442832777), (1494, 0.02390851526996722), (3886, 0.023853665620001383), (4106, 0.02385047814109877), (4233, 0.023805938187809572), (4395, 0.023774086502504635), (1212, 0.023742770072657036), (1183, 0.0236994901400968), (3319, 0.02367305311800304), (3304, 0.0236651799841778), (3355, 0.023630300872577063), (1879, 0.02360029974956316), (2957, 0.023576400522246764), (2793, 0.023517169537726285), (2239, 0.0235083793396467), (71, 0.02347105118967502), (579, 0.023450941116420383), (3804, 0.023398862203175413), (3669, 0.023397332888271154), (2521, 0.023357300494642456), (4375, 0.02325804046443854), (293, 0.02323643681291242), (2338, 0.023195599532862616), (2189, 0.02310642929367616), (4440, 0.023100691908592392), (1834, 0.023100691495953413), (3857, 0.023081992433778474), (499, 0.023022500545410336), (3750, 0.023008135895315363), (1688, 0.02300713355030938), (774, 0.022976598516021574), (1176, 0.022976235946275302), (2470, 0.022971895382100926), (1090, 0.022965806210457025), (1525, 0.02296545243701636), (2434, 0.022936256792817567), (814, 0.022924198201199265), (391, 0.022894047695142902), (816, 0.02289041222429769), (2077, 0.022835093222001283), (1068, 0.022784157690509458), (1053, 0.022782850047871273), (2356, 0.02275300292188747), (1856, 0.022752014794535192), (2267, 0.022738752700711726), (713, 0.022681094850147496), (1612, 0.022599367265119984), (3286, 0.022586872878893625), (2373, 0.022517274578469262), (3034, 0.022514771278513358), (2109, 0.022508760213849), (1657, 0.02241358064863708), (2038, 0.022363584801967786), (3007, 0.0223511701223901), (3854, 0.022309350936412564), (2418, 0.022288751900783336), (3806, 0.022252522413057446), (1237, 0.022252306343555475), (3495, 0.022232931942833458), (2219, 0.02220906972840169), (1604, 0.022197867542124168), (2889, 0.022185315626287713), (1081, 0.022167805869781735), (381, 0.022162785139100624), (2040, 0.022159875848815163), (2928, 0.022092457442926344), (557, 0.022043332733157225), (3755, 0.02201475067918062), (3813, 0.02200824141953045), (675, 0.022003026614782154), (962, 0.022002039263981626), (3598, 0.021979225779933147), (4171, 0.02193566839784105), (2797, 0.021930473161520397), (3931, 0.021923682903848128), (3688, 0.021917481559838567), (1488, 0.021904953260713858), (485, 0.021889837873690036), (3765, 0.021806691224491814), (1687, 0.02170948644698505), (2392, 0.021707391990611218), (3299, 0.021702876704894878), (2750, 0.021699691217510798), (4457, 0.02168116485469088), (4392, 0.021611806190142118), (631, 0.02160396263808034), (4664, 0.02157796792130337), (825, 0.02151680759088976), (476, 0.021468343533021482), (3552, 0.021461168961402276), (2543, 0.0214211027100018), (2886, 0.021420862004943187), (1145, 0.021389278954572353), (3775, 0.02136511976896441), (4340, 0.021339376652585892), (1405, 0.02131193226920322), (3311, 0.021291448548066277), (3406, 0.021242237148779756), (3737, 0.02124056908706506), (3752, 0.02122822190909105), (4181, 0.021227761237983464), (2838, 0.021139928670450447), (2762, 0.021083686681191233), (3624, 0.021076868737113574), (2139, 0.021052359109799627), (4649, 0.021045505269318237), (715, 0.02102025228385611), (2245, 0.02101289188717367), (4113, 0.020989601038392616), (101, 0.020972452437557715), (4119, 0.020962733894421496), (3466, 0.020960752548663513), (3342, 0.02096031605953272), (4016, 0.020938042345502606), (1154, 0.020912458278602764), (2030, 0.020884247997673556), (4631, 0.02087117266139906), (3945, 0.020870210372798965), (2805, 0.020844531087019114), (1789, 0.020814923353386545), (467, 0.020805977431561217), (3176, 0.020802976170138397), (2049, 0.02078512202989431), (1654, 0.020781018185068157), (2449, 0.02077719888395997), (1384, 0.020771465218427335), (1233, 0.0207565023779951), (4175, 0.02074581604345735), (375, 0.020741135864485616), (1812, 0.020726020543349013), (1949, 0.02066706284004913), (2187, 0.020652737015425256), (1693, 0.020649155061178585), (770, 0.02059173714010885), (4592, 0.020581304176603022), (1150, 0.020568538206919985), (2575, 0.020545991887737335), (1415, 0.02050671779610482), (1749, 0.020491387938420595), (3864, 0.02047654788367024), (362, 0.02039416116737014), (214, 0.020377969259490137), (239, 0.020367262946799622), (4573, 0.020363104234758428), (2916, 0.02034383098998128), (2821, 0.020319517137684262), (2315, 0.020278325159438393), (671, 0.02024624652856314), (132, 0.020229847048930293), (4033, 0.020203981679861482), (3955, 0.020190650763751105), (2674, 0.020173206804518774), (3566, 0.02016097979612116), (4371, 0.020130182787162335), (4298, 0.0201240471094923), (3439, 0.020122741002450494), (2810, 0.020106772245972303), (44, 0.02006723078882142), (4307, 0.020051301809990298), (3741, 0.01999892865525326), (4798, 0.019993467513003814), (444, 0.019985228867031177), (1777, 0.01998499092351543), (852, 0.019961972731087515), (2118, 0.01994543075652317), (4146, 0.01993852981767255), (3893, 0.019932143527315902), (4654, 0.019886927284864762), (3180, 0.019837351678962424), (2020, 0.019816789235773045), (1556, 0.01981638660373788), (2029, 0.0197710379420513), (279, 0.019755151223081226), (993, 0.019733320247482984), (4059, 0.01969301090262458), (2627, 0.019660687299406693), (2469, 0.019631922977513202), (2317, 0.019629988930017828), (3556, 0.01962110155871901), (428, 0.019601578122021398), (4172, 0.01959003744570974), (3033, 0.01958628341906332), (812, 0.019582767718362096), (266, 0.019582301145200234), (2149, 0.019559875664194894), (2655, 0.019528660320506423), (786, 0.01952629739024989), (2865, 0.01951127011200486), (3081, 0.01950986014215944), (3622, 0.019498728029259272), (1932, 0.019489653610426937), (2198, 0.019480758422012346), (296, 0.019460940067160547), (2525, 0.019453754676599114), (3802, 0.019425277047270793), (2580, 0.019390217618791054), (2419, 0.019388806321947043), (3276, 0.019374441334415307), (107, 0.01934610701024817), (38, 0.019333977332941815), (730, 0.019289604188670643), (322, 0.019274182757820765), (1289, 0.019264693289991863), (2563, 0.019262121407127186), (3878, 0.01924834812136996), (2650, 0.019216995247597513), (1586, 0.01920659212837323), (215, 0.019205834897637695), (1230, 0.019154402884054372), (2278, 0.01915303741191985), (1859, 0.01912911393387837), (1953, 0.01912594810664668), (1028, 0.019082033738237397), (2554, 0.019079022172351395), (744, 0.01904517567275413), (4565, 0.019030838498292537), (1144, 0.018994615938567834), (2133, 0.01899066057490935), (1390, 0.018989803300010894), (1282, 0.01898479648164366), (3313, 0.018968237620347383), (198, 0.018966439102494376), (2960, 0.01896607005960898), (3936, 0.018962056062347504), (4443, 0.018931987198261287), (2490, 0.018927914533183317), (664, 0.018926026352307824), (798, 0.01888840892120348), (2965, 0.01888768450261196), (178, 0.018876181196452728), (2735, 0.01886601001404882), (1321, 0.01886463383907279), (167, 0.01884903334650202), (299, 0.018841894080769635), (1035, 0.018838253780651126), (1049, 0.018823123651790702), (1748, 0.018815018060236458), (3153, 0.018806783642466532), (1753, 0.018726083031124753), (3982, 0.018672160748054997), (227, 0.01866584993325592), (160, 0.01865852867904908), (48, 0.018636875994790022), (14, 0.01863420655493137), (668, 0.018632301610560946), (148, 0.01861880839715654), (103, 0.01860933004764051), (2381, 0.01860321023792758), (61, 0.0185956679412112), (1086, 0.018584578784430403), (4487, 0.018578906018773753), (282, 0.01857889281704792), (129, 0.018548558132701665), (3667, 0.018503444986094335), (692, 0.01848221644774137), (2100, 0.01846665998032796), (2749, 0.018445090915959146), (589, 0.018443453104138523), (187, 0.018432734062921837), (2914, 0.01841114927797206), (12, 0.01837692547211168), (2549, 0.018372134826135502), (3293, 0.018337692772457635), (331, 0.018335421608668055), (2654, 0.018335320635680025), (121, 0.01832625825813159), (2039, 0.018306425665476425), (135, 0.018299904860878534), (870, 0.018270593889887176), (3490, 0.01826596951472038), (2036, 0.018256263569255003), (3647, 0.018254389715025073), (94, 0.018254349421635927), (329, 0.01823709688861299), (2974, 0.018218408251490303), (2678, 0.018197449836250577), (1443, 0.018186253561175494), (262, 0.01818006834840979), (208, 0.018162706630571564), (2413, 0.018139410580858193), (4155, 0.018138231059271512), (684, 0.018137975465896003), (3856, 0.01813742894817636), (813, 0.0181037846292981), (472, 0.018102297536964393), (1813, 0.018069293199663952), (846, 0.018038647835888662), (17, 0.01803317560362767), (559, 0.018011823273863792), (1996, 0.017967671139464785), (1110, 0.01795081217192669), (1768, 0.017949424562631475), (618, 0.01791363119867507), (241, 0.017903270140744224), (616, 0.01790193824078397), (2390, 0.01788697203027889), (2462, 0.017842426359527094), (430, 0.01783965883405599), (3440, 0.017814160142003294), (537, 0.017813490340454465), (50, 0.01777687257019129), (3494, 0.01776426956151087), (3626, 0.017727889767556498), (9, 0.017726308834751632), (768, 0.017715590546947955), (1139, 0.017705257479939496), (611, 0.017704938715795968), (1000, 0.017692481628742596), (72, 0.01764373077935585), (1939, 0.017631337147282405), (210, 0.017620672813946255), (400, 0.017592173789758338), (2144, 0.01754335868533956), (138, 0.017526510616909574), (13, 0.01751735852307118), (4576, 0.017474100791782982), (2996, 0.017365908534735058), (3920, 0.01734750475921905), (238, 0.017245209664315996), (3620, 0.017220643865990863), (377, 0.017215110563299073), (4219, 0.017200720258231602), (3429, 0.017187184830092003), (805, 0.017173497818279038), (831, 0.017158942876252248), (3901, 0.017137599640970877), (486, 0.017127598585022327), (3037, 0.01712194700150979), (168, 0.017118641513163845), (2237, 0.01711643245880074), (4413, 0.017105771484529894), (1343, 0.017097907201181067), (4779, 0.01709055828137668), (4010, 0.017079917506906413), (941, 0.017030247377898666), (4688, 0.017027761335219802), (2815, 0.01700853365452496), (3351, 0.017002024828623494), (728, 0.017001213242800642), (1192, 0.01697541127385613), (1359, 0.016889714240636153), (587, 0.01685031327126167), (963, 0.01684110953732836), (2307, 0.016836424207759982), (3584, 0.0168286818965078), (45, 0.016791228197578258), (3194, 0.016775349828448756), (2069, 0.016770083694033475), (679, 0.016731985246494187), (4726, 0.016729359816893705), (754, 0.0166664815422483), (1743, 0.016651092972668948), (3576, 0.0166311822579129), (543, 0.016621661049318316), (3012, 0.01660408272088585), (403, 0.016587109613655907), (1750, 0.016523920237937622), (1310, 0.01649300609834934), (864, 0.016464002400711546), (624, 0.01644821597714737), (1, 0.016447265542625662), (199, 0.016438661655633464), (1669, 0.01642721934251289), (3521, 0.01640905805139323), (3358, 0.016408000605042734), (1438, 0.016394997905061808), (1453, 0.01639147305336487), (1707, 0.016306819718580837), (4147, 0.016255404318586433), (937, 0.016193510932249515), (2597, 0.016125934204768107), (1046, 0.016079337213534918), (3493, 0.016063948439021123), (859, 0.016022654617154474), (1569, 0.01600912406066192), (1686, 0.015949216676870832), (561, 0.01594166521042246), (3655, 0.015886245556808055), (436, 0.015886108670274443), (4632, 0.01588245818240156), (746, 0.015870012163032465), (3852, 0.015866215358053694), (2068, 0.015846311646975562), (4486, 0.015840732233578184), (2777, 0.01582407915614153), (1936, 0.01578664862023028), (2006, 0.015758674968546934), (19, 0.01568135415889361), (1064, 0.01567527560668022), (1518, 0.015630234397640018), (4266, 0.01562438094134185), (3354, 0.015599502610009247), (1095, 0.015549781804812767), (4125, 0.015530582726642941), (3733, 0.015518274849834778), (1520, 0.015326550621205547), (3239, 0.015325342165707375), (2494, 0.015291105123606796), (84, 0.015288149957609246), (4501, 0.015283441945481408), (4055, 0.015262035486171019), (1341, 0.015250390066737386), (332, 0.015241534385557861), (3251, 0.015235334247572008), (3067, 0.015219318470100352), (2367, 0.015207928186508847), (1626, 0.01519066008685823), (1277, 0.015149983869515457), (2614, 0.015135736791999175), (1524, 0.01507612612681533), (2617, 0.015047412041320509), (3969, 0.015047088694339628), (1899, 0.014944007012985991), (226, 0.014915408517012705), (2851, 0.014895956360429414), (4694, 0.014875835676182614), (4626, 0.014826785419828554), (2165, 0.014779293279529284), (4299, 0.01468087752903977), (2401, 0.014674938045096213), (1208, 0.01466637831850825), (3110, 0.01465272035087825), (4399, 0.014628222230443935), (347, 0.014621959175701615), (1898, 0.014529528637001205), (2649, 0.014528299245797746), (2875, 0.01446756433988429), (4691, 0.014441878149756447), (350, 0.014385933324745815), (1984, 0.014368194469604243), (1579, 0.01434044160702964), (4301, 0.01425303285388866), (2909, 0.014180733999661467), (2577, 0.014177090295383724), (4771, 0.014161134964354533), (4251, 0.014158267484501772), (2587, 0.014125425793041218), (1291, 0.0141121539793703), (3760, 0.014075825415137758), (496, 0.014059245738133285), (4128, 0.014058751015738906), (1658, 0.014040110238382215), (1469, 0.013998883912346457), (2890, 0.013963298229704959), (4627, 0.013942029487037788), (4203, 0.013936151586729733), (2856, 0.013921208125496624), (1816, 0.01389388743459996), (4076, 0.013888308262542235), (309, 0.013878461647549226), (776, 0.013861662194841523), (1306, 0.013848765284630466), (563, 0.013832116594876933), (3261, 0.013824200003841177), (791, 0.013823400924040868), (2184, 0.013817319656807336), (3929, 0.013809072171789573), (1107, 0.013806464572181851), (1394, 0.013771841769173423), (3554, 0.013740421513214661), (3468, 0.013671768457525697), (3726, 0.013627290196672862), (627, 0.013622273797301961), (1451, 0.01361602858044012), (3329, 0.013614618736972965), (418, 0.013578245379758058), (184, 0.013574193269700592), (2151, 0.013562703753640519), (4647, 0.01355603396135848), (3894, 0.013547318033157986), (3800, 0.013547053680464926), (803, 0.013540909589892928), (4015, 0.013528679895995955), (892, 0.013512580127133727), (696, 0.013509406904483098), (327, 0.013487411753651682), (4060, 0.013486731820897664), (824, 0.013477026481778282), (4070, 0.013460239550223813), (612, 0.013451623974288208), (858, 0.013388172433761144), (2266, 0.01332385088692748), (2686, 0.01328202629917551), (4651, 0.013279345522174605), (591, 0.01327556410421318), (1506, 0.01326932850799366), (1842, 0.013267642921744207), (1695, 0.013262766976126621), (2533, 0.013248753546344982), (2493, 0.013241282638087987), (815, 0.013239634253976621), (2495, 0.013239603511367605), (106, 0.013234371962345469), (1976, 0.0132304702620854), (78, 0.013221263075419971), (4290, 0.013215628059022865), (3537, 0.013206270321418894), (3777, 0.013176754129220172), (2581, 0.013166700758611231), (1019, 0.013160555798216822), (953, 0.013124951388162137), (4509, 0.013115005084519536), (3183, 0.013111665824001455), (1865, 0.013111478822134202), (3659, 0.013100386438384671), (464, 0.013096532992700078), (4638, 0.013084315622758235), (2313, 0.013069590652377644), (1124, 0.013058151212289162), (2215, 0.013043332753062457), (2464, 0.01301870469875273), (967, 0.013012037097513815), (2509, 0.012999530095959867), (164, 0.012998632375826475), (2835, 0.012995729613840705), (2114, 0.012989115811326836), (2606, 0.012937152405970948), (3664, 0.012923466610641872), (1711, 0.012921604328679821), (2333, 0.012919335244872944), (1858, 0.012908106529252651), (2997, 0.012906820196282733), (2274, 0.012896362123112362), (2792, 0.012888701516033352), (904, 0.012874069415938535), (516, 0.012867053763286033), (565, 0.01285563749760134), (2298, 0.012844037673568405), (1337, 0.012804767538051497), (460, 0.012804379000489178), (1684, 0.012802354055244988), (1595, 0.01279516573135561), (3279, 0.012786218391071134), (1560, 0.0127830277250067), (3004, 0.012782182170278964), (4246, 0.012778222488982286), (92, 0.012771077365496514), (3996, 0.012762218535797273), (3430, 0.012754332573634617), (2648, 0.012740289474981764), (3233, 0.01273960938204135), (4756, 0.01272258111650918), (2406, 0.012714043693272356), (311, 0.012696481060833318), (231, 0.012696362498473356), (143, 0.012691156492330751), (4380, 0.01269096887687756), (4787, 0.012681633343780089), (735, 0.012681320410164964), (2753, 0.012677888957117984), (1452, 0.012675860039762768), (3539, 0.012669565587311608), (1206, 0.012662475407615113), (555, 0.012661250257349604), (3767, 0.012659988335911575), (3364, 0.012659387739445676), (249, 0.012657011511630121), (4724, 0.012647908523349268), (4224, 0.012641852588478846), (4200, 0.012632471847092515), (2416, 0.012628996972688034), (1331, 0.01262353698341933), (1603, 0.012621007383561917), (1751, 0.012617420148543765), (2826, 0.012608277477954608), (1423, 0.01259369423749203), (197, 0.012588135993997922), (8, 0.012587822625599984), (661, 0.012583927163672272), (4030, 0.012583611327818402), (256, 0.012566180564800468), (1917, 0.012540796586170421), (1485, 0.012538520191456199), (133, 0.012537153492013082), (470, 0.012533664695362118), (2458, 0.012518215753179312), (578, 0.012511629722036803), (532, 0.012511197271015947), (3671, 0.012505323188973868), (2305, 0.012502426613985203), (435, 0.012494126372245746), (2438, 0.012486516288898698), (4291, 0.012477458817967984), (1055, 0.012477353455005226), (324, 0.012476892829957181), (935, 0.012470719909624383), (2598, 0.012470701172026541), (413, 0.01245793095261587), (4264, 0.012440029084843183), (1374, 0.012439588353061292), (4022, 0.012433345435374802), (3763, 0.01242352416488902), (898, 0.01242310958076688), (3919, 0.012418705219558327), (1915, 0.012406509754919989), (2311, 0.012379747491647643), (712, 0.012375601831987063), (931, 0.012372842917331154), (1928, 0.0123723365496045), (1322, 0.012371083658903116), (268, 0.012367983320027656), (1411, 0.012366291338777504), (302, 0.012358422104661843), (473, 0.012356045335917061), (2702, 0.01233859418625455), (1599, 0.012338058283493047), (2306, 0.012336306699833295), (3237, 0.012333903996945025), (2547, 0.012330406584875704), (1728, 0.012316915301645293), (3270, 0.012315779877929237), (583, 0.01231475138827948), (234, 0.012306413236849709), (211, 0.012301282790915108), (4407, 0.012301020996984463), (1694, 0.012286072007196848), (1764, 0.012284155761043341), (276, 0.012279772661145202), (1619, 0.01227301716731467), (4665, 0.012269331041784733), (3903, 0.01224697200802572), (1800, 0.012239900524439434), (175, 0.012234597057315241), (258, 0.012234058582964365), (810, 0.01223378502067668), (265, 0.012230469813531073), (1402, 0.012227686410337169), (2166, 0.012221093796821014), (2696, 0.012220907990717799), (899, 0.012213602205917148), (416, 0.012202756730658038), (289, 0.012201912607677721), (15, 0.012200617390576074), (1960, 0.012193888635986486), (3568, 0.012193882076779478), (672, 0.012186700855303469), (1682, 0.012181490973947903), (3642, 0.012178467798492038), (3658, 0.012174408118963132), (2922, 0.012173622812398041), (820, 0.01216601600351926), (459, 0.012157271148270817), (100, 0.01215578316947727), (4132, 0.012136985109186508), (2108, 0.012135574263425266), (759, 0.012132877264710785), (1160, 0.012130482829018512), (2127, 0.012127461075603625), (3896, 0.01212460909855382), (1893, 0.012118909716864728), (171, 0.01211635768692535), (1578, 0.012104601284311981), (4539, 0.0121017783692725), (1078, 0.012100257956382442), (2846, 0.01206374520172569), (2382, 0.012056170069331391), (1367, 0.012055554907974343), (73, 0.01204705328879675), (4190, 0.012040716524487675), (406, 0.012040542718058161), (2530, 0.012034851785183955), (3822, 0.012031972138902239), (1238, 0.012021985722574666), (2540, 0.012014460735120984), (365, 0.012010869911977612), (1496, 0.011998751812930385), (1134, 0.011997346074848404), (90, 0.011994510958558025), (4722, 0.011986315357056097), (3448, 0.011981242746207864), (517, 0.01197842697031272), (3381, 0.011971854826496113), (827, 0.011964992901079144), (154, 0.011949171339002515), (172, 0.011944589592043382), (946, 0.011941774903872096), (1725, 0.011926826013979677), (341, 0.011920433366323273), (1152, 0.01190799096488261), (4158, 0.011899831035792861), (2228, 0.011898516966305768), (4593, 0.011894071213774364), (1833, 0.011883125656802246), (1446, 0.011882372792118723), (666, 0.011872631145152608), (1806, 0.011866346360034283), (3198, 0.01186549495015594), (3706, 0.011861343706886766), (1449, 0.011840862735784753), (2206, 0.011839396418036021), (4368, 0.011829662276637624), (3574, 0.011822930886837335), (2845, 0.01179380128604509), (63, 0.011763587787119013), (3442, 0.01175740230998288), (1821, 0.011747330310059218), (3013, 0.011734947472451403), (1495, 0.011714589297441132), (636, 0.011711405533837151), (420, 0.011700197638119308), (426, 0.011685666645093634), (3696, 0.01166778889974407), (1287, 0.011658360616364272), (3928, 0.011653787798234424), (349, 0.011644081288038899), (195, 0.011631139543164871), (2651, 0.011598983782385216), (1974, 0.011594294939172259), (2568, 0.011571896825125993), (2499, 0.011554118815804136), (1439, 0.01155090545909394), (2459, 0.011531745676910581), (346, 0.011510919346684675), (3015, 0.011510389688186814), (1914, 0.01150876886490897), (3511, 0.011490335828120242), (254, 0.011490152511089542), (2185, 0.011477417866111934), (114, 0.011432526639828593), (358, 0.01141970053615139), (118, 0.01141616586474005), (2934, 0.011408130675574935), (318, 0.01137888670695677), (417, 0.011378418110779132), (4149, 0.011374690179535692), (3631, 0.011353677005990041), (792, 0.011348745234961481), (1594, 0.011340351302819822), (336, 0.011328139363173543), (775, 0.011318142091042442), (1549, 0.011314065708251806), (743, 0.011300722320451585), (1746, 0.01129732262616946), (4216, 0.011295953251560126), (117, 0.011291277234775425), (407, 0.011268446622668009), (2096, 0.011262776687516084), (235, 0.01125083697158947), (1244, 0.01122016478128975), (3907, 0.0112174536646884), (977, 0.011199289077471478), (2967, 0.011197313149362998), (781, 0.01119627222209339), (368, 0.01117887947862569), (2633, 0.011164386979374176), (2685, 0.011150972299381253), (1085, 0.011146169822329462), (1900, 0.011117195997529286), (3281, 0.011113522593201777), (161, 0.011103480265626516), (1274, 0.011096170889426823), (22, 0.011093356360036253), (2402, 0.011088119375140043), (3402, 0.01107718860016802), (2659, 0.011062688824547593), (4608, 0.011053857568168325), (1054, 0.011049152726405845), (3169, 0.0110243618250628), (2017, 0.011005916853492953), (4263, 0.011000068055039244), (1822, 0.010981075694134219), (471, 0.010980195924755753), (2314, 0.010966517654559749), (364, 0.01093754752431188), (1497, 0.010927112778896523), (742, 0.010911588709082898), (2508, 0.010895545603704761), (3427, 0.010862280154807261), (1481, 0.010851631229875916), (4087, 0.010831252545415376), (4134, 0.01082031874363664), (3214, 0.010810131713065742), (1734, 0.01079500842507266), (86, 0.010784959291733452), (488, 0.010783073147862567), (800, 0.010775766999929472), (2062, 0.010734853608664894), (1650, 0.01073093892183911), (1643, 0.010699416648544445), (2258, 0.010696368031591167), (3986, 0.010691622333159744), (1959, 0.010686490169603572), (686, 0.01067723486686684), (2262, 0.01066873865039108), (2366, 0.010659815109365776), (3895, 0.01063945169589387), (1993, 0.010614934660890874), (3277, 0.010612147531757729), (646, 0.010609675944790415), (3845, 0.01060814844086733), (4482, 0.010554865999915865), (2131, 0.010527705188657322), (1111, 0.010438315938683041), (1718, 0.010404502342973356), (1126, 0.010399123000291725), (1987, 0.010397961352906307), (1942, 0.01039495384051849), (1251, 0.010375082534757073), (1761, 0.010353674977022135), (2019, 0.01032458059148007), (4364, 0.010292707312485706), (4167, 0.010271274805619955), (2556, 0.010229902153712105), (2465, 0.010220001240841166), (4378, 0.010214983056159579), (3386, 0.010185358075218701), (452, 0.01017136734927744), (2911, 0.010171314813261962), (4259, 0.010108750133036283), (2628, 0.010029037202866279), (2303, 0.01002792661326945), (2294, 0.009990761648844394), (2247, 0.009937521891122413), (1519, 0.009926365991593139), (1570, 0.009887806293967577), (1878, 0.00987325991205433), (1017, 0.00986284076811872), (1747, 0.009783253447606806), (4325, 0.009751384284166232), (1977, 0.009747858775367749), (1584, 0.009733184705145417), (4394, 0.009732552721069715), (1680, 0.009692726338877296), (710, 0.009655335845267102), (2884, 0.009652743631030199), (4579, 0.00936119568374941), (3782, 0.009193513730949062), (109, 0.009142570587016228), (3899, 0.009097878871676261), (4261, 0.008930007593009638), (1099, 0.008815737935199042), (3087, 0.008641941817375045), (4769, 0.008638463904277267), (2001, 0.008463820072236259), (3359, 0.00842113116122154), (4499, 0.008364821568262477), (4277, 0.00835702874941997), (4708, 0.008237243002097059), (3714, 0.008211143689844422), (3006, 0.008206259944979043), (1267, 0.00809198003557899), (1962, 0.008037810622080798), (1503, 0.007993855979131511), (2933, 0.00799013788007587), (4256, 0.007986490592849393), (1288, 0.00794833174045005), (2867, 0.007836844365649956), (3437, 0.007821625752862316), (4161, 0.0078009326261386834), (1253, 0.007764563291500713), (674, 0.007751373024996368), (3224, 0.0077094652363617205), (1597, 0.007679283154580903), (540, 0.007625502791886736), (1667, 0.007623789024797499), (1937, 0.00759774428786813), (4408, 0.007577974259624815), (4450, 0.007541702009233911), (660, 0.0075260344379822), (3373, 0.007504045691111101), (3509, 0.007467085340736048), (2728, 0.00744425113889553), (2921, 0.00743646153211822), (2360, 0.007435211020230126), (3912, 0.0074310274047082615), (2899, 0.007398433803445862), (2931, 0.007394180846281606), (2972, 0.007390181290323872), (750, 0.0073780488582806765), (3284, 0.007367965755275249), (2222, 0.007340259124435165), (2122, 0.00726157754068455), (2506, 0.007252689775793322), (2456, 0.007246311250283816), (1978, 0.007228203327257603), (218, 0.007228085643264388), (3988, 0.007217538783100803), (1398, 0.007208798773120145), (3943, 0.007179169739229768), (4772, 0.007161273840584272), (396, 0.007128007743392776), (2154, 0.007126984110474526), (2207, 0.007124851069737648), (3756, 0.007124056676066396), (2047, 0.0071234688156201105), (678, 0.007121033582973109), (3836, 0.007115188225133062), (3021, 0.007110068079306347), (2055, 0.007108387908105411), (437, 0.0070956594892835935), (2268, 0.007077112629651479), (753, 0.007072235430607384), (600, 0.007061411865059245), (4557, 0.007059907979413177), (2188, 0.007044790103014738), (166, 0.007040334983599301), (4734, 0.0070349750798232935), (344, 0.007027628771323965), (1357, 0.007026035758618518), (219, 0.0070191044812889375), (1269, 0.0070015481709668195), (1528, 0.006990301495169602), (3051, 0.006988413479619319), (534, 0.006982039739427011), (1769, 0.006982030809976789), (4111, 0.006967814317622985), (731, 0.0069653721989716005), (4425, 0.0069643093282695506), (1675, 0.006959856672877137), (1278, 0.006944538275499555), (85, 0.006929137095310795), (2466, 0.00692503297391466), (1020, 0.006921121676721619), (4258, 0.006918058033569199), (466, 0.006909692508217323), (58, 0.006903151102474392), (747, 0.0068823406321067955), (4129, 0.00687722572456991), (4554, 0.006870787028302776), (3, 0.006870699298854166), (3306, 0.0068698330916459145), (1114, 0.006869318907265919), (157, 0.006868678800929531), (1479, 0.006862749487321625), (3972, 0.006858381000553068), (1986, 0.006838706202581938), (1897, 0.006837159829728639), (609, 0.006825262949627622), (2205, 0.0068251782926934765), (518, 0.006813982073442928), (981, 0.006811535039096732), (196, 0.006792625474601129), (1076, 0.006788402145720417), (345, 0.0067827985661329335), (425, 0.006778720600259323), (1733, 0.006778250638741107), (1417, 0.006774872298043536), (574, 0.006770450565007865), (213, 0.006767830661557597), (3623, 0.006764028960429145), (4388, 0.006760852847214514), (1425, 0.006759418130015458), (4143, 0.006739784916438419), (985, 0.00673897232147469), (1933, 0.006730382727949243), (386, 0.006726851340752317), (4061, 0.006723742308778078), (102, 0.0067225623801987515), (866, 0.006720093440559164), (3774, 0.006717052685925814), (339, 0.006704473691521369), (47, 0.006700035505964366), (539, 0.006699686378469968), (56, 0.006695408909056276), (4187, 0.006690569895170392), (1727, 0.006686493234969685), (2510, 0.006685427290007412), (984, 0.006676799572031108), (447, 0.006674568590541426), (3795, 0.006669108627118767), (140, 0.006667031147030698), (1324, 0.006659330267562859), (3412, 0.0066523079619070285), (3332, 0.0066517331516286965), (3650, 0.0066459350108883045), (1636, 0.006645776760082863), (732, 0.0066447893255141876), (4620, 0.006644298353460785), (139, 0.006642142153702007), (1850, 0.006638980881182316), (1844, 0.006635012920886223), (1920, 0.006633818517710701), (601, 0.006612803279101478), (2646, 0.006609615767910078), (1505, 0.00660545116042226), (3882, 0.006598038139336335), (1133, 0.006596921723564906), (3361, 0.006596476898272388), (127, 0.006592315183063983), (3154, 0.006591405212816095), (2089, 0.0065883795841037525), (119, 0.0065857653642722854), (193, 0.00658556775314844), (4004, 0.00658420623302679), (2212, 0.006569743263963831), (180, 0.006567155684248389), (433, 0.006557076959969805), (4460, 0.006555275337027441), (1342, 0.006554573577697997), (3485, 0.006553478951417419), (1377, 0.006552585077876419), (209, 0.006551256362491293), (83, 0.006547025799979306), (3819, 0.006541736272518616), (1256, 0.006532513291886538), (122, 0.006532442453705104), (4093, 0.006532283303667482), (1272, 0.006526626127421297), (274, 0.006521644209637155), (1628, 0.006521549539808183), (553, 0.006518364813802882), (4583, 0.006516971739907421), (2250, 0.0065137525967259935), (53, 0.006512666612466885), (530, 0.006510077956477892), (3128, 0.006504067748275371), (1860, 0.006500801133323127), (3326, 0.006500433907142212), (3144, 0.006499372248287258), (919, 0.006498194911650716), (319, 0.00649812304617669), (3352, 0.0064966277806379254), (3616, 0.006496344525449419), (1894, 0.006492279534559416), (4546, 0.006491811877265738), (716, 0.006491615141784631), (478, 0.006484938691798747), (1486, 0.006481795790130085), (2309, 0.006475704033152506), (65, 0.006459345212155312), (252, 0.006455841740766247), (952, 0.006447199234578034), (2093, 0.006446896962210071), (2394, 0.006446868943597334), (82, 0.006443035231315665), (1592, 0.006442114716611545), (55, 0.006441846592133835), (1273, 0.006432151544809088), (1380, 0.006428268845349045), (818, 0.006427959754177128), (26, 0.006427255391858622), (222, 0.006419338427237873), (2583, 0.006412862727577879), (495, 0.0064118175855487165), (453, 0.00641180022898328), (3993, 0.006411517151306079), (3335, 0.006408096117920335), (91, 0.006406059831843061), (355, 0.006402173363979062), (1178, 0.006396974401076715), (3826, 0.006395489050214718), (76, 0.0063906881141993), (3385, 0.006389805768965408), (2002, 0.0063888459787832), (277, 0.0063872727038508815), (356, 0.006385727950251411), (183, 0.00638482707294629), (4117, 0.0063765087376067104), (655, 0.006373987721970854), (1908, 0.00636242905699492), (724, 0.006362219403988986), (740, 0.00635504758576111), (2196, 0.006352056098954939), (1826, 0.006351772218612135), (248, 0.006350158884186442), (972, 0.006349963628990029), (821, 0.006346689552110749), (1434, 0.006344523074450512), (2380, 0.006343441788466501), (1792, 0.006342847847197556), (446, 0.006341893277971106), (158, 0.006341659418119688), (372, 0.006340581611944227), (838, 0.006338954073746926), (2442, 0.006336988601961298), (3522, 0.006335124249739519), (449, 0.006332119755244063), (3724, 0.0063292168114455994), (2444, 0.0063286403892927594), (1699, 0.006326112112423931), (1118, 0.006325767920815575), (1954, 0.006325648517157893), (4621, 0.006324523868980854), (1490, 0.006318402843343619), (3297, 0.006315770661567952), (3799, 0.006308507867132466), (856, 0.006300254906788138), (111, 0.006299088601159268), (303, 0.006296255626128268), (2320, 0.0062932504369067315), (1790, 0.006291439094419916), (1143, 0.006290927394384501), (685, 0.006287907258385067), (622, 0.00628502110160569), (3842, 0.006282752991144883), (844, 0.0062810355356068695), (3316, 0.006277838751300602), (2156, 0.006277295637029678), (580, 0.006275664376412785), (1991, 0.006274382162237325), (205, 0.006274168440923415), (387, 0.00627400690606515), (1757, 0.006267542895319353), (1617, 0.006262542585286621), (240, 0.006261556988826712), (3816, 0.006261476641107967), (4072, 0.00625985631686932), (41, 0.006257665681666991), (1254, 0.006257118890571684), (4549, 0.006254786861622317), (224, 0.006253026293671306), (1319, 0.006252665101825685), (828, 0.006252113769161827), (188, 0.006251866984271315), (702, 0.006251413507790288), (956, 0.006251270936555786), (1339, 0.006250855074278686), (523, 0.0062505346023031035), (2046, 0.006248097788033227), (1285, 0.0062477392067858215), (863, 0.006247338243154464), (1515, 0.006245494923974733), (1432, 0.006240750234330628), (1073, 0.0062398465887250195), (290, 0.006235728005440934), (153, 0.006235316720145485), (304, 0.006233940219981588), (511, 0.006232922309665509), (3828, 0.006230436182923121), (654, 0.006225827469680447), (320, 0.006224734237896757), (3849, 0.006220489352543187), (808, 0.0062186244257999195), (480, 0.006217928944592308), (432, 0.006216613965941894), (1249, 0.00621574730174873), (873, 0.006214324386083998), (2296, 0.006214280483283462), (3545, 0.0062131967163155145), (507, 0.006213104439262856), (3725, 0.006212574715114489), (3749, 0.006209279522580406), (4230, 0.006209074136196495), (4315, 0.006207741254812154), (807, 0.00620525883071519), (236, 0.006204555666801919), (594, 0.006203106821839445), (229, 0.006194942197314161), (4670, 0.0061912217376018895), (596, 0.006190115141063602), (3873, 0.006186329492772276), (1083, 0.006185077069097643), (1990, 0.0061820032117802445), (657, 0.006178973015103599), (457, 0.006177649804351585), (659, 0.006172776709400114), (2075, 0.006170791377732531), (1043, 0.006169677110094752), (1188, 0.006169501867982937), (169, 0.006168986735780828), (834, 0.006165187295609282), (108, 0.006164279147145158), (3318, 0.00616286672870888), (1284, 0.006161681475480067), (4623, 0.006155114546680806), (149, 0.006152836990667843), (1633, 0.006151932566158411), (1568, 0.006149619286842212), (33, 0.006148944933920657), (1815, 0.006148073534002229), (1457, 0.006146969649648637), (3523, 0.006145911213083763), (1610, 0.006145352932025429), (988, 0.006144330515052909), (3089, 0.006143040530502359), (694, 0.0061401511480194265), (88, 0.006137815340536671), (389, 0.006136321366745801), (18, 0.006135081384865764), (741, 0.006127716157850204), (804, 0.006125992918196607), (3062, 0.006124642493199308), (3606, 0.006122338736450842), (3689, 0.0061219302065426634), (490, 0.006119456852793602), (1302, 0.006115563710216398), (850, 0.006112802648124414), (645, 0.006112790836371861), (653, 0.006111693477090975), (1868, 0.006111521053155379), (508, 0.006110306454665378), (1956, 0.006109771231753065), (640, 0.006108238766337457), (982, 0.006107341014252952), (62, 0.006107091146457725), (112, 0.0061034268434774835), (1334, 0.006103411867064201), (2295, 0.006103026131309929), (2400, 0.006102623751676436), (3040, 0.006101450718862524), (204, 0.006096046848256929), (510, 0.006095653905549974), (544, 0.006091727294211708), (1137, 0.006087515314722908), (2412, 0.006087420310932721), (260, 0.006086425602340791), (4349, 0.0060835761879759025), (257, 0.006081720415496976), (4465, 0.006076421081087875), (3336, 0.006074152349436826), (3260, 0.006073083970869277), (1577, 0.006071025900640332), (582, 0.006070012667325499), (1872, 0.006069893701539823), (2675, 0.006069892272804672), (700, 0.006068905105996542), (1234, 0.006068847879606853), (1740, 0.006067708413780978), (1445, 0.006064876752536991), (979, 0.006064773035664113), (182, 0.006064204874734318), (1661, 0.006062812918468928), (28, 0.006060325614810926), (74, 0.006057220262289062), (285, 0.006055845191377317), (1880, 0.006055431783758741), (1395, 0.006052743428368013), (3962, 0.006052289863128634), (755, 0.006048142996407722), (739, 0.006040894175218917), (3290, 0.006039832124799791), (607, 0.006036225536594057), (59, 0.0060322833441645235), (782, 0.006030827007142703), (1742, 0.006029338700987604), (36, 0.006028996327125454), (922, 0.006025000807526436), (1653, 0.006024879094958549), (3740, 0.006024611153459819), (3463, 0.006021804656312839), (487, 0.006020302712427884), (3372, 0.006020133603070047), (1419, 0.006019964041712774), (123, 0.006015055745993904), (3672, 0.006011875053675848), (4012, 0.006011781014791915), (11, 0.00600622932409487), (2471, 0.005999606520982155), (2785, 0.005998558343497766), (992, 0.005998037132961624), (2371, 0.005993861583960731), (150, 0.005991410037889315), (777, 0.005988031963125787), (1027, 0.005987333241842573), (4042, 0.005986590273602734), (99, 0.005985696142497761), (310, 0.005984800803181987), (823, 0.005984740891521351), (945, 0.005983776327638872), (3142, 0.005982796487751027), (212, 0.0059821260223354485), (2293, 0.005979547910904473), (2775, 0.005975905167774177), (70, 0.005975794268772262), (590, 0.0059741880489011055), (68, 0.005968712718655544), (16, 0.005966209309713926), (2609, 0.005965967150235486), (1279, 0.005964410694243886), (424, 0.00596425135932346), (2625, 0.005961990528025771), (1615, 0.005958352437449818), (1596, 0.005956539946571954), (2827, 0.005955484339676932), (3165, 0.0059532779045088245), (2398, 0.005952525807432866), (1510, 0.005948556760991999), (1470, 0.005944180978918577), (402, 0.00594410208077823), (1158, 0.005943843570544931), (1200, 0.005943643213887353), (79, 0.005943088363160516), (644, 0.00594139556037353), (500, 0.005941195391004108), (1853, 0.005939275321389156), (52, 0.005938594165254484), (1741, 0.00593785778813458), (1910, 0.005937073235685666), (695, 0.005935392334848755), (737, 0.005934861855937967), (4778, 0.005933396717171396), (151, 0.005930345225441913), (3707, 0.005928769372042006), (2389, 0.005927369458332789), (263, 0.005921657922942394), (799, 0.005921466566646467), (207, 0.005920915948828818), (2918, 0.005919450728025699), (1103, 0.005918460579174147), (2244, 0.005916885078387134), (295, 0.005915989845522958), (2959, 0.005913938915798908), (888, 0.005913231947216345), (134, 0.005913110018323774), (1825, 0.005908244396344985), (2129, 0.005907315193607249), (366, 0.005906583022422143), (2288, 0.00590295944433191), (613, 0.005900711215744887), (1854, 0.005897466879193315), (475, 0.005895078396540364), (529, 0.005894814338654167), (2812, 0.005890263961101202), (3184, 0.005890064895495079), (933, 0.005887318131834697), (621, 0.0058871954368352785), (1702, 0.005886419066387502), (2074, 0.0058803280490623815), (2683, 0.0058800127755817356), (1294, 0.005878105148668112), (2565, 0.005875499365190137), (1720, 0.005873824341598504), (969, 0.005871540307732304), (3965, 0.0058684763503179735), (1573, 0.0058673935366199805), (1645, 0.005864978789155028), (307, 0.005859312307447482), (2161, 0.0058509488681251585), (361, 0.005850671770177873), (840, 0.005843092012560261), (634, 0.005843039459013263), (3591, 0.00584057892850898), (2645, 0.0058375476231708546), (989, 0.005834394756036234), (951, 0.0058330155873268265), (2277, 0.005831842777550293), (24, 0.005824935678822115), (880, 0.005820727554147384), (75, 0.0058157912392123815), (893, 0.005815477474589469), (4099, 0.005815283310966463), (658, 0.005812899204431534), (604, 0.005812688780013629), (2644, 0.005809504339880038), (3505, 0.00580685114491764), (3349, 0.005806222107360646), (93, 0.005806044120535504), (342, 0.005805772328281407), (2978, 0.005804223274899288), (2995, 0.005803573224957756), (3942, 0.005803474840273313), (542, 0.0058029970157334335), (955, 0.005800722969356677), (790, 0.005796674271629643), (483, 0.005796290114030663), (1507, 0.005790746003081847), (2050, 0.005788905946955278), (950, 0.00578716855103125), (1271, 0.005786704347450127), (1542, 0.005785248116189776), (1447, 0.005782594554837867), (2195, 0.0057794588083516), (568, 0.005778879285766238), (2085, 0.005777182283294456), (39, 0.00577668886123767), (1482, 0.0057762088627100585), (560, 0.005775987905793391), (3833, 0.005775531370174633), (676, 0.005770336402718677), (4402, 0.005769807399332322), (2558, 0.005768048492153495), (2388, 0.005767592686980344), (4339, 0.0057673947061482505), (2054, 0.005764301442387295), (383, 0.005762901605815758), (337, 0.005760480679405739), (687, 0.005760075304924526), (1195, 0.0057562419500350485), (531, 0.005755912501872811), (1465, 0.005754372591536721), (2140, 0.005751938679961658), (571, 0.005751042264919307), (2181, 0.005750893681487372), (2327, 0.00575078314486888), (1513, 0.005750772795364074), (788, 0.005749184533343792), (920, 0.005743967472991281), (392, 0.0057435844247859455), (228, 0.005740122070639986), (1006, 0.005739265951877371), (3516, 0.005731197786427558), (503, 0.005728741395215579), (1491, 0.0057279269825968315), (2023, 0.00572523518576667), (1303, 0.00572370346076369), (1431, 0.005718736959307808), (3382, 0.005717853815398131), (376, 0.00571747219320353), (174, 0.005717317510068805), (116, 0.005712846021016572), (2573, 0.005711199912384848), (2712, 0.005711174182292363), (152, 0.005708816887764203), (3074, 0.0057054668857307225), (1058, 0.005703544512736873), (1082, 0.005693508582165304), (4077, 0.005684886293843594), (273, 0.005684150625224886), (1093, 0.005681018093405355), (237, 0.005679669233535375), (1104, 0.005674896111342957), (1096, 0.0056742161410333995), (833, 0.00567225026800134), (1484, 0.005668508057164917), (2194, 0.005666353300182946), (1100, 0.0056646307944134555), (1097, 0.005658237081654762), (929, 0.005657674794178362), (2155, 0.005656311678857081), (2229, 0.0056461262543578685), (708, 0.005643127418347575), (2386, 0.005639607485903483), (577, 0.005639004703889041), (147, 0.005638421615168685), (1635, 0.005637080098885286), (691, 0.005632390653770974), (2291, 0.005628898870304532), (1973, 0.005624472189031005), (1538, 0.0056243015066480525), (1155, 0.0056236198334765645), (2372, 0.005623266906665297), (186, 0.0056227728979708035), (27, 0.005620738220561618), (2863, 0.005619252207482961), (1201, 0.005616433173983935), (1079, 0.005616221586232263), (291, 0.005613909108961658), (615, 0.005613079794830875), (1664, 0.005608256018880721), (1044, 0.005607884084618403), (1175, 0.005605554726131261), (4114, 0.0056036953455412646), (745, 0.005603612109607671), (2349, 0.005601631756604763), (412, 0.005600583721486808), (1332, 0.005598885801323494), (3030, 0.005597388566617028), (156, 0.005591877784980036), (959, 0.0055905876167338525), (469, 0.005587231304147872), (3305, 0.005587098722056893), (3416, 0.005575925157531684), (1361, 0.005574017760218534), (4135, 0.0055707236400123015), (278, 0.0055685988925623835), (442, 0.005567187554667544), (125, 0.005565867945177897), (4275, 0.005558995900732683), (1428, 0.0055532669680771795), (595, 0.005551541701858351), (1625, 0.005546675791985514), (3309, 0.005542084746170814), (1765, 0.005540946546335192), (3758, 0.005540580055916885), (4327, 0.005540170064379542), (2346, 0.005538215835071447), (2736, 0.005536400793330491), (312, 0.005533574429912596), (535, 0.005530732836954856), (216, 0.005530596491451813), (1034, 0.005526996400953884), (1077, 0.005515461422715166), (1830, 0.005503261734066225), (2781, 0.00550145974087537), (2803, 0.005498351072081301), (3148, 0.005497519494819569), (1771, 0.005496767557410868), (3001, 0.005489013067193498), (3617, 0.005488466102786645), (3424, 0.005486804837017947), (1892, 0.005486119409236835), (761, 0.005478458282245802), (3035, 0.005477532532970792), (794, 0.005474938825203741), (1450, 0.005474742437699745), (1281, 0.005467797613806892), (736, 0.00546036431339596), (680, 0.005454791864412301), (3158, 0.005454174517166976), (854, 0.005446902682043311), (3221, 0.005441726669107778), (245, 0.005432850286313393), (456, 0.005430570386698204), (3722, 0.0054296642014023625), (2579, 0.005427407427656876), (3518, 0.005423268172062617), (1697, 0.005423232438031028), (914, 0.005421287776790423), (1848, 0.00542078977963676), (683, 0.0054178112374987765), (2200, 0.005414677815229434), (3579, 0.005411009635905384), (586, 0.005402525129699846), (528, 0.005401119467257423), (21, 0.00539884613017775), (491, 0.005396335515702033), (3477, 0.005395050429404965), (1106, 0.005393517836259762), (2486, 0.005392600458447754), (1056, 0.005390396377868012), (1672, 0.005388344445459121), (610, 0.005387998622691036), (973, 0.005387104911215679), (1907, 0.005384187558445582), (3966, 0.0053796245873598955), (2007, 0.005376364929103553), (581, 0.005375626522651084), (4316, 0.005369668603283287), (994, 0.005368906715731447), (830, 0.005366410491730557), (556, 0.005363332546651773), (308, 0.005362012636971002), (3138, 0.00536098662591144), (3350, 0.0053604605531929325), (665, 0.005360041644232491), (930, 0.005355331462980089), (4353, 0.0053489520345573385), (244, 0.0053427812561869445), (1174, 0.0053416993869115), (1052, 0.005330227161737878), (233, 0.005323459674219346), (4071, 0.0053226472804450975), (230, 0.0053225679456226265), (3259, 0.005320524548003567), (1459, 0.005307178009691409), (1517, 0.0052997434080996626), (267, 0.005296107945325729), (2474, 0.005290015455163374), (170, 0.005281348544770016), (1290, 0.005270469795914772), (1270, 0.005266946852844871), (3136, 0.00525841752680038), (629, 0.005254909161176815), (2253, 0.005250775652034445), (2435, 0.005246812574767023), (2747, 0.005245404708623329), (4013, 0.005243959457006674), (353, 0.005242551386865241), (1437, 0.005235422994151095), (1795, 0.005233560777874556), (3851, 0.00523110038310612), (4727, 0.005225860508030179), (2860, 0.0052229192323689135), (1721, 0.00521496451378174), (2111, 0.005213685631602367), (2639, 0.005213277387323537), (1177, 0.005200360656253608), (2066, 0.005194508268819156), (1608, 0.005183255877247221), (1715, 0.005173634794326066), (1827, 0.005170433266211688), (3460, 0.005168246640022942), (1735, 0.00516556716595912), (513, 0.005165325120356441), (2912, 0.005156724698995681), (300, 0.005156578855770834), (4193, 0.005154092948045264), (253, 0.005148751194239952), (3133, 0.00514089012537403), (4220, 0.005140705963788489), (1140, 0.005139088854213836), (4189, 0.005138087413238686), (1955, 0.005137024166426021), (3274, 0.0051339679363139185), (1286, 0.005130934256542328), (3603, 0.005129281839950701), (1995, 0.005128228888902197), (2221, 0.005095385154211058), (1003, 0.005089112576623097), (2853, 0.005087067824516132), (1412, 0.005080708294615568), (2602, 0.005077933191512031), (2681, 0.005073940796314851), (4344, 0.005072558695166985), (3209, 0.005070164226939554), (1456, 0.005068892340042282), (371, 0.00505493657221793), (2641, 0.0050540223505769494), (2429, 0.005052325752248017), (1531, 0.0050505428372272804), (541, 0.005049970147119312), (1298, 0.005043011321018489), (2986, 0.005026869032893159), (2819, 0.005017415562607445), (3370, 0.005016203174835804), (340, 0.005014451056950109), (939, 0.005013876617728741), (4215, 0.005010320560337291), (2013, 0.00500104268523992), (1008, 0.004996347921257559), (1837, 0.004991938593253584), (3162, 0.004982617120973855), (4507, 0.00497829686606478), (51, 0.004977115155823189), (711, 0.0049741792804315985), (3143, 0.004973784948840067), (3884, 0.00496707944652126), (1670, 0.004954665023770056), (4563, 0.004949710706380878), (2057, 0.00494645322312759), (2704, 0.004930292236375729), (2657, 0.004928105344271542), (411, 0.004913988972962394), (3231, 0.004898458414774097), (3008, 0.004894921272140115), (1404, 0.004871220743862228), (3764, 0.004846316877680604), (3099, 0.0048317027606231185), (1817, 0.004827222436926554), (2209, 0.00482534202035883), (2868, 0.004822883208360085), (2515, 0.00479167660159637), (718, 0.004791597586651668), (3417, 0.004778044731462014), (405, 0.004768797461155546), (4535, 0.004745971673084174), (1153, 0.004744253042236501), (1877, 0.00473218461230526), (1018, 0.0047251773503400665), (2016, 0.004687191231431036), (2336, 0.004652293240233775), (2026, 0.004648326075791863), (97, 0.004647529417928816), (2806, 0.004611025349524205), (4176, 0.004587003767780768), (4078, 0.004579870616354671), (2757, 0.00456138646598663), (2357, 0.004540451270159053), (3553, 0.0044910959150547426), (2784, 0.004438757347492397), (1304, 0.004301745844932262), (4701, 0.00425931492327067), (4312, 0.004229850151354309), (6, 0.0), (34, 0.0), (40, 0.0), (42, 0.0), (54, 0.0), (57, 0.0), (60, 0.0), (66, 0.0), (67, 0.0), (69, 0.0), (77, 0.0), (89, 0.0), (95, 0.0), (110, 0.0), (120, 0.0), (124, 0.0), (128, 0.0), (130, 0.0), (136, 0.0), (137, 0.0), (141, 0.0), (142, 0.0), (144, 0.0), (145, 0.0), (146, 0.0), (155, 0.0), (173, 0.0), (176, 0.0), (179, 0.0), (181, 0.0), (185, 0.0), (189, 0.0), (190, 0.0), (192, 0.0), (194, 0.0), (200, 0.0), (201, 0.0), (202, 0.0), (220, 0.0), (221, 0.0), (247, 0.0), (250, 0.0), (251, 0.0), (255, 0.0), (264, 0.0), (269, 0.0), (270, 0.0), (272, 0.0), (280, 0.0), (281, 0.0), (283, 0.0), (284, 0.0), (287, 0.0), (288, 0.0), (298, 0.0), (301, 0.0), (306, 0.0), (313, 0.0), (314, 0.0), (316, 0.0), (317, 0.0), (321, 0.0), (323, 0.0), (325, 0.0), (333, 0.0), (338, 0.0), (343, 0.0), (348, 0.0), (351, 0.0), (352, 0.0), (354, 0.0), (357, 0.0), (359, 0.0), (360, 0.0), (367, 0.0), (373, 0.0), (374, 0.0), (378, 0.0), (380, 0.0), (384, 0.0), (385, 0.0), (388, 0.0), (393, 0.0), (395, 0.0), (398, 0.0), (399, 0.0), (401, 0.0), (404, 0.0), (409, 0.0), (414, 0.0), (421, 0.0), (422, 0.0), (427, 0.0), (429, 0.0), (434, 0.0), (438, 0.0), (439, 0.0), (440, 0.0), (441, 0.0), (445, 0.0), (450, 0.0), (454, 0.0), (458, 0.0), (461, 0.0), (462, 0.0), (463, 0.0), (474, 0.0), (477, 0.0), (479, 0.0), (481, 0.0), (482, 0.0), (484, 0.0), (489, 0.0), (492, 0.0), (493, 0.0), (497, 0.0), (498, 0.0), (502, 0.0), (504, 0.0), (506, 0.0), (509, 0.0), (514, 0.0), (515, 0.0), (519, 0.0), (520, 0.0), (521, 0.0), (522, 0.0), (524, 0.0), (526, 0.0), (527, 0.0), (536, 0.0), (538, 0.0), (545, 0.0), (548, 0.0), (549, 0.0), (550, 0.0), (551, 0.0), (552, 0.0), (554, 0.0), (558, 0.0), (562, 0.0), (564, 0.0), (566, 0.0), (567, 0.0), (569, 0.0), (575, 0.0), (585, 0.0), (588, 0.0), (592, 0.0), (598, 0.0), (599, 0.0), (603, 0.0), (605, 0.0), (606, 0.0), (608, 0.0), (614, 0.0), (617, 0.0), (619, 0.0), (620, 0.0), (623, 0.0), (625, 0.0), (626, 0.0), (628, 0.0), (632, 0.0), (635, 0.0), (637, 0.0), (638, 0.0), (641, 0.0), (642, 0.0), (647, 0.0), (649, 0.0), (650, 0.0), (651, 0.0), (652, 0.0), (656, 0.0), (662, 0.0), (663, 0.0), (667, 0.0), (669, 0.0), (670, 0.0), (673, 0.0), (682, 0.0), (688, 0.0), (689, 0.0), (693, 0.0), (697, 0.0), (699, 0.0), (703, 0.0), (704, 0.0), (705, 0.0), (706, 0.0), (707, 0.0), (714, 0.0), (717, 0.0), (719, 0.0), (720, 0.0), (721, 0.0), (722, 0.0), (723, 0.0), (725, 0.0), (726, 0.0), (727, 0.0), (729, 0.0), (733, 0.0), (734, 0.0), (738, 0.0), (748, 0.0), (749, 0.0), (751, 0.0), (752, 0.0), (756, 0.0), (757, 0.0), (758, 0.0), (760, 0.0), (763, 0.0), (765, 0.0), (766, 0.0), (769, 0.0), (771, 0.0), (772, 0.0), (778, 0.0), (779, 0.0), (780, 0.0), (783, 0.0), (785, 0.0), (789, 0.0), (793, 0.0), (795, 0.0), (796, 0.0), (801, 0.0), (802, 0.0), (806, 0.0), (809, 0.0), (817, 0.0), (819, 0.0), (822, 0.0), (829, 0.0), (835, 0.0), (839, 0.0), (841, 0.0), (842, 0.0), (843, 0.0), (845, 0.0), (847, 0.0), (848, 0.0), (851, 0.0), (853, 0.0), (855, 0.0), (857, 0.0), (860, 0.0), (865, 0.0), (869, 0.0), (871, 0.0), (874, 0.0), (875, 0.0), (876, 0.0), (877, 0.0), (878, 0.0), (879, 0.0), (881, 0.0), (882, 0.0), (883, 0.0), (884, 0.0), (885, 0.0), (886, 0.0), (887, 0.0), (889, 0.0), (890, 0.0), (891, 0.0), (895, 0.0), (897, 0.0), (900, 0.0), (901, 0.0), (902, 0.0), (905, 0.0), (906, 0.0), (907, 0.0), (908, 0.0), (909, 0.0), (910, 0.0), (913, 0.0), (915, 0.0), (916, 0.0), (921, 0.0), (923, 0.0), (924, 0.0), (925, 0.0), (926, 0.0), (927, 0.0), (928, 0.0), (934, 0.0), (936, 0.0), (940, 0.0), (942, 0.0), (943, 0.0), (944, 0.0), (947, 0.0), (948, 0.0), (949, 0.0), (954, 0.0), (957, 0.0), (958, 0.0), (960, 0.0), (961, 0.0), (965, 0.0), (966, 0.0), (968, 0.0), (970, 0.0), (971, 0.0), (974, 0.0), (975, 0.0), (980, 0.0), (983, 0.0), (987, 0.0), (990, 0.0), (991, 0.0), (996, 0.0), (997, 0.0), (998, 0.0), (999, 0.0), (1005, 0.0), (1007, 0.0), (1009, 0.0), (1010, 0.0), (1011, 0.0), (1013, 0.0), (1014, 0.0), (1015, 0.0), (1021, 0.0), (1022, 0.0), (1023, 0.0), (1025, 0.0), (1026, 0.0), (1030, 0.0), (1031, 0.0), (1032, 0.0), (1033, 0.0), (1036, 0.0), (1037, 0.0), (1038, 0.0), (1039, 0.0), (1045, 0.0), (1047, 0.0), (1048, 0.0), (1051, 0.0), (1057, 0.0), (1059, 0.0), (1060, 0.0), (1061, 0.0), (1062, 0.0), (1066, 0.0), (1067, 0.0), (1069, 0.0), (1071, 0.0), (1072, 0.0), (1075, 0.0), (1080, 0.0), (1087, 0.0), (1088, 0.0), (1092, 0.0), (1094, 0.0), (1098, 0.0), (1102, 0.0), (1105, 0.0), (1108, 0.0), (1112, 0.0), (1113, 0.0), (1115, 0.0), (1117, 0.0), (1120, 0.0), (1121, 0.0), (1122, 0.0), (1123, 0.0), (1125, 0.0), (1127, 0.0), (1128, 0.0), (1129, 0.0), (1130, 0.0), (1135, 0.0), (1141, 0.0), (1142, 0.0), (1147, 0.0), (1148, 0.0), (1149, 0.0), (1151, 0.0), (1156, 0.0), (1157, 0.0), (1159, 0.0), (1161, 0.0), (1162, 0.0), (1163, 0.0), (1164, 0.0), (1165, 0.0), (1166, 0.0), (1167, 0.0), (1168, 0.0), (1169, 0.0), (1170, 0.0), (1171, 0.0), (1172, 0.0), (1173, 0.0), (1179, 0.0), (1180, 0.0), (1181, 0.0), (1182, 0.0), (1184, 0.0), (1185, 0.0), (1186, 0.0), (1187, 0.0), (1189, 0.0), (1190, 0.0), (1194, 0.0), (1196, 0.0), (1197, 0.0), (1198, 0.0), (1202, 0.0), (1203, 0.0), (1204, 0.0), (1205, 0.0), (1207, 0.0), (1209, 0.0), (1210, 0.0), (1211, 0.0), (1214, 0.0), (1215, 0.0), (1216, 0.0), (1217, 0.0), (1218, 0.0), (1219, 0.0), (1221, 0.0), (1222, 0.0), (1223, 0.0), (1224, 0.0), (1226, 0.0), (1227, 0.0), (1228, 0.0), (1229, 0.0), (1231, 0.0), (1232, 0.0), (1235, 0.0), (1236, 0.0), (1240, 0.0), (1241, 0.0), (1242, 0.0), (1243, 0.0), (1248, 0.0), (1250, 0.0), (1257, 0.0), (1258, 0.0), (1260, 0.0), (1261, 0.0), (1263, 0.0), (1264, 0.0), (1265, 0.0), (1268, 0.0), (1280, 0.0), (1283, 0.0), (1292, 0.0), (1293, 0.0), (1295, 0.0), (1297, 0.0), (1299, 0.0), (1300, 0.0), (1301, 0.0), (1305, 0.0), (1307, 0.0), (1308, 0.0), (1309, 0.0), (1311, 0.0), (1312, 0.0), (1313, 0.0), (1314, 0.0), (1315, 0.0), (1316, 0.0), (1318, 0.0), (1323, 0.0), (1325, 0.0), (1326, 0.0), (1327, 0.0), (1328, 0.0), (1329, 0.0), (1330, 0.0), (1333, 0.0), (1335, 0.0), (1336, 0.0), (1338, 0.0), (1340, 0.0), (1344, 0.0), (1345, 0.0), (1346, 0.0), (1348, 0.0), (1350, 0.0), (1351, 0.0), (1352, 0.0), (1353, 0.0), (1354, 0.0), (1355, 0.0), (1356, 0.0), (1358, 0.0), (1360, 0.0), (1362, 0.0), (1366, 0.0), (1368, 0.0), (1369, 0.0), (1370, 0.0), (1371, 0.0), (1372, 0.0), (1378, 0.0), (1379, 0.0), (1381, 0.0), (1382, 0.0), (1383, 0.0), (1385, 0.0), (1386, 0.0), (1387, 0.0), (1388, 0.0), (1389, 0.0), (1391, 0.0), (1392, 0.0), (1393, 0.0), (1396, 0.0), (1397, 0.0), (1400, 0.0), (1401, 0.0), (1403, 0.0), (1406, 0.0), (1407, 0.0), (1410, 0.0), (1413, 0.0), (1414, 0.0), (1418, 0.0), (1422, 0.0), (1424, 0.0), (1426, 0.0), (1433, 0.0), (1436, 0.0), (1441, 0.0), (1442, 0.0), (1444, 0.0), (1454, 0.0), (1458, 0.0), (1460, 0.0), (1462, 0.0), (1464, 0.0), (1468, 0.0), (1473, 0.0), (1474, 0.0), (1475, 0.0), (1476, 0.0), (1478, 0.0), (1480, 0.0), (1487, 0.0), (1489, 0.0), (1492, 0.0), (1493, 0.0), (1498, 0.0), (1499, 0.0), (1501, 0.0), (1502, 0.0), (1504, 0.0), (1508, 0.0), (1509, 0.0), (1511, 0.0), (1512, 0.0), (1516, 0.0), (1521, 0.0), (1522, 0.0), (1526, 0.0), (1527, 0.0), (1529, 0.0), (1530, 0.0), (1532, 0.0), (1535, 0.0), (1536, 0.0), (1537, 0.0), (1539, 0.0), (1540, 0.0), (1541, 0.0), (1544, 0.0), (1545, 0.0), (1547, 0.0), (1548, 0.0), (1550, 0.0), (1551, 0.0), (1552, 0.0), (1553, 0.0), (1554, 0.0), (1555, 0.0), (1557, 0.0), (1561, 0.0), (1562, 0.0), (1563, 0.0), (1564, 0.0), (1565, 0.0), (1566, 0.0), (1571, 0.0), (1572, 0.0), (1574, 0.0), (1575, 0.0), (1576, 0.0), (1580, 0.0), (1581, 0.0), (1582, 0.0), (1585, 0.0), (1587, 0.0), (1588, 0.0), (1589, 0.0), (1593, 0.0), (1600, 0.0), (1601, 0.0), (1602, 0.0), (1605, 0.0), (1607, 0.0), (1609, 0.0), (1614, 0.0), (1618, 0.0), (1620, 0.0), (1621, 0.0), (1622, 0.0), (1624, 0.0), (1627, 0.0), (1629, 0.0), (1630, 0.0), (1631, 0.0), (1632, 0.0), (1634, 0.0), (1638, 0.0), (1639, 0.0), (1640, 0.0), (1641, 0.0), (1642, 0.0), (1644, 0.0), (1646, 0.0), (1647, 0.0), (1648, 0.0), (1649, 0.0), (1651, 0.0), (1655, 0.0), (1656, 0.0), (1659, 0.0), (1660, 0.0), (1662, 0.0), (1665, 0.0), (1666, 0.0), (1673, 0.0), (1674, 0.0), (1676, 0.0), (1677, 0.0), (1679, 0.0), (1681, 0.0), (1683, 0.0), (1685, 0.0), (1689, 0.0), (1690, 0.0), (1691, 0.0), (1692, 0.0), (1696, 0.0), (1698, 0.0), (1700, 0.0), (1703, 0.0), (1704, 0.0), (1705, 0.0), (1706, 0.0), (1708, 0.0), (1709, 0.0), (1710, 0.0), (1712, 0.0), (1714, 0.0), (1716, 0.0), (1717, 0.0), (1722, 0.0), (1724, 0.0), (1726, 0.0), (1729, 0.0), (1730, 0.0), (1736, 0.0), (1738, 0.0), (1739, 0.0), (1744, 0.0), (1745, 0.0), (1752, 0.0), (1754, 0.0), (1755, 0.0), (1756, 0.0), (1758, 0.0), (1760, 0.0), (1762, 0.0), (1763, 0.0), (1766, 0.0), (1767, 0.0), (1770, 0.0), (1772, 0.0), (1773, 0.0), (1774, 0.0), (1775, 0.0), (1776, 0.0), (1778, 0.0), (1779, 0.0), (1780, 0.0), (1781, 0.0), (1782, 0.0), (1784, 0.0), (1785, 0.0), (1786, 0.0), (1788, 0.0), (1791, 0.0), (1794, 0.0), (1797, 0.0), (1798, 0.0), (1801, 0.0), (1803, 0.0), (1805, 0.0), (1807, 0.0), (1808, 0.0), (1809, 0.0), (1810, 0.0), (1811, 0.0), (1814, 0.0), (1818, 0.0), (1819, 0.0), (1820, 0.0), (1824, 0.0), (1828, 0.0), (1829, 0.0), (1832, 0.0), (1835, 0.0), (1838, 0.0), (1840, 0.0), (1841, 0.0), (1843, 0.0), (1846, 0.0), (1847, 0.0), (1852, 0.0), (1855, 0.0), (1857, 0.0), (1861, 0.0), (1862, 0.0), (1863, 0.0), (1864, 0.0), (1866, 0.0), (1867, 0.0), (1869, 0.0), (1870, 0.0), (1873, 0.0), (1875, 0.0), (1876, 0.0), (1881, 0.0), (1882, 0.0), (1883, 0.0), (1884, 0.0), (1885, 0.0), (1886, 0.0), (1888, 0.0), (1889, 0.0), (1891, 0.0), (1895, 0.0), (1896, 0.0), (1901, 0.0), (1903, 0.0), (1904, 0.0), (1909, 0.0), (1911, 0.0), (1912, 0.0), (1916, 0.0), (1919, 0.0), (1921, 0.0), (1923, 0.0), (1924, 0.0), (1925, 0.0), (1926, 0.0), (1927, 0.0), (1929, 0.0), (1931, 0.0), (1934, 0.0), (1935, 0.0), (1938, 0.0), (1940, 0.0), (1941, 0.0), (1943, 0.0), (1944, 0.0), (1945, 0.0), (1946, 0.0), (1947, 0.0), (1948, 0.0), (1950, 0.0), (1951, 0.0), (1952, 0.0), (1957, 0.0), (1961, 0.0), (1963, 0.0), (1965, 0.0), (1966, 0.0), (1968, 0.0), (1969, 0.0), (1970, 0.0), (1971, 0.0), (1972, 0.0), (1975, 0.0), (1979, 0.0), (1980, 0.0), (1981, 0.0), (1982, 0.0), (1983, 0.0), (1985, 0.0), (1988, 0.0), (1989, 0.0), (1992, 0.0), (1997, 0.0), (1998, 0.0), (2000, 0.0), (2003, 0.0), (2004, 0.0), (2005, 0.0), (2009, 0.0), (2010, 0.0), (2011, 0.0), (2014, 0.0), (2015, 0.0), (2018, 0.0), (2021, 0.0), (2022, 0.0), (2024, 0.0), (2025, 0.0), (2027, 0.0), (2028, 0.0), (2031, 0.0), (2032, 0.0), (2033, 0.0), (2035, 0.0), (2037, 0.0), (2041, 0.0), (2042, 0.0), (2044, 0.0), (2045, 0.0), (2048, 0.0), (2051, 0.0), (2052, 0.0), (2056, 0.0), (2058, 0.0), (2059, 0.0), (2061, 0.0), (2063, 0.0), (2064, 0.0), (2065, 0.0), (2067, 0.0), (2070, 0.0), (2071, 0.0), (2072, 0.0), (2073, 0.0), (2076, 0.0), (2078, 0.0), (2079, 0.0), (2080, 0.0), (2081, 0.0), (2082, 0.0), (2083, 0.0), (2086, 0.0), (2087, 0.0), (2088, 0.0), (2090, 0.0), (2091, 0.0), (2092, 0.0), (2094, 0.0), (2097, 0.0), (2098, 0.0), (2099, 0.0), (2101, 0.0), (2102, 0.0), (2103, 0.0), (2104, 0.0), (2105, 0.0), (2106, 0.0), (2107, 0.0), (2110, 0.0), (2112, 0.0), (2113, 0.0), (2115, 0.0), (2116, 0.0), (2117, 0.0), (2119, 0.0), (2120, 0.0), (2121, 0.0), (2123, 0.0), (2124, 0.0), (2125, 0.0), (2126, 0.0), (2128, 0.0), (2130, 0.0), (2132, 0.0), (2134, 0.0), (2135, 0.0), (2137, 0.0), (2138, 0.0), (2143, 0.0), (2145, 0.0), (2146, 0.0), (2148, 0.0), (2150, 0.0), (2153, 0.0), (2158, 0.0), (2159, 0.0), (2160, 0.0), (2162, 0.0), (2164, 0.0), (2168, 0.0), (2170, 0.0), (2171, 0.0), (2172, 0.0), (2173, 0.0), (2174, 0.0), (2176, 0.0), (2177, 0.0), (2178, 0.0), (2179, 0.0), (2180, 0.0), (2182, 0.0), (2186, 0.0), (2190, 0.0), (2191, 0.0), (2192, 0.0), (2193, 0.0), (2197, 0.0), (2199, 0.0), (2202, 0.0), (2204, 0.0), (2208, 0.0), (2211, 0.0), (2213, 0.0), (2214, 0.0), (2216, 0.0), (2217, 0.0), (2220, 0.0), (2223, 0.0), (2224, 0.0), (2225, 0.0), (2226, 0.0), (2227, 0.0), (2231, 0.0), (2232, 0.0), (2233, 0.0), (2234, 0.0), (2235, 0.0), (2236, 0.0), (2238, 0.0), (2240, 0.0), (2241, 0.0), (2243, 0.0), (2246, 0.0), (2248, 0.0), (2249, 0.0), (2251, 0.0), (2252, 0.0), (2254, 0.0), (2256, 0.0), (2257, 0.0), (2259, 0.0), (2261, 0.0), (2265, 0.0), (2269, 0.0), (2270, 0.0), (2271, 0.0), (2272, 0.0), (2273, 0.0), (2275, 0.0), (2276, 0.0), (2279, 0.0), (2280, 0.0), (2281, 0.0), (2282, 0.0), (2283, 0.0), (2284, 0.0), (2285, 0.0), (2286, 0.0), (2287, 0.0), (2289, 0.0), (2290, 0.0), (2292, 0.0), (2297, 0.0), (2299, 0.0), (2300, 0.0), (2301, 0.0), (2302, 0.0), (2304, 0.0), (2308, 0.0), (2318, 0.0), (2319, 0.0), (2321, 0.0), (2322, 0.0), (2323, 0.0), (2324, 0.0), (2325, 0.0), (2326, 0.0), (2328, 0.0), (2329, 0.0), (2330, 0.0), (2331, 0.0), (2332, 0.0), (2334, 0.0), (2335, 0.0), (2337, 0.0), (2339, 0.0), (2341, 0.0), (2342, 0.0), (2344, 0.0), (2345, 0.0), (2347, 0.0), (2350, 0.0), (2351, 0.0), (2353, 0.0), (2355, 0.0), (2358, 0.0), (2359, 0.0), (2362, 0.0), (2363, 0.0), (2364, 0.0), (2365, 0.0), (2374, 0.0), (2376, 0.0), (2377, 0.0), (2378, 0.0), (2379, 0.0), (2383, 0.0), (2384, 0.0), (2385, 0.0), (2387, 0.0), (2391, 0.0), (2393, 0.0), (2395, 0.0), (2396, 0.0), (2397, 0.0), (2399, 0.0), (2404, 0.0), (2405, 0.0), (2407, 0.0), (2408, 0.0), (2409, 0.0), (2410, 0.0), (2411, 0.0), (2414, 0.0), (2415, 0.0), (2417, 0.0), (2420, 0.0), (2421, 0.0), (2422, 0.0), (2423, 0.0), (2425, 0.0), (2426, 0.0), (2428, 0.0), (2430, 0.0), (2431, 0.0), (2436, 0.0), (2437, 0.0), (2439, 0.0), (2440, 0.0), (2441, 0.0), (2443, 0.0), (2445, 0.0), (2446, 0.0), (2447, 0.0), (2451, 0.0), (2452, 0.0), (2453, 0.0), (2454, 0.0), (2455, 0.0), (2457, 0.0), (2460, 0.0), (2461, 0.0), (2463, 0.0), (2467, 0.0), (2468, 0.0), (2472, 0.0), (2473, 0.0), (2477, 0.0), (2478, 0.0), (2479, 0.0), (2480, 0.0), (2481, 0.0), (2482, 0.0), (2483, 0.0), (2484, 0.0), (2485, 0.0), (2487, 0.0), (2488, 0.0), (2496, 0.0), (2497, 0.0), (2500, 0.0), (2501, 0.0), (2502, 0.0), (2503, 0.0), (2504, 0.0), (2505, 0.0), (2507, 0.0), (2511, 0.0), (2512, 0.0), (2513, 0.0), (2518, 0.0), (2519, 0.0), (2520, 0.0), (2522, 0.0), (2523, 0.0), (2524, 0.0), (2526, 0.0), (2527, 0.0), (2528, 0.0), (2531, 0.0), (2534, 0.0), (2535, 0.0), (2537, 0.0), (2538, 0.0), (2539, 0.0), (2541, 0.0), (2542, 0.0), (2544, 0.0), (2545, 0.0), (2546, 0.0), (2548, 0.0), (2550, 0.0), (2551, 0.0), (2552, 0.0), (2553, 0.0), (2555, 0.0), (2557, 0.0), (2559, 0.0), (2560, 0.0), (2562, 0.0), (2566, 0.0), (2567, 0.0), (2569, 0.0), (2570, 0.0), (2572, 0.0), (2574, 0.0), (2576, 0.0), (2582, 0.0), (2584, 0.0), (2585, 0.0), (2589, 0.0), (2590, 0.0), (2591, 0.0), (2593, 0.0), (2594, 0.0), (2595, 0.0), (2596, 0.0), (2599, 0.0), (2600, 0.0), (2601, 0.0), (2603, 0.0), (2604, 0.0), (2607, 0.0), (2608, 0.0), (2610, 0.0), (2612, 0.0), (2613, 0.0), (2615, 0.0), (2616, 0.0), (2618, 0.0), (2619, 0.0), (2620, 0.0), (2621, 0.0), (2622, 0.0), (2623, 0.0), (2624, 0.0), (2626, 0.0), (2629, 0.0), (2630, 0.0), (2631, 0.0), (2632, 0.0), (2634, 0.0), (2635, 0.0), (2636, 0.0), (2637, 0.0), (2638, 0.0), (2640, 0.0), (2642, 0.0), (2643, 0.0), (2647, 0.0), (2653, 0.0), (2656, 0.0), (2658, 0.0), (2660, 0.0), (2662, 0.0), (2663, 0.0), (2664, 0.0), (2666, 0.0), (2667, 0.0), (2668, 0.0), (2669, 0.0), (2670, 0.0), (2671, 0.0), (2672, 0.0), (2673, 0.0), (2676, 0.0), (2677, 0.0), (2679, 0.0), (2680, 0.0), (2684, 0.0), (2687, 0.0), (2688, 0.0), (2689, 0.0), (2690, 0.0), (2692, 0.0), (2693, 0.0), (2694, 0.0), (2695, 0.0), (2697, 0.0), (2698, 0.0), (2699, 0.0), (2701, 0.0), (2703, 0.0), (2705, 0.0), (2707, 0.0), (2709, 0.0), (2710, 0.0), (2711, 0.0), (2713, 0.0), (2714, 0.0), (2715, 0.0), (2716, 0.0), (2718, 0.0), (2719, 0.0), (2720, 0.0), (2723, 0.0), (2724, 0.0), (2725, 0.0), (2726, 0.0), (2727, 0.0), (2729, 0.0), (2730, 0.0), (2731, 0.0), (2732, 0.0), (2733, 0.0), (2734, 0.0), (2737, 0.0), (2738, 0.0), (2739, 0.0), (2740, 0.0), (2741, 0.0), (2742, 0.0), (2743, 0.0), (2744, 0.0), (2745, 0.0), (2746, 0.0), (2748, 0.0), (2751, 0.0), (2752, 0.0), (2754, 0.0), (2755, 0.0), (2758, 0.0), (2759, 0.0), (2760, 0.0), (2761, 0.0), (2764, 0.0), (2765, 0.0), (2766, 0.0), (2767, 0.0), (2768, 0.0), (2770, 0.0), (2771, 0.0), (2772, 0.0), (2773, 0.0), (2774, 0.0), (2776, 0.0), (2778, 0.0), (2779, 0.0), (2780, 0.0), (2782, 0.0), (2783, 0.0), (2786, 0.0), (2787, 0.0), (2788, 0.0), (2789, 0.0), (2791, 0.0), (2795, 0.0), (2796, 0.0), (2798, 0.0), (2799, 0.0), (2800, 0.0), (2802, 0.0), (2804, 0.0), (2807, 0.0), (2808, 0.0), (2809, 0.0), (2811, 0.0), (2813, 0.0), (2814, 0.0), (2816, 0.0), (2817, 0.0), (2818, 0.0), (2820, 0.0), (2822, 0.0), (2823, 0.0), (2824, 0.0), (2825, 0.0), (2828, 0.0), (2829, 0.0), (2830, 0.0), (2831, 0.0), (2832, 0.0), (2833, 0.0), (2834, 0.0), (2836, 0.0), (2837, 0.0), (2839, 0.0), (2840, 0.0), (2841, 0.0), (2842, 0.0), (2843, 0.0), (2844, 0.0), (2847, 0.0), (2848, 0.0), (2849, 0.0), (2850, 0.0), (2852, 0.0), (2854, 0.0), (2855, 0.0), (2857, 0.0), (2858, 0.0), (2859, 0.0), (2861, 0.0), (2862, 0.0), (2866, 0.0), (2869, 0.0), (2870, 0.0), (2871, 0.0), (2872, 0.0), (2873, 0.0), (2874, 0.0), (2876, 0.0), (2877, 0.0), (2878, 0.0), (2880, 0.0), (2881, 0.0), (2882, 0.0), (2883, 0.0), (2887, 0.0), (2888, 0.0), (2891, 0.0), (2893, 0.0), (2894, 0.0), (2895, 0.0), (2896, 0.0), (2897, 0.0), (2898, 0.0), (2900, 0.0), (2901, 0.0), (2902, 0.0), (2903, 0.0), (2904, 0.0), (2905, 0.0), (2906, 0.0), (2907, 0.0), (2908, 0.0), (2910, 0.0), (2913, 0.0), (2915, 0.0), (2917, 0.0), (2919, 0.0), (2920, 0.0), (2923, 0.0), (2924, 0.0), (2925, 0.0), (2926, 0.0), (2927, 0.0), (2929, 0.0), (2930, 0.0), (2932, 0.0), (2935, 0.0), (2936, 0.0), (2937, 0.0), (2938, 0.0), (2939, 0.0), (2940, 0.0), (2942, 0.0), (2943, 0.0), (2945, 0.0), (2946, 0.0), (2947, 0.0), (2948, 0.0), (2949, 0.0), (2950, 0.0), (2951, 0.0), (2952, 0.0), (2953, 0.0), (2954, 0.0), (2956, 0.0), (2958, 0.0), (2961, 0.0), (2962, 0.0), (2963, 0.0), (2964, 0.0), (2966, 0.0), (2968, 0.0), (2969, 0.0), (2970, 0.0), (2971, 0.0), (2973, 0.0), (2975, 0.0), (2976, 0.0), (2977, 0.0), (2981, 0.0), (2982, 0.0), (2983, 0.0), (2984, 0.0), (2985, 0.0), (2987, 0.0), (2988, 0.0), (2990, 0.0), (2991, 0.0), (2992, 0.0), (2993, 0.0), (2994, 0.0), (2999, 0.0), (3000, 0.0), (3002, 0.0), (3003, 0.0), (3005, 0.0), (3009, 0.0), (3010, 0.0), (3011, 0.0), (3016, 0.0), (3017, 0.0), (3018, 0.0), (3019, 0.0), (3022, 0.0), (3023, 0.0), (3024, 0.0), (3025, 0.0), (3026, 0.0), (3027, 0.0), (3028, 0.0), (3031, 0.0), (3036, 0.0), (3038, 0.0), (3039, 0.0), (3041, 0.0), (3042, 0.0), (3043, 0.0), (3045, 0.0), (3047, 0.0), (3049, 0.0), (3050, 0.0), (3052, 0.0), (3053, 0.0), (3055, 0.0), (3056, 0.0), (3057, 0.0), (3059, 0.0), (3060, 0.0), (3061, 0.0), (3063, 0.0), (3066, 0.0), (3068, 0.0), (3069, 0.0), (3070, 0.0), (3071, 0.0), (3072, 0.0), (3075, 0.0), (3076, 0.0), (3078, 0.0), (3079, 0.0), (3080, 0.0), (3082, 0.0), (3083, 0.0), (3084, 0.0), (3085, 0.0), (3088, 0.0), (3090, 0.0), (3091, 0.0), (3092, 0.0), (3093, 0.0), (3094, 0.0), (3095, 0.0), (3096, 0.0), (3097, 0.0), (3100, 0.0), (3101, 0.0), (3102, 0.0), (3103, 0.0), (3104, 0.0), (3105, 0.0), (3107, 0.0), (3108, 0.0), (3109, 0.0), (3111, 0.0), (3112, 0.0), (3113, 0.0), (3114, 0.0), (3115, 0.0), (3116, 0.0), (3117, 0.0), (3118, 0.0), (3119, 0.0), (3120, 0.0), (3121, 0.0), (3122, 0.0), (3123, 0.0), (3125, 0.0), (3127, 0.0), (3129, 0.0), (3131, 0.0), (3132, 0.0), (3134, 0.0), (3135, 0.0), (3137, 0.0), (3139, 0.0), (3140, 0.0), (3141, 0.0), (3145, 0.0), (3147, 0.0), (3149, 0.0), (3150, 0.0), (3152, 0.0), (3156, 0.0), (3157, 0.0), (3159, 0.0), (3160, 0.0), (3161, 0.0), (3163, 0.0), (3164, 0.0), (3166, 0.0), (3167, 0.0), (3168, 0.0), (3170, 0.0), (3171, 0.0), (3173, 0.0), (3174, 0.0), (3175, 0.0), (3178, 0.0), (3179, 0.0), (3181, 0.0), (3182, 0.0), (3185, 0.0), (3186, 0.0), (3187, 0.0), (3189, 0.0), (3190, 0.0), (3191, 0.0), (3192, 0.0), (3193, 0.0), (3195, 0.0), (3196, 0.0), (3197, 0.0), (3199, 0.0), (3200, 0.0), (3201, 0.0), (3202, 0.0), (3203, 0.0), (3204, 0.0), (3205, 0.0), (3206, 0.0), (3207, 0.0), (3210, 0.0), (3211, 0.0), (3212, 0.0), (3213, 0.0), (3215, 0.0), (3216, 0.0), (3217, 0.0), (3218, 0.0), (3219, 0.0), (3220, 0.0), (3222, 0.0), (3223, 0.0), (3225, 0.0), (3226, 0.0), (3227, 0.0), (3228, 0.0), (3229, 0.0), (3230, 0.0), (3232, 0.0), (3234, 0.0), (3235, 0.0), (3236, 0.0), (3238, 0.0), (3240, 0.0), (3241, 0.0), (3242, 0.0), (3243, 0.0), (3244, 0.0), (3245, 0.0), (3246, 0.0), (3247, 0.0), (3248, 0.0), (3249, 0.0), (3253, 0.0), (3254, 0.0), (3255, 0.0), (3256, 0.0), (3258, 0.0), (3263, 0.0), (3264, 0.0), (3266, 0.0), (3267, 0.0), (3268, 0.0), (3269, 0.0), (3271, 0.0), (3272, 0.0), (3273, 0.0), (3275, 0.0), (3278, 0.0), (3280, 0.0), (3282, 0.0), (3283, 0.0), (3285, 0.0), (3287, 0.0), (3288, 0.0), (3289, 0.0), (3291, 0.0), (3292, 0.0), (3294, 0.0), (3295, 0.0), (3296, 0.0), (3298, 0.0), (3300, 0.0), (3301, 0.0), (3303, 0.0), (3307, 0.0), (3308, 0.0), (3310, 0.0), (3312, 0.0), (3314, 0.0), (3315, 0.0), (3317, 0.0), (3320, 0.0), (3321, 0.0), (3323, 0.0), (3324, 0.0), (3325, 0.0), (3327, 0.0), (3328, 0.0), (3330, 0.0), (3331, 0.0), (3333, 0.0), (3334, 0.0), (3338, 0.0), (3339, 0.0), (3341, 0.0), (3344, 0.0), (3346, 0.0), (3347, 0.0), (3348, 0.0), (3353, 0.0), (3356, 0.0), (3357, 0.0), (3360, 0.0), (3362, 0.0), (3363, 0.0), (3365, 0.0), (3368, 0.0), (3369, 0.0), (3371, 0.0), (3374, 0.0), (3375, 0.0), (3376, 0.0), (3379, 0.0), (3380, 0.0), (3383, 0.0), (3384, 0.0), (3387, 0.0), (3388, 0.0), (3389, 0.0), (3391, 0.0), (3392, 0.0), (3393, 0.0), (3394, 0.0), (3395, 0.0), (3396, 0.0), (3397, 0.0), (3398, 0.0), (3400, 0.0), (3401, 0.0), (3403, 0.0), (3404, 0.0), (3407, 0.0), (3409, 0.0), (3410, 0.0), (3411, 0.0), (3413, 0.0), (3414, 0.0), (3415, 0.0), (3418, 0.0), (3419, 0.0), (3420, 0.0), (3421, 0.0), (3422, 0.0), (3423, 0.0), (3425, 0.0), (3426, 0.0), (3428, 0.0), (3431, 0.0), (3433, 0.0), (3434, 0.0), (3435, 0.0), (3436, 0.0), (3441, 0.0), (3443, 0.0), (3444, 0.0), (3446, 0.0), (3447, 0.0), (3449, 0.0), (3451, 0.0), (3452, 0.0), (3453, 0.0), (3454, 0.0), (3455, 0.0), (3456, 0.0), (3457, 0.0), (3458, 0.0), (3459, 0.0), (3461, 0.0), (3462, 0.0), (3464, 0.0), (3465, 0.0), (3467, 0.0), (3469, 0.0), (3470, 0.0), (3471, 0.0), (3472, 0.0), (3473, 0.0), (3474, 0.0), (3475, 0.0), (3476, 0.0), (3478, 0.0), (3480, 0.0), (3481, 0.0), (3482, 0.0), (3483, 0.0), (3484, 0.0), (3486, 0.0), (3487, 0.0), (3488, 0.0), (3489, 0.0), (3492, 0.0), (3496, 0.0), (3497, 0.0), (3498, 0.0), (3499, 0.0), (3501, 0.0), (3502, 0.0), (3503, 0.0), (3504, 0.0), (3506, 0.0), (3507, 0.0), (3508, 0.0), (3510, 0.0), (3512, 0.0), (3513, 0.0), (3514, 0.0), (3515, 0.0), (3517, 0.0), (3519, 0.0), (3520, 0.0), (3524, 0.0), (3525, 0.0), (3526, 0.0), (3527, 0.0), (3528, 0.0), (3529, 0.0), (3530, 0.0), (3531, 0.0), (3532, 0.0), (3533, 0.0), (3534, 0.0), (3535, 0.0), (3536, 0.0), (3538, 0.0), (3540, 0.0), (3541, 0.0), (3542, 0.0), (3543, 0.0), (3544, 0.0), (3546, 0.0), (3547, 0.0), (3549, 0.0), (3550, 0.0), (3551, 0.0), (3555, 0.0), (3557, 0.0), (3558, 0.0), (3559, 0.0), (3560, 0.0), (3561, 0.0), (3562, 0.0), (3563, 0.0), (3564, 0.0), (3565, 0.0), (3567, 0.0), (3569, 0.0), (3570, 0.0), (3571, 0.0), (3572, 0.0), (3573, 0.0), (3578, 0.0), (3580, 0.0), (3581, 0.0), (3582, 0.0), (3583, 0.0), (3585, 0.0), (3586, 0.0), (3587, 0.0), (3588, 0.0), (3589, 0.0), (3590, 0.0), (3592, 0.0), (3593, 0.0), (3595, 0.0), (3596, 0.0), (3597, 0.0), (3599, 0.0), (3600, 0.0), (3601, 0.0), (3602, 0.0), (3604, 0.0), (3605, 0.0), (3608, 0.0), (3609, 0.0), (3610, 0.0), (3611, 0.0), (3612, 0.0), (3615, 0.0), (3619, 0.0), (3621, 0.0), (3625, 0.0), (3627, 0.0), (3628, 0.0), (3629, 0.0), (3630, 0.0), (3632, 0.0), (3633, 0.0), (3634, 0.0), (3635, 0.0), (3637, 0.0), (3639, 0.0), (3640, 0.0), (3641, 0.0), (3643, 0.0), (3644, 0.0), (3645, 0.0), (3646, 0.0), (3648, 0.0), (3649, 0.0), (3651, 0.0), (3652, 0.0), (3653, 0.0), (3654, 0.0), (3656, 0.0), (3657, 0.0), (3660, 0.0), (3661, 0.0), (3662, 0.0), (3663, 0.0), (3665, 0.0), (3666, 0.0), (3670, 0.0), (3673, 0.0), (3674, 0.0), (3675, 0.0), (3676, 0.0), (3677, 0.0), (3678, 0.0), (3679, 0.0), (3680, 0.0), (3681, 0.0), (3682, 0.0), (3683, 0.0), (3685, 0.0), (3686, 0.0), (3687, 0.0), (3690, 0.0), (3691, 0.0), (3692, 0.0), (3693, 0.0), (3694, 0.0), (3697, 0.0), (3699, 0.0), (3700, 0.0), (3701, 0.0), (3702, 0.0), (3703, 0.0), (3705, 0.0), (3708, 0.0), (3709, 0.0), (3710, 0.0), (3711, 0.0), (3712, 0.0), (3713, 0.0), (3716, 0.0), (3717, 0.0), (3718, 0.0), (3719, 0.0), (3720, 0.0), (3721, 0.0), (3723, 0.0), (3727, 0.0), (3729, 0.0), (3730, 0.0), (3731, 0.0), (3732, 0.0), (3734, 0.0), (3735, 0.0), (3736, 0.0), (3738, 0.0), (3739, 0.0), (3742, 0.0), (3743, 0.0), (3745, 0.0), (3746, 0.0), (3747, 0.0), (3748, 0.0), (3751, 0.0), (3753, 0.0), (3754, 0.0), (3759, 0.0), (3761, 0.0), (3762, 0.0), (3766, 0.0), (3768, 0.0), (3769, 0.0), (3770, 0.0), (3771, 0.0), (3772, 0.0), (3773, 0.0), (3776, 0.0), (3778, 0.0), (3779, 0.0), (3780, 0.0), (3781, 0.0), (3783, 0.0), (3784, 0.0), (3785, 0.0), (3786, 0.0), (3787, 0.0), (3788, 0.0), (3789, 0.0), (3790, 0.0), (3793, 0.0), (3794, 0.0), (3796, 0.0), (3797, 0.0), (3801, 0.0), (3803, 0.0), (3805, 0.0), (3807, 0.0), (3808, 0.0), (3809, 0.0), (3810, 0.0), (3811, 0.0), (3812, 0.0), (3814, 0.0), (3817, 0.0), (3818, 0.0), (3821, 0.0), (3823, 0.0), (3824, 0.0), (3825, 0.0), (3827, 0.0), (3829, 0.0), (3831, 0.0), (3832, 0.0), (3834, 0.0), (3835, 0.0), (3837, 0.0), (3838, 0.0), (3839, 0.0), (3840, 0.0), (3843, 0.0), (3844, 0.0), (3847, 0.0), (3850, 0.0), (3853, 0.0), (3855, 0.0), (3859, 0.0), (3860, 0.0), (3861, 0.0), (3862, 0.0), (3863, 0.0), (3866, 0.0), (3867, 0.0), (3868, 0.0), (3870, 0.0), (3871, 0.0), (3872, 0.0), (3874, 0.0), (3875, 0.0), (3876, 0.0), (3877, 0.0), (3879, 0.0), (3880, 0.0), (3883, 0.0), (3885, 0.0), (3887, 0.0), (3888, 0.0), (3889, 0.0), (3890, 0.0), (3891, 0.0), (3892, 0.0), (3897, 0.0), (3898, 0.0), (3900, 0.0), (3902, 0.0), (3904, 0.0), (3905, 0.0), (3906, 0.0), (3908, 0.0), (3909, 0.0), (3910, 0.0), (3911, 0.0), (3913, 0.0), (3914, 0.0), (3915, 0.0), (3916, 0.0), (3917, 0.0), (3918, 0.0), (3921, 0.0), (3922, 0.0), (3923, 0.0), (3924, 0.0), (3926, 0.0), (3927, 0.0), (3930, 0.0), (3932, 0.0), (3933, 0.0), (3934, 0.0), (3938, 0.0), (3939, 0.0), (3944, 0.0), (3946, 0.0), (3947, 0.0), (3948, 0.0), (3950, 0.0), (3951, 0.0), (3952, 0.0), (3953, 0.0), (3954, 0.0), (3956, 0.0), (3957, 0.0), (3958, 0.0), (3959, 0.0), (3960, 0.0), (3961, 0.0), (3963, 0.0), (3964, 0.0), (3967, 0.0), (3968, 0.0), (3970, 0.0), (3971, 0.0), (3973, 0.0), (3974, 0.0), (3975, 0.0), (3977, 0.0), (3978, 0.0), (3979, 0.0), (3980, 0.0), (3981, 0.0), (3983, 0.0), (3984, 0.0), (3985, 0.0), (3987, 0.0), (3989, 0.0), (3990, 0.0), (3991, 0.0), (3992, 0.0), (3994, 0.0), (3995, 0.0), (3997, 0.0), (3998, 0.0), (3999, 0.0), (4001, 0.0), (4002, 0.0), (4003, 0.0), (4005, 0.0), (4006, 0.0), (4007, 0.0), (4008, 0.0), (4009, 0.0), (4011, 0.0), (4014, 0.0), (4017, 0.0), (4018, 0.0), (4019, 0.0), (4020, 0.0), (4021, 0.0), (4025, 0.0), (4026, 0.0), (4027, 0.0), (4028, 0.0), (4029, 0.0), (4031, 0.0), (4032, 0.0), (4034, 0.0), (4035, 0.0), (4036, 0.0), (4037, 0.0), (4038, 0.0), (4039, 0.0), (4040, 0.0), (4041, 0.0), (4043, 0.0), (4044, 0.0), (4045, 0.0), (4046, 0.0), (4047, 0.0), (4048, 0.0), (4050, 0.0), (4051, 0.0), (4052, 0.0), (4053, 0.0), (4054, 0.0), (4056, 0.0), (4057, 0.0), (4058, 0.0), (4062, 0.0), (4063, 0.0), (4064, 0.0), (4065, 0.0), (4066, 0.0), (4067, 0.0), (4068, 0.0), (4073, 0.0), (4074, 0.0), (4075, 0.0), (4079, 0.0), (4080, 0.0), (4081, 0.0), (4082, 0.0), (4083, 0.0), (4084, 0.0), (4085, 0.0), (4086, 0.0), (4088, 0.0), (4089, 0.0), (4090, 0.0), (4091, 0.0), (4092, 0.0), (4095, 0.0), (4096, 0.0), (4097, 0.0), (4100, 0.0), (4101, 0.0), (4103, 0.0), (4104, 0.0), (4105, 0.0), (4107, 0.0), (4108, 0.0), (4109, 0.0), (4110, 0.0), (4112, 0.0), (4115, 0.0), (4116, 0.0), (4118, 0.0), (4120, 0.0), (4121, 0.0), (4122, 0.0), (4123, 0.0), (4126, 0.0), (4127, 0.0), (4130, 0.0), (4131, 0.0), (4133, 0.0), (4137, 0.0), (4138, 0.0), (4139, 0.0), (4140, 0.0), (4141, 0.0), (4142, 0.0), (4144, 0.0), (4145, 0.0), (4148, 0.0), (4150, 0.0), (4151, 0.0), (4153, 0.0), (4154, 0.0), (4156, 0.0), (4157, 0.0), (4159, 0.0), (4162, 0.0), (4163, 0.0), (4164, 0.0), (4165, 0.0), (4166, 0.0), (4168, 0.0), (4169, 0.0), (4170, 0.0), (4173, 0.0), (4174, 0.0), (4177, 0.0), (4178, 0.0), (4179, 0.0), (4180, 0.0), (4182, 0.0), (4183, 0.0), (4184, 0.0), (4185, 0.0), (4186, 0.0), (4188, 0.0), (4191, 0.0), (4192, 0.0), (4194, 0.0), (4195, 0.0), (4196, 0.0), (4197, 0.0), (4198, 0.0), (4202, 0.0), (4204, 0.0), (4205, 0.0), (4206, 0.0), (4207, 0.0), (4208, 0.0), (4209, 0.0), (4210, 0.0), (4211, 0.0), (4212, 0.0), (4213, 0.0), (4214, 0.0), (4217, 0.0), (4218, 0.0), (4221, 0.0), (4222, 0.0), (4223, 0.0), (4225, 0.0), (4226, 0.0), (4227, 0.0), (4228, 0.0), (4229, 0.0), (4231, 0.0), (4234, 0.0), (4235, 0.0), (4236, 0.0), (4237, 0.0), (4239, 0.0), (4241, 0.0), (4242, 0.0), (4243, 0.0), (4244, 0.0), (4245, 0.0), (4247, 0.0), (4248, 0.0), (4249, 0.0), (4250, 0.0), (4252, 0.0), (4253, 0.0), (4254, 0.0), (4255, 0.0), (4257, 0.0), (4260, 0.0), (4262, 0.0), (4265, 0.0), (4267, 0.0), (4268, 0.0), (4270, 0.0), (4271, 0.0), (4272, 0.0), (4273, 0.0), (4274, 0.0), (4276, 0.0), (4278, 0.0), (4279, 0.0), (4280, 0.0), (4281, 0.0), (4283, 0.0), (4284, 0.0), (4285, 0.0), (4286, 0.0), (4287, 0.0), (4289, 0.0), (4292, 0.0), (4293, 0.0), (4295, 0.0), (4296, 0.0), (4297, 0.0), (4300, 0.0), (4302, 0.0), (4303, 0.0), (4304, 0.0), (4305, 0.0), (4306, 0.0), (4308, 0.0), (4309, 0.0), (4310, 0.0), (4311, 0.0), (4313, 0.0), (4314, 0.0), (4317, 0.0), (4318, 0.0), (4319, 0.0), (4320, 0.0), (4321, 0.0), (4322, 0.0), (4323, 0.0), (4324, 0.0), (4328, 0.0), (4329, 0.0), (4330, 0.0), (4333, 0.0), (4334, 0.0), (4335, 0.0), (4336, 0.0), (4337, 0.0), (4338, 0.0), (4341, 0.0), (4342, 0.0), (4343, 0.0), (4345, 0.0), (4346, 0.0), (4347, 0.0), (4348, 0.0), (4350, 0.0), (4352, 0.0), (4354, 0.0), (4355, 0.0), (4356, 0.0), (4357, 0.0), (4358, 0.0), (4359, 0.0), (4360, 0.0), (4361, 0.0), (4362, 0.0), (4363, 0.0), (4365, 0.0), (4366, 0.0), (4367, 0.0), (4369, 0.0), (4370, 0.0), (4372, 0.0), (4373, 0.0), (4374, 0.0), (4377, 0.0), (4379, 0.0), (4381, 0.0), (4382, 0.0), (4383, 0.0), (4384, 0.0), (4385, 0.0), (4386, 0.0), (4387, 0.0), (4389, 0.0), (4390, 0.0), (4391, 0.0), (4393, 0.0), (4396, 0.0), (4397, 0.0), (4398, 0.0), (4400, 0.0), (4403, 0.0), (4404, 0.0), (4405, 0.0), (4406, 0.0), (4409, 0.0), (4410, 0.0), (4411, 0.0), (4412, 0.0), (4414, 0.0), (4415, 0.0), (4416, 0.0), (4417, 0.0), (4418, 0.0), (4419, 0.0), (4420, 0.0), (4421, 0.0), (4422, 0.0), (4423, 0.0), (4424, 0.0), (4426, 0.0), (4428, 0.0), (4430, 0.0), (4431, 0.0), (4432, 0.0), (4433, 0.0), (4434, 0.0), (4435, 0.0), (4436, 0.0), (4437, 0.0), (4438, 0.0), (4439, 0.0), (4442, 0.0), (4444, 0.0), (4445, 0.0), (4446, 0.0), (4447, 0.0), (4448, 0.0), (4451, 0.0), (4452, 0.0), (4454, 0.0), (4455, 0.0), (4456, 0.0), (4458, 0.0), (4459, 0.0), (4461, 0.0), (4462, 0.0), (4464, 0.0), (4466, 0.0), (4467, 0.0), (4468, 0.0), (4469, 0.0), (4470, 0.0), (4471, 0.0), (4472, 0.0), (4473, 0.0), (4474, 0.0), (4475, 0.0), (4476, 0.0), (4477, 0.0), (4478, 0.0), (4479, 0.0), (4481, 0.0), (4483, 0.0), (4484, 0.0), (4485, 0.0), (4488, 0.0), (4490, 0.0), (4491, 0.0), (4492, 0.0), (4493, 0.0), (4494, 0.0), (4495, 0.0), (4496, 0.0), (4497, 0.0), (4498, 0.0), (4500, 0.0), (4502, 0.0), (4503, 0.0), (4504, 0.0), (4505, 0.0), (4506, 0.0), (4508, 0.0), (4510, 0.0), (4511, 0.0), (4512, 0.0), (4513, 0.0), (4514, 0.0), (4515, 0.0), (4516, 0.0), (4517, 0.0), (4518, 0.0), (4519, 0.0), (4520, 0.0), (4521, 0.0), (4522, 0.0), (4523, 0.0), (4524, 0.0), (4525, 0.0), (4526, 0.0), (4527, 0.0), (4528, 0.0), (4529, 0.0), (4530, 0.0), (4531, 0.0), (4532, 0.0), (4533, 0.0), (4534, 0.0), (4536, 0.0), (4537, 0.0), (4540, 0.0), (4541, 0.0), (4542, 0.0), (4543, 0.0), (4544, 0.0), (4545, 0.0), (4547, 0.0), (4548, 0.0), (4550, 0.0), (4551, 0.0), (4552, 0.0), (4553, 0.0), (4555, 0.0), (4556, 0.0), (4558, 0.0), (4559, 0.0), (4560, 0.0), (4561, 0.0), (4562, 0.0), (4564, 0.0), (4566, 0.0), (4567, 0.0), (4568, 0.0), (4569, 0.0), (4570, 0.0), (4571, 0.0), (4572, 0.0), (4574, 0.0), (4575, 0.0), (4577, 0.0), (4578, 0.0), (4580, 0.0), (4581, 0.0), (4582, 0.0), (4584, 0.0), (4585, 0.0), (4586, 0.0), (4587, 0.0), (4588, 0.0), (4589, 0.0), (4590, 0.0), (4591, 0.0), (4594, 0.0), (4596, 0.0), (4597, 0.0), (4598, 0.0), (4600, 0.0), (4601, 0.0), (4602, 0.0), (4603, 0.0), (4605, 0.0), (4606, 0.0), (4607, 0.0), (4609, 0.0), (4611, 0.0), (4612, 0.0), (4613, 0.0), (4614, 0.0), (4615, 0.0), (4616, 0.0), (4617, 0.0), (4618, 0.0), (4619, 0.0), (4622, 0.0), (4624, 0.0), (4625, 0.0), (4628, 0.0), (4629, 0.0), (4633, 0.0), (4634, 0.0), (4635, 0.0), (4636, 0.0), (4637, 0.0), (4639, 0.0), (4640, 0.0), (4641, 0.0), (4643, 0.0), (4644, 0.0), (4645, 0.0), (4646, 0.0), (4648, 0.0), (4650, 0.0), (4652, 0.0), (4653, 0.0), (4655, 0.0), (4656, 0.0), (4657, 0.0), (4658, 0.0), (4659, 0.0), (4660, 0.0), (4661, 0.0), (4662, 0.0), (4663, 0.0), (4666, 0.0), (4667, 0.0), (4668, 0.0), (4671, 0.0), (4673, 0.0), (4674, 0.0), (4676, 0.0), (4677, 0.0), (4678, 0.0), (4679, 0.0), (4680, 0.0), (4681, 0.0), (4682, 0.0), (4683, 0.0), (4684, 0.0), (4685, 0.0), (4686, 0.0), (4687, 0.0), (4689, 0.0), (4690, 0.0), (4692, 0.0), (4693, 0.0), (4695, 0.0), (4697, 0.0), (4698, 0.0), (4699, 0.0), (4700, 0.0), (4702, 0.0), (4703, 0.0), (4704, 0.0), (4705, 0.0), (4706, 0.0), (4707, 0.0), (4709, 0.0), (4710, 0.0), (4711, 0.0), (4712, 0.0), (4713, 0.0), (4714, 0.0), (4715, 0.0), (4716, 0.0), (4717, 0.0), (4718, 0.0), (4719, 0.0), (4720, 0.0), (4721, 0.0), (4723, 0.0), (4725, 0.0), (4729, 0.0), (4730, 0.0), (4731, 0.0), (4732, 0.0), (4733, 0.0), (4735, 0.0), (4736, 0.0), (4737, 0.0), (4738, 0.0), (4739, 0.0), (4740, 0.0), (4741, 0.0), (4742, 0.0), (4743, 0.0), (4744, 0.0), (4745, 0.0), (4746, 0.0), (4747, 0.0), (4748, 0.0), (4749, 0.0), (4750, 0.0), (4751, 0.0), (4752, 0.0), (4753, 0.0), (4754, 0.0), (4755, 0.0), (4757, 0.0), (4759, 0.0), (4761, 0.0), (4762, 0.0), (4763, 0.0), (4764, 0.0), (4765, 0.0), (4767, 0.0), (4768, 0.0), (4770, 0.0), (4773, 0.0), (4775, 0.0), (4776, 0.0), (4777, 0.0), (4780, 0.0), (4781, 0.0), (4782, 0.0), (4783, 0.0), (4784, 0.0), (4785, 0.0), (4786, 0.0), (4788, 0.0), (4789, 0.0), (4790, 0.0), (4791, 0.0), (4792, 0.0), (4793, 0.0), (4794, 0.0), (4795, 0.0), (4796, 0.0), (4797, 0.0), (4799, 0.0), (4800, 0.0), (4801, 0.0), (4802, 0.0)]\n"
     ]
    }
   ],
   "source": [
    "sorted_similar_movies = sorted(similarity_score, key = lambda x:x[1], reverse = True) \n",
    "print(sorted_similar_movies)"
   ]
  },
  {
   "cell_type": "markdown",
   "id": "84346e47",
   "metadata": {},
   "source": [
    "#### `Step 7` Print the name of similar movies based on the index"
   ]
  },
  {
   "cell_type": "code",
   "execution_count": 45,
   "id": "c298667b",
   "metadata": {},
   "outputs": [
    {
     "name": "stdout",
     "output_type": "stream",
     "text": [
      "Movies suggested for you : \n",
      "\n",
      "1 . Spider-Man\n",
      "2 . Spider-Man 2\n",
      "3 . Spider-Man 3\n",
      "4 . The Notebook\n",
      "5 . The Ice Storm\n",
      "6 . Seabiscuit\n",
      "7 . Oz: The Great and Powerful\n",
      "8 . Finding Nemo\n",
      "9 . Clerks II\n",
      "10 . Brothers\n",
      "11 . Bambi\n",
      "12 . Horrible Bosses\n",
      "13 . Drag Me to Hell\n",
      "14 . Hancock\n",
      "15 . The Count of Monte Cristo\n",
      "16 . In Good Company\n",
      "17 . Daybreakers\n",
      "18 . Clear and Present Danger\n",
      "19 . The Good German\n",
      "20 . Labor Day\n",
      "21 . Escape from L.A.\n",
      "22 . Drop Dead Gorgeous\n",
      "23 . The Queen\n",
      "24 . Highlander: Endgame\n",
      "25 . Out of the Furnace\n",
      "26 . Wimbledon\n",
      "27 . Scary Movie 3\n",
      "28 . The Life Aquatic with Steve Zissou\n",
      "29 . The Great Gatsby\n"
     ]
    }
   ],
   "source": [
    "print('Movies suggested for you : \\n')\n",
    "\n",
    "i = 1\n",
    "\n",
    "for movie in sorted_similar_movies:\n",
    "    index = movie[0]\n",
    "    title_from_index = movies_data[movies_data.index==index]['title'].values[0]\n",
    "    if (i<30):\n",
    "        print(i, '.',title_from_index)\n",
    "        i+=1"
   ]
  },
  {
   "cell_type": "markdown",
   "id": "1350f06a",
   "metadata": {},
   "source": [
    "## 7) Movie Recommendation System Demonstration\n",
    "---"
   ]
  },
  {
   "cell_type": "code",
   "execution_count": 46,
   "id": "b286bacb",
   "metadata": {},
   "outputs": [
    {
     "name": "stdout",
     "output_type": "stream",
     "text": [
      " Enter your favourite movie name : Iron man\n",
      "Movies suggested for you : \n",
      "\n",
      "1 . Iron Man\n",
      "2 . Iron Man 2\n",
      "3 . Iron Man 3\n",
      "4 . Avengers: Age of Ultron\n",
      "5 . The Avengers\n",
      "6 . Captain America: Civil War\n",
      "7 . Captain America: The Winter Soldier\n",
      "8 . Ant-Man\n",
      "9 . X-Men\n",
      "10 . Made\n",
      "11 . X2\n",
      "12 . X-Men: Apocalypse\n",
      "13 . Deadpool\n",
      "14 . The Incredible Hulk\n",
      "15 . X-Men: First Class\n",
      "16 . The Helix... Loaded\n",
      "17 . Kick-Ass 2\n",
      "18 . Thor: The Dark World\n",
      "19 . X-Men: The Last Stand\n",
      "20 . X-Men: Days of Future Past\n",
      "21 . Man of Steel\n",
      "22 . Duets\n",
      "23 . Mortdecai\n",
      "24 . Captain America: The First Avenger\n",
      "25 . Superman II\n",
      "26 . The Last Airbender\n",
      "27 . Southland Tales\n",
      "28 . Guardians of the Galaxy\n",
      "29 . The Good Night\n"
     ]
    }
   ],
   "source": [
    "movie_name = input(' Enter your favourite movie name : ')\n",
    "\n",
    "list_of_all_titles = movies_data['title'].tolist()\n",
    "\n",
    "find_close_match = difflib.get_close_matches(movie_name, list_of_all_titles)\n",
    "\n",
    "close_match = find_close_match[0]\n",
    "\n",
    "index_of_the_movie = movies_data[movies_data.title == close_match]['index'].values[0]\n",
    "\n",
    "similarity_score = list(enumerate(similarity[index_of_the_movie]))\n",
    "\n",
    "sorted_similar_movies = sorted(similarity_score, key = lambda x:x[1], reverse = True) \n",
    "\n",
    "print('Movies suggested for you : \\n')\n",
    "\n",
    "i = 1\n",
    "\n",
    "for movie in sorted_similar_movies:\n",
    "    index = movie[0]\n",
    "    title_from_index = movies_data[movies_data.index==index]['title'].values[0]\n",
    "    if (i<30):\n",
    "        print(i, '.',title_from_index)\n",
    "        i+=1"
   ]
  }
 ],
 "metadata": {
  "kernelspec": {
   "display_name": "Python [conda env:NLP39]",
   "language": "python",
   "name": "conda-env-NLP39-py"
  },
  "language_info": {
   "codemirror_mode": {
    "name": "ipython",
    "version": 3
   },
   "file_extension": ".py",
   "mimetype": "text/x-python",
   "name": "python",
   "nbconvert_exporter": "python",
   "pygments_lexer": "ipython3",
   "version": "3.8.0"
  }
 },
 "nbformat": 4,
 "nbformat_minor": 5
}
